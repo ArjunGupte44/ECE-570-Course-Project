{
  "nbformat": 4,
  "nbformat_minor": 0,
  "metadata": {
    "colab": {
      "provenance": [],
      "machine_shape": "hm",
      "gpuType": "A100"
    },
    "kernelspec": {
      "name": "python3",
      "display_name": "Python 3"
    },
    "language_info": {
      "name": "python"
    },
    "accelerator": "GPU",
    "widgets": {
      "application/vnd.jupyter.widget-state+json": {
        "5dacbba26b3f4d19a7c03dc6d2d289bc": {
          "model_module": "@jupyter-widgets/controls",
          "model_name": "VBoxModel",
          "model_module_version": "1.5.0",
          "state": {
            "_dom_classes": [],
            "_model_module": "@jupyter-widgets/controls",
            "_model_module_version": "1.5.0",
            "_model_name": "VBoxModel",
            "_view_count": null,
            "_view_module": "@jupyter-widgets/controls",
            "_view_module_version": "1.5.0",
            "_view_name": "VBoxView",
            "box_style": "",
            "children": [
              "IPY_MODEL_8d42dcbf6dfc4b8399df9fcca46b773c",
              "IPY_MODEL_5f0b476998224a4c9a639f1af387e1b8",
              "IPY_MODEL_5966df0823744aa5bd4acab80f402787",
              "IPY_MODEL_7641e00999d24f629dcad9d0fca3ea97"
            ],
            "layout": "IPY_MODEL_24cad20728fa4d1b8612039c377b4bcc"
          }
        },
        "621d4445252c40fdb46be39ea368c74d": {
          "model_module": "@jupyter-widgets/controls",
          "model_name": "HTMLModel",
          "model_module_version": "1.5.0",
          "state": {
            "_dom_classes": [],
            "_model_module": "@jupyter-widgets/controls",
            "_model_module_version": "1.5.0",
            "_model_name": "HTMLModel",
            "_view_count": null,
            "_view_module": "@jupyter-widgets/controls",
            "_view_module_version": "1.5.0",
            "_view_name": "HTMLView",
            "description": "",
            "description_tooltip": null,
            "layout": "IPY_MODEL_7486a2d8664d485685429df35ab92983",
            "placeholder": "​",
            "style": "IPY_MODEL_80c1c50cf4ac41068aa785ff69b767d1",
            "value": "<center> <img\nsrc=https://huggingface.co/front/assets/huggingface_logo-noborder.svg\nalt='Hugging Face'> <br> Copy a token from <a\nhref=\"https://huggingface.co/settings/tokens\" target=\"_blank\">your Hugging Face\ntokens page</a> and paste it below. <br> Immediately click login after copying\nyour token or it might be stored in plain text in this notebook file. </center>"
          }
        },
        "5768695418bc4fb2870e91186bbf0168": {
          "model_module": "@jupyter-widgets/controls",
          "model_name": "PasswordModel",
          "model_module_version": "1.5.0",
          "state": {
            "_dom_classes": [],
            "_model_module": "@jupyter-widgets/controls",
            "_model_module_version": "1.5.0",
            "_model_name": "PasswordModel",
            "_view_count": null,
            "_view_module": "@jupyter-widgets/controls",
            "_view_module_version": "1.5.0",
            "_view_name": "PasswordView",
            "continuous_update": true,
            "description": "Token:",
            "description_tooltip": null,
            "disabled": false,
            "layout": "IPY_MODEL_a7e9cd37aa544e9da61161a0a28d642b",
            "placeholder": "​",
            "style": "IPY_MODEL_7cbf4a52a864414aafd61c76b2225fcd",
            "value": ""
          }
        },
        "6bbcbd0ccb6c49db82583e925307eb75": {
          "model_module": "@jupyter-widgets/controls",
          "model_name": "CheckboxModel",
          "model_module_version": "1.5.0",
          "state": {
            "_dom_classes": [],
            "_model_module": "@jupyter-widgets/controls",
            "_model_module_version": "1.5.0",
            "_model_name": "CheckboxModel",
            "_view_count": null,
            "_view_module": "@jupyter-widgets/controls",
            "_view_module_version": "1.5.0",
            "_view_name": "CheckboxView",
            "description": "Add token as git credential?",
            "description_tooltip": null,
            "disabled": false,
            "indent": true,
            "layout": "IPY_MODEL_9f3f79ab18b247e3aafcffca84d0ab23",
            "style": "IPY_MODEL_e10bb2564b044c928b58a40440fe8d09",
            "value": true
          }
        },
        "33480bc06e584c2fb2fc1c06b101f7b5": {
          "model_module": "@jupyter-widgets/controls",
          "model_name": "ButtonModel",
          "model_module_version": "1.5.0",
          "state": {
            "_dom_classes": [],
            "_model_module": "@jupyter-widgets/controls",
            "_model_module_version": "1.5.0",
            "_model_name": "ButtonModel",
            "_view_count": null,
            "_view_module": "@jupyter-widgets/controls",
            "_view_module_version": "1.5.0",
            "_view_name": "ButtonView",
            "button_style": "",
            "description": "Login",
            "disabled": false,
            "icon": "",
            "layout": "IPY_MODEL_e950c1bb3c094c409fdf40a52c585d66",
            "style": "IPY_MODEL_7ccb89c119444360b5d13429ac34f38c",
            "tooltip": ""
          }
        },
        "d5d55d9c90104e069bcd25df43a3e06a": {
          "model_module": "@jupyter-widgets/controls",
          "model_name": "HTMLModel",
          "model_module_version": "1.5.0",
          "state": {
            "_dom_classes": [],
            "_model_module": "@jupyter-widgets/controls",
            "_model_module_version": "1.5.0",
            "_model_name": "HTMLModel",
            "_view_count": null,
            "_view_module": "@jupyter-widgets/controls",
            "_view_module_version": "1.5.0",
            "_view_name": "HTMLView",
            "description": "",
            "description_tooltip": null,
            "layout": "IPY_MODEL_321cdb7157d04b52a57e4f047a604697",
            "placeholder": "​",
            "style": "IPY_MODEL_1b3328c01fd7408fa2a6a5f1ada4a90a",
            "value": "\n<b>Pro Tip:</b> If you don't already have one, you can create a dedicated\n'notebooks' token with 'write' access, that you can then easily reuse for all\nnotebooks. </center>"
          }
        },
        "24cad20728fa4d1b8612039c377b4bcc": {
          "model_module": "@jupyter-widgets/base",
          "model_name": "LayoutModel",
          "model_module_version": "1.2.0",
          "state": {
            "_model_module": "@jupyter-widgets/base",
            "_model_module_version": "1.2.0",
            "_model_name": "LayoutModel",
            "_view_count": null,
            "_view_module": "@jupyter-widgets/base",
            "_view_module_version": "1.2.0",
            "_view_name": "LayoutView",
            "align_content": null,
            "align_items": "center",
            "align_self": null,
            "border": null,
            "bottom": null,
            "display": "flex",
            "flex": null,
            "flex_flow": "column",
            "grid_area": null,
            "grid_auto_columns": null,
            "grid_auto_flow": null,
            "grid_auto_rows": null,
            "grid_column": null,
            "grid_gap": null,
            "grid_row": null,
            "grid_template_areas": null,
            "grid_template_columns": null,
            "grid_template_rows": null,
            "height": null,
            "justify_content": null,
            "justify_items": null,
            "left": null,
            "margin": null,
            "max_height": null,
            "max_width": null,
            "min_height": null,
            "min_width": null,
            "object_fit": null,
            "object_position": null,
            "order": null,
            "overflow": null,
            "overflow_x": null,
            "overflow_y": null,
            "padding": null,
            "right": null,
            "top": null,
            "visibility": null,
            "width": "50%"
          }
        },
        "7486a2d8664d485685429df35ab92983": {
          "model_module": "@jupyter-widgets/base",
          "model_name": "LayoutModel",
          "model_module_version": "1.2.0",
          "state": {
            "_model_module": "@jupyter-widgets/base",
            "_model_module_version": "1.2.0",
            "_model_name": "LayoutModel",
            "_view_count": null,
            "_view_module": "@jupyter-widgets/base",
            "_view_module_version": "1.2.0",
            "_view_name": "LayoutView",
            "align_content": null,
            "align_items": null,
            "align_self": null,
            "border": null,
            "bottom": null,
            "display": null,
            "flex": null,
            "flex_flow": null,
            "grid_area": null,
            "grid_auto_columns": null,
            "grid_auto_flow": null,
            "grid_auto_rows": null,
            "grid_column": null,
            "grid_gap": null,
            "grid_row": null,
            "grid_template_areas": null,
            "grid_template_columns": null,
            "grid_template_rows": null,
            "height": null,
            "justify_content": null,
            "justify_items": null,
            "left": null,
            "margin": null,
            "max_height": null,
            "max_width": null,
            "min_height": null,
            "min_width": null,
            "object_fit": null,
            "object_position": null,
            "order": null,
            "overflow": null,
            "overflow_x": null,
            "overflow_y": null,
            "padding": null,
            "right": null,
            "top": null,
            "visibility": null,
            "width": null
          }
        },
        "80c1c50cf4ac41068aa785ff69b767d1": {
          "model_module": "@jupyter-widgets/controls",
          "model_name": "DescriptionStyleModel",
          "model_module_version": "1.5.0",
          "state": {
            "_model_module": "@jupyter-widgets/controls",
            "_model_module_version": "1.5.0",
            "_model_name": "DescriptionStyleModel",
            "_view_count": null,
            "_view_module": "@jupyter-widgets/base",
            "_view_module_version": "1.2.0",
            "_view_name": "StyleView",
            "description_width": ""
          }
        },
        "a7e9cd37aa544e9da61161a0a28d642b": {
          "model_module": "@jupyter-widgets/base",
          "model_name": "LayoutModel",
          "model_module_version": "1.2.0",
          "state": {
            "_model_module": "@jupyter-widgets/base",
            "_model_module_version": "1.2.0",
            "_model_name": "LayoutModel",
            "_view_count": null,
            "_view_module": "@jupyter-widgets/base",
            "_view_module_version": "1.2.0",
            "_view_name": "LayoutView",
            "align_content": null,
            "align_items": null,
            "align_self": null,
            "border": null,
            "bottom": null,
            "display": null,
            "flex": null,
            "flex_flow": null,
            "grid_area": null,
            "grid_auto_columns": null,
            "grid_auto_flow": null,
            "grid_auto_rows": null,
            "grid_column": null,
            "grid_gap": null,
            "grid_row": null,
            "grid_template_areas": null,
            "grid_template_columns": null,
            "grid_template_rows": null,
            "height": null,
            "justify_content": null,
            "justify_items": null,
            "left": null,
            "margin": null,
            "max_height": null,
            "max_width": null,
            "min_height": null,
            "min_width": null,
            "object_fit": null,
            "object_position": null,
            "order": null,
            "overflow": null,
            "overflow_x": null,
            "overflow_y": null,
            "padding": null,
            "right": null,
            "top": null,
            "visibility": null,
            "width": null
          }
        },
        "7cbf4a52a864414aafd61c76b2225fcd": {
          "model_module": "@jupyter-widgets/controls",
          "model_name": "DescriptionStyleModel",
          "model_module_version": "1.5.0",
          "state": {
            "_model_module": "@jupyter-widgets/controls",
            "_model_module_version": "1.5.0",
            "_model_name": "DescriptionStyleModel",
            "_view_count": null,
            "_view_module": "@jupyter-widgets/base",
            "_view_module_version": "1.2.0",
            "_view_name": "StyleView",
            "description_width": ""
          }
        },
        "9f3f79ab18b247e3aafcffca84d0ab23": {
          "model_module": "@jupyter-widgets/base",
          "model_name": "LayoutModel",
          "model_module_version": "1.2.0",
          "state": {
            "_model_module": "@jupyter-widgets/base",
            "_model_module_version": "1.2.0",
            "_model_name": "LayoutModel",
            "_view_count": null,
            "_view_module": "@jupyter-widgets/base",
            "_view_module_version": "1.2.0",
            "_view_name": "LayoutView",
            "align_content": null,
            "align_items": null,
            "align_self": null,
            "border": null,
            "bottom": null,
            "display": null,
            "flex": null,
            "flex_flow": null,
            "grid_area": null,
            "grid_auto_columns": null,
            "grid_auto_flow": null,
            "grid_auto_rows": null,
            "grid_column": null,
            "grid_gap": null,
            "grid_row": null,
            "grid_template_areas": null,
            "grid_template_columns": null,
            "grid_template_rows": null,
            "height": null,
            "justify_content": null,
            "justify_items": null,
            "left": null,
            "margin": null,
            "max_height": null,
            "max_width": null,
            "min_height": null,
            "min_width": null,
            "object_fit": null,
            "object_position": null,
            "order": null,
            "overflow": null,
            "overflow_x": null,
            "overflow_y": null,
            "padding": null,
            "right": null,
            "top": null,
            "visibility": null,
            "width": null
          }
        },
        "e10bb2564b044c928b58a40440fe8d09": {
          "model_module": "@jupyter-widgets/controls",
          "model_name": "DescriptionStyleModel",
          "model_module_version": "1.5.0",
          "state": {
            "_model_module": "@jupyter-widgets/controls",
            "_model_module_version": "1.5.0",
            "_model_name": "DescriptionStyleModel",
            "_view_count": null,
            "_view_module": "@jupyter-widgets/base",
            "_view_module_version": "1.2.0",
            "_view_name": "StyleView",
            "description_width": ""
          }
        },
        "e950c1bb3c094c409fdf40a52c585d66": {
          "model_module": "@jupyter-widgets/base",
          "model_name": "LayoutModel",
          "model_module_version": "1.2.0",
          "state": {
            "_model_module": "@jupyter-widgets/base",
            "_model_module_version": "1.2.0",
            "_model_name": "LayoutModel",
            "_view_count": null,
            "_view_module": "@jupyter-widgets/base",
            "_view_module_version": "1.2.0",
            "_view_name": "LayoutView",
            "align_content": null,
            "align_items": null,
            "align_self": null,
            "border": null,
            "bottom": null,
            "display": null,
            "flex": null,
            "flex_flow": null,
            "grid_area": null,
            "grid_auto_columns": null,
            "grid_auto_flow": null,
            "grid_auto_rows": null,
            "grid_column": null,
            "grid_gap": null,
            "grid_row": null,
            "grid_template_areas": null,
            "grid_template_columns": null,
            "grid_template_rows": null,
            "height": null,
            "justify_content": null,
            "justify_items": null,
            "left": null,
            "margin": null,
            "max_height": null,
            "max_width": null,
            "min_height": null,
            "min_width": null,
            "object_fit": null,
            "object_position": null,
            "order": null,
            "overflow": null,
            "overflow_x": null,
            "overflow_y": null,
            "padding": null,
            "right": null,
            "top": null,
            "visibility": null,
            "width": null
          }
        },
        "7ccb89c119444360b5d13429ac34f38c": {
          "model_module": "@jupyter-widgets/controls",
          "model_name": "ButtonStyleModel",
          "model_module_version": "1.5.0",
          "state": {
            "_model_module": "@jupyter-widgets/controls",
            "_model_module_version": "1.5.0",
            "_model_name": "ButtonStyleModel",
            "_view_count": null,
            "_view_module": "@jupyter-widgets/base",
            "_view_module_version": "1.2.0",
            "_view_name": "StyleView",
            "button_color": null,
            "font_weight": ""
          }
        },
        "321cdb7157d04b52a57e4f047a604697": {
          "model_module": "@jupyter-widgets/base",
          "model_name": "LayoutModel",
          "model_module_version": "1.2.0",
          "state": {
            "_model_module": "@jupyter-widgets/base",
            "_model_module_version": "1.2.0",
            "_model_name": "LayoutModel",
            "_view_count": null,
            "_view_module": "@jupyter-widgets/base",
            "_view_module_version": "1.2.0",
            "_view_name": "LayoutView",
            "align_content": null,
            "align_items": null,
            "align_self": null,
            "border": null,
            "bottom": null,
            "display": null,
            "flex": null,
            "flex_flow": null,
            "grid_area": null,
            "grid_auto_columns": null,
            "grid_auto_flow": null,
            "grid_auto_rows": null,
            "grid_column": null,
            "grid_gap": null,
            "grid_row": null,
            "grid_template_areas": null,
            "grid_template_columns": null,
            "grid_template_rows": null,
            "height": null,
            "justify_content": null,
            "justify_items": null,
            "left": null,
            "margin": null,
            "max_height": null,
            "max_width": null,
            "min_height": null,
            "min_width": null,
            "object_fit": null,
            "object_position": null,
            "order": null,
            "overflow": null,
            "overflow_x": null,
            "overflow_y": null,
            "padding": null,
            "right": null,
            "top": null,
            "visibility": null,
            "width": null
          }
        },
        "1b3328c01fd7408fa2a6a5f1ada4a90a": {
          "model_module": "@jupyter-widgets/controls",
          "model_name": "DescriptionStyleModel",
          "model_module_version": "1.5.0",
          "state": {
            "_model_module": "@jupyter-widgets/controls",
            "_model_module_version": "1.5.0",
            "_model_name": "DescriptionStyleModel",
            "_view_count": null,
            "_view_module": "@jupyter-widgets/base",
            "_view_module_version": "1.2.0",
            "_view_name": "StyleView",
            "description_width": ""
          }
        },
        "970a709dc5184ad8a60b0e81c52e2a91": {
          "model_module": "@jupyter-widgets/controls",
          "model_name": "LabelModel",
          "model_module_version": "1.5.0",
          "state": {
            "_dom_classes": [],
            "_model_module": "@jupyter-widgets/controls",
            "_model_module_version": "1.5.0",
            "_model_name": "LabelModel",
            "_view_count": null,
            "_view_module": "@jupyter-widgets/controls",
            "_view_module_version": "1.5.0",
            "_view_name": "LabelView",
            "description": "",
            "description_tooltip": null,
            "layout": "IPY_MODEL_dae5006917034df0bad3d25fb24c4a1d",
            "placeholder": "​",
            "style": "IPY_MODEL_b15738f1ee934c41b2b77469870f0c64",
            "value": "Connecting..."
          }
        },
        "dae5006917034df0bad3d25fb24c4a1d": {
          "model_module": "@jupyter-widgets/base",
          "model_name": "LayoutModel",
          "model_module_version": "1.2.0",
          "state": {
            "_model_module": "@jupyter-widgets/base",
            "_model_module_version": "1.2.0",
            "_model_name": "LayoutModel",
            "_view_count": null,
            "_view_module": "@jupyter-widgets/base",
            "_view_module_version": "1.2.0",
            "_view_name": "LayoutView",
            "align_content": null,
            "align_items": null,
            "align_self": null,
            "border": null,
            "bottom": null,
            "display": null,
            "flex": null,
            "flex_flow": null,
            "grid_area": null,
            "grid_auto_columns": null,
            "grid_auto_flow": null,
            "grid_auto_rows": null,
            "grid_column": null,
            "grid_gap": null,
            "grid_row": null,
            "grid_template_areas": null,
            "grid_template_columns": null,
            "grid_template_rows": null,
            "height": null,
            "justify_content": null,
            "justify_items": null,
            "left": null,
            "margin": null,
            "max_height": null,
            "max_width": null,
            "min_height": null,
            "min_width": null,
            "object_fit": null,
            "object_position": null,
            "order": null,
            "overflow": null,
            "overflow_x": null,
            "overflow_y": null,
            "padding": null,
            "right": null,
            "top": null,
            "visibility": null,
            "width": null
          }
        },
        "b15738f1ee934c41b2b77469870f0c64": {
          "model_module": "@jupyter-widgets/controls",
          "model_name": "DescriptionStyleModel",
          "model_module_version": "1.5.0",
          "state": {
            "_model_module": "@jupyter-widgets/controls",
            "_model_module_version": "1.5.0",
            "_model_name": "DescriptionStyleModel",
            "_view_count": null,
            "_view_module": "@jupyter-widgets/base",
            "_view_module_version": "1.2.0",
            "_view_name": "StyleView",
            "description_width": ""
          }
        },
        "8d42dcbf6dfc4b8399df9fcca46b773c": {
          "model_module": "@jupyter-widgets/controls",
          "model_name": "LabelModel",
          "model_module_version": "1.5.0",
          "state": {
            "_dom_classes": [],
            "_model_module": "@jupyter-widgets/controls",
            "_model_module_version": "1.5.0",
            "_model_name": "LabelModel",
            "_view_count": null,
            "_view_module": "@jupyter-widgets/controls",
            "_view_module_version": "1.5.0",
            "_view_name": "LabelView",
            "description": "",
            "description_tooltip": null,
            "layout": "IPY_MODEL_67000cef2bde49c5a760f2a491250ca3",
            "placeholder": "​",
            "style": "IPY_MODEL_fbc1e26b9f194115afc9dd81f6759057",
            "value": "Token is valid (permission: write)."
          }
        },
        "5f0b476998224a4c9a639f1af387e1b8": {
          "model_module": "@jupyter-widgets/controls",
          "model_name": "LabelModel",
          "model_module_version": "1.5.0",
          "state": {
            "_dom_classes": [],
            "_model_module": "@jupyter-widgets/controls",
            "_model_module_version": "1.5.0",
            "_model_name": "LabelModel",
            "_view_count": null,
            "_view_module": "@jupyter-widgets/controls",
            "_view_module_version": "1.5.0",
            "_view_name": "LabelView",
            "description": "",
            "description_tooltip": null,
            "layout": "IPY_MODEL_fde5751c199947c992c789e8792ab31d",
            "placeholder": "​",
            "style": "IPY_MODEL_28b4bde996f5467a8de1e62276a5d92b",
            "value": "Your token has been saved in your configured git credential helpers (store)."
          }
        },
        "5966df0823744aa5bd4acab80f402787": {
          "model_module": "@jupyter-widgets/controls",
          "model_name": "LabelModel",
          "model_module_version": "1.5.0",
          "state": {
            "_dom_classes": [],
            "_model_module": "@jupyter-widgets/controls",
            "_model_module_version": "1.5.0",
            "_model_name": "LabelModel",
            "_view_count": null,
            "_view_module": "@jupyter-widgets/controls",
            "_view_module_version": "1.5.0",
            "_view_name": "LabelView",
            "description": "",
            "description_tooltip": null,
            "layout": "IPY_MODEL_bc1730fe29524ffc9d9ced756c333d1d",
            "placeholder": "​",
            "style": "IPY_MODEL_1062070c7bf646b5b38dd1db697ed3b7",
            "value": "Your token has been saved to /root/.cache/huggingface/token"
          }
        },
        "7641e00999d24f629dcad9d0fca3ea97": {
          "model_module": "@jupyter-widgets/controls",
          "model_name": "LabelModel",
          "model_module_version": "1.5.0",
          "state": {
            "_dom_classes": [],
            "_model_module": "@jupyter-widgets/controls",
            "_model_module_version": "1.5.0",
            "_model_name": "LabelModel",
            "_view_count": null,
            "_view_module": "@jupyter-widgets/controls",
            "_view_module_version": "1.5.0",
            "_view_name": "LabelView",
            "description": "",
            "description_tooltip": null,
            "layout": "IPY_MODEL_695ca43336b8419b8112ca802f69aab0",
            "placeholder": "​",
            "style": "IPY_MODEL_8d543cc2c5cb43e3b4ae51f7f856dfab",
            "value": "Login successful"
          }
        },
        "67000cef2bde49c5a760f2a491250ca3": {
          "model_module": "@jupyter-widgets/base",
          "model_name": "LayoutModel",
          "model_module_version": "1.2.0",
          "state": {
            "_model_module": "@jupyter-widgets/base",
            "_model_module_version": "1.2.0",
            "_model_name": "LayoutModel",
            "_view_count": null,
            "_view_module": "@jupyter-widgets/base",
            "_view_module_version": "1.2.0",
            "_view_name": "LayoutView",
            "align_content": null,
            "align_items": null,
            "align_self": null,
            "border": null,
            "bottom": null,
            "display": null,
            "flex": null,
            "flex_flow": null,
            "grid_area": null,
            "grid_auto_columns": null,
            "grid_auto_flow": null,
            "grid_auto_rows": null,
            "grid_column": null,
            "grid_gap": null,
            "grid_row": null,
            "grid_template_areas": null,
            "grid_template_columns": null,
            "grid_template_rows": null,
            "height": null,
            "justify_content": null,
            "justify_items": null,
            "left": null,
            "margin": null,
            "max_height": null,
            "max_width": null,
            "min_height": null,
            "min_width": null,
            "object_fit": null,
            "object_position": null,
            "order": null,
            "overflow": null,
            "overflow_x": null,
            "overflow_y": null,
            "padding": null,
            "right": null,
            "top": null,
            "visibility": null,
            "width": null
          }
        },
        "fbc1e26b9f194115afc9dd81f6759057": {
          "model_module": "@jupyter-widgets/controls",
          "model_name": "DescriptionStyleModel",
          "model_module_version": "1.5.0",
          "state": {
            "_model_module": "@jupyter-widgets/controls",
            "_model_module_version": "1.5.0",
            "_model_name": "DescriptionStyleModel",
            "_view_count": null,
            "_view_module": "@jupyter-widgets/base",
            "_view_module_version": "1.2.0",
            "_view_name": "StyleView",
            "description_width": ""
          }
        },
        "fde5751c199947c992c789e8792ab31d": {
          "model_module": "@jupyter-widgets/base",
          "model_name": "LayoutModel",
          "model_module_version": "1.2.0",
          "state": {
            "_model_module": "@jupyter-widgets/base",
            "_model_module_version": "1.2.0",
            "_model_name": "LayoutModel",
            "_view_count": null,
            "_view_module": "@jupyter-widgets/base",
            "_view_module_version": "1.2.0",
            "_view_name": "LayoutView",
            "align_content": null,
            "align_items": null,
            "align_self": null,
            "border": null,
            "bottom": null,
            "display": null,
            "flex": null,
            "flex_flow": null,
            "grid_area": null,
            "grid_auto_columns": null,
            "grid_auto_flow": null,
            "grid_auto_rows": null,
            "grid_column": null,
            "grid_gap": null,
            "grid_row": null,
            "grid_template_areas": null,
            "grid_template_columns": null,
            "grid_template_rows": null,
            "height": null,
            "justify_content": null,
            "justify_items": null,
            "left": null,
            "margin": null,
            "max_height": null,
            "max_width": null,
            "min_height": null,
            "min_width": null,
            "object_fit": null,
            "object_position": null,
            "order": null,
            "overflow": null,
            "overflow_x": null,
            "overflow_y": null,
            "padding": null,
            "right": null,
            "top": null,
            "visibility": null,
            "width": null
          }
        },
        "28b4bde996f5467a8de1e62276a5d92b": {
          "model_module": "@jupyter-widgets/controls",
          "model_name": "DescriptionStyleModel",
          "model_module_version": "1.5.0",
          "state": {
            "_model_module": "@jupyter-widgets/controls",
            "_model_module_version": "1.5.0",
            "_model_name": "DescriptionStyleModel",
            "_view_count": null,
            "_view_module": "@jupyter-widgets/base",
            "_view_module_version": "1.2.0",
            "_view_name": "StyleView",
            "description_width": ""
          }
        },
        "bc1730fe29524ffc9d9ced756c333d1d": {
          "model_module": "@jupyter-widgets/base",
          "model_name": "LayoutModel",
          "model_module_version": "1.2.0",
          "state": {
            "_model_module": "@jupyter-widgets/base",
            "_model_module_version": "1.2.0",
            "_model_name": "LayoutModel",
            "_view_count": null,
            "_view_module": "@jupyter-widgets/base",
            "_view_module_version": "1.2.0",
            "_view_name": "LayoutView",
            "align_content": null,
            "align_items": null,
            "align_self": null,
            "border": null,
            "bottom": null,
            "display": null,
            "flex": null,
            "flex_flow": null,
            "grid_area": null,
            "grid_auto_columns": null,
            "grid_auto_flow": null,
            "grid_auto_rows": null,
            "grid_column": null,
            "grid_gap": null,
            "grid_row": null,
            "grid_template_areas": null,
            "grid_template_columns": null,
            "grid_template_rows": null,
            "height": null,
            "justify_content": null,
            "justify_items": null,
            "left": null,
            "margin": null,
            "max_height": null,
            "max_width": null,
            "min_height": null,
            "min_width": null,
            "object_fit": null,
            "object_position": null,
            "order": null,
            "overflow": null,
            "overflow_x": null,
            "overflow_y": null,
            "padding": null,
            "right": null,
            "top": null,
            "visibility": null,
            "width": null
          }
        },
        "1062070c7bf646b5b38dd1db697ed3b7": {
          "model_module": "@jupyter-widgets/controls",
          "model_name": "DescriptionStyleModel",
          "model_module_version": "1.5.0",
          "state": {
            "_model_module": "@jupyter-widgets/controls",
            "_model_module_version": "1.5.0",
            "_model_name": "DescriptionStyleModel",
            "_view_count": null,
            "_view_module": "@jupyter-widgets/base",
            "_view_module_version": "1.2.0",
            "_view_name": "StyleView",
            "description_width": ""
          }
        },
        "695ca43336b8419b8112ca802f69aab0": {
          "model_module": "@jupyter-widgets/base",
          "model_name": "LayoutModel",
          "model_module_version": "1.2.0",
          "state": {
            "_model_module": "@jupyter-widgets/base",
            "_model_module_version": "1.2.0",
            "_model_name": "LayoutModel",
            "_view_count": null,
            "_view_module": "@jupyter-widgets/base",
            "_view_module_version": "1.2.0",
            "_view_name": "LayoutView",
            "align_content": null,
            "align_items": null,
            "align_self": null,
            "border": null,
            "bottom": null,
            "display": null,
            "flex": null,
            "flex_flow": null,
            "grid_area": null,
            "grid_auto_columns": null,
            "grid_auto_flow": null,
            "grid_auto_rows": null,
            "grid_column": null,
            "grid_gap": null,
            "grid_row": null,
            "grid_template_areas": null,
            "grid_template_columns": null,
            "grid_template_rows": null,
            "height": null,
            "justify_content": null,
            "justify_items": null,
            "left": null,
            "margin": null,
            "max_height": null,
            "max_width": null,
            "min_height": null,
            "min_width": null,
            "object_fit": null,
            "object_position": null,
            "order": null,
            "overflow": null,
            "overflow_x": null,
            "overflow_y": null,
            "padding": null,
            "right": null,
            "top": null,
            "visibility": null,
            "width": null
          }
        },
        "8d543cc2c5cb43e3b4ae51f7f856dfab": {
          "model_module": "@jupyter-widgets/controls",
          "model_name": "DescriptionStyleModel",
          "model_module_version": "1.5.0",
          "state": {
            "_model_module": "@jupyter-widgets/controls",
            "_model_module_version": "1.5.0",
            "_model_name": "DescriptionStyleModel",
            "_view_count": null,
            "_view_module": "@jupyter-widgets/base",
            "_view_module_version": "1.2.0",
            "_view_name": "StyleView",
            "description_width": ""
          }
        },
        "5309880965ff461aa0735eb10e7e93f7": {
          "model_module": "@jupyter-widgets/controls",
          "model_name": "HBoxModel",
          "model_module_version": "1.5.0",
          "state": {
            "_dom_classes": [],
            "_model_module": "@jupyter-widgets/controls",
            "_model_module_version": "1.5.0",
            "_model_name": "HBoxModel",
            "_view_count": null,
            "_view_module": "@jupyter-widgets/controls",
            "_view_module_version": "1.5.0",
            "_view_name": "HBoxView",
            "box_style": "",
            "children": [
              "IPY_MODEL_db2249c15fd64159877a238b7c9e19db",
              "IPY_MODEL_5a93dda6067c42adbf429fe3f6e56c15",
              "IPY_MODEL_86ce25e5e8c94d7abb3ad060122ced42"
            ],
            "layout": "IPY_MODEL_ac3bf8e713e448fa8960eee16b6ffb12"
          }
        },
        "db2249c15fd64159877a238b7c9e19db": {
          "model_module": "@jupyter-widgets/controls",
          "model_name": "HTMLModel",
          "model_module_version": "1.5.0",
          "state": {
            "_dom_classes": [],
            "_model_module": "@jupyter-widgets/controls",
            "_model_module_version": "1.5.0",
            "_model_name": "HTMLModel",
            "_view_count": null,
            "_view_module": "@jupyter-widgets/controls",
            "_view_module_version": "1.5.0",
            "_view_name": "HTMLView",
            "description": "",
            "description_tooltip": null,
            "layout": "IPY_MODEL_3073dce3c6ea4e4e84c06e45aa1366a7",
            "placeholder": "​",
            "style": "IPY_MODEL_4357533a36074ff78f505856200d6a52",
            "value": "Uploading the dataset shards: 100%"
          }
        },
        "5a93dda6067c42adbf429fe3f6e56c15": {
          "model_module": "@jupyter-widgets/controls",
          "model_name": "FloatProgressModel",
          "model_module_version": "1.5.0",
          "state": {
            "_dom_classes": [],
            "_model_module": "@jupyter-widgets/controls",
            "_model_module_version": "1.5.0",
            "_model_name": "FloatProgressModel",
            "_view_count": null,
            "_view_module": "@jupyter-widgets/controls",
            "_view_module_version": "1.5.0",
            "_view_name": "ProgressView",
            "bar_style": "success",
            "description": "",
            "description_tooltip": null,
            "layout": "IPY_MODEL_41200617b3d6431e88c935ba3c79bec8",
            "max": 1,
            "min": 0,
            "orientation": "horizontal",
            "style": "IPY_MODEL_1b25f12acd9f4c7cb0d73859c1ad8da4",
            "value": 1
          }
        },
        "86ce25e5e8c94d7abb3ad060122ced42": {
          "model_module": "@jupyter-widgets/controls",
          "model_name": "HTMLModel",
          "model_module_version": "1.5.0",
          "state": {
            "_dom_classes": [],
            "_model_module": "@jupyter-widgets/controls",
            "_model_module_version": "1.5.0",
            "_model_name": "HTMLModel",
            "_view_count": null,
            "_view_module": "@jupyter-widgets/controls",
            "_view_module_version": "1.5.0",
            "_view_name": "HTMLView",
            "description": "",
            "description_tooltip": null,
            "layout": "IPY_MODEL_4acad1f5a3884d10b38ed1dadce7e8e3",
            "placeholder": "​",
            "style": "IPY_MODEL_ad52362f0ec445dfa7287a5d13c31970",
            "value": " 1/1 [00:01&lt;00:00,  1.79s/it]"
          }
        },
        "ac3bf8e713e448fa8960eee16b6ffb12": {
          "model_module": "@jupyter-widgets/base",
          "model_name": "LayoutModel",
          "model_module_version": "1.2.0",
          "state": {
            "_model_module": "@jupyter-widgets/base",
            "_model_module_version": "1.2.0",
            "_model_name": "LayoutModel",
            "_view_count": null,
            "_view_module": "@jupyter-widgets/base",
            "_view_module_version": "1.2.0",
            "_view_name": "LayoutView",
            "align_content": null,
            "align_items": null,
            "align_self": null,
            "border": null,
            "bottom": null,
            "display": null,
            "flex": null,
            "flex_flow": null,
            "grid_area": null,
            "grid_auto_columns": null,
            "grid_auto_flow": null,
            "grid_auto_rows": null,
            "grid_column": null,
            "grid_gap": null,
            "grid_row": null,
            "grid_template_areas": null,
            "grid_template_columns": null,
            "grid_template_rows": null,
            "height": null,
            "justify_content": null,
            "justify_items": null,
            "left": null,
            "margin": null,
            "max_height": null,
            "max_width": null,
            "min_height": null,
            "min_width": null,
            "object_fit": null,
            "object_position": null,
            "order": null,
            "overflow": null,
            "overflow_x": null,
            "overflow_y": null,
            "padding": null,
            "right": null,
            "top": null,
            "visibility": null,
            "width": null
          }
        },
        "3073dce3c6ea4e4e84c06e45aa1366a7": {
          "model_module": "@jupyter-widgets/base",
          "model_name": "LayoutModel",
          "model_module_version": "1.2.0",
          "state": {
            "_model_module": "@jupyter-widgets/base",
            "_model_module_version": "1.2.0",
            "_model_name": "LayoutModel",
            "_view_count": null,
            "_view_module": "@jupyter-widgets/base",
            "_view_module_version": "1.2.0",
            "_view_name": "LayoutView",
            "align_content": null,
            "align_items": null,
            "align_self": null,
            "border": null,
            "bottom": null,
            "display": null,
            "flex": null,
            "flex_flow": null,
            "grid_area": null,
            "grid_auto_columns": null,
            "grid_auto_flow": null,
            "grid_auto_rows": null,
            "grid_column": null,
            "grid_gap": null,
            "grid_row": null,
            "grid_template_areas": null,
            "grid_template_columns": null,
            "grid_template_rows": null,
            "height": null,
            "justify_content": null,
            "justify_items": null,
            "left": null,
            "margin": null,
            "max_height": null,
            "max_width": null,
            "min_height": null,
            "min_width": null,
            "object_fit": null,
            "object_position": null,
            "order": null,
            "overflow": null,
            "overflow_x": null,
            "overflow_y": null,
            "padding": null,
            "right": null,
            "top": null,
            "visibility": null,
            "width": null
          }
        },
        "4357533a36074ff78f505856200d6a52": {
          "model_module": "@jupyter-widgets/controls",
          "model_name": "DescriptionStyleModel",
          "model_module_version": "1.5.0",
          "state": {
            "_model_module": "@jupyter-widgets/controls",
            "_model_module_version": "1.5.0",
            "_model_name": "DescriptionStyleModel",
            "_view_count": null,
            "_view_module": "@jupyter-widgets/base",
            "_view_module_version": "1.2.0",
            "_view_name": "StyleView",
            "description_width": ""
          }
        },
        "41200617b3d6431e88c935ba3c79bec8": {
          "model_module": "@jupyter-widgets/base",
          "model_name": "LayoutModel",
          "model_module_version": "1.2.0",
          "state": {
            "_model_module": "@jupyter-widgets/base",
            "_model_module_version": "1.2.0",
            "_model_name": "LayoutModel",
            "_view_count": null,
            "_view_module": "@jupyter-widgets/base",
            "_view_module_version": "1.2.0",
            "_view_name": "LayoutView",
            "align_content": null,
            "align_items": null,
            "align_self": null,
            "border": null,
            "bottom": null,
            "display": null,
            "flex": null,
            "flex_flow": null,
            "grid_area": null,
            "grid_auto_columns": null,
            "grid_auto_flow": null,
            "grid_auto_rows": null,
            "grid_column": null,
            "grid_gap": null,
            "grid_row": null,
            "grid_template_areas": null,
            "grid_template_columns": null,
            "grid_template_rows": null,
            "height": null,
            "justify_content": null,
            "justify_items": null,
            "left": null,
            "margin": null,
            "max_height": null,
            "max_width": null,
            "min_height": null,
            "min_width": null,
            "object_fit": null,
            "object_position": null,
            "order": null,
            "overflow": null,
            "overflow_x": null,
            "overflow_y": null,
            "padding": null,
            "right": null,
            "top": null,
            "visibility": null,
            "width": null
          }
        },
        "1b25f12acd9f4c7cb0d73859c1ad8da4": {
          "model_module": "@jupyter-widgets/controls",
          "model_name": "ProgressStyleModel",
          "model_module_version": "1.5.0",
          "state": {
            "_model_module": "@jupyter-widgets/controls",
            "_model_module_version": "1.5.0",
            "_model_name": "ProgressStyleModel",
            "_view_count": null,
            "_view_module": "@jupyter-widgets/base",
            "_view_module_version": "1.2.0",
            "_view_name": "StyleView",
            "bar_color": null,
            "description_width": ""
          }
        },
        "4acad1f5a3884d10b38ed1dadce7e8e3": {
          "model_module": "@jupyter-widgets/base",
          "model_name": "LayoutModel",
          "model_module_version": "1.2.0",
          "state": {
            "_model_module": "@jupyter-widgets/base",
            "_model_module_version": "1.2.0",
            "_model_name": "LayoutModel",
            "_view_count": null,
            "_view_module": "@jupyter-widgets/base",
            "_view_module_version": "1.2.0",
            "_view_name": "LayoutView",
            "align_content": null,
            "align_items": null,
            "align_self": null,
            "border": null,
            "bottom": null,
            "display": null,
            "flex": null,
            "flex_flow": null,
            "grid_area": null,
            "grid_auto_columns": null,
            "grid_auto_flow": null,
            "grid_auto_rows": null,
            "grid_column": null,
            "grid_gap": null,
            "grid_row": null,
            "grid_template_areas": null,
            "grid_template_columns": null,
            "grid_template_rows": null,
            "height": null,
            "justify_content": null,
            "justify_items": null,
            "left": null,
            "margin": null,
            "max_height": null,
            "max_width": null,
            "min_height": null,
            "min_width": null,
            "object_fit": null,
            "object_position": null,
            "order": null,
            "overflow": null,
            "overflow_x": null,
            "overflow_y": null,
            "padding": null,
            "right": null,
            "top": null,
            "visibility": null,
            "width": null
          }
        },
        "ad52362f0ec445dfa7287a5d13c31970": {
          "model_module": "@jupyter-widgets/controls",
          "model_name": "DescriptionStyleModel",
          "model_module_version": "1.5.0",
          "state": {
            "_model_module": "@jupyter-widgets/controls",
            "_model_module_version": "1.5.0",
            "_model_name": "DescriptionStyleModel",
            "_view_count": null,
            "_view_module": "@jupyter-widgets/base",
            "_view_module_version": "1.2.0",
            "_view_name": "StyleView",
            "description_width": ""
          }
        },
        "badaa34077d240b4aaeda095dfbdc42e": {
          "model_module": "@jupyter-widgets/controls",
          "model_name": "HBoxModel",
          "model_module_version": "1.5.0",
          "state": {
            "_dom_classes": [],
            "_model_module": "@jupyter-widgets/controls",
            "_model_module_version": "1.5.0",
            "_model_name": "HBoxModel",
            "_view_count": null,
            "_view_module": "@jupyter-widgets/controls",
            "_view_module_version": "1.5.0",
            "_view_name": "HBoxView",
            "box_style": "",
            "children": [
              "IPY_MODEL_d375567dbf8f4fa0a22ef9cd55a37501",
              "IPY_MODEL_0508dc95a6994ad48fdeae844d2b01fd",
              "IPY_MODEL_fcb40f030e184f9b86f1b79e7ef845c7"
            ],
            "layout": "IPY_MODEL_91a25f9d1cfb460082535fbcb056fd67"
          }
        },
        "d375567dbf8f4fa0a22ef9cd55a37501": {
          "model_module": "@jupyter-widgets/controls",
          "model_name": "HTMLModel",
          "model_module_version": "1.5.0",
          "state": {
            "_dom_classes": [],
            "_model_module": "@jupyter-widgets/controls",
            "_model_module_version": "1.5.0",
            "_model_name": "HTMLModel",
            "_view_count": null,
            "_view_module": "@jupyter-widgets/controls",
            "_view_module_version": "1.5.0",
            "_view_name": "HTMLView",
            "description": "",
            "description_tooltip": null,
            "layout": "IPY_MODEL_977dbdf461ef4fbb9dc1ebdc6745df11",
            "placeholder": "​",
            "style": "IPY_MODEL_988e9b1157184d7b8c7cee4d964e7f99",
            "value": "Map: 100%"
          }
        },
        "0508dc95a6994ad48fdeae844d2b01fd": {
          "model_module": "@jupyter-widgets/controls",
          "model_name": "FloatProgressModel",
          "model_module_version": "1.5.0",
          "state": {
            "_dom_classes": [],
            "_model_module": "@jupyter-widgets/controls",
            "_model_module_version": "1.5.0",
            "_model_name": "FloatProgressModel",
            "_view_count": null,
            "_view_module": "@jupyter-widgets/controls",
            "_view_module_version": "1.5.0",
            "_view_name": "ProgressView",
            "bar_style": "success",
            "description": "",
            "description_tooltip": null,
            "layout": "IPY_MODEL_28077631bd6348d18c1d213d77325e15",
            "max": 635,
            "min": 0,
            "orientation": "horizontal",
            "style": "IPY_MODEL_adb72f08eff1412eacf281851fac0b05",
            "value": 635
          }
        },
        "fcb40f030e184f9b86f1b79e7ef845c7": {
          "model_module": "@jupyter-widgets/controls",
          "model_name": "HTMLModel",
          "model_module_version": "1.5.0",
          "state": {
            "_dom_classes": [],
            "_model_module": "@jupyter-widgets/controls",
            "_model_module_version": "1.5.0",
            "_model_name": "HTMLModel",
            "_view_count": null,
            "_view_module": "@jupyter-widgets/controls",
            "_view_module_version": "1.5.0",
            "_view_name": "HTMLView",
            "description": "",
            "description_tooltip": null,
            "layout": "IPY_MODEL_b29ea71a79ad4355856c858908598111",
            "placeholder": "​",
            "style": "IPY_MODEL_59798ea2c96243a28ee2ad173f438113",
            "value": " 635/635 [00:01&lt;00:00, 439.09 examples/s]"
          }
        },
        "91a25f9d1cfb460082535fbcb056fd67": {
          "model_module": "@jupyter-widgets/base",
          "model_name": "LayoutModel",
          "model_module_version": "1.2.0",
          "state": {
            "_model_module": "@jupyter-widgets/base",
            "_model_module_version": "1.2.0",
            "_model_name": "LayoutModel",
            "_view_count": null,
            "_view_module": "@jupyter-widgets/base",
            "_view_module_version": "1.2.0",
            "_view_name": "LayoutView",
            "align_content": null,
            "align_items": null,
            "align_self": null,
            "border": null,
            "bottom": null,
            "display": null,
            "flex": null,
            "flex_flow": null,
            "grid_area": null,
            "grid_auto_columns": null,
            "grid_auto_flow": null,
            "grid_auto_rows": null,
            "grid_column": null,
            "grid_gap": null,
            "grid_row": null,
            "grid_template_areas": null,
            "grid_template_columns": null,
            "grid_template_rows": null,
            "height": null,
            "justify_content": null,
            "justify_items": null,
            "left": null,
            "margin": null,
            "max_height": null,
            "max_width": null,
            "min_height": null,
            "min_width": null,
            "object_fit": null,
            "object_position": null,
            "order": null,
            "overflow": null,
            "overflow_x": null,
            "overflow_y": null,
            "padding": null,
            "right": null,
            "top": null,
            "visibility": null,
            "width": null
          }
        },
        "977dbdf461ef4fbb9dc1ebdc6745df11": {
          "model_module": "@jupyter-widgets/base",
          "model_name": "LayoutModel",
          "model_module_version": "1.2.0",
          "state": {
            "_model_module": "@jupyter-widgets/base",
            "_model_module_version": "1.2.0",
            "_model_name": "LayoutModel",
            "_view_count": null,
            "_view_module": "@jupyter-widgets/base",
            "_view_module_version": "1.2.0",
            "_view_name": "LayoutView",
            "align_content": null,
            "align_items": null,
            "align_self": null,
            "border": null,
            "bottom": null,
            "display": null,
            "flex": null,
            "flex_flow": null,
            "grid_area": null,
            "grid_auto_columns": null,
            "grid_auto_flow": null,
            "grid_auto_rows": null,
            "grid_column": null,
            "grid_gap": null,
            "grid_row": null,
            "grid_template_areas": null,
            "grid_template_columns": null,
            "grid_template_rows": null,
            "height": null,
            "justify_content": null,
            "justify_items": null,
            "left": null,
            "margin": null,
            "max_height": null,
            "max_width": null,
            "min_height": null,
            "min_width": null,
            "object_fit": null,
            "object_position": null,
            "order": null,
            "overflow": null,
            "overflow_x": null,
            "overflow_y": null,
            "padding": null,
            "right": null,
            "top": null,
            "visibility": null,
            "width": null
          }
        },
        "988e9b1157184d7b8c7cee4d964e7f99": {
          "model_module": "@jupyter-widgets/controls",
          "model_name": "DescriptionStyleModel",
          "model_module_version": "1.5.0",
          "state": {
            "_model_module": "@jupyter-widgets/controls",
            "_model_module_version": "1.5.0",
            "_model_name": "DescriptionStyleModel",
            "_view_count": null,
            "_view_module": "@jupyter-widgets/base",
            "_view_module_version": "1.2.0",
            "_view_name": "StyleView",
            "description_width": ""
          }
        },
        "28077631bd6348d18c1d213d77325e15": {
          "model_module": "@jupyter-widgets/base",
          "model_name": "LayoutModel",
          "model_module_version": "1.2.0",
          "state": {
            "_model_module": "@jupyter-widgets/base",
            "_model_module_version": "1.2.0",
            "_model_name": "LayoutModel",
            "_view_count": null,
            "_view_module": "@jupyter-widgets/base",
            "_view_module_version": "1.2.0",
            "_view_name": "LayoutView",
            "align_content": null,
            "align_items": null,
            "align_self": null,
            "border": null,
            "bottom": null,
            "display": null,
            "flex": null,
            "flex_flow": null,
            "grid_area": null,
            "grid_auto_columns": null,
            "grid_auto_flow": null,
            "grid_auto_rows": null,
            "grid_column": null,
            "grid_gap": null,
            "grid_row": null,
            "grid_template_areas": null,
            "grid_template_columns": null,
            "grid_template_rows": null,
            "height": null,
            "justify_content": null,
            "justify_items": null,
            "left": null,
            "margin": null,
            "max_height": null,
            "max_width": null,
            "min_height": null,
            "min_width": null,
            "object_fit": null,
            "object_position": null,
            "order": null,
            "overflow": null,
            "overflow_x": null,
            "overflow_y": null,
            "padding": null,
            "right": null,
            "top": null,
            "visibility": null,
            "width": null
          }
        },
        "adb72f08eff1412eacf281851fac0b05": {
          "model_module": "@jupyter-widgets/controls",
          "model_name": "ProgressStyleModel",
          "model_module_version": "1.5.0",
          "state": {
            "_model_module": "@jupyter-widgets/controls",
            "_model_module_version": "1.5.0",
            "_model_name": "ProgressStyleModel",
            "_view_count": null,
            "_view_module": "@jupyter-widgets/base",
            "_view_module_version": "1.2.0",
            "_view_name": "StyleView",
            "bar_color": null,
            "description_width": ""
          }
        },
        "b29ea71a79ad4355856c858908598111": {
          "model_module": "@jupyter-widgets/base",
          "model_name": "LayoutModel",
          "model_module_version": "1.2.0",
          "state": {
            "_model_module": "@jupyter-widgets/base",
            "_model_module_version": "1.2.0",
            "_model_name": "LayoutModel",
            "_view_count": null,
            "_view_module": "@jupyter-widgets/base",
            "_view_module_version": "1.2.0",
            "_view_name": "LayoutView",
            "align_content": null,
            "align_items": null,
            "align_self": null,
            "border": null,
            "bottom": null,
            "display": null,
            "flex": null,
            "flex_flow": null,
            "grid_area": null,
            "grid_auto_columns": null,
            "grid_auto_flow": null,
            "grid_auto_rows": null,
            "grid_column": null,
            "grid_gap": null,
            "grid_row": null,
            "grid_template_areas": null,
            "grid_template_columns": null,
            "grid_template_rows": null,
            "height": null,
            "justify_content": null,
            "justify_items": null,
            "left": null,
            "margin": null,
            "max_height": null,
            "max_width": null,
            "min_height": null,
            "min_width": null,
            "object_fit": null,
            "object_position": null,
            "order": null,
            "overflow": null,
            "overflow_x": null,
            "overflow_y": null,
            "padding": null,
            "right": null,
            "top": null,
            "visibility": null,
            "width": null
          }
        },
        "59798ea2c96243a28ee2ad173f438113": {
          "model_module": "@jupyter-widgets/controls",
          "model_name": "DescriptionStyleModel",
          "model_module_version": "1.5.0",
          "state": {
            "_model_module": "@jupyter-widgets/controls",
            "_model_module_version": "1.5.0",
            "_model_name": "DescriptionStyleModel",
            "_view_count": null,
            "_view_module": "@jupyter-widgets/base",
            "_view_module_version": "1.2.0",
            "_view_name": "StyleView",
            "description_width": ""
          }
        },
        "5c720863574745948fd46e9e11de346a": {
          "model_module": "@jupyter-widgets/controls",
          "model_name": "HBoxModel",
          "model_module_version": "1.5.0",
          "state": {
            "_dom_classes": [],
            "_model_module": "@jupyter-widgets/controls",
            "_model_module_version": "1.5.0",
            "_model_name": "HBoxModel",
            "_view_count": null,
            "_view_module": "@jupyter-widgets/controls",
            "_view_module_version": "1.5.0",
            "_view_name": "HBoxView",
            "box_style": "",
            "children": [
              "IPY_MODEL_696ed0e66fb54e11abd4f88024e18391",
              "IPY_MODEL_2e8b9835fae24aee9bda6a13d9a7f3ac",
              "IPY_MODEL_bd54157c50c746408d12589c255e1c38"
            ],
            "layout": "IPY_MODEL_c69a8431a60d4173aae2d489d65d9a6d"
          }
        },
        "696ed0e66fb54e11abd4f88024e18391": {
          "model_module": "@jupyter-widgets/controls",
          "model_name": "HTMLModel",
          "model_module_version": "1.5.0",
          "state": {
            "_dom_classes": [],
            "_model_module": "@jupyter-widgets/controls",
            "_model_module_version": "1.5.0",
            "_model_name": "HTMLModel",
            "_view_count": null,
            "_view_module": "@jupyter-widgets/controls",
            "_view_module_version": "1.5.0",
            "_view_name": "HTMLView",
            "description": "",
            "description_tooltip": null,
            "layout": "IPY_MODEL_73e1885fdd4b471b91797cd2f17b6e09",
            "placeholder": "​",
            "style": "IPY_MODEL_b0b9fcc4789c4eef933ada8d06d9c49d",
            "value": "Creating parquet from Arrow format: 100%"
          }
        },
        "2e8b9835fae24aee9bda6a13d9a7f3ac": {
          "model_module": "@jupyter-widgets/controls",
          "model_name": "FloatProgressModel",
          "model_module_version": "1.5.0",
          "state": {
            "_dom_classes": [],
            "_model_module": "@jupyter-widgets/controls",
            "_model_module_version": "1.5.0",
            "_model_name": "FloatProgressModel",
            "_view_count": null,
            "_view_module": "@jupyter-widgets/controls",
            "_view_module_version": "1.5.0",
            "_view_name": "ProgressView",
            "bar_style": "success",
            "description": "",
            "description_tooltip": null,
            "layout": "IPY_MODEL_0ddc155ea28c44aba8296dc73d26f6fb",
            "max": 7,
            "min": 0,
            "orientation": "horizontal",
            "style": "IPY_MODEL_0b976056f14d4f6a9abaa16347ee258a",
            "value": 7
          }
        },
        "bd54157c50c746408d12589c255e1c38": {
          "model_module": "@jupyter-widgets/controls",
          "model_name": "HTMLModel",
          "model_module_version": "1.5.0",
          "state": {
            "_dom_classes": [],
            "_model_module": "@jupyter-widgets/controls",
            "_model_module_version": "1.5.0",
            "_model_name": "HTMLModel",
            "_view_count": null,
            "_view_module": "@jupyter-widgets/controls",
            "_view_module_version": "1.5.0",
            "_view_name": "HTMLView",
            "description": "",
            "description_tooltip": null,
            "layout": "IPY_MODEL_8eca90b52e044b4983293860ae4dcd7d",
            "placeholder": "​",
            "style": "IPY_MODEL_90d6cc549bef4b73b88ad4aef3979213",
            "value": " 7/7 [00:00&lt;00:00, 110.14ba/s]"
          }
        },
        "c69a8431a60d4173aae2d489d65d9a6d": {
          "model_module": "@jupyter-widgets/base",
          "model_name": "LayoutModel",
          "model_module_version": "1.2.0",
          "state": {
            "_model_module": "@jupyter-widgets/base",
            "_model_module_version": "1.2.0",
            "_model_name": "LayoutModel",
            "_view_count": null,
            "_view_module": "@jupyter-widgets/base",
            "_view_module_version": "1.2.0",
            "_view_name": "LayoutView",
            "align_content": null,
            "align_items": null,
            "align_self": null,
            "border": null,
            "bottom": null,
            "display": null,
            "flex": null,
            "flex_flow": null,
            "grid_area": null,
            "grid_auto_columns": null,
            "grid_auto_flow": null,
            "grid_auto_rows": null,
            "grid_column": null,
            "grid_gap": null,
            "grid_row": null,
            "grid_template_areas": null,
            "grid_template_columns": null,
            "grid_template_rows": null,
            "height": null,
            "justify_content": null,
            "justify_items": null,
            "left": null,
            "margin": null,
            "max_height": null,
            "max_width": null,
            "min_height": null,
            "min_width": null,
            "object_fit": null,
            "object_position": null,
            "order": null,
            "overflow": null,
            "overflow_x": null,
            "overflow_y": null,
            "padding": null,
            "right": null,
            "top": null,
            "visibility": null,
            "width": null
          }
        },
        "73e1885fdd4b471b91797cd2f17b6e09": {
          "model_module": "@jupyter-widgets/base",
          "model_name": "LayoutModel",
          "model_module_version": "1.2.0",
          "state": {
            "_model_module": "@jupyter-widgets/base",
            "_model_module_version": "1.2.0",
            "_model_name": "LayoutModel",
            "_view_count": null,
            "_view_module": "@jupyter-widgets/base",
            "_view_module_version": "1.2.0",
            "_view_name": "LayoutView",
            "align_content": null,
            "align_items": null,
            "align_self": null,
            "border": null,
            "bottom": null,
            "display": null,
            "flex": null,
            "flex_flow": null,
            "grid_area": null,
            "grid_auto_columns": null,
            "grid_auto_flow": null,
            "grid_auto_rows": null,
            "grid_column": null,
            "grid_gap": null,
            "grid_row": null,
            "grid_template_areas": null,
            "grid_template_columns": null,
            "grid_template_rows": null,
            "height": null,
            "justify_content": null,
            "justify_items": null,
            "left": null,
            "margin": null,
            "max_height": null,
            "max_width": null,
            "min_height": null,
            "min_width": null,
            "object_fit": null,
            "object_position": null,
            "order": null,
            "overflow": null,
            "overflow_x": null,
            "overflow_y": null,
            "padding": null,
            "right": null,
            "top": null,
            "visibility": null,
            "width": null
          }
        },
        "b0b9fcc4789c4eef933ada8d06d9c49d": {
          "model_module": "@jupyter-widgets/controls",
          "model_name": "DescriptionStyleModel",
          "model_module_version": "1.5.0",
          "state": {
            "_model_module": "@jupyter-widgets/controls",
            "_model_module_version": "1.5.0",
            "_model_name": "DescriptionStyleModel",
            "_view_count": null,
            "_view_module": "@jupyter-widgets/base",
            "_view_module_version": "1.2.0",
            "_view_name": "StyleView",
            "description_width": ""
          }
        },
        "0ddc155ea28c44aba8296dc73d26f6fb": {
          "model_module": "@jupyter-widgets/base",
          "model_name": "LayoutModel",
          "model_module_version": "1.2.0",
          "state": {
            "_model_module": "@jupyter-widgets/base",
            "_model_module_version": "1.2.0",
            "_model_name": "LayoutModel",
            "_view_count": null,
            "_view_module": "@jupyter-widgets/base",
            "_view_module_version": "1.2.0",
            "_view_name": "LayoutView",
            "align_content": null,
            "align_items": null,
            "align_self": null,
            "border": null,
            "bottom": null,
            "display": null,
            "flex": null,
            "flex_flow": null,
            "grid_area": null,
            "grid_auto_columns": null,
            "grid_auto_flow": null,
            "grid_auto_rows": null,
            "grid_column": null,
            "grid_gap": null,
            "grid_row": null,
            "grid_template_areas": null,
            "grid_template_columns": null,
            "grid_template_rows": null,
            "height": null,
            "justify_content": null,
            "justify_items": null,
            "left": null,
            "margin": null,
            "max_height": null,
            "max_width": null,
            "min_height": null,
            "min_width": null,
            "object_fit": null,
            "object_position": null,
            "order": null,
            "overflow": null,
            "overflow_x": null,
            "overflow_y": null,
            "padding": null,
            "right": null,
            "top": null,
            "visibility": null,
            "width": null
          }
        },
        "0b976056f14d4f6a9abaa16347ee258a": {
          "model_module": "@jupyter-widgets/controls",
          "model_name": "ProgressStyleModel",
          "model_module_version": "1.5.0",
          "state": {
            "_model_module": "@jupyter-widgets/controls",
            "_model_module_version": "1.5.0",
            "_model_name": "ProgressStyleModel",
            "_view_count": null,
            "_view_module": "@jupyter-widgets/base",
            "_view_module_version": "1.2.0",
            "_view_name": "StyleView",
            "bar_color": null,
            "description_width": ""
          }
        },
        "8eca90b52e044b4983293860ae4dcd7d": {
          "model_module": "@jupyter-widgets/base",
          "model_name": "LayoutModel",
          "model_module_version": "1.2.0",
          "state": {
            "_model_module": "@jupyter-widgets/base",
            "_model_module_version": "1.2.0",
            "_model_name": "LayoutModel",
            "_view_count": null,
            "_view_module": "@jupyter-widgets/base",
            "_view_module_version": "1.2.0",
            "_view_name": "LayoutView",
            "align_content": null,
            "align_items": null,
            "align_self": null,
            "border": null,
            "bottom": null,
            "display": null,
            "flex": null,
            "flex_flow": null,
            "grid_area": null,
            "grid_auto_columns": null,
            "grid_auto_flow": null,
            "grid_auto_rows": null,
            "grid_column": null,
            "grid_gap": null,
            "grid_row": null,
            "grid_template_areas": null,
            "grid_template_columns": null,
            "grid_template_rows": null,
            "height": null,
            "justify_content": null,
            "justify_items": null,
            "left": null,
            "margin": null,
            "max_height": null,
            "max_width": null,
            "min_height": null,
            "min_width": null,
            "object_fit": null,
            "object_position": null,
            "order": null,
            "overflow": null,
            "overflow_x": null,
            "overflow_y": null,
            "padding": null,
            "right": null,
            "top": null,
            "visibility": null,
            "width": null
          }
        },
        "90d6cc549bef4b73b88ad4aef3979213": {
          "model_module": "@jupyter-widgets/controls",
          "model_name": "DescriptionStyleModel",
          "model_module_version": "1.5.0",
          "state": {
            "_model_module": "@jupyter-widgets/controls",
            "_model_module_version": "1.5.0",
            "_model_name": "DescriptionStyleModel",
            "_view_count": null,
            "_view_module": "@jupyter-widgets/base",
            "_view_module_version": "1.2.0",
            "_view_name": "StyleView",
            "description_width": ""
          }
        },
        "85da417566674e8084394879d80e2d1f": {
          "model_module": "@jupyter-widgets/controls",
          "model_name": "HBoxModel",
          "model_module_version": "1.5.0",
          "state": {
            "_dom_classes": [],
            "_model_module": "@jupyter-widgets/controls",
            "_model_module_version": "1.5.0",
            "_model_name": "HBoxModel",
            "_view_count": null,
            "_view_module": "@jupyter-widgets/controls",
            "_view_module_version": "1.5.0",
            "_view_name": "HBoxView",
            "box_style": "",
            "children": [
              "IPY_MODEL_dff4684430c749adbd29ec7f0f72194f",
              "IPY_MODEL_1625537e7b304a44820b4ad6829a71bf",
              "IPY_MODEL_8e2c7afafbe54a8ea8b8c85f7e3cac02"
            ],
            "layout": "IPY_MODEL_4d62b5c7d3e04125a6cf9f2c0afe3203"
          }
        },
        "dff4684430c749adbd29ec7f0f72194f": {
          "model_module": "@jupyter-widgets/controls",
          "model_name": "HTMLModel",
          "model_module_version": "1.5.0",
          "state": {
            "_dom_classes": [],
            "_model_module": "@jupyter-widgets/controls",
            "_model_module_version": "1.5.0",
            "_model_name": "HTMLModel",
            "_view_count": null,
            "_view_module": "@jupyter-widgets/controls",
            "_view_module_version": "1.5.0",
            "_view_name": "HTMLView",
            "description": "",
            "description_tooltip": null,
            "layout": "IPY_MODEL_754df78d767443b18fbd85ce7025264b",
            "placeholder": "​",
            "style": "IPY_MODEL_68a95dc654d24610b53056c464738e64",
            "value": "Uploading the dataset shards: 100%"
          }
        },
        "1625537e7b304a44820b4ad6829a71bf": {
          "model_module": "@jupyter-widgets/controls",
          "model_name": "FloatProgressModel",
          "model_module_version": "1.5.0",
          "state": {
            "_dom_classes": [],
            "_model_module": "@jupyter-widgets/controls",
            "_model_module_version": "1.5.0",
            "_model_name": "FloatProgressModel",
            "_view_count": null,
            "_view_module": "@jupyter-widgets/controls",
            "_view_module_version": "1.5.0",
            "_view_name": "ProgressView",
            "bar_style": "success",
            "description": "",
            "description_tooltip": null,
            "layout": "IPY_MODEL_026184ca50644bb39d89215e7afb928e",
            "max": 1,
            "min": 0,
            "orientation": "horizontal",
            "style": "IPY_MODEL_ccd12be006124af099bce35bd429c30e",
            "value": 1
          }
        },
        "8e2c7afafbe54a8ea8b8c85f7e3cac02": {
          "model_module": "@jupyter-widgets/controls",
          "model_name": "HTMLModel",
          "model_module_version": "1.5.0",
          "state": {
            "_dom_classes": [],
            "_model_module": "@jupyter-widgets/controls",
            "_model_module_version": "1.5.0",
            "_model_name": "HTMLModel",
            "_view_count": null,
            "_view_module": "@jupyter-widgets/controls",
            "_view_module_version": "1.5.0",
            "_view_name": "HTMLView",
            "description": "",
            "description_tooltip": null,
            "layout": "IPY_MODEL_2105f59c3a5b454aaddddb24488a6e9c",
            "placeholder": "​",
            "style": "IPY_MODEL_6b452c61a2b54afab71923fbf645f8fe",
            "value": " 1/1 [00:00&lt;00:00,  1.65it/s]"
          }
        },
        "4d62b5c7d3e04125a6cf9f2c0afe3203": {
          "model_module": "@jupyter-widgets/base",
          "model_name": "LayoutModel",
          "model_module_version": "1.2.0",
          "state": {
            "_model_module": "@jupyter-widgets/base",
            "_model_module_version": "1.2.0",
            "_model_name": "LayoutModel",
            "_view_count": null,
            "_view_module": "@jupyter-widgets/base",
            "_view_module_version": "1.2.0",
            "_view_name": "LayoutView",
            "align_content": null,
            "align_items": null,
            "align_self": null,
            "border": null,
            "bottom": null,
            "display": null,
            "flex": null,
            "flex_flow": null,
            "grid_area": null,
            "grid_auto_columns": null,
            "grid_auto_flow": null,
            "grid_auto_rows": null,
            "grid_column": null,
            "grid_gap": null,
            "grid_row": null,
            "grid_template_areas": null,
            "grid_template_columns": null,
            "grid_template_rows": null,
            "height": null,
            "justify_content": null,
            "justify_items": null,
            "left": null,
            "margin": null,
            "max_height": null,
            "max_width": null,
            "min_height": null,
            "min_width": null,
            "object_fit": null,
            "object_position": null,
            "order": null,
            "overflow": null,
            "overflow_x": null,
            "overflow_y": null,
            "padding": null,
            "right": null,
            "top": null,
            "visibility": null,
            "width": null
          }
        },
        "754df78d767443b18fbd85ce7025264b": {
          "model_module": "@jupyter-widgets/base",
          "model_name": "LayoutModel",
          "model_module_version": "1.2.0",
          "state": {
            "_model_module": "@jupyter-widgets/base",
            "_model_module_version": "1.2.0",
            "_model_name": "LayoutModel",
            "_view_count": null,
            "_view_module": "@jupyter-widgets/base",
            "_view_module_version": "1.2.0",
            "_view_name": "LayoutView",
            "align_content": null,
            "align_items": null,
            "align_self": null,
            "border": null,
            "bottom": null,
            "display": null,
            "flex": null,
            "flex_flow": null,
            "grid_area": null,
            "grid_auto_columns": null,
            "grid_auto_flow": null,
            "grid_auto_rows": null,
            "grid_column": null,
            "grid_gap": null,
            "grid_row": null,
            "grid_template_areas": null,
            "grid_template_columns": null,
            "grid_template_rows": null,
            "height": null,
            "justify_content": null,
            "justify_items": null,
            "left": null,
            "margin": null,
            "max_height": null,
            "max_width": null,
            "min_height": null,
            "min_width": null,
            "object_fit": null,
            "object_position": null,
            "order": null,
            "overflow": null,
            "overflow_x": null,
            "overflow_y": null,
            "padding": null,
            "right": null,
            "top": null,
            "visibility": null,
            "width": null
          }
        },
        "68a95dc654d24610b53056c464738e64": {
          "model_module": "@jupyter-widgets/controls",
          "model_name": "DescriptionStyleModel",
          "model_module_version": "1.5.0",
          "state": {
            "_model_module": "@jupyter-widgets/controls",
            "_model_module_version": "1.5.0",
            "_model_name": "DescriptionStyleModel",
            "_view_count": null,
            "_view_module": "@jupyter-widgets/base",
            "_view_module_version": "1.2.0",
            "_view_name": "StyleView",
            "description_width": ""
          }
        },
        "026184ca50644bb39d89215e7afb928e": {
          "model_module": "@jupyter-widgets/base",
          "model_name": "LayoutModel",
          "model_module_version": "1.2.0",
          "state": {
            "_model_module": "@jupyter-widgets/base",
            "_model_module_version": "1.2.0",
            "_model_name": "LayoutModel",
            "_view_count": null,
            "_view_module": "@jupyter-widgets/base",
            "_view_module_version": "1.2.0",
            "_view_name": "LayoutView",
            "align_content": null,
            "align_items": null,
            "align_self": null,
            "border": null,
            "bottom": null,
            "display": null,
            "flex": null,
            "flex_flow": null,
            "grid_area": null,
            "grid_auto_columns": null,
            "grid_auto_flow": null,
            "grid_auto_rows": null,
            "grid_column": null,
            "grid_gap": null,
            "grid_row": null,
            "grid_template_areas": null,
            "grid_template_columns": null,
            "grid_template_rows": null,
            "height": null,
            "justify_content": null,
            "justify_items": null,
            "left": null,
            "margin": null,
            "max_height": null,
            "max_width": null,
            "min_height": null,
            "min_width": null,
            "object_fit": null,
            "object_position": null,
            "order": null,
            "overflow": null,
            "overflow_x": null,
            "overflow_y": null,
            "padding": null,
            "right": null,
            "top": null,
            "visibility": null,
            "width": null
          }
        },
        "ccd12be006124af099bce35bd429c30e": {
          "model_module": "@jupyter-widgets/controls",
          "model_name": "ProgressStyleModel",
          "model_module_version": "1.5.0",
          "state": {
            "_model_module": "@jupyter-widgets/controls",
            "_model_module_version": "1.5.0",
            "_model_name": "ProgressStyleModel",
            "_view_count": null,
            "_view_module": "@jupyter-widgets/base",
            "_view_module_version": "1.2.0",
            "_view_name": "StyleView",
            "bar_color": null,
            "description_width": ""
          }
        },
        "2105f59c3a5b454aaddddb24488a6e9c": {
          "model_module": "@jupyter-widgets/base",
          "model_name": "LayoutModel",
          "model_module_version": "1.2.0",
          "state": {
            "_model_module": "@jupyter-widgets/base",
            "_model_module_version": "1.2.0",
            "_model_name": "LayoutModel",
            "_view_count": null,
            "_view_module": "@jupyter-widgets/base",
            "_view_module_version": "1.2.0",
            "_view_name": "LayoutView",
            "align_content": null,
            "align_items": null,
            "align_self": null,
            "border": null,
            "bottom": null,
            "display": null,
            "flex": null,
            "flex_flow": null,
            "grid_area": null,
            "grid_auto_columns": null,
            "grid_auto_flow": null,
            "grid_auto_rows": null,
            "grid_column": null,
            "grid_gap": null,
            "grid_row": null,
            "grid_template_areas": null,
            "grid_template_columns": null,
            "grid_template_rows": null,
            "height": null,
            "justify_content": null,
            "justify_items": null,
            "left": null,
            "margin": null,
            "max_height": null,
            "max_width": null,
            "min_height": null,
            "min_width": null,
            "object_fit": null,
            "object_position": null,
            "order": null,
            "overflow": null,
            "overflow_x": null,
            "overflow_y": null,
            "padding": null,
            "right": null,
            "top": null,
            "visibility": null,
            "width": null
          }
        },
        "6b452c61a2b54afab71923fbf645f8fe": {
          "model_module": "@jupyter-widgets/controls",
          "model_name": "DescriptionStyleModel",
          "model_module_version": "1.5.0",
          "state": {
            "_model_module": "@jupyter-widgets/controls",
            "_model_module_version": "1.5.0",
            "_model_name": "DescriptionStyleModel",
            "_view_count": null,
            "_view_module": "@jupyter-widgets/base",
            "_view_module_version": "1.2.0",
            "_view_name": "StyleView",
            "description_width": ""
          }
        },
        "23a6e5875ad7426ea7781d563eb37b09": {
          "model_module": "@jupyter-widgets/controls",
          "model_name": "HBoxModel",
          "model_module_version": "1.5.0",
          "state": {
            "_dom_classes": [],
            "_model_module": "@jupyter-widgets/controls",
            "_model_module_version": "1.5.0",
            "_model_name": "HBoxModel",
            "_view_count": null,
            "_view_module": "@jupyter-widgets/controls",
            "_view_module_version": "1.5.0",
            "_view_name": "HBoxView",
            "box_style": "",
            "children": [
              "IPY_MODEL_7ecacaa8a75b491db209e41f5074573f",
              "IPY_MODEL_c039f69a76fa402e99bb8c6c5e68989e",
              "IPY_MODEL_8086cb70b52143f0bc9048007fb61be8"
            ],
            "layout": "IPY_MODEL_743805a576f8441eb18ba8f523be6f04"
          }
        },
        "7ecacaa8a75b491db209e41f5074573f": {
          "model_module": "@jupyter-widgets/controls",
          "model_name": "HTMLModel",
          "model_module_version": "1.5.0",
          "state": {
            "_dom_classes": [],
            "_model_module": "@jupyter-widgets/controls",
            "_model_module_version": "1.5.0",
            "_model_name": "HTMLModel",
            "_view_count": null,
            "_view_module": "@jupyter-widgets/controls",
            "_view_module_version": "1.5.0",
            "_view_name": "HTMLView",
            "description": "",
            "description_tooltip": null,
            "layout": "IPY_MODEL_9d0e997cde854433bced0d8992052e1c",
            "placeholder": "​",
            "style": "IPY_MODEL_b51f21ae926f4fa39d82e4e80423b0c4",
            "value": "Map: 100%"
          }
        },
        "c039f69a76fa402e99bb8c6c5e68989e": {
          "model_module": "@jupyter-widgets/controls",
          "model_name": "FloatProgressModel",
          "model_module_version": "1.5.0",
          "state": {
            "_dom_classes": [],
            "_model_module": "@jupyter-widgets/controls",
            "_model_module_version": "1.5.0",
            "_model_name": "FloatProgressModel",
            "_view_count": null,
            "_view_module": "@jupyter-widgets/controls",
            "_view_module_version": "1.5.0",
            "_view_name": "ProgressView",
            "bar_style": "success",
            "description": "",
            "description_tooltip": null,
            "layout": "IPY_MODEL_e46f8615e6d04785ba09b15e5da9fea8",
            "max": 159,
            "min": 0,
            "orientation": "horizontal",
            "style": "IPY_MODEL_f0caddc7ee154fe787421cf5d13a8c02",
            "value": 159
          }
        },
        "8086cb70b52143f0bc9048007fb61be8": {
          "model_module": "@jupyter-widgets/controls",
          "model_name": "HTMLModel",
          "model_module_version": "1.5.0",
          "state": {
            "_dom_classes": [],
            "_model_module": "@jupyter-widgets/controls",
            "_model_module_version": "1.5.0",
            "_model_name": "HTMLModel",
            "_view_count": null,
            "_view_module": "@jupyter-widgets/controls",
            "_view_module_version": "1.5.0",
            "_view_name": "HTMLView",
            "description": "",
            "description_tooltip": null,
            "layout": "IPY_MODEL_272f5f426d704bcda5539e69c3f1d4c1",
            "placeholder": "​",
            "style": "IPY_MODEL_9ccd14f7fae843ee875396d1de6cbfb9",
            "value": " 159/159 [00:00&lt;00:00, 430.99 examples/s]"
          }
        },
        "743805a576f8441eb18ba8f523be6f04": {
          "model_module": "@jupyter-widgets/base",
          "model_name": "LayoutModel",
          "model_module_version": "1.2.0",
          "state": {
            "_model_module": "@jupyter-widgets/base",
            "_model_module_version": "1.2.0",
            "_model_name": "LayoutModel",
            "_view_count": null,
            "_view_module": "@jupyter-widgets/base",
            "_view_module_version": "1.2.0",
            "_view_name": "LayoutView",
            "align_content": null,
            "align_items": null,
            "align_self": null,
            "border": null,
            "bottom": null,
            "display": null,
            "flex": null,
            "flex_flow": null,
            "grid_area": null,
            "grid_auto_columns": null,
            "grid_auto_flow": null,
            "grid_auto_rows": null,
            "grid_column": null,
            "grid_gap": null,
            "grid_row": null,
            "grid_template_areas": null,
            "grid_template_columns": null,
            "grid_template_rows": null,
            "height": null,
            "justify_content": null,
            "justify_items": null,
            "left": null,
            "margin": null,
            "max_height": null,
            "max_width": null,
            "min_height": null,
            "min_width": null,
            "object_fit": null,
            "object_position": null,
            "order": null,
            "overflow": null,
            "overflow_x": null,
            "overflow_y": null,
            "padding": null,
            "right": null,
            "top": null,
            "visibility": null,
            "width": null
          }
        },
        "9d0e997cde854433bced0d8992052e1c": {
          "model_module": "@jupyter-widgets/base",
          "model_name": "LayoutModel",
          "model_module_version": "1.2.0",
          "state": {
            "_model_module": "@jupyter-widgets/base",
            "_model_module_version": "1.2.0",
            "_model_name": "LayoutModel",
            "_view_count": null,
            "_view_module": "@jupyter-widgets/base",
            "_view_module_version": "1.2.0",
            "_view_name": "LayoutView",
            "align_content": null,
            "align_items": null,
            "align_self": null,
            "border": null,
            "bottom": null,
            "display": null,
            "flex": null,
            "flex_flow": null,
            "grid_area": null,
            "grid_auto_columns": null,
            "grid_auto_flow": null,
            "grid_auto_rows": null,
            "grid_column": null,
            "grid_gap": null,
            "grid_row": null,
            "grid_template_areas": null,
            "grid_template_columns": null,
            "grid_template_rows": null,
            "height": null,
            "justify_content": null,
            "justify_items": null,
            "left": null,
            "margin": null,
            "max_height": null,
            "max_width": null,
            "min_height": null,
            "min_width": null,
            "object_fit": null,
            "object_position": null,
            "order": null,
            "overflow": null,
            "overflow_x": null,
            "overflow_y": null,
            "padding": null,
            "right": null,
            "top": null,
            "visibility": null,
            "width": null
          }
        },
        "b51f21ae926f4fa39d82e4e80423b0c4": {
          "model_module": "@jupyter-widgets/controls",
          "model_name": "DescriptionStyleModel",
          "model_module_version": "1.5.0",
          "state": {
            "_model_module": "@jupyter-widgets/controls",
            "_model_module_version": "1.5.0",
            "_model_name": "DescriptionStyleModel",
            "_view_count": null,
            "_view_module": "@jupyter-widgets/base",
            "_view_module_version": "1.2.0",
            "_view_name": "StyleView",
            "description_width": ""
          }
        },
        "e46f8615e6d04785ba09b15e5da9fea8": {
          "model_module": "@jupyter-widgets/base",
          "model_name": "LayoutModel",
          "model_module_version": "1.2.0",
          "state": {
            "_model_module": "@jupyter-widgets/base",
            "_model_module_version": "1.2.0",
            "_model_name": "LayoutModel",
            "_view_count": null,
            "_view_module": "@jupyter-widgets/base",
            "_view_module_version": "1.2.0",
            "_view_name": "LayoutView",
            "align_content": null,
            "align_items": null,
            "align_self": null,
            "border": null,
            "bottom": null,
            "display": null,
            "flex": null,
            "flex_flow": null,
            "grid_area": null,
            "grid_auto_columns": null,
            "grid_auto_flow": null,
            "grid_auto_rows": null,
            "grid_column": null,
            "grid_gap": null,
            "grid_row": null,
            "grid_template_areas": null,
            "grid_template_columns": null,
            "grid_template_rows": null,
            "height": null,
            "justify_content": null,
            "justify_items": null,
            "left": null,
            "margin": null,
            "max_height": null,
            "max_width": null,
            "min_height": null,
            "min_width": null,
            "object_fit": null,
            "object_position": null,
            "order": null,
            "overflow": null,
            "overflow_x": null,
            "overflow_y": null,
            "padding": null,
            "right": null,
            "top": null,
            "visibility": null,
            "width": null
          }
        },
        "f0caddc7ee154fe787421cf5d13a8c02": {
          "model_module": "@jupyter-widgets/controls",
          "model_name": "ProgressStyleModel",
          "model_module_version": "1.5.0",
          "state": {
            "_model_module": "@jupyter-widgets/controls",
            "_model_module_version": "1.5.0",
            "_model_name": "ProgressStyleModel",
            "_view_count": null,
            "_view_module": "@jupyter-widgets/base",
            "_view_module_version": "1.2.0",
            "_view_name": "StyleView",
            "bar_color": null,
            "description_width": ""
          }
        },
        "272f5f426d704bcda5539e69c3f1d4c1": {
          "model_module": "@jupyter-widgets/base",
          "model_name": "LayoutModel",
          "model_module_version": "1.2.0",
          "state": {
            "_model_module": "@jupyter-widgets/base",
            "_model_module_version": "1.2.0",
            "_model_name": "LayoutModel",
            "_view_count": null,
            "_view_module": "@jupyter-widgets/base",
            "_view_module_version": "1.2.0",
            "_view_name": "LayoutView",
            "align_content": null,
            "align_items": null,
            "align_self": null,
            "border": null,
            "bottom": null,
            "display": null,
            "flex": null,
            "flex_flow": null,
            "grid_area": null,
            "grid_auto_columns": null,
            "grid_auto_flow": null,
            "grid_auto_rows": null,
            "grid_column": null,
            "grid_gap": null,
            "grid_row": null,
            "grid_template_areas": null,
            "grid_template_columns": null,
            "grid_template_rows": null,
            "height": null,
            "justify_content": null,
            "justify_items": null,
            "left": null,
            "margin": null,
            "max_height": null,
            "max_width": null,
            "min_height": null,
            "min_width": null,
            "object_fit": null,
            "object_position": null,
            "order": null,
            "overflow": null,
            "overflow_x": null,
            "overflow_y": null,
            "padding": null,
            "right": null,
            "top": null,
            "visibility": null,
            "width": null
          }
        },
        "9ccd14f7fae843ee875396d1de6cbfb9": {
          "model_module": "@jupyter-widgets/controls",
          "model_name": "DescriptionStyleModel",
          "model_module_version": "1.5.0",
          "state": {
            "_model_module": "@jupyter-widgets/controls",
            "_model_module_version": "1.5.0",
            "_model_name": "DescriptionStyleModel",
            "_view_count": null,
            "_view_module": "@jupyter-widgets/base",
            "_view_module_version": "1.2.0",
            "_view_name": "StyleView",
            "description_width": ""
          }
        },
        "680ee286862e4372b699ba93b46937df": {
          "model_module": "@jupyter-widgets/controls",
          "model_name": "HBoxModel",
          "model_module_version": "1.5.0",
          "state": {
            "_dom_classes": [],
            "_model_module": "@jupyter-widgets/controls",
            "_model_module_version": "1.5.0",
            "_model_name": "HBoxModel",
            "_view_count": null,
            "_view_module": "@jupyter-widgets/controls",
            "_view_module_version": "1.5.0",
            "_view_name": "HBoxView",
            "box_style": "",
            "children": [
              "IPY_MODEL_2d06d341f55b4869b5128eb2a7343b4d",
              "IPY_MODEL_318eaca1bfce4f84b01b7872470905b8",
              "IPY_MODEL_2f024ca0d69c441b943d20bfcf5e6519"
            ],
            "layout": "IPY_MODEL_069a898d1f474617a7f2c4e4ffde34c3"
          }
        },
        "2d06d341f55b4869b5128eb2a7343b4d": {
          "model_module": "@jupyter-widgets/controls",
          "model_name": "HTMLModel",
          "model_module_version": "1.5.0",
          "state": {
            "_dom_classes": [],
            "_model_module": "@jupyter-widgets/controls",
            "_model_module_version": "1.5.0",
            "_model_name": "HTMLModel",
            "_view_count": null,
            "_view_module": "@jupyter-widgets/controls",
            "_view_module_version": "1.5.0",
            "_view_name": "HTMLView",
            "description": "",
            "description_tooltip": null,
            "layout": "IPY_MODEL_72116390993541c5a8ce7b27618234c1",
            "placeholder": "​",
            "style": "IPY_MODEL_7463ad8fe16c4c428c6cccec47189e4c",
            "value": "Creating parquet from Arrow format: 100%"
          }
        },
        "318eaca1bfce4f84b01b7872470905b8": {
          "model_module": "@jupyter-widgets/controls",
          "model_name": "FloatProgressModel",
          "model_module_version": "1.5.0",
          "state": {
            "_dom_classes": [],
            "_model_module": "@jupyter-widgets/controls",
            "_model_module_version": "1.5.0",
            "_model_name": "FloatProgressModel",
            "_view_count": null,
            "_view_module": "@jupyter-widgets/controls",
            "_view_module_version": "1.5.0",
            "_view_name": "ProgressView",
            "bar_style": "success",
            "description": "",
            "description_tooltip": null,
            "layout": "IPY_MODEL_5ef9220a7f5c4b97a6e32b70928e381e",
            "max": 2,
            "min": 0,
            "orientation": "horizontal",
            "style": "IPY_MODEL_6c8c1acdd9d8479ab2a3ed49d4450828",
            "value": 2
          }
        },
        "2f024ca0d69c441b943d20bfcf5e6519": {
          "model_module": "@jupyter-widgets/controls",
          "model_name": "HTMLModel",
          "model_module_version": "1.5.0",
          "state": {
            "_dom_classes": [],
            "_model_module": "@jupyter-widgets/controls",
            "_model_module_version": "1.5.0",
            "_model_name": "HTMLModel",
            "_view_count": null,
            "_view_module": "@jupyter-widgets/controls",
            "_view_module_version": "1.5.0",
            "_view_name": "HTMLView",
            "description": "",
            "description_tooltip": null,
            "layout": "IPY_MODEL_0b446c37e34d4327a2b0e5c70d8d160e",
            "placeholder": "​",
            "style": "IPY_MODEL_b4632a4a74d84832aa37da9f234540f2",
            "value": " 2/2 [00:00&lt;00:00, 107.50ba/s]"
          }
        },
        "069a898d1f474617a7f2c4e4ffde34c3": {
          "model_module": "@jupyter-widgets/base",
          "model_name": "LayoutModel",
          "model_module_version": "1.2.0",
          "state": {
            "_model_module": "@jupyter-widgets/base",
            "_model_module_version": "1.2.0",
            "_model_name": "LayoutModel",
            "_view_count": null,
            "_view_module": "@jupyter-widgets/base",
            "_view_module_version": "1.2.0",
            "_view_name": "LayoutView",
            "align_content": null,
            "align_items": null,
            "align_self": null,
            "border": null,
            "bottom": null,
            "display": null,
            "flex": null,
            "flex_flow": null,
            "grid_area": null,
            "grid_auto_columns": null,
            "grid_auto_flow": null,
            "grid_auto_rows": null,
            "grid_column": null,
            "grid_gap": null,
            "grid_row": null,
            "grid_template_areas": null,
            "grid_template_columns": null,
            "grid_template_rows": null,
            "height": null,
            "justify_content": null,
            "justify_items": null,
            "left": null,
            "margin": null,
            "max_height": null,
            "max_width": null,
            "min_height": null,
            "min_width": null,
            "object_fit": null,
            "object_position": null,
            "order": null,
            "overflow": null,
            "overflow_x": null,
            "overflow_y": null,
            "padding": null,
            "right": null,
            "top": null,
            "visibility": null,
            "width": null
          }
        },
        "72116390993541c5a8ce7b27618234c1": {
          "model_module": "@jupyter-widgets/base",
          "model_name": "LayoutModel",
          "model_module_version": "1.2.0",
          "state": {
            "_model_module": "@jupyter-widgets/base",
            "_model_module_version": "1.2.0",
            "_model_name": "LayoutModel",
            "_view_count": null,
            "_view_module": "@jupyter-widgets/base",
            "_view_module_version": "1.2.0",
            "_view_name": "LayoutView",
            "align_content": null,
            "align_items": null,
            "align_self": null,
            "border": null,
            "bottom": null,
            "display": null,
            "flex": null,
            "flex_flow": null,
            "grid_area": null,
            "grid_auto_columns": null,
            "grid_auto_flow": null,
            "grid_auto_rows": null,
            "grid_column": null,
            "grid_gap": null,
            "grid_row": null,
            "grid_template_areas": null,
            "grid_template_columns": null,
            "grid_template_rows": null,
            "height": null,
            "justify_content": null,
            "justify_items": null,
            "left": null,
            "margin": null,
            "max_height": null,
            "max_width": null,
            "min_height": null,
            "min_width": null,
            "object_fit": null,
            "object_position": null,
            "order": null,
            "overflow": null,
            "overflow_x": null,
            "overflow_y": null,
            "padding": null,
            "right": null,
            "top": null,
            "visibility": null,
            "width": null
          }
        },
        "7463ad8fe16c4c428c6cccec47189e4c": {
          "model_module": "@jupyter-widgets/controls",
          "model_name": "DescriptionStyleModel",
          "model_module_version": "1.5.0",
          "state": {
            "_model_module": "@jupyter-widgets/controls",
            "_model_module_version": "1.5.0",
            "_model_name": "DescriptionStyleModel",
            "_view_count": null,
            "_view_module": "@jupyter-widgets/base",
            "_view_module_version": "1.2.0",
            "_view_name": "StyleView",
            "description_width": ""
          }
        },
        "5ef9220a7f5c4b97a6e32b70928e381e": {
          "model_module": "@jupyter-widgets/base",
          "model_name": "LayoutModel",
          "model_module_version": "1.2.0",
          "state": {
            "_model_module": "@jupyter-widgets/base",
            "_model_module_version": "1.2.0",
            "_model_name": "LayoutModel",
            "_view_count": null,
            "_view_module": "@jupyter-widgets/base",
            "_view_module_version": "1.2.0",
            "_view_name": "LayoutView",
            "align_content": null,
            "align_items": null,
            "align_self": null,
            "border": null,
            "bottom": null,
            "display": null,
            "flex": null,
            "flex_flow": null,
            "grid_area": null,
            "grid_auto_columns": null,
            "grid_auto_flow": null,
            "grid_auto_rows": null,
            "grid_column": null,
            "grid_gap": null,
            "grid_row": null,
            "grid_template_areas": null,
            "grid_template_columns": null,
            "grid_template_rows": null,
            "height": null,
            "justify_content": null,
            "justify_items": null,
            "left": null,
            "margin": null,
            "max_height": null,
            "max_width": null,
            "min_height": null,
            "min_width": null,
            "object_fit": null,
            "object_position": null,
            "order": null,
            "overflow": null,
            "overflow_x": null,
            "overflow_y": null,
            "padding": null,
            "right": null,
            "top": null,
            "visibility": null,
            "width": null
          }
        },
        "6c8c1acdd9d8479ab2a3ed49d4450828": {
          "model_module": "@jupyter-widgets/controls",
          "model_name": "ProgressStyleModel",
          "model_module_version": "1.5.0",
          "state": {
            "_model_module": "@jupyter-widgets/controls",
            "_model_module_version": "1.5.0",
            "_model_name": "ProgressStyleModel",
            "_view_count": null,
            "_view_module": "@jupyter-widgets/base",
            "_view_module_version": "1.2.0",
            "_view_name": "StyleView",
            "bar_color": null,
            "description_width": ""
          }
        },
        "0b446c37e34d4327a2b0e5c70d8d160e": {
          "model_module": "@jupyter-widgets/base",
          "model_name": "LayoutModel",
          "model_module_version": "1.2.0",
          "state": {
            "_model_module": "@jupyter-widgets/base",
            "_model_module_version": "1.2.0",
            "_model_name": "LayoutModel",
            "_view_count": null,
            "_view_module": "@jupyter-widgets/base",
            "_view_module_version": "1.2.0",
            "_view_name": "LayoutView",
            "align_content": null,
            "align_items": null,
            "align_self": null,
            "border": null,
            "bottom": null,
            "display": null,
            "flex": null,
            "flex_flow": null,
            "grid_area": null,
            "grid_auto_columns": null,
            "grid_auto_flow": null,
            "grid_auto_rows": null,
            "grid_column": null,
            "grid_gap": null,
            "grid_row": null,
            "grid_template_areas": null,
            "grid_template_columns": null,
            "grid_template_rows": null,
            "height": null,
            "justify_content": null,
            "justify_items": null,
            "left": null,
            "margin": null,
            "max_height": null,
            "max_width": null,
            "min_height": null,
            "min_width": null,
            "object_fit": null,
            "object_position": null,
            "order": null,
            "overflow": null,
            "overflow_x": null,
            "overflow_y": null,
            "padding": null,
            "right": null,
            "top": null,
            "visibility": null,
            "width": null
          }
        },
        "b4632a4a74d84832aa37da9f234540f2": {
          "model_module": "@jupyter-widgets/controls",
          "model_name": "DescriptionStyleModel",
          "model_module_version": "1.5.0",
          "state": {
            "_model_module": "@jupyter-widgets/controls",
            "_model_module_version": "1.5.0",
            "_model_name": "DescriptionStyleModel",
            "_view_count": null,
            "_view_module": "@jupyter-widgets/base",
            "_view_module_version": "1.2.0",
            "_view_name": "StyleView",
            "description_width": ""
          }
        },
        "cf2fb0ddbca74cbe9fea11287dfb24fd": {
          "model_module": "@jupyter-widgets/controls",
          "model_name": "HBoxModel",
          "model_module_version": "1.5.0",
          "state": {
            "_dom_classes": [],
            "_model_module": "@jupyter-widgets/controls",
            "_model_module_version": "1.5.0",
            "_model_name": "HBoxModel",
            "_view_count": null,
            "_view_module": "@jupyter-widgets/controls",
            "_view_module_version": "1.5.0",
            "_view_name": "HBoxView",
            "box_style": "",
            "children": [
              "IPY_MODEL_105e6ee2c03c4db7b1566e9c936f8052",
              "IPY_MODEL_fc04c79146bb4a10ab416b9d4aade830",
              "IPY_MODEL_93c80005893a485d913b46adab1dc3eb"
            ],
            "layout": "IPY_MODEL_0fb691b80cf143849790632c95953e23"
          }
        },
        "105e6ee2c03c4db7b1566e9c936f8052": {
          "model_module": "@jupyter-widgets/controls",
          "model_name": "HTMLModel",
          "model_module_version": "1.5.0",
          "state": {
            "_dom_classes": [],
            "_model_module": "@jupyter-widgets/controls",
            "_model_module_version": "1.5.0",
            "_model_name": "HTMLModel",
            "_view_count": null,
            "_view_module": "@jupyter-widgets/controls",
            "_view_module_version": "1.5.0",
            "_view_name": "HTMLView",
            "description": "",
            "description_tooltip": null,
            "layout": "IPY_MODEL_322db77862a44327b870bb3fdc570eca",
            "placeholder": "​",
            "style": "IPY_MODEL_44870b4d75b3496a9bc1bd851990552b",
            "value": "config.json: 100%"
          }
        },
        "fc04c79146bb4a10ab416b9d4aade830": {
          "model_module": "@jupyter-widgets/controls",
          "model_name": "FloatProgressModel",
          "model_module_version": "1.5.0",
          "state": {
            "_dom_classes": [],
            "_model_module": "@jupyter-widgets/controls",
            "_model_module_version": "1.5.0",
            "_model_name": "FloatProgressModel",
            "_view_count": null,
            "_view_module": "@jupyter-widgets/controls",
            "_view_module_version": "1.5.0",
            "_view_name": "ProgressView",
            "bar_style": "success",
            "description": "",
            "description_tooltip": null,
            "layout": "IPY_MODEL_453d7d151a1442a8907d88e539951757",
            "max": 319,
            "min": 0,
            "orientation": "horizontal",
            "style": "IPY_MODEL_3d4b3eda116a437899c70deb00a788a6",
            "value": 319
          }
        },
        "93c80005893a485d913b46adab1dc3eb": {
          "model_module": "@jupyter-widgets/controls",
          "model_name": "HTMLModel",
          "model_module_version": "1.5.0",
          "state": {
            "_dom_classes": [],
            "_model_module": "@jupyter-widgets/controls",
            "_model_module_version": "1.5.0",
            "_model_name": "HTMLModel",
            "_view_count": null,
            "_view_module": "@jupyter-widgets/controls",
            "_view_module_version": "1.5.0",
            "_view_name": "HTMLView",
            "description": "",
            "description_tooltip": null,
            "layout": "IPY_MODEL_9040de7d22f143c182183c01dbc12310",
            "placeholder": "​",
            "style": "IPY_MODEL_c4644e1e53794805ba842574bc982606",
            "value": " 319/319 [00:00&lt;00:00, 25.2kB/s]"
          }
        },
        "0fb691b80cf143849790632c95953e23": {
          "model_module": "@jupyter-widgets/base",
          "model_name": "LayoutModel",
          "model_module_version": "1.2.0",
          "state": {
            "_model_module": "@jupyter-widgets/base",
            "_model_module_version": "1.2.0",
            "_model_name": "LayoutModel",
            "_view_count": null,
            "_view_module": "@jupyter-widgets/base",
            "_view_module_version": "1.2.0",
            "_view_name": "LayoutView",
            "align_content": null,
            "align_items": null,
            "align_self": null,
            "border": null,
            "bottom": null,
            "display": null,
            "flex": null,
            "flex_flow": null,
            "grid_area": null,
            "grid_auto_columns": null,
            "grid_auto_flow": null,
            "grid_auto_rows": null,
            "grid_column": null,
            "grid_gap": null,
            "grid_row": null,
            "grid_template_areas": null,
            "grid_template_columns": null,
            "grid_template_rows": null,
            "height": null,
            "justify_content": null,
            "justify_items": null,
            "left": null,
            "margin": null,
            "max_height": null,
            "max_width": null,
            "min_height": null,
            "min_width": null,
            "object_fit": null,
            "object_position": null,
            "order": null,
            "overflow": null,
            "overflow_x": null,
            "overflow_y": null,
            "padding": null,
            "right": null,
            "top": null,
            "visibility": null,
            "width": null
          }
        },
        "322db77862a44327b870bb3fdc570eca": {
          "model_module": "@jupyter-widgets/base",
          "model_name": "LayoutModel",
          "model_module_version": "1.2.0",
          "state": {
            "_model_module": "@jupyter-widgets/base",
            "_model_module_version": "1.2.0",
            "_model_name": "LayoutModel",
            "_view_count": null,
            "_view_module": "@jupyter-widgets/base",
            "_view_module_version": "1.2.0",
            "_view_name": "LayoutView",
            "align_content": null,
            "align_items": null,
            "align_self": null,
            "border": null,
            "bottom": null,
            "display": null,
            "flex": null,
            "flex_flow": null,
            "grid_area": null,
            "grid_auto_columns": null,
            "grid_auto_flow": null,
            "grid_auto_rows": null,
            "grid_column": null,
            "grid_gap": null,
            "grid_row": null,
            "grid_template_areas": null,
            "grid_template_columns": null,
            "grid_template_rows": null,
            "height": null,
            "justify_content": null,
            "justify_items": null,
            "left": null,
            "margin": null,
            "max_height": null,
            "max_width": null,
            "min_height": null,
            "min_width": null,
            "object_fit": null,
            "object_position": null,
            "order": null,
            "overflow": null,
            "overflow_x": null,
            "overflow_y": null,
            "padding": null,
            "right": null,
            "top": null,
            "visibility": null,
            "width": null
          }
        },
        "44870b4d75b3496a9bc1bd851990552b": {
          "model_module": "@jupyter-widgets/controls",
          "model_name": "DescriptionStyleModel",
          "model_module_version": "1.5.0",
          "state": {
            "_model_module": "@jupyter-widgets/controls",
            "_model_module_version": "1.5.0",
            "_model_name": "DescriptionStyleModel",
            "_view_count": null,
            "_view_module": "@jupyter-widgets/base",
            "_view_module_version": "1.2.0",
            "_view_name": "StyleView",
            "description_width": ""
          }
        },
        "453d7d151a1442a8907d88e539951757": {
          "model_module": "@jupyter-widgets/base",
          "model_name": "LayoutModel",
          "model_module_version": "1.2.0",
          "state": {
            "_model_module": "@jupyter-widgets/base",
            "_model_module_version": "1.2.0",
            "_model_name": "LayoutModel",
            "_view_count": null,
            "_view_module": "@jupyter-widgets/base",
            "_view_module_version": "1.2.0",
            "_view_name": "LayoutView",
            "align_content": null,
            "align_items": null,
            "align_self": null,
            "border": null,
            "bottom": null,
            "display": null,
            "flex": null,
            "flex_flow": null,
            "grid_area": null,
            "grid_auto_columns": null,
            "grid_auto_flow": null,
            "grid_auto_rows": null,
            "grid_column": null,
            "grid_gap": null,
            "grid_row": null,
            "grid_template_areas": null,
            "grid_template_columns": null,
            "grid_template_rows": null,
            "height": null,
            "justify_content": null,
            "justify_items": null,
            "left": null,
            "margin": null,
            "max_height": null,
            "max_width": null,
            "min_height": null,
            "min_width": null,
            "object_fit": null,
            "object_position": null,
            "order": null,
            "overflow": null,
            "overflow_x": null,
            "overflow_y": null,
            "padding": null,
            "right": null,
            "top": null,
            "visibility": null,
            "width": null
          }
        },
        "3d4b3eda116a437899c70deb00a788a6": {
          "model_module": "@jupyter-widgets/controls",
          "model_name": "ProgressStyleModel",
          "model_module_version": "1.5.0",
          "state": {
            "_model_module": "@jupyter-widgets/controls",
            "_model_module_version": "1.5.0",
            "_model_name": "ProgressStyleModel",
            "_view_count": null,
            "_view_module": "@jupyter-widgets/base",
            "_view_module_version": "1.2.0",
            "_view_name": "StyleView",
            "bar_color": null,
            "description_width": ""
          }
        },
        "9040de7d22f143c182183c01dbc12310": {
          "model_module": "@jupyter-widgets/base",
          "model_name": "LayoutModel",
          "model_module_version": "1.2.0",
          "state": {
            "_model_module": "@jupyter-widgets/base",
            "_model_module_version": "1.2.0",
            "_model_name": "LayoutModel",
            "_view_count": null,
            "_view_module": "@jupyter-widgets/base",
            "_view_module_version": "1.2.0",
            "_view_name": "LayoutView",
            "align_content": null,
            "align_items": null,
            "align_self": null,
            "border": null,
            "bottom": null,
            "display": null,
            "flex": null,
            "flex_flow": null,
            "grid_area": null,
            "grid_auto_columns": null,
            "grid_auto_flow": null,
            "grid_auto_rows": null,
            "grid_column": null,
            "grid_gap": null,
            "grid_row": null,
            "grid_template_areas": null,
            "grid_template_columns": null,
            "grid_template_rows": null,
            "height": null,
            "justify_content": null,
            "justify_items": null,
            "left": null,
            "margin": null,
            "max_height": null,
            "max_width": null,
            "min_height": null,
            "min_width": null,
            "object_fit": null,
            "object_position": null,
            "order": null,
            "overflow": null,
            "overflow_x": null,
            "overflow_y": null,
            "padding": null,
            "right": null,
            "top": null,
            "visibility": null,
            "width": null
          }
        },
        "c4644e1e53794805ba842574bc982606": {
          "model_module": "@jupyter-widgets/controls",
          "model_name": "DescriptionStyleModel",
          "model_module_version": "1.5.0",
          "state": {
            "_model_module": "@jupyter-widgets/controls",
            "_model_module_version": "1.5.0",
            "_model_name": "DescriptionStyleModel",
            "_view_count": null,
            "_view_module": "@jupyter-widgets/base",
            "_view_module_version": "1.2.0",
            "_view_name": "StyleView",
            "description_width": ""
          }
        },
        "eb847c7b7dd146dea7f77b67b0a478fe": {
          "model_module": "@jupyter-widgets/controls",
          "model_name": "HBoxModel",
          "model_module_version": "1.5.0",
          "state": {
            "_dom_classes": [],
            "_model_module": "@jupyter-widgets/controls",
            "_model_module_version": "1.5.0",
            "_model_name": "HBoxModel",
            "_view_count": null,
            "_view_module": "@jupyter-widgets/controls",
            "_view_module_version": "1.5.0",
            "_view_name": "HBoxView",
            "box_style": "",
            "children": [
              "IPY_MODEL_938cf35adb8b405695f72f99b3c50ca8",
              "IPY_MODEL_909fa56a84ed4092b8101f490c434780",
              "IPY_MODEL_ae9ae33f842a4da69fac05691d2257ed"
            ],
            "layout": "IPY_MODEL_92a86abaee51427cb2ef5f57e3071c53"
          }
        },
        "938cf35adb8b405695f72f99b3c50ca8": {
          "model_module": "@jupyter-widgets/controls",
          "model_name": "HTMLModel",
          "model_module_version": "1.5.0",
          "state": {
            "_dom_classes": [],
            "_model_module": "@jupyter-widgets/controls",
            "_model_module_version": "1.5.0",
            "_model_name": "HTMLModel",
            "_view_count": null,
            "_view_module": "@jupyter-widgets/controls",
            "_view_module_version": "1.5.0",
            "_view_name": "HTMLView",
            "description": "",
            "description_tooltip": null,
            "layout": "IPY_MODEL_5d445a2dd4e444a6811119be0697df3b",
            "placeholder": "​",
            "style": "IPY_MODEL_c3bf578313c84fc0bbfea2db4a2a92f0",
            "value": "configuration_moondream.py: 100%"
          }
        },
        "909fa56a84ed4092b8101f490c434780": {
          "model_module": "@jupyter-widgets/controls",
          "model_name": "FloatProgressModel",
          "model_module_version": "1.5.0",
          "state": {
            "_dom_classes": [],
            "_model_module": "@jupyter-widgets/controls",
            "_model_module_version": "1.5.0",
            "_model_name": "FloatProgressModel",
            "_view_count": null,
            "_view_module": "@jupyter-widgets/controls",
            "_view_module_version": "1.5.0",
            "_view_name": "ProgressView",
            "bar_style": "success",
            "description": "",
            "description_tooltip": null,
            "layout": "IPY_MODEL_1d145e64a18e402fb41a73efeb0a3d2d",
            "max": 3343,
            "min": 0,
            "orientation": "horizontal",
            "style": "IPY_MODEL_cf90c1acee1945c295cf8b1ea915bfed",
            "value": 3343
          }
        },
        "ae9ae33f842a4da69fac05691d2257ed": {
          "model_module": "@jupyter-widgets/controls",
          "model_name": "HTMLModel",
          "model_module_version": "1.5.0",
          "state": {
            "_dom_classes": [],
            "_model_module": "@jupyter-widgets/controls",
            "_model_module_version": "1.5.0",
            "_model_name": "HTMLModel",
            "_view_count": null,
            "_view_module": "@jupyter-widgets/controls",
            "_view_module_version": "1.5.0",
            "_view_name": "HTMLView",
            "description": "",
            "description_tooltip": null,
            "layout": "IPY_MODEL_568c4650b8f44d90aff724463676afcb",
            "placeholder": "​",
            "style": "IPY_MODEL_7eff61bd70234aae90578e0cbbe325d8",
            "value": " 3.34k/3.34k [00:00&lt;00:00, 254kB/s]"
          }
        },
        "92a86abaee51427cb2ef5f57e3071c53": {
          "model_module": "@jupyter-widgets/base",
          "model_name": "LayoutModel",
          "model_module_version": "1.2.0",
          "state": {
            "_model_module": "@jupyter-widgets/base",
            "_model_module_version": "1.2.0",
            "_model_name": "LayoutModel",
            "_view_count": null,
            "_view_module": "@jupyter-widgets/base",
            "_view_module_version": "1.2.0",
            "_view_name": "LayoutView",
            "align_content": null,
            "align_items": null,
            "align_self": null,
            "border": null,
            "bottom": null,
            "display": null,
            "flex": null,
            "flex_flow": null,
            "grid_area": null,
            "grid_auto_columns": null,
            "grid_auto_flow": null,
            "grid_auto_rows": null,
            "grid_column": null,
            "grid_gap": null,
            "grid_row": null,
            "grid_template_areas": null,
            "grid_template_columns": null,
            "grid_template_rows": null,
            "height": null,
            "justify_content": null,
            "justify_items": null,
            "left": null,
            "margin": null,
            "max_height": null,
            "max_width": null,
            "min_height": null,
            "min_width": null,
            "object_fit": null,
            "object_position": null,
            "order": null,
            "overflow": null,
            "overflow_x": null,
            "overflow_y": null,
            "padding": null,
            "right": null,
            "top": null,
            "visibility": null,
            "width": null
          }
        },
        "5d445a2dd4e444a6811119be0697df3b": {
          "model_module": "@jupyter-widgets/base",
          "model_name": "LayoutModel",
          "model_module_version": "1.2.0",
          "state": {
            "_model_module": "@jupyter-widgets/base",
            "_model_module_version": "1.2.0",
            "_model_name": "LayoutModel",
            "_view_count": null,
            "_view_module": "@jupyter-widgets/base",
            "_view_module_version": "1.2.0",
            "_view_name": "LayoutView",
            "align_content": null,
            "align_items": null,
            "align_self": null,
            "border": null,
            "bottom": null,
            "display": null,
            "flex": null,
            "flex_flow": null,
            "grid_area": null,
            "grid_auto_columns": null,
            "grid_auto_flow": null,
            "grid_auto_rows": null,
            "grid_column": null,
            "grid_gap": null,
            "grid_row": null,
            "grid_template_areas": null,
            "grid_template_columns": null,
            "grid_template_rows": null,
            "height": null,
            "justify_content": null,
            "justify_items": null,
            "left": null,
            "margin": null,
            "max_height": null,
            "max_width": null,
            "min_height": null,
            "min_width": null,
            "object_fit": null,
            "object_position": null,
            "order": null,
            "overflow": null,
            "overflow_x": null,
            "overflow_y": null,
            "padding": null,
            "right": null,
            "top": null,
            "visibility": null,
            "width": null
          }
        },
        "c3bf578313c84fc0bbfea2db4a2a92f0": {
          "model_module": "@jupyter-widgets/controls",
          "model_name": "DescriptionStyleModel",
          "model_module_version": "1.5.0",
          "state": {
            "_model_module": "@jupyter-widgets/controls",
            "_model_module_version": "1.5.0",
            "_model_name": "DescriptionStyleModel",
            "_view_count": null,
            "_view_module": "@jupyter-widgets/base",
            "_view_module_version": "1.2.0",
            "_view_name": "StyleView",
            "description_width": ""
          }
        },
        "1d145e64a18e402fb41a73efeb0a3d2d": {
          "model_module": "@jupyter-widgets/base",
          "model_name": "LayoutModel",
          "model_module_version": "1.2.0",
          "state": {
            "_model_module": "@jupyter-widgets/base",
            "_model_module_version": "1.2.0",
            "_model_name": "LayoutModel",
            "_view_count": null,
            "_view_module": "@jupyter-widgets/base",
            "_view_module_version": "1.2.0",
            "_view_name": "LayoutView",
            "align_content": null,
            "align_items": null,
            "align_self": null,
            "border": null,
            "bottom": null,
            "display": null,
            "flex": null,
            "flex_flow": null,
            "grid_area": null,
            "grid_auto_columns": null,
            "grid_auto_flow": null,
            "grid_auto_rows": null,
            "grid_column": null,
            "grid_gap": null,
            "grid_row": null,
            "grid_template_areas": null,
            "grid_template_columns": null,
            "grid_template_rows": null,
            "height": null,
            "justify_content": null,
            "justify_items": null,
            "left": null,
            "margin": null,
            "max_height": null,
            "max_width": null,
            "min_height": null,
            "min_width": null,
            "object_fit": null,
            "object_position": null,
            "order": null,
            "overflow": null,
            "overflow_x": null,
            "overflow_y": null,
            "padding": null,
            "right": null,
            "top": null,
            "visibility": null,
            "width": null
          }
        },
        "cf90c1acee1945c295cf8b1ea915bfed": {
          "model_module": "@jupyter-widgets/controls",
          "model_name": "ProgressStyleModel",
          "model_module_version": "1.5.0",
          "state": {
            "_model_module": "@jupyter-widgets/controls",
            "_model_module_version": "1.5.0",
            "_model_name": "ProgressStyleModel",
            "_view_count": null,
            "_view_module": "@jupyter-widgets/base",
            "_view_module_version": "1.2.0",
            "_view_name": "StyleView",
            "bar_color": null,
            "description_width": ""
          }
        },
        "568c4650b8f44d90aff724463676afcb": {
          "model_module": "@jupyter-widgets/base",
          "model_name": "LayoutModel",
          "model_module_version": "1.2.0",
          "state": {
            "_model_module": "@jupyter-widgets/base",
            "_model_module_version": "1.2.0",
            "_model_name": "LayoutModel",
            "_view_count": null,
            "_view_module": "@jupyter-widgets/base",
            "_view_module_version": "1.2.0",
            "_view_name": "LayoutView",
            "align_content": null,
            "align_items": null,
            "align_self": null,
            "border": null,
            "bottom": null,
            "display": null,
            "flex": null,
            "flex_flow": null,
            "grid_area": null,
            "grid_auto_columns": null,
            "grid_auto_flow": null,
            "grid_auto_rows": null,
            "grid_column": null,
            "grid_gap": null,
            "grid_row": null,
            "grid_template_areas": null,
            "grid_template_columns": null,
            "grid_template_rows": null,
            "height": null,
            "justify_content": null,
            "justify_items": null,
            "left": null,
            "margin": null,
            "max_height": null,
            "max_width": null,
            "min_height": null,
            "min_width": null,
            "object_fit": null,
            "object_position": null,
            "order": null,
            "overflow": null,
            "overflow_x": null,
            "overflow_y": null,
            "padding": null,
            "right": null,
            "top": null,
            "visibility": null,
            "width": null
          }
        },
        "7eff61bd70234aae90578e0cbbe325d8": {
          "model_module": "@jupyter-widgets/controls",
          "model_name": "DescriptionStyleModel",
          "model_module_version": "1.5.0",
          "state": {
            "_model_module": "@jupyter-widgets/controls",
            "_model_module_version": "1.5.0",
            "_model_name": "DescriptionStyleModel",
            "_view_count": null,
            "_view_module": "@jupyter-widgets/base",
            "_view_module_version": "1.2.0",
            "_view_name": "StyleView",
            "description_width": ""
          }
        },
        "f77897f0e0464baf80a98b7d9d1b03ae": {
          "model_module": "@jupyter-widgets/controls",
          "model_name": "HBoxModel",
          "model_module_version": "1.5.0",
          "state": {
            "_dom_classes": [],
            "_model_module": "@jupyter-widgets/controls",
            "_model_module_version": "1.5.0",
            "_model_name": "HBoxModel",
            "_view_count": null,
            "_view_module": "@jupyter-widgets/controls",
            "_view_module_version": "1.5.0",
            "_view_name": "HBoxView",
            "box_style": "",
            "children": [
              "IPY_MODEL_befa12e548914f9db3a4b1cda358e6ee",
              "IPY_MODEL_e08124db7ad2478cbb823e3ac5dfa894",
              "IPY_MODEL_bde7a4f067394d4b99b9c5e981c5d760"
            ],
            "layout": "IPY_MODEL_ded21be81df04c8e9703d51b6f3c32af"
          }
        },
        "befa12e548914f9db3a4b1cda358e6ee": {
          "model_module": "@jupyter-widgets/controls",
          "model_name": "HTMLModel",
          "model_module_version": "1.5.0",
          "state": {
            "_dom_classes": [],
            "_model_module": "@jupyter-widgets/controls",
            "_model_module_version": "1.5.0",
            "_model_name": "HTMLModel",
            "_view_count": null,
            "_view_module": "@jupyter-widgets/controls",
            "_view_module_version": "1.5.0",
            "_view_name": "HTMLView",
            "description": "",
            "description_tooltip": null,
            "layout": "IPY_MODEL_ea6339bafc374a82a3d65a444649e91d",
            "placeholder": "​",
            "style": "IPY_MODEL_f3686980dc604b5887c9d94c8f868e45",
            "value": "moondream.py: 100%"
          }
        },
        "e08124db7ad2478cbb823e3ac5dfa894": {
          "model_module": "@jupyter-widgets/controls",
          "model_name": "FloatProgressModel",
          "model_module_version": "1.5.0",
          "state": {
            "_dom_classes": [],
            "_model_module": "@jupyter-widgets/controls",
            "_model_module_version": "1.5.0",
            "_model_name": "FloatProgressModel",
            "_view_count": null,
            "_view_module": "@jupyter-widgets/controls",
            "_view_module_version": "1.5.0",
            "_view_name": "ProgressView",
            "bar_style": "success",
            "description": "",
            "description_tooltip": null,
            "layout": "IPY_MODEL_f8d2af1ef107404a8308c1c48417f5b7",
            "max": 7201,
            "min": 0,
            "orientation": "horizontal",
            "style": "IPY_MODEL_160be9130eb140a387c7bbffd8a73c69",
            "value": 7201
          }
        },
        "bde7a4f067394d4b99b9c5e981c5d760": {
          "model_module": "@jupyter-widgets/controls",
          "model_name": "HTMLModel",
          "model_module_version": "1.5.0",
          "state": {
            "_dom_classes": [],
            "_model_module": "@jupyter-widgets/controls",
            "_model_module_version": "1.5.0",
            "_model_name": "HTMLModel",
            "_view_count": null,
            "_view_module": "@jupyter-widgets/controls",
            "_view_module_version": "1.5.0",
            "_view_name": "HTMLView",
            "description": "",
            "description_tooltip": null,
            "layout": "IPY_MODEL_effac36b405e48e88eaaabb27182c2bb",
            "placeholder": "​",
            "style": "IPY_MODEL_cb830ca1541d4dfd8ce6f971ff19ec5c",
            "value": " 7.20k/7.20k [00:00&lt;00:00, 564kB/s]"
          }
        },
        "ded21be81df04c8e9703d51b6f3c32af": {
          "model_module": "@jupyter-widgets/base",
          "model_name": "LayoutModel",
          "model_module_version": "1.2.0",
          "state": {
            "_model_module": "@jupyter-widgets/base",
            "_model_module_version": "1.2.0",
            "_model_name": "LayoutModel",
            "_view_count": null,
            "_view_module": "@jupyter-widgets/base",
            "_view_module_version": "1.2.0",
            "_view_name": "LayoutView",
            "align_content": null,
            "align_items": null,
            "align_self": null,
            "border": null,
            "bottom": null,
            "display": null,
            "flex": null,
            "flex_flow": null,
            "grid_area": null,
            "grid_auto_columns": null,
            "grid_auto_flow": null,
            "grid_auto_rows": null,
            "grid_column": null,
            "grid_gap": null,
            "grid_row": null,
            "grid_template_areas": null,
            "grid_template_columns": null,
            "grid_template_rows": null,
            "height": null,
            "justify_content": null,
            "justify_items": null,
            "left": null,
            "margin": null,
            "max_height": null,
            "max_width": null,
            "min_height": null,
            "min_width": null,
            "object_fit": null,
            "object_position": null,
            "order": null,
            "overflow": null,
            "overflow_x": null,
            "overflow_y": null,
            "padding": null,
            "right": null,
            "top": null,
            "visibility": null,
            "width": null
          }
        },
        "ea6339bafc374a82a3d65a444649e91d": {
          "model_module": "@jupyter-widgets/base",
          "model_name": "LayoutModel",
          "model_module_version": "1.2.0",
          "state": {
            "_model_module": "@jupyter-widgets/base",
            "_model_module_version": "1.2.0",
            "_model_name": "LayoutModel",
            "_view_count": null,
            "_view_module": "@jupyter-widgets/base",
            "_view_module_version": "1.2.0",
            "_view_name": "LayoutView",
            "align_content": null,
            "align_items": null,
            "align_self": null,
            "border": null,
            "bottom": null,
            "display": null,
            "flex": null,
            "flex_flow": null,
            "grid_area": null,
            "grid_auto_columns": null,
            "grid_auto_flow": null,
            "grid_auto_rows": null,
            "grid_column": null,
            "grid_gap": null,
            "grid_row": null,
            "grid_template_areas": null,
            "grid_template_columns": null,
            "grid_template_rows": null,
            "height": null,
            "justify_content": null,
            "justify_items": null,
            "left": null,
            "margin": null,
            "max_height": null,
            "max_width": null,
            "min_height": null,
            "min_width": null,
            "object_fit": null,
            "object_position": null,
            "order": null,
            "overflow": null,
            "overflow_x": null,
            "overflow_y": null,
            "padding": null,
            "right": null,
            "top": null,
            "visibility": null,
            "width": null
          }
        },
        "f3686980dc604b5887c9d94c8f868e45": {
          "model_module": "@jupyter-widgets/controls",
          "model_name": "DescriptionStyleModel",
          "model_module_version": "1.5.0",
          "state": {
            "_model_module": "@jupyter-widgets/controls",
            "_model_module_version": "1.5.0",
            "_model_name": "DescriptionStyleModel",
            "_view_count": null,
            "_view_module": "@jupyter-widgets/base",
            "_view_module_version": "1.2.0",
            "_view_name": "StyleView",
            "description_width": ""
          }
        },
        "f8d2af1ef107404a8308c1c48417f5b7": {
          "model_module": "@jupyter-widgets/base",
          "model_name": "LayoutModel",
          "model_module_version": "1.2.0",
          "state": {
            "_model_module": "@jupyter-widgets/base",
            "_model_module_version": "1.2.0",
            "_model_name": "LayoutModel",
            "_view_count": null,
            "_view_module": "@jupyter-widgets/base",
            "_view_module_version": "1.2.0",
            "_view_name": "LayoutView",
            "align_content": null,
            "align_items": null,
            "align_self": null,
            "border": null,
            "bottom": null,
            "display": null,
            "flex": null,
            "flex_flow": null,
            "grid_area": null,
            "grid_auto_columns": null,
            "grid_auto_flow": null,
            "grid_auto_rows": null,
            "grid_column": null,
            "grid_gap": null,
            "grid_row": null,
            "grid_template_areas": null,
            "grid_template_columns": null,
            "grid_template_rows": null,
            "height": null,
            "justify_content": null,
            "justify_items": null,
            "left": null,
            "margin": null,
            "max_height": null,
            "max_width": null,
            "min_height": null,
            "min_width": null,
            "object_fit": null,
            "object_position": null,
            "order": null,
            "overflow": null,
            "overflow_x": null,
            "overflow_y": null,
            "padding": null,
            "right": null,
            "top": null,
            "visibility": null,
            "width": null
          }
        },
        "160be9130eb140a387c7bbffd8a73c69": {
          "model_module": "@jupyter-widgets/controls",
          "model_name": "ProgressStyleModel",
          "model_module_version": "1.5.0",
          "state": {
            "_model_module": "@jupyter-widgets/controls",
            "_model_module_version": "1.5.0",
            "_model_name": "ProgressStyleModel",
            "_view_count": null,
            "_view_module": "@jupyter-widgets/base",
            "_view_module_version": "1.2.0",
            "_view_name": "StyleView",
            "bar_color": null,
            "description_width": ""
          }
        },
        "effac36b405e48e88eaaabb27182c2bb": {
          "model_module": "@jupyter-widgets/base",
          "model_name": "LayoutModel",
          "model_module_version": "1.2.0",
          "state": {
            "_model_module": "@jupyter-widgets/base",
            "_model_module_version": "1.2.0",
            "_model_name": "LayoutModel",
            "_view_count": null,
            "_view_module": "@jupyter-widgets/base",
            "_view_module_version": "1.2.0",
            "_view_name": "LayoutView",
            "align_content": null,
            "align_items": null,
            "align_self": null,
            "border": null,
            "bottom": null,
            "display": null,
            "flex": null,
            "flex_flow": null,
            "grid_area": null,
            "grid_auto_columns": null,
            "grid_auto_flow": null,
            "grid_auto_rows": null,
            "grid_column": null,
            "grid_gap": null,
            "grid_row": null,
            "grid_template_areas": null,
            "grid_template_columns": null,
            "grid_template_rows": null,
            "height": null,
            "justify_content": null,
            "justify_items": null,
            "left": null,
            "margin": null,
            "max_height": null,
            "max_width": null,
            "min_height": null,
            "min_width": null,
            "object_fit": null,
            "object_position": null,
            "order": null,
            "overflow": null,
            "overflow_x": null,
            "overflow_y": null,
            "padding": null,
            "right": null,
            "top": null,
            "visibility": null,
            "width": null
          }
        },
        "cb830ca1541d4dfd8ce6f971ff19ec5c": {
          "model_module": "@jupyter-widgets/controls",
          "model_name": "DescriptionStyleModel",
          "model_module_version": "1.5.0",
          "state": {
            "_model_module": "@jupyter-widgets/controls",
            "_model_module_version": "1.5.0",
            "_model_name": "DescriptionStyleModel",
            "_view_count": null,
            "_view_module": "@jupyter-widgets/base",
            "_view_module_version": "1.2.0",
            "_view_name": "StyleView",
            "description_width": ""
          }
        },
        "00ff56c690934a7c9d22516ca07eee6d": {
          "model_module": "@jupyter-widgets/controls",
          "model_name": "HBoxModel",
          "model_module_version": "1.5.0",
          "state": {
            "_dom_classes": [],
            "_model_module": "@jupyter-widgets/controls",
            "_model_module_version": "1.5.0",
            "_model_name": "HBoxModel",
            "_view_count": null,
            "_view_module": "@jupyter-widgets/controls",
            "_view_module_version": "1.5.0",
            "_view_name": "HBoxView",
            "box_style": "",
            "children": [
              "IPY_MODEL_70d140462d1f482fa6210e67fc75e0b5",
              "IPY_MODEL_ddd72eb24aa842e08fe7c1defaa9ea2f",
              "IPY_MODEL_7cd22dea17e34ff4bf76e0521e01f151"
            ],
            "layout": "IPY_MODEL_3ffcb81e8f2e40dfa53b737ad83082f1"
          }
        },
        "70d140462d1f482fa6210e67fc75e0b5": {
          "model_module": "@jupyter-widgets/controls",
          "model_name": "HTMLModel",
          "model_module_version": "1.5.0",
          "state": {
            "_dom_classes": [],
            "_model_module": "@jupyter-widgets/controls",
            "_model_module_version": "1.5.0",
            "_model_name": "HTMLModel",
            "_view_count": null,
            "_view_module": "@jupyter-widgets/controls",
            "_view_module_version": "1.5.0",
            "_view_name": "HTMLView",
            "description": "",
            "description_tooltip": null,
            "layout": "IPY_MODEL_e42431f027c34c51b985ff3e9f3ac99e",
            "placeholder": "​",
            "style": "IPY_MODEL_abbd74a249ab4dbc854f90dcd024159e",
            "value": "modeling_phi.py: 100%"
          }
        },
        "ddd72eb24aa842e08fe7c1defaa9ea2f": {
          "model_module": "@jupyter-widgets/controls",
          "model_name": "FloatProgressModel",
          "model_module_version": "1.5.0",
          "state": {
            "_dom_classes": [],
            "_model_module": "@jupyter-widgets/controls",
            "_model_module_version": "1.5.0",
            "_model_name": "FloatProgressModel",
            "_view_count": null,
            "_view_module": "@jupyter-widgets/controls",
            "_view_module_version": "1.5.0",
            "_view_name": "ProgressView",
            "bar_style": "success",
            "description": "",
            "description_tooltip": null,
            "layout": "IPY_MODEL_4aca208f97b54dffa3285f0efc6a2552",
            "max": 63126,
            "min": 0,
            "orientation": "horizontal",
            "style": "IPY_MODEL_ad31b2974b184fe9b8eee33e15a04671",
            "value": 63126
          }
        },
        "7cd22dea17e34ff4bf76e0521e01f151": {
          "model_module": "@jupyter-widgets/controls",
          "model_name": "HTMLModel",
          "model_module_version": "1.5.0",
          "state": {
            "_dom_classes": [],
            "_model_module": "@jupyter-widgets/controls",
            "_model_module_version": "1.5.0",
            "_model_name": "HTMLModel",
            "_view_count": null,
            "_view_module": "@jupyter-widgets/controls",
            "_view_module_version": "1.5.0",
            "_view_name": "HTMLView",
            "description": "",
            "description_tooltip": null,
            "layout": "IPY_MODEL_17efb53c71734f8abf548708083b03c3",
            "placeholder": "​",
            "style": "IPY_MODEL_2afe269a8ce247d7a7b23966a240600d",
            "value": " 63.1k/63.1k [00:00&lt;00:00, 3.25MB/s]"
          }
        },
        "3ffcb81e8f2e40dfa53b737ad83082f1": {
          "model_module": "@jupyter-widgets/base",
          "model_name": "LayoutModel",
          "model_module_version": "1.2.0",
          "state": {
            "_model_module": "@jupyter-widgets/base",
            "_model_module_version": "1.2.0",
            "_model_name": "LayoutModel",
            "_view_count": null,
            "_view_module": "@jupyter-widgets/base",
            "_view_module_version": "1.2.0",
            "_view_name": "LayoutView",
            "align_content": null,
            "align_items": null,
            "align_self": null,
            "border": null,
            "bottom": null,
            "display": null,
            "flex": null,
            "flex_flow": null,
            "grid_area": null,
            "grid_auto_columns": null,
            "grid_auto_flow": null,
            "grid_auto_rows": null,
            "grid_column": null,
            "grid_gap": null,
            "grid_row": null,
            "grid_template_areas": null,
            "grid_template_columns": null,
            "grid_template_rows": null,
            "height": null,
            "justify_content": null,
            "justify_items": null,
            "left": null,
            "margin": null,
            "max_height": null,
            "max_width": null,
            "min_height": null,
            "min_width": null,
            "object_fit": null,
            "object_position": null,
            "order": null,
            "overflow": null,
            "overflow_x": null,
            "overflow_y": null,
            "padding": null,
            "right": null,
            "top": null,
            "visibility": null,
            "width": null
          }
        },
        "e42431f027c34c51b985ff3e9f3ac99e": {
          "model_module": "@jupyter-widgets/base",
          "model_name": "LayoutModel",
          "model_module_version": "1.2.0",
          "state": {
            "_model_module": "@jupyter-widgets/base",
            "_model_module_version": "1.2.0",
            "_model_name": "LayoutModel",
            "_view_count": null,
            "_view_module": "@jupyter-widgets/base",
            "_view_module_version": "1.2.0",
            "_view_name": "LayoutView",
            "align_content": null,
            "align_items": null,
            "align_self": null,
            "border": null,
            "bottom": null,
            "display": null,
            "flex": null,
            "flex_flow": null,
            "grid_area": null,
            "grid_auto_columns": null,
            "grid_auto_flow": null,
            "grid_auto_rows": null,
            "grid_column": null,
            "grid_gap": null,
            "grid_row": null,
            "grid_template_areas": null,
            "grid_template_columns": null,
            "grid_template_rows": null,
            "height": null,
            "justify_content": null,
            "justify_items": null,
            "left": null,
            "margin": null,
            "max_height": null,
            "max_width": null,
            "min_height": null,
            "min_width": null,
            "object_fit": null,
            "object_position": null,
            "order": null,
            "overflow": null,
            "overflow_x": null,
            "overflow_y": null,
            "padding": null,
            "right": null,
            "top": null,
            "visibility": null,
            "width": null
          }
        },
        "abbd74a249ab4dbc854f90dcd024159e": {
          "model_module": "@jupyter-widgets/controls",
          "model_name": "DescriptionStyleModel",
          "model_module_version": "1.5.0",
          "state": {
            "_model_module": "@jupyter-widgets/controls",
            "_model_module_version": "1.5.0",
            "_model_name": "DescriptionStyleModel",
            "_view_count": null,
            "_view_module": "@jupyter-widgets/base",
            "_view_module_version": "1.2.0",
            "_view_name": "StyleView",
            "description_width": ""
          }
        },
        "4aca208f97b54dffa3285f0efc6a2552": {
          "model_module": "@jupyter-widgets/base",
          "model_name": "LayoutModel",
          "model_module_version": "1.2.0",
          "state": {
            "_model_module": "@jupyter-widgets/base",
            "_model_module_version": "1.2.0",
            "_model_name": "LayoutModel",
            "_view_count": null,
            "_view_module": "@jupyter-widgets/base",
            "_view_module_version": "1.2.0",
            "_view_name": "LayoutView",
            "align_content": null,
            "align_items": null,
            "align_self": null,
            "border": null,
            "bottom": null,
            "display": null,
            "flex": null,
            "flex_flow": null,
            "grid_area": null,
            "grid_auto_columns": null,
            "grid_auto_flow": null,
            "grid_auto_rows": null,
            "grid_column": null,
            "grid_gap": null,
            "grid_row": null,
            "grid_template_areas": null,
            "grid_template_columns": null,
            "grid_template_rows": null,
            "height": null,
            "justify_content": null,
            "justify_items": null,
            "left": null,
            "margin": null,
            "max_height": null,
            "max_width": null,
            "min_height": null,
            "min_width": null,
            "object_fit": null,
            "object_position": null,
            "order": null,
            "overflow": null,
            "overflow_x": null,
            "overflow_y": null,
            "padding": null,
            "right": null,
            "top": null,
            "visibility": null,
            "width": null
          }
        },
        "ad31b2974b184fe9b8eee33e15a04671": {
          "model_module": "@jupyter-widgets/controls",
          "model_name": "ProgressStyleModel",
          "model_module_version": "1.5.0",
          "state": {
            "_model_module": "@jupyter-widgets/controls",
            "_model_module_version": "1.5.0",
            "_model_name": "ProgressStyleModel",
            "_view_count": null,
            "_view_module": "@jupyter-widgets/base",
            "_view_module_version": "1.2.0",
            "_view_name": "StyleView",
            "bar_color": null,
            "description_width": ""
          }
        },
        "17efb53c71734f8abf548708083b03c3": {
          "model_module": "@jupyter-widgets/base",
          "model_name": "LayoutModel",
          "model_module_version": "1.2.0",
          "state": {
            "_model_module": "@jupyter-widgets/base",
            "_model_module_version": "1.2.0",
            "_model_name": "LayoutModel",
            "_view_count": null,
            "_view_module": "@jupyter-widgets/base",
            "_view_module_version": "1.2.0",
            "_view_name": "LayoutView",
            "align_content": null,
            "align_items": null,
            "align_self": null,
            "border": null,
            "bottom": null,
            "display": null,
            "flex": null,
            "flex_flow": null,
            "grid_area": null,
            "grid_auto_columns": null,
            "grid_auto_flow": null,
            "grid_auto_rows": null,
            "grid_column": null,
            "grid_gap": null,
            "grid_row": null,
            "grid_template_areas": null,
            "grid_template_columns": null,
            "grid_template_rows": null,
            "height": null,
            "justify_content": null,
            "justify_items": null,
            "left": null,
            "margin": null,
            "max_height": null,
            "max_width": null,
            "min_height": null,
            "min_width": null,
            "object_fit": null,
            "object_position": null,
            "order": null,
            "overflow": null,
            "overflow_x": null,
            "overflow_y": null,
            "padding": null,
            "right": null,
            "top": null,
            "visibility": null,
            "width": null
          }
        },
        "2afe269a8ce247d7a7b23966a240600d": {
          "model_module": "@jupyter-widgets/controls",
          "model_name": "DescriptionStyleModel",
          "model_module_version": "1.5.0",
          "state": {
            "_model_module": "@jupyter-widgets/controls",
            "_model_module_version": "1.5.0",
            "_model_name": "DescriptionStyleModel",
            "_view_count": null,
            "_view_module": "@jupyter-widgets/base",
            "_view_module_version": "1.2.0",
            "_view_name": "StyleView",
            "description_width": ""
          }
        },
        "6cef19be584644b89472d358d2dcd3d7": {
          "model_module": "@jupyter-widgets/controls",
          "model_name": "HBoxModel",
          "model_module_version": "1.5.0",
          "state": {
            "_dom_classes": [],
            "_model_module": "@jupyter-widgets/controls",
            "_model_module_version": "1.5.0",
            "_model_name": "HBoxModel",
            "_view_count": null,
            "_view_module": "@jupyter-widgets/controls",
            "_view_module_version": "1.5.0",
            "_view_name": "HBoxView",
            "box_style": "",
            "children": [
              "IPY_MODEL_43cc7491de9a40f69f570b408e3152d7",
              "IPY_MODEL_3266536c9db84bcaa3d712bed7b5ae80",
              "IPY_MODEL_3df6d1c614be43d0a57118749c058c35"
            ],
            "layout": "IPY_MODEL_1a3161d5a10d481c888c64819185ce19"
          }
        },
        "43cc7491de9a40f69f570b408e3152d7": {
          "model_module": "@jupyter-widgets/controls",
          "model_name": "HTMLModel",
          "model_module_version": "1.5.0",
          "state": {
            "_dom_classes": [],
            "_model_module": "@jupyter-widgets/controls",
            "_model_module_version": "1.5.0",
            "_model_name": "HTMLModel",
            "_view_count": null,
            "_view_module": "@jupyter-widgets/controls",
            "_view_module_version": "1.5.0",
            "_view_name": "HTMLView",
            "description": "",
            "description_tooltip": null,
            "layout": "IPY_MODEL_5f79c31e93904cd2b8d9b2e559975c97",
            "placeholder": "​",
            "style": "IPY_MODEL_fd0d5d34adce4c95ad43053793b557db",
            "value": "region_model.py: 100%"
          }
        },
        "3266536c9db84bcaa3d712bed7b5ae80": {
          "model_module": "@jupyter-widgets/controls",
          "model_name": "FloatProgressModel",
          "model_module_version": "1.5.0",
          "state": {
            "_dom_classes": [],
            "_model_module": "@jupyter-widgets/controls",
            "_model_module_version": "1.5.0",
            "_model_name": "FloatProgressModel",
            "_view_count": null,
            "_view_module": "@jupyter-widgets/controls",
            "_view_module_version": "1.5.0",
            "_view_name": "ProgressView",
            "bar_style": "success",
            "description": "",
            "description_tooltip": null,
            "layout": "IPY_MODEL_919b091d44ea441b91c5867fa941a529",
            "max": 1331,
            "min": 0,
            "orientation": "horizontal",
            "style": "IPY_MODEL_a4ff0415430b4fde8bdaed8420f9dcbf",
            "value": 1331
          }
        },
        "3df6d1c614be43d0a57118749c058c35": {
          "model_module": "@jupyter-widgets/controls",
          "model_name": "HTMLModel",
          "model_module_version": "1.5.0",
          "state": {
            "_dom_classes": [],
            "_model_module": "@jupyter-widgets/controls",
            "_model_module_version": "1.5.0",
            "_model_name": "HTMLModel",
            "_view_count": null,
            "_view_module": "@jupyter-widgets/controls",
            "_view_module_version": "1.5.0",
            "_view_name": "HTMLView",
            "description": "",
            "description_tooltip": null,
            "layout": "IPY_MODEL_546785fe38534231adf974992011161f",
            "placeholder": "​",
            "style": "IPY_MODEL_ea1b46f8d7e043f3b6e1b79faafd2f32",
            "value": " 1.33k/1.33k [00:00&lt;00:00, 111kB/s]"
          }
        },
        "1a3161d5a10d481c888c64819185ce19": {
          "model_module": "@jupyter-widgets/base",
          "model_name": "LayoutModel",
          "model_module_version": "1.2.0",
          "state": {
            "_model_module": "@jupyter-widgets/base",
            "_model_module_version": "1.2.0",
            "_model_name": "LayoutModel",
            "_view_count": null,
            "_view_module": "@jupyter-widgets/base",
            "_view_module_version": "1.2.0",
            "_view_name": "LayoutView",
            "align_content": null,
            "align_items": null,
            "align_self": null,
            "border": null,
            "bottom": null,
            "display": null,
            "flex": null,
            "flex_flow": null,
            "grid_area": null,
            "grid_auto_columns": null,
            "grid_auto_flow": null,
            "grid_auto_rows": null,
            "grid_column": null,
            "grid_gap": null,
            "grid_row": null,
            "grid_template_areas": null,
            "grid_template_columns": null,
            "grid_template_rows": null,
            "height": null,
            "justify_content": null,
            "justify_items": null,
            "left": null,
            "margin": null,
            "max_height": null,
            "max_width": null,
            "min_height": null,
            "min_width": null,
            "object_fit": null,
            "object_position": null,
            "order": null,
            "overflow": null,
            "overflow_x": null,
            "overflow_y": null,
            "padding": null,
            "right": null,
            "top": null,
            "visibility": null,
            "width": null
          }
        },
        "5f79c31e93904cd2b8d9b2e559975c97": {
          "model_module": "@jupyter-widgets/base",
          "model_name": "LayoutModel",
          "model_module_version": "1.2.0",
          "state": {
            "_model_module": "@jupyter-widgets/base",
            "_model_module_version": "1.2.0",
            "_model_name": "LayoutModel",
            "_view_count": null,
            "_view_module": "@jupyter-widgets/base",
            "_view_module_version": "1.2.0",
            "_view_name": "LayoutView",
            "align_content": null,
            "align_items": null,
            "align_self": null,
            "border": null,
            "bottom": null,
            "display": null,
            "flex": null,
            "flex_flow": null,
            "grid_area": null,
            "grid_auto_columns": null,
            "grid_auto_flow": null,
            "grid_auto_rows": null,
            "grid_column": null,
            "grid_gap": null,
            "grid_row": null,
            "grid_template_areas": null,
            "grid_template_columns": null,
            "grid_template_rows": null,
            "height": null,
            "justify_content": null,
            "justify_items": null,
            "left": null,
            "margin": null,
            "max_height": null,
            "max_width": null,
            "min_height": null,
            "min_width": null,
            "object_fit": null,
            "object_position": null,
            "order": null,
            "overflow": null,
            "overflow_x": null,
            "overflow_y": null,
            "padding": null,
            "right": null,
            "top": null,
            "visibility": null,
            "width": null
          }
        },
        "fd0d5d34adce4c95ad43053793b557db": {
          "model_module": "@jupyter-widgets/controls",
          "model_name": "DescriptionStyleModel",
          "model_module_version": "1.5.0",
          "state": {
            "_model_module": "@jupyter-widgets/controls",
            "_model_module_version": "1.5.0",
            "_model_name": "DescriptionStyleModel",
            "_view_count": null,
            "_view_module": "@jupyter-widgets/base",
            "_view_module_version": "1.2.0",
            "_view_name": "StyleView",
            "description_width": ""
          }
        },
        "919b091d44ea441b91c5867fa941a529": {
          "model_module": "@jupyter-widgets/base",
          "model_name": "LayoutModel",
          "model_module_version": "1.2.0",
          "state": {
            "_model_module": "@jupyter-widgets/base",
            "_model_module_version": "1.2.0",
            "_model_name": "LayoutModel",
            "_view_count": null,
            "_view_module": "@jupyter-widgets/base",
            "_view_module_version": "1.2.0",
            "_view_name": "LayoutView",
            "align_content": null,
            "align_items": null,
            "align_self": null,
            "border": null,
            "bottom": null,
            "display": null,
            "flex": null,
            "flex_flow": null,
            "grid_area": null,
            "grid_auto_columns": null,
            "grid_auto_flow": null,
            "grid_auto_rows": null,
            "grid_column": null,
            "grid_gap": null,
            "grid_row": null,
            "grid_template_areas": null,
            "grid_template_columns": null,
            "grid_template_rows": null,
            "height": null,
            "justify_content": null,
            "justify_items": null,
            "left": null,
            "margin": null,
            "max_height": null,
            "max_width": null,
            "min_height": null,
            "min_width": null,
            "object_fit": null,
            "object_position": null,
            "order": null,
            "overflow": null,
            "overflow_x": null,
            "overflow_y": null,
            "padding": null,
            "right": null,
            "top": null,
            "visibility": null,
            "width": null
          }
        },
        "a4ff0415430b4fde8bdaed8420f9dcbf": {
          "model_module": "@jupyter-widgets/controls",
          "model_name": "ProgressStyleModel",
          "model_module_version": "1.5.0",
          "state": {
            "_model_module": "@jupyter-widgets/controls",
            "_model_module_version": "1.5.0",
            "_model_name": "ProgressStyleModel",
            "_view_count": null,
            "_view_module": "@jupyter-widgets/base",
            "_view_module_version": "1.2.0",
            "_view_name": "StyleView",
            "bar_color": null,
            "description_width": ""
          }
        },
        "546785fe38534231adf974992011161f": {
          "model_module": "@jupyter-widgets/base",
          "model_name": "LayoutModel",
          "model_module_version": "1.2.0",
          "state": {
            "_model_module": "@jupyter-widgets/base",
            "_model_module_version": "1.2.0",
            "_model_name": "LayoutModel",
            "_view_count": null,
            "_view_module": "@jupyter-widgets/base",
            "_view_module_version": "1.2.0",
            "_view_name": "LayoutView",
            "align_content": null,
            "align_items": null,
            "align_self": null,
            "border": null,
            "bottom": null,
            "display": null,
            "flex": null,
            "flex_flow": null,
            "grid_area": null,
            "grid_auto_columns": null,
            "grid_auto_flow": null,
            "grid_auto_rows": null,
            "grid_column": null,
            "grid_gap": null,
            "grid_row": null,
            "grid_template_areas": null,
            "grid_template_columns": null,
            "grid_template_rows": null,
            "height": null,
            "justify_content": null,
            "justify_items": null,
            "left": null,
            "margin": null,
            "max_height": null,
            "max_width": null,
            "min_height": null,
            "min_width": null,
            "object_fit": null,
            "object_position": null,
            "order": null,
            "overflow": null,
            "overflow_x": null,
            "overflow_y": null,
            "padding": null,
            "right": null,
            "top": null,
            "visibility": null,
            "width": null
          }
        },
        "ea1b46f8d7e043f3b6e1b79faafd2f32": {
          "model_module": "@jupyter-widgets/controls",
          "model_name": "DescriptionStyleModel",
          "model_module_version": "1.5.0",
          "state": {
            "_model_module": "@jupyter-widgets/controls",
            "_model_module_version": "1.5.0",
            "_model_name": "DescriptionStyleModel",
            "_view_count": null,
            "_view_module": "@jupyter-widgets/base",
            "_view_module_version": "1.2.0",
            "_view_name": "StyleView",
            "description_width": ""
          }
        },
        "89f0af07f27245e08ffb44af519d7030": {
          "model_module": "@jupyter-widgets/controls",
          "model_name": "HBoxModel",
          "model_module_version": "1.5.0",
          "state": {
            "_dom_classes": [],
            "_model_module": "@jupyter-widgets/controls",
            "_model_module_version": "1.5.0",
            "_model_name": "HBoxModel",
            "_view_count": null,
            "_view_module": "@jupyter-widgets/controls",
            "_view_module_version": "1.5.0",
            "_view_name": "HBoxView",
            "box_style": "",
            "children": [
              "IPY_MODEL_7aeae25f1a024e5d9578229d6f083f7b",
              "IPY_MODEL_48e7b5c348cf4f009efc85cb2516a79c",
              "IPY_MODEL_ef9fcc15e8bb4c6dafdccb742d4b7850"
            ],
            "layout": "IPY_MODEL_3c5e2f8f8de644dc8f7be8fb252b3e08"
          }
        },
        "7aeae25f1a024e5d9578229d6f083f7b": {
          "model_module": "@jupyter-widgets/controls",
          "model_name": "HTMLModel",
          "model_module_version": "1.5.0",
          "state": {
            "_dom_classes": [],
            "_model_module": "@jupyter-widgets/controls",
            "_model_module_version": "1.5.0",
            "_model_name": "HTMLModel",
            "_view_count": null,
            "_view_module": "@jupyter-widgets/controls",
            "_view_module_version": "1.5.0",
            "_view_name": "HTMLView",
            "description": "",
            "description_tooltip": null,
            "layout": "IPY_MODEL_b48a9e058f9e4aaf99eeaf72c3f8eff9",
            "placeholder": "​",
            "style": "IPY_MODEL_e4152efaeb574634b0c67211caad0d4f",
            "value": "fourier_features.py: 100%"
          }
        },
        "48e7b5c348cf4f009efc85cb2516a79c": {
          "model_module": "@jupyter-widgets/controls",
          "model_name": "FloatProgressModel",
          "model_module_version": "1.5.0",
          "state": {
            "_dom_classes": [],
            "_model_module": "@jupyter-widgets/controls",
            "_model_module_version": "1.5.0",
            "_model_name": "FloatProgressModel",
            "_view_count": null,
            "_view_module": "@jupyter-widgets/controls",
            "_view_module_version": "1.5.0",
            "_view_name": "ProgressView",
            "bar_style": "success",
            "description": "",
            "description_tooltip": null,
            "layout": "IPY_MODEL_eda744e616244ff2a4927b562aad8976",
            "max": 558,
            "min": 0,
            "orientation": "horizontal",
            "style": "IPY_MODEL_5bad0c57bef34663a5507c5123a7bb4d",
            "value": 558
          }
        },
        "ef9fcc15e8bb4c6dafdccb742d4b7850": {
          "model_module": "@jupyter-widgets/controls",
          "model_name": "HTMLModel",
          "model_module_version": "1.5.0",
          "state": {
            "_dom_classes": [],
            "_model_module": "@jupyter-widgets/controls",
            "_model_module_version": "1.5.0",
            "_model_name": "HTMLModel",
            "_view_count": null,
            "_view_module": "@jupyter-widgets/controls",
            "_view_module_version": "1.5.0",
            "_view_name": "HTMLView",
            "description": "",
            "description_tooltip": null,
            "layout": "IPY_MODEL_8a60493da6cb4690ba9274a1fabe8740",
            "placeholder": "​",
            "style": "IPY_MODEL_2eec0d79f02646189ddc80e22804cc37",
            "value": " 558/558 [00:00&lt;00:00, 47.5kB/s]"
          }
        },
        "3c5e2f8f8de644dc8f7be8fb252b3e08": {
          "model_module": "@jupyter-widgets/base",
          "model_name": "LayoutModel",
          "model_module_version": "1.2.0",
          "state": {
            "_model_module": "@jupyter-widgets/base",
            "_model_module_version": "1.2.0",
            "_model_name": "LayoutModel",
            "_view_count": null,
            "_view_module": "@jupyter-widgets/base",
            "_view_module_version": "1.2.0",
            "_view_name": "LayoutView",
            "align_content": null,
            "align_items": null,
            "align_self": null,
            "border": null,
            "bottom": null,
            "display": null,
            "flex": null,
            "flex_flow": null,
            "grid_area": null,
            "grid_auto_columns": null,
            "grid_auto_flow": null,
            "grid_auto_rows": null,
            "grid_column": null,
            "grid_gap": null,
            "grid_row": null,
            "grid_template_areas": null,
            "grid_template_columns": null,
            "grid_template_rows": null,
            "height": null,
            "justify_content": null,
            "justify_items": null,
            "left": null,
            "margin": null,
            "max_height": null,
            "max_width": null,
            "min_height": null,
            "min_width": null,
            "object_fit": null,
            "object_position": null,
            "order": null,
            "overflow": null,
            "overflow_x": null,
            "overflow_y": null,
            "padding": null,
            "right": null,
            "top": null,
            "visibility": null,
            "width": null
          }
        },
        "b48a9e058f9e4aaf99eeaf72c3f8eff9": {
          "model_module": "@jupyter-widgets/base",
          "model_name": "LayoutModel",
          "model_module_version": "1.2.0",
          "state": {
            "_model_module": "@jupyter-widgets/base",
            "_model_module_version": "1.2.0",
            "_model_name": "LayoutModel",
            "_view_count": null,
            "_view_module": "@jupyter-widgets/base",
            "_view_module_version": "1.2.0",
            "_view_name": "LayoutView",
            "align_content": null,
            "align_items": null,
            "align_self": null,
            "border": null,
            "bottom": null,
            "display": null,
            "flex": null,
            "flex_flow": null,
            "grid_area": null,
            "grid_auto_columns": null,
            "grid_auto_flow": null,
            "grid_auto_rows": null,
            "grid_column": null,
            "grid_gap": null,
            "grid_row": null,
            "grid_template_areas": null,
            "grid_template_columns": null,
            "grid_template_rows": null,
            "height": null,
            "justify_content": null,
            "justify_items": null,
            "left": null,
            "margin": null,
            "max_height": null,
            "max_width": null,
            "min_height": null,
            "min_width": null,
            "object_fit": null,
            "object_position": null,
            "order": null,
            "overflow": null,
            "overflow_x": null,
            "overflow_y": null,
            "padding": null,
            "right": null,
            "top": null,
            "visibility": null,
            "width": null
          }
        },
        "e4152efaeb574634b0c67211caad0d4f": {
          "model_module": "@jupyter-widgets/controls",
          "model_name": "DescriptionStyleModel",
          "model_module_version": "1.5.0",
          "state": {
            "_model_module": "@jupyter-widgets/controls",
            "_model_module_version": "1.5.0",
            "_model_name": "DescriptionStyleModel",
            "_view_count": null,
            "_view_module": "@jupyter-widgets/base",
            "_view_module_version": "1.2.0",
            "_view_name": "StyleView",
            "description_width": ""
          }
        },
        "eda744e616244ff2a4927b562aad8976": {
          "model_module": "@jupyter-widgets/base",
          "model_name": "LayoutModel",
          "model_module_version": "1.2.0",
          "state": {
            "_model_module": "@jupyter-widgets/base",
            "_model_module_version": "1.2.0",
            "_model_name": "LayoutModel",
            "_view_count": null,
            "_view_module": "@jupyter-widgets/base",
            "_view_module_version": "1.2.0",
            "_view_name": "LayoutView",
            "align_content": null,
            "align_items": null,
            "align_self": null,
            "border": null,
            "bottom": null,
            "display": null,
            "flex": null,
            "flex_flow": null,
            "grid_area": null,
            "grid_auto_columns": null,
            "grid_auto_flow": null,
            "grid_auto_rows": null,
            "grid_column": null,
            "grid_gap": null,
            "grid_row": null,
            "grid_template_areas": null,
            "grid_template_columns": null,
            "grid_template_rows": null,
            "height": null,
            "justify_content": null,
            "justify_items": null,
            "left": null,
            "margin": null,
            "max_height": null,
            "max_width": null,
            "min_height": null,
            "min_width": null,
            "object_fit": null,
            "object_position": null,
            "order": null,
            "overflow": null,
            "overflow_x": null,
            "overflow_y": null,
            "padding": null,
            "right": null,
            "top": null,
            "visibility": null,
            "width": null
          }
        },
        "5bad0c57bef34663a5507c5123a7bb4d": {
          "model_module": "@jupyter-widgets/controls",
          "model_name": "ProgressStyleModel",
          "model_module_version": "1.5.0",
          "state": {
            "_model_module": "@jupyter-widgets/controls",
            "_model_module_version": "1.5.0",
            "_model_name": "ProgressStyleModel",
            "_view_count": null,
            "_view_module": "@jupyter-widgets/base",
            "_view_module_version": "1.2.0",
            "_view_name": "StyleView",
            "bar_color": null,
            "description_width": ""
          }
        },
        "8a60493da6cb4690ba9274a1fabe8740": {
          "model_module": "@jupyter-widgets/base",
          "model_name": "LayoutModel",
          "model_module_version": "1.2.0",
          "state": {
            "_model_module": "@jupyter-widgets/base",
            "_model_module_version": "1.2.0",
            "_model_name": "LayoutModel",
            "_view_count": null,
            "_view_module": "@jupyter-widgets/base",
            "_view_module_version": "1.2.0",
            "_view_name": "LayoutView",
            "align_content": null,
            "align_items": null,
            "align_self": null,
            "border": null,
            "bottom": null,
            "display": null,
            "flex": null,
            "flex_flow": null,
            "grid_area": null,
            "grid_auto_columns": null,
            "grid_auto_flow": null,
            "grid_auto_rows": null,
            "grid_column": null,
            "grid_gap": null,
            "grid_row": null,
            "grid_template_areas": null,
            "grid_template_columns": null,
            "grid_template_rows": null,
            "height": null,
            "justify_content": null,
            "justify_items": null,
            "left": null,
            "margin": null,
            "max_height": null,
            "max_width": null,
            "min_height": null,
            "min_width": null,
            "object_fit": null,
            "object_position": null,
            "order": null,
            "overflow": null,
            "overflow_x": null,
            "overflow_y": null,
            "padding": null,
            "right": null,
            "top": null,
            "visibility": null,
            "width": null
          }
        },
        "2eec0d79f02646189ddc80e22804cc37": {
          "model_module": "@jupyter-widgets/controls",
          "model_name": "DescriptionStyleModel",
          "model_module_version": "1.5.0",
          "state": {
            "_model_module": "@jupyter-widgets/controls",
            "_model_module_version": "1.5.0",
            "_model_name": "DescriptionStyleModel",
            "_view_count": null,
            "_view_module": "@jupyter-widgets/base",
            "_view_module_version": "1.2.0",
            "_view_name": "StyleView",
            "description_width": ""
          }
        },
        "bf8d9f446b26408b9b0da739e6a1e10a": {
          "model_module": "@jupyter-widgets/controls",
          "model_name": "HBoxModel",
          "model_module_version": "1.5.0",
          "state": {
            "_dom_classes": [],
            "_model_module": "@jupyter-widgets/controls",
            "_model_module_version": "1.5.0",
            "_model_name": "HBoxModel",
            "_view_count": null,
            "_view_module": "@jupyter-widgets/controls",
            "_view_module_version": "1.5.0",
            "_view_name": "HBoxView",
            "box_style": "",
            "children": [
              "IPY_MODEL_4ec9ea3da1b74018a37590396ecfa0e4",
              "IPY_MODEL_dba573b6a1f94f8ebc6523e63022b931",
              "IPY_MODEL_a97605d361194931a16f5f4d718351ef"
            ],
            "layout": "IPY_MODEL_99949652d3bf4600b405c18bfbdfcae1"
          }
        },
        "4ec9ea3da1b74018a37590396ecfa0e4": {
          "model_module": "@jupyter-widgets/controls",
          "model_name": "HTMLModel",
          "model_module_version": "1.5.0",
          "state": {
            "_dom_classes": [],
            "_model_module": "@jupyter-widgets/controls",
            "_model_module_version": "1.5.0",
            "_model_name": "HTMLModel",
            "_view_count": null,
            "_view_module": "@jupyter-widgets/controls",
            "_view_module_version": "1.5.0",
            "_view_name": "HTMLView",
            "description": "",
            "description_tooltip": null,
            "layout": "IPY_MODEL_2b9fd72712c9418c97f529fd6f8c4b44",
            "placeholder": "​",
            "style": "IPY_MODEL_352eac4f5fd140ca898b517ac5369e57",
            "value": "vision_encoder.py: 100%"
          }
        },
        "dba573b6a1f94f8ebc6523e63022b931": {
          "model_module": "@jupyter-widgets/controls",
          "model_name": "FloatProgressModel",
          "model_module_version": "1.5.0",
          "state": {
            "_dom_classes": [],
            "_model_module": "@jupyter-widgets/controls",
            "_model_module_version": "1.5.0",
            "_model_name": "FloatProgressModel",
            "_view_count": null,
            "_view_module": "@jupyter-widgets/controls",
            "_view_module_version": "1.5.0",
            "_view_name": "ProgressView",
            "bar_style": "success",
            "description": "",
            "description_tooltip": null,
            "layout": "IPY_MODEL_dcce0addbfe64915a1f7775e654454bf",
            "max": 10214,
            "min": 0,
            "orientation": "horizontal",
            "style": "IPY_MODEL_c98379b9270a48649ff41cf2f0dcb9cb",
            "value": 10214
          }
        },
        "a97605d361194931a16f5f4d718351ef": {
          "model_module": "@jupyter-widgets/controls",
          "model_name": "HTMLModel",
          "model_module_version": "1.5.0",
          "state": {
            "_dom_classes": [],
            "_model_module": "@jupyter-widgets/controls",
            "_model_module_version": "1.5.0",
            "_model_name": "HTMLModel",
            "_view_count": null,
            "_view_module": "@jupyter-widgets/controls",
            "_view_module_version": "1.5.0",
            "_view_name": "HTMLView",
            "description": "",
            "description_tooltip": null,
            "layout": "IPY_MODEL_101c7ad8306544e29418cec84c667302",
            "placeholder": "​",
            "style": "IPY_MODEL_f7e5ca3abfb24a829a9cbf51723ca6ae",
            "value": " 10.2k/10.2k [00:00&lt;00:00, 760kB/s]"
          }
        },
        "99949652d3bf4600b405c18bfbdfcae1": {
          "model_module": "@jupyter-widgets/base",
          "model_name": "LayoutModel",
          "model_module_version": "1.2.0",
          "state": {
            "_model_module": "@jupyter-widgets/base",
            "_model_module_version": "1.2.0",
            "_model_name": "LayoutModel",
            "_view_count": null,
            "_view_module": "@jupyter-widgets/base",
            "_view_module_version": "1.2.0",
            "_view_name": "LayoutView",
            "align_content": null,
            "align_items": null,
            "align_self": null,
            "border": null,
            "bottom": null,
            "display": null,
            "flex": null,
            "flex_flow": null,
            "grid_area": null,
            "grid_auto_columns": null,
            "grid_auto_flow": null,
            "grid_auto_rows": null,
            "grid_column": null,
            "grid_gap": null,
            "grid_row": null,
            "grid_template_areas": null,
            "grid_template_columns": null,
            "grid_template_rows": null,
            "height": null,
            "justify_content": null,
            "justify_items": null,
            "left": null,
            "margin": null,
            "max_height": null,
            "max_width": null,
            "min_height": null,
            "min_width": null,
            "object_fit": null,
            "object_position": null,
            "order": null,
            "overflow": null,
            "overflow_x": null,
            "overflow_y": null,
            "padding": null,
            "right": null,
            "top": null,
            "visibility": null,
            "width": null
          }
        },
        "2b9fd72712c9418c97f529fd6f8c4b44": {
          "model_module": "@jupyter-widgets/base",
          "model_name": "LayoutModel",
          "model_module_version": "1.2.0",
          "state": {
            "_model_module": "@jupyter-widgets/base",
            "_model_module_version": "1.2.0",
            "_model_name": "LayoutModel",
            "_view_count": null,
            "_view_module": "@jupyter-widgets/base",
            "_view_module_version": "1.2.0",
            "_view_name": "LayoutView",
            "align_content": null,
            "align_items": null,
            "align_self": null,
            "border": null,
            "bottom": null,
            "display": null,
            "flex": null,
            "flex_flow": null,
            "grid_area": null,
            "grid_auto_columns": null,
            "grid_auto_flow": null,
            "grid_auto_rows": null,
            "grid_column": null,
            "grid_gap": null,
            "grid_row": null,
            "grid_template_areas": null,
            "grid_template_columns": null,
            "grid_template_rows": null,
            "height": null,
            "justify_content": null,
            "justify_items": null,
            "left": null,
            "margin": null,
            "max_height": null,
            "max_width": null,
            "min_height": null,
            "min_width": null,
            "object_fit": null,
            "object_position": null,
            "order": null,
            "overflow": null,
            "overflow_x": null,
            "overflow_y": null,
            "padding": null,
            "right": null,
            "top": null,
            "visibility": null,
            "width": null
          }
        },
        "352eac4f5fd140ca898b517ac5369e57": {
          "model_module": "@jupyter-widgets/controls",
          "model_name": "DescriptionStyleModel",
          "model_module_version": "1.5.0",
          "state": {
            "_model_module": "@jupyter-widgets/controls",
            "_model_module_version": "1.5.0",
            "_model_name": "DescriptionStyleModel",
            "_view_count": null,
            "_view_module": "@jupyter-widgets/base",
            "_view_module_version": "1.2.0",
            "_view_name": "StyleView",
            "description_width": ""
          }
        },
        "dcce0addbfe64915a1f7775e654454bf": {
          "model_module": "@jupyter-widgets/base",
          "model_name": "LayoutModel",
          "model_module_version": "1.2.0",
          "state": {
            "_model_module": "@jupyter-widgets/base",
            "_model_module_version": "1.2.0",
            "_model_name": "LayoutModel",
            "_view_count": null,
            "_view_module": "@jupyter-widgets/base",
            "_view_module_version": "1.2.0",
            "_view_name": "LayoutView",
            "align_content": null,
            "align_items": null,
            "align_self": null,
            "border": null,
            "bottom": null,
            "display": null,
            "flex": null,
            "flex_flow": null,
            "grid_area": null,
            "grid_auto_columns": null,
            "grid_auto_flow": null,
            "grid_auto_rows": null,
            "grid_column": null,
            "grid_gap": null,
            "grid_row": null,
            "grid_template_areas": null,
            "grid_template_columns": null,
            "grid_template_rows": null,
            "height": null,
            "justify_content": null,
            "justify_items": null,
            "left": null,
            "margin": null,
            "max_height": null,
            "max_width": null,
            "min_height": null,
            "min_width": null,
            "object_fit": null,
            "object_position": null,
            "order": null,
            "overflow": null,
            "overflow_x": null,
            "overflow_y": null,
            "padding": null,
            "right": null,
            "top": null,
            "visibility": null,
            "width": null
          }
        },
        "c98379b9270a48649ff41cf2f0dcb9cb": {
          "model_module": "@jupyter-widgets/controls",
          "model_name": "ProgressStyleModel",
          "model_module_version": "1.5.0",
          "state": {
            "_model_module": "@jupyter-widgets/controls",
            "_model_module_version": "1.5.0",
            "_model_name": "ProgressStyleModel",
            "_view_count": null,
            "_view_module": "@jupyter-widgets/base",
            "_view_module_version": "1.2.0",
            "_view_name": "StyleView",
            "bar_color": null,
            "description_width": ""
          }
        },
        "101c7ad8306544e29418cec84c667302": {
          "model_module": "@jupyter-widgets/base",
          "model_name": "LayoutModel",
          "model_module_version": "1.2.0",
          "state": {
            "_model_module": "@jupyter-widgets/base",
            "_model_module_version": "1.2.0",
            "_model_name": "LayoutModel",
            "_view_count": null,
            "_view_module": "@jupyter-widgets/base",
            "_view_module_version": "1.2.0",
            "_view_name": "LayoutView",
            "align_content": null,
            "align_items": null,
            "align_self": null,
            "border": null,
            "bottom": null,
            "display": null,
            "flex": null,
            "flex_flow": null,
            "grid_area": null,
            "grid_auto_columns": null,
            "grid_auto_flow": null,
            "grid_auto_rows": null,
            "grid_column": null,
            "grid_gap": null,
            "grid_row": null,
            "grid_template_areas": null,
            "grid_template_columns": null,
            "grid_template_rows": null,
            "height": null,
            "justify_content": null,
            "justify_items": null,
            "left": null,
            "margin": null,
            "max_height": null,
            "max_width": null,
            "min_height": null,
            "min_width": null,
            "object_fit": null,
            "object_position": null,
            "order": null,
            "overflow": null,
            "overflow_x": null,
            "overflow_y": null,
            "padding": null,
            "right": null,
            "top": null,
            "visibility": null,
            "width": null
          }
        },
        "f7e5ca3abfb24a829a9cbf51723ca6ae": {
          "model_module": "@jupyter-widgets/controls",
          "model_name": "DescriptionStyleModel",
          "model_module_version": "1.5.0",
          "state": {
            "_model_module": "@jupyter-widgets/controls",
            "_model_module_version": "1.5.0",
            "_model_name": "DescriptionStyleModel",
            "_view_count": null,
            "_view_module": "@jupyter-widgets/base",
            "_view_module_version": "1.2.0",
            "_view_name": "StyleView",
            "description_width": ""
          }
        },
        "8a4059e8772c4d868207633f1855bb0c": {
          "model_module": "@jupyter-widgets/controls",
          "model_name": "HBoxModel",
          "model_module_version": "1.5.0",
          "state": {
            "_dom_classes": [],
            "_model_module": "@jupyter-widgets/controls",
            "_model_module_version": "1.5.0",
            "_model_name": "HBoxModel",
            "_view_count": null,
            "_view_module": "@jupyter-widgets/controls",
            "_view_module_version": "1.5.0",
            "_view_name": "HBoxView",
            "box_style": "",
            "children": [
              "IPY_MODEL_ae4cdb69809a40eb9210ae6ac44631d3",
              "IPY_MODEL_3c4ef63bd61548b780c9c68dcd9e6212",
              "IPY_MODEL_daa99162d7574798b829001f51fbaf62"
            ],
            "layout": "IPY_MODEL_ba0420e857134208bab292a9c87745d9"
          }
        },
        "ae4cdb69809a40eb9210ae6ac44631d3": {
          "model_module": "@jupyter-widgets/controls",
          "model_name": "HTMLModel",
          "model_module_version": "1.5.0",
          "state": {
            "_dom_classes": [],
            "_model_module": "@jupyter-widgets/controls",
            "_model_module_version": "1.5.0",
            "_model_name": "HTMLModel",
            "_view_count": null,
            "_view_module": "@jupyter-widgets/controls",
            "_view_module_version": "1.5.0",
            "_view_name": "HTMLView",
            "description": "",
            "description_tooltip": null,
            "layout": "IPY_MODEL_c3b1b778d0244f1f99cb9b88598c90a0",
            "placeholder": "​",
            "style": "IPY_MODEL_ebaa4ce29eb84c1683ee0c9527761c3c",
            "value": "model.safetensors:  89%"
          }
        },
        "3c4ef63bd61548b780c9c68dcd9e6212": {
          "model_module": "@jupyter-widgets/controls",
          "model_name": "FloatProgressModel",
          "model_module_version": "1.5.0",
          "state": {
            "_dom_classes": [],
            "_model_module": "@jupyter-widgets/controls",
            "_model_module_version": "1.5.0",
            "_model_name": "FloatProgressModel",
            "_view_count": null,
            "_view_module": "@jupyter-widgets/controls",
            "_view_module_version": "1.5.0",
            "_view_name": "ProgressView",
            "bar_style": "",
            "description": "",
            "description_tooltip": null,
            "layout": "IPY_MODEL_15f6deceb4374f2ba1021ea22c112dc1",
            "max": 3736040266,
            "min": 0,
            "orientation": "horizontal",
            "style": "IPY_MODEL_d4e668e09532469192432ae1d2ee14a1",
            "value": 3323985920
          }
        },
        "daa99162d7574798b829001f51fbaf62": {
          "model_module": "@jupyter-widgets/controls",
          "model_name": "HTMLModel",
          "model_module_version": "1.5.0",
          "state": {
            "_dom_classes": [],
            "_model_module": "@jupyter-widgets/controls",
            "_model_module_version": "1.5.0",
            "_model_name": "HTMLModel",
            "_view_count": null,
            "_view_module": "@jupyter-widgets/controls",
            "_view_module_version": "1.5.0",
            "_view_name": "HTMLView",
            "description": "",
            "description_tooltip": null,
            "layout": "IPY_MODEL_b84e6381b1d04f3b9dee8a93f5c7d61d",
            "placeholder": "​",
            "style": "IPY_MODEL_ba2fc6950d134a7da8e384eb14890d55",
            "value": " 3.32G/3.74G [01:21&lt;00:09, 42.1MB/s]"
          }
        },
        "ba0420e857134208bab292a9c87745d9": {
          "model_module": "@jupyter-widgets/base",
          "model_name": "LayoutModel",
          "model_module_version": "1.2.0",
          "state": {
            "_model_module": "@jupyter-widgets/base",
            "_model_module_version": "1.2.0",
            "_model_name": "LayoutModel",
            "_view_count": null,
            "_view_module": "@jupyter-widgets/base",
            "_view_module_version": "1.2.0",
            "_view_name": "LayoutView",
            "align_content": null,
            "align_items": null,
            "align_self": null,
            "border": null,
            "bottom": null,
            "display": null,
            "flex": null,
            "flex_flow": null,
            "grid_area": null,
            "grid_auto_columns": null,
            "grid_auto_flow": null,
            "grid_auto_rows": null,
            "grid_column": null,
            "grid_gap": null,
            "grid_row": null,
            "grid_template_areas": null,
            "grid_template_columns": null,
            "grid_template_rows": null,
            "height": null,
            "justify_content": null,
            "justify_items": null,
            "left": null,
            "margin": null,
            "max_height": null,
            "max_width": null,
            "min_height": null,
            "min_width": null,
            "object_fit": null,
            "object_position": null,
            "order": null,
            "overflow": null,
            "overflow_x": null,
            "overflow_y": null,
            "padding": null,
            "right": null,
            "top": null,
            "visibility": null,
            "width": null
          }
        },
        "c3b1b778d0244f1f99cb9b88598c90a0": {
          "model_module": "@jupyter-widgets/base",
          "model_name": "LayoutModel",
          "model_module_version": "1.2.0",
          "state": {
            "_model_module": "@jupyter-widgets/base",
            "_model_module_version": "1.2.0",
            "_model_name": "LayoutModel",
            "_view_count": null,
            "_view_module": "@jupyter-widgets/base",
            "_view_module_version": "1.2.0",
            "_view_name": "LayoutView",
            "align_content": null,
            "align_items": null,
            "align_self": null,
            "border": null,
            "bottom": null,
            "display": null,
            "flex": null,
            "flex_flow": null,
            "grid_area": null,
            "grid_auto_columns": null,
            "grid_auto_flow": null,
            "grid_auto_rows": null,
            "grid_column": null,
            "grid_gap": null,
            "grid_row": null,
            "grid_template_areas": null,
            "grid_template_columns": null,
            "grid_template_rows": null,
            "height": null,
            "justify_content": null,
            "justify_items": null,
            "left": null,
            "margin": null,
            "max_height": null,
            "max_width": null,
            "min_height": null,
            "min_width": null,
            "object_fit": null,
            "object_position": null,
            "order": null,
            "overflow": null,
            "overflow_x": null,
            "overflow_y": null,
            "padding": null,
            "right": null,
            "top": null,
            "visibility": null,
            "width": null
          }
        },
        "ebaa4ce29eb84c1683ee0c9527761c3c": {
          "model_module": "@jupyter-widgets/controls",
          "model_name": "DescriptionStyleModel",
          "model_module_version": "1.5.0",
          "state": {
            "_model_module": "@jupyter-widgets/controls",
            "_model_module_version": "1.5.0",
            "_model_name": "DescriptionStyleModel",
            "_view_count": null,
            "_view_module": "@jupyter-widgets/base",
            "_view_module_version": "1.2.0",
            "_view_name": "StyleView",
            "description_width": ""
          }
        },
        "15f6deceb4374f2ba1021ea22c112dc1": {
          "model_module": "@jupyter-widgets/base",
          "model_name": "LayoutModel",
          "model_module_version": "1.2.0",
          "state": {
            "_model_module": "@jupyter-widgets/base",
            "_model_module_version": "1.2.0",
            "_model_name": "LayoutModel",
            "_view_count": null,
            "_view_module": "@jupyter-widgets/base",
            "_view_module_version": "1.2.0",
            "_view_name": "LayoutView",
            "align_content": null,
            "align_items": null,
            "align_self": null,
            "border": null,
            "bottom": null,
            "display": null,
            "flex": null,
            "flex_flow": null,
            "grid_area": null,
            "grid_auto_columns": null,
            "grid_auto_flow": null,
            "grid_auto_rows": null,
            "grid_column": null,
            "grid_gap": null,
            "grid_row": null,
            "grid_template_areas": null,
            "grid_template_columns": null,
            "grid_template_rows": null,
            "height": null,
            "justify_content": null,
            "justify_items": null,
            "left": null,
            "margin": null,
            "max_height": null,
            "max_width": null,
            "min_height": null,
            "min_width": null,
            "object_fit": null,
            "object_position": null,
            "order": null,
            "overflow": null,
            "overflow_x": null,
            "overflow_y": null,
            "padding": null,
            "right": null,
            "top": null,
            "visibility": null,
            "width": null
          }
        },
        "d4e668e09532469192432ae1d2ee14a1": {
          "model_module": "@jupyter-widgets/controls",
          "model_name": "ProgressStyleModel",
          "model_module_version": "1.5.0",
          "state": {
            "_model_module": "@jupyter-widgets/controls",
            "_model_module_version": "1.5.0",
            "_model_name": "ProgressStyleModel",
            "_view_count": null,
            "_view_module": "@jupyter-widgets/base",
            "_view_module_version": "1.2.0",
            "_view_name": "StyleView",
            "bar_color": null,
            "description_width": ""
          }
        },
        "b84e6381b1d04f3b9dee8a93f5c7d61d": {
          "model_module": "@jupyter-widgets/base",
          "model_name": "LayoutModel",
          "model_module_version": "1.2.0",
          "state": {
            "_model_module": "@jupyter-widgets/base",
            "_model_module_version": "1.2.0",
            "_model_name": "LayoutModel",
            "_view_count": null,
            "_view_module": "@jupyter-widgets/base",
            "_view_module_version": "1.2.0",
            "_view_name": "LayoutView",
            "align_content": null,
            "align_items": null,
            "align_self": null,
            "border": null,
            "bottom": null,
            "display": null,
            "flex": null,
            "flex_flow": null,
            "grid_area": null,
            "grid_auto_columns": null,
            "grid_auto_flow": null,
            "grid_auto_rows": null,
            "grid_column": null,
            "grid_gap": null,
            "grid_row": null,
            "grid_template_areas": null,
            "grid_template_columns": null,
            "grid_template_rows": null,
            "height": null,
            "justify_content": null,
            "justify_items": null,
            "left": null,
            "margin": null,
            "max_height": null,
            "max_width": null,
            "min_height": null,
            "min_width": null,
            "object_fit": null,
            "object_position": null,
            "order": null,
            "overflow": null,
            "overflow_x": null,
            "overflow_y": null,
            "padding": null,
            "right": null,
            "top": null,
            "visibility": null,
            "width": null
          }
        },
        "ba2fc6950d134a7da8e384eb14890d55": {
          "model_module": "@jupyter-widgets/controls",
          "model_name": "DescriptionStyleModel",
          "model_module_version": "1.5.0",
          "state": {
            "_model_module": "@jupyter-widgets/controls",
            "_model_module_version": "1.5.0",
            "_model_name": "DescriptionStyleModel",
            "_view_count": null,
            "_view_module": "@jupyter-widgets/base",
            "_view_module_version": "1.2.0",
            "_view_name": "StyleView",
            "description_width": ""
          }
        }
      }
    }
  },
  "cells": [
    {
      "cell_type": "code",
      "source": [
        "!pip install datasets\n",
        "!pip install orjson\n",
        "!pip install git+https://github.com/openai/CLIP.git\n",
        "!pip install faiss-gpu\n",
        "!pip install accelerate\n",
        "!pip install -U bitsandbytes\n",
        "!pip install nltk\n",
        "!pip install sentence-transformers\n",
        "!pip install qwen_vl_utils"
      ],
      "metadata": {
        "colab": {
          "base_uri": "https://localhost:8080/"
        },
        "collapsed": true,
        "id": "jxmOwuNhuM_X",
        "outputId": "aec395dd-50dd-4605-f1e7-ea102dfaca74"
      },
      "execution_count": null,
      "outputs": [
        {
          "output_type": "stream",
          "name": "stdout",
          "text": [
            "Collecting datasets\n",
            "  Downloading datasets-3.1.0-py3-none-any.whl.metadata (20 kB)\n",
            "Requirement already satisfied: filelock in /usr/local/lib/python3.10/dist-packages (from datasets) (3.16.1)\n",
            "Requirement already satisfied: numpy>=1.17 in /usr/local/lib/python3.10/dist-packages (from datasets) (1.26.4)\n",
            "Requirement already satisfied: pyarrow>=15.0.0 in /usr/local/lib/python3.10/dist-packages (from datasets) (17.0.0)\n",
            "Collecting dill<0.3.9,>=0.3.0 (from datasets)\n",
            "  Downloading dill-0.3.8-py3-none-any.whl.metadata (10 kB)\n",
            "Requirement already satisfied: pandas in /usr/local/lib/python3.10/dist-packages (from datasets) (2.2.2)\n",
            "Requirement already satisfied: requests>=2.32.2 in /usr/local/lib/python3.10/dist-packages (from datasets) (2.32.3)\n",
            "Requirement already satisfied: tqdm>=4.66.3 in /usr/local/lib/python3.10/dist-packages (from datasets) (4.66.6)\n",
            "Collecting xxhash (from datasets)\n",
            "  Downloading xxhash-3.5.0-cp310-cp310-manylinux_2_17_x86_64.manylinux2014_x86_64.whl.metadata (12 kB)\n",
            "Collecting multiprocess<0.70.17 (from datasets)\n",
            "  Downloading multiprocess-0.70.16-py310-none-any.whl.metadata (7.2 kB)\n",
            "Collecting fsspec<=2024.9.0,>=2023.1.0 (from fsspec[http]<=2024.9.0,>=2023.1.0->datasets)\n",
            "  Downloading fsspec-2024.9.0-py3-none-any.whl.metadata (11 kB)\n",
            "Requirement already satisfied: aiohttp in /usr/local/lib/python3.10/dist-packages (from datasets) (3.10.10)\n",
            "Requirement already satisfied: huggingface-hub>=0.23.0 in /usr/local/lib/python3.10/dist-packages (from datasets) (0.24.7)\n",
            "Requirement already satisfied: packaging in /usr/local/lib/python3.10/dist-packages (from datasets) (24.1)\n",
            "Requirement already satisfied: pyyaml>=5.1 in /usr/local/lib/python3.10/dist-packages (from datasets) (6.0.2)\n",
            "Requirement already satisfied: aiohappyeyeballs>=2.3.0 in /usr/local/lib/python3.10/dist-packages (from aiohttp->datasets) (2.4.3)\n",
            "Requirement already satisfied: aiosignal>=1.1.2 in /usr/local/lib/python3.10/dist-packages (from aiohttp->datasets) (1.3.1)\n",
            "Requirement already satisfied: attrs>=17.3.0 in /usr/local/lib/python3.10/dist-packages (from aiohttp->datasets) (24.2.0)\n",
            "Requirement already satisfied: frozenlist>=1.1.1 in /usr/local/lib/python3.10/dist-packages (from aiohttp->datasets) (1.5.0)\n",
            "Requirement already satisfied: multidict<7.0,>=4.5 in /usr/local/lib/python3.10/dist-packages (from aiohttp->datasets) (6.1.0)\n",
            "Requirement already satisfied: yarl<2.0,>=1.12.0 in /usr/local/lib/python3.10/dist-packages (from aiohttp->datasets) (1.17.0)\n",
            "Requirement already satisfied: async-timeout<5.0,>=4.0 in /usr/local/lib/python3.10/dist-packages (from aiohttp->datasets) (4.0.3)\n",
            "Requirement already satisfied: typing-extensions>=3.7.4.3 in /usr/local/lib/python3.10/dist-packages (from huggingface-hub>=0.23.0->datasets) (4.12.2)\n",
            "Requirement already satisfied: charset-normalizer<4,>=2 in /usr/local/lib/python3.10/dist-packages (from requests>=2.32.2->datasets) (3.4.0)\n",
            "Requirement already satisfied: idna<4,>=2.5 in /usr/local/lib/python3.10/dist-packages (from requests>=2.32.2->datasets) (3.10)\n",
            "Requirement already satisfied: urllib3<3,>=1.21.1 in /usr/local/lib/python3.10/dist-packages (from requests>=2.32.2->datasets) (2.2.3)\n",
            "Requirement already satisfied: certifi>=2017.4.17 in /usr/local/lib/python3.10/dist-packages (from requests>=2.32.2->datasets) (2024.8.30)\n",
            "Requirement already satisfied: python-dateutil>=2.8.2 in /usr/local/lib/python3.10/dist-packages (from pandas->datasets) (2.8.2)\n",
            "Requirement already satisfied: pytz>=2020.1 in /usr/local/lib/python3.10/dist-packages (from pandas->datasets) (2024.2)\n",
            "Requirement already satisfied: tzdata>=2022.7 in /usr/local/lib/python3.10/dist-packages (from pandas->datasets) (2024.2)\n",
            "Requirement already satisfied: six>=1.5 in /usr/local/lib/python3.10/dist-packages (from python-dateutil>=2.8.2->pandas->datasets) (1.16.0)\n",
            "Requirement already satisfied: propcache>=0.2.0 in /usr/local/lib/python3.10/dist-packages (from yarl<2.0,>=1.12.0->aiohttp->datasets) (0.2.0)\n",
            "Downloading datasets-3.1.0-py3-none-any.whl (480 kB)\n",
            "\u001b[2K   \u001b[90m━━━━━━━━━━━━━━━━━━━━━━━━━━━━━━━━━━━━━━━━\u001b[0m \u001b[32m480.6/480.6 kB\u001b[0m \u001b[31m10.0 MB/s\u001b[0m eta \u001b[36m0:00:00\u001b[0m\n",
            "\u001b[?25hDownloading dill-0.3.8-py3-none-any.whl (116 kB)\n",
            "\u001b[2K   \u001b[90m━━━━━━━━━━━━━━━━━━━━━━━━━━━━━━━━━━━━━━━━\u001b[0m \u001b[32m116.3/116.3 kB\u001b[0m \u001b[31m11.0 MB/s\u001b[0m eta \u001b[36m0:00:00\u001b[0m\n",
            "\u001b[?25hDownloading fsspec-2024.9.0-py3-none-any.whl (179 kB)\n",
            "\u001b[2K   \u001b[90m━━━━━━━━━━━━━━━━━━━━━━━━━━━━━━━━━━━━━━━━\u001b[0m \u001b[32m179.3/179.3 kB\u001b[0m \u001b[31m10.1 MB/s\u001b[0m eta \u001b[36m0:00:00\u001b[0m\n",
            "\u001b[?25hDownloading multiprocess-0.70.16-py310-none-any.whl (134 kB)\n",
            "\u001b[2K   \u001b[90m━━━━━━━━━━━━━━━━━━━━━━━━━━━━━━━━━━━━━━━━\u001b[0m \u001b[32m134.8/134.8 kB\u001b[0m \u001b[31m12.3 MB/s\u001b[0m eta \u001b[36m0:00:00\u001b[0m\n",
            "\u001b[?25hDownloading xxhash-3.5.0-cp310-cp310-manylinux_2_17_x86_64.manylinux2014_x86_64.whl (194 kB)\n",
            "\u001b[2K   \u001b[90m━━━━━━━━━━━━━━━━━━━━━━━━━━━━━━━━━━━━━━━━\u001b[0m \u001b[32m194.1/194.1 kB\u001b[0m \u001b[31m18.0 MB/s\u001b[0m eta \u001b[36m0:00:00\u001b[0m\n",
            "\u001b[?25hInstalling collected packages: xxhash, fsspec, dill, multiprocess, datasets\n",
            "  Attempting uninstall: fsspec\n",
            "    Found existing installation: fsspec 2024.10.0\n",
            "    Uninstalling fsspec-2024.10.0:\n",
            "      Successfully uninstalled fsspec-2024.10.0\n",
            "\u001b[31mERROR: pip's dependency resolver does not currently take into account all the packages that are installed. This behaviour is the source of the following dependency conflicts.\n",
            "gcsfs 2024.10.0 requires fsspec==2024.10.0, but you have fsspec 2024.9.0 which is incompatible.\u001b[0m\u001b[31m\n",
            "\u001b[0mSuccessfully installed datasets-3.1.0 dill-0.3.8 fsspec-2024.9.0 multiprocess-0.70.16 xxhash-3.5.0\n",
            "Requirement already satisfied: orjson in /usr/local/lib/python3.10/dist-packages (3.10.10)\n",
            "Collecting git+https://github.com/openai/CLIP.git\n",
            "  Cloning https://github.com/openai/CLIP.git to /tmp/pip-req-build-td36416a\n",
            "  Running command git clone --filter=blob:none --quiet https://github.com/openai/CLIP.git /tmp/pip-req-build-td36416a\n",
            "  Resolved https://github.com/openai/CLIP.git to commit dcba3cb2e2827b402d2701e7e1c7d9fed8a20ef1\n",
            "  Preparing metadata (setup.py) ... \u001b[?25l\u001b[?25hdone\n",
            "Collecting ftfy (from clip==1.0)\n",
            "  Downloading ftfy-6.3.1-py3-none-any.whl.metadata (7.3 kB)\n",
            "Requirement already satisfied: packaging in /usr/local/lib/python3.10/dist-packages (from clip==1.0) (24.1)\n",
            "Requirement already satisfied: regex in /usr/local/lib/python3.10/dist-packages (from clip==1.0) (2024.9.11)\n",
            "Requirement already satisfied: tqdm in /usr/local/lib/python3.10/dist-packages (from clip==1.0) (4.66.6)\n",
            "Requirement already satisfied: torch in /usr/local/lib/python3.10/dist-packages (from clip==1.0) (2.5.0+cu121)\n",
            "Requirement already satisfied: torchvision in /usr/local/lib/python3.10/dist-packages (from clip==1.0) (0.20.0+cu121)\n",
            "Requirement already satisfied: wcwidth in /usr/local/lib/python3.10/dist-packages (from ftfy->clip==1.0) (0.2.13)\n",
            "Requirement already satisfied: filelock in /usr/local/lib/python3.10/dist-packages (from torch->clip==1.0) (3.16.1)\n",
            "Requirement already satisfied: typing-extensions>=4.8.0 in /usr/local/lib/python3.10/dist-packages (from torch->clip==1.0) (4.12.2)\n",
            "Requirement already satisfied: networkx in /usr/local/lib/python3.10/dist-packages (from torch->clip==1.0) (3.4.2)\n",
            "Requirement already satisfied: jinja2 in /usr/local/lib/python3.10/dist-packages (from torch->clip==1.0) (3.1.4)\n",
            "Requirement already satisfied: fsspec in /usr/local/lib/python3.10/dist-packages (from torch->clip==1.0) (2024.9.0)\n",
            "Requirement already satisfied: sympy==1.13.1 in /usr/local/lib/python3.10/dist-packages (from torch->clip==1.0) (1.13.1)\n",
            "Requirement already satisfied: mpmath<1.4,>=1.1.0 in /usr/local/lib/python3.10/dist-packages (from sympy==1.13.1->torch->clip==1.0) (1.3.0)\n",
            "Requirement already satisfied: numpy in /usr/local/lib/python3.10/dist-packages (from torchvision->clip==1.0) (1.26.4)\n",
            "Requirement already satisfied: pillow!=8.3.*,>=5.3.0 in /usr/local/lib/python3.10/dist-packages (from torchvision->clip==1.0) (10.4.0)\n",
            "Requirement already satisfied: MarkupSafe>=2.0 in /usr/local/lib/python3.10/dist-packages (from jinja2->torch->clip==1.0) (3.0.2)\n",
            "Downloading ftfy-6.3.1-py3-none-any.whl (44 kB)\n",
            "\u001b[2K   \u001b[90m━━━━━━━━━━━━━━━━━━━━━━━━━━━━━━━━━━━━━━━━\u001b[0m \u001b[32m44.8/44.8 kB\u001b[0m \u001b[31m1.4 MB/s\u001b[0m eta \u001b[36m0:00:00\u001b[0m\n",
            "\u001b[?25hBuilding wheels for collected packages: clip\n",
            "  Building wheel for clip (setup.py) ... \u001b[?25l\u001b[?25hdone\n",
            "  Created wheel for clip: filename=clip-1.0-py3-none-any.whl size=1369489 sha256=fccd882272b28db8c9e76fa00b259f20274c1aea315e678839785dc260c6c198\n",
            "  Stored in directory: /tmp/pip-ephem-wheel-cache-5o14z_hi/wheels/da/2b/4c/d6691fa9597aac8bb85d2ac13b112deb897d5b50f5ad9a37e4\n",
            "Successfully built clip\n",
            "Installing collected packages: ftfy, clip\n",
            "Successfully installed clip-1.0 ftfy-6.3.1\n",
            "Collecting faiss-gpu\n",
            "  Downloading faiss_gpu-1.7.2-cp310-cp310-manylinux_2_17_x86_64.manylinux2014_x86_64.whl.metadata (1.4 kB)\n",
            "Downloading faiss_gpu-1.7.2-cp310-cp310-manylinux_2_17_x86_64.manylinux2014_x86_64.whl (85.5 MB)\n",
            "\u001b[2K   \u001b[90m━━━━━━━━━━━━━━━━━━━━━━━━━━━━━━━━━━━━━━━━\u001b[0m \u001b[32m85.5/85.5 MB\u001b[0m \u001b[31m24.7 MB/s\u001b[0m eta \u001b[36m0:00:00\u001b[0m\n",
            "\u001b[?25hInstalling collected packages: faiss-gpu\n",
            "Successfully installed faiss-gpu-1.7.2\n",
            "Requirement already satisfied: accelerate in /usr/local/lib/python3.10/dist-packages (0.34.2)\n",
            "Requirement already satisfied: numpy<3.0.0,>=1.17 in /usr/local/lib/python3.10/dist-packages (from accelerate) (1.26.4)\n",
            "Requirement already satisfied: packaging>=20.0 in /usr/local/lib/python3.10/dist-packages (from accelerate) (24.1)\n",
            "Requirement already satisfied: psutil in /usr/local/lib/python3.10/dist-packages (from accelerate) (5.9.5)\n",
            "Requirement already satisfied: pyyaml in /usr/local/lib/python3.10/dist-packages (from accelerate) (6.0.2)\n",
            "Requirement already satisfied: torch>=1.10.0 in /usr/local/lib/python3.10/dist-packages (from accelerate) (2.5.0+cu121)\n",
            "Requirement already satisfied: huggingface-hub>=0.21.0 in /usr/local/lib/python3.10/dist-packages (from accelerate) (0.24.7)\n",
            "Requirement already satisfied: safetensors>=0.4.3 in /usr/local/lib/python3.10/dist-packages (from accelerate) (0.4.5)\n",
            "Requirement already satisfied: filelock in /usr/local/lib/python3.10/dist-packages (from huggingface-hub>=0.21.0->accelerate) (3.16.1)\n",
            "Requirement already satisfied: fsspec>=2023.5.0 in /usr/local/lib/python3.10/dist-packages (from huggingface-hub>=0.21.0->accelerate) (2024.9.0)\n",
            "Requirement already satisfied: requests in /usr/local/lib/python3.10/dist-packages (from huggingface-hub>=0.21.0->accelerate) (2.32.3)\n",
            "Requirement already satisfied: tqdm>=4.42.1 in /usr/local/lib/python3.10/dist-packages (from huggingface-hub>=0.21.0->accelerate) (4.66.6)\n",
            "Requirement already satisfied: typing-extensions>=3.7.4.3 in /usr/local/lib/python3.10/dist-packages (from huggingface-hub>=0.21.0->accelerate) (4.12.2)\n",
            "Requirement already satisfied: networkx in /usr/local/lib/python3.10/dist-packages (from torch>=1.10.0->accelerate) (3.4.2)\n",
            "Requirement already satisfied: jinja2 in /usr/local/lib/python3.10/dist-packages (from torch>=1.10.0->accelerate) (3.1.4)\n",
            "Requirement already satisfied: sympy==1.13.1 in /usr/local/lib/python3.10/dist-packages (from torch>=1.10.0->accelerate) (1.13.1)\n",
            "Requirement already satisfied: mpmath<1.4,>=1.1.0 in /usr/local/lib/python3.10/dist-packages (from sympy==1.13.1->torch>=1.10.0->accelerate) (1.3.0)\n",
            "Requirement already satisfied: MarkupSafe>=2.0 in /usr/local/lib/python3.10/dist-packages (from jinja2->torch>=1.10.0->accelerate) (3.0.2)\n",
            "Requirement already satisfied: charset-normalizer<4,>=2 in /usr/local/lib/python3.10/dist-packages (from requests->huggingface-hub>=0.21.0->accelerate) (3.4.0)\n",
            "Requirement already satisfied: idna<4,>=2.5 in /usr/local/lib/python3.10/dist-packages (from requests->huggingface-hub>=0.21.0->accelerate) (3.10)\n",
            "Requirement already satisfied: urllib3<3,>=1.21.1 in /usr/local/lib/python3.10/dist-packages (from requests->huggingface-hub>=0.21.0->accelerate) (2.2.3)\n",
            "Requirement already satisfied: certifi>=2017.4.17 in /usr/local/lib/python3.10/dist-packages (from requests->huggingface-hub>=0.21.0->accelerate) (2024.8.30)\n",
            "Collecting bitsandbytes\n",
            "  Downloading bitsandbytes-0.44.1-py3-none-manylinux_2_24_x86_64.whl.metadata (3.5 kB)\n",
            "Requirement already satisfied: torch in /usr/local/lib/python3.10/dist-packages (from bitsandbytes) (2.5.0+cu121)\n",
            "Requirement already satisfied: numpy in /usr/local/lib/python3.10/dist-packages (from bitsandbytes) (1.26.4)\n",
            "Requirement already satisfied: filelock in /usr/local/lib/python3.10/dist-packages (from torch->bitsandbytes) (3.16.1)\n",
            "Requirement already satisfied: typing-extensions>=4.8.0 in /usr/local/lib/python3.10/dist-packages (from torch->bitsandbytes) (4.12.2)\n",
            "Requirement already satisfied: networkx in /usr/local/lib/python3.10/dist-packages (from torch->bitsandbytes) (3.4.2)\n",
            "Requirement already satisfied: jinja2 in /usr/local/lib/python3.10/dist-packages (from torch->bitsandbytes) (3.1.4)\n",
            "Requirement already satisfied: fsspec in /usr/local/lib/python3.10/dist-packages (from torch->bitsandbytes) (2024.9.0)\n",
            "Requirement already satisfied: sympy==1.13.1 in /usr/local/lib/python3.10/dist-packages (from torch->bitsandbytes) (1.13.1)\n",
            "Requirement already satisfied: mpmath<1.4,>=1.1.0 in /usr/local/lib/python3.10/dist-packages (from sympy==1.13.1->torch->bitsandbytes) (1.3.0)\n",
            "Requirement already satisfied: MarkupSafe>=2.0 in /usr/local/lib/python3.10/dist-packages (from jinja2->torch->bitsandbytes) (3.0.2)\n",
            "Downloading bitsandbytes-0.44.1-py3-none-manylinux_2_24_x86_64.whl (122.4 MB)\n",
            "\u001b[2K   \u001b[90m━━━━━━━━━━━━━━━━━━━━━━━━━━━━━━━━━━━━━━━━\u001b[0m \u001b[32m122.4/122.4 MB\u001b[0m \u001b[31m18.2 MB/s\u001b[0m eta \u001b[36m0:00:00\u001b[0m\n",
            "\u001b[?25hInstalling collected packages: bitsandbytes\n",
            "Successfully installed bitsandbytes-0.44.1\n",
            "Requirement already satisfied: nltk in /usr/local/lib/python3.10/dist-packages (3.8.1)\n",
            "Requirement already satisfied: click in /usr/local/lib/python3.10/dist-packages (from nltk) (8.1.7)\n",
            "Requirement already satisfied: joblib in /usr/local/lib/python3.10/dist-packages (from nltk) (1.4.2)\n",
            "Requirement already satisfied: regex>=2021.8.3 in /usr/local/lib/python3.10/dist-packages (from nltk) (2024.9.11)\n",
            "Requirement already satisfied: tqdm in /usr/local/lib/python3.10/dist-packages (from nltk) (4.66.6)\n",
            "Requirement already satisfied: sentence-transformers in /usr/local/lib/python3.10/dist-packages (3.2.1)\n",
            "Requirement already satisfied: transformers<5.0.0,>=4.41.0 in /usr/local/lib/python3.10/dist-packages (from sentence-transformers) (4.44.2)\n",
            "Requirement already satisfied: tqdm in /usr/local/lib/python3.10/dist-packages (from sentence-transformers) (4.66.6)\n",
            "Requirement already satisfied: torch>=1.11.0 in /usr/local/lib/python3.10/dist-packages (from sentence-transformers) (2.5.0+cu121)\n",
            "Requirement already satisfied: scikit-learn in /usr/local/lib/python3.10/dist-packages (from sentence-transformers) (1.5.2)\n",
            "Requirement already satisfied: scipy in /usr/local/lib/python3.10/dist-packages (from sentence-transformers) (1.13.1)\n",
            "Requirement already satisfied: huggingface-hub>=0.20.0 in /usr/local/lib/python3.10/dist-packages (from sentence-transformers) (0.24.7)\n",
            "Requirement already satisfied: Pillow in /usr/local/lib/python3.10/dist-packages (from sentence-transformers) (10.4.0)\n",
            "Requirement already satisfied: filelock in /usr/local/lib/python3.10/dist-packages (from huggingface-hub>=0.20.0->sentence-transformers) (3.16.1)\n",
            "Requirement already satisfied: fsspec>=2023.5.0 in /usr/local/lib/python3.10/dist-packages (from huggingface-hub>=0.20.0->sentence-transformers) (2024.9.0)\n",
            "Requirement already satisfied: packaging>=20.9 in /usr/local/lib/python3.10/dist-packages (from huggingface-hub>=0.20.0->sentence-transformers) (24.1)\n",
            "Requirement already satisfied: pyyaml>=5.1 in /usr/local/lib/python3.10/dist-packages (from huggingface-hub>=0.20.0->sentence-transformers) (6.0.2)\n",
            "Requirement already satisfied: requests in /usr/local/lib/python3.10/dist-packages (from huggingface-hub>=0.20.0->sentence-transformers) (2.32.3)\n",
            "Requirement already satisfied: typing-extensions>=3.7.4.3 in /usr/local/lib/python3.10/dist-packages (from huggingface-hub>=0.20.0->sentence-transformers) (4.12.2)\n",
            "Requirement already satisfied: networkx in /usr/local/lib/python3.10/dist-packages (from torch>=1.11.0->sentence-transformers) (3.4.2)\n",
            "Requirement already satisfied: jinja2 in /usr/local/lib/python3.10/dist-packages (from torch>=1.11.0->sentence-transformers) (3.1.4)\n",
            "Requirement already satisfied: sympy==1.13.1 in /usr/local/lib/python3.10/dist-packages (from torch>=1.11.0->sentence-transformers) (1.13.1)\n",
            "Requirement already satisfied: mpmath<1.4,>=1.1.0 in /usr/local/lib/python3.10/dist-packages (from sympy==1.13.1->torch>=1.11.0->sentence-transformers) (1.3.0)\n",
            "Requirement already satisfied: numpy>=1.17 in /usr/local/lib/python3.10/dist-packages (from transformers<5.0.0,>=4.41.0->sentence-transformers) (1.26.4)\n",
            "Requirement already satisfied: regex!=2019.12.17 in /usr/local/lib/python3.10/dist-packages (from transformers<5.0.0,>=4.41.0->sentence-transformers) (2024.9.11)\n",
            "Requirement already satisfied: safetensors>=0.4.1 in /usr/local/lib/python3.10/dist-packages (from transformers<5.0.0,>=4.41.0->sentence-transformers) (0.4.5)\n",
            "Requirement already satisfied: tokenizers<0.20,>=0.19 in /usr/local/lib/python3.10/dist-packages (from transformers<5.0.0,>=4.41.0->sentence-transformers) (0.19.1)\n",
            "Requirement already satisfied: joblib>=1.2.0 in /usr/local/lib/python3.10/dist-packages (from scikit-learn->sentence-transformers) (1.4.2)\n",
            "Requirement already satisfied: threadpoolctl>=3.1.0 in /usr/local/lib/python3.10/dist-packages (from scikit-learn->sentence-transformers) (3.5.0)\n",
            "Requirement already satisfied: MarkupSafe>=2.0 in /usr/local/lib/python3.10/dist-packages (from jinja2->torch>=1.11.0->sentence-transformers) (3.0.2)\n",
            "Requirement already satisfied: charset-normalizer<4,>=2 in /usr/local/lib/python3.10/dist-packages (from requests->huggingface-hub>=0.20.0->sentence-transformers) (3.4.0)\n",
            "Requirement already satisfied: idna<4,>=2.5 in /usr/local/lib/python3.10/dist-packages (from requests->huggingface-hub>=0.20.0->sentence-transformers) (3.10)\n",
            "Requirement already satisfied: urllib3<3,>=1.21.1 in /usr/local/lib/python3.10/dist-packages (from requests->huggingface-hub>=0.20.0->sentence-transformers) (2.2.3)\n",
            "Requirement already satisfied: certifi>=2017.4.17 in /usr/local/lib/python3.10/dist-packages (from requests->huggingface-hub>=0.20.0->sentence-transformers) (2024.8.30)\n",
            "Collecting qwen_vl_utils\n",
            "  Downloading qwen_vl_utils-0.0.8-py3-none-any.whl.metadata (3.6 kB)\n",
            "Collecting av (from qwen_vl_utils)\n",
            "  Downloading av-13.1.0-cp310-cp310-manylinux_2_17_x86_64.manylinux2014_x86_64.whl.metadata (4.4 kB)\n",
            "Requirement already satisfied: packaging in /usr/local/lib/python3.10/dist-packages (from qwen_vl_utils) (24.1)\n",
            "Requirement already satisfied: pillow in /usr/local/lib/python3.10/dist-packages (from qwen_vl_utils) (10.4.0)\n",
            "Requirement already satisfied: requests in /usr/local/lib/python3.10/dist-packages (from qwen_vl_utils) (2.32.3)\n",
            "Requirement already satisfied: charset-normalizer<4,>=2 in /usr/local/lib/python3.10/dist-packages (from requests->qwen_vl_utils) (3.4.0)\n",
            "Requirement already satisfied: idna<4,>=2.5 in /usr/local/lib/python3.10/dist-packages (from requests->qwen_vl_utils) (3.10)\n",
            "Requirement already satisfied: urllib3<3,>=1.21.1 in /usr/local/lib/python3.10/dist-packages (from requests->qwen_vl_utils) (2.2.3)\n",
            "Requirement already satisfied: certifi>=2017.4.17 in /usr/local/lib/python3.10/dist-packages (from requests->qwen_vl_utils) (2024.8.30)\n",
            "Downloading qwen_vl_utils-0.0.8-py3-none-any.whl (5.9 kB)\n",
            "Downloading av-13.1.0-cp310-cp310-manylinux_2_17_x86_64.manylinux2014_x86_64.whl (33.1 MB)\n",
            "\u001b[2K   \u001b[90m━━━━━━━━━━━━━━━━━━━━━━━━━━━━━━━━━━━━━━━━\u001b[0m \u001b[32m33.1/33.1 MB\u001b[0m \u001b[31m55.4 MB/s\u001b[0m eta \u001b[36m0:00:00\u001b[0m\n",
            "\u001b[?25hInstalling collected packages: av, qwen_vl_utils\n",
            "Successfully installed av-13.1.0 qwen_vl_utils-0.0.8\n"
          ]
        }
      ]
    },
    {
      "cell_type": "code",
      "source": [
        "from datasets import load_dataset\n",
        "from PIL import Image\n",
        "import requests\n",
        "from io import BytesIO\n",
        "import matplotlib.pyplot as plt\n",
        "import transformers\n",
        "import orjson\n",
        "import torch\n",
        "from transformers import CLIPProcessor, CLIPModel\n",
        "import clip\n",
        "import faiss\n",
        "import numpy as np\n",
        "import json\n",
        "import copy\n",
        "from transformers import Blip2Processor, Blip2ForConditionalGeneration, BitsAndBytesConfig\n",
        "from transformers import AutoModelForCausalLM, AutoTokenizer\n",
        "from nltk.translate.bleu_score import sentence_bleu\n",
        "from sentence_transformers import SentenceTransformer\n",
        "from sklearn.metrics import f1_score\n",
        "import nltk\n",
        "nltk.download('punkt')\n",
        "nltk.download('wordnet')\n",
        "from nltk.translate.meteor_score import meteor_score\n",
        "from peft import LoraConfig, get_peft_model\n"
      ],
      "metadata": {
        "colab": {
          "base_uri": "https://localhost:8080/"
        },
        "id": "eWK5PVY-vU9E",
        "outputId": "c86b9c52-f060-44e5-eee2-da0720544121"
      },
      "execution_count": null,
      "outputs": [
        {
          "output_type": "stream",
          "name": "stderr",
          "text": [
            "[nltk_data] Downloading package punkt to /root/nltk_data...\n",
            "[nltk_data]   Unzipping tokenizers/punkt.zip.\n",
            "[nltk_data] Downloading package wordnet to /root/nltk_data...\n"
          ]
        }
      ]
    },
    {
      "cell_type": "code",
      "source": [
        "#Upload data/vqa_rad/VQA_RAD Dataset Public.json from the Github repository to your Google Drive and put the absolute path to it below\n",
        "VQA_RAD_ANNOTS_FILE = r\"\"\n",
        "\n",
        "#Upload data/mimic_cxr/clip_text_features.json from the Github repository to your Google Drive and put the absolute path to it below\n",
        "CLIP_TEXT_FEATURES_FILE = r\"\"\n",
        "\n",
        "#Upload data/mimic_cxr/clip-imp-pretrained_128_6_after_4.pt from the Github repository to your Google Drive and put the absolute path to it below\n",
        "CLIP_MODEL_FILE = r\"\"\n",
        "\n",
        "#Upload data/vqa_rad/images from the Github repository to your Google Drive and put the absolute path to it below\n",
        "IMAGE_PATH_PREFIX = r\"\"\n",
        "\n",
        "#Upload data/vqa_rad/vqa_annotations_promptmrg.json from the Github repository to your Google Drive and put the absolute path to it below\n",
        "CHEX_ANNOTS_FILE = r\"\"\n",
        "\n",
        "TOP_K = 21\n",
        "\n",
        "#Extract only the Chest X-ray [image, question, answer] triplets from the entire VQA-RAD dataset\n",
        "def get_chex_image_data(vqa_rad_annotations_file):\n",
        "    #Annotations originally stored in JSON format\n",
        "    with open(vqa_rad_annotations_file, \"rb\") as f:\n",
        "        annotations = orjson.loads(f.read())\n",
        "\n",
        "    chex_data = [] #[[image_path, question, answer]]\n",
        "    for entry in annotations:\n",
        "      if entry[\"image_organ\"] == \"CHEST\":\n",
        "        chex_data.append([entry[\"image_name\"], entry[\"question\"], entry[\"answer\"]])\n",
        "\n",
        "    return chex_data\n",
        "\n",
        "\n",
        "#Store all CLIP text features in Vector Database\n",
        "def get_report_db_clip_features():\n",
        "    #Load large JSON file with all clip features 270,790 x (1 x 512)\n",
        "    with open(CLIP_TEXT_FEATURES_FILE, 'rb') as f:\n",
        "        clip_text_features = orjson.loads(f.read())\n",
        "\n",
        "    #Create FAISS Vector Database with all the CLIP text features stored in it\n",
        "    embedding_dimension = len(clip_text_features[0])\n",
        "    faiss_index = faiss.IndexFlatL2(embedding_dimension)\n",
        "    faiss_index.add(np.array(clip_text_features).astype(\"float32\"))\n",
        "    faiss.write_index(faiss_index, \"faiss_index.faiss\")\n",
        "\n",
        "    return clip_text_features, faiss_index\n",
        "\n",
        "\n",
        "#Extract indices of Top-K most similar text features from Vector Database\n",
        "def get_clip_indices(image_paths, clip_text_features, faiss_index):\n",
        "    #Use ViT-B/32 because that is same backbone used in the CLIP model\n",
        "    clip_model, clip_processor = clip.load(\"ViT-B/32\", device=\"cuda\", jit=False)\n",
        "    clip_model.load_state_dict(torch.load(CLIP_MODEL_FILE, map_location=\"cuda\"))\n",
        "    clip_model.eval()\n",
        "\n",
        "    all_top_matches = []\n",
        "    for image_path in image_paths:\n",
        "      image = Image.open(IMAGE_PATH_PREFIX + image_path)\n",
        "      model_input = clip_processor(image).unsqueeze(0).to(\"cuda\")\n",
        "\n",
        "      #Pass image features through CLIP to get embeddings\n",
        "      with torch.no_grad():\n",
        "          image_features = clip_model.encode_image(model_input)\n",
        "\n",
        "      #Normalize the CLIP output embeddings and move to CPU device for direct comparison with Vector Database\n",
        "      image_features /= image_features.norm(dim=-1, keepdim=True) #Size is 1x512 and matches each embedding in clip_text_features length = 512\n",
        "      image_features = image_features.cpu().numpy().astype('float32')\n",
        "\n",
        "      #Do Similarity Search to find Top-K most similar vectors in Vector Database and return their indices\n",
        "      distance_matrix, top_matches = faiss_index.search(image_features, k=TOP_K)\n",
        "      all_top_matches.append(top_matches)\n",
        "\n",
        "    return all_top_matches\n",
        "\n",
        "\n",
        "#Create JSON file with annotations to be downloaded and sent to PromptMRG for inferencing to generate the reports for the images in the VQA RAD testing dataset\n",
        "def create_json_file(all_top_matches, image_names):\n",
        "  data = {\"test\": []}\n",
        "\n",
        "  for image_name, clip_indices in zip(image_names, all_top_matches):\n",
        "    clip_indices = clip_indices[0].tolist()\n",
        "\n",
        "    #Create JSON entry that follows the format PromptMRG expects each image to be annotated in\n",
        "    entry = {\n",
        "        \"id\": image_name,\n",
        "        \"report\": \"NA\",\n",
        "        \"image_path\": [\n",
        "            image_name\n",
        "        ],\n",
        "        \"split\": \"test\",\n",
        "        \"view\": [\n",
        "            \"PA\"\n",
        "        ],\n",
        "        \"labels\": 14 * [0],\n",
        "        \"clip_indices\": clip_indices\n",
        "    }\n",
        "    data[\"test\"].append(entry)\n",
        "\n",
        "  with open(CHEX_ANNOTS_FILE, 'w') as chex_annots_json:\n",
        "    json.dump(data, chex_annots_json, indent=4)\n",
        "\n",
        "  return data\n",
        "\n",
        "\n",
        "\n",
        "if __name__ == \"__main__\":\n",
        "    #First process dataset to only include all 794 CHEX images\n",
        "    image_data = get_chex_image_data(VQA_RAD_ANNOTS_FILE)\n",
        "    image_names = list(set([image_data[i][0] for i in range(len(image_data))]))\n",
        "    print(f\"{len(image_names)} CHEX Images and {len(image_data)} total QA Pairs\")\n",
        "\n",
        "    #Then extract and store all clip_text_features in FAISS Vector Store\n",
        "    clip_text_features, faiss_index = get_report_db_clip_features()\n",
        "\n",
        "    #Then get clip_indices for all 794 CHEX images extracted earlier\n",
        "    all_top_matches = get_clip_indices(image_names, clip_text_features, faiss_index)\n",
        "    print(f\"Acquired {len(all_top_matches)} sets for {len(image_names)} Images of Top {TOP_K} matches\")\n",
        "\n",
        "    #Now create new JSON vqa_rad_annotations_promptmrg.json file to be passed as input to PromptMRG to generate reports for these images\n",
        "    json_file_data = create_json_file(all_top_matches, image_names)\n",
        "    print(f\"Created CHEX Annotations JSON File and Stored in Google Drive ready for local download\")"
      ],
      "metadata": {
        "colab": {
          "base_uri": "https://localhost:8080/"
        },
        "id": "OO5bSLuhuxlk",
        "outputId": "39098a42-435c-4271-f0c4-3cfb67280b4e"
      },
      "execution_count": null,
      "outputs": [
        {
          "output_type": "stream",
          "name": "stdout",
          "text": [
            "107 CHEX Images and 794 total QA Pairs\n"
          ]
        },
        {
          "output_type": "stream",
          "name": "stderr",
          "text": [
            "100%|████████████████████████████████████████| 338M/338M [00:02<00:00, 146MiB/s]\n",
            "<ipython-input-3-ff8e076285b0>:51: FutureWarning: You are using `torch.load` with `weights_only=False` (the current default value), which uses the default pickle module implicitly. It is possible to construct malicious pickle data which will execute arbitrary code during unpickling (See https://github.com/pytorch/pytorch/blob/main/SECURITY.md#untrusted-models for more details). In a future release, the default value for `weights_only` will be flipped to `True`. This limits the functions that could be executed during unpickling. Arbitrary objects will no longer be allowed to be loaded via this mode unless they are explicitly allowlisted by the user via `torch.serialization.add_safe_globals`. We recommend you start setting `weights_only=True` for any use case where you don't have full control of the loaded file. Please open an issue on GitHub for any issues related to this experimental feature.\n",
            "  clip_model.load_state_dict(torch.load(CLIP_MODEL_FILE, map_location=\"cuda\"))\n"
          ]
        },
        {
          "output_type": "stream",
          "name": "stdout",
          "text": [
            "Acquired 107 sets for 107 Images of Top 21 matches\n",
            "Created CHEX Annotations JSON File and Stored in Google Drive ready for local download\n"
          ]
        }
      ]
    },
    {
      "cell_type": "code",
      "source": [
        "# At this point, here is what has happened\n",
        "# 1. We have taken the full VQA-RAD dataset and extracted only the [image, question, answer] triplets for Chest X-rays\n",
        "\n",
        "# 2. For each of these images we have found the Top-K most similar feature embeddings from the Vector Database that stores feature embeddings from the MIMIC-CXR dataset the CLIP model was trained on\n",
        "\n",
        "# 3. Given these [image, question, answer] and Top-K most similar feature embedding information we have created a new annotation JSON file that stores all of this information together\n",
        "\n",
        "# 4. We are still missing one thing - and that is the medical reports for all these Chest-Xray images. We do not have these reports already because VQA-RAD is a VQA dataset not a medical report generation one\n",
        "#    Therefore, we have to use PromptMRG to generate these reports for these images.\n",
        "\n",
        "# 5. Now, the annotation JSON file simply needs to be inputted into PromptMRG so that it can generate reports for these images\n",
        "\n",
        "# 6. This requires going back to your local Python environment and running inferencing for PromptMRG using \"./test_vqa_rad.sh\"\n",
        "\n",
        "# 7. However, to save time, we have already done this step and have saved the medical reports that PromptMRG generated for these images\n",
        "\n",
        "# 8. You can find them in the GitHub repository at \"results/promptmrg/experiment_results/base_iu_model/test/base_iu_model_vqa_rad_mrg_test_log.json\"\n",
        "\n",
        "# 9. All you have to do is upload that file into your Google Drive and put the absolute path to it below in the next cell\n",
        "\n",
        "# 10. Then simply continue running this notebook!"
      ],
      "metadata": {
        "id": "vpgkA7a0NTnm"
      },
      "execution_count": null,
      "outputs": []
    },
    {
      "cell_type": "code",
      "source": [
        "#Upload results/promptmrg/experiment_results/base_iu_model/test/base_iu_model_vqa_rad_mrg_test_log.json from the Github repository to your Google Drive and put the absolute path to it below\n",
        "IMAGE_REPORTS_FILE = r\"\"\n",
        "\n",
        "#The goal here is to take a list storing [image, question, answer] triplets and convert it to -> [image, question, answer, report] by adding in the reports that PromptMRG just created\n",
        "with open(IMAGE_REPORTS_FILE, \"rb\") as f:\n",
        "    image_report_dict = orjson.loads(f.read())\n",
        "\n",
        "image_data = get_chex_image_data(VQA_RAD_ANNOTS_FILE)\n",
        "\n",
        "#Print out some sample [image, question, answer] entries\n",
        "print(image_data[0])\n",
        "print(image_data[56])\n",
        "\n",
        "\n",
        "#Append report to the triplet\n",
        "image_data_with_report = copy.deepcopy(image_data)\n",
        "\n",
        "for i in range(len(image_data_with_report)):\n",
        "  image_name = image_data_with_report[i][0]\n",
        "  report = image_report_dict[image_name]\n",
        "  image_data_with_report[i].append(report)\n",
        "\n",
        "#Print the same sample values now with the report appended\n",
        "print(image_data_with_report[0])\n",
        "print(image_data_with_report[56])"
      ],
      "metadata": {
        "colab": {
          "base_uri": "https://localhost:8080/"
        },
        "id": "nj_gJatL7DKJ",
        "outputId": "8ec22229-a6db-4d77-bbc2-1d3587d1156c"
      },
      "execution_count": null,
      "outputs": [
        {
          "output_type": "stream",
          "name": "stdout",
          "text": [
            "['synpic29265.jpg', 'Are the lungs normal appearing?', 'No']\n",
            "['synpic33422.jpg', 'Has the midline of the mediastinum shifted?', 'No']\n",
            "['synpic29265.jpg', 'Are the lungs normal appearing?', 'No', 'the heart is normal in size. the mediastinum is unremarkable. the lungs are clear. there is no pleural effusion or pneumothorax. the xxxx are intact.']\n",
            "['synpic33422.jpg', 'Has the midline of the mediastinum shifted?', 'No', 'the heart is normal in size. the mediastinum is unremarkable. the lungs are clear. there is no pleural effusion or pneumothorax. the skeletal structures are normal.']\n"
          ]
        }
      ]
    },
    {
      "cell_type": "code",
      "source": [
        "#Now load the Moondream 2 VLM from Huggingface to perform the experiments\n",
        "model_id = \"vikhyatk/moondream2\"\n",
        "revision = \"2024-08-26\"\n",
        "model = AutoModelForCausalLM.from_pretrained(\n",
        "    model_id, trust_remote_code=True, revision=revision\n",
        ")\n",
        "tokenizer = AutoTokenizer.from_pretrained(model_id, revision=revision)"
      ],
      "metadata": {
        "colab": {
          "base_uri": "https://localhost:8080/",
          "height": 377,
          "referenced_widgets": [
            "cf2fb0ddbca74cbe9fea11287dfb24fd",
            "105e6ee2c03c4db7b1566e9c936f8052",
            "fc04c79146bb4a10ab416b9d4aade830",
            "93c80005893a485d913b46adab1dc3eb",
            "0fb691b80cf143849790632c95953e23",
            "322db77862a44327b870bb3fdc570eca",
            "44870b4d75b3496a9bc1bd851990552b",
            "453d7d151a1442a8907d88e539951757",
            "3d4b3eda116a437899c70deb00a788a6",
            "9040de7d22f143c182183c01dbc12310",
            "c4644e1e53794805ba842574bc982606",
            "eb847c7b7dd146dea7f77b67b0a478fe",
            "938cf35adb8b405695f72f99b3c50ca8",
            "909fa56a84ed4092b8101f490c434780",
            "ae9ae33f842a4da69fac05691d2257ed",
            "92a86abaee51427cb2ef5f57e3071c53",
            "5d445a2dd4e444a6811119be0697df3b",
            "c3bf578313c84fc0bbfea2db4a2a92f0",
            "1d145e64a18e402fb41a73efeb0a3d2d",
            "cf90c1acee1945c295cf8b1ea915bfed",
            "568c4650b8f44d90aff724463676afcb",
            "7eff61bd70234aae90578e0cbbe325d8",
            "f77897f0e0464baf80a98b7d9d1b03ae",
            "befa12e548914f9db3a4b1cda358e6ee",
            "e08124db7ad2478cbb823e3ac5dfa894",
            "bde7a4f067394d4b99b9c5e981c5d760",
            "ded21be81df04c8e9703d51b6f3c32af",
            "ea6339bafc374a82a3d65a444649e91d",
            "f3686980dc604b5887c9d94c8f868e45",
            "f8d2af1ef107404a8308c1c48417f5b7",
            "160be9130eb140a387c7bbffd8a73c69",
            "effac36b405e48e88eaaabb27182c2bb",
            "cb830ca1541d4dfd8ce6f971ff19ec5c",
            "00ff56c690934a7c9d22516ca07eee6d",
            "70d140462d1f482fa6210e67fc75e0b5",
            "ddd72eb24aa842e08fe7c1defaa9ea2f",
            "7cd22dea17e34ff4bf76e0521e01f151",
            "3ffcb81e8f2e40dfa53b737ad83082f1",
            "e42431f027c34c51b985ff3e9f3ac99e",
            "abbd74a249ab4dbc854f90dcd024159e",
            "4aca208f97b54dffa3285f0efc6a2552",
            "ad31b2974b184fe9b8eee33e15a04671",
            "17efb53c71734f8abf548708083b03c3",
            "2afe269a8ce247d7a7b23966a240600d",
            "6cef19be584644b89472d358d2dcd3d7",
            "43cc7491de9a40f69f570b408e3152d7",
            "3266536c9db84bcaa3d712bed7b5ae80",
            "3df6d1c614be43d0a57118749c058c35",
            "1a3161d5a10d481c888c64819185ce19",
            "5f79c31e93904cd2b8d9b2e559975c97",
            "fd0d5d34adce4c95ad43053793b557db",
            "919b091d44ea441b91c5867fa941a529",
            "a4ff0415430b4fde8bdaed8420f9dcbf",
            "546785fe38534231adf974992011161f",
            "ea1b46f8d7e043f3b6e1b79faafd2f32",
            "89f0af07f27245e08ffb44af519d7030",
            "7aeae25f1a024e5d9578229d6f083f7b",
            "48e7b5c348cf4f009efc85cb2516a79c",
            "ef9fcc15e8bb4c6dafdccb742d4b7850",
            "3c5e2f8f8de644dc8f7be8fb252b3e08",
            "b48a9e058f9e4aaf99eeaf72c3f8eff9",
            "e4152efaeb574634b0c67211caad0d4f",
            "eda744e616244ff2a4927b562aad8976",
            "5bad0c57bef34663a5507c5123a7bb4d",
            "8a60493da6cb4690ba9274a1fabe8740",
            "2eec0d79f02646189ddc80e22804cc37",
            "bf8d9f446b26408b9b0da739e6a1e10a",
            "4ec9ea3da1b74018a37590396ecfa0e4",
            "dba573b6a1f94f8ebc6523e63022b931",
            "a97605d361194931a16f5f4d718351ef",
            "99949652d3bf4600b405c18bfbdfcae1",
            "2b9fd72712c9418c97f529fd6f8c4b44",
            "352eac4f5fd140ca898b517ac5369e57",
            "dcce0addbfe64915a1f7775e654454bf",
            "c98379b9270a48649ff41cf2f0dcb9cb",
            "101c7ad8306544e29418cec84c667302",
            "f7e5ca3abfb24a829a9cbf51723ca6ae",
            "8a4059e8772c4d868207633f1855bb0c",
            "ae4cdb69809a40eb9210ae6ac44631d3",
            "3c4ef63bd61548b780c9c68dcd9e6212",
            "daa99162d7574798b829001f51fbaf62",
            "ba0420e857134208bab292a9c87745d9",
            "c3b1b778d0244f1f99cb9b88598c90a0",
            "ebaa4ce29eb84c1683ee0c9527761c3c",
            "15f6deceb4374f2ba1021ea22c112dc1",
            "d4e668e09532469192432ae1d2ee14a1",
            "b84e6381b1d04f3b9dee8a93f5c7d61d",
            "ba2fc6950d134a7da8e384eb14890d55"
          ]
        },
        "collapsed": true,
        "id": "Gh_V0MtR774r",
        "outputId": "2f0396bf-9374-4b2f-fd56-94b6f2abed8c"
      },
      "execution_count": null,
      "outputs": [
        {
          "output_type": "stream",
          "name": "stderr",
          "text": [
            "/usr/local/lib/python3.10/dist-packages/huggingface_hub/utils/_token.py:89: UserWarning: \n",
            "The secret `HF_TOKEN` does not exist in your Colab secrets.\n",
            "To authenticate with the Hugging Face Hub, create a token in your settings tab (https://huggingface.co/settings/tokens), set it as secret in your Google Colab and restart your session.\n",
            "You will be able to reuse this secret in all of your notebooks.\n",
            "Please note that authentication is recommended but still optional to access public models or datasets.\n",
            "  warnings.warn(\n"
          ]
        },
        {
          "output_type": "display_data",
          "data": {
            "text/plain": [
              "config.json:   0%|          | 0.00/319 [00:00<?, ?B/s]"
            ],
            "application/vnd.jupyter.widget-view+json": {
              "version_major": 2,
              "version_minor": 0,
              "model_id": "cf2fb0ddbca74cbe9fea11287dfb24fd"
            }
          },
          "metadata": {}
        },
        {
          "output_type": "display_data",
          "data": {
            "text/plain": [
              "configuration_moondream.py:   0%|          | 0.00/3.34k [00:00<?, ?B/s]"
            ],
            "application/vnd.jupyter.widget-view+json": {
              "version_major": 2,
              "version_minor": 0,
              "model_id": "eb847c7b7dd146dea7f77b67b0a478fe"
            }
          },
          "metadata": {}
        },
        {
          "output_type": "display_data",
          "data": {
            "text/plain": [
              "moondream.py:   0%|          | 0.00/7.20k [00:00<?, ?B/s]"
            ],
            "application/vnd.jupyter.widget-view+json": {
              "version_major": 2,
              "version_minor": 0,
              "model_id": "f77897f0e0464baf80a98b7d9d1b03ae"
            }
          },
          "metadata": {}
        },
        {
          "output_type": "display_data",
          "data": {
            "text/plain": [
              "modeling_phi.py:   0%|          | 0.00/63.1k [00:00<?, ?B/s]"
            ],
            "application/vnd.jupyter.widget-view+json": {
              "version_major": 2,
              "version_minor": 0,
              "model_id": "00ff56c690934a7c9d22516ca07eee6d"
            }
          },
          "metadata": {}
        },
        {
          "output_type": "display_data",
          "data": {
            "text/plain": [
              "region_model.py:   0%|          | 0.00/1.33k [00:00<?, ?B/s]"
            ],
            "application/vnd.jupyter.widget-view+json": {
              "version_major": 2,
              "version_minor": 0,
              "model_id": "6cef19be584644b89472d358d2dcd3d7"
            }
          },
          "metadata": {}
        },
        {
          "output_type": "display_data",
          "data": {
            "text/plain": [
              "fourier_features.py:   0%|          | 0.00/558 [00:00<?, ?B/s]"
            ],
            "application/vnd.jupyter.widget-view+json": {
              "version_major": 2,
              "version_minor": 0,
              "model_id": "89f0af07f27245e08ffb44af519d7030"
            }
          },
          "metadata": {}
        },
        {
          "output_type": "display_data",
          "data": {
            "text/plain": [
              "vision_encoder.py:   0%|          | 0.00/10.2k [00:00<?, ?B/s]"
            ],
            "application/vnd.jupyter.widget-view+json": {
              "version_major": 2,
              "version_minor": 0,
              "model_id": "bf8d9f446b26408b9b0da739e6a1e10a"
            }
          },
          "metadata": {}
        },
        {
          "output_type": "display_data",
          "data": {
            "text/plain": [
              "model.safetensors:   0%|          | 0.00/3.74G [00:00<?, ?B/s]"
            ],
            "application/vnd.jupyter.widget-view+json": {
              "version_major": 2,
              "version_minor": 0,
              "model_id": "8a4059e8772c4d868207633f1855bb0c"
            }
          },
          "metadata": {}
        }
      ]
    },
    {
      "cell_type": "code",
      "source": [
        "#Perform Experiment 1: VLM Not Fine Tuned and Knowledge-Enhanced MVQA With Reports\n",
        "\n",
        "results_with_reports = {}\n",
        "for i, image_q_pair in enumerate(image_data_with_report):\n",
        "  #Iterate through first 160 images = images in testing dataset\n",
        "  if i <= 160:\n",
        "    image = Image.open(IMAGE_PATH_PREFIX + image_q_pair[0])\n",
        "    enc_image = model.encode_image(image)\n",
        "    question = image_q_pair[1]\n",
        "    text_prompt = f\"Question: {question}\\nMedical Report as reference: {image_q_pair[3]}\"\n",
        "    vlm_output = model.answer_question(enc_image, text_prompt, tokenizer)\n",
        "    results_with_reports[i] = [text_prompt, image_q_pair[2], vlm_output]\n",
        "\n",
        "    print(f\"Image: {image_q_pair[0]}\")\n",
        "    print(f\"{text_prompt}\")\n",
        "    print(f\"GT Answer: {image_q_pair[2]}\")\n",
        "    print(f\"VLM Answer: {vlm_output}\")\n"
      ],
      "metadata": {
        "colab": {
          "base_uri": "https://localhost:8080/"
        },
        "id": "xTrvpOu8_5i3",
        "outputId": "a3c89b2f-6a46-4949-dc89-4a98db4d4eb3"
      },
      "execution_count": null,
      "outputs": [
        {
          "output_type": "stream",
          "name": "stdout",
          "text": [
            "Image: synpic29265.jpg\n",
            "Question: Are the lungs normal appearing?\n",
            "Medical Report as reference: the heart is normal in size. the mediastinum is unremarkable. the lungs are clear. there is no pleural effusion or pneumothorax. the xxxx are intact.\n",
            "GT Answer: No\n",
            "VLM Answer: Yes\n",
            "Image: synpic29265.jpg\n",
            "Question: Is there evidence of a pneumothorax\n",
            "Medical Report as reference: the heart is normal in size. the mediastinum is unremarkable. the lungs are clear. there is no pleural effusion or pneumothorax. the xxxx are intact.\n",
            "GT Answer: No\n",
            "VLM Answer: No\n",
            "Image: synpic28602.jpg\n",
            "Question: What type of imaging does this not represent?\n",
            "Medical Report as reference: the heart is normal in size. the mediastinum is unremarkable. the lungs are clear. there is no pleural effusion or pneumothorax. the xxxx are intact.\n",
            "GT Answer: ultrasound\n",
            "VLM Answer: Radiographic\n",
            "Image: synpic29265.jpg\n",
            "Question: Is this a MRI of the chest?\n",
            "Medical Report as reference: the heart is normal in size. the mediastinum is unremarkable. the lungs are clear. there is no pleural effusion or pneumothorax. the xxxx are intact.\n",
            "GT Answer: no\n",
            "VLM Answer: No\n",
            "Image: synpic28602.jpg\n",
            "Question: What is not pictured in this image?\n",
            "Medical Report as reference: the heart is normal in size. the mediastinum is unremarkable. the lungs are clear. there is no pleural effusion or pneumothorax. the xxxx are intact.\n",
            "GT Answer: The extremities\n",
            "VLM Answer: The image does not show any abnormalities in the lungs, pleural effusion, or pneumothorax. The heart appears to be normal in size, and the mediastinum is not visible. The x-ray shows the lungs to be clear, and there are no signs of pleural effusion or pneumothorax.\n",
            "Image: synpic28602.jpg\n",
            "Question: Is the trachea midline?\n",
            "Medical Report as reference: the heart is normal in size. the mediastinum is unremarkable. the lungs are clear. there is no pleural effusion or pneumothorax. the xxxx are intact.\n",
            "GT Answer: yes\n",
            "VLM Answer: Yes\n",
            "Image: synpic28602.jpg\n",
            "Question: Is there evidence of an aortic aneurysm?\n",
            "Medical Report as reference: the heart is normal in size. the mediastinum is unremarkable. the lungs are clear. there is no pleural effusion or pneumothorax. the xxxx are intact.\n",
            "GT Answer: No\n",
            "VLM Answer: No\n",
            "Image: synpic28602.jpg\n",
            "Question: Is there blunting of the costovertebral angles?\n",
            "Medical Report as reference: the heart is normal in size. the mediastinum is unremarkable. the lungs are clear. there is no pleural effusion or pneumothorax. the xxxx are intact.\n",
            "GT Answer: No\n",
            "VLM Answer: Yes\n",
            "Image: synpic42202.jpg\n",
            "Question: Is there evidence of an aortic aneurysm?\n",
            "Medical Report as reference: the lungs are clear. there is no pleural effusion or pneumothorax. the heart and mediastinal contours are normal. there is no focal air space opacity to suggest a pneumonia.\n",
            "GT Answer: yes\n",
            "VLM Answer: No\n",
            "Image: synpic42202.jpg\n",
            "Question: Which organ system is abnormal in this image?\n",
            "Medical Report as reference: the lungs are clear. there is no pleural effusion or pneumothorax. the heart and mediastinal contours are normal. there is no focal air space opacity to suggest a pneumonia.\n",
            "GT Answer: Cardiovascular\n",
            "VLM Answer: The lungs are clear in the image, and there is no pleural effusion or pneumothorax. The heart and mediastinal contours are normal, and there is no focal air space opacity to suggest a pneumonia.\n",
            "Image: synpic29265.jpg\n",
            "Question: Is there airspace consolidation on the left side?\n",
            "Medical Report as reference: the heart is normal in size. the mediastinum is unremarkable. the lungs are clear. there is no pleural effusion or pneumothorax. the xxxx are intact.\n",
            "GT Answer: Yes\n",
            "VLM Answer: Yes\n",
            "Image: synpic42202.jpg\n",
            "Question: Is there a pneumothorax?\n",
            "Medical Report as reference: the lungs are clear. there is no pleural effusion or pneumothorax. the heart and mediastinal contours are normal. there is no focal air space opacity to suggest a pneumonia.\n",
            "GT Answer: no\n",
            "VLM Answer: No\n",
            "Image: synpic29265.jpg\n",
            "Question: Is there a fracture?\n",
            "Medical Report as reference: the heart is normal in size. the mediastinum is unremarkable. the lungs are clear. there is no pleural effusion or pneumothorax. the xxxx are intact.\n",
            "GT Answer: no\n",
            "VLM Answer: No\n",
            "Image: synpic29265.jpg\n",
            "Question: How is the patient oriented?\n",
            "Medical Report as reference: the heart is normal in size. the mediastinum is unremarkable. the lungs are clear. there is no pleural effusion or pneumothorax. the xxxx are intact.\n",
            "GT Answer: Posterior-Anterior\n",
            "VLM Answer: Left\n",
            "Image: synpic28602.jpg\n",
            "Question: Is this an anterior posterior image?\n",
            "Medical Report as reference: the heart is normal in size. the mediastinum is unremarkable. the lungs are clear. there is no pleural effusion or pneumothorax. the xxxx are intact.\n",
            "GT Answer: no\n",
            "VLM Answer: Yes\n",
            "Image: synpic42202.jpg\n",
            "Question: Is there cardiomyopathy?\n",
            "Medical Report as reference: the lungs are clear. there is no pleural effusion or pneumothorax. the heart and mediastinal contours are normal. there is no focal air space opacity to suggest a pneumonia.\n",
            "GT Answer: yes\n",
            "VLM Answer: No\n",
            "Image: synpic29265.jpg\n",
            "Question: Is there air under the diaphragm?\n",
            "Medical Report as reference: the heart is normal in size. the mediastinum is unremarkable. the lungs are clear. there is no pleural effusion or pneumothorax. the xxxx are intact.\n",
            "GT Answer: No\n",
            "VLM Answer: Yes\n",
            "Image: synpic42202.jpg\n",
            "Question: What type of image is this?\n",
            "Medical Report as reference: the lungs are clear. there is no pleural effusion or pneumothorax. the heart and mediastinal contours are normal. there is no focal air space opacity to suggest a pneumonia.\n",
            "GT Answer: Chest X-ray\n",
            "VLM Answer: X-ray\n",
            "Image: synpic42202.jpg\n",
            "Question: Is this an anterior-posterior image\n",
            "Medical Report as reference: the lungs are clear. there is no pleural effusion or pneumothorax. the heart and mediastinal contours are normal. there is no focal air space opacity to suggest a pneumonia.\n",
            "GT Answer: no\n",
            "VLM Answer: Yes\n",
            "Image: synpic21776.jpg\n",
            "Question: Are >12 ribs present in the image?\n",
            "Medical Report as reference: the lungs are clear. there is no pleural effusion or pneumothorax. the heart and mediastinum are normal. the skeletal structures are normal. the skeletal structures and soft tissues are normal.\n",
            "GT Answer: Yes\n",
            "VLM Answer: Yes\n",
            "Image: synpic21776.jpg\n",
            "Question: does this represent adequate inspiratory effort?\n",
            "Medical Report as reference: the lungs are clear. there is no pleural effusion or pneumothorax. the heart and mediastinum are normal. the skeletal structures are normal. the skeletal structures and soft tissues are normal.\n",
            "GT Answer: Yes\n",
            "VLM Answer: Yes\n",
            "Image: synpic25821.jpg\n",
            "Question: Is there a rib fracture?\n",
            "Medical Report as reference: the heart is normal in size. the mediastinum is unremarkable. there is no pleural effusion or pneumothorax. there is mild degenerative changes of the spine.\n",
            "GT Answer: No\n",
            "VLM Answer: No\n",
            "Image: synpic25821.jpg\n",
            "Question: Is there evidence of any fractures of the ribs?\n",
            "Medical Report as reference: the heart is normal in size. the mediastinum is unremarkable. there is no pleural effusion or pneumothorax. there is mild degenerative changes of the spine.\n",
            "GT Answer: No\n",
            "VLM Answer: No\n",
            "Image: synpic25821.jpg\n",
            "Question: Is there any intraparenchymal abnormalities in the lung fields?\n",
            "Medical Report as reference: the heart is normal in size. the mediastinum is unremarkable. there is no pleural effusion or pneumothorax. there is mild degenerative changes of the spine.\n",
            "GT Answer: No\n",
            "VLM Answer: No\n",
            "Image: synpic25821.jpg\n",
            "Question: Is there evidence of any abnormalities of the lung parenchyma?\n",
            "Medical Report as reference: the heart is normal in size. the mediastinum is unremarkable. there is no pleural effusion or pneumothorax. there is mild degenerative changes of the spine.\n",
            "GT Answer: No\n",
            "VLM Answer: No\n",
            "Image: synpic40272.jpg\n",
            "Question: was the patient positioned appropriately \twithout tilting?\n",
            "Medical Report as reference: the heart size and pulmonary vascularity appear within normal limits. the lungs are free of focal airspace disease. no pleural effusion or pneumothorax is seen. degenerative changes are present in the spine.\n",
            "GT Answer: yes\n",
            "VLM Answer: Yes\n",
            "Image: synpic21776.jpg\n",
            "Question: was this taken with good x ray penetration\n",
            "Medical Report as reference: the lungs are clear. there is no pleural effusion or pneumothorax. the heart and mediastinum are normal. the skeletal structures are normal. the skeletal structures and soft tissues are normal.\n",
            "GT Answer: yes\n",
            "VLM Answer: Yes\n",
            "Image: synpic25821.jpg\n",
            "Question: Are there >8 ribs shown in this image?\n",
            "Medical Report as reference: the heart is normal in size. the mediastinum is unremarkable. there is no pleural effusion or pneumothorax. there is mild degenerative changes of the spine.\n",
            "GT Answer: Yes\n",
            "VLM Answer: No\n",
            "Image: synpic25821.jpg\n",
            "Question: Are there at least 8 ribs visible for good inspiratory effort?\n",
            "Medical Report as reference: the heart is normal in size. the mediastinum is unremarkable. there is no pleural effusion or pneumothorax. there is mild degenerative changes of the spine.\n",
            "GT Answer: Yes\n",
            "VLM Answer: Yes\n",
            "Image: synpic21776.jpg\n",
            "Question: was this taken in PA position?\n",
            "Medical Report as reference: the lungs are clear. there is no pleural effusion or pneumothorax. the heart and mediastinum are normal. the skeletal structures are normal. the skeletal structures and soft tissues are normal.\n",
            "GT Answer: yes\n",
            "VLM Answer: Yes\n",
            "Image: synpic42245.jpg\n",
            "Question: Are the hilar soft tissue densities symmetric?\n",
            "Medical Report as reference: the heart is normal in size. the mediastinum is unremarkable. the lungs are clear. there is no pleural effusion or pneumothorax. the xxxx are intact.\n",
            "GT Answer: no\n",
            "VLM Answer: Yes\n",
            "Image: synpic42245.jpg\n",
            "Question: Are the soft tissue densities in the left hilum equivalent in size to the soft tissue densities in the right hilum?\n",
            "Medical Report as reference: the heart is normal in size. the mediastinum is unremarkable. the lungs are clear. there is no pleural effusion or pneumothorax. the xxxx are intact.\n",
            "GT Answer: no\n",
            "VLM Answer: Yes\n",
            "Image: synpic16174.jpg\n",
            "Question: Is the descending aortic silhouette of normal contour?\n",
            "Medical Report as reference: the lungs are clear. there is no pleural effusion or pneumothorax. the heart and mediastinal contours are within normal limits. there is no focal air space opacity to suggest a pneumonia.\n",
            "GT Answer: Yes\n",
            "VLM Answer: Yes\n",
            "Image: synpic16174.jpg\n",
            "Question: Is the descending aortic silhouette of normal contour and size?\n",
            "Medical Report as reference: the lungs are clear. there is no pleural effusion or pneumothorax. the heart and mediastinal contours are within normal limits. there is no focal air space opacity to suggest a pneumonia.\n",
            "GT Answer: Yes\n",
            "VLM Answer: Yes\n",
            "Image: synpic16174.jpg\n",
            "Question: Is there tortuosity of the descending aorta?\n",
            "Medical Report as reference: the lungs are clear. there is no pleural effusion or pneumothorax. the heart and mediastinal contours are within normal limits. there is no focal air space opacity to suggest a pneumonia.\n",
            "GT Answer: Yes\n",
            "VLM Answer: Yes\n",
            "Image: synpic16174.jpg\n",
            "Question: Is the descending aortic silhouette of normal size?\n",
            "Medical Report as reference: the lungs are clear. there is no pleural effusion or pneumothorax. the heart and mediastinal contours are within normal limits. there is no focal air space opacity to suggest a pneumonia.\n",
            "GT Answer: Yes\n",
            "VLM Answer: Yes\n",
            "Image: synpic16174.jpg\n",
            "Question: Is the descending aortic silhouette of normal size?\n",
            "Medical Report as reference: the lungs are clear. there is no pleural effusion or pneumothorax. the heart and mediastinal contours are within normal limits. there is no focal air space opacity to suggest a pneumonia.\n",
            "GT Answer: Yes\n",
            "VLM Answer: Yes\n",
            "Image: synpic40272.jpg\n",
            "Question: was this chest x ray taken in PA format?\n",
            "Medical Report as reference: the heart size and pulmonary vascularity appear within normal limits. the lungs are free of focal airspace disease. no pleural effusion or pneumothorax is seen. degenerative changes are present in the spine.\n",
            "GT Answer: yes\n",
            "VLM Answer: No\n",
            "Image: synpic21776.jpg\n",
            "Question: Are lung opacities noted?\n",
            "Medical Report as reference: the lungs are clear. there is no pleural effusion or pneumothorax. the heart and mediastinum are normal. the skeletal structures are normal. the skeletal structures and soft tissues are normal.\n",
            "GT Answer: No\n",
            "VLM Answer: Yes\n",
            "Image: synpic21776.jpg\n",
            "Question: is there evidence of intraparenchymal lung nodules?\n",
            "Medical Report as reference: the lungs are clear. there is no pleural effusion or pneumothorax. the heart and mediastinum are normal. the skeletal structures are normal. the skeletal structures and soft tissues are normal.\n",
            "GT Answer: No\n",
            "VLM Answer: Yes\n",
            "Image: synpic16174.jpg\n",
            "Question: Is the cardiac silhouette less than half the diameter of the diaphragm?\n",
            "Medical Report as reference: the lungs are clear. there is no pleural effusion or pneumothorax. the heart and mediastinal contours are within normal limits. there is no focal air space opacity to suggest a pneumonia.\n",
            "GT Answer: Yes\n",
            "VLM Answer: Yes\n",
            "Image: synpic16174.jpg\n",
            "Question: Is the cardiac silhouette within normal size limits?\n",
            "Medical Report as reference: the lungs are clear. there is no pleural effusion or pneumothorax. the heart and mediastinal contours are within normal limits. there is no focal air space opacity to suggest a pneumonia.\n",
            "GT Answer: Yes\n",
            "VLM Answer: Yes\n",
            "Image: synpic52767.jpg\n",
            "Question: Is there evidence of a right apical pneumothorax on this chest x-ray?\n",
            "Medical Report as reference: the lungs are clear. there is no pleural effusion or pneumothorax. the heart and mediastinum are normal. the skeletal structures are normal. the skeletal structures and soft tissues are normal.\n",
            "GT Answer: Yes\n",
            "VLM Answer: No\n",
            "Image: synpic52767.jpg\n",
            "Question: Is a pneumothorax present near the right lung field?\n",
            "Medical Report as reference: the lungs are clear. there is no pleural effusion or pneumothorax. the heart and mediastinum are normal. the skeletal structures are normal. the skeletal structures and soft tissues are normal.\n",
            "GT Answer: Yes\n",
            "VLM Answer: Yes\n",
            "Image: synpic21776.jpg\n",
            "Question: Is there narrowing of the cardiac contour?\n",
            "Medical Report as reference: the lungs are clear. there is no pleural effusion or pneumothorax. the heart and mediastinum are normal. the skeletal structures are normal. the skeletal structures and soft tissues are normal.\n",
            "GT Answer: Yes\n",
            "VLM Answer: Yes\n",
            "Image: synpic21776.jpg\n",
            "Question: is the cardiac silhouette small/stretched\n",
            "Medical Report as reference: the lungs are clear. there is no pleural effusion or pneumothorax. the heart and mediastinum are normal. the skeletal structures are normal. the skeletal structures and soft tissues are normal.\n",
            "GT Answer: Yes\n",
            "VLM Answer: Yes\n",
            "Image: synpic42245.jpg\n",
            "Question: Are there any fractures in any of the ribs?\n",
            "Medical Report as reference: the heart is normal in size. the mediastinum is unremarkable. the lungs are clear. there is no pleural effusion or pneumothorax. the xxxx are intact.\n",
            "GT Answer: No\n",
            "VLM Answer: No\n",
            "Image: synpic42245.jpg\n",
            "Question: Are any of the patient's ribs fractured?\n",
            "Medical Report as reference: the heart is normal in size. the mediastinum is unremarkable. the lungs are clear. there is no pleural effusion or pneumothorax. the xxxx are intact.\n",
            "GT Answer: No\n",
            "VLM Answer: No\n",
            "Image: synpic40272.jpg\n",
            "Question: is there evidence of pulmonary edema?\n",
            "Medical Report as reference: the heart size and pulmonary vascularity appear within normal limits. the lungs are free of focal airspace disease. no pleural effusion or pneumothorax is seen. degenerative changes are present in the spine.\n",
            "GT Answer: no\n",
            "VLM Answer: No\n",
            "Image: synpic40272.jpg\n",
            "Question: Is there enlargement of the pulmonary vasculature?\n",
            "Medical Report as reference: the heart size and pulmonary vascularity appear within normal limits. the lungs are free of focal airspace disease. no pleural effusion or pneumothorax is seen. degenerative changes are present in the spine.\n",
            "GT Answer: no\n",
            "VLM Answer: No\n",
            "Image: synpic52767.jpg\n",
            "Question: Is the cardiac contour normal?\n",
            "Medical Report as reference: the lungs are clear. there is no pleural effusion or pneumothorax. the heart and mediastinum are normal. the skeletal structures are normal. the skeletal structures and soft tissues are normal.\n",
            "GT Answer: Yes\n",
            "VLM Answer: Yes\n",
            "Image: synpic52767.jpg\n",
            "Question: Is the cardiac silhouette less than half the lateral diameter of the chest wall?\n",
            "Medical Report as reference: the lungs are clear. there is no pleural effusion or pneumothorax. the heart and mediastinum are normal. the skeletal structures are normal. the skeletal structures and soft tissues are normal.\n",
            "GT Answer: Yes\n",
            "VLM Answer: Yes\n",
            "Image: synpic40272.jpg\n",
            "Question: is it difficult to delineate the left costophrenic angle?\n",
            "Medical Report as reference: the heart size and pulmonary vascularity appear within normal limits. the lungs are free of focal airspace disease. no pleural effusion or pneumothorax is seen. degenerative changes are present in the spine.\n",
            "GT Answer: yes\n",
            "VLM Answer: No\n",
            "Image: synpic40272.jpg\n",
            "Question: Is there blunting of the left costophrenic angle?\n",
            "Medical Report as reference: the heart size and pulmonary vascularity appear within normal limits. the lungs are free of focal airspace disease. no pleural effusion or pneumothorax is seen. degenerative changes are present in the spine.\n",
            "GT Answer: yes\n",
            "VLM Answer: No\n",
            "Image: synpic33422.jpg\n",
            "Question: Is there a left apical pneumothorax?\n",
            "Medical Report as reference: the heart is normal in size. the mediastinum is unremarkable. the lungs are clear. there is no pleural effusion or pneumothorax. the skeletal structures are normal.\n",
            "GT Answer: Yes\n",
            "VLM Answer: No\n",
            "Image: synpic33422.jpg\n",
            "Question: Is the outline of visceral pleura visible in the upper left lung field?\n",
            "Medical Report as reference: the heart is normal in size. the mediastinum is unremarkable. the lungs are clear. there is no pleural effusion or pneumothorax. the skeletal structures are normal.\n",
            "GT Answer: Yes\n",
            "VLM Answer: Yes\n",
            "Image: synpic33422.jpg\n",
            "Question: Has the midline of the mediastinum shifted?\n",
            "Medical Report as reference: the heart is normal in size. the mediastinum is unremarkable. the lungs are clear. there is no pleural effusion or pneumothorax. the skeletal structures are normal.\n",
            "GT Answer: No\n",
            "VLM Answer: No\n",
            "Image: synpic33422.jpg\n",
            "Question: Is there a mediastinal shift?\n",
            "Medical Report as reference: the heart is normal in size. the mediastinum is unremarkable. the lungs are clear. there is no pleural effusion or pneumothorax. the skeletal structures are normal.\n",
            "GT Answer: No\n",
            "VLM Answer: Yes\n",
            "Image: synpic40272.jpg\n",
            "Question: Is the left lung field more radioopaque than the right side?\n",
            "Medical Report as reference: the heart size and pulmonary vascularity appear within normal limits. the lungs are free of focal airspace disease. no pleural effusion or pneumothorax is seen. degenerative changes are present in the spine.\n",
            "GT Answer: yes\n",
            "VLM Answer: Yes\n",
            "Image: synpic40272.jpg\n",
            "Question: Is the left lung field more white?\n",
            "Medical Report as reference: the heart size and pulmonary vascularity appear within normal limits. the lungs are free of focal airspace disease. no pleural effusion or pneumothorax is seen. degenerative changes are present in the spine.\n",
            "GT Answer: yes\n",
            "VLM Answer: Yes\n",
            "Image: synpic42245.jpg\n",
            "Question: Are the costophrenic angles sharp?\n",
            "Medical Report as reference: the heart is normal in size. the mediastinum is unremarkable. the lungs are clear. there is no pleural effusion or pneumothorax. the xxxx are intact.\n",
            "GT Answer: yes\n",
            "VLM Answer: Yes\n",
            "Image: synpic42245.jpg\n",
            "Question: Is there no evidence of blunting of the costophrenic angles?\n",
            "Medical Report as reference: the heart is normal in size. the mediastinum is unremarkable. the lungs are clear. there is no pleural effusion or pneumothorax. the xxxx are intact.\n",
            "GT Answer: yes\n",
            "VLM Answer: Yes\n",
            "Image: synpic21776.jpg\n",
            "Question: is the lung parenchyma well visualized?\n",
            "Medical Report as reference: the lungs are clear. there is no pleural effusion or pneumothorax. the heart and mediastinum are normal. the skeletal structures are normal. the skeletal structures and soft tissues are normal.\n",
            "GT Answer: yes\n",
            "VLM Answer: Yes\n",
            "Image: synpic40272.jpg\n",
            "Question: are the heart and lungs displayed well in this film\n",
            "Medical Report as reference: the heart size and pulmonary vascularity appear within normal limits. the lungs are free of focal airspace disease. no pleural effusion or pneumothorax is seen. degenerative changes are present in the spine.\n",
            "GT Answer: yes\n",
            "VLM Answer: No\n",
            "Image: synpic18319.jpg\n",
            "Question: Describe the lung abnormalities?\n",
            "Medical Report as reference: the heart is normal in size. the mediastinum is unremarkable. the lungs are clear. there is no pleural effusion or pneumothorax. the xxxx are intact.\n",
            "GT Answer: Pulmonary nodules\n",
            "VLM Answer: The lungs appear to be clear and without any abnormalities. The heart is normal in size, and the mediastinum is not visibly affected. There are no signs of pleural effusion or pneumothorax, and the x-ray shows the lungs intact.\n",
            "Image: synpic18319.jpg\n",
            "Question: What abnormalities are seen within the lungs?\n",
            "Medical Report as reference: the heart is normal in size. the mediastinum is unremarkable. the lungs are clear. there is no pleural effusion or pneumothorax. the xxxx are intact.\n",
            "GT Answer: Pulmonary nodules\n",
            "VLM Answer: The lungs appear to be clear and without any abnormalities. There is no pleural effusion or pneumothorax, and the xxxx (the chest cavity) are intact. The heart is normal in size, and the mediastinum is unremarkable. The xxxx are also intact.\n",
            "Image: synpic32933.jpg\n",
            "Question: What is under the right hemidiaphragm?\n",
            "Medical Report as reference: the heart is normal in size. the mediastinum is unremarkable. the lungs are clear. there is no pleural effusion or pneumothorax. the xxxx are intact.\n",
            "GT Answer: Free air\n",
            "VLM Answer: The xxxx are intact.\n",
            "Image: synpic32933.jpg\n",
            "Question: What is the abnormality by the right hemidiaphragm?\n",
            "Medical Report as reference: the heart is normal in size. the mediastinum is unremarkable. the lungs are clear. there is no pleural effusion or pneumothorax. the xxxx are intact.\n",
            "GT Answer: Free air\n",
            "VLM Answer: The abnormality by the right hemidiaphragm is a small, irregularly shaped object.\n",
            "Image: synpic31400.jpg\n",
            "Question: Is this in the posterior anterior plane?\n",
            "Medical Report as reference: the heart is normal in size. the mediastinum is unremarkable. the lungs are clear. there is no pleural effusion or pneumothorax. the xxxx are intact.\n",
            "GT Answer: yes\n",
            "VLM Answer: Yes\n",
            "Image: synpic31400.jpg\n",
            "Question: Any abnormal findings in the lower lung fields?\n",
            "Medical Report as reference: the heart is normal in size. the mediastinum is unremarkable. the lungs are clear. there is no pleural effusion or pneumothorax. the xxxx are intact.\n",
            "GT Answer: no\n",
            "VLM Answer: No\n",
            "Image: synpic31400.jpg\n",
            "Question: Are the lower lung fields normal?\n",
            "Medical Report as reference: the heart is normal in size. the mediastinum is unremarkable. the lungs are clear. there is no pleural effusion or pneumothorax. the xxxx are intact.\n",
            "GT Answer: yes\n",
            "VLM Answer: Yes\n",
            "Image: synpic32933.jpg\n",
            "Question: Is the left hemidiaphragm normal?\n",
            "Medical Report as reference: the heart is normal in size. the mediastinum is unremarkable. the lungs are clear. there is no pleural effusion or pneumothorax. the xxxx are intact.\n",
            "GT Answer: Yes\n",
            "VLM Answer: Yes\n",
            "Image: synpic32933.jpg\n",
            "Question: Is the left hemidiaphragm normal?\n",
            "Medical Report as reference: the heart is normal in size. the mediastinum is unremarkable. the lungs are clear. there is no pleural effusion or pneumothorax. the xxxx are intact.\n",
            "GT Answer: Yes\n",
            "VLM Answer: Yes\n",
            "Image: synpic49914.jpg\n",
            "Question: Is this a chest x-ray?\n",
            "Medical Report as reference: the heart is normal in size. the mediastinum is unremarkable. there is no pleural effusion or pneumothorax. there is mild degenerative changes of the spine.\n",
            "GT Answer: yes\n",
            "VLM Answer: Yes\n",
            "Image: synpic18461.jpg\n",
            "Question: What kind of image is this?\n",
            "Medical Report as reference: the heart size and pulmonary vascularity appear within normal limits. the lungs are free of focal airspace disease. no pleural effusion or pneumothorax is seen. degenerative changes are present in the spine.\n",
            "GT Answer: Chest x-ray\n",
            "VLM Answer: Radiographic\n",
            "Image: synpic31400.jpg\n",
            "Question: where is the cavitary lesion?\n",
            "Medical Report as reference: the heart is normal in size. the mediastinum is unremarkable. the lungs are clear. there is no pleural effusion or pneumothorax. the xxxx are intact.\n",
            "GT Answer: Right upper lobe\n",
            "VLM Answer: The medical report states that the heart is normal in size, the mediastinum is unremarkable, the lungs are clear, there is no pleural effusion or pneumothorax, and the xxxx are intact.\n",
            "Image: synpic31400.jpg\n",
            "Question: where is the abnormality?\n",
            "Medical Report as reference: the heart is normal in size. the mediastinum is unremarkable. the lungs are clear. there is no pleural effusion or pneumothorax. the xxxx are intact.\n",
            "GT Answer: Right upper lobe\n",
            "VLM Answer: The abnormality is a tumor in the lung.\n",
            "Image: synpic18461.jpg\n",
            "Question: What organ is primarily evaluated in this image?\n",
            "Medical Report as reference: the heart size and pulmonary vascularity appear within normal limits. the lungs are free of focal airspace disease. no pleural effusion or pneumothorax is seen. degenerative changes are present in the spine.\n",
            "GT Answer: Lungs\n",
            "VLM Answer: The primary organ evaluated in this image is the heart.\n",
            "Image: synpic18461.jpg\n",
            "Question: Is this a lateral film?\n",
            "Medical Report as reference: the heart size and pulmonary vascularity appear within normal limits. the lungs are free of focal airspace disease. no pleural effusion or pneumothorax is seen. degenerative changes are present in the spine.\n",
            "GT Answer: no\n",
            "VLM Answer: No\n",
            "Image: synpic31400.jpg\n",
            "Question: Which organ system is imaged?\n",
            "Medical Report as reference: the heart is normal in size. the mediastinum is unremarkable. the lungs are clear. there is no pleural effusion or pneumothorax. the xxxx are intact.\n",
            "GT Answer: Chest\n",
            "VLM Answer: Respiratory\n",
            "Image: synpic49914.jpg\n",
            "Question: Is this a study of the chest?\n",
            "Medical Report as reference: the heart is normal in size. the mediastinum is unremarkable. there is no pleural effusion or pneumothorax. there is mild degenerative changes of the spine.\n",
            "GT Answer: yes\n",
            "VLM Answer: No\n",
            "Image: synpic49914.jpg\n",
            "Question: Which plane is this image taken?\n",
            "Medical Report as reference: the heart is normal in size. the mediastinum is unremarkable. there is no pleural effusion or pneumothorax. there is mild degenerative changes of the spine.\n",
            "GT Answer: PA\n",
            "VLM Answer: X-ray\n",
            "Image: synpic21044.jpg\n",
            "Question: What is abnormal about the hila?\n",
            "Medical Report as reference: heart size within normal limits stable mediastinal and hilar contours. no focal alveolar consolidation no definite pleural effusion seen. no typical findings of pulmonary edema. no pneumothorax.\n",
            "GT Answer: Enlarged\n",
            "VLM Answer: No\n",
            "Image: synpic21044.jpg\n",
            "Question: Is the hila normal or enlarged?\n",
            "Medical Report as reference: heart size within normal limits stable mediastinal and hilar contours. no focal alveolar consolidation no definite pleural effusion seen. no typical findings of pulmonary edema. no pneumothorax.\n",
            "GT Answer: Enlarged\n",
            "VLM Answer: Normal\n",
            "Image: synpic49914.jpg\n",
            "Question: What is happening in the right lung?\n",
            "Medical Report as reference: the heart is normal in size. the mediastinum is unremarkable. there is no pleural effusion or pneumothorax. there is mild degenerative changes of the spine.\n",
            "GT Answer: Volume loss\n",
            "VLM Answer: The image shows an X-ray of a person's chest, and it appears to be a medical report. The right lung shows no signs of inflammation, abnormal growths, or other issues. The heart appears to be normal in size, and the mediastinum is not visibly affected. There is no evidence of a pleural effusion or a pneumothorax. Additionally, the spine shows mild degenerative changes, but these are not significant enough to cause any discomfort or complications.\n",
            "Image: synpic49914.jpg\n",
            "Question: What is finding in the right lung?\n",
            "Medical Report as reference: the heart is normal in size. the mediastinum is unremarkable. there is no pleural effusion or pneumothorax. there is mild degenerative changes of the spine.\n",
            "GT Answer: Volume loss\n",
            "VLM Answer: There is no evidence of a tumor or abnormal growth in the right lung. The medical report indicates that the heart is normal in size, the mediastinum is unremarkable, there is no pleural effusion or pneumothorax, and the spine shows mild degenerative changes.\n",
            "Image: synpic18461.jpg\n",
            "Question: Are the lungs normal?\n",
            "Medical Report as reference: the heart size and pulmonary vascularity appear within normal limits. the lungs are free of focal airspace disease. no pleural effusion or pneumothorax is seen. degenerative changes are present in the spine.\n",
            "GT Answer: No\n",
            "VLM Answer: No\n",
            "Image: synpic18461.jpg\n",
            "Question: Is the chest x-ray normal?\n",
            "Medical Report as reference: the heart size and pulmonary vascularity appear within normal limits. the lungs are free of focal airspace disease. no pleural effusion or pneumothorax is seen. degenerative changes are present in the spine.\n",
            "GT Answer: No\n",
            "VLM Answer: Yes\n",
            "Image: synpic31400.jpg\n",
            "Question: What abnormalities are in the lung apices?\n",
            "Medical Report as reference: the heart is normal in size. the mediastinum is unremarkable. the lungs are clear. there is no pleural effusion or pneumothorax. the xxxx are intact.\n",
            "GT Answer: Nodular opacities\n",
            "VLM Answer: No abnormalities\n",
            "Image: synpic31400.jpg\n",
            "Question: What is seen in the lung apices?\n",
            "Medical Report as reference: the heart is normal in size. the mediastinum is unremarkable. the lungs are clear. there is no pleural effusion or pneumothorax. the xxxx are intact.\n",
            "GT Answer: Nodular opacities\n",
            "VLM Answer: There is no pleural effusion or pneumothorax, and the lungs appear to be clear. The heart is normal in size, and the mediastinum is unremarkable. The xxxx are intact.\n",
            "Image: synpic18319.jpg\n",
            "Question: What can cause asymmetrical breasts?\n",
            "Medical Report as reference: the heart is normal in size. the mediastinum is unremarkable. the lungs are clear. there is no pleural effusion or pneumothorax. the xxxx are intact.\n",
            "GT Answer: Prior surgery\n",
            "VLM Answer: asymmetrical breasts can be caused by various factors such as genetic conditions, hormonal imbalances, or medical conditions affecting the breast tissue. In this case, the medical report indicates that the heart is normal in size, the lungs are clear, and there are no signs of pleural effusion or pneumothorax. This suggests that the asymmetrical breasts could be due to genetic factors, hormonal imbalances, or other medical conditions affecting the breast tissue. It is important to consult a medical professional for a proper diagnosis and treatment plan.\n",
            "Image: synpic18319.jpg\n",
            "Question: Why are the breasts asymmetrical?\n",
            "Medical Report as reference: the heart is normal in size. the mediastinum is unremarkable. the lungs are clear. there is no pleural effusion or pneumothorax. the xxxx are intact.\n",
            "GT Answer: Prior surgery\n",
            "VLM Answer: The asymmetrical breasts are likely due to genetic factors or a medical condition called asymmetrical breasts. It is important to note that the medical report states that the heart is normal in size, the lungs are clear, and there is no pleural effusion or pneumothorax. This information suggests that the asymmetrical breasts are not a cause for concern and may be a result of genetic factors or a medical condition that affects the development of breasts.\n",
            "Image: synpic49914.jpg\n",
            "Question: Are the lungs normal?\n",
            "Medical Report as reference: the heart is normal in size. the mediastinum is unremarkable. there is no pleural effusion or pneumothorax. there is mild degenerative changes of the spine.\n",
            "GT Answer: No\n",
            "VLM Answer: No\n",
            "Image: synpic49914.jpg\n",
            "Question: Is the image study normal?\n",
            "Medical Report as reference: the heart is normal in size. the mediastinum is unremarkable. there is no pleural effusion or pneumothorax. there is mild degenerative changes of the spine.\n",
            "GT Answer: No\n",
            "VLM Answer: Yes\n",
            "Image: synpic21044.jpg\n",
            "Question: How would you describe the aortopulmonary window?\n",
            "Medical Report as reference: heart size within normal limits stable mediastinal and hilar contours. no focal alveolar consolidation no definite pleural effusion seen. no typical findings of pulmonary edema. no pneumothorax.\n",
            "GT Answer: middle mogul\n",
            "VLM Answer: Normal\n",
            "Image: synpic21044.jpg\n",
            "Question: What characteristic finding do you see in the aortopulmonary window?\n",
            "Medical Report as reference: heart size within normal limits stable mediastinal and hilar contours. no focal alveolar consolidation no definite pleural effusion seen. no typical findings of pulmonary edema. no pneumothorax.\n",
            "GT Answer: middle mogul\n",
            "VLM Answer: No\n",
            "Image: synpic21044.jpg\n",
            "Question: Which sign do you see in the aortopulmonary window in this image?\n",
            "Medical Report as reference: heart size within normal limits stable mediastinal and hilar contours. no focal alveolar consolidation no definite pleural effusion seen. no typical findings of pulmonary edema. no pneumothorax.\n",
            "GT Answer: middle mogul\n",
            "VLM Answer: No\n",
            "Image: synpic49914.jpg\n",
            "Question: Where is the diffuse pleural thickening?\n",
            "Medical Report as reference: the heart is normal in size. the mediastinum is unremarkable. there is no pleural effusion or pneumothorax. there is mild degenerative changes of the spine.\n",
            "GT Answer: Right lung\n",
            "VLM Answer: chest radiograph\n",
            "Image: synpic49914.jpg\n",
            "Question: Which lung is abnormal?\n",
            "Medical Report as reference: the heart is normal in size. the mediastinum is unremarkable. there is no pleural effusion or pneumothorax. there is mild degenerative changes of the spine.\n",
            "GT Answer: Right lung\n",
            "VLM Answer: Right\n",
            "Image: synpic32933.jpg\n",
            "Question: Is this a normal x ray?\n",
            "Medical Report as reference: the heart is normal in size. the mediastinum is unremarkable. the lungs are clear. there is no pleural effusion or pneumothorax. the xxxx are intact.\n",
            "GT Answer: No\n",
            "VLM Answer: Yes\n",
            "Image: synpic32933.jpg\n",
            "Question: Is the right hemidiaphragm normal?\n",
            "Medical Report as reference: the heart is normal in size. the mediastinum is unremarkable. the lungs are clear. there is no pleural effusion or pneumothorax. the xxxx are intact.\n",
            "GT Answer: No\n",
            "VLM Answer: Yes\n",
            "Image: synpic18319.jpg\n",
            "Question: Where is the catheter tip located?\n",
            "Medical Report as reference: the heart is normal in size. the mediastinum is unremarkable. the lungs are clear. there is no pleural effusion or pneumothorax. the xxxx are intact.\n",
            "GT Answer: Right superior cavoatrial junction\n",
            "VLM Answer: The catheter tip is located in the heart.\n",
            "Image: synpic18319.jpg\n",
            "Question: Where does the catheter tip extend into?\n",
            "Medical Report as reference: the heart is normal in size. the mediastinum is unremarkable. the lungs are clear. there is no pleural effusion or pneumothorax. the xxxx are intact.\n",
            "GT Answer: Right superior cavoatrial junction\n",
            "VLM Answer: The catheter tip extends into the heart.\n",
            "Image: synpic31400.jpg\n",
            "Question: What kind of image is this?\n",
            "Medical Report as reference: the heart is normal in size. the mediastinum is unremarkable. the lungs are clear. there is no pleural effusion or pneumothorax. the xxxx are intact.\n",
            "GT Answer: x-ray\n",
            "VLM Answer: Radiographic\n",
            "Image: synpic21044.jpg\n",
            "Question: Is the heart abnormal?\n",
            "Medical Report as reference: heart size within normal limits stable mediastinal and hilar contours. no focal alveolar consolidation no definite pleural effusion seen. no typical findings of pulmonary edema. no pneumothorax.\n",
            "GT Answer: Yes\n",
            "VLM Answer: No\n",
            "Image: synpic21044.jpg\n",
            "Question: Does the heart appear enlarged?\n",
            "Medical Report as reference: heart size within normal limits stable mediastinal and hilar contours. no focal alveolar consolidation no definite pleural effusion seen. no typical findings of pulmonary edema. no pneumothorax.\n",
            "GT Answer: Yes\n",
            "VLM Answer: No\n",
            "Image: synpic24390.jpg\n",
            "Question: How was this x-ray taken?\n",
            "Medical Report as reference: the lungs are clear. there is no pleural effusion or pneumothorax. the heart and mediastinum are normal. the skeletal structures are normal. the skeletal structures and soft tissues are normal.\n",
            "GT Answer: PA\n",
            "VLM Answer: The x-ray was taken using a standard radiographic technique, which typically involves exposing the body to a controlled amount of radiation to create an image of the internal structures. In this case, the radiologist was able to capture a clear image of the lungs, heart, and other structures without any visible abnormalities or issues.\n",
            "Image: synpic23803.jpg\n",
            "Question: Which ribs are located near the abnormality seen in this image?\n",
            "Medical Report as reference: the lungs are clear. there is no pleural effusion or pneumothorax. the heart and mediastinum are normal. the skeletal structures are normal. there is mild degenerative changes of the spine.\n",
            "GT Answer: 4th and 5th\n",
            "VLM Answer: Ribs near the abnormality\n",
            "Image: synpic23803.jpg\n",
            "Question: What level is the abnormality located at?\n",
            "Medical Report as reference: the lungs are clear. there is no pleural effusion or pneumothorax. the heart and mediastinum are normal. the skeletal structures are normal. there is mild degenerative changes of the spine.\n",
            "GT Answer: T5\n",
            "VLM Answer: Normal\n",
            "Image: synpic39532.jpg\n",
            "Question: Are lung markings present in the entire thoracic cavity?\n",
            "Medical Report as reference: the lungs are clear. there is no pleural effusion or pneumothorax. the heart and mediastinum are normal. the skeletal structures are normal. degenerative changes of the spine.\n",
            "GT Answer: Yes\n",
            "VLM Answer: No\n",
            "Image: synpic39532.jpg\n",
            "Question: Is there a pneumothorax present?\n",
            "Medical Report as reference: the lungs are clear. there is no pleural effusion or pneumothorax. the heart and mediastinum are normal. the skeletal structures are normal. degenerative changes of the spine.\n",
            "GT Answer: No\n",
            "VLM Answer: No\n",
            "Image: synpic17664.jpg\n",
            "Question: Do the lung markings extend to the periphery?\n",
            "Medical Report as reference: the lungs are clear. there is no pleural effusion or pneumothorax. the heart and mediastinum are normal. the skeletal structures are normal. degenerative changes of the spine.\n",
            "GT Answer: Yes\n",
            "VLM Answer: No\n",
            "Image: synpic17664.jpg\n",
            "Question: Is a pneumothorax present in this image?\n",
            "Medical Report as reference: the lungs are clear. there is no pleural effusion or pneumothorax. the heart and mediastinum are normal. the skeletal structures are normal. degenerative changes of the spine.\n",
            "GT Answer: No\n",
            "VLM Answer: No\n",
            "Image: synpic47783.jpg\n",
            "Question: Does the width of the heart exceed more than half of the thorax?\n",
            "Medical Report as reference: the lungs are clear. there is no pleural effusion or pneumothorax. the heart and mediastinum are normal. the skeletal structures are normal. there is mild degenerative changes of the spine.\n",
            "GT Answer: No\n",
            "VLM Answer: No\n",
            "Image: synpic47783.jpg\n",
            "Question: How wide is the cardiac shadow?\n",
            "Medical Report as reference: the lungs are clear. there is no pleural effusion or pneumothorax. the heart and mediastinum are normal. the skeletal structures are normal. there is mild degenerative changes of the spine.\n",
            "GT Answer: Less than half the thorax\n",
            "VLM Answer: No\n",
            "Image: synpic31955.jpg\n",
            "Question: Is the diaphragm obscured?\n",
            "Medical Report as reference: the heart size and pulmonary vascularity appear within normal limits. the lungs are free of focal airspace disease. no pleural effusion or pneumothorax is seen. degenerative changes are present in the spine.\n",
            "GT Answer: No\n",
            "VLM Answer: No\n",
            "Image: synpic31955.jpg\n",
            "Question: Is the diaphragm clearly visualized on both sides?\n",
            "Medical Report as reference: the heart size and pulmonary vascularity appear within normal limits. the lungs are free of focal airspace disease. no pleural effusion or pneumothorax is seen. degenerative changes are present in the spine.\n",
            "GT Answer: Yes\n",
            "VLM Answer: No\n",
            "Image: synpic45557.jpg\n",
            "Question: Are nodular calcifications present in the lungs?\n",
            "Medical Report as reference: heart size within normal limits stable mediastinal and hilar contours. no focal alveolar consolidation no definite pleural effusion seen. no typical findings of pulmonary edema. no typical findings of pulmonary edema.\n",
            "GT Answer: No\n",
            "VLM Answer: No\n",
            "Image: synpic45557.jpg\n",
            "Question: What lesions are present in the lungs?\n",
            "Medical Report as reference: heart size within normal limits stable mediastinal and hilar contours. no focal alveolar consolidation no definite pleural effusion seen. no typical findings of pulmonary edema. no typical findings of pulmonary edema.\n",
            "GT Answer: None\n",
            "VLM Answer: No\n",
            "Image: synpic34449.jpg\n",
            "Question: Are the calcifications superior or inferior to the diaphragm?\n",
            "Medical Report as reference: heart size within normal limits stable mediastinal and hilar contours. no focal alveolar consolidation no definite pleural effusion seen. no typical findings of pulmonary edema. no pneumothorax.\n",
            "GT Answer: Superior\n",
            "VLM Answer: Superior\n",
            "Image: synpic34449.jpg\n",
            "Question: Where in the image are the calcifications located?\n",
            "Medical Report as reference: heart size within normal limits stable mediastinal and hilar contours. no focal alveolar consolidation no definite pleural effusion seen. no typical findings of pulmonary edema. no pneumothorax.\n",
            "GT Answer: High on the image\n",
            "VLM Answer: Left\n",
            "Image: synpic31962.jpg\n",
            "Question: Where is the aortic arch?\n",
            "Medical Report as reference: the heart is normal in size. the mediastinum is unremarkable. the lungs are clear. there is no pleural effusion or pneumothorax. the xxxx are intact.\n",
            "GT Answer: Right side\n",
            "VLM Answer: chest\n",
            "Image: synpic31962.jpg\n",
            "Question: Which side of the image is the aortic arch visualized?\n",
            "Medical Report as reference: the heart is normal in size. the mediastinum is unremarkable. the lungs are clear. there is no pleural effusion or pneumothorax. the xxxx are intact.\n",
            "GT Answer: Right side\n",
            "VLM Answer: Left\n",
            "Image: synpic19477.jpg\n",
            "Question: Where is the lung lesion located?\n",
            "Medical Report as reference: the lungs are clear. there is no pleural effusion or pneumothorax. the heart and mediastinum are normal. the skeletal structures are normal. the skeletal structures and soft tissues are normal.\n",
            "GT Answer: Right lung\n",
            "VLM Answer: The lung lesion is located in the right upper quadrant of the chest.\n",
            "Image: synpic19477.jpg\n",
            "Question: Which lobe of the lung is the lesion located in?\n",
            "Medical Report as reference: the lungs are clear. there is no pleural effusion or pneumothorax. the heart and mediastinum are normal. the skeletal structures are normal. the skeletal structures and soft tissues are normal.\n",
            "GT Answer: Right upper lobe\n",
            "VLM Answer: Right\n",
            "Image: synpic45557.jpg\n",
            "Question: Do bones appear lighter on this image's modality?\n",
            "Medical Report as reference: heart size within normal limits stable mediastinal and hilar contours. no focal alveolar consolidation no definite pleural effusion seen. no typical findings of pulmonary edema. no typical findings of pulmonary edema.\n",
            "GT Answer: yes\n",
            "VLM Answer: No\n",
            "Image: synpic39532.jpg\n",
            "Question: How many lesions are present in the image?\n",
            "Medical Report as reference: the lungs are clear. there is no pleural effusion or pneumothorax. the heart and mediastinum are normal. the skeletal structures are normal. degenerative changes of the spine.\n",
            "GT Answer: One\n",
            "VLM Answer: 0\n",
            "Image: synpic39532.jpg\n",
            "Question: Is there more that one lesion present?\n",
            "Medical Report as reference: the lungs are clear. there is no pleural effusion or pneumothorax. the heart and mediastinum are normal. the skeletal structures are normal. degenerative changes of the spine.\n",
            "GT Answer: No\n",
            "VLM Answer: No\n",
            "Image: synpic34449.jpg\n",
            "Question: Which side is more clearly visualized?\n",
            "Medical Report as reference: heart size within normal limits stable mediastinal and hilar contours. no focal alveolar consolidation no definite pleural effusion seen. no typical findings of pulmonary edema. no pneumothorax.\n",
            "GT Answer: Left\n",
            "VLM Answer: Left\n",
            "Image: synpic34449.jpg\n",
            "Question: Which lung is clearer?\n",
            "Medical Report as reference: heart size within normal limits stable mediastinal and hilar contours. no focal alveolar consolidation no definite pleural effusion seen. no typical findings of pulmonary edema. no pneumothorax.\n",
            "GT Answer: Left\n",
            "VLM Answer: Left\n",
            "Image: synpic34449.jpg\n",
            "Question: What are the two major organs present in this image?\n",
            "Medical Report as reference: heart size within normal limits stable mediastinal and hilar contours. no focal alveolar consolidation no definite pleural effusion seen. no typical findings of pulmonary edema. no pneumothorax.\n",
            "GT Answer: Heart \tlungs\n",
            "VLM Answer: heart\n",
            "Image: synpic17664.jpg\n",
            "Question: Is the diaphragm clearly visualized on both sides of the thorax?\n",
            "Medical Report as reference: the lungs are clear. there is no pleural effusion or pneumothorax. the heart and mediastinum are normal. the skeletal structures are normal. degenerative changes of the spine.\n",
            "GT Answer: Yes\n",
            "VLM Answer: No\n",
            "Image: synpic17664.jpg\n",
            "Question: Is the diaphragm obscured?\n",
            "Medical Report as reference: the lungs are clear. there is no pleural effusion or pneumothorax. the heart and mediastinum are normal. the skeletal structures are normal. degenerative changes of the spine.\n",
            "GT Answer: No\n",
            "VLM Answer: No\n",
            "Image: synpic24390.jpg\n",
            "Question: Is the heart wider than more than half the width of the thorax?\n",
            "Medical Report as reference: the lungs are clear. there is no pleural effusion or pneumothorax. the heart and mediastinum are normal. the skeletal structures are normal. the skeletal structures and soft tissues are normal.\n",
            "GT Answer: No\n",
            "VLM Answer: Yes\n",
            "Image: synpic24390.jpg\n",
            "Question: How wide is the heart compared to the thorax?\n",
            "Medical Report as reference: the lungs are clear. there is no pleural effusion or pneumothorax. the heart and mediastinum are normal. the skeletal structures are normal. the skeletal structures and soft tissues are normal.\n",
            "GT Answer: It is less than half the width of the thorax\n",
            "VLM Answer: 1/2\n",
            "Image: synpic23803.jpg\n",
            "Question: Is there evidence of subdiaphragmatic free air on the left?\n",
            "Medical Report as reference: the lungs are clear. there is no pleural effusion or pneumothorax. the heart and mediastinum are normal. the skeletal structures are normal. there is mild degenerative changes of the spine.\n",
            "GT Answer: No\n",
            "VLM Answer: Yes\n",
            "Image: synpic23803.jpg\n",
            "Question: Is the free air under the left hemidiaphragm pathologic?\n",
            "Medical Report as reference: the lungs are clear. there is no pleural effusion or pneumothorax. the heart and mediastinum are normal. the skeletal structures are normal. there is mild degenerative changes of the spine.\n",
            "GT Answer: No\n",
            "VLM Answer: No\n",
            "Image: synpic34449.jpg\n",
            "Question: Is this an AP image?\n",
            "Medical Report as reference: heart size within normal limits stable mediastinal and hilar contours. no focal alveolar consolidation no definite pleural effusion seen. no typical findings of pulmonary edema. no pneumothorax.\n",
            "GT Answer: no\n",
            "VLM Answer: No\n",
            "Image: synpic19782.jpg\n",
            "Question: Are calcified lesions present in the lung fields?\n",
            "Medical Report as reference: heart size and pulmonary vascularity appear within normal limits. the lungs are free of focal airspace disease. no pleural effusion or pneumothorax is seen. degenerative changes are present in the spine.\n",
            "GT Answer: No\n",
            "VLM Answer: No\n",
            "Image: synpic19782.jpg\n",
            "Question: Is there evidence of large calcified lesions in the lung fields?\n",
            "Medical Report as reference: heart size and pulmonary vascularity appear within normal limits. the lungs are free of focal airspace disease. no pleural effusion or pneumothorax is seen. degenerative changes are present in the spine.\n",
            "GT Answer: No\n",
            "VLM Answer: No\n",
            "Image: synpic19782.jpg\n",
            "Question: Where is free air trapped subcutaneously in this image?\n",
            "Medical Report as reference: heart size and pulmonary vascularity appear within normal limits. the lungs are free of focal airspace disease. no pleural effusion or pneumothorax is seen. degenerative changes are present in the spine.\n",
            "GT Answer: Above the clavicles bilaterally\n",
            "VLM Answer: chest\n",
            "Image: synpic19782.jpg\n",
            "Question: Is there free air in the supraclavicular fossae?\n",
            "Medical Report as reference: heart size and pulmonary vascularity appear within normal limits. the lungs are free of focal airspace disease. no pleural effusion or pneumothorax is seen. degenerative changes are present in the spine.\n",
            "GT Answer: Yes\n",
            "VLM Answer: No\n",
            "Image: synpic23053.jpg\n",
            "Question: Is the air under the left hemidiaphragm pathologic?\n",
            "Medical Report as reference: the cardiomediastinal silhouette and pulmonary vasculature are within normal limits. there is no pneumothorax or pleural effusion. there is no focal air space opacity to suggest a pneumonia.\n",
            "GT Answer: No\n",
            "VLM Answer: No\n",
            "Image: synpic23053.jpg\n",
            "Question: Is there free air under the left diaphragm?\n",
            "Medical Report as reference: the cardiomediastinal silhouette and pulmonary vasculature are within normal limits. there is no pneumothorax or pleural effusion. there is no focal air space opacity to suggest a pneumonia.\n",
            "GT Answer: No\n",
            "VLM Answer: Yes\n",
            "Image: synpic24390.jpg\n",
            "Question: Is this image of the thorax?\n",
            "Medical Report as reference: the lungs are clear. there is no pleural effusion or pneumothorax. the heart and mediastinum are normal. the skeletal structures are normal. the skeletal structures and soft tissues are normal.\n",
            "GT Answer: yes\n",
            "VLM Answer: Yes\n",
            "Image: synpic39532.jpg\n",
            "Question: Where is the lesion?\n",
            "Medical Report as reference: the lungs are clear. there is no pleural effusion or pneumothorax. the heart and mediastinum are normal. the skeletal structures are normal. degenerative changes of the spine.\n",
            "GT Answer: Right lower lobe\n",
            "VLM Answer: The lesion is in the lungs.\n",
            "Image: synpic39532.jpg\n",
            "Question: Which lung lobe is the lesion present in?\n",
            "Medical Report as reference: the lungs are clear. there is no pleural effusion or pneumothorax. the heart and mediastinum are normal. the skeletal structures are normal. degenerative changes of the spine.\n",
            "GT Answer: Right lower lobe\n",
            "VLM Answer: Right\n",
            "Image: synpic47783.jpg\n",
            "Question: Where is the aneurysm located?\n",
            "Medical Report as reference: the lungs are clear. there is no pleural effusion or pneumothorax. the heart and mediastinum are normal. the skeletal structures are normal. there is mild degenerative changes of the spine.\n",
            "GT Answer: In the thorasic aorta\n",
            "VLM Answer: chest\n",
            "Image: synpic47783.jpg\n",
            "Question: What is the most important abnormality found in this image?\n",
            "Medical Report as reference: the lungs are clear. there is no pleural effusion or pneumothorax. the heart and mediastinum are normal. the skeletal structures are normal. there is mild degenerative changes of the spine.\n",
            "GT Answer: Width of aorta\n",
            "VLM Answer: The most important abnormality found in this image is the absence of a pleural effusion or pneumothorax.\n",
            "Image: synpic19477.jpg\n",
            "Question: At which rib is the lesion located?\n",
            "Medical Report as reference: the lungs are clear. there is no pleural effusion or pneumothorax. the heart and mediastinum are normal. the skeletal structures are normal. the skeletal structures and soft tissues are normal.\n",
            "GT Answer: 7th rib\n",
            "VLM Answer: Left\n",
            "Image: synpic19477.jpg\n",
            "Question: What rib is the lesion located inferior to?\n",
            "Medical Report as reference: the lungs are clear. there is no pleural effusion or pneumothorax. the heart and mediastinum are normal. the skeletal structures are normal. the skeletal structures and soft tissues are normal.\n",
            "GT Answer: 7th rib\n",
            "VLM Answer: right\n",
            "Image: synpic23803.jpg\n",
            "Question: On which side is the cardiac border more obscured?\n",
            "Medical Report as reference: the lungs are clear. there is no pleural effusion or pneumothorax. the heart and mediastinum are normal. the skeletal structures are normal. there is mild degenerative changes of the spine.\n",
            "GT Answer: Right\n",
            "VLM Answer: Left\n",
            "Image: synpic23803.jpg\n",
            "Question: Where is the cardiac border more obscured?\n",
            "Medical Report as reference: the lungs are clear. there is no pleural effusion or pneumothorax. the heart and mediastinum are normal. the skeletal structures are normal. there is mild degenerative changes of the spine.\n",
            "GT Answer: Right\n",
            "VLM Answer: chest\n",
            "Image: synpic19477.jpg\n",
            "Question: Which side of the cardiac border is more prominent?\n",
            "Medical Report as reference: the lungs are clear. there is no pleural effusion or pneumothorax. the heart and mediastinum are normal. the skeletal structures are normal. the skeletal structures and soft tissues are normal.\n",
            "GT Answer: Left\n",
            "VLM Answer: Left\n",
            "Image: synpic19477.jpg\n",
            "Question: Which cardiac border is more prominently visualized?\n",
            "Medical Report as reference: the lungs are clear. there is no pleural effusion or pneumothorax. the heart and mediastinum are normal. the skeletal structures are normal. the skeletal structures and soft tissues are normal.\n",
            "GT Answer: Left\n",
            "VLM Answer: The heart and mediastinum are normal.\n",
            "Image: synpic24390.jpg\n",
            "Question: Is this image a CT scan?\n",
            "Medical Report as reference: the lungs are clear. there is no pleural effusion or pneumothorax. the heart and mediastinum are normal. the skeletal structures are normal. the skeletal structures and soft tissues are normal.\n",
            "GT Answer: no\n",
            "VLM Answer: No\n",
            "Image: synpic45557.jpg\n",
            "Question: Are the borders of the heart clearly visualized?\n",
            "Medical Report as reference: heart size within normal limits stable mediastinal and hilar contours. no focal alveolar consolidation no definite pleural effusion seen. no typical findings of pulmonary edema. no typical findings of pulmonary edema.\n",
            "GT Answer: yes\n",
            "VLM Answer: No\n",
            "Image: synpic13385.jpg\n",
            "Question: Which lung has more extensive infiltration?\n",
            "Medical Report as reference: the heart is normal in size. the mediastinum is unremarkable. there is no pleural effusion or pneumothorax. there is mild degenerative changes of the spine.\n",
            "GT Answer: Left\n",
            "VLM Answer: Right\n",
            "Image: synpic13385.jpg\n",
            "Question: Where are the most infiltrates located?\n",
            "Medical Report as reference: the heart is normal in size. the mediastinum is unremarkable. there is no pleural effusion or pneumothorax. there is mild degenerative changes of the spine.\n",
            "GT Answer: Left lung\n",
            "VLM Answer: The most infiltrates are located in the lungs, with a significant amount of inflammation and fluid accumulation.\n",
            "Image: synpic24390.jpg\n",
            "Question: Is the largest air collection on the patient's left or the right side?\n",
            "Medical Report as reference: the lungs are clear. there is no pleural effusion or pneumothorax. the heart and mediastinum are normal. the skeletal structures are normal. the skeletal structures and soft tissues are normal.\n",
            "GT Answer: Right side\n",
            "VLM Answer: Left\n",
            "Image: synpic24390.jpg\n",
            "Question: Where is the largest air collection in this image?\n",
            "Medical Report as reference: the lungs are clear. there is no pleural effusion or pneumothorax. the heart and mediastinum are normal. the skeletal structures are normal. the skeletal structures and soft tissues are normal.\n",
            "GT Answer: Right lung base\n",
            "VLM Answer: chest\n"
          ]
        }
      ]
    },
    {
      "cell_type": "code",
      "source": [
        "#Perform analysis of Experiment 1\n",
        "#Calculate SBERT Similarity Score, METEOR Score, and F1 Score\n",
        "\n",
        "\n",
        "sbert_model = SentenceTransformer('sentence-transformers/all-MiniLM-L6-v2')\n",
        "total_sim_score = 0\n",
        "\n",
        "binary_answer_ground_truth = []\n",
        "binary_answer_vlm = []\n",
        "binary_answers = [\"yes\", \"no\"]\n",
        "\n",
        "total_meteor_score = 0\n",
        "\n",
        "for entry in results_with_reports.keys():\n",
        "  ground_truth = results_with_reports[entry][1]\n",
        "  vlm_prediction = results_with_reports[entry][2]\n",
        "\n",
        "  #Check if question has binary answer (ie a close ended question) and if so, keep track of ground truth and VLM answers\n",
        "  if ground_truth.lower() in binary_answers and vlm_prediction.lower() in binary_answers:\n",
        "    binary_answer_ground_truth.append(ground_truth.lower())\n",
        "    binary_answer_vlm.append(vlm_prediction.lower())\n",
        "\n",
        "  #If answer is incorrect, count similarity as zero manually becasue Sentence Bert does not always think yes is orthogonal to no\n",
        "  if ground_truth.lower() == \"yes\" and vlm_prediction.lower() == \"no\" or ground_truth.lower() == \"no\" and vlm_prediction.lower() == \"yes\":\n",
        "    sim_score = 0\n",
        "\n",
        "  else:\n",
        "    #SBERT Score\n",
        "    ground_truth_embedding = sbert_model.encode(ground_truth)\n",
        "    vlm_prediction_embedding = sbert_model.encode(vlm_prediction)\n",
        "    sim_score = sbert_model.similarity(ground_truth_embedding, vlm_prediction_embedding).item() #returns Tensor so call .item() to get scalar value\n",
        "\n",
        "    #METEOR Score\n",
        "    meteor_score_with = meteor_score([nltk.word_tokenize(ground_truth.lower())], nltk.word_tokenize(vlm_prediction.lower()))\n",
        "    total_meteor_score += meteor_score_with\n",
        "\n",
        "  total_sim_score += sim_score\n",
        "\n",
        "#Display Final Results for Experiment 1\n",
        "avg_sim_score_with = round(total_sim_score / len(results_with_reports), 2)\n",
        "print(f\"Average Similarity Score With Reports: {avg_sim_score_with}\")\n",
        "\n",
        "avg_meteor_score_with = round(total_meteor_score / len(results_with_reports), 2)\n",
        "print(f\"Average METEOR Score With Reports: {avg_meteor_score_with}\")\n",
        "\n",
        "binary_f1_score = round(f1_score(binary_answer_ground_truth, binary_answer_vlm, average=\"binary\", pos_label=\"yes\"), 2)\n",
        "print(f\"Binary F1 Score: {binary_f1_score}\")"
      ],
      "metadata": {
        "colab": {
          "base_uri": "https://localhost:8080/"
        },
        "id": "HZY0782-xAR0",
        "outputId": "794c7190-8d68-4012-df1c-9dfd9443a476"
      },
      "execution_count": null,
      "outputs": [
        {
          "output_type": "stream",
          "name": "stderr",
          "text": [
            "/usr/local/lib/python3.10/dist-packages/transformers/tokenization_utils_base.py:1601: FutureWarning: `clean_up_tokenization_spaces` was not set. It will be set to `True` by default. This behavior will be depracted in transformers v4.45, and will be then set to `False` by default. For more details check this issue: https://github.com/huggingface/transformers/issues/31884\n",
            "  warnings.warn(\n"
          ]
        },
        {
          "output_type": "stream",
          "name": "stdout",
          "text": [
            "Average Similarity Score With Reports: 0.52\n",
            "Average METEOR Score With Reports: 0.22\n",
            "Binary F1 Score: 0.64\n"
          ]
        }
      ]
    },
    {
      "cell_type": "code",
      "source": [
        "#Perform Experiment 2: VLM Not Fine Tuned and Independent MVQA Without Reports\n",
        "\n",
        "results_without_reports = {}\n",
        "for i, image_q_pair in enumerate(image_data):\n",
        "  #Iterate through first 160 images = images in testing dataset\n",
        "  if i <= 160:\n",
        "    image = Image.open(IMAGE_PATH_PREFIX + image_q_pair[0])\n",
        "    enc_image = model.encode_image(image)\n",
        "    question = image_q_pair[1]\n",
        "    text_prompt = f\"Question: {question}\"\n",
        "    vlm_output = model.answer_question(enc_image, text_prompt, tokenizer)\n",
        "    results_without_reports[i] = [text_prompt, image_q_pair[2], vlm_output]\n",
        "\n",
        "    print(f\"Image: {image_q_pair[0]}\")\n",
        "    print(f\"Question: {image_q_pair[1]}\")\n",
        "    print(f\"GT Answer: {image_q_pair[2]}\")\n",
        "    print(f\"VLM Answer: {vlm_output}\")"
      ],
      "metadata": {
        "colab": {
          "base_uri": "https://localhost:8080/"
        },
        "id": "KQzDUEv_EOHm",
        "outputId": "07045702-5070-444b-b9a0-34033a1bd8b5"
      },
      "execution_count": null,
      "outputs": [
        {
          "output_type": "stream",
          "name": "stdout",
          "text": [
            "Image: synpic29265.jpg\n",
            "Question: Are the lungs normal appearing?\n",
            "GT Answer: No\n",
            "VLM Answer: No, the lungs appear to be damaged or affected, as they are depicted in a black and white radiographic image.\n",
            "Image: synpic29265.jpg\n",
            "Question: Is there evidence of a pneumothorax\n",
            "GT Answer: No\n",
            "VLM Answer: Yes, there is evidence of a pneumothorax in the image. The chest radiograph shows a large amount of air in the space between the lungs, which is a characteristic of a pneumothorax. This condition can cause shortness of breath, chest pain, and sometimes a feeling of suffocation. The radiograph helps the medical professional to identify and diagnose the presence of a pneumothorax, allowing for appropriate treatment and care for the patient.\n",
            "Image: synpic28602.jpg\n",
            "Question: What type of imaging does this not represent?\n",
            "GT Answer: ultrasound\n",
            "VLM Answer: This image represents an X-ray, which is a type of medical imaging that uses electromagnetic radiation to create an image of the body's internal structures. In this case, the X-ray shows the ribcage and lungs, providing a clear view of the chest area. X-rays are commonly used by healthcare professionals to diagnose and monitor various medical conditions, such as fractures, infections, and lung diseases. This image does not represent an actual person but rather the internal anatomy of the human body.\n",
            "Image: synpic29265.jpg\n",
            "Question: Is this a MRI of the chest?\n",
            "GT Answer: no\n",
            "VLM Answer: No, this is not a MRI of the chest. It is an X-ray of the chest, which is a medical imaging technique used to visualize the internal structures of the body, particularly the bones and soft tissues.\n",
            "Image: synpic28602.jpg\n",
            "Question: What is not pictured in this image?\n",
            "GT Answer: The extremities\n",
            "VLM Answer: In the image, there is no information about the person or any other objects that are not part of the radiographic image. The primary focus of the image is the chest radiography, which shows the ribcage and lungs.\n",
            "Image: synpic28602.jpg\n",
            "Question: Is the trachea midline?\n",
            "GT Answer: yes\n",
            "VLM Answer: Yes, the trachea is midline centered in the image.\n",
            "Image: synpic28602.jpg\n",
            "Question: Is there evidence of an aortic aneurysm?\n",
            "GT Answer: No\n",
            "VLM Answer: Yes, there is evidence of an aortic aneurysm in the image. The radiographic image shows a person with a large aortic aneurysm, which is a bulge in the wall of the aorta, the large blood vessel that carries blood from the heart to the rest of the body. This condition can be a sign of serious health issues and requires medical attention and treatment.\n",
            "Image: synpic28602.jpg\n",
            "Question: Is there blunting of the costovertebral angles?\n",
            "GT Answer: No\n",
            "VLM Answer: Yes, there is a blunting of the costovertebral angles in the chest radiograph.\n",
            "Image: synpic42202.jpg\n",
            "Question: Is there evidence of an aortic aneurysm?\n",
            "GT Answer: yes\n",
            "VLM Answer: Yes, there is evidence of an aortic aneurysm in the image. The radiographic image shows a chest x-ray of a person with an aortic aneurysm, which is a large, abnormal enlargement of the aorta, the major blood vessel that carries blood from the heart to the rest of the body. The presence of the aneurysm is indicated by the visible enlargement in the chest area.\n",
            "Image: synpic42202.jpg\n",
            "Question: Which organ system is abnormal in this image?\n",
            "GT Answer: Cardiovascular\n",
            "VLM Answer: The abnormal organ system in this image is the heart.\n",
            "Image: synpic29265.jpg\n",
            "Question: Is there airspace consolidation on the left side?\n",
            "GT Answer: Yes\n",
            "VLM Answer: Yes, there is airspace consolidation on the left side of the chest.\n",
            "Image: synpic42202.jpg\n",
            "Question: Is there a pneumothorax?\n",
            "GT Answer: no\n",
            "VLM Answer: Yes, there is a pneumothorax in the image, which is a condition where air leaks into the space between the chest wall and the lungs.\n",
            "Image: synpic29265.jpg\n",
            "Question: Is there a fracture?\n",
            "GT Answer: no\n",
            "VLM Answer: No, there is no fracture in the image. The image shows a chest x-ray of a person with no visible injuries or fractures.\n",
            "Image: synpic29265.jpg\n",
            "Question: How is the patient oriented?\n",
            "GT Answer: Posterior-Anterior\n",
            "VLM Answer: The patient is oriented facing away from the camera, as seen in the radiographic image.\n",
            "Image: synpic28602.jpg\n",
            "Question: Is this an anterior posterior image?\n",
            "GT Answer: no\n",
            "VLM Answer: This is an anterior posterior image, which means it shows the chest area from the front and back, respectively.\n",
            "Image: synpic42202.jpg\n",
            "Question: Is there cardiomyopathy?\n",
            "GT Answer: yes\n",
            "VLM Answer: Yes, there is cardiomyopathy present in the image, as indicated by the presence of a pacemaker in the chest.\n",
            "Image: synpic29265.jpg\n",
            "Question: Is there air under the diaphragm?\n",
            "GT Answer: No\n",
            "VLM Answer: Yes, there is air under the diaphragm in the image.\n",
            "Image: synpic42202.jpg\n",
            "Question: What type of image is this?\n",
            "GT Answer: Chest X-ray\n",
            "VLM Answer: This is an X-ray image of a person's chest.\n",
            "Image: synpic42202.jpg\n",
            "Question: Is this an anterior-posterior image\n",
            "GT Answer: no\n",
            "VLM Answer: No\n",
            "Image: synpic21776.jpg\n",
            "Question: Are >12 ribs present in the image?\n",
            "GT Answer: Yes\n",
            "VLM Answer: Yes, there are more than 12 ribs visible in the image, which is an unusual number for a chest X-ray.\n",
            "Image: synpic21776.jpg\n",
            "Question: does this represent adequate inspiratory effort?\n",
            "GT Answer: Yes\n",
            "VLM Answer: Based on the image, it appears that the person is not making a significant effort to breathe, as they are not taking a deep breath. This could indicate that the individual might be experiencing difficulty in breathing, such as respiratory issues or fatigue. It is important to consult a medical professional for a proper diagnosis and treatment plan if such symptoms persist or worsen.\n",
            "Image: synpic25821.jpg\n",
            "Question: Is there a rib fracture?\n",
            "GT Answer: No\n",
            "VLM Answer: Yes, there is a rib fracture in the image.\n",
            "Image: synpic25821.jpg\n",
            "Question: Is there evidence of any fractures of the ribs?\n",
            "GT Answer: No\n",
            "VLM Answer: Yes, there is evidence of a rib fracture in the image.\n",
            "Image: synpic25821.jpg\n",
            "Question: Is there any intraparenchymal abnormalities in the lung fields?\n",
            "GT Answer: No\n",
            "VLM Answer: Yes, there are intraparenchymal abnormalities in the lung fields, as indicated by the radiographic image.\n",
            "Image: synpic25821.jpg\n",
            "Question: Is there evidence of any abnormalities of the lung parenchyma?\n",
            "GT Answer: No\n",
            "VLM Answer: Yes, there is evidence of abnormal parenchyma in the lungs, which is a characteristic feature of lung cancer. The image shows a chest x-ray showing a large amount of abnormal parenchyma, which is indicative of the presence of cancerous cells in the lung tissue.\n",
            "Image: synpic40272.jpg\n",
            "Question: was the patient positioned appropriately \twithout tilting?\n",
            "GT Answer: yes\n",
            "VLM Answer: Yes, the patient was positioned appropriately without tilting the X-ray. The image shows the patient's chest and ribcage in an upright position, and the radiologist has captured a clear view of the chest area, including the ribcage and the medical device. This indicates that the patient was positioned correctly, allowing for a clear and accurate X-ray image to be taken.\n",
            "Image: synpic21776.jpg\n",
            "Question: was this taken with good x ray penetration\n",
            "GT Answer: yes\n",
            "VLM Answer: Yes\n",
            "Image: synpic25821.jpg\n",
            "Question: Are there >8 ribs shown in this image?\n",
            "GT Answer: Yes\n",
            "VLM Answer: Yes, there are more than 8 ribs shown in this image, which is an X-ray of the chest.\n",
            "Image: synpic25821.jpg\n",
            "Question: Are there at least 8 ribs visible for good inspiratory effort?\n",
            "GT Answer: Yes\n",
            "VLM Answer: Yes, there are at least 8 ribs visible for good inspiratory effort in the image.\n",
            "Image: synpic21776.jpg\n",
            "Question: was this taken in PA position?\n",
            "GT Answer: yes\n",
            "VLM Answer: Yes, this image was taken in PA position, which means the radiologist positioned the patient in a way that allows for a clear view of the chest and spine.\n",
            "Image: synpic42245.jpg\n",
            "Question: Are the hilar soft tissue densities symmetric?\n",
            "GT Answer: no\n",
            "VLM Answer: Yes, the image shows that the densities of the hilar soft tissue are symmetric.\n",
            "Image: synpic42245.jpg\n",
            "Question: Are the soft tissue densities in the left hilum equivalent in size to the soft tissue densities in the right hilum?\n",
            "GT Answer: no\n",
            "VLM Answer: Yes, the soft tissue densities in the left hilum are equivalent in size to the soft tissue densities in the right hilum.\n",
            "Image: synpic16174.jpg\n",
            "Question: Is the descending aortic silhouette of normal contour?\n",
            "GT Answer: Yes\n",
            "VLM Answer: No, the descending aortic silhouette is not normal. It is distorted and appears to be misshapen.\n",
            "Image: synpic16174.jpg\n",
            "Question: Is the descending aortic silhouette of normal contour and size?\n",
            "GT Answer: Yes\n",
            "VLM Answer: No, the descending aortic silhouette is not normal. It is distorted and appears to be smaller than the normal contour.\n",
            "Image: synpic16174.jpg\n",
            "Question: Is there tortuosity of the descending aorta?\n",
            "GT Answer: Yes\n",
            "VLM Answer: Yes, there is tortuosity of the descending aorta in the image.\n",
            "Image: synpic16174.jpg\n",
            "Question: Is the descending aortic silhouette of normal size?\n",
            "GT Answer: Yes\n",
            "VLM Answer: No, the descending aortic silhouette is significantly larger than normal, indicating a potential health issue or abnormality.\n",
            "Image: synpic16174.jpg\n",
            "Question: Is the descending aortic silhouette of normal size?\n",
            "GT Answer: Yes\n",
            "VLM Answer: No, the descending aortic silhouette is significantly larger than normal, indicating a potential health issue or abnormality.\n",
            "Image: synpic40272.jpg\n",
            "Question: was this chest x ray taken in PA format?\n",
            "GT Answer: yes\n",
            "VLM Answer: Yes, this chest x ray was taken in PA format.\n",
            "Image: synpic21776.jpg\n",
            "Question: Are lung opacities noted?\n",
            "GT Answer: No\n",
            "VLM Answer: Yes, lung opacities are noted in the image. The radiographic image shows the rib cage and lungs, and it appears that the lungs are filled with fluid, which is a sign of lung disease or inflammation.\n",
            "Image: synpic21776.jpg\n",
            "Question: is there evidence of intraparenchymal lung nodules?\n",
            "GT Answer: No\n",
            "VLM Answer: Yes, there is evidence of intraparenchymal lung nodules in the image. These nodules are small, irregularly shaped, and appear as dark spots or areas of inflammation within the chest cavity. They are not visible in the lungs, but rather in the chest cavity, where they are part of the normal lung tissue. The presence of these nodules may indicate a condition such as chronic obstructive pulmonary disease (COPD), lung cancer, or other respiratory diseases.\n",
            "Image: synpic16174.jpg\n",
            "Question: Is the cardiac silhouette less than half the diameter of the diaphragm?\n",
            "GT Answer: Yes\n",
            "VLM Answer: Yes, the cardiac silhouette is less than half the diameter of the diaphragm.\n",
            "Image: synpic16174.jpg\n",
            "Question: Is the cardiac silhouette within normal size limits?\n",
            "GT Answer: Yes\n",
            "VLM Answer: Yes, the cardiac silhouette is within normal size limits.\n",
            "Image: synpic52767.jpg\n",
            "Question: Is there evidence of a right apical pneumothorax on this chest x-ray?\n",
            "GT Answer: Yes\n",
            "VLM Answer: Yes, there is evidence of a right apical pneumothorax on the chest x-ray. The image shows a black and white chest x-ray of a person with a visible right apical thorax, which indicates the presence of air in the pleural space between the lungs and the chest wall. This condition can be caused by various factors, such as trauma, lung disease, or lung cancer, and may require medical intervention to remove the excess air and treat the underlying cause.\n",
            "Image: synpic52767.jpg\n",
            "Question: Is a pneumothorax present near the right lung field?\n",
            "GT Answer: Yes\n",
            "VLM Answer: Yes, a pneumothorax is present near the right lung field in the image.\n",
            "Image: synpic21776.jpg\n",
            "Question: Is there narrowing of the cardiac contour?\n",
            "GT Answer: Yes\n",
            "VLM Answer: Yes, there is a narrowing of the cardiac contour in the chest radiograph.\n",
            "Image: synpic21776.jpg\n",
            "Question: is the cardiac silhouette small/stretched\n",
            "GT Answer: Yes\n",
            "VLM Answer: No\n",
            "Image: synpic42245.jpg\n",
            "Question: Are there any fractures in any of the ribs?\n",
            "GT Answer: No\n",
            "VLM Answer: Yes, there is a rib fracture in the image.\n",
            "Image: synpic42245.jpg\n",
            "Question: Are any of the patient's ribs fractured?\n",
            "GT Answer: No\n",
            "VLM Answer: No, the patient's ribs appear to be intact and not broken.\n",
            "Image: synpic40272.jpg\n",
            "Question: is there evidence of pulmonary edema?\n",
            "GT Answer: no\n",
            "VLM Answer: Yes, there is evidence of pulmonary edema in the image. The radiographic image shows a person with a large amount of fluid in their lungs, which is a common sign of pulmonary edema. This condition can cause difficulty in breathing, and it is typically treated with medications and oxygen therapy to help the patient recover.\n",
            "Image: synpic40272.jpg\n",
            "Question: Is there enlargement of the pulmonary vasculature?\n",
            "GT Answer: no\n",
            "VLM Answer: Yes, there is an enlargement of the pulmonary vasculature in the chest radiograph.\n",
            "Image: synpic52767.jpg\n",
            "Question: Is the cardiac contour normal?\n",
            "GT Answer: Yes\n",
            "VLM Answer: Yes, the cardiac contour in the image is normal.\n",
            "Image: synpic52767.jpg\n",
            "Question: Is the cardiac silhouette less than half the lateral diameter of the chest wall?\n",
            "GT Answer: Yes\n",
            "VLM Answer: Yes, the cardiac silhouette is less than half the lateral diameter of the chest wall.\n",
            "Image: synpic40272.jpg\n",
            "Question: is it difficult to delineate the left costophrenic angle?\n",
            "GT Answer: yes\n",
            "VLM Answer: Yes, it is difficult to delineate the left costophrenic angle in the image. The radiographic image shows a chest x-ray with a white object in the chest, which could be a foreign object or a medical device. The presence of this object makes it challenging to precisely identify the location and angle of the left costophrenic angle.\n",
            "Image: synpic40272.jpg\n",
            "Question: Is there blunting of the left costophrenic angle?\n",
            "GT Answer: yes\n",
            "VLM Answer: Yes, there is a blunted left costophrenic angle in the chest radiograph.\n",
            "Image: synpic33422.jpg\n",
            "Question: Is there a left apical pneumothorax?\n",
            "GT Answer: Yes\n",
            "VLM Answer: Yes, there is a left apical pneumothorax in the image.\n",
            "Image: synpic33422.jpg\n",
            "Question: Is the outline of visceral pleura visible in the upper left lung field?\n",
            "GT Answer: Yes\n",
            "VLM Answer: Yes, the outline of the visceral pleura is visible in the upper left lung field of the radiographic image.\n",
            "Image: synpic33422.jpg\n",
            "Question: Has the midline of the mediastinum shifted?\n",
            "GT Answer: No\n",
            "VLM Answer: Yes, the midline of the mediastinum has shifted, as seen in the radiographic image.\n",
            "Image: synpic33422.jpg\n",
            "Question: Is there a mediastinal shift?\n",
            "GT Answer: No\n",
            "VLM Answer: Yes, there is a mediastinal shift in the image, which is an indication of a possible rib injury or trauma.\n",
            "Image: synpic40272.jpg\n",
            "Question: Is the left lung field more radioopaque than the right side?\n",
            "GT Answer: yes\n",
            "VLM Answer: Yes, the left lung field appears to be more radioopaque than the right side.\n",
            "Image: synpic40272.jpg\n",
            "Question: Is the left lung field more white?\n",
            "GT Answer: yes\n",
            "VLM Answer: Yes, the left lung field is more white than the right lung field.\n",
            "Image: synpic42245.jpg\n",
            "Question: Are the costophrenic angles sharp?\n",
            "GT Answer: yes\n",
            "VLM Answer: Yes, the costophrenic angles are sharp in the X-ray image.\n",
            "Image: synpic42245.jpg\n",
            "Question: Is there no evidence of blunting of the costophrenic angles?\n",
            "GT Answer: yes\n",
            "VLM Answer: Yes, there is no evidence of blunting of the costophrenic angles in the radiographic image. The costophrenic angles are clearly visible and appear to be in their normal range.\n",
            "Image: synpic21776.jpg\n",
            "Question: is the lung parenchyma well visualized?\n",
            "GT Answer: yes\n",
            "VLM Answer: Yes, the lung parenchyma is well visualized in the radiographic image.\n",
            "Image: synpic40272.jpg\n",
            "Question: are the heart and lungs displayed well in this film\n",
            "GT Answer: yes\n",
            "VLM Answer: Yes, the heart and lungs are displayed well in this radiographic film.\n",
            "Image: synpic18319.jpg\n",
            "Question: Describe the lung abnormalities?\n",
            "GT Answer: Pulmonary nodules\n",
            "VLM Answer: The lung abnormalities in the X-ray image are characterized by black and white patches, which could indicate inflammation, fluid accumulation, or other lung-related issues. These abnormalities are likely the result of a medical condition or an injury, and they can be detected through radiographic imaging techniques like X-rays. The presence of these abnormalities can be indicative of respiratory diseases, such as asthma, chronic obstructive pulmonary disease (COPD), or lung cancer. It is essential to consult a healthcare professional for a proper diagnosis and treatment plan based on the specific findings of the radiographic image.\n",
            "Image: synpic18319.jpg\n",
            "Question: What abnormalities are seen within the lungs?\n",
            "GT Answer: Pulmonary nodules\n",
            "VLM Answer: In the image, the lungs appear to be filled with fluid, which is an abnormal condition. This fluid buildup can indicate various health issues, such as respiratory infections, chronic obstructive pulmonary disease (COPD), or other lung diseases. The presence of fluid in the lungs can cause difficulty in breathing, decreased lung function, and a reduced ability to take in oxygen. It is essential to consult a healthcare professional for further evaluation and diagnosis of such abnormalities in the lungs.\n",
            "Image: synpic32933.jpg\n",
            "Question: What is under the right hemidiaphragm?\n",
            "GT Answer: Free air\n",
            "VLM Answer: Under the right hemidiaphragm, there is a large amount of internal organs, including the lungs, heart, stomach, and other internal structures. The image is an X-ray of the human body, specifically focusing on the ribcage and internal organs. The X-ray provides a detailed view of the internal anatomy, allowing medical professionals to diagnose and treat various conditions related to the chest and internal organs.\n",
            "Image: synpic32933.jpg\n",
            "Question: What is the abnormality by the right hemidiaphragm?\n",
            "GT Answer: Free air\n",
            "VLM Answer: The abnormality by the right hemidiaphragm is a large, irregularly shaped, and possibly cancerous growth. This growth is located in the chest area, specifically above the right hemidiaphragm. The presence of such a growth can be concerning, as it may indicate the development of cancer or other serious health issues.\n",
            "Image: synpic31400.jpg\n",
            "Question: Is this in the posterior anterior plane?\n",
            "GT Answer: yes\n",
            "VLM Answer: This is in the posterior anterior plane, as the image shows the chest and spine in the same plane.\n",
            "Image: synpic31400.jpg\n",
            "Question: Any abnormal findings in the lower lung fields?\n",
            "GT Answer: no\n",
            "VLM Answer: In the lower lung fields of the radiographic image, there are abnormal findings, which could indicate a medical condition or an issue related to the lungs. However, without more specific details about the radiographic image, it is not possible to determine the exact nature of these abnormal findings. It is essential to consult a medical professional for a detailed analysis and diagnosis of any potential health concerns.\n",
            "Image: synpic31400.jpg\n",
            "Question: Are the lower lung fields normal?\n",
            "GT Answer: yes\n",
            "VLM Answer: No, the lower lung fields are filled with fluid, which is a common finding in chest radiographs.\n",
            "Image: synpic32933.jpg\n",
            "Question: Is the left hemidiaphragm normal?\n",
            "GT Answer: Yes\n",
            "VLM Answer: No, the left hemidiaphragm is not normal in the image. It is stretched out, which is an unusual condition.\n",
            "Image: synpic32933.jpg\n",
            "Question: Is the left hemidiaphragm normal?\n",
            "GT Answer: Yes\n",
            "VLM Answer: No, the left hemidiaphragm is not normal in the image. It is stretched out, which is an unusual condition.\n",
            "Image: synpic49914.jpg\n",
            "Question: Is this a chest x-ray?\n",
            "GT Answer: yes\n",
            "VLM Answer: Yes, this is a chest x-ray.\n",
            "Image: synpic18461.jpg\n",
            "Question: What kind of image is this?\n",
            "GT Answer: Chest x-ray\n",
            "VLM Answer: This is an X-ray image of a person's chest, showing the ribcage and lungs.\n",
            "Image: synpic31400.jpg\n",
            "Question: where is the cavitary lesion?\n",
            "GT Answer: Right upper lobe\n",
            "VLM Answer: The cavitary lesion is located in the left lung.\n",
            "Image: synpic31400.jpg\n",
            "Question: where is the abnormality?\n",
            "GT Answer: Right upper lobe\n",
            "VLM Answer: The abnormality is located in the lungs, specifically in the chest area.\n",
            "Image: synpic18461.jpg\n",
            "Question: What organ is primarily evaluated in this image?\n",
            "GT Answer: Lungs\n",
            "VLM Answer: The primary organ evaluated in this image is the lungs.\n",
            "Image: synpic18461.jpg\n",
            "Question: Is this a lateral film?\n",
            "GT Answer: no\n",
            "VLM Answer: Yes, this is a lateral film, which is a type of radiographic imaging used to capture the lateral view of the body.\n",
            "Image: synpic31400.jpg\n",
            "Question: Which organ system is imaged?\n",
            "GT Answer: Chest\n",
            "VLM Answer: The image shows the ribcage and lungs, which are part of the respiratory system.\n",
            "Image: synpic49914.jpg\n",
            "Question: Is this a study of the chest?\n",
            "GT Answer: yes\n",
            "VLM Answer: Yes, this is a chest radiograph, which is a medical imaging technique used to examine the internal structures of the chest and lungs.\n",
            "Image: synpic49914.jpg\n",
            "Question: Which plane is this image taken?\n",
            "GT Answer: PA\n",
            "VLM Answer: This image is taken in the X-ray plane, showing the ribcage and lungs of a person.\n",
            "Image: synpic21044.jpg\n",
            "Question: What is abnormal about the hila?\n",
            "GT Answer: Enlarged\n",
            "VLM Answer: The abnormal aspect of the hila in the image is that it appears to be a large, thickened area of tissue, which is not typically seen in a healthy lung. This could indicate a potential issue or condition related to lung health, such as inflammation, scarring, or even cancer. The presence of this abnormal hila could be a cause for concern, and further medical evaluation and treatment would be necessary to address the underlying issue.\n",
            "Image: synpic21044.jpg\n",
            "Question: Is the hila normal or enlarged?\n",
            "GT Answer: Enlarged\n",
            "VLM Answer: The hila in the image is enlarged, as indicated by the radiographic image.\n",
            "Image: synpic49914.jpg\n",
            "Question: What is happening in the right lung?\n",
            "GT Answer: Volume loss\n",
            "VLM Answer: In the right lung, there is a collapsed lung, which is a condition where the lung tissue collapses and fills with air. This can cause difficulty in breathing and may require medical intervention, such as surgery or other treatments, to restore normal lung function. The image shows the lung in an X-ray, which is a common diagnostic tool used by healthcare professionals to identify and assess lung conditions.\n",
            "Image: synpic49914.jpg\n",
            "Question: What is finding in the right lung?\n",
            "GT Answer: Volume loss\n",
            "VLM Answer: In the right lung, there is a large amount of fluid, which could indicate inflammation, infection, or other respiratory issues. The fluid accumulation may be affecting the lung's normal function and appearance, as seen in the X-ray image.\n",
            "Image: synpic18461.jpg\n",
            "Question: Are the lungs normal?\n",
            "GT Answer: No\n",
            "VLM Answer: No, the lungs appear to be damaged or affected, as indicated by the presence of black spots on the x-ray.\n",
            "Image: synpic18461.jpg\n",
            "Question: Is the chest x-ray normal?\n",
            "GT Answer: No\n",
            "VLM Answer: Yes, the chest x-ray appears to be normal, as it is an X-ray image of the rib cage and lungs.\n",
            "Image: synpic31400.jpg\n",
            "Question: What abnormalities are in the lung apices?\n",
            "GT Answer: Nodular opacities\n",
            "VLM Answer: The lung apices in the X-ray image show abnormal growths or nodules, which could indicate various health conditions or diseases. The presence of these nodules might suggest conditions such as lung cancer, chronic obstructive pulmonary disease (COPD), or other respiratory issues. Further examination and consultation with a healthcare professional would be necessary to determine the exact cause and severity of these abnormalities.\n",
            "Image: synpic31400.jpg\n",
            "Question: What is seen in the lung apices?\n",
            "GT Answer: Nodular opacities\n",
            "VLM Answer: In the lung apices, there is a lot of fluid, which could indicate inflammation or fluid accumulation in the airways.\n",
            "Image: synpic18319.jpg\n",
            "Question: What can cause asymmetrical breasts?\n",
            "GT Answer: Prior surgery\n",
            "VLM Answer: Asymmetrical breasts can be caused by various factors, such as genetics, hormonal imbalances, or medical conditions. In the image, the chest radiography shows a person with asymmetrical breasts. It is essential to consult a healthcare professional to determine the underlying cause and receive appropriate medical advice or treatment. Some possible causes include:\n",
            "\n",
            "1. Hormonal imbalances: Conditions like polycystic ovary syndrome (PCOS), thyroid disorders, or certain medications can cause asymmetrical breasts.\n",
            "2. Breast cancer: If a person has been treated for or has a history of breast cancer, it can lead to asymmetrical breasts.\n",
            "3. Congenital abnormalities: Some genetic conditions or birth defects can cause asymmetrical breasts.\n",
            "4. Breast surgery: In some cases, breast surgeries, such as mastectomy or breast reconstruction, can result in asymmetrical breasts.\n",
            "\n",
            "It is important to note that the radiographic image alone cannot provide a definitive answer to the cause of the asymmetrical breasts. A thorough examination by a healthcare professional is necessary to determine the underlying cause and provide appropriate guidance and treatment.\n",
            "Image: synpic18319.jpg\n",
            "Question: Why are the breasts asymmetrical?\n",
            "GT Answer: Prior surgery\n",
            "VLM Answer: The asymmetrical appearance of the breasts in the X-ray image could be due to various factors, such as differences in breast size, shape, or position. It is important to note that the asymmetry in the image is not necessarily indicative of a medical condition or issue, as breasts can naturally vary in appearance among individuals. Factors like genetics, age, weight fluctuations, and pregnancy can contribute to the asymmetry. The X-ray image is a medical imaging technique that provides a visual representation of the internal structure of the body, and it is essential to interpret it in conjunction with other medical information and consult with a healthcare professional for any concerns or questions.\n",
            "Image: synpic49914.jpg\n",
            "Question: Are the lungs normal?\n",
            "GT Answer: No\n",
            "VLM Answer: No, the lungs appear to be damaged or affected in the image.\n",
            "Image: synpic49914.jpg\n",
            "Question: Is the image study normal?\n",
            "GT Answer: No\n",
            "VLM Answer: Yes, the image is a normal chest radiograph, showing the rib cage and lungs.\n",
            "Image: synpic21044.jpg\n",
            "Question: How would you describe the aortopulmonary window?\n",
            "GT Answer: middle mogul\n",
            "VLM Answer: The aortopulmonary window is a part of the chest radiograph that shows the lungs and the aorta, which is the large blood vessel that originates from the heart and extends to the lungs. In the image, the radiograph displays the lungs and the aorta, providing a clear view of the chest area.\n",
            "Image: synpic21044.jpg\n",
            "Question: What characteristic finding do you see in the aortopulmonary window?\n",
            "GT Answer: middle mogul\n",
            "VLM Answer: In the aortopulmonary window, I can see a large amount of white fluid, which is characteristic of a heart murmur. A heart murmur is an abnormal sound produced by the heart when it is beating, and it can indicate various conditions such as valve problems, heart muscle damage, or other heart-related issues. The presence of a heart murmur in the image suggests that the person might be experiencing some form of heart-related problem or condition that requires further evaluation and medical attention.\n",
            "Image: synpic21044.jpg\n",
            "Question: Which sign do you see in the aortopulmonary window in this image?\n",
            "GT Answer: middle mogul\n",
            "VLM Answer: In the aortopulmonary window of this image, there is a sign that reads \"MedPix.\"\n",
            "Image: synpic49914.jpg\n",
            "Question: Where is the diffuse pleural thickening?\n",
            "GT Answer: Right lung\n",
            "VLM Answer: The diffuse pleural thickening is located in the central part of the chest, between the ribs.\n",
            "Image: synpic49914.jpg\n",
            "Question: Which lung is abnormal?\n",
            "GT Answer: Right lung\n",
            "VLM Answer: The left lung is abnormal in the image.\n",
            "Image: synpic32933.jpg\n",
            "Question: Is this a normal x ray?\n",
            "GT Answer: No\n",
            "VLM Answer: No, this is not a normal x-ray. It is an x-ray of a person's chest and abdomen, showing a large hole in the person's stomach. This is an unusual and potentially concerning image, as it may indicate a medical condition or injury that requires further investigation and treatment.\n",
            "Image: synpic32933.jpg\n",
            "Question: Is the right hemidiaphragm normal?\n",
            "GT Answer: No\n",
            "VLM Answer: No, the right hemidiaphragm is not normal in the image. It is stretched out, which is an unusual condition.\n",
            "Image: synpic18319.jpg\n",
            "Question: Where is the catheter tip located?\n",
            "GT Answer: Right superior cavoatrial junction\n",
            "VLM Answer: The catheter tip is located in the chest area.\n",
            "Image: synpic18319.jpg\n",
            "Question: Where does the catheter tip extend into?\n",
            "GT Answer: Right superior cavoatrial junction\n",
            "VLM Answer: The catheter tip extends into the chest cavity.\n",
            "Image: synpic31400.jpg\n",
            "Question: What kind of image is this?\n",
            "GT Answer: x-ray\n",
            "VLM Answer: This is an X-ray image of a person's chest, showing their ribcage and lungs.\n",
            "Image: synpic21044.jpg\n",
            "Question: Is the heart abnormal?\n",
            "GT Answer: Yes\n",
            "VLM Answer: Yes, the heart appears to be abnormal in the image, which is captured in a radiographic view.\n",
            "Image: synpic21044.jpg\n",
            "Question: Does the heart appear enlarged?\n",
            "GT Answer: Yes\n",
            "VLM Answer: Yes, the heart appears to be enlarged in the image.\n",
            "Image: synpic24390.jpg\n",
            "Question: How was this x-ray taken?\n",
            "GT Answer: PA\n",
            "VLM Answer: This x-ray was taken using a film camera, which is a photographic technique that captures images on a film surface. In this case, the x-ray image is a chest x-ray, showing the ribcage and lungs.\n",
            "Image: synpic23803.jpg\n",
            "Question: Which ribs are located near the abnormality seen in this image?\n",
            "GT Answer: 4th and 5th\n",
            "VLM Answer: The ribs located near the abnormality in this image are the upper right ribs.\n",
            "Image: synpic23803.jpg\n",
            "Question: What level is the abnormality located at?\n",
            "GT Answer: T5\n",
            "VLM Answer: The abnormality is located at the upper level of the chest.\n",
            "Image: synpic39532.jpg\n",
            "Question: Are lung markings present in the entire thoracic cavity?\n",
            "GT Answer: Yes\n",
            "VLM Answer: No, lung markings are not present in the entire thoracic cavity. The image shows only the chest area, specifically the rib cage and lungs, which are visible in the radiographic image.\n",
            "Image: synpic39532.jpg\n",
            "Question: Is there a pneumothorax present?\n",
            "GT Answer: No\n",
            "VLM Answer: Yes, there is a pneumothorax present in the image, which is a condition where air accumulates between the lung and chest cavity.\n",
            "Image: synpic17664.jpg\n",
            "Question: Do the lung markings extend to the periphery?\n",
            "GT Answer: Yes\n",
            "VLM Answer: Yes, the lung markings extend to the periphery in the image.\n",
            "Image: synpic17664.jpg\n",
            "Question: Is a pneumothorax present in this image?\n",
            "GT Answer: No\n",
            "VLM Answer: Yes, there is a visible pneumothorax in the image, which is an abnormal accumulation of air in the space between the chest wall and the lungs. This condition can cause shortness of breath, chest pain, and sometimes a drop in blood pressure. The radiologist, Christian LaCelle Carlson, has identified the presence of the pneumothorax in the chest radiograph.\n",
            "Image: synpic47783.jpg\n",
            "Question: Does the width of the heart exceed more than half of the thorax?\n",
            "GT Answer: No\n",
            "VLM Answer: Yes, the width of the heart is wider than half of the thorax.\n",
            "Image: synpic47783.jpg\n",
            "Question: How wide is the cardiac shadow?\n",
            "GT Answer: Less than half the thorax\n",
            "VLM Answer: The cardiac shadow is wide, covering a significant portion of the chest area.\n",
            "Image: synpic31955.jpg\n",
            "Question: Is the diaphragm obscured?\n",
            "GT Answer: No\n",
            "VLM Answer: Yes, the diaphragm is obscured in the image, making it difficult to see the internal structure of the chest.\n",
            "Image: synpic31955.jpg\n",
            "Question: Is the diaphragm clearly visualized on both sides?\n",
            "GT Answer: Yes\n",
            "VLM Answer: No, the diaphragm is not clearly visible on both sides of the chest in the radiographic image.\n",
            "Image: synpic45557.jpg\n",
            "Question: Are nodular calcifications present in the lungs?\n",
            "GT Answer: No\n",
            "VLM Answer: Yes, there are nodular calcifications present in the lungs, as seen in the X-ray image.\n",
            "Image: synpic45557.jpg\n",
            "Question: What lesions are present in the lungs?\n",
            "GT Answer: None\n",
            "VLM Answer: The image shows a black and white x-ray of a person's lungs, and it appears that there is a tumor in the lung.\n",
            "Image: synpic34449.jpg\n",
            "Question: Are the calcifications superior or inferior to the diaphragm?\n",
            "GT Answer: Superior\n",
            "VLM Answer: The diaphragm has superior calcifications to the lungs.\n",
            "Image: synpic34449.jpg\n",
            "Question: Where in the image are the calcifications located?\n",
            "GT Answer: High on the image\n",
            "VLM Answer: The calcium deposits are located in the heart of the image.\n",
            "Image: synpic31962.jpg\n",
            "Question: Where is the aortic arch?\n",
            "GT Answer: Right side\n",
            "VLM Answer: The aortic arch is located in the chest area, just below the ribcage.\n",
            "Image: synpic31962.jpg\n",
            "Question: Which side of the image is the aortic arch visualized?\n",
            "GT Answer: Right side\n",
            "VLM Answer: The aortic arch is visualized on the right side of the image.\n",
            "Image: synpic19477.jpg\n",
            "Question: Where is the lung lesion located?\n",
            "GT Answer: Right lung\n",
            "VLM Answer: The lung lesion is located in the right lung.\n",
            "Image: synpic19477.jpg\n",
            "Question: Which lobe of the lung is the lesion located in?\n",
            "GT Answer: Right upper lobe\n",
            "VLM Answer: The lesion is located in the right upper quadrant of the lung.\n",
            "Image: synpic45557.jpg\n",
            "Question: Do bones appear lighter on this image's modality?\n",
            "GT Answer: yes\n",
            "VLM Answer: Yes, bones appear lighter on this image's modality, which is an X-ray. X-rays are a type of medical imaging that uses electromagnetic radiation to create an image of the bones and other structures in the body. The lighter appearance of the bones in the X-ray image suggests that the density of the bones might be lower than in a typical human body, which can be an indication of certain medical conditions or abnormalities.\n",
            "Image: synpic39532.jpg\n",
            "Question: How many lesions are present in the image?\n",
            "GT Answer: One\n",
            "VLM Answer: There are no visible lesions in the image.\n",
            "Image: synpic39532.jpg\n",
            "Question: Is there more that one lesion present?\n",
            "GT Answer: No\n",
            "VLM Answer: Yes, there are multiple lesions in the chest radiograph.\n",
            "Image: synpic34449.jpg\n",
            "Question: Which side is more clearly visualized?\n",
            "GT Answer: Left\n",
            "VLM Answer: The left side of the chest is more clearly visible in the image.\n",
            "Image: synpic34449.jpg\n",
            "Question: Which lung is clearer?\n",
            "GT Answer: Left\n",
            "VLM Answer: The left lung is clearer in the image.\n",
            "Image: synpic34449.jpg\n",
            "Question: What are the two major organs present in this image?\n",
            "GT Answer: Heart \tlungs\n",
            "VLM Answer: The two major organs present in this image are the lungs and the heart.\n",
            "Image: synpic17664.jpg\n",
            "Question: Is the diaphragm clearly visualized on both sides of the thorax?\n",
            "GT Answer: Yes\n",
            "VLM Answer: No, the diaphragm is not clearly visible on both sides of the thorax. The image is an X-ray of the chest, and the diaphragm is only partially shown on the right side of the thorax.\n",
            "Image: synpic17664.jpg\n",
            "Question: Is the diaphragm obscured?\n",
            "GT Answer: No\n",
            "VLM Answer: Yes, the diaphragm is obscured in the image, making it difficult to see the internal structure of the chest.\n",
            "Image: synpic24390.jpg\n",
            "Question: Is the heart wider than more than half the width of the thorax?\n",
            "GT Answer: No\n",
            "VLM Answer: Yes, the heart is wider than more than half the width of the thorax.\n",
            "Image: synpic24390.jpg\n",
            "Question: How wide is the heart compared to the thorax?\n",
            "GT Answer: It is less than half the width of the thorax\n",
            "VLM Answer: The heart is wider than the thorax, as it is located in the chest cavity and is surrounded by the ribcage.\n",
            "Image: synpic23803.jpg\n",
            "Question: Is there evidence of subdiaphragmatic free air on the left?\n",
            "GT Answer: No\n",
            "VLM Answer: Yes, there is evidence of subdiaphragmatic free air on the left side of the chest in the radiographic image.\n",
            "Image: synpic23803.jpg\n",
            "Question: Is the free air under the left hemidiaphragm pathologic?\n",
            "GT Answer: No\n",
            "VLM Answer: Yes, the free air under the left hemidiaphragm pathologic is observed in the chest radiograph.\n",
            "Image: synpic34449.jpg\n",
            "Question: Is this an AP image?\n",
            "GT Answer: no\n",
            "VLM Answer: No\n",
            "Image: synpic19782.jpg\n",
            "Question: Are calcified lesions present in the lung fields?\n",
            "GT Answer: No\n",
            "VLM Answer: Yes, there are calcium deposits in the lung fields, which are indicative of calcium deposits in the lungs.\n",
            "Image: synpic19782.jpg\n",
            "Question: Is there evidence of large calcified lesions in the lung fields?\n",
            "GT Answer: No\n",
            "VLM Answer: Yes, there is evidence of large calcified lesions in the lung fields, as indicated by the radiographic image.\n",
            "Image: synpic19782.jpg\n",
            "Question: Where is free air trapped subcutaneously in this image?\n",
            "GT Answer: Above the clavicles bilaterally\n",
            "VLM Answer: In the image, free air is trapped subcutaneously between the ribs.\n",
            "Image: synpic19782.jpg\n",
            "Question: Is there free air in the supraclavicular fossae?\n",
            "GT Answer: Yes\n",
            "VLM Answer: Yes, there is free air in the supraclavicular fossae.\n",
            "Image: synpic23053.jpg\n",
            "Question: Is the air under the left hemidiaphragm pathologic?\n",
            "GT Answer: No\n",
            "VLM Answer: Yes, the air under the left hemidiaphragm pathologic, which is a small air bubble, is present in the chest radiograph.\n",
            "Image: synpic23053.jpg\n",
            "Question: Is there free air under the left diaphragm?\n",
            "GT Answer: No\n",
            "VLM Answer: Yes, there is free air under the left diaphragm in the chest radiograph.\n",
            "Image: synpic24390.jpg\n",
            "Question: Is this image of the thorax?\n",
            "GT Answer: yes\n",
            "VLM Answer: Yes, this image is of the thorax, which is the upper part of the chest.\n",
            "Image: synpic39532.jpg\n",
            "Question: Where is the lesion?\n",
            "GT Answer: Right lower lobe\n",
            "VLM Answer: The lesion is located in the lung, specifically in the chest area.\n",
            "Image: synpic39532.jpg\n",
            "Question: Which lung lobe is the lesion present in?\n",
            "GT Answer: Right lower lobe\n",
            "VLM Answer: The lesion is present in the right lung lobe.\n",
            "Image: synpic47783.jpg\n",
            "Question: Where is the aneurysm located?\n",
            "GT Answer: In the thorasic aorta\n",
            "VLM Answer: The aneurysm is located in the chest area, specifically in the left side of the chest.\n",
            "Image: synpic47783.jpg\n",
            "Question: What is the most important abnormality found in this image?\n",
            "GT Answer: Width of aorta\n",
            "VLM Answer: The most important abnormality found in this image is a large, abnormal growth in the center of the chest. This growth is likely a tumor, which could be a cause for concern as it may indicate a serious medical condition or disease. The presence of this tumor would require further investigation and potentially treatment to address the underlying issue.\n",
            "Image: synpic19477.jpg\n",
            "Question: At which rib is the lesion located?\n",
            "GT Answer: 7th rib\n",
            "VLM Answer: The lesion is located in the left ribcage.\n",
            "Image: synpic19477.jpg\n",
            "Question: What rib is the lesion located inferior to?\n",
            "GT Answer: 7th rib\n",
            "VLM Answer: The lesion is located below the left rib.\n",
            "Image: synpic23803.jpg\n",
            "Question: On which side is the cardiac border more obscured?\n",
            "GT Answer: Right\n",
            "VLM Answer: The cardiac border is more obscured on the right side of the chest.\n",
            "Image: synpic23803.jpg\n",
            "Question: Where is the cardiac border more obscured?\n",
            "GT Answer: Right\n",
            "VLM Answer: The cardiac border is more obscured on the left side of the chest.\n",
            "Image: synpic19477.jpg\n",
            "Question: Which side of the cardiac border is more prominent?\n",
            "GT Answer: Left\n",
            "VLM Answer: The left side of the chest is more prominent in the image.\n",
            "Image: synpic19477.jpg\n",
            "Question: Which cardiac border is more prominently visualized?\n",
            "GT Answer: Left\n",
            "VLM Answer: The left ventricular wall is more prominently visualized in the radiographic image.\n",
            "Image: synpic24390.jpg\n",
            "Question: Is this image a CT scan?\n",
            "GT Answer: no\n",
            "VLM Answer: No, this image is not a CT scan. It is an X-ray of a person's chest, which is a common imaging technique used in medical settings to diagnose and treat various conditions related to the lungs and chest area.\n",
            "Image: synpic45557.jpg\n",
            "Question: Are the borders of the heart clearly visualized?\n",
            "GT Answer: yes\n",
            "VLM Answer: No, the borders of the heart are not clearly visible in the image. The image is an X-ray of the chest, which typically shows the ribcage and heart, but the borders of the heart are not clearly distinguishable.\n",
            "Image: synpic13385.jpg\n",
            "Question: Which lung has more extensive infiltration?\n",
            "GT Answer: Left\n",
            "VLM Answer: Right lung has more extensive infiltration.\n",
            "Image: synpic13385.jpg\n",
            "Question: Where are the most infiltrates located?\n",
            "GT Answer: Left lung\n",
            "VLM Answer: The most infiltrates are located in the lungs, as seen in the radiographic image.\n",
            "Image: synpic24390.jpg\n",
            "Question: Is the largest air collection on the patient's left or the right side?\n",
            "GT Answer: Right side\n",
            "VLM Answer: The largest air collection is on the patient's left side.\n",
            "Image: synpic24390.jpg\n",
            "Question: Where is the largest air collection in this image?\n",
            "GT Answer: Right lung base\n",
            "VLM Answer: The largest air collection in this image is in the left lung.\n"
          ]
        }
      ]
    },
    {
      "cell_type": "code",
      "source": [
        "#Perform analysis of Experiment 2\n",
        "#Calculate SBERT Similarity Score, METEOR Score, and F1 Score\n",
        "\n",
        "sbert_model = SentenceTransformer('sentence-transformers/all-MiniLM-L6-v2')\n",
        "total_sim_score = 0\n",
        "\n",
        "binary_answer_ground_truth = []\n",
        "binary_answer_vlm = []\n",
        "binary_answers = [\"yes\", \"no\"]\n",
        "\n",
        "total_meteor_score = 0\n",
        "\n",
        "for entry in results_without_reports.keys():\n",
        "  ground_truth = results_without_reports[entry][1]\n",
        "  vlm_prediction = results_without_reports[entry][2]\n",
        "\n",
        "  #Check if question has binary answer (ie a close ended question) and if so, keep track of ground truth and VLM answers\n",
        "  index = vlm_prediction.find(\",\")\n",
        "  if index != -1 and ground_truth.lower() in binary_answers and vlm_prediction[:index].lower() in binary_answers:\n",
        "    binary_answer_ground_truth.append(ground_truth.lower())\n",
        "    binary_answer_vlm.append(vlm_prediction[:index].lower())\n",
        "\n",
        "  #If answer is incorrect, count similarity as zero manually becasue Sentence Bert does not always think yes is orthogonal to no\n",
        "  if ground_truth.lower() == \"yes\" and vlm_prediction.lower() == \"no\" or ground_truth.lower() == \"no\" and vlm_prediction.lower() == \"yes\":\n",
        "    sim_score = 0\n",
        "\n",
        "  else:\n",
        "    #SBERT Score\n",
        "    ground_truth_embedding = sbert_model.encode(ground_truth)\n",
        "    vlm_prediction_embedding = sbert_model.encode(vlm_prediction)\n",
        "    sim_score = sbert_model.similarity(ground_truth_embedding, vlm_prediction_embedding).item() #returns Tensor so call .item()\n",
        "\n",
        "    #METEOR Score\n",
        "    meteor_score_with = meteor_score([nltk.word_tokenize(ground_truth.lower())], nltk.word_tokenize(vlm_prediction.lower()))\n",
        "    total_meteor_score += meteor_score_with\n",
        "\n",
        "  total_sim_score += sim_score\n",
        "\n",
        "#Display Final Results for Experiment 2\n",
        "avg_sim_score_with = round(total_sim_score / len(results_with_reports), 2)\n",
        "print(f\"Average Similarity Score With Reports: {avg_sim_score_with}\")\n",
        "\n",
        "avg_meteor_score_with = round(total_meteor_score / len(results_with_reports), 2)\n",
        "print(f\"Average METEOR Score With Reports: {avg_meteor_score_with}\")\n",
        "\n",
        "binary_f1_score = round(f1_score(binary_answer_ground_truth, binary_answer_vlm, average=\"binary\", pos_label=\"yes\"), 2)\n",
        "print(f\"Binary F1 Score: {binary_f1_score}\")"
      ],
      "metadata": {
        "colab": {
          "base_uri": "https://localhost:8080/"
        },
        "id": "GCw2cvoUGFTD",
        "outputId": "e34160f4-a4a4-4bec-fce8-cbb2538f91b0"
      },
      "execution_count": null,
      "outputs": [
        {
          "output_type": "stream",
          "name": "stderr",
          "text": [
            "/usr/local/lib/python3.10/dist-packages/transformers/tokenization_utils_base.py:1601: FutureWarning: `clean_up_tokenization_spaces` was not set. It will be set to `True` by default. This behavior will be depracted in transformers v4.45, and will be then set to `False` by default. For more details check this issue: https://github.com/huggingface/transformers/issues/31884\n",
            "  warnings.warn(\n"
          ]
        },
        {
          "output_type": "stream",
          "name": "stdout",
          "text": [
            "Average Similarity Score With Reports: 0.22\n",
            "Average METEOR Score With Reports: 0.1\n",
            "Binary F1 Score: 0.61\n"
          ]
        }
      ]
    },
    {
      "cell_type": "code",
      "source": [
        "#Run this if you want to push the dataset to huggingface hub to visualize it on the Web UI\n",
        "from huggingface_hub import notebook_login\n",
        "\n",
        "notebook_login()"
      ],
      "metadata": {
        "colab": {
          "base_uri": "https://localhost:8080/",
          "height": 145,
          "referenced_widgets": [
            "5dacbba26b3f4d19a7c03dc6d2d289bc",
            "621d4445252c40fdb46be39ea368c74d",
            "5768695418bc4fb2870e91186bbf0168",
            "6bbcbd0ccb6c49db82583e925307eb75",
            "33480bc06e584c2fb2fc1c06b101f7b5",
            "d5d55d9c90104e069bcd25df43a3e06a",
            "24cad20728fa4d1b8612039c377b4bcc",
            "7486a2d8664d485685429df35ab92983",
            "80c1c50cf4ac41068aa785ff69b767d1",
            "a7e9cd37aa544e9da61161a0a28d642b",
            "7cbf4a52a864414aafd61c76b2225fcd",
            "9f3f79ab18b247e3aafcffca84d0ab23",
            "e10bb2564b044c928b58a40440fe8d09",
            "e950c1bb3c094c409fdf40a52c585d66",
            "7ccb89c119444360b5d13429ac34f38c",
            "321cdb7157d04b52a57e4f047a604697",
            "1b3328c01fd7408fa2a6a5f1ada4a90a",
            "970a709dc5184ad8a60b0e81c52e2a91",
            "dae5006917034df0bad3d25fb24c4a1d",
            "b15738f1ee934c41b2b77469870f0c64",
            "8d42dcbf6dfc4b8399df9fcca46b773c",
            "5f0b476998224a4c9a639f1af387e1b8",
            "5966df0823744aa5bd4acab80f402787",
            "7641e00999d24f629dcad9d0fca3ea97",
            "67000cef2bde49c5a760f2a491250ca3",
            "fbc1e26b9f194115afc9dd81f6759057",
            "fde5751c199947c992c789e8792ab31d",
            "28b4bde996f5467a8de1e62276a5d92b",
            "bc1730fe29524ffc9d9ced756c333d1d",
            "1062070c7bf646b5b38dd1db697ed3b7",
            "695ca43336b8419b8112ca802f69aab0",
            "8d543cc2c5cb43e3b4ae51f7f856dfab"
          ]
        },
        "id": "25qiA5fyJ353",
        "outputId": "9817e38c-8577-466f-fa5d-30948b0a6f7c"
      },
      "execution_count": null,
      "outputs": [
        {
          "output_type": "display_data",
          "data": {
            "text/plain": [
              "VBox(children=(HTML(value='<center> <img\\nsrc=https://huggingface.co/front/assets/huggingface_logo-noborder.sv…"
            ],
            "application/vnd.jupyter.widget-view+json": {
              "version_major": 2,
              "version_minor": 0,
              "model_id": "5dacbba26b3f4d19a7c03dc6d2d289bc"
            }
          },
          "metadata": {}
        }
      ]
    },
    {
      "cell_type": "code",
      "source": [
        "#Create formal train and test dataset objects to finetune the VLM\n",
        "\n",
        "#ACKNOWLEDGEMENT OF CREDIT: https://medium.com/google-developer-experts/ml-story-fine-tune-vision-language-model-on-custom-dataset-8e5f5dace7b1\n",
        "  #Utilized this tutorial for guidance on how to convert a dictionary to dataset object and push it to Huggingface Hub for visualization\n",
        "\n",
        "from datasets import Dataset, Image\n",
        "\n",
        "#Enter your HF ID if you want to push the datasets to your HF account for visualization\n",
        "HF_ID = r\"\"\n",
        "\n",
        "#Reverse the image data due to the choice of images used for inferencing in Experiments 1 and 2\n",
        "dataset_dict = {\"ids\": [], \"image_names\": [], \"images\": [], \"questions\": [], \"answers\": []}\n",
        "image_data_copy = copy.deepcopy(image_data)\n",
        "image_data_reversed = image_data_copy[::-1]\n",
        "\n",
        "for i, data_triplet in enumerate(image_data_reversed):\n",
        "  dataset_dict[\"ids\"].append(str(i))\n",
        "  dataset_dict[\"image_names\"].append(str(data_triplet[0]))\n",
        "  dataset_dict[\"images\"].append(str(IMAGE_PATH_PREFIX + data_triplet[0]))\n",
        "  dataset_dict[\"questions\"].append(str(data_triplet[1]))\n",
        "  dataset_dict[\"answers\"].append(str(data_triplet[2]))\n",
        "\n",
        "dataset = Dataset.from_dict(dataset_dict)\n",
        "#Convert all the images to type Image()\n",
        "dataset = dataset.cast_column(\"images\", Image())\n",
        "\n",
        "split_dataset = dataset.train_test_split(test_size=0.2, shuffle=False)\n",
        "\n",
        "#If you want to push to HF Hub, then run the following lines (my default)\n",
        "# split_dataset.push_to_hub(HF_ID)\n",
        "# train_dataset = load_dataset(HF_ID, split=\"train\")\n",
        "# eval_dataset = load_dataset(HF_ID, split=\"test\")\n",
        "\n",
        "#If you dont want to push to HF Hub then run the following lines\n",
        "train_dataset = split_dataset[\"train\"]\n",
        "eval_dataset = split_dataset[\"test\"]"
      ],
      "metadata": {
        "colab": {
          "base_uri": "https://localhost:8080/",
          "height": 298,
          "referenced_widgets": [
            "5309880965ff461aa0735eb10e7e93f7",
            "db2249c15fd64159877a238b7c9e19db",
            "5a93dda6067c42adbf429fe3f6e56c15",
            "86ce25e5e8c94d7abb3ad060122ced42",
            "ac3bf8e713e448fa8960eee16b6ffb12",
            "3073dce3c6ea4e4e84c06e45aa1366a7",
            "4357533a36074ff78f505856200d6a52",
            "41200617b3d6431e88c935ba3c79bec8",
            "1b25f12acd9f4c7cb0d73859c1ad8da4",
            "4acad1f5a3884d10b38ed1dadce7e8e3",
            "ad52362f0ec445dfa7287a5d13c31970",
            "badaa34077d240b4aaeda095dfbdc42e",
            "d375567dbf8f4fa0a22ef9cd55a37501",
            "0508dc95a6994ad48fdeae844d2b01fd",
            "fcb40f030e184f9b86f1b79e7ef845c7",
            "91a25f9d1cfb460082535fbcb056fd67",
            "977dbdf461ef4fbb9dc1ebdc6745df11",
            "988e9b1157184d7b8c7cee4d964e7f99",
            "28077631bd6348d18c1d213d77325e15",
            "adb72f08eff1412eacf281851fac0b05",
            "b29ea71a79ad4355856c858908598111",
            "59798ea2c96243a28ee2ad173f438113",
            "5c720863574745948fd46e9e11de346a",
            "696ed0e66fb54e11abd4f88024e18391",
            "2e8b9835fae24aee9bda6a13d9a7f3ac",
            "bd54157c50c746408d12589c255e1c38",
            "c69a8431a60d4173aae2d489d65d9a6d",
            "73e1885fdd4b471b91797cd2f17b6e09",
            "b0b9fcc4789c4eef933ada8d06d9c49d",
            "0ddc155ea28c44aba8296dc73d26f6fb",
            "0b976056f14d4f6a9abaa16347ee258a",
            "8eca90b52e044b4983293860ae4dcd7d",
            "90d6cc549bef4b73b88ad4aef3979213",
            "85da417566674e8084394879d80e2d1f",
            "dff4684430c749adbd29ec7f0f72194f",
            "1625537e7b304a44820b4ad6829a71bf",
            "8e2c7afafbe54a8ea8b8c85f7e3cac02",
            "4d62b5c7d3e04125a6cf9f2c0afe3203",
            "754df78d767443b18fbd85ce7025264b",
            "68a95dc654d24610b53056c464738e64",
            "026184ca50644bb39d89215e7afb928e",
            "ccd12be006124af099bce35bd429c30e",
            "2105f59c3a5b454aaddddb24488a6e9c",
            "6b452c61a2b54afab71923fbf645f8fe",
            "23a6e5875ad7426ea7781d563eb37b09",
            "7ecacaa8a75b491db209e41f5074573f",
            "c039f69a76fa402e99bb8c6c5e68989e",
            "8086cb70b52143f0bc9048007fb61be8",
            "743805a576f8441eb18ba8f523be6f04",
            "9d0e997cde854433bced0d8992052e1c",
            "b51f21ae926f4fa39d82e4e80423b0c4",
            "e46f8615e6d04785ba09b15e5da9fea8",
            "f0caddc7ee154fe787421cf5d13a8c02",
            "272f5f426d704bcda5539e69c3f1d4c1",
            "9ccd14f7fae843ee875396d1de6cbfb9",
            "680ee286862e4372b699ba93b46937df",
            "2d06d341f55b4869b5128eb2a7343b4d",
            "318eaca1bfce4f84b01b7872470905b8",
            "2f024ca0d69c441b943d20bfcf5e6519",
            "069a898d1f474617a7f2c4e4ffde34c3",
            "72116390993541c5a8ce7b27618234c1",
            "7463ad8fe16c4c428c6cccec47189e4c",
            "5ef9220a7f5c4b97a6e32b70928e381e",
            "6c8c1acdd9d8479ab2a3ed49d4450828",
            "0b446c37e34d4327a2b0e5c70d8d160e",
            "b4632a4a74d84832aa37da9f234540f2"
          ]
        },
        "id": "tPbZsoWuG4JY",
        "outputId": "b5652c7b-ecad-48e9-bbaa-f79f2f603cbc"
      },
      "execution_count": null,
      "outputs": [
        {
          "output_type": "stream",
          "name": "stdout",
          "text": [
            "[['synpic29265.jpg', 'Are the lungs normal appearing?', 'No'], ['synpic29265.jpg', 'Is there evidence of a pneumothorax', 'No'], ['synpic28602.jpg', 'What type of imaging does this not represent?', 'ultrasound'], ['synpic29265.jpg', 'Is this a MRI of the chest?', 'no'], ['synpic28602.jpg', 'What is not pictured in this image?', 'The extremities'], ['synpic28602.jpg', 'Is the trachea midline?', 'yes'], ['synpic28602.jpg', 'Is there evidence of an aortic aneurysm?', 'No'], ['synpic28602.jpg', 'Is there blunting of the costovertebral angles?', 'No'], ['synpic42202.jpg', 'Is there evidence of an aortic aneurysm?', 'yes'], ['synpic42202.jpg', 'Which organ system is abnormal in this image?', 'Cardiovascular'], ['synpic29265.jpg', 'Is there airspace consolidation on the left side?', 'Yes'], ['synpic42202.jpg', 'Is there a pneumothorax?', 'no'], ['synpic29265.jpg', 'Is there a fracture?', 'no'], ['synpic29265.jpg', 'How is the patient oriented?', 'Posterior-Anterior'], ['synpic28602.jpg', 'Is this an anterior posterior image?', 'no'], ['synpic42202.jpg', 'Is there cardiomyopathy?', 'yes'], ['synpic29265.jpg', 'Is there air under the diaphragm?', 'No'], ['synpic42202.jpg', 'What type of image is this?', 'Chest X-ray'], ['synpic42202.jpg', 'Is this an anterior-posterior image', 'no'], ['synpic21776.jpg', 'Are >12 ribs present in the image?', 'Yes'], ['synpic21776.jpg', 'does this represent adequate inspiratory effort?', 'Yes'], ['synpic25821.jpg', 'Is there a rib fracture?', 'No'], ['synpic25821.jpg', 'Is there evidence of any fractures of the ribs?', 'No'], ['synpic25821.jpg', 'Is there any intraparenchymal abnormalities in the lung fields?', 'No'], ['synpic25821.jpg', 'Is there evidence of any abnormalities of the lung parenchyma?', 'No'], ['synpic40272.jpg', 'was the patient positioned appropriately \\twithout tilting?', 'yes'], ['synpic21776.jpg', 'was this taken with good x ray penetration', 'yes'], ['synpic25821.jpg', 'Are there >8 ribs shown in this image?', 'Yes'], ['synpic25821.jpg', 'Are there at least 8 ribs visible for good inspiratory effort?', 'Yes'], ['synpic21776.jpg', 'was this taken in PA position?', 'yes'], ['synpic42245.jpg', 'Are the hilar soft tissue densities symmetric?', 'no'], ['synpic42245.jpg', 'Are the soft tissue densities in the left hilum equivalent in size to the soft tissue densities in the right hilum?', 'no'], ['synpic16174.jpg', 'Is the descending aortic silhouette of normal contour?', 'Yes'], ['synpic16174.jpg', 'Is the descending aortic silhouette of normal contour and size?', 'Yes'], ['synpic16174.jpg', 'Is there tortuosity of the descending aorta?', 'Yes'], ['synpic16174.jpg', 'Is the descending aortic silhouette of normal size?', 'Yes'], ['synpic16174.jpg', 'Is the descending aortic silhouette of normal size?', 'Yes'], ['synpic40272.jpg', 'was this chest x ray taken in PA format?', 'yes'], ['synpic21776.jpg', 'Are lung opacities noted?', 'No'], ['synpic21776.jpg', 'is there evidence of intraparenchymal lung nodules?', 'No'], ['synpic16174.jpg', 'Is the cardiac silhouette less than half the diameter of the diaphragm?', 'Yes'], ['synpic16174.jpg', 'Is the cardiac silhouette within normal size limits?', 'Yes'], ['synpic52767.jpg', 'Is there evidence of a right apical pneumothorax on this chest x-ray?', 'Yes'], ['synpic52767.jpg', 'Is a pneumothorax present near the right lung field?', 'Yes'], ['synpic21776.jpg', 'Is there narrowing of the cardiac contour?', 'Yes'], ['synpic21776.jpg', 'is the cardiac silhouette small/stretched', 'Yes'], ['synpic42245.jpg', 'Are there any fractures in any of the ribs?', 'No'], ['synpic42245.jpg', \"Are any of the patient's ribs fractured?\", 'No'], ['synpic40272.jpg', 'is there evidence of pulmonary edema?', 'no'], ['synpic40272.jpg', 'Is there enlargement of the pulmonary vasculature?', 'no'], ['synpic52767.jpg', 'Is the cardiac contour normal?', 'Yes'], ['synpic52767.jpg', 'Is the cardiac silhouette less than half the lateral diameter of the chest wall?', 'Yes'], ['synpic40272.jpg', 'is it difficult to delineate the left costophrenic angle?', 'yes'], ['synpic40272.jpg', 'Is there blunting of the left costophrenic angle?', 'yes'], ['synpic33422.jpg', 'Is there a left apical pneumothorax?', 'Yes'], ['synpic33422.jpg', 'Is the outline of visceral pleura visible in the upper left lung field?', 'Yes'], ['synpic33422.jpg', 'Has the midline of the mediastinum shifted?', 'No'], ['synpic33422.jpg', 'Is there a mediastinal shift?', 'No'], ['synpic40272.jpg', 'Is the left lung field more radioopaque than the right side?', 'yes'], ['synpic40272.jpg', 'Is the left lung field more white?', 'yes'], ['synpic42245.jpg', 'Are the costophrenic angles sharp?', 'yes'], ['synpic42245.jpg', 'Is there no evidence of blunting of the costophrenic angles?', 'yes'], ['synpic21776.jpg', 'is the lung parenchyma well visualized?', 'yes'], ['synpic40272.jpg', 'are the heart and lungs displayed well in this film', 'yes'], ['synpic18319.jpg', 'Describe the lung abnormalities?', 'Pulmonary nodules'], ['synpic18319.jpg', 'What abnormalities are seen within the lungs?', 'Pulmonary nodules'], ['synpic32933.jpg', 'What is under the right hemidiaphragm?', 'Free air'], ['synpic32933.jpg', 'What is the abnormality by the right hemidiaphragm?', 'Free air'], ['synpic31400.jpg', 'Is this in the posterior anterior plane?', 'yes'], ['synpic31400.jpg', 'Any abnormal findings in the lower lung fields?', 'no'], ['synpic31400.jpg', 'Are the lower lung fields normal?', 'yes'], ['synpic32933.jpg', 'Is the left hemidiaphragm normal?', 'Yes'], ['synpic32933.jpg', 'Is the left hemidiaphragm normal?', 'Yes'], ['synpic49914.jpg', 'Is this a chest x-ray?', 'yes'], ['synpic18461.jpg', 'What kind of image is this?', 'Chest x-ray'], ['synpic31400.jpg', 'where is the cavitary lesion?', 'Right upper lobe'], ['synpic31400.jpg', 'where is the abnormality?', 'Right upper lobe'], ['synpic18461.jpg', 'What organ is primarily evaluated in this image?', 'Lungs'], ['synpic18461.jpg', 'Is this a lateral film?', 'no'], ['synpic31400.jpg', 'Which organ system is imaged?', 'Chest'], ['synpic49914.jpg', 'Is this a study of the chest?', 'yes'], ['synpic49914.jpg', 'Which plane is this image taken?', 'PA'], ['synpic21044.jpg', 'What is abnormal about the hila?', 'Enlarged'], ['synpic21044.jpg', 'Is the hila normal or enlarged?', 'Enlarged'], ['synpic49914.jpg', 'What is happening in the right lung?', 'Volume loss'], ['synpic49914.jpg', 'What is finding in the right lung?', 'Volume loss'], ['synpic18461.jpg', 'Are the lungs normal?', 'No'], ['synpic18461.jpg', 'Is the chest x-ray normal?', 'No'], ['synpic31400.jpg', 'What abnormalities are in the lung apices?', 'Nodular opacities'], ['synpic31400.jpg', 'What is seen in the lung apices?', 'Nodular opacities'], ['synpic18319.jpg', 'What can cause asymmetrical breasts?', 'Prior surgery'], ['synpic18319.jpg', 'Why are the breasts asymmetrical?', 'Prior surgery'], ['synpic49914.jpg', 'Are the lungs normal?', 'No'], ['synpic49914.jpg', 'Is the image study normal?', 'No'], ['synpic21044.jpg', 'How would you describe the aortopulmonary window?', 'middle mogul'], ['synpic21044.jpg', 'What characteristic finding do you see in the aortopulmonary window?', 'middle mogul'], ['synpic21044.jpg', 'Which sign do you see in the aortopulmonary window in this image?', 'middle mogul'], ['synpic49914.jpg', 'Where is the diffuse pleural thickening?', 'Right lung'], ['synpic49914.jpg', 'Which lung is abnormal?', 'Right lung'], ['synpic32933.jpg', 'Is this a normal x ray?', 'No'], ['synpic32933.jpg', 'Is the right hemidiaphragm normal?', 'No'], ['synpic18319.jpg', 'Where is the catheter tip located?', 'Right superior cavoatrial junction'], ['synpic18319.jpg', 'Where does the catheter tip extend into?', 'Right superior cavoatrial junction'], ['synpic31400.jpg', 'What kind of image is this?', 'x-ray'], ['synpic21044.jpg', 'Is the heart abnormal?', 'Yes'], ['synpic21044.jpg', 'Does the heart appear enlarged?', 'Yes'], ['synpic24390.jpg', 'How was this x-ray taken?', 'PA'], ['synpic23803.jpg', 'Which ribs are located near the abnormality seen in this image?', '4th and 5th'], ['synpic23803.jpg', 'What level is the abnormality located at?', 'T5'], ['synpic39532.jpg', 'Are lung markings present in the entire thoracic cavity?', 'Yes'], ['synpic39532.jpg', 'Is there a pneumothorax present?', 'No'], ['synpic17664.jpg', 'Do the lung markings extend to the periphery?', 'Yes'], ['synpic17664.jpg', 'Is a pneumothorax present in this image?', 'No'], ['synpic47783.jpg', 'Does the width of the heart exceed more than half of the thorax?', 'No'], ['synpic47783.jpg', 'How wide is the cardiac shadow?', 'Less than half the thorax'], ['synpic31955.jpg', 'Is the diaphragm obscured?', 'No'], ['synpic31955.jpg', 'Is the diaphragm clearly visualized on both sides?', 'Yes'], ['synpic45557.jpg', 'Are nodular calcifications present in the lungs?', 'No'], ['synpic45557.jpg', 'What lesions are present in the lungs?', 'None'], ['synpic34449.jpg', 'Are the calcifications superior or inferior to the diaphragm?', 'Superior'], ['synpic34449.jpg', 'Where in the image are the calcifications located?', 'High on the image'], ['synpic31962.jpg', 'Where is the aortic arch?', 'Right side'], ['synpic31962.jpg', 'Which side of the image is the aortic arch visualized?', 'Right side'], ['synpic19477.jpg', 'Where is the lung lesion located?', 'Right lung'], ['synpic19477.jpg', 'Which lobe of the lung is the lesion located in?', 'Right upper lobe'], ['synpic45557.jpg', \"Do bones appear lighter on this image's modality?\", 'yes'], ['synpic39532.jpg', 'How many lesions are present in the image?', 'One'], ['synpic39532.jpg', 'Is there more that one lesion present?', 'No'], ['synpic34449.jpg', 'Which side is more clearly visualized?', 'Left'], ['synpic34449.jpg', 'Which lung is clearer?', 'Left'], ['synpic34449.jpg', 'What are the two major organs present in this image?', 'Heart \\tlungs'], ['synpic17664.jpg', 'Is the diaphragm clearly visualized on both sides of the thorax?', 'Yes'], ['synpic17664.jpg', 'Is the diaphragm obscured?', 'No'], ['synpic24390.jpg', 'Is the heart wider than more than half the width of the thorax?', 'No'], ['synpic24390.jpg', 'How wide is the heart compared to the thorax?', 'It is less than half the width of the thorax'], ['synpic23803.jpg', 'Is there evidence of subdiaphragmatic free air on the left?', 'No'], ['synpic23803.jpg', 'Is the free air under the left hemidiaphragm pathologic?', 'No'], ['synpic34449.jpg', 'Is this an AP image?', 'no'], ['synpic19782.jpg', 'Are calcified lesions present in the lung fields?', 'No'], ['synpic19782.jpg', 'Is there evidence of large calcified lesions in the lung fields?', 'No'], ['synpic19782.jpg', 'Where is free air trapped subcutaneously in this image?', 'Above the clavicles bilaterally'], ['synpic19782.jpg', 'Is there free air in the supraclavicular fossae?', 'Yes'], ['synpic23053.jpg', 'Is the air under the left hemidiaphragm pathologic?', 'No'], ['synpic23053.jpg', 'Is there free air under the left diaphragm?', 'No'], ['synpic24390.jpg', 'Is this image of the thorax?', 'yes'], ['synpic39532.jpg', 'Where is the lesion?', 'Right lower lobe'], ['synpic39532.jpg', 'Which lung lobe is the lesion present in?', 'Right lower lobe'], ['synpic47783.jpg', 'Where is the aneurysm located?', 'In the thorasic aorta'], ['synpic47783.jpg', 'What is the most important abnormality found in this image?', 'Width of aorta'], ['synpic19477.jpg', 'At which rib is the lesion located?', '7th rib'], ['synpic19477.jpg', 'What rib is the lesion located inferior to?', '7th rib'], ['synpic23803.jpg', 'On which side is the cardiac border more obscured?', 'Right'], ['synpic23803.jpg', 'Where is the cardiac border more obscured?', 'Right'], ['synpic19477.jpg', 'Which side of the cardiac border is more prominent?', 'Left'], ['synpic19477.jpg', 'Which cardiac border is more prominently visualized?', 'Left'], ['synpic24390.jpg', 'Is this image a CT scan?', 'no'], ['synpic45557.jpg', 'Are the borders of the heart clearly visualized?', 'yes'], ['synpic13385.jpg', 'Which lung has more extensive infiltration?', 'Left'], ['synpic13385.jpg', 'Where are the most infiltrates located?', 'Left lung'], ['synpic24390.jpg', \"Is the largest air collection on the patient's left or the right side?\", 'Right side'], ['synpic24390.jpg', 'Where is the largest air collection in this image?', 'Right lung base'], ['synpic31955.jpg', 'Where is the lesion located?', 'Anterior mediastinum'], ['synpic31955.jpg', 'What is the location of the primary lesion?', 'Right lung hilum'], ['synpic13385.jpg', 'Is the air under the left hemidiaphragm pathologic?', 'No'], ['synpic13385.jpg', 'Is subdiaphragmatic air present on the left side?', 'No'], ['synpic47783.jpg', 'Is there a mass in the right hilum?', 'No'], ['synpic47783.jpg', 'Is there evidence of a mass lesion at the right hilum?', 'No'], ['synpic31962.jpg', 'Is there a fracture on the left 5th rib?', 'No'], ['synpic31962.jpg', 'Is the left fifth rib broken?', 'No'], ['synpic24390.jpg', 'Is subcutaneous air present?', 'No'], ['synpic24390.jpg', 'Is there evidence of subcutaneous air collection?', 'No'], ['synpic45557.jpg', 'Are any ribs in the image fractured?', 'No'], ['synpic45557.jpg', 'Are there any fractures present?', 'No'], ['synpic34449.jpg', 'Where is the subcutaneous air collection?', 'On the right shoulder.'], ['synpic34449.jpg', 'Is there subcutaneous air present in the right neck?', 'Yes'], ['synpic23053.jpg', 'Is the opacity near the left lung apex pathologic?', 'No'], ['synpic23053.jpg', 'What is the opacity near the left lung apex?', 'Pacemaker'], ['synpic13385.jpg', 'What is in the left apex?', 'A bullous lesion'], ['synpic13385.jpg', 'Is a pneumothorax present in the left apex?', 'No'], ['synpic31955.jpg', 'Where is the lesion located?', 'Anterior mediastinum'], ['synpic31955.jpg', 'Which side of the heart border is obscured?', 'Right'], ['synpic34449.jpg', 'How was this image taken?', 'X-ray'], ['synpic23053.jpg', 'Where is the lesion?', 'In the right hilum'], ['synpic23053.jpg', 'Which lobe is the lesion located in?', 'Upper right lobe'], ['synpic45557.jpg', 'Is the heart size in this image smaller or larger than if the image was taken AP?', 'Smaller'], ['synpic31962.jpg', 'Is there any inappropriate air collection in subcutaneous tissue?', 'No'], ['synpic31962.jpg', 'Is subcutaneous air present?', 'No'], ['synpic45557.jpg', 'Where on the image is most obscured?', 'Right lung base'], ['synpic45557.jpg', 'Is the costophrenic angle blunted?', 'Yes'], ['synpic31916.jpg', 'Is this film properly exposed?', 'yes'], ['synpic24538.jpg', 'Is the heart dilated?', 'No'], ['synpic19118.jpg', 'What is this lucency amid densities in the right lung?', 'The right bronchus'], ['synpic52951.jpg', 'In which lobe is the nodule located?', 'Left upper lobe'], ['synpic19118.jpg', 'Are these small opacities in the right lung calcifications?', 'No'], ['synpic52951.jpg', 'Is there any shifting on the path of the trachea?', 'No'], ['synpic24538.jpg', 'Is there consolidation in the lungs?', 'No'], ['synpic52951.jpg', 'What is the organ principally shown in this image?', 'Lung'], ['synpic31916.jpg', \"What is the name of this image's plane?\", 'Posteroanterior'], ['synpic52951.jpg', 'What type of image is this?', 'Plain film x-ray'], ['synpic52951.jpg', 'Is this a solitary nodule?', 'Yes'], ['synpic31916.jpg', 'Is the right lung normal in size?', 'No'], ['synpic19118.jpg', 'Is this a cyst in the left lung?', 'No'], ['synpic31916.jpg', 'What is happening with the path of the trachea?', 'It is shifted to the right'], ['synpic31916.jpg', 'Is the stomach dilated?', 'no'], ['synpic52951.jpg', 'Is this an AP image?', 'no'], ['synpic31916.jpg', 'How do we call these wide undulations along the vertebral column?', 'Scoliosis'], ['synpic24538.jpg', 'To which side is the trachea deviated?', 'Right'], ['synpic33226.jpg', 'Is the heart a normal size?', 'Yes'], ['synpic33226.jpg', 'Is the heart size normal?', 'Yes'], ['synpic50943.jpg', 'Can a pulmonary mass be appreciated?', 'no'], ['synpic50943.jpg', 'Is a pulmonary mass present?', 'no'], ['synpic44865.jpg', 'Is this a solid or cystic lesion?', 'Solid'], ['synpic44865.jpg', 'Is the lesion a solid or cystic lesion?', 'Solid'], ['synpic16810.jpg', 'Is this in the PA plane?', 'yes'], ['synpic50943.jpg', 'Is there anything abnormal about the heart size?', 'Yes'], ['synpic50943.jpg', 'Is the heart enlarged?', 'Yes'], ['synpic28378.jpg', 'Is this patient male or female?', 'Female'], ['synpic28378.jpg', 'What is the likely sex of this patient?', 'Female'], ['synpic33226.jpg', 'Can this image highlight bone fractures (if present)?', 'yes'], ['synpic60423.jpg', 'Can you appreciate a pleural effusion?', 'no'], ['synpic60423.jpg', 'Is a pleural effusion present?', 'no'], ['synpic60423.jpg', 'Is the heart enlarged?', 'No'], ['synpic60423.jpg', 'Is the heart size increased?', 'No'], ['synpic16810.jpg', 'Is this modality safe for pregnant women?', 'No'], ['synpic27402.jpg', 'Is this image sufficient for a diagnosis?', 'No'], ['synpic27402.jpg', 'Is the image enough to diagnose?', 'No'], ['synpic50943.jpg', 'Is there a right-sided pleural effusion?', 'no'], ['synpic50943.jpg', 'Is there an effusion present on the right-side?', 'no'], ['synpic16810.jpg', 'Do you see a pleural effusion?', 'No'], ['synpic16810.jpg', 'Is a pleural effusion present?', 'No'], ['synpic33226.jpg', 'Is a pleural effusion present?', 'No'], ['synpic33226.jpg', 'Is there a pleural effusion?', 'No'], ['synpic31248.jpg', 'Is the heart size abnormal?', 'No'], ['synpic31248.jpg', 'Is the heart enlarged?', 'No'], ['synpic33226.jpg', 'What can be typically visualized in this plane?', 'lungs \\tbony thoracic cavit y\\tmediastinum and great vessels'], ['synpic16810.jpg', 'Can you evaluate the kidneys \\tbladde r\\tor ureters in this image?', 'No'], ['synpic60423.jpg', 'Can you diagnose a pericardial effusion from this image?', 'No'], ['synpic60423.jpg', 'Is this image sufficient to diagnose pericardial effusion?', 'No'], ['synpic28378.jpg', 'Is there a pleural effusion present?', 'No'], ['synpic28378.jpg', 'Is there a pleural effusion', 'No'], ['synpic27402.jpg', 'Did this patient sustain physical damage?', 'no'], ['synpic27402.jpg', 'Do you suspect a physical injury?', 'no'], ['synpic44865.jpg', 'Can you see all of the ribs on the left side?', 'no'], ['synpic44865.jpg', 'Can the left ribs be evaluated?', 'no'], ['synpic31248.jpg', 'Can you appreciate a pleural effusion anywhere?', 'no'], ['synpic31248.jpg', 'Is pleural effusion present?', 'no'], ['synpic33226.jpg', 'Does the left humerus appear to be fractured?', 'No'], ['synpic33226.jpg', 'Is there a fracture of the left humerus?', 'No'], ['synpic33226.jpg', 'Are both lungs abnormally inflated?', 'no'], ['synpic44865.jpg', 'Can a pleural effusion be appreciated on the right side?', 'no'], ['synpic44865.jpg', 'Is there a right-sided pleural effusion?', 'no'], ['synpic22037.jpg', 'Where is the tip of the line?', 'mid left subclavian vein'], ['synpic22037.jpg', 'Where is the tip of the Port-a-Cath catheter located?', 'mid left subclavian vein'], ['synpic32962.jpg', 'Do you see hylar lymphadenopathy in this image?', 'yes'], ['synpic32962.jpg', 'is there hylar lymphadenopathy?', 'yes'], ['synpic32962.jpg', 'Is there a widened mediastinum?', 'Yes'], ['synpic32962.jpg', 'Is the mediastinum wider than normal?', 'Yes'], ['synpic18651.jpg', 'Does this image show heart failure?', 'yes'], ['synpic18651.jpg', 'is this heart failure', 'yes'], ['synpic18651.jpg', 'is the heart enlarged?', 'yes'], ['synpic18651.jpg', 'Is there cardiomegaly?', 'yes'], ['synpic46976.jpg', 'is the heart enlarged?', 'yes'], ['synpic46976.jpg', 'Is there cardiomegaly?', 'yes'], ['synpic32962.jpg', 'Is this coronal plane?', 'yes'], ['synpic46539.jpg', 'Is there fluid in the lung?', 'yes'], ['synpic46539.jpg', 'Is this a pleural effusion', 'yes'], ['synpic51872.jpg', 'Is there a lung mass?', 'yes'], ['synpic51872.jpg', 'Is there a mass in the lung?', 'yes'], ['synpic31259.jpg', 'is there a mass', 'yes'], ['synpic31259.jpg', 'Is a mass present in this xray?', 'yes'], ['synpic18651.jpg', 'Describe the pathology', 'cardiomegaly with pulmonary edema'], ['synpic18651.jpg', 'what is the pathology?', 'cardiomegaly with pulmonary edema'], ['synpic23989.jpg', 'does this constitute a pulmonary pathology?', 'yes'], ['synpic46539.jpg', 'Is this lesion loculated', 'no'], ['synpic46539.jpg', 'Is there loculation of this lesion?', 'no'], ['synpic22037.jpg', 'Is this a standing CXR', 'no'], ['synpic55464.jpg', 'what it causing the widening?', 'mass'], ['synpic55464.jpg', 'What is the widened mediastinum caused by?', 'mass'], ['synpic23989.jpg', 'is this an AP CXR', 'yes'], ['synpic32962.jpg', 'What organ system is the pathology?', 'pulmonary/lymphatic'], ['synpic32962.jpg', 'What is the modality?', 'CXR'], ['synpic22037.jpg', 'is the pulmonary system shown?', 'yes'], ['synpic55464.jpg', 'Is the mediastinum widened?', 'yes'], ['synpic55464.jpg', 'Is there a widened mediastium?', 'yes'], ['synpic23989.jpg', 'What plane is demonstrated?', 'Coronal'], ['synpic51872.jpg', 'what is the location of the cavitary lesion', 'Right upper lobe'], ['synpic51872.jpg', 'Where is the cavitary lesion located?', 'Right upper lobe'], ['synpic46976.jpg', 'are there increased vascular markings', 'yes'], ['synpic46976.jpg', 'Are the vascular markings increased?', 'yes'], ['synpic23989.jpg', 'What is the pathology?', 'Left Apical Pneumothorax'], ['synpic23989.jpg', 'What pathology is shown?', 'Left Apical Pneumothorax'], ['synpic55464.jpg', 'What plane is this film', 'coronal'], ['synpic32962.jpg', 'Doe this image depict an interstitial lung process?', 'yes'], ['synpic32962.jpg', 'Is there an interstitial lung process?', 'yes'], ['synpic55464.jpg', 'Is this a PA film?', 'yes'], ['synpic55464.jpg', 'Does the pathology involve the CV system', 'yes'], ['synpic46976.jpg', 'What is the pathology in this image?', 'cardiomegaly'], ['synpic46976.jpg', 'what pathology is demonstrated?', 'cardiomegaly'], ['synpic22037.jpg', 'Is the chest xray underexposed?', 'yes'], ['synpic22037.jpg', 'Is this image underexposed?', 'yes'], ['synpic31259.jpg', 'This radiograph contains what foreign body?', 'sternotomy wires and surgical clips'], ['synpic31259.jpg', 'what is the foreign body', 'sternotomy wires and surgical clips'], ['synpic22037.jpg', 'what is the plane?', 'coronal'], ['synpic51872.jpg', 'Do you see a cavitary lesion in this chest xray?', 'yes'], ['synpic51872.jpg', 'is there a cavitary lesion?', 'yes'], ['synpic27047.jpg', 'Does this patient have cardiomegaly?', 'No'], ['synpic21042.jpg', 'Is this patient intubated?', 'No'], ['synpic16170.jpg', 'Where is the lesion located?', 'Left mid lung'], ['synpic21042.jpg', 'Is this a PA image?', 'yes'], ['synpic33378.jpg', 'Does this patient have a pneumothorax?', 'Yes'], ['synpic100132.jpg', 'Does this radiograph contain parts of the cardiovascular system?', 'yes'], ['synpic100132.jpg', 'Is the heart enlarged?', 'No'], ['synpic33378.jpg', 'Does this patient have a pleural effusion?', 'No'], ['synpic100132.jpg', 'Was this image taken in the AP or PA plane?', 'PA'], ['synpic28355.jpg', 'Does this patient have a pneumothorax?', 'No'], ['synpic28355.jpg', 'Does this xray show an intubated patient?', 'No'], ['synpic33378.jpg', 'Which side is the pneumothorax on?', 'Right side'], ['synpic21042.jpg', 'Does this image show a pneumothorax?', 'No'], ['synpic100132.jpg', 'Which rib is fractured?', '3rd rib'], ['synpic21042.jpg', 'What type of imaging modality is seen in this image?', 'X-ray plain film'], ['synpic100132.jpg', 'Is this a CT scan?', 'no'], ['synpic21042.jpg', 'What is one organ system seen in this image?', 'Respiratory System'], ['synpic28355.jpg', 'Is this xray suggestive of aortic dissection?', 'No'], ['synpic16170.jpg', 'Does this patient have any fractured ribs?', 'No'], ['synpic27047.jpg', 'What type of imaging modality is this?', 'Xray - plain film'], ['synpic100132.jpg', 'What is the difference between the left and right costophrenic angles?', 'The left costophrenic angle is blunted'], ['synpic27047.jpg', 'Is there a clavicle fracture shown in this radiograph?', 'No'], ['synpic21037.jpg', 'Does this patient have an endotracheal tube placed?', 'No'], ['synpic21037.jpg', 'Does this CXR display pneumoperitoneum?', 'No'], ['synpic21037.jpg', 'Which side of the image is the thoracic mass located on?', 'Left side'], ['synpic21042.jpg', 'Does this image show a pleural effusion?', 'No'], ['synpic16170.jpg', 'Does this patient have pneumomediastinum?', 'No'], ['synpic26248.jpg', 'Diaphragm is elevated on which side?', 'Right'], ['synpic26248.jpg', 'Which side of the diaphragm is elevated?', 'Right'], ['synpic17848.jpg', 'What type of image is this?', 'Chest xray'], ['synpic17848.jpg', 'Is there evidence of pneumothorax?', 'No'], ['synpic17848.jpg', 'Is there a pneumothorax?', 'No'], ['synpic16407.jpg', 'Are the pulmonary arteries enlarged?', 'Yes'], ['synpic16407.jpg', 'Do the pulmonary arteries appear enlarged?', 'Yes'], ['synpic22097.jpg', 'What kind of image is this?', 'chest x Ray'], ['synpic22097.jpg', 'What modality is this?', 'chest x Ray'], ['synpic17848.jpg', 'Are the findings normal?', 'No'], ['synpic17848.jpg', 'Is this a normal image?', 'No'], ['synpic16407.jpg', 'Are the lungs hyperinflated?', 'Yes'], ['synpic16407.jpg', 'Do the lungs appear hyperinflated?', 'Yes'], ['synpic26248.jpg', 'The air fluid level is in which location?', 'Cardiac region'], ['synpic26248.jpg', 'Where is there an air fluid level?', 'Cardiac region'], ['synpic40520.jpg', 'Where is there evidence of a pleural effusion?', 'Right side'], ['synpic40520.jpg', 'Where is the pleural effusion located?', 'Right side'], ['synpic17693.jpg', 'How is the image oriented?', 'PA'], ['synpic17693.jpg', 'What plane is this X-ray in?', 'PA'], ['synpic22097.jpg', 'Which side is abnormal?', 'Left'], ['synpic22097.jpg', 'Which lung has a defect?', 'Left'], ['synpic17848.jpg', 'What organ systems can be evaluated with this image?', 'Respiratory \\tcardia c\\tmusculoskeletal'], ['synpic40520.jpg', 'Is the trachea located normally?', 'Yes'], ['synpic40520.jpg', 'Is the trachea midline?', 'Yes'], ['synpic17848.jpg', 'Is this image best taken on expiration?', 'no'], ['synpic22097.jpg', 'Do you see fluid in the left lung?', 'Yes'], ['synpic22097.jpg', 'Is there fluid in the left lung?', 'Yes'], ['synpic40520.jpg', 'Does the heart appear normal size?', 'No'], ['synpic40520.jpg', 'Is the width of the cardiac silhouette normal?', 'No'], ['synpic16407.jpg', 'What type of image is this?', 'Chest X-ray'], ['synpic16407.jpg', 'What image modality is this?', 'Chest X-ray'], ['synpic26248.jpg', 'What are the hyperdense findings in the mediastinum?', 'Sternal wires'], ['synpic26248.jpg', 'What are seen as hyperdense in the mediastinum of this image?', 'Sternal wires'], ['synpic18896.jpg', \"What is the abnormality seen above the heart on the patient's right side?\", 'right sided aortic arch'], ['synpic18896.jpg', \"what is the bump seen above the heart on the patient's right side?\", 'right sided aortic arch'], ['synpic31394.jpg', 'In what plane is the above taken?', 'PA'], ['synpic32970.jpg', 'Are there any bone fractures present?', 'No'], ['synpic32970.jpg', 'Does the patient have any bone fractures?', 'No'], ['synpic32970.jpg', 'What is the location of the lesion?', 'right lower lateral lung field'], ['synpic32970.jpg', 'Where is the lesion located?', 'right lower lateral lung field'], ['synpic17738.jpg', 'How large is the mass in the right upper quadrant?', '3.4 cm'], ['synpic17738.jpg', 'Size of the mass in the right upper quadrant?', '3.4 cm'], ['synpic27277.jpg', \"Are the patients' ribs symmetric on both sides?\", 'No'], ['synpic27277.jpg', \"Is there symmetry of the patient's ribs on both sides?\", 'No'], ['synpic42805.jpg', 'Is the patient a female or male?', 'Female'], ['synpic42805.jpg', 'What is the biological sex of the patient?', 'Female'], ['synpic31256.jpg', 'Is the heart enlarged?', 'no'], ['synpic31256.jpg', 'Is the heart abnormally large?', 'no'], ['synpic31394.jpg', 'Is this image showing the chest?', 'yes'], ['synpic18896.jpg', 'Imaging modality used to take this image?', 'PA Xray'], ['synpic18896.jpg', 'What imaging modality is used to acquire this picture?', 'PA Xray'], ['synpic31394.jpg', 'Is the image an CT scan?', 'no'], ['synpic17145.jpg', 'Is there a pneumothorax seen in the above image?', 'No'], ['synpic17145.jpg', 'Is there a pneumothorax present?', 'No'], ['synpic31394.jpg', 'Does the heart look enlarged?', 'No'], ['synpic31394.jpg', 'Is the heart enlarged?', 'No'], ['synpic42805.jpg', 'Is the heart larger than normal?', 'No'], ['synpic42805.jpg', 'Is the heart enlarged?', 'No'], ['synpic31256.jpg', 'How was this image taken?', 'X-ray'], ['synpic31256.jpg', 'What imaging modality is seen?', 'X-ray'], ['synpic17738.jpg', 'What organ system is being imaged?', 'Chest'], ['synpic42805.jpg', 'In which lobes do you see a higher density of masses?', 'Upper lobes'], ['synpic42805.jpg', 'Which lobes of the lung contain a higher density of masses?', 'Upper lobes'], ['synpic17738.jpg', 'Is the heart enlarged?', 'No'], ['synpic17738.jpg', 'Is the heart abnormally large?', 'No'], ['synpic17738.jpg', 'Is this a PA film?', 'yes'], ['synpic17738.jpg', 'In which lobe do you see an abnormal mass in the above images?', 'Right upper lobe'], ['synpic17738.jpg', 'Where is the abnormal mass located with respect to the lungs?', 'Right upper lobe'], ['synpic32970.jpg', 'Are there multiple lesions in the chest of the above patient?', 'No'], ['synpic32970.jpg', 'Does this patient have multiple lesions in their chest?', 'No'], ['synpic31256.jpg', 'The azygoesophageal recess is deviated in which direction?', 'right'], ['synpic31256.jpg', 'Which direction is the azygoesophageal recess deviated?', 'right'], ['synpic17145.jpg', 'In which side is the hemidiaphragm elevated?', 'right'], ['synpic17145.jpg', 'Which diaphragm is elevated?', 'right'], ['synpic17738.jpg', 'What imaging modality was used to take this image?', 'Xray'], ['synpic31394.jpg', 'Are the pulmonary nodules diffuse in the chest or lateralized to one side?', 'Diffuse'], ['synpic31394.jpg', 'Is the location of the pulmonary nodules diffuse or lateralized to one side?', 'Diffuse'], ['synpic33481.jpg', 'Are the lesions only in one lobe?', 'No'], ['synpic33481.jpg', 'Are the opacities confined to one lung lobe?', 'No'], ['synpic33331.jpg', 'Is this a mid-sagittal film?', 'no'], ['synpic33429.jpg', 'Is there free air under the diaphragm?', 'No'], ['synpic33429.jpg', 'Is there air in the abdominal cavity?', 'No'], ['synpic16221.jpg', 'Is this an axial image?', 'no'], ['synpic17675.jpg', 'Is there free air under the diaphragm?', 'No'], ['synpic17675.jpg', 'Is subdiaphragmatic free air present?', 'No'], ['synpic33302.jpg', 'Are there any consolidations present in the lungs?', 'No'], ['synpic33302.jpg', 'Are there any pulmonary consolidations?', 'No'], ['synpic16221.jpg', 'Is this patient male or female?', 'Female'], ['synpic16221.jpg', \"What is the patient's gender?\", 'Female'], ['synpic33331.jpg', 'Why are the chostrochondral junctions not seen on this film?', 'Cartilage is not well viewed by x rays'], ['synpic33331.jpg', 'Is the heart shadow abnormally large?', 'No'], ['synpic33331.jpg', 'Is the cardiac silhouette enlarged?', 'No'], ['synpic24350.jpg', 'Is there a pneumothorax?', 'No'], ['synpic24350.jpg', 'Is a pneumothorax present?', 'No'], ['synpic45610.jpg', 'Is the trachea normal?', 'No'], ['synpic45610.jpg', 'Is the trachea midline?', 'Yes'], ['synpic16221.jpg', 'Is there pneumothorax?', 'No'], ['synpic16221.jpg', 'How can you tell there is no pneumothorax present?', 'Lung markings present all the way laterally to the ribs'], ['synpic16221.jpg', 'Why is the right lung most common location for aspirations?', 'The right mainstem bronchus is more in line with the trachea than the left'], ['synpic33429.jpg', 'Is there a pneumothorax present?', 'No'], ['synpic33429.jpg', 'Is there free air in the thorax?', 'No'], ['synpic17675.jpg', 'Are there cilia present at the level of alveoli?', 'no'], ['synpic33331.jpg', 'What is located immediately inferior to the right hemidiaphragm?', 'The liver'], ['synpic33331.jpg', 'Are any of the ribs fractured?', 'No'], ['synpic33331.jpg', 'Are there rib fractures present?', 'No'], ['synpic33481.jpg', 'Does a blocked alveoli cause a V/Q mismatch?', 'yes'], ['synpic33302.jpg', 'What is the air under the left hemidiaphragm?', 'Stomach bubble'], ['synpic33302.jpg', 'What is hyperdensity under the diaphragm on the left?', 'Stomach bubble'], ['synpic33481.jpg', 'What else do you need in order to localize lesions on a CXR?', 'Lateral film as well as PA'], ['synpic16221.jpg', 'Is the trachea deviated from midline?', 'No'], ['synpic16221.jpg', 'Is there tracheal deviation?', 'No'], ['synpic17675.jpg', 'Can x rays be used to identify liver lesions?', 'no'], ['synpic16221.jpg', 'What does the black on an x ray indicate?', 'Air'], ['synpic33481.jpg', 'Are the hemidiaphragms flattened?', 'No'], ['synpic33481.jpg', 'Is the diaphragm flattened on either side', 'No'], ['synpic45610.jpg', 'Is the cardiac silhouette enlarged?', 'No'], ['synpic45610.jpg', 'Is the heart size abnormal', 'No'], ['synpic33481.jpg', 'Can a patient with a metal implant get a CXR?', 'yes'], ['synpic33481.jpg', 'Is the aorta abnormally wide?', 'No'], ['synpic33481.jpg', 'Is the aortic knob widened?', 'No'], ['synpic24350.jpg', 'Is the trachea normal?', 'Yes'], ['synpic24350.jpg', 'Is the trachea midline?', 'Yes'], ['synpic17675.jpg', 'Is there a pneumothorax?', 'No'], ['synpic17675.jpg', 'Is a pneuomothorax present?', 'No'], ['synpic17675.jpg', 'What is better identified on a PA CXR vs a lateral CXR?', 'Right vs left sided pathology'], ['synpic33302.jpg', 'Does this image show a pneumothorax?', 'No'], ['synpic33302.jpg', 'Is there a pneumothorax present?', 'No'], ['synpic26413.jpg', 'Are the clavicles fractured?', 'No'], ['synpic26413.jpg', 'Is a clavicular fracture present?', 'No'], ['synpic24350.jpg', 'Is a pleural effusion present?', 'No'], ['synpic24350.jpg', 'Is there a pleural effusion?', 'No'], ['synpic45610.jpg', 'Are the hemidiaphragms flattened?', 'No'], ['synpic45610.jpg', 'Is the diaphragm flat on either side?', 'No'], ['synpic27646.jpg', 'Is there lymphadenopathy?', 'No'], ['synpic27646.jpg', 'Is lymphadenopathy present?', 'No'], ['synpic31217.jpg', 'Is this an MRI?', 'no'], ['synpic19232.jpg', 'Describe the borders of the lesion.', 'Smooth'], ['synpic19232.jpg', 'How are the borders of the lesion?', 'Smooth'], ['synpic27646.jpg', 'Are there clearly defined cardiac borders in this image?', 'yes'], ['synpic31217.jpg', 'What is the location of the abnormality?', 'Right lung'], ['synpic31217.jpg', 'Where is the abnormality?', 'Right lung'], ['synpic32081.jpg', 'What is the location of the abnormality?', 'Right side of the trachea'], ['synpic32081.jpg', 'Where is the abnormality?', 'Right side of the trachea'], ['synpic31217.jpg', 'Is this an image of normal physiology?', 'No'], ['synpic31217.jpg', 'Is this patient healthy?', 'No'], ['synpic27646.jpg', 'Is there a localized mass?', 'No'], ['synpic27646.jpg', 'Is there a focal mass present?', 'No'], ['synpic18250.jpg', 'Are the airway walls thickened in the bases?', 'Yes'], ['synpic18250.jpg', 'Is there increased airway wall thickening of the bilateral bases?', 'Yes'], ['synpic29263.jpg', 'Is the heart enlarged?', 'No'], ['synpic29263.jpg', 'Is there cardiomegaly?', 'No'], ['synpic31217.jpg', 'Are there abnormalities seen in the lungs?', 'yes'], ['synpic19232.jpg', 'How would you describe the location of the lesion?', 'Retrocardiac'], ['synpic19232.jpg', 'Where is the lesion located?', 'Retrocardiac'], ['synpic31217.jpg', 'Where is the nodule?', 'Below the 7th rib in the right lung.'], ['synpic31217.jpg', 'What is the abnormality?', 'Single lung nodule'], ['synpic18250.jpg', 'Are there abnormalities?', 'Yes'], ['synpic18250.jpg', 'Is anything wrong in this image?', 'Yes'], ['synpic32081.jpg', 'Is anything wrong in the image?', 'Yes'], ['synpic32081.jpg', 'Is there an abnormality?', 'Yes'], ['synpic29263.jpg', 'Are there pulmonary findings?', 'No'], ['synpic29263.jpg', 'Is there any abnormality in the lungs?', 'No'], ['synpic29263.jpg', 'Are there any pulmonary findings?', 'No'], ['synpic29263.jpg', 'Are the lungs affected?', 'No'], ['synpic27646.jpg', 'What plane is seen?', 'PA'], ['synpic31217.jpg', 'Which plane is this image taken in?', 'PA'], ['synpic27646.jpg', 'Is this an MRI?', 'no'], ['synpic27646.jpg', 'How can the distribution in this image be described?', 'Micronodular'], ['synpic27646.jpg', 'What type of distributions is seen on this image?', 'Micronodular'], ['synpic42210.jpg', 'What do the two bright dots represent?', 'nipple location'], ['synpic42210.jpg', 'What are the two hyperlucent inferior dots?', 'nipple location'], ['synpic100176.jpg', 'Is this a PA or AP film?', 'PA'], ['synpic100176.jpg', 'What laterality is this film?', 'PA'], ['synpic52988.jpg', 'Is the heart enlarged?', 'Yes'], ['synpic52988.jpg', 'Is cardiomegaly present?', 'Yes'], ['synpic28987.jpg', 'Is there fluid in the lungs?', 'No'], ['synpic28987.jpg', 'Is a pleural effusion present?', 'No'], ['synpic42210.jpg', 'Is the trachea deviated?', 'yes'], ['synpic42210.jpg', 'Is tracheal deviation present?', 'yes'], ['synpic52988.jpg', 'Are patchy infiltrates depicted?', 'Yes'], ['synpic52988.jpg', 'Are there patchy infiltrates present?', 'Yes'], ['synpic100176.jpg', 'Are the margins of the cardiac silhouette normal?', 'No'], ['synpic100176.jpg', 'Is the heart border normal?', 'No'], ['synpic12210.jpg', 'What imaging modality was used?', 'x-ray'], ['synpic12210.jpg', 'What type of image is this?', 'x-ray'], ['synpic100176.jpg', 'Is there evidence of a pneumoperitoneum?', 'no'], ['synpic100176.jpg', 'Is there free air underneath the diaphragm?', 'no'], ['synpic28987.jpg', 'Is cardiomegaly shown?', 'yes'], ['synpic28987.jpg', 'Is the heart enlarged?', 'yes'], ['synpic12210.jpg', 'What is at the base of the right lung?', 'nodules'], ['synpic12210.jpg', 'What pathology is shown at the lung bases?', 'nodules'], ['synpic42210.jpg', 'Is this a PA film?', 'yes'], ['synpic42210.jpg', 'What image modality is this?', 'X-ray'], ['synpic42210.jpg', 'What are the two humps\" at the base on the image signifying?\"', 'Diaphragm'], ['synpic52988.jpg', 'Blunting of the costophrenic angles indicate what condition?', 'pleural effusion'], ['synpic52988.jpg', 'What does the blunting of the costophrenic angles indicate?', 'pleural effusion'], ['synpic31248.jpg', 'Is there hilar adenopathy?', 'Yes'], ['synpic52988.jpg', 'Is the ET tube properly placed?', 'Yes'], ['synpic52932.jpg', 'What organ system is visualized?', 'chest'], ['synpic15006.jpg', 'Is there cardiomegaly?', 'yes'], ['synpic31962.jpg', 'Is the air under the diaphragm pathologic?', 'No'], ['synpic31962.jpg', 'Is there free air under the diaphragm?', 'No'], ['synpic17664.jpg', 'Is the trachea midline?', 'Yes'], ['synpic17675.jpg', 'Are there any fractures in this image?', 'No'], ['synpic49914.jpg', 'Is there pleural thickening in the R lung?', 'Yes'], ['synpic33102.jpg', 'Is there a pneumothorax?', 'yes'], ['synpic18319.jpg', 'Which lung are the nodules located in?', 'Bilateral'], ['synpic47783.jpg', 'Is the air under the diaphragm pathologic?', 'No'], ['synpic47783.jpg', 'Is there free air under the diaphragm?', 'No'], ['synpic51872.jpg', 'Is this patient intubated?', 'no'], ['synpic676.jpg', 'What modality is used to take this image?', 'XR'], ['synpic27277.jpg', 'Why is the left hemithorax more lucent?', 'decreased muscle bulk'], ['synpic22037.jpg', 'Is there a rib fracture?', 'No'], ['synpic52767.jpg', 'Are there decreased lung markings in the right upper lung field?', 'Yes'], ['synpic40520.jpg', 'Are there increased interstitial markings?', 'Yes'], ['synpic33481.jpg', 'Which lung lobe has the least opacities?', 'Upper left'], ['synpic33331.jpg', 'Which side is the diaphragm more depressed?', 'Left'], ['synpic46976.jpg', 'Is there pneumoperitoneum?', 'no'], ['synpic19477.jpg', 'What do the two small hyperintensities indicate?', 'Yes'], ['synpic24350.jpg', 'Is there cardiac enlargement?', 'Yes'], ['synpic21044.jpg', 'Is there bilateral hilar enlargement?', 'Yes'], ['synpic32933.jpg', 'Where is the abnormality located?', 'R hemidiaphragm'], ['synpic29048.jpg', 'What part of the body does this radiograph show?', 'chest'], ['synpic19782.jpg', 'Are the clavicles fractured?', 'No'], ['synpic31400.jpg', 'Is this an abnormal film?', 'Yes'], ['synpic31400.jpg', 'Is there a cavitary lesion?', 'Yes'], ['synpic31256.jpg', 'Is there a pneumothorax present?', 'No'], ['synpic19232.jpg', 'Is the heart enlarged?', 'Yes'], ['synpic100228.jpg', 'Is there evidence of a pleural effusion?', 'No'], ['synpic28378.jpg', 'What is on the anterior wall of the right chest?', 'Mediport'], ['synpic17145.jpg', 'What type of imaging is this?', 'Xray'], ['synpic13385.jpg', 'Is the trachea midline?', 'Midline'], ['synpic21776.jpg', 'What organ is superimposed on the lung fields?', 'Breasts'], ['synpic17693.jpg', 'Is the image normal?', 'No'], ['synpic16221.jpg', 'Which side is the abnormality on?', 'Right'], ['synpic33302.jpg', 'Is there a calcification on the upper left lobe?', 'No'], ['synpic18461.jpg', 'Which lung has diffuse opacification?', 'Right'], ['synpic18896.jpg', 'What does the abnormal contour of the left hilum suggest in terms of pathology?', 'double arch'], ['synpic31955.jpg', 'Are the clavicles broken?', 'No'], ['synpic17738.jpg', 'The cystic findings in the bilateral apices are consistent with what pathology?', 'emphysema'], ['synpic27646.jpg', 'Is there an air-fluid level?', 'No'], ['synpic27402.jpg', 'IS there anything wrong with the lungs?', 'No'], ['synpic23989.jpg', 'Is there a chest tube placed?', 'No'], ['synpic32081.jpg', 'What is the gender of this patient?', 'Man'], ['synpic12210.jpg', 'Are nodules present in both lungs?', 'yes'], ['synpic18651.jpg', 'Is the heart greater than 50% of the chest diameter', 'yes'], ['synpic42210.jpg', 'Where is the location of the mass?', 'anterior mediastinum'], ['synpic18250.jpg', 'Is there consolidation in the lungs?', 'No'], ['synpic26248.jpg', 'Which orientation is the image acquired?', 'PA'], ['synpic29263.jpg', 'Is there an air-fluid level?', 'No'], ['synpic27655.jpg', 'What imaging modality is used?', 'Xray'], ['synpic31217.jpg', 'Is there a nodule in the left lung?', 'No'], ['synpic23803.jpg', 'Is there a pneumothorax present?', 'Yes'], ['synpic16174.jpg', 'Are there EKG leads on this patient?', 'Yes'], ['synpic26413.jpg', 'Is the stomach visualized here?', 'No'], ['synpic17848.jpg', 'Are the nodules well circumscribed?', 'Yes'], ['synpic23053.jpg', 'Are the ribs broken?', 'No'], ['synpic100176.jpg', 'What modality was used?', 'plain film'], ['synpic33422.jpg', 'Is there adequate inspiration?', 'Yes'], ['synpic38531.jpg', 'Are there rib fractures present?', 'No'], ['synpic32970.jpg', 'Is there air present under the diaphragm?', 'No'], ['synpic50943.jpg', 'Is there an NG tube present?', 'Yes'], ['synpic41667.jpg', 'Is the trachea midline?', 'Yes'], ['synpic39532.jpg', 'Is there free air under the diaphragm?', 'No'], ['synpic42245.jpg', 'Is the cardiac contour normal in shape?', 'Yes'], ['synpic34449.jpg', 'Are there rib fractures present?', 'Yes'], ['synpic44865.jpg', 'Is there a mediastinal shift?', 'Yes'], ['synpic28987.jpg', 'What imaging modality is used?', 'plain film xray'], ['synpic42805.jpg', 'Is there abnormal air present under the diaphragm?', 'No'], ['synpic31394.jpg', 'Is there a pneumothorax present?', 'no'], ['synpic16810.jpg', 'Is there any adenopathy?', 'No'], ['synpic16407.jpg', 'Which side of the lungs are hyperinflated?', 'Bilateral lungs'], ['synpic46539.jpg', 'Is there a fracture of the clavicle?', 'No'], ['synpic59126.jpg', 'Are the bronchial airways enlarged?', 'Yes'], ['synpic22097.jpg', 'What does this represent?', 'hydropneumothorax'], ['synpic40272.jpg', 'Does the patient have a central line placed?', 'Yes'], ['synpic31259.jpg', 'How many masses are there?', 'one'], ['synpic33429.jpg', 'Is the heart too big?', 'No'], ['synpic55464.jpg', 'Is there cardiomegaly?', 'No'], ['synpic60423.jpg', 'Anything abnormal in this image?', 'No'], ['synpic26764.jpg', 'Are the costophrenic angles preserved?', 'Yes'], ['synpic25587.jpg', 'Is the right diaphragm visualized?', 'no'], ['synpic53228.jpg', 'Is there hilar lymphadenopathy?', 'No'], ['synpic51774.jpg', 'Is a pneumothorax present?', 'Yes'], ['synpic25821.jpg', 'Is the gastric bubble shown on the left or right side of the patient?', 'Right side'], ['synpic33226.jpg', 'Is the heart clearly visible?', 'No'], ['synpic32962.jpg', 'Where is the opacity located?', 'Right of the midline, superior to the right hilum'], ['synpic32084.jpg', 'Is there evidence of rib fracture?', 'No'], ['synpic45557.jpg', 'Is the trachea midline?', 'In the midline'], ['synpic19114.jpg', 'Are the findings normal?', 'No'], ['synpic45610.jpg', 'Are there rib fractures present?', 'No'], ['synpic24390.jpg', 'Is the trachea midline?', 'Yes'], ['synpic32084.jpg', 'Are there multiple circumferential opacities located throughout all lung fields?', 'Yes'], ['synpic32084.jpg', 'Does this chest x-ray show signs of diffuse opacities in both right and left lung fields?', 'Yes'], ['synpic38531.jpg', 'Are pleural opacities located on the left, right, or both sides of the lung?', 'Both'], ['synpic38531.jpg', 'Are the pleural opacities bilateral or unilateral?', 'Bilateral'], ['synpic41667.jpg', 'Can you view the colon in this image?', 'yes'], ['synpic100228.jpg', 'What plane was this chest film taken in?', 'AP'], ['synpic100228.jpg', 'Is this an AP or PA film?', 'AP'], ['synpic32084.jpg', 'What type of radiograph is this?', 'Chest radiograph'], ['synpic53228.jpg', 'Is this patient rotated?', 'No'], ['synpic53228.jpg', 'Was the patient positioned inappropriately?', 'No'], ['synpic41667.jpg', 'What structure is seen in the left hemidiaphragmatic area?', 'Sigmoid Flexture of the Colon'], ['synpic41667.jpg', 'What structure is superimposed on the left hemidiaphragm?', 'Sigmoid Flexture of the Colon'], ['synpic32084.jpg', 'Is there right hemidiaphragm elevation?', 'Yes'], ['synpic32084.jpg', 'Is the right hemidiaphragm higher than the left?', 'Yes'], ['synpic59126.jpg', 'Where is the gastric bubble located?', 'Underneath the right hemidiaphragm'], ['synpic59126.jpg', 'Where is the gastric bubble placed?', 'Underneath the right hemidiaphragm'], ['synpic32084.jpg', 'What was this image taken with?', 'X-ray'], ['synpic59126.jpg', 'Is the heart contour backwards?', 'yes'], ['synpic59126.jpg', 'Is the heart contour a mirror image of normal?', 'yes'], ['synpic100228.jpg', 'What is the location of the three circular opacities?', 'Stomach'], ['synpic100228.jpg', 'Where are the three circular opacities located?', 'Stomach'], ['synpic41667.jpg', 'What vein is the central venous catheter located in the patient?', 'Right Subclavian Vein'], ['synpic41667.jpg', 'Where is the central venous catheter placed?', 'Right Subclavian Vein'], ['synpic41667.jpg', 'Is this a chest radiograph?', 'yes'], ['synpic53228.jpg', 'Does the heart border appear normal?', 'Yes'], ['synpic53228.jpg', 'Is there a normal contour of the heart?', 'Yes'], ['synpic41667.jpg', 'Is this an AP or PA film?', 'PA'], ['synpic32084.jpg', 'Is the heart enlarged?', 'No'], ['synpic32084.jpg', 'Is there evidence of cardiomegaly?', 'No'], ['synpic59126.jpg', 'Is this an AP or PA film?', 'PA'], ['synpic59126.jpg', 'How was this film taken?', 'PA'], ['synpic41667.jpg', 'Are the ground glass opacities located more in the apex or base of the lung?', 'Base'], ['synpic41667.jpg', 'What parts of the lung fields contain the most prominent ground glass opacities?', 'Lower lung fields'], ['synpic100228.jpg', 'Is there cardiomegaly?', 'No'], ['synpic100228.jpg', 'Is the heart enlarged?', 'No'], ['synpic26764.jpg', 'Are the lungs hyperinflated?', 'yes'], ['synpic26764.jpg', 'Is there hypoinflation or hyperinflation of the lung', 'Hyperinflation'], ['synpic38531.jpg', 'Does the left hemidiaphragm appear flat?', 'Yes'], ['synpic38531.jpg', 'Is there flattening of the left hemidiaphragm?', 'Yes'], ['synpic32084.jpg', 'Is this a PA film?', 'yes'], ['synpic27655.jpg', 'Is there any costophrenic angle blunting present?', 'No'], ['synpic27655.jpg', 'Is there presence of any costophrenic angle blunting?', 'No'], ['synpic33102.jpg', 'Do you see a pleural effusion?', 'No'], ['synpic33102.jpg', 'Is there a pleural effusion present?', 'No'], ['synpic25587.jpg', 'Is this a pneumonia vs. pleural effusion?', 'pleural effusion'], ['synpic25587.jpg', 'Is a pneumonia or pleural effusion seen in this image?', 'pleural effusion'], ['synpic33102.jpg', 'How was this film taken?', 'PA'], ['synpic25587.jpg', 'On what side of the body is there pathology, and what is it?', 'right sided pleural effusion'], ['synpic25587.jpg', 'What is the pathology?', 'right sided pleural effusion'], ['synpic25587.jpg', 'What pathology is seen int his image? ', 'right sided pleural effusion'], ['synpic25587.jpg', 'What pathology is seen int his image? What side?', 'right sided pleural effusion'], ['synpic25587.jpg', 'On what side of the body is there pathology?', 'right sided pleural effusion'], ['synpic25587.jpg', 'What side is the pathology?', 'right sided pleural effusion'], ['synpic15006.jpg', 'Is there deviation in the trachea?', 'No'], ['synpic15006.jpg', 'Is there tracheal deviation?', 'No'], ['synpic33102.jpg', 'Do you see cardiomegaly?', 'No'], ['synpic33102.jpg', 'Is cardiomegaly present?', 'No'], ['synpic33102.jpg', 'Is this a KUB film?', 'no'], ['synpic15006.jpg', 'Is the heart size abnormal?', 'Yes'], ['synpic25587.jpg', 'Is there any tracheal deviation present?', 'No'], ['synpic25587.jpg', 'Is the trachea deviated in this image?', 'No'], ['synpic29048.jpg', 'The image has an abnormality located where?', 'retrocardiac'], ['synpic29048.jpg', 'Where is the abnormality located in this image?', 'retrocardiac'], ['synpic15006.jpg', 'Are there pleural effusions present?', 'No'], ['synpic15006.jpg', 'Is there presence of pleural effusions in this patient?', 'No'], ['synpic15006.jpg', 'Is this film taken AP?', 'no'], ['synpic33102.jpg', 'Is this a plain film xray?', 'yes'], ['synpic676.jpg', 'Are the costophrenic angles blunted?', 'No'], ['synpic676.jpg', 'Is there any blunting of the costophrenic angle(s)?', 'No'], ['synpic27655.jpg', 'Any tracheal deviation present?', 'No'], ['synpic27655.jpg', 'Is there any presence of tracheal deviation?', 'No'], ['synpic15006.jpg', 'Is this a special kind of X-ray?', 'No'], ['synpic52932.jpg', 'This image is concerning for what lung pathology?', 'pneumonia'], ['synpic52932.jpg', 'What lung pathology is this image concerning for?', 'pneumonia'], ['synpic676.jpg', 'Do you see cardiomegaly?', 'No'], ['synpic676.jpg', 'Is there cardiomegaly present?', 'No'], ['synpic29048.jpg', 'The soft-tissue density seen in this image contains what?', 'Air'], ['synpic29048.jpg', 'What is filling the soft-tissue density seen in this image?', 'Air'], ['synpic16174.jpg', 'Is there evidence of left lung field hyperinflation?', 'Yes'], ['synpic16174.jpg', 'Has the left lung collapsed?', 'Yes'], ['synpic52767.jpg', 'Is there evidence of mediastinal shift?', 'No'], ['synpic52767.jpg', 'Is there a midline shift?', 'No'], ['synpic33422.jpg', 'Is there evidence of hilar enlargement?', 'No'], ['synpic33422.jpg', 'Is there increased lung markings near the hilum?', 'No'], ['synpic18461.jpg', 'What is happening to the right heart border?', 'Partial silhouetting'], ['synpic18461.jpg', 'How would you describe the R heart border?', 'Partial silhouetting'], ['synpic18461.jpg', 'Is the right costophrenic angle sharp?', 'no'], ['synpic18461.jpg', 'Is the right costophrenic angle easily visualized?', 'no'], ['synpic19782.jpg', 'On which side is air under the diaphragm?', 'Right'], ['synpic19782.jpg', \"Is free air present under the patient's left or right hemidiaphragm?\", 'Right'], ['synpic17664.jpg', 'Which lung are more markings present in?', 'Right lung'], ['synpic17664.jpg', 'Where are the most lung markings?', 'Right lung'], ['synpic27402.jpg', 'what test or procedure might reveal the diagnosis?', 'head/neck CT'], ['synpic27402.jpg', 'What can be done to get to a diagnosis?', 'Biopsy'], ['synpic51774.jpg', 'Is the heart displaced?', 'No'], ['synpic51774.jpg', 'Is the heart in the wrong position?', 'No'], ['synpic16810.jpg', 'How do you determine cardiomegaly?', 'If the heart diameter is greater than half the diameter of the thoracic cavity.'], ['synpic16810.jpg', 'How do you determine if the heart is enlarged?', 'C-T ratio'], ['synpic28378.jpg', 'What does tram-track\"-ing indictate?\"', 'Bronchiectasis'], ['synpic28378.jpg', 'What is meant by tram-track?', 'Thickening of bronchi'], ['synpic31248.jpg', 'Is there hyperinflation of the lung(s)?', 'No'], ['synpic31248.jpg', 'Are the lungs increased in size?', 'No'], ['synpic16810.jpg', 'Is there a midline shift?', 'No'], ['synpic16810.jpg', 'Is the trachea shifted?', 'No'], ['synpic51774.jpg', 'What indicates a pleural effusion?', 'costophrenic angle blunting'], ['synpic51774.jpg', 'What is a pleural effusion', 'Fluid in the pleural space'], ['synpic51774.jpg', 'Which way is the trachea deviating in this image?', 'Left'], ['synpic51774.jpg', 'Is the trachea deviated to the right or left?', 'Left'], ['synpic46539.jpg', 'what is the pathology?', 'hydropneumothorax'], ['synpic46539.jpg', 'What is abnormal in this image?', 'hydropneumothorax'], ['synpic22037.jpg', 'What is the foreign body?', 'a catheter'], ['synpic22037.jpg', 'Please identify the foreign body.', 'a catheter'], ['synpic55464.jpg', 'Are the lymph nodes enlarged', 'yes'], ['synpic55464.jpg', 'Is there hilar lymphadenopathy?', 'yes'], ['synpic23989.jpg', 'Is this a tension pneumothorax?', 'No'], ['synpic23989.jpg', 'Does this image show a tension pneumothorax?', 'No'], ['synpic23989.jpg', 'is there tracheal deviation?', 'no'], ['synpic23989.jpg', 'Is the trachea deviated?', 'no'], ['synpic31259.jpg', 'what is the pathology', 'left lobe mass 1.5 x 1.8 cm'], ['synpic31259.jpg', 'What is abnormal in this image?', 'left lobe mass 1.5 x 1.8 cm'], ['synpic19114.jpg', 'Would you expect pleural plaques on other pleural surfaces vs just the hemithoraces?', 'Not sure'], ['synpic19114.jpg', 'Do you expect the patient to have plaques on other pleura as well?', 'Maybe'], ['synpic19114.jpg', 'What are the densities in both mid-lung fields?', 'pleural plaques'], ['synpic19114.jpg', 'What do the densities in the lung fields represent?', 'pleural plaques'], ['synpic17848.jpg', 'What lung are the pulmonary nodules in?', 'Bilateral lungs'], ['synpic17848.jpg', 'Where are the nodules located?', 'Bilateral lungs'], ['synpic19114.jpg', 'Are there any abnormalities with the shape of the aortic arch?', 'No'], ['synpic19114.jpg', 'Is the aortic arch shape abnormal?', 'No'], ['synpic17693.jpg', 'What are the lesions indicative of?', 'Adenopathy'], ['synpic17693.jpg', 'What are the lesions consistent with?', 'Infection'], ['synpic17693.jpg', 'Where are the lesions located?', 'Paratracheal area'], ['synpic17693.jpg', 'Where are the lesions?', 'Paratracheal area'], ['synpic31394.jpg', 'How would you describe the pathology seen in the above image?', 'Rounded, well-defined pulmonary nodules varying in size and pattern'], ['synpic31394.jpg', 'What is the pathology seen in this image?', 'pulmonary nodules'], ['synpic17145.jpg', 'What is the pathology seen above?', 'bilateral pleural effusion'], ['synpic17145.jpg', 'What abnormality is seen in this image?', 'bilateral pleural effusion'], ['synpic18896.jpg', \"Is the patient's heart enlarged?\", 'No'], ['synpic18896.jpg', 'Does the heart look enlarged?', 'No'], ['synpic27277.jpg', 'What organ system is shown in the above image?', 'cardiopulmonary'], ['synpic27277.jpg', 'The image shows what organ system?', 'cardiopulmonary'], ['synpic27277.jpg', 'In what position was the patient in when this image was taken?', 'Semi-upright position'], ['synpic27277.jpg', 'What position is the patient in for this image?', 'Semi-upright position'], ['synpic17675.jpg', 'What indicates there is no pleural effusion present?', 'Sharp costophrenic angles'], ['synpic17675.jpg', 'What sign determines the absence of a pleural effusion?', 'Sharp costophrenic angles'], ['synpic33331.jpg', 'Is the hyperinflation unilateral or bilateral?', 'bilateral'], ['synpic33331.jpg', 'Is the lung hyperinflated on one or both sides?', 'both sides'], ['synpic26413.jpg', 'Are the lines seen on the exterior or interior of the patient?', 'Exterior'], ['synpic26413.jpg', 'Are the lines in the image inside or outside of the patient?', 'Outside'], ['synpic26413.jpg', 'What indicates there is a consolidation in the right lung?', 'blunting of the costophrenic angle, loss of the right hemidiaphragm and right heart border'], ['synpic26413.jpg', 'What is the observed sign of pulmonary consolidation on the right side?', 'blunting of the costophrenic angle, loss of the right hemidiaphragm and right heart border'], ['synpic18250.jpg', 'Name one abnormality in the radiograph.', 'Increased opacity in the left retrocardiac region'], ['synpic18250.jpg', 'What is one abnormality that can be seen in the image?', 'Increased opacity in the left retrocardiac region'], ['synpic32081.jpg', 'What is the abnormality?', 'Right paratracheal mass lesion'], ['synpic32081.jpg', 'What is wrong in this image?', 'Right paratracheal mass lesion'], ['synpic19232.jpg', 'Are the lungs clear?', 'No'], ['synpic19232.jpg', 'Are there lungs free of consolidation?', 'Yes'], ['synpic12210.jpg', 'Do the lungs appear hyperinflated?', 'Yes'], ['synpic12210.jpg', 'Is hyperinflation depicted?', 'Yes'], ['synpic28987.jpg', 'What is wrong with the aortic area?', 'It is enlarged with prominence of the aortic knob'], ['synpic28987.jpg', 'What pathology is shown in the aorta?', 'It is enlarged with prominence of the aortic knob'], ['synpic42210.jpg', 'Is the cardiac silhouette enlarged?', 'Yes'], ['synpic42210.jpg', 'Is cardiomegaly present?', 'Yes'], ['synpic53228.jpg', 'How many ribs are superimposed on the lung fields?', 12], ['synpic53228.jpg', 'How many ribs are present in vertical order on this chest radiograph', 12], ['synpic26764.jpg', 'Is the circular opacity (located in the middle of this image) found on top of the patient or within the patient?', 'On top of the patient'], ['synpic26764.jpg', \"Is the opacity located in the middle of the image inside the patient or superficial to the patient's skin?\", \" superficial to the patient's skin\"], ['synpic38531.jpg', 'Is there decreased aeration at the apex?', 'Yes'], ['synpic38531.jpg', 'Is the apical aeration normal or decreased?', 'Normal'], ['synpic26764.jpg', 'Is this a PA film?', 'Yes'], ['synpic26764.jpg', 'Is this film taken in a PA modality?', 'Yes']]\n",
            "[['synpic26764.jpg', 'Is this film taken in a PA modality?', 'Yes'], ['synpic26764.jpg', 'Is this a PA film?', 'Yes'], ['synpic38531.jpg', 'Is the apical aeration normal or decreased?', 'Normal'], ['synpic38531.jpg', 'Is there decreased aeration at the apex?', 'Yes'], ['synpic26764.jpg', \"Is the opacity located in the middle of the image inside the patient or superficial to the patient's skin?\", \" superficial to the patient's skin\"], ['synpic26764.jpg', 'Is the circular opacity (located in the middle of this image) found on top of the patient or within the patient?', 'On top of the patient'], ['synpic53228.jpg', 'How many ribs are present in vertical order on this chest radiograph', 12], ['synpic53228.jpg', 'How many ribs are superimposed on the lung fields?', 12], ['synpic42210.jpg', 'Is cardiomegaly present?', 'Yes'], ['synpic42210.jpg', 'Is the cardiac silhouette enlarged?', 'Yes'], ['synpic28987.jpg', 'What pathology is shown in the aorta?', 'It is enlarged with prominence of the aortic knob'], ['synpic28987.jpg', 'What is wrong with the aortic area?', 'It is enlarged with prominence of the aortic knob'], ['synpic12210.jpg', 'Is hyperinflation depicted?', 'Yes'], ['synpic12210.jpg', 'Do the lungs appear hyperinflated?', 'Yes'], ['synpic19232.jpg', 'Are there lungs free of consolidation?', 'Yes'], ['synpic19232.jpg', 'Are the lungs clear?', 'No'], ['synpic32081.jpg', 'What is wrong in this image?', 'Right paratracheal mass lesion'], ['synpic32081.jpg', 'What is the abnormality?', 'Right paratracheal mass lesion'], ['synpic18250.jpg', 'What is one abnormality that can be seen in the image?', 'Increased opacity in the left retrocardiac region'], ['synpic18250.jpg', 'Name one abnormality in the radiograph.', 'Increased opacity in the left retrocardiac region'], ['synpic26413.jpg', 'What is the observed sign of pulmonary consolidation on the right side?', 'blunting of the costophrenic angle, loss of the right hemidiaphragm and right heart border'], ['synpic26413.jpg', 'What indicates there is a consolidation in the right lung?', 'blunting of the costophrenic angle, loss of the right hemidiaphragm and right heart border'], ['synpic26413.jpg', 'Are the lines in the image inside or outside of the patient?', 'Outside'], ['synpic26413.jpg', 'Are the lines seen on the exterior or interior of the patient?', 'Exterior'], ['synpic33331.jpg', 'Is the lung hyperinflated on one or both sides?', 'both sides'], ['synpic33331.jpg', 'Is the hyperinflation unilateral or bilateral?', 'bilateral'], ['synpic17675.jpg', 'What sign determines the absence of a pleural effusion?', 'Sharp costophrenic angles'], ['synpic17675.jpg', 'What indicates there is no pleural effusion present?', 'Sharp costophrenic angles'], ['synpic27277.jpg', 'What position is the patient in for this image?', 'Semi-upright position'], ['synpic27277.jpg', 'In what position was the patient in when this image was taken?', 'Semi-upright position'], ['synpic27277.jpg', 'The image shows what organ system?', 'cardiopulmonary'], ['synpic27277.jpg', 'What organ system is shown in the above image?', 'cardiopulmonary'], ['synpic18896.jpg', 'Does the heart look enlarged?', 'No'], ['synpic18896.jpg', \"Is the patient's heart enlarged?\", 'No'], ['synpic17145.jpg', 'What abnormality is seen in this image?', 'bilateral pleural effusion'], ['synpic17145.jpg', 'What is the pathology seen above?', 'bilateral pleural effusion'], ['synpic31394.jpg', 'What is the pathology seen in this image?', 'pulmonary nodules'], ['synpic31394.jpg', 'How would you describe the pathology seen in the above image?', 'Rounded, well-defined pulmonary nodules varying in size and pattern'], ['synpic17693.jpg', 'Where are the lesions?', 'Paratracheal area'], ['synpic17693.jpg', 'Where are the lesions located?', 'Paratracheal area'], ['synpic17693.jpg', 'What are the lesions consistent with?', 'Infection'], ['synpic17693.jpg', 'What are the lesions indicative of?', 'Adenopathy'], ['synpic19114.jpg', 'Is the aortic arch shape abnormal?', 'No'], ['synpic19114.jpg', 'Are there any abnormalities with the shape of the aortic arch?', 'No'], ['synpic17848.jpg', 'Where are the nodules located?', 'Bilateral lungs'], ['synpic17848.jpg', 'What lung are the pulmonary nodules in?', 'Bilateral lungs'], ['synpic19114.jpg', 'What do the densities in the lung fields represent?', 'pleural plaques'], ['synpic19114.jpg', 'What are the densities in both mid-lung fields?', 'pleural plaques'], ['synpic19114.jpg', 'Do you expect the patient to have plaques on other pleura as well?', 'Maybe'], ['synpic19114.jpg', 'Would you expect pleural plaques on other pleural surfaces vs just the hemithoraces?', 'Not sure'], ['synpic31259.jpg', 'What is abnormal in this image?', 'left lobe mass 1.5 x 1.8 cm'], ['synpic31259.jpg', 'what is the pathology', 'left lobe mass 1.5 x 1.8 cm'], ['synpic23989.jpg', 'Is the trachea deviated?', 'no'], ['synpic23989.jpg', 'is there tracheal deviation?', 'no'], ['synpic23989.jpg', 'Does this image show a tension pneumothorax?', 'No'], ['synpic23989.jpg', 'Is this a tension pneumothorax?', 'No'], ['synpic55464.jpg', 'Is there hilar lymphadenopathy?', 'yes'], ['synpic55464.jpg', 'Are the lymph nodes enlarged', 'yes'], ['synpic22037.jpg', 'Please identify the foreign body.', 'a catheter'], ['synpic22037.jpg', 'What is the foreign body?', 'a catheter'], ['synpic46539.jpg', 'What is abnormal in this image?', 'hydropneumothorax'], ['synpic46539.jpg', 'what is the pathology?', 'hydropneumothorax'], ['synpic51774.jpg', 'Is the trachea deviated to the right or left?', 'Left'], ['synpic51774.jpg', 'Which way is the trachea deviating in this image?', 'Left'], ['synpic51774.jpg', 'What is a pleural effusion', 'Fluid in the pleural space'], ['synpic51774.jpg', 'What indicates a pleural effusion?', 'costophrenic angle blunting'], ['synpic16810.jpg', 'Is the trachea shifted?', 'No'], ['synpic16810.jpg', 'Is there a midline shift?', 'No'], ['synpic31248.jpg', 'Are the lungs increased in size?', 'No'], ['synpic31248.jpg', 'Is there hyperinflation of the lung(s)?', 'No'], ['synpic28378.jpg', 'What is meant by tram-track?', 'Thickening of bronchi'], ['synpic28378.jpg', 'What does tram-track\"-ing indictate?\"', 'Bronchiectasis'], ['synpic16810.jpg', 'How do you determine if the heart is enlarged?', 'C-T ratio'], ['synpic16810.jpg', 'How do you determine cardiomegaly?', 'If the heart diameter is greater than half the diameter of the thoracic cavity.'], ['synpic51774.jpg', 'Is the heart in the wrong position?', 'No'], ['synpic51774.jpg', 'Is the heart displaced?', 'No'], ['synpic27402.jpg', 'What can be done to get to a diagnosis?', 'Biopsy'], ['synpic27402.jpg', 'what test or procedure might reveal the diagnosis?', 'head/neck CT'], ['synpic17664.jpg', 'Where are the most lung markings?', 'Right lung'], ['synpic17664.jpg', 'Which lung are more markings present in?', 'Right lung'], ['synpic19782.jpg', \"Is free air present under the patient's left or right hemidiaphragm?\", 'Right'], ['synpic19782.jpg', 'On which side is air under the diaphragm?', 'Right'], ['synpic18461.jpg', 'Is the right costophrenic angle easily visualized?', 'no'], ['synpic18461.jpg', 'Is the right costophrenic angle sharp?', 'no'], ['synpic18461.jpg', 'How would you describe the R heart border?', 'Partial silhouetting'], ['synpic18461.jpg', 'What is happening to the right heart border?', 'Partial silhouetting'], ['synpic33422.jpg', 'Is there increased lung markings near the hilum?', 'No'], ['synpic33422.jpg', 'Is there evidence of hilar enlargement?', 'No'], ['synpic52767.jpg', 'Is there a midline shift?', 'No'], ['synpic52767.jpg', 'Is there evidence of mediastinal shift?', 'No'], ['synpic16174.jpg', 'Has the left lung collapsed?', 'Yes'], ['synpic16174.jpg', 'Is there evidence of left lung field hyperinflation?', 'Yes'], ['synpic29048.jpg', 'What is filling the soft-tissue density seen in this image?', 'Air'], ['synpic29048.jpg', 'The soft-tissue density seen in this image contains what?', 'Air'], ['synpic676.jpg', 'Is there cardiomegaly present?', 'No'], ['synpic676.jpg', 'Do you see cardiomegaly?', 'No'], ['synpic52932.jpg', 'What lung pathology is this image concerning for?', 'pneumonia'], ['synpic52932.jpg', 'This image is concerning for what lung pathology?', 'pneumonia'], ['synpic15006.jpg', 'Is this a special kind of X-ray?', 'No'], ['synpic27655.jpg', 'Is there any presence of tracheal deviation?', 'No'], ['synpic27655.jpg', 'Any tracheal deviation present?', 'No'], ['synpic676.jpg', 'Is there any blunting of the costophrenic angle(s)?', 'No'], ['synpic676.jpg', 'Are the costophrenic angles blunted?', 'No'], ['synpic33102.jpg', 'Is this a plain film xray?', 'yes'], ['synpic15006.jpg', 'Is this film taken AP?', 'no'], ['synpic15006.jpg', 'Is there presence of pleural effusions in this patient?', 'No'], ['synpic15006.jpg', 'Are there pleural effusions present?', 'No'], ['synpic29048.jpg', 'Where is the abnormality located in this image?', 'retrocardiac'], ['synpic29048.jpg', 'The image has an abnormality located where?', 'retrocardiac'], ['synpic25587.jpg', 'Is the trachea deviated in this image?', 'No'], ['synpic25587.jpg', 'Is there any tracheal deviation present?', 'No'], ['synpic15006.jpg', 'Is the heart size abnormal?', 'Yes'], ['synpic33102.jpg', 'Is this a KUB film?', 'no'], ['synpic33102.jpg', 'Is cardiomegaly present?', 'No'], ['synpic33102.jpg', 'Do you see cardiomegaly?', 'No'], ['synpic15006.jpg', 'Is there tracheal deviation?', 'No'], ['synpic15006.jpg', 'Is there deviation in the trachea?', 'No'], ['synpic25587.jpg', 'What side is the pathology?', 'right sided pleural effusion'], ['synpic25587.jpg', 'On what side of the body is there pathology?', 'right sided pleural effusion'], ['synpic25587.jpg', 'What pathology is seen int his image? What side?', 'right sided pleural effusion'], ['synpic25587.jpg', 'What pathology is seen int his image? ', 'right sided pleural effusion'], ['synpic25587.jpg', 'What is the pathology?', 'right sided pleural effusion'], ['synpic25587.jpg', 'On what side of the body is there pathology, and what is it?', 'right sided pleural effusion'], ['synpic33102.jpg', 'How was this film taken?', 'PA'], ['synpic25587.jpg', 'Is a pneumonia or pleural effusion seen in this image?', 'pleural effusion'], ['synpic25587.jpg', 'Is this a pneumonia vs. pleural effusion?', 'pleural effusion'], ['synpic33102.jpg', 'Is there a pleural effusion present?', 'No'], ['synpic33102.jpg', 'Do you see a pleural effusion?', 'No'], ['synpic27655.jpg', 'Is there presence of any costophrenic angle blunting?', 'No'], ['synpic27655.jpg', 'Is there any costophrenic angle blunting present?', 'No'], ['synpic32084.jpg', 'Is this a PA film?', 'yes'], ['synpic38531.jpg', 'Is there flattening of the left hemidiaphragm?', 'Yes'], ['synpic38531.jpg', 'Does the left hemidiaphragm appear flat?', 'Yes'], ['synpic26764.jpg', 'Is there hypoinflation or hyperinflation of the lung', 'Hyperinflation'], ['synpic26764.jpg', 'Are the lungs hyperinflated?', 'yes'], ['synpic100228.jpg', 'Is the heart enlarged?', 'No'], ['synpic100228.jpg', 'Is there cardiomegaly?', 'No'], ['synpic41667.jpg', 'What parts of the lung fields contain the most prominent ground glass opacities?', 'Lower lung fields'], ['synpic41667.jpg', 'Are the ground glass opacities located more in the apex or base of the lung?', 'Base'], ['synpic59126.jpg', 'How was this film taken?', 'PA'], ['synpic59126.jpg', 'Is this an AP or PA film?', 'PA'], ['synpic32084.jpg', 'Is there evidence of cardiomegaly?', 'No'], ['synpic32084.jpg', 'Is the heart enlarged?', 'No'], ['synpic41667.jpg', 'Is this an AP or PA film?', 'PA'], ['synpic53228.jpg', 'Is there a normal contour of the heart?', 'Yes'], ['synpic53228.jpg', 'Does the heart border appear normal?', 'Yes'], ['synpic41667.jpg', 'Is this a chest radiograph?', 'yes'], ['synpic41667.jpg', 'Where is the central venous catheter placed?', 'Right Subclavian Vein'], ['synpic41667.jpg', 'What vein is the central venous catheter located in the patient?', 'Right Subclavian Vein'], ['synpic100228.jpg', 'Where are the three circular opacities located?', 'Stomach'], ['synpic100228.jpg', 'What is the location of the three circular opacities?', 'Stomach'], ['synpic59126.jpg', 'Is the heart contour a mirror image of normal?', 'yes'], ['synpic59126.jpg', 'Is the heart contour backwards?', 'yes'], ['synpic32084.jpg', 'What was this image taken with?', 'X-ray'], ['synpic59126.jpg', 'Where is the gastric bubble placed?', 'Underneath the right hemidiaphragm'], ['synpic59126.jpg', 'Where is the gastric bubble located?', 'Underneath the right hemidiaphragm'], ['synpic32084.jpg', 'Is the right hemidiaphragm higher than the left?', 'Yes'], ['synpic32084.jpg', 'Is there right hemidiaphragm elevation?', 'Yes'], ['synpic41667.jpg', 'What structure is superimposed on the left hemidiaphragm?', 'Sigmoid Flexture of the Colon'], ['synpic41667.jpg', 'What structure is seen in the left hemidiaphragmatic area?', 'Sigmoid Flexture of the Colon'], ['synpic53228.jpg', 'Was the patient positioned inappropriately?', 'No'], ['synpic53228.jpg', 'Is this patient rotated?', 'No'], ['synpic32084.jpg', 'What type of radiograph is this?', 'Chest radiograph'], ['synpic100228.jpg', 'Is this an AP or PA film?', 'AP'], ['synpic100228.jpg', 'What plane was this chest film taken in?', 'AP'], ['synpic41667.jpg', 'Can you view the colon in this image?', 'yes'], ['synpic38531.jpg', 'Are the pleural opacities bilateral or unilateral?', 'Bilateral'], ['synpic38531.jpg', 'Are pleural opacities located on the left, right, or both sides of the lung?', 'Both'], ['synpic32084.jpg', 'Does this chest x-ray show signs of diffuse opacities in both right and left lung fields?', 'Yes'], ['synpic32084.jpg', 'Are there multiple circumferential opacities located throughout all lung fields?', 'Yes'], ['synpic24390.jpg', 'Is the trachea midline?', 'Yes'], ['synpic45610.jpg', 'Are there rib fractures present?', 'No'], ['synpic19114.jpg', 'Are the findings normal?', 'No'], ['synpic45557.jpg', 'Is the trachea midline?', 'In the midline'], ['synpic32084.jpg', 'Is there evidence of rib fracture?', 'No'], ['synpic32962.jpg', 'Where is the opacity located?', 'Right of the midline, superior to the right hilum'], ['synpic33226.jpg', 'Is the heart clearly visible?', 'No'], ['synpic25821.jpg', 'Is the gastric bubble shown on the left or right side of the patient?', 'Right side'], ['synpic51774.jpg', 'Is a pneumothorax present?', 'Yes'], ['synpic53228.jpg', 'Is there hilar lymphadenopathy?', 'No'], ['synpic25587.jpg', 'Is the right diaphragm visualized?', 'no'], ['synpic26764.jpg', 'Are the costophrenic angles preserved?', 'Yes'], ['synpic60423.jpg', 'Anything abnormal in this image?', 'No'], ['synpic55464.jpg', 'Is there cardiomegaly?', 'No'], ['synpic33429.jpg', 'Is the heart too big?', 'No'], ['synpic31259.jpg', 'How many masses are there?', 'one'], ['synpic40272.jpg', 'Does the patient have a central line placed?', 'Yes'], ['synpic22097.jpg', 'What does this represent?', 'hydropneumothorax'], ['synpic59126.jpg', 'Are the bronchial airways enlarged?', 'Yes'], ['synpic46539.jpg', 'Is there a fracture of the clavicle?', 'No'], ['synpic16407.jpg', 'Which side of the lungs are hyperinflated?', 'Bilateral lungs'], ['synpic16810.jpg', 'Is there any adenopathy?', 'No'], ['synpic31394.jpg', 'Is there a pneumothorax present?', 'no'], ['synpic42805.jpg', 'Is there abnormal air present under the diaphragm?', 'No'], ['synpic28987.jpg', 'What imaging modality is used?', 'plain film xray'], ['synpic44865.jpg', 'Is there a mediastinal shift?', 'Yes'], ['synpic34449.jpg', 'Are there rib fractures present?', 'Yes'], ['synpic42245.jpg', 'Is the cardiac contour normal in shape?', 'Yes'], ['synpic39532.jpg', 'Is there free air under the diaphragm?', 'No'], ['synpic41667.jpg', 'Is the trachea midline?', 'Yes'], ['synpic50943.jpg', 'Is there an NG tube present?', 'Yes'], ['synpic32970.jpg', 'Is there air present under the diaphragm?', 'No'], ['synpic38531.jpg', 'Are there rib fractures present?', 'No'], ['synpic33422.jpg', 'Is there adequate inspiration?', 'Yes'], ['synpic100176.jpg', 'What modality was used?', 'plain film'], ['synpic23053.jpg', 'Are the ribs broken?', 'No'], ['synpic17848.jpg', 'Are the nodules well circumscribed?', 'Yes'], ['synpic26413.jpg', 'Is the stomach visualized here?', 'No'], ['synpic16174.jpg', 'Are there EKG leads on this patient?', 'Yes'], ['synpic23803.jpg', 'Is there a pneumothorax present?', 'Yes'], ['synpic31217.jpg', 'Is there a nodule in the left lung?', 'No'], ['synpic27655.jpg', 'What imaging modality is used?', 'Xray'], ['synpic29263.jpg', 'Is there an air-fluid level?', 'No'], ['synpic26248.jpg', 'Which orientation is the image acquired?', 'PA'], ['synpic18250.jpg', 'Is there consolidation in the lungs?', 'No'], ['synpic42210.jpg', 'Where is the location of the mass?', 'anterior mediastinum'], ['synpic18651.jpg', 'Is the heart greater than 50% of the chest diameter', 'yes'], ['synpic12210.jpg', 'Are nodules present in both lungs?', 'yes'], ['synpic32081.jpg', 'What is the gender of this patient?', 'Man'], ['synpic23989.jpg', 'Is there a chest tube placed?', 'No'], ['synpic27402.jpg', 'IS there anything wrong with the lungs?', 'No'], ['synpic27646.jpg', 'Is there an air-fluid level?', 'No'], ['synpic17738.jpg', 'The cystic findings in the bilateral apices are consistent with what pathology?', 'emphysema'], ['synpic31955.jpg', 'Are the clavicles broken?', 'No'], ['synpic18896.jpg', 'What does the abnormal contour of the left hilum suggest in terms of pathology?', 'double arch'], ['synpic18461.jpg', 'Which lung has diffuse opacification?', 'Right'], ['synpic33302.jpg', 'Is there a calcification on the upper left lobe?', 'No'], ['synpic16221.jpg', 'Which side is the abnormality on?', 'Right'], ['synpic17693.jpg', 'Is the image normal?', 'No'], ['synpic21776.jpg', 'What organ is superimposed on the lung fields?', 'Breasts'], ['synpic13385.jpg', 'Is the trachea midline?', 'Midline'], ['synpic17145.jpg', 'What type of imaging is this?', 'Xray'], ['synpic28378.jpg', 'What is on the anterior wall of the right chest?', 'Mediport'], ['synpic100228.jpg', 'Is there evidence of a pleural effusion?', 'No'], ['synpic19232.jpg', 'Is the heart enlarged?', 'Yes'], ['synpic31256.jpg', 'Is there a pneumothorax present?', 'No'], ['synpic31400.jpg', 'Is there a cavitary lesion?', 'Yes'], ['synpic31400.jpg', 'Is this an abnormal film?', 'Yes'], ['synpic19782.jpg', 'Are the clavicles fractured?', 'No'], ['synpic29048.jpg', 'What part of the body does this radiograph show?', 'chest'], ['synpic32933.jpg', 'Where is the abnormality located?', 'R hemidiaphragm'], ['synpic21044.jpg', 'Is there bilateral hilar enlargement?', 'Yes'], ['synpic24350.jpg', 'Is there cardiac enlargement?', 'Yes'], ['synpic19477.jpg', 'What do the two small hyperintensities indicate?', 'Yes'], ['synpic46976.jpg', 'Is there pneumoperitoneum?', 'no'], ['synpic33331.jpg', 'Which side is the diaphragm more depressed?', 'Left'], ['synpic33481.jpg', 'Which lung lobe has the least opacities?', 'Upper left'], ['synpic40520.jpg', 'Are there increased interstitial markings?', 'Yes'], ['synpic52767.jpg', 'Are there decreased lung markings in the right upper lung field?', 'Yes'], ['synpic22037.jpg', 'Is there a rib fracture?', 'No'], ['synpic27277.jpg', 'Why is the left hemithorax more lucent?', 'decreased muscle bulk'], ['synpic676.jpg', 'What modality is used to take this image?', 'XR'], ['synpic51872.jpg', 'Is this patient intubated?', 'no'], ['synpic47783.jpg', 'Is there free air under the diaphragm?', 'No'], ['synpic47783.jpg', 'Is the air under the diaphragm pathologic?', 'No'], ['synpic18319.jpg', 'Which lung are the nodules located in?', 'Bilateral'], ['synpic33102.jpg', 'Is there a pneumothorax?', 'yes'], ['synpic49914.jpg', 'Is there pleural thickening in the R lung?', 'Yes'], ['synpic17675.jpg', 'Are there any fractures in this image?', 'No'], ['synpic17664.jpg', 'Is the trachea midline?', 'Yes'], ['synpic31962.jpg', 'Is there free air under the diaphragm?', 'No'], ['synpic31962.jpg', 'Is the air under the diaphragm pathologic?', 'No'], ['synpic15006.jpg', 'Is there cardiomegaly?', 'yes'], ['synpic52932.jpg', 'What organ system is visualized?', 'chest'], ['synpic52988.jpg', 'Is the ET tube properly placed?', 'Yes'], ['synpic31248.jpg', 'Is there hilar adenopathy?', 'Yes'], ['synpic52988.jpg', 'What does the blunting of the costophrenic angles indicate?', 'pleural effusion'], ['synpic52988.jpg', 'Blunting of the costophrenic angles indicate what condition?', 'pleural effusion'], ['synpic42210.jpg', 'What are the two humps\" at the base on the image signifying?\"', 'Diaphragm'], ['synpic42210.jpg', 'What image modality is this?', 'X-ray'], ['synpic42210.jpg', 'Is this a PA film?', 'yes'], ['synpic12210.jpg', 'What pathology is shown at the lung bases?', 'nodules'], ['synpic12210.jpg', 'What is at the base of the right lung?', 'nodules'], ['synpic28987.jpg', 'Is the heart enlarged?', 'yes'], ['synpic28987.jpg', 'Is cardiomegaly shown?', 'yes'], ['synpic100176.jpg', 'Is there free air underneath the diaphragm?', 'no'], ['synpic100176.jpg', 'Is there evidence of a pneumoperitoneum?', 'no'], ['synpic12210.jpg', 'What type of image is this?', 'x-ray'], ['synpic12210.jpg', 'What imaging modality was used?', 'x-ray'], ['synpic100176.jpg', 'Is the heart border normal?', 'No'], ['synpic100176.jpg', 'Are the margins of the cardiac silhouette normal?', 'No'], ['synpic52988.jpg', 'Are there patchy infiltrates present?', 'Yes'], ['synpic52988.jpg', 'Are patchy infiltrates depicted?', 'Yes'], ['synpic42210.jpg', 'Is tracheal deviation present?', 'yes'], ['synpic42210.jpg', 'Is the trachea deviated?', 'yes'], ['synpic28987.jpg', 'Is a pleural effusion present?', 'No'], ['synpic28987.jpg', 'Is there fluid in the lungs?', 'No'], ['synpic52988.jpg', 'Is cardiomegaly present?', 'Yes'], ['synpic52988.jpg', 'Is the heart enlarged?', 'Yes'], ['synpic100176.jpg', 'What laterality is this film?', 'PA'], ['synpic100176.jpg', 'Is this a PA or AP film?', 'PA'], ['synpic42210.jpg', 'What are the two hyperlucent inferior dots?', 'nipple location'], ['synpic42210.jpg', 'What do the two bright dots represent?', 'nipple location'], ['synpic27646.jpg', 'What type of distributions is seen on this image?', 'Micronodular'], ['synpic27646.jpg', 'How can the distribution in this image be described?', 'Micronodular'], ['synpic27646.jpg', 'Is this an MRI?', 'no'], ['synpic31217.jpg', 'Which plane is this image taken in?', 'PA'], ['synpic27646.jpg', 'What plane is seen?', 'PA'], ['synpic29263.jpg', 'Are the lungs affected?', 'No'], ['synpic29263.jpg', 'Are there any pulmonary findings?', 'No'], ['synpic29263.jpg', 'Is there any abnormality in the lungs?', 'No'], ['synpic29263.jpg', 'Are there pulmonary findings?', 'No'], ['synpic32081.jpg', 'Is there an abnormality?', 'Yes'], ['synpic32081.jpg', 'Is anything wrong in the image?', 'Yes'], ['synpic18250.jpg', 'Is anything wrong in this image?', 'Yes'], ['synpic18250.jpg', 'Are there abnormalities?', 'Yes'], ['synpic31217.jpg', 'What is the abnormality?', 'Single lung nodule'], ['synpic31217.jpg', 'Where is the nodule?', 'Below the 7th rib in the right lung.'], ['synpic19232.jpg', 'Where is the lesion located?', 'Retrocardiac'], ['synpic19232.jpg', 'How would you describe the location of the lesion?', 'Retrocardiac'], ['synpic31217.jpg', 'Are there abnormalities seen in the lungs?', 'yes'], ['synpic29263.jpg', 'Is there cardiomegaly?', 'No'], ['synpic29263.jpg', 'Is the heart enlarged?', 'No'], ['synpic18250.jpg', 'Is there increased airway wall thickening of the bilateral bases?', 'Yes'], ['synpic18250.jpg', 'Are the airway walls thickened in the bases?', 'Yes'], ['synpic27646.jpg', 'Is there a focal mass present?', 'No'], ['synpic27646.jpg', 'Is there a localized mass?', 'No'], ['synpic31217.jpg', 'Is this patient healthy?', 'No'], ['synpic31217.jpg', 'Is this an image of normal physiology?', 'No'], ['synpic32081.jpg', 'Where is the abnormality?', 'Right side of the trachea'], ['synpic32081.jpg', 'What is the location of the abnormality?', 'Right side of the trachea'], ['synpic31217.jpg', 'Where is the abnormality?', 'Right lung'], ['synpic31217.jpg', 'What is the location of the abnormality?', 'Right lung'], ['synpic27646.jpg', 'Are there clearly defined cardiac borders in this image?', 'yes'], ['synpic19232.jpg', 'How are the borders of the lesion?', 'Smooth'], ['synpic19232.jpg', 'Describe the borders of the lesion.', 'Smooth'], ['synpic31217.jpg', 'Is this an MRI?', 'no'], ['synpic27646.jpg', 'Is lymphadenopathy present?', 'No'], ['synpic27646.jpg', 'Is there lymphadenopathy?', 'No'], ['synpic45610.jpg', 'Is the diaphragm flat on either side?', 'No'], ['synpic45610.jpg', 'Are the hemidiaphragms flattened?', 'No'], ['synpic24350.jpg', 'Is there a pleural effusion?', 'No'], ['synpic24350.jpg', 'Is a pleural effusion present?', 'No'], ['synpic26413.jpg', 'Is a clavicular fracture present?', 'No'], ['synpic26413.jpg', 'Are the clavicles fractured?', 'No'], ['synpic33302.jpg', 'Is there a pneumothorax present?', 'No'], ['synpic33302.jpg', 'Does this image show a pneumothorax?', 'No'], ['synpic17675.jpg', 'What is better identified on a PA CXR vs a lateral CXR?', 'Right vs left sided pathology'], ['synpic17675.jpg', 'Is a pneuomothorax present?', 'No'], ['synpic17675.jpg', 'Is there a pneumothorax?', 'No'], ['synpic24350.jpg', 'Is the trachea midline?', 'Yes'], ['synpic24350.jpg', 'Is the trachea normal?', 'Yes'], ['synpic33481.jpg', 'Is the aortic knob widened?', 'No'], ['synpic33481.jpg', 'Is the aorta abnormally wide?', 'No'], ['synpic33481.jpg', 'Can a patient with a metal implant get a CXR?', 'yes'], ['synpic45610.jpg', 'Is the heart size abnormal', 'No'], ['synpic45610.jpg', 'Is the cardiac silhouette enlarged?', 'No'], ['synpic33481.jpg', 'Is the diaphragm flattened on either side', 'No'], ['synpic33481.jpg', 'Are the hemidiaphragms flattened?', 'No'], ['synpic16221.jpg', 'What does the black on an x ray indicate?', 'Air'], ['synpic17675.jpg', 'Can x rays be used to identify liver lesions?', 'no'], ['synpic16221.jpg', 'Is there tracheal deviation?', 'No'], ['synpic16221.jpg', 'Is the trachea deviated from midline?', 'No'], ['synpic33481.jpg', 'What else do you need in order to localize lesions on a CXR?', 'Lateral film as well as PA'], ['synpic33302.jpg', 'What is hyperdensity under the diaphragm on the left?', 'Stomach bubble'], ['synpic33302.jpg', 'What is the air under the left hemidiaphragm?', 'Stomach bubble'], ['synpic33481.jpg', 'Does a blocked alveoli cause a V/Q mismatch?', 'yes'], ['synpic33331.jpg', 'Are there rib fractures present?', 'No'], ['synpic33331.jpg', 'Are any of the ribs fractured?', 'No'], ['synpic33331.jpg', 'What is located immediately inferior to the right hemidiaphragm?', 'The liver'], ['synpic17675.jpg', 'Are there cilia present at the level of alveoli?', 'no'], ['synpic33429.jpg', 'Is there free air in the thorax?', 'No'], ['synpic33429.jpg', 'Is there a pneumothorax present?', 'No'], ['synpic16221.jpg', 'Why is the right lung most common location for aspirations?', 'The right mainstem bronchus is more in line with the trachea than the left'], ['synpic16221.jpg', 'How can you tell there is no pneumothorax present?', 'Lung markings present all the way laterally to the ribs'], ['synpic16221.jpg', 'Is there pneumothorax?', 'No'], ['synpic45610.jpg', 'Is the trachea midline?', 'Yes'], ['synpic45610.jpg', 'Is the trachea normal?', 'No'], ['synpic24350.jpg', 'Is a pneumothorax present?', 'No'], ['synpic24350.jpg', 'Is there a pneumothorax?', 'No'], ['synpic33331.jpg', 'Is the cardiac silhouette enlarged?', 'No'], ['synpic33331.jpg', 'Is the heart shadow abnormally large?', 'No'], ['synpic33331.jpg', 'Why are the chostrochondral junctions not seen on this film?', 'Cartilage is not well viewed by x rays'], ['synpic16221.jpg', \"What is the patient's gender?\", 'Female'], ['synpic16221.jpg', 'Is this patient male or female?', 'Female'], ['synpic33302.jpg', 'Are there any pulmonary consolidations?', 'No'], ['synpic33302.jpg', 'Are there any consolidations present in the lungs?', 'No'], ['synpic17675.jpg', 'Is subdiaphragmatic free air present?', 'No'], ['synpic17675.jpg', 'Is there free air under the diaphragm?', 'No'], ['synpic16221.jpg', 'Is this an axial image?', 'no'], ['synpic33429.jpg', 'Is there air in the abdominal cavity?', 'No'], ['synpic33429.jpg', 'Is there free air under the diaphragm?', 'No'], ['synpic33331.jpg', 'Is this a mid-sagittal film?', 'no'], ['synpic33481.jpg', 'Are the opacities confined to one lung lobe?', 'No'], ['synpic33481.jpg', 'Are the lesions only in one lobe?', 'No'], ['synpic31394.jpg', 'Is the location of the pulmonary nodules diffuse or lateralized to one side?', 'Diffuse'], ['synpic31394.jpg', 'Are the pulmonary nodules diffuse in the chest or lateralized to one side?', 'Diffuse'], ['synpic17738.jpg', 'What imaging modality was used to take this image?', 'Xray'], ['synpic17145.jpg', 'Which diaphragm is elevated?', 'right'], ['synpic17145.jpg', 'In which side is the hemidiaphragm elevated?', 'right'], ['synpic31256.jpg', 'Which direction is the azygoesophageal recess deviated?', 'right'], ['synpic31256.jpg', 'The azygoesophageal recess is deviated in which direction?', 'right'], ['synpic32970.jpg', 'Does this patient have multiple lesions in their chest?', 'No'], ['synpic32970.jpg', 'Are there multiple lesions in the chest of the above patient?', 'No'], ['synpic17738.jpg', 'Where is the abnormal mass located with respect to the lungs?', 'Right upper lobe'], ['synpic17738.jpg', 'In which lobe do you see an abnormal mass in the above images?', 'Right upper lobe'], ['synpic17738.jpg', 'Is this a PA film?', 'yes'], ['synpic17738.jpg', 'Is the heart abnormally large?', 'No'], ['synpic17738.jpg', 'Is the heart enlarged?', 'No'], ['synpic42805.jpg', 'Which lobes of the lung contain a higher density of masses?', 'Upper lobes'], ['synpic42805.jpg', 'In which lobes do you see a higher density of masses?', 'Upper lobes'], ['synpic17738.jpg', 'What organ system is being imaged?', 'Chest'], ['synpic31256.jpg', 'What imaging modality is seen?', 'X-ray'], ['synpic31256.jpg', 'How was this image taken?', 'X-ray'], ['synpic42805.jpg', 'Is the heart enlarged?', 'No'], ['synpic42805.jpg', 'Is the heart larger than normal?', 'No'], ['synpic31394.jpg', 'Is the heart enlarged?', 'No'], ['synpic31394.jpg', 'Does the heart look enlarged?', 'No'], ['synpic17145.jpg', 'Is there a pneumothorax present?', 'No'], ['synpic17145.jpg', 'Is there a pneumothorax seen in the above image?', 'No'], ['synpic31394.jpg', 'Is the image an CT scan?', 'no'], ['synpic18896.jpg', 'What imaging modality is used to acquire this picture?', 'PA Xray'], ['synpic18896.jpg', 'Imaging modality used to take this image?', 'PA Xray'], ['synpic31394.jpg', 'Is this image showing the chest?', 'yes'], ['synpic31256.jpg', 'Is the heart abnormally large?', 'no'], ['synpic31256.jpg', 'Is the heart enlarged?', 'no'], ['synpic42805.jpg', 'What is the biological sex of the patient?', 'Female'], ['synpic42805.jpg', 'Is the patient a female or male?', 'Female'], ['synpic27277.jpg', \"Is there symmetry of the patient's ribs on both sides?\", 'No'], ['synpic27277.jpg', \"Are the patients' ribs symmetric on both sides?\", 'No'], ['synpic17738.jpg', 'Size of the mass in the right upper quadrant?', '3.4 cm'], ['synpic17738.jpg', 'How large is the mass in the right upper quadrant?', '3.4 cm'], ['synpic32970.jpg', 'Where is the lesion located?', 'right lower lateral lung field'], ['synpic32970.jpg', 'What is the location of the lesion?', 'right lower lateral lung field'], ['synpic32970.jpg', 'Does the patient have any bone fractures?', 'No'], ['synpic32970.jpg', 'Are there any bone fractures present?', 'No'], ['synpic31394.jpg', 'In what plane is the above taken?', 'PA'], ['synpic18896.jpg', \"what is the bump seen above the heart on the patient's right side?\", 'right sided aortic arch'], ['synpic18896.jpg', \"What is the abnormality seen above the heart on the patient's right side?\", 'right sided aortic arch'], ['synpic26248.jpg', 'What are seen as hyperdense in the mediastinum of this image?', 'Sternal wires'], ['synpic26248.jpg', 'What are the hyperdense findings in the mediastinum?', 'Sternal wires'], ['synpic16407.jpg', 'What image modality is this?', 'Chest X-ray'], ['synpic16407.jpg', 'What type of image is this?', 'Chest X-ray'], ['synpic40520.jpg', 'Is the width of the cardiac silhouette normal?', 'No'], ['synpic40520.jpg', 'Does the heart appear normal size?', 'No'], ['synpic22097.jpg', 'Is there fluid in the left lung?', 'Yes'], ['synpic22097.jpg', 'Do you see fluid in the left lung?', 'Yes'], ['synpic17848.jpg', 'Is this image best taken on expiration?', 'no'], ['synpic40520.jpg', 'Is the trachea midline?', 'Yes'], ['synpic40520.jpg', 'Is the trachea located normally?', 'Yes'], ['synpic17848.jpg', 'What organ systems can be evaluated with this image?', 'Respiratory \\tcardia c\\tmusculoskeletal'], ['synpic22097.jpg', 'Which lung has a defect?', 'Left'], ['synpic22097.jpg', 'Which side is abnormal?', 'Left'], ['synpic17693.jpg', 'What plane is this X-ray in?', 'PA'], ['synpic17693.jpg', 'How is the image oriented?', 'PA'], ['synpic40520.jpg', 'Where is the pleural effusion located?', 'Right side'], ['synpic40520.jpg', 'Where is there evidence of a pleural effusion?', 'Right side'], ['synpic26248.jpg', 'Where is there an air fluid level?', 'Cardiac region'], ['synpic26248.jpg', 'The air fluid level is in which location?', 'Cardiac region'], ['synpic16407.jpg', 'Do the lungs appear hyperinflated?', 'Yes'], ['synpic16407.jpg', 'Are the lungs hyperinflated?', 'Yes'], ['synpic17848.jpg', 'Is this a normal image?', 'No'], ['synpic17848.jpg', 'Are the findings normal?', 'No'], ['synpic22097.jpg', 'What modality is this?', 'chest x Ray'], ['synpic22097.jpg', 'What kind of image is this?', 'chest x Ray'], ['synpic16407.jpg', 'Do the pulmonary arteries appear enlarged?', 'Yes'], ['synpic16407.jpg', 'Are the pulmonary arteries enlarged?', 'Yes'], ['synpic17848.jpg', 'Is there a pneumothorax?', 'No'], ['synpic17848.jpg', 'Is there evidence of pneumothorax?', 'No'], ['synpic17848.jpg', 'What type of image is this?', 'Chest xray'], ['synpic26248.jpg', 'Which side of the diaphragm is elevated?', 'Right'], ['synpic26248.jpg', 'Diaphragm is elevated on which side?', 'Right'], ['synpic16170.jpg', 'Does this patient have pneumomediastinum?', 'No'], ['synpic21042.jpg', 'Does this image show a pleural effusion?', 'No'], ['synpic21037.jpg', 'Which side of the image is the thoracic mass located on?', 'Left side'], ['synpic21037.jpg', 'Does this CXR display pneumoperitoneum?', 'No'], ['synpic21037.jpg', 'Does this patient have an endotracheal tube placed?', 'No'], ['synpic27047.jpg', 'Is there a clavicle fracture shown in this radiograph?', 'No'], ['synpic100132.jpg', 'What is the difference between the left and right costophrenic angles?', 'The left costophrenic angle is blunted'], ['synpic27047.jpg', 'What type of imaging modality is this?', 'Xray - plain film'], ['synpic16170.jpg', 'Does this patient have any fractured ribs?', 'No'], ['synpic28355.jpg', 'Is this xray suggestive of aortic dissection?', 'No'], ['synpic21042.jpg', 'What is one organ system seen in this image?', 'Respiratory System'], ['synpic100132.jpg', 'Is this a CT scan?', 'no'], ['synpic21042.jpg', 'What type of imaging modality is seen in this image?', 'X-ray plain film'], ['synpic100132.jpg', 'Which rib is fractured?', '3rd rib'], ['synpic21042.jpg', 'Does this image show a pneumothorax?', 'No'], ['synpic33378.jpg', 'Which side is the pneumothorax on?', 'Right side'], ['synpic28355.jpg', 'Does this xray show an intubated patient?', 'No'], ['synpic28355.jpg', 'Does this patient have a pneumothorax?', 'No'], ['synpic100132.jpg', 'Was this image taken in the AP or PA plane?', 'PA'], ['synpic33378.jpg', 'Does this patient have a pleural effusion?', 'No'], ['synpic100132.jpg', 'Is the heart enlarged?', 'No'], ['synpic100132.jpg', 'Does this radiograph contain parts of the cardiovascular system?', 'yes'], ['synpic33378.jpg', 'Does this patient have a pneumothorax?', 'Yes'], ['synpic21042.jpg', 'Is this a PA image?', 'yes'], ['synpic16170.jpg', 'Where is the lesion located?', 'Left mid lung'], ['synpic21042.jpg', 'Is this patient intubated?', 'No'], ['synpic27047.jpg', 'Does this patient have cardiomegaly?', 'No'], ['synpic51872.jpg', 'is there a cavitary lesion?', 'yes'], ['synpic51872.jpg', 'Do you see a cavitary lesion in this chest xray?', 'yes'], ['synpic22037.jpg', 'what is the plane?', 'coronal'], ['synpic31259.jpg', 'what is the foreign body', 'sternotomy wires and surgical clips'], ['synpic31259.jpg', 'This radiograph contains what foreign body?', 'sternotomy wires and surgical clips'], ['synpic22037.jpg', 'Is this image underexposed?', 'yes'], ['synpic22037.jpg', 'Is the chest xray underexposed?', 'yes'], ['synpic46976.jpg', 'what pathology is demonstrated?', 'cardiomegaly'], ['synpic46976.jpg', 'What is the pathology in this image?', 'cardiomegaly'], ['synpic55464.jpg', 'Does the pathology involve the CV system', 'yes'], ['synpic55464.jpg', 'Is this a PA film?', 'yes'], ['synpic32962.jpg', 'Is there an interstitial lung process?', 'yes'], ['synpic32962.jpg', 'Doe this image depict an interstitial lung process?', 'yes'], ['synpic55464.jpg', 'What plane is this film', 'coronal'], ['synpic23989.jpg', 'What pathology is shown?', 'Left Apical Pneumothorax'], ['synpic23989.jpg', 'What is the pathology?', 'Left Apical Pneumothorax'], ['synpic46976.jpg', 'Are the vascular markings increased?', 'yes'], ['synpic46976.jpg', 'are there increased vascular markings', 'yes'], ['synpic51872.jpg', 'Where is the cavitary lesion located?', 'Right upper lobe'], ['synpic51872.jpg', 'what is the location of the cavitary lesion', 'Right upper lobe'], ['synpic23989.jpg', 'What plane is demonstrated?', 'Coronal'], ['synpic55464.jpg', 'Is there a widened mediastium?', 'yes'], ['synpic55464.jpg', 'Is the mediastinum widened?', 'yes'], ['synpic22037.jpg', 'is the pulmonary system shown?', 'yes'], ['synpic32962.jpg', 'What is the modality?', 'CXR'], ['synpic32962.jpg', 'What organ system is the pathology?', 'pulmonary/lymphatic'], ['synpic23989.jpg', 'is this an AP CXR', 'yes'], ['synpic55464.jpg', 'What is the widened mediastinum caused by?', 'mass'], ['synpic55464.jpg', 'what it causing the widening?', 'mass'], ['synpic22037.jpg', 'Is this a standing CXR', 'no'], ['synpic46539.jpg', 'Is there loculation of this lesion?', 'no'], ['synpic46539.jpg', 'Is this lesion loculated', 'no'], ['synpic23989.jpg', 'does this constitute a pulmonary pathology?', 'yes'], ['synpic18651.jpg', 'what is the pathology?', 'cardiomegaly with pulmonary edema'], ['synpic18651.jpg', 'Describe the pathology', 'cardiomegaly with pulmonary edema'], ['synpic31259.jpg', 'Is a mass present in this xray?', 'yes'], ['synpic31259.jpg', 'is there a mass', 'yes'], ['synpic51872.jpg', 'Is there a mass in the lung?', 'yes'], ['synpic51872.jpg', 'Is there a lung mass?', 'yes'], ['synpic46539.jpg', 'Is this a pleural effusion', 'yes'], ['synpic46539.jpg', 'Is there fluid in the lung?', 'yes'], ['synpic32962.jpg', 'Is this coronal plane?', 'yes'], ['synpic46976.jpg', 'Is there cardiomegaly?', 'yes'], ['synpic46976.jpg', 'is the heart enlarged?', 'yes'], ['synpic18651.jpg', 'Is there cardiomegaly?', 'yes'], ['synpic18651.jpg', 'is the heart enlarged?', 'yes'], ['synpic18651.jpg', 'is this heart failure', 'yes'], ['synpic18651.jpg', 'Does this image show heart failure?', 'yes'], ['synpic32962.jpg', 'Is the mediastinum wider than normal?', 'Yes'], ['synpic32962.jpg', 'Is there a widened mediastinum?', 'Yes'], ['synpic32962.jpg', 'is there hylar lymphadenopathy?', 'yes'], ['synpic32962.jpg', 'Do you see hylar lymphadenopathy in this image?', 'yes'], ['synpic22037.jpg', 'Where is the tip of the Port-a-Cath catheter located?', 'mid left subclavian vein'], ['synpic22037.jpg', 'Where is the tip of the line?', 'mid left subclavian vein'], ['synpic44865.jpg', 'Is there a right-sided pleural effusion?', 'no'], ['synpic44865.jpg', 'Can a pleural effusion be appreciated on the right side?', 'no'], ['synpic33226.jpg', 'Are both lungs abnormally inflated?', 'no'], ['synpic33226.jpg', 'Is there a fracture of the left humerus?', 'No'], ['synpic33226.jpg', 'Does the left humerus appear to be fractured?', 'No'], ['synpic31248.jpg', 'Is pleural effusion present?', 'no'], ['synpic31248.jpg', 'Can you appreciate a pleural effusion anywhere?', 'no'], ['synpic44865.jpg', 'Can the left ribs be evaluated?', 'no'], ['synpic44865.jpg', 'Can you see all of the ribs on the left side?', 'no'], ['synpic27402.jpg', 'Do you suspect a physical injury?', 'no'], ['synpic27402.jpg', 'Did this patient sustain physical damage?', 'no'], ['synpic28378.jpg', 'Is there a pleural effusion', 'No'], ['synpic28378.jpg', 'Is there a pleural effusion present?', 'No'], ['synpic60423.jpg', 'Is this image sufficient to diagnose pericardial effusion?', 'No'], ['synpic60423.jpg', 'Can you diagnose a pericardial effusion from this image?', 'No'], ['synpic16810.jpg', 'Can you evaluate the kidneys \\tbladde r\\tor ureters in this image?', 'No'], ['synpic33226.jpg', 'What can be typically visualized in this plane?', 'lungs \\tbony thoracic cavit y\\tmediastinum and great vessels'], ['synpic31248.jpg', 'Is the heart enlarged?', 'No'], ['synpic31248.jpg', 'Is the heart size abnormal?', 'No'], ['synpic33226.jpg', 'Is there a pleural effusion?', 'No'], ['synpic33226.jpg', 'Is a pleural effusion present?', 'No'], ['synpic16810.jpg', 'Is a pleural effusion present?', 'No'], ['synpic16810.jpg', 'Do you see a pleural effusion?', 'No'], ['synpic50943.jpg', 'Is there an effusion present on the right-side?', 'no'], ['synpic50943.jpg', 'Is there a right-sided pleural effusion?', 'no'], ['synpic27402.jpg', 'Is the image enough to diagnose?', 'No'], ['synpic27402.jpg', 'Is this image sufficient for a diagnosis?', 'No'], ['synpic16810.jpg', 'Is this modality safe for pregnant women?', 'No'], ['synpic60423.jpg', 'Is the heart size increased?', 'No'], ['synpic60423.jpg', 'Is the heart enlarged?', 'No'], ['synpic60423.jpg', 'Is a pleural effusion present?', 'no'], ['synpic60423.jpg', 'Can you appreciate a pleural effusion?', 'no'], ['synpic33226.jpg', 'Can this image highlight bone fractures (if present)?', 'yes'], ['synpic28378.jpg', 'What is the likely sex of this patient?', 'Female'], ['synpic28378.jpg', 'Is this patient male or female?', 'Female'], ['synpic50943.jpg', 'Is the heart enlarged?', 'Yes'], ['synpic50943.jpg', 'Is there anything abnormal about the heart size?', 'Yes'], ['synpic16810.jpg', 'Is this in the PA plane?', 'yes'], ['synpic44865.jpg', 'Is the lesion a solid or cystic lesion?', 'Solid'], ['synpic44865.jpg', 'Is this a solid or cystic lesion?', 'Solid'], ['synpic50943.jpg', 'Is a pulmonary mass present?', 'no'], ['synpic50943.jpg', 'Can a pulmonary mass be appreciated?', 'no'], ['synpic33226.jpg', 'Is the heart size normal?', 'Yes'], ['synpic33226.jpg', 'Is the heart a normal size?', 'Yes'], ['synpic24538.jpg', 'To which side is the trachea deviated?', 'Right'], ['synpic31916.jpg', 'How do we call these wide undulations along the vertebral column?', 'Scoliosis'], ['synpic52951.jpg', 'Is this an AP image?', 'no'], ['synpic31916.jpg', 'Is the stomach dilated?', 'no'], ['synpic31916.jpg', 'What is happening with the path of the trachea?', 'It is shifted to the right'], ['synpic19118.jpg', 'Is this a cyst in the left lung?', 'No'], ['synpic31916.jpg', 'Is the right lung normal in size?', 'No'], ['synpic52951.jpg', 'Is this a solitary nodule?', 'Yes'], ['synpic52951.jpg', 'What type of image is this?', 'Plain film x-ray'], ['synpic31916.jpg', \"What is the name of this image's plane?\", 'Posteroanterior'], ['synpic52951.jpg', 'What is the organ principally shown in this image?', 'Lung'], ['synpic24538.jpg', 'Is there consolidation in the lungs?', 'No'], ['synpic52951.jpg', 'Is there any shifting on the path of the trachea?', 'No'], ['synpic19118.jpg', 'Are these small opacities in the right lung calcifications?', 'No'], ['synpic52951.jpg', 'In which lobe is the nodule located?', 'Left upper lobe'], ['synpic19118.jpg', 'What is this lucency amid densities in the right lung?', 'The right bronchus'], ['synpic24538.jpg', 'Is the heart dilated?', 'No'], ['synpic31916.jpg', 'Is this film properly exposed?', 'yes'], ['synpic45557.jpg', 'Is the costophrenic angle blunted?', 'Yes'], ['synpic45557.jpg', 'Where on the image is most obscured?', 'Right lung base'], ['synpic31962.jpg', 'Is subcutaneous air present?', 'No'], ['synpic31962.jpg', 'Is there any inappropriate air collection in subcutaneous tissue?', 'No'], ['synpic45557.jpg', 'Is the heart size in this image smaller or larger than if the image was taken AP?', 'Smaller'], ['synpic23053.jpg', 'Which lobe is the lesion located in?', 'Upper right lobe'], ['synpic23053.jpg', 'Where is the lesion?', 'In the right hilum'], ['synpic34449.jpg', 'How was this image taken?', 'X-ray'], ['synpic31955.jpg', 'Which side of the heart border is obscured?', 'Right'], ['synpic31955.jpg', 'Where is the lesion located?', 'Anterior mediastinum'], ['synpic13385.jpg', 'Is a pneumothorax present in the left apex?', 'No'], ['synpic13385.jpg', 'What is in the left apex?', 'A bullous lesion'], ['synpic23053.jpg', 'What is the opacity near the left lung apex?', 'Pacemaker'], ['synpic23053.jpg', 'Is the opacity near the left lung apex pathologic?', 'No'], ['synpic34449.jpg', 'Is there subcutaneous air present in the right neck?', 'Yes'], ['synpic34449.jpg', 'Where is the subcutaneous air collection?', 'On the right shoulder.'], ['synpic45557.jpg', 'Are there any fractures present?', 'No'], ['synpic45557.jpg', 'Are any ribs in the image fractured?', 'No'], ['synpic24390.jpg', 'Is there evidence of subcutaneous air collection?', 'No'], ['synpic24390.jpg', 'Is subcutaneous air present?', 'No'], ['synpic31962.jpg', 'Is the left fifth rib broken?', 'No'], ['synpic31962.jpg', 'Is there a fracture on the left 5th rib?', 'No'], ['synpic47783.jpg', 'Is there evidence of a mass lesion at the right hilum?', 'No'], ['synpic47783.jpg', 'Is there a mass in the right hilum?', 'No'], ['synpic13385.jpg', 'Is subdiaphragmatic air present on the left side?', 'No'], ['synpic13385.jpg', 'Is the air under the left hemidiaphragm pathologic?', 'No'], ['synpic31955.jpg', 'What is the location of the primary lesion?', 'Right lung hilum'], ['synpic31955.jpg', 'Where is the lesion located?', 'Anterior mediastinum'], ['synpic24390.jpg', 'Where is the largest air collection in this image?', 'Right lung base'], ['synpic24390.jpg', \"Is the largest air collection on the patient's left or the right side?\", 'Right side'], ['synpic13385.jpg', 'Where are the most infiltrates located?', 'Left lung'], ['synpic13385.jpg', 'Which lung has more extensive infiltration?', 'Left'], ['synpic45557.jpg', 'Are the borders of the heart clearly visualized?', 'yes'], ['synpic24390.jpg', 'Is this image a CT scan?', 'no'], ['synpic19477.jpg', 'Which cardiac border is more prominently visualized?', 'Left'], ['synpic19477.jpg', 'Which side of the cardiac border is more prominent?', 'Left'], ['synpic23803.jpg', 'Where is the cardiac border more obscured?', 'Right'], ['synpic23803.jpg', 'On which side is the cardiac border more obscured?', 'Right'], ['synpic19477.jpg', 'What rib is the lesion located inferior to?', '7th rib'], ['synpic19477.jpg', 'At which rib is the lesion located?', '7th rib'], ['synpic47783.jpg', 'What is the most important abnormality found in this image?', 'Width of aorta'], ['synpic47783.jpg', 'Where is the aneurysm located?', 'In the thorasic aorta'], ['synpic39532.jpg', 'Which lung lobe is the lesion present in?', 'Right lower lobe'], ['synpic39532.jpg', 'Where is the lesion?', 'Right lower lobe'], ['synpic24390.jpg', 'Is this image of the thorax?', 'yes'], ['synpic23053.jpg', 'Is there free air under the left diaphragm?', 'No'], ['synpic23053.jpg', 'Is the air under the left hemidiaphragm pathologic?', 'No'], ['synpic19782.jpg', 'Is there free air in the supraclavicular fossae?', 'Yes'], ['synpic19782.jpg', 'Where is free air trapped subcutaneously in this image?', 'Above the clavicles bilaterally'], ['synpic19782.jpg', 'Is there evidence of large calcified lesions in the lung fields?', 'No'], ['synpic19782.jpg', 'Are calcified lesions present in the lung fields?', 'No'], ['synpic34449.jpg', 'Is this an AP image?', 'no'], ['synpic23803.jpg', 'Is the free air under the left hemidiaphragm pathologic?', 'No'], ['synpic23803.jpg', 'Is there evidence of subdiaphragmatic free air on the left?', 'No'], ['synpic24390.jpg', 'How wide is the heart compared to the thorax?', 'It is less than half the width of the thorax'], ['synpic24390.jpg', 'Is the heart wider than more than half the width of the thorax?', 'No'], ['synpic17664.jpg', 'Is the diaphragm obscured?', 'No'], ['synpic17664.jpg', 'Is the diaphragm clearly visualized on both sides of the thorax?', 'Yes'], ['synpic34449.jpg', 'What are the two major organs present in this image?', 'Heart \\tlungs'], ['synpic34449.jpg', 'Which lung is clearer?', 'Left'], ['synpic34449.jpg', 'Which side is more clearly visualized?', 'Left'], ['synpic39532.jpg', 'Is there more that one lesion present?', 'No'], ['synpic39532.jpg', 'How many lesions are present in the image?', 'One'], ['synpic45557.jpg', \"Do bones appear lighter on this image's modality?\", 'yes'], ['synpic19477.jpg', 'Which lobe of the lung is the lesion located in?', 'Right upper lobe'], ['synpic19477.jpg', 'Where is the lung lesion located?', 'Right lung'], ['synpic31962.jpg', 'Which side of the image is the aortic arch visualized?', 'Right side'], ['synpic31962.jpg', 'Where is the aortic arch?', 'Right side'], ['synpic34449.jpg', 'Where in the image are the calcifications located?', 'High on the image'], ['synpic34449.jpg', 'Are the calcifications superior or inferior to the diaphragm?', 'Superior'], ['synpic45557.jpg', 'What lesions are present in the lungs?', 'None'], ['synpic45557.jpg', 'Are nodular calcifications present in the lungs?', 'No'], ['synpic31955.jpg', 'Is the diaphragm clearly visualized on both sides?', 'Yes'], ['synpic31955.jpg', 'Is the diaphragm obscured?', 'No'], ['synpic47783.jpg', 'How wide is the cardiac shadow?', 'Less than half the thorax'], ['synpic47783.jpg', 'Does the width of the heart exceed more than half of the thorax?', 'No'], ['synpic17664.jpg', 'Is a pneumothorax present in this image?', 'No'], ['synpic17664.jpg', 'Do the lung markings extend to the periphery?', 'Yes'], ['synpic39532.jpg', 'Is there a pneumothorax present?', 'No'], ['synpic39532.jpg', 'Are lung markings present in the entire thoracic cavity?', 'Yes'], ['synpic23803.jpg', 'What level is the abnormality located at?', 'T5'], ['synpic23803.jpg', 'Which ribs are located near the abnormality seen in this image?', '4th and 5th'], ['synpic24390.jpg', 'How was this x-ray taken?', 'PA'], ['synpic21044.jpg', 'Does the heart appear enlarged?', 'Yes'], ['synpic21044.jpg', 'Is the heart abnormal?', 'Yes'], ['synpic31400.jpg', 'What kind of image is this?', 'x-ray'], ['synpic18319.jpg', 'Where does the catheter tip extend into?', 'Right superior cavoatrial junction'], ['synpic18319.jpg', 'Where is the catheter tip located?', 'Right superior cavoatrial junction'], ['synpic32933.jpg', 'Is the right hemidiaphragm normal?', 'No'], ['synpic32933.jpg', 'Is this a normal x ray?', 'No'], ['synpic49914.jpg', 'Which lung is abnormal?', 'Right lung'], ['synpic49914.jpg', 'Where is the diffuse pleural thickening?', 'Right lung'], ['synpic21044.jpg', 'Which sign do you see in the aortopulmonary window in this image?', 'middle mogul'], ['synpic21044.jpg', 'What characteristic finding do you see in the aortopulmonary window?', 'middle mogul'], ['synpic21044.jpg', 'How would you describe the aortopulmonary window?', 'middle mogul'], ['synpic49914.jpg', 'Is the image study normal?', 'No'], ['synpic49914.jpg', 'Are the lungs normal?', 'No'], ['synpic18319.jpg', 'Why are the breasts asymmetrical?', 'Prior surgery'], ['synpic18319.jpg', 'What can cause asymmetrical breasts?', 'Prior surgery'], ['synpic31400.jpg', 'What is seen in the lung apices?', 'Nodular opacities'], ['synpic31400.jpg', 'What abnormalities are in the lung apices?', 'Nodular opacities'], ['synpic18461.jpg', 'Is the chest x-ray normal?', 'No'], ['synpic18461.jpg', 'Are the lungs normal?', 'No'], ['synpic49914.jpg', 'What is finding in the right lung?', 'Volume loss'], ['synpic49914.jpg', 'What is happening in the right lung?', 'Volume loss'], ['synpic21044.jpg', 'Is the hila normal or enlarged?', 'Enlarged'], ['synpic21044.jpg', 'What is abnormal about the hila?', 'Enlarged'], ['synpic49914.jpg', 'Which plane is this image taken?', 'PA'], ['synpic49914.jpg', 'Is this a study of the chest?', 'yes'], ['synpic31400.jpg', 'Which organ system is imaged?', 'Chest'], ['synpic18461.jpg', 'Is this a lateral film?', 'no'], ['synpic18461.jpg', 'What organ is primarily evaluated in this image?', 'Lungs'], ['synpic31400.jpg', 'where is the abnormality?', 'Right upper lobe'], ['synpic31400.jpg', 'where is the cavitary lesion?', 'Right upper lobe'], ['synpic18461.jpg', 'What kind of image is this?', 'Chest x-ray'], ['synpic49914.jpg', 'Is this a chest x-ray?', 'yes'], ['synpic32933.jpg', 'Is the left hemidiaphragm normal?', 'Yes'], ['synpic32933.jpg', 'Is the left hemidiaphragm normal?', 'Yes'], ['synpic31400.jpg', 'Are the lower lung fields normal?', 'yes'], ['synpic31400.jpg', 'Any abnormal findings in the lower lung fields?', 'no'], ['synpic31400.jpg', 'Is this in the posterior anterior plane?', 'yes'], ['synpic32933.jpg', 'What is the abnormality by the right hemidiaphragm?', 'Free air'], ['synpic32933.jpg', 'What is under the right hemidiaphragm?', 'Free air'], ['synpic18319.jpg', 'What abnormalities are seen within the lungs?', 'Pulmonary nodules'], ['synpic18319.jpg', 'Describe the lung abnormalities?', 'Pulmonary nodules'], ['synpic40272.jpg', 'are the heart and lungs displayed well in this film', 'yes'], ['synpic21776.jpg', 'is the lung parenchyma well visualized?', 'yes'], ['synpic42245.jpg', 'Is there no evidence of blunting of the costophrenic angles?', 'yes'], ['synpic42245.jpg', 'Are the costophrenic angles sharp?', 'yes'], ['synpic40272.jpg', 'Is the left lung field more white?', 'yes'], ['synpic40272.jpg', 'Is the left lung field more radioopaque than the right side?', 'yes'], ['synpic33422.jpg', 'Is there a mediastinal shift?', 'No'], ['synpic33422.jpg', 'Has the midline of the mediastinum shifted?', 'No'], ['synpic33422.jpg', 'Is the outline of visceral pleura visible in the upper left lung field?', 'Yes'], ['synpic33422.jpg', 'Is there a left apical pneumothorax?', 'Yes'], ['synpic40272.jpg', 'Is there blunting of the left costophrenic angle?', 'yes'], ['synpic40272.jpg', 'is it difficult to delineate the left costophrenic angle?', 'yes'], ['synpic52767.jpg', 'Is the cardiac silhouette less than half the lateral diameter of the chest wall?', 'Yes'], ['synpic52767.jpg', 'Is the cardiac contour normal?', 'Yes'], ['synpic40272.jpg', 'Is there enlargement of the pulmonary vasculature?', 'no'], ['synpic40272.jpg', 'is there evidence of pulmonary edema?', 'no'], ['synpic42245.jpg', \"Are any of the patient's ribs fractured?\", 'No'], ['synpic42245.jpg', 'Are there any fractures in any of the ribs?', 'No'], ['synpic21776.jpg', 'is the cardiac silhouette small/stretched', 'Yes'], ['synpic21776.jpg', 'Is there narrowing of the cardiac contour?', 'Yes'], ['synpic52767.jpg', 'Is a pneumothorax present near the right lung field?', 'Yes'], ['synpic52767.jpg', 'Is there evidence of a right apical pneumothorax on this chest x-ray?', 'Yes'], ['synpic16174.jpg', 'Is the cardiac silhouette within normal size limits?', 'Yes'], ['synpic16174.jpg', 'Is the cardiac silhouette less than half the diameter of the diaphragm?', 'Yes'], ['synpic21776.jpg', 'is there evidence of intraparenchymal lung nodules?', 'No'], ['synpic21776.jpg', 'Are lung opacities noted?', 'No'], ['synpic40272.jpg', 'was this chest x ray taken in PA format?', 'yes'], ['synpic16174.jpg', 'Is the descending aortic silhouette of normal size?', 'Yes'], ['synpic16174.jpg', 'Is the descending aortic silhouette of normal size?', 'Yes'], ['synpic16174.jpg', 'Is there tortuosity of the descending aorta?', 'Yes'], ['synpic16174.jpg', 'Is the descending aortic silhouette of normal contour and size?', 'Yes'], ['synpic16174.jpg', 'Is the descending aortic silhouette of normal contour?', 'Yes'], ['synpic42245.jpg', 'Are the soft tissue densities in the left hilum equivalent in size to the soft tissue densities in the right hilum?', 'no'], ['synpic42245.jpg', 'Are the hilar soft tissue densities symmetric?', 'no'], ['synpic21776.jpg', 'was this taken in PA position?', 'yes'], ['synpic25821.jpg', 'Are there at least 8 ribs visible for good inspiratory effort?', 'Yes'], ['synpic25821.jpg', 'Are there >8 ribs shown in this image?', 'Yes'], ['synpic21776.jpg', 'was this taken with good x ray penetration', 'yes'], ['synpic40272.jpg', 'was the patient positioned appropriately \\twithout tilting?', 'yes'], ['synpic25821.jpg', 'Is there evidence of any abnormalities of the lung parenchyma?', 'No'], ['synpic25821.jpg', 'Is there any intraparenchymal abnormalities in the lung fields?', 'No'], ['synpic25821.jpg', 'Is there evidence of any fractures of the ribs?', 'No'], ['synpic25821.jpg', 'Is there a rib fracture?', 'No'], ['synpic21776.jpg', 'does this represent adequate inspiratory effort?', 'Yes'], ['synpic21776.jpg', 'Are >12 ribs present in the image?', 'Yes'], ['synpic42202.jpg', 'Is this an anterior-posterior image', 'no'], ['synpic42202.jpg', 'What type of image is this?', 'Chest X-ray'], ['synpic29265.jpg', 'Is there air under the diaphragm?', 'No'], ['synpic42202.jpg', 'Is there cardiomyopathy?', 'yes'], ['synpic28602.jpg', 'Is this an anterior posterior image?', 'no'], ['synpic29265.jpg', 'How is the patient oriented?', 'Posterior-Anterior'], ['synpic29265.jpg', 'Is there a fracture?', 'no'], ['synpic42202.jpg', 'Is there a pneumothorax?', 'no'], ['synpic29265.jpg', 'Is there airspace consolidation on the left side?', 'Yes'], ['synpic42202.jpg', 'Which organ system is abnormal in this image?', 'Cardiovascular'], ['synpic42202.jpg', 'Is there evidence of an aortic aneurysm?', 'yes'], ['synpic28602.jpg', 'Is there blunting of the costovertebral angles?', 'No'], ['synpic28602.jpg', 'Is there evidence of an aortic aneurysm?', 'No'], ['synpic28602.jpg', 'Is the trachea midline?', 'yes'], ['synpic28602.jpg', 'What is not pictured in this image?', 'The extremities'], ['synpic29265.jpg', 'Is this a MRI of the chest?', 'no'], ['synpic28602.jpg', 'What type of imaging does this not represent?', 'ultrasound'], ['synpic29265.jpg', 'Is there evidence of a pneumothorax', 'No'], ['synpic29265.jpg', 'Are the lungs normal appearing?', 'No']]\n"
          ]
        },
        {
          "output_type": "display_data",
          "data": {
            "text/plain": [
              "Uploading the dataset shards:   0%|          | 0/1 [00:00<?, ?it/s]"
            ],
            "application/vnd.jupyter.widget-view+json": {
              "version_major": 2,
              "version_minor": 0,
              "model_id": "5309880965ff461aa0735eb10e7e93f7"
            }
          },
          "metadata": {}
        },
        {
          "output_type": "display_data",
          "data": {
            "text/plain": [
              "Map:   0%|          | 0/635 [00:00<?, ? examples/s]"
            ],
            "application/vnd.jupyter.widget-view+json": {
              "version_major": 2,
              "version_minor": 0,
              "model_id": "badaa34077d240b4aaeda095dfbdc42e"
            }
          },
          "metadata": {}
        },
        {
          "output_type": "display_data",
          "data": {
            "text/plain": [
              "Creating parquet from Arrow format:   0%|          | 0/7 [00:00<?, ?ba/s]"
            ],
            "application/vnd.jupyter.widget-view+json": {
              "version_major": 2,
              "version_minor": 0,
              "model_id": "5c720863574745948fd46e9e11de346a"
            }
          },
          "metadata": {}
        },
        {
          "output_type": "display_data",
          "data": {
            "text/plain": [
              "Uploading the dataset shards:   0%|          | 0/1 [00:00<?, ?it/s]"
            ],
            "application/vnd.jupyter.widget-view+json": {
              "version_major": 2,
              "version_minor": 0,
              "model_id": "85da417566674e8084394879d80e2d1f"
            }
          },
          "metadata": {}
        },
        {
          "output_type": "display_data",
          "data": {
            "text/plain": [
              "Map:   0%|          | 0/159 [00:00<?, ? examples/s]"
            ],
            "application/vnd.jupyter.widget-view+json": {
              "version_major": 2,
              "version_minor": 0,
              "model_id": "23a6e5875ad7426ea7781d563eb37b09"
            }
          },
          "metadata": {}
        },
        {
          "output_type": "display_data",
          "data": {
            "text/plain": [
              "Creating parquet from Arrow format:   0%|          | 0/2 [00:00<?, ?ba/s]"
            ],
            "application/vnd.jupyter.widget-view+json": {
              "version_major": 2,
              "version_minor": 0,
              "model_id": "680ee286862e4372b699ba93b46937df"
            }
          },
          "metadata": {}
        },
        {
          "output_type": "stream",
          "name": "stderr",
          "text": [
            "No files have been modified since last commit. Skipping to prevent empty commit.\n",
            "WARNING:huggingface_hub.hf_api:No files have been modified since last commit. Skipping to prevent empty commit.\n"
          ]
        }
      ]
    },
    {
      "cell_type": "code",
      "source": [
        "#Use this to verify the datasets have been created correctly\n",
        "print(train_dataset[0])\n",
        "print(train_dataset[1])\n",
        "print(train_dataset[2])\n",
        "\n",
        "print(eval_dataset[-1])\n",
        "print(eval_dataset[-2])\n",
        "print(eval_dataset[-3])"
      ],
      "metadata": {
        "colab": {
          "base_uri": "https://localhost:8080/"
        },
        "id": "lwepZv8eE7Df",
        "outputId": "d1eb434c-a746-47a9-fc81-bedd91d4f26c",
        "collapsed": true
      },
      "execution_count": null,
      "outputs": [
        {
          "output_type": "stream",
          "name": "stdout",
          "text": [
            "{'ids': '0', 'image_names': 'synpic26764.jpg', 'images': <PIL.JpegImagePlugin.JpegImageFile image mode=RGB size=1024x1192 at 0x7F53C4345FC0>, 'questions': 'Is this film taken in a PA modality?', 'answers': 'Yes'}\n",
            "{'ids': '1', 'image_names': 'synpic26764.jpg', 'images': <PIL.JpegImagePlugin.JpegImageFile image mode=RGB size=1024x1192 at 0x7F53C4346650>, 'questions': 'Is this a PA film?', 'answers': 'Yes'}\n",
            "{'ids': '2', 'image_names': 'synpic38531.jpg', 'images': <PIL.JpegImagePlugin.JpegImageFile image mode=RGB size=1024x873 at 0x7F53C43470D0>, 'questions': 'Is the apical aeration normal or decreased?', 'answers': 'Normal'}\n",
            "{'ids': '793', 'image_names': 'synpic29265.jpg', 'images': <PIL.JpegImagePlugin.JpegImageFile image mode=RGB size=480x503 at 0x7F53C4347130>, 'questions': 'Are the lungs normal appearing?', 'answers': 'No'}\n",
            "{'ids': '792', 'image_names': 'synpic29265.jpg', 'images': <PIL.JpegImagePlugin.JpegImageFile image mode=RGB size=480x503 at 0x7F53C4347160>, 'questions': 'Is there evidence of a pneumothorax', 'answers': 'No'}\n",
            "{'ids': '791', 'image_names': 'synpic28602.jpg', 'images': <PIL.JpegImagePlugin.JpegImageFile image mode=RGB size=1024x1307 at 0x7F53C4345FC0>, 'questions': 'What type of imaging does this not represent?', 'answers': 'ultrasound'}\n"
          ]
        }
      ]
    },
    {
      "cell_type": "code",
      "source": [
        "#Configure the hyperparameters\n",
        "EPOCHS = 2\n",
        "BATCH_SIZE = 2\n",
        "GRAD_ACCUM_STEPS = 1\n",
        "LR = 1e-5\n",
        "USE_WANDB = False"
      ],
      "metadata": {
        "id": "SPyex_XUNwOL"
      },
      "execution_count": null,
      "outputs": []
    },
    {
      "cell_type": "code",
      "source": [
        "#Finetune the VLM for MVQA on the VQA-RAD training dataset\n",
        "\n",
        "#ACKNOWLEDGEMENT OF CREDIT: https://github.com/vikhyat/moondream/blob/main/notebooks/Finetuning.ipynb\n",
        "  #The following code was provided as the standard code for finetuning the Moondream 2 VLM. Given its unique architecture, the developers\n",
        "  #released sample code as a tutorial for how to finetune their model. The only modifications I make to their code involve changing\n",
        "  #some of the for loops and iteration structure to load my VQA-RAD dataset correctly. As the focus of this project is not exploring different\n",
        "  #finetuning techniques, I relied on their default finetuning code. Future work for this project would definitely involve digging into this code\n",
        "  #even more deeply and optimizing it further for the AIMRG and MVQA tasks.\n",
        "\n",
        "\n",
        "from torch.utils.data import DataLoader\n",
        "from bitsandbytes.optim import Adam8bit\n",
        "import math\n",
        "from einops import rearrange\n",
        "from tqdm import tqdm\n",
        "\n",
        "ANSWER_EOS = \"<|endoftext|>\"\n",
        "\n",
        "# Number of tokens used to represent each image.\n",
        "IMG_TOKENS = 729\n",
        "\n",
        "DEVICE = \"cuda\"\n",
        "\n",
        "model.to(DEVICE)\n",
        "\n",
        "def collate_fn(batch):\n",
        "    images = [sample['images'] for sample in batch]\n",
        "    images = [model.vision_encoder.preprocess(image) for image in images]\n",
        "\n",
        "    labels_acc = []\n",
        "    tokens_acc = []\n",
        "\n",
        "    for sample in batch:\n",
        "        # print(sample)\n",
        "        toks = [tokenizer.bos_token_id]\n",
        "        labs = [-100] * (IMG_TOKENS + 1)\n",
        "\n",
        "        # for qa in sample['qa']:\n",
        "        q_t = tokenizer(\n",
        "            f\"\\n\\nQuestion: {sample['questions']}\\n\\nAnswer:\",\n",
        "            add_special_tokens=False\n",
        "        ).input_ids\n",
        "        toks.extend(q_t)\n",
        "        labs.extend([-100] * len(q_t))\n",
        "\n",
        "        a_t = tokenizer(\n",
        "            f\" {sample['answers']}{ANSWER_EOS}\",\n",
        "            add_special_tokens=False\n",
        "        ).input_ids\n",
        "        toks.extend(a_t)\n",
        "        labs.extend(a_t)\n",
        "\n",
        "        tokens_acc.append(toks)\n",
        "        labels_acc.append(labs)\n",
        "\n",
        "    max_len = -1\n",
        "    for labels in labels_acc:\n",
        "        max_len = max(max_len, len(labels))\n",
        "\n",
        "    attn_mask_acc = []\n",
        "\n",
        "    for i in range(len(batch)):\n",
        "        len_i = len(labels_acc[i])\n",
        "        pad_i = max_len - len_i\n",
        "\n",
        "        labels_acc[i].extend([-100] * pad_i)\n",
        "        tokens_acc[i].extend([tokenizer.eos_token_id] * pad_i)\n",
        "        attn_mask_acc.append([1] * len_i + [0] * pad_i)\n",
        "\n",
        "    return (\n",
        "        images,\n",
        "        torch.stack([torch.tensor(t, dtype=torch.long).to(DEVICE) for t in tokens_acc]),\n",
        "        torch.stack([torch.tensor(l, dtype=torch.long).to(DEVICE) for l in labels_acc]),\n",
        "        torch.stack([torch.tensor(a, dtype=torch.bool).to(DEVICE) for a in attn_mask_acc]),\n",
        "    )\n",
        "\n",
        "def compute_loss(batch):\n",
        "    images, tokens, labels, attn_mask = batch\n",
        "\n",
        "    images = [image.to(DEVICE) for image in images]\n",
        "    tokens = tokens.to(DEVICE)\n",
        "    labels = labels.to(DEVICE)\n",
        "    attn_mask = attn_mask.to(DEVICE)\n",
        "\n",
        "    with torch.no_grad():\n",
        "        img_embs = model.vision_encoder(images)\n",
        "\n",
        "    tok_embs = model.text_model.get_input_embeddings()(tokens)\n",
        "    inputs_embeds = torch.cat((tok_embs[:, 0:1, :], img_embs, tok_embs[:, 1:, :]), dim=1)\n",
        "\n",
        "    outputs = model.text_model(\n",
        "        inputs_embeds=inputs_embeds,\n",
        "        labels=labels,\n",
        "        attention_mask=attn_mask,\n",
        "    )\n",
        "\n",
        "    return outputs.loss\n",
        "\n",
        "def lr_schedule(step, max_steps):\n",
        "    x = step / max_steps\n",
        "    if x < 0.1:\n",
        "        return 0.1 * LR + 0.9 * LR * x / 0.1\n",
        "    else:\n",
        "        return 0.1 * LR + 0.9 * LR * (1 + math.cos(math.pi * (x - 0.1))) / 2\n",
        "\n",
        "dataloaders = {\n",
        "    \"train\": DataLoader(\n",
        "        train_dataset,\n",
        "        batch_size=BATCH_SIZE,\n",
        "        shuffle=True,\n",
        "        collate_fn=collate_fn,\n",
        "    )\n",
        "}\n",
        "\n",
        "model.text_model.train()\n",
        "model.text_model.transformer.gradient_checkpointing_enable()\n",
        "\n",
        "total_steps = EPOCHS * len(dataloaders[\"train\"]) // GRAD_ACCUM_STEPS\n",
        "optimizer = Adam8bit(\n",
        "    [\n",
        "        {\"params\": model.text_model.parameters()},\n",
        "    ],\n",
        "    lr=LR * 0.1,\n",
        "    betas=(0.9, 0.95),\n",
        "    eps=1e-6\n",
        ")\n",
        "\n",
        "if USE_WANDB:\n",
        "    import wandb\n",
        "    wandb.init(\n",
        "        project=\"moondream-ft\",\n",
        "        config={\n",
        "            \"EPOCHS\": EPOCHS,\n",
        "            \"BATCH_SIZE\": BATCH_SIZE,\n",
        "            \"GRAD_ACCUM_STEPS\": GRAD_ACCUM_STEPS,\n",
        "            \"LR\": LR,\n",
        "        }\n",
        "    )\n",
        "\n",
        "i = 0\n",
        "for epoch in range(EPOCHS):\n",
        "    for batch in tqdm(dataloaders[\"train\"], desc=f\"Epoch {epoch + 1}/{EPOCHS}\"):\n",
        "        i += 1\n",
        "\n",
        "        loss = compute_loss(batch)\n",
        "        loss.backward()\n",
        "        print(f\"\\nLoss: {round(loss.item(), 3)} | Epoch: {epoch}/{EPOCHS} | {i}/{len(dataloaders['train'])}\")\n",
        "\n",
        "        if i % GRAD_ACCUM_STEPS == 0:\n",
        "            optimizer.step()\n",
        "            optimizer.zero_grad()\n",
        "\n",
        "            lr = lr_schedule(i / GRAD_ACCUM_STEPS, total_steps)\n",
        "            for param_group in optimizer.param_groups:\n",
        "                param_group['lr'] = lr\n",
        "\n",
        "        if USE_WANDB:\n",
        "            wandb.log({\n",
        "                \"loss/train\": loss.item(),\n",
        "                \"lr\": optimizer.param_groups[0]['lr']\n",
        "            })\n",
        "\n",
        "if USE_WANDB:\n",
        "    wandb.finish()"
      ],
      "metadata": {
        "colab": {
          "base_uri": "https://localhost:8080/"
        },
        "id": "C77a7XtqOAQz",
        "outputId": "c6ede39d-882f-476e-b278-d1693e9b4740"
      },
      "execution_count": null,
      "outputs": [
        {
          "output_type": "stream",
          "name": "stderr",
          "text": [
            "Epoch 1/2:   0%|          | 0/318 [00:00<?, ?it/s]WARNING:transformers_modules.vikhyatk.moondream2.92d3d73b6fd61ab84d9fe093a9c7fd8c04bf2c0d.modeling_phi:`use_cache=True` is incompatible with gradient checkpointing. Setting `use_cache=False`...\n",
            "Epoch 1/2:   0%|          | 1/318 [00:01<09:25,  1.78s/it]"
          ]
        },
        {
          "output_type": "stream",
          "name": "stdout",
          "text": [
            "\n",
            "Loss: 7.144 | Epoch: 0/2 | 1/318\n"
          ]
        },
        {
          "output_type": "stream",
          "name": "stderr",
          "text": [
            "\rEpoch 1/2:   1%|          | 2/318 [00:03<08:38,  1.64s/it]"
          ]
        },
        {
          "output_type": "stream",
          "name": "stdout",
          "text": [
            "\n",
            "Loss: 2.962 | Epoch: 0/2 | 2/318\n"
          ]
        },
        {
          "output_type": "stream",
          "name": "stderr",
          "text": [
            "\rEpoch 1/2:   1%|          | 3/318 [00:04<08:27,  1.61s/it]"
          ]
        },
        {
          "output_type": "stream",
          "name": "stdout",
          "text": [
            "\n",
            "Loss: 4.717 | Epoch: 0/2 | 3/318\n"
          ]
        },
        {
          "output_type": "stream",
          "name": "stderr",
          "text": [
            "\rEpoch 1/2:   1%|▏         | 4/318 [00:06<08:17,  1.58s/it]"
          ]
        },
        {
          "output_type": "stream",
          "name": "stdout",
          "text": [
            "\n",
            "Loss: 3.21 | Epoch: 0/2 | 4/318\n"
          ]
        },
        {
          "output_type": "stream",
          "name": "stderr",
          "text": [
            "\rEpoch 1/2:   2%|▏         | 5/318 [00:08<08:15,  1.58s/it]"
          ]
        },
        {
          "output_type": "stream",
          "name": "stdout",
          "text": [
            "\n",
            "Loss: 2.506 | Epoch: 0/2 | 5/318\n"
          ]
        },
        {
          "output_type": "stream",
          "name": "stderr",
          "text": [
            "\rEpoch 1/2:   2%|▏         | 6/318 [00:09<08:10,  1.57s/it]"
          ]
        },
        {
          "output_type": "stream",
          "name": "stdout",
          "text": [
            "\n",
            "Loss: 0.883 | Epoch: 0/2 | 6/318\n"
          ]
        },
        {
          "output_type": "stream",
          "name": "stderr",
          "text": [
            "\rEpoch 1/2:   2%|▏         | 7/318 [00:11<08:06,  1.56s/it]"
          ]
        },
        {
          "output_type": "stream",
          "name": "stdout",
          "text": [
            "\n",
            "Loss: 0.701 | Epoch: 0/2 | 7/318\n"
          ]
        },
        {
          "output_type": "stream",
          "name": "stderr",
          "text": [
            "\rEpoch 1/2:   3%|▎         | 8/318 [00:12<08:03,  1.56s/it]"
          ]
        },
        {
          "output_type": "stream",
          "name": "stdout",
          "text": [
            "\n",
            "Loss: 3.613 | Epoch: 0/2 | 8/318\n"
          ]
        },
        {
          "output_type": "stream",
          "name": "stderr",
          "text": [
            "\rEpoch 1/2:   3%|▎         | 9/318 [00:14<08:02,  1.56s/it]"
          ]
        },
        {
          "output_type": "stream",
          "name": "stdout",
          "text": [
            "\n",
            "Loss: 0.293 | Epoch: 0/2 | 9/318\n"
          ]
        },
        {
          "output_type": "stream",
          "name": "stderr",
          "text": [
            "\rEpoch 1/2:   3%|▎         | 10/318 [00:15<07:56,  1.55s/it]"
          ]
        },
        {
          "output_type": "stream",
          "name": "stdout",
          "text": [
            "\n",
            "Loss: 2.812 | Epoch: 0/2 | 10/318\n"
          ]
        },
        {
          "output_type": "stream",
          "name": "stderr",
          "text": [
            "\rEpoch 1/2:   3%|▎         | 11/318 [00:17<07:58,  1.56s/it]"
          ]
        },
        {
          "output_type": "stream",
          "name": "stdout",
          "text": [
            "\n",
            "Loss: 2.993 | Epoch: 0/2 | 11/318\n"
          ]
        },
        {
          "output_type": "stream",
          "name": "stderr",
          "text": [
            "\rEpoch 1/2:   4%|▍         | 12/318 [00:18<07:55,  1.56s/it]"
          ]
        },
        {
          "output_type": "stream",
          "name": "stdout",
          "text": [
            "\n",
            "Loss: 0.456 | Epoch: 0/2 | 12/318\n"
          ]
        },
        {
          "output_type": "stream",
          "name": "stderr",
          "text": [
            "\rEpoch 1/2:   4%|▍         | 13/318 [00:20<07:52,  1.55s/it]"
          ]
        },
        {
          "output_type": "stream",
          "name": "stdout",
          "text": [
            "\n",
            "Loss: 3.059 | Epoch: 0/2 | 13/318\n"
          ]
        },
        {
          "output_type": "stream",
          "name": "stderr",
          "text": [
            "\rEpoch 1/2:   4%|▍         | 14/318 [00:21<07:50,  1.55s/it]"
          ]
        },
        {
          "output_type": "stream",
          "name": "stdout",
          "text": [
            "\n",
            "Loss: 3.564 | Epoch: 0/2 | 14/318\n"
          ]
        },
        {
          "output_type": "stream",
          "name": "stderr",
          "text": [
            "\rEpoch 1/2:   5%|▍         | 15/318 [00:23<07:47,  1.54s/it]"
          ]
        },
        {
          "output_type": "stream",
          "name": "stdout",
          "text": [
            "\n",
            "Loss: 0.181 | Epoch: 0/2 | 15/318\n"
          ]
        },
        {
          "output_type": "stream",
          "name": "stderr",
          "text": [
            "\rEpoch 1/2:   5%|▌         | 16/318 [00:25<07:43,  1.54s/it]"
          ]
        },
        {
          "output_type": "stream",
          "name": "stdout",
          "text": [
            "\n",
            "Loss: 2.526 | Epoch: 0/2 | 16/318\n"
          ]
        },
        {
          "output_type": "stream",
          "name": "stderr",
          "text": [
            "\rEpoch 1/2:   5%|▌         | 17/318 [00:26<07:30,  1.50s/it]"
          ]
        },
        {
          "output_type": "stream",
          "name": "stdout",
          "text": [
            "\n",
            "Loss: 1.83 | Epoch: 0/2 | 17/318\n"
          ]
        },
        {
          "output_type": "stream",
          "name": "stderr",
          "text": [
            "\rEpoch 1/2:   6%|▌         | 18/318 [00:27<07:33,  1.51s/it]"
          ]
        },
        {
          "output_type": "stream",
          "name": "stdout",
          "text": [
            "\n",
            "Loss: 0.471 | Epoch: 0/2 | 18/318\n"
          ]
        },
        {
          "output_type": "stream",
          "name": "stderr",
          "text": [
            "\rEpoch 1/2:   6%|▌         | 19/318 [00:29<07:35,  1.52s/it]"
          ]
        },
        {
          "output_type": "stream",
          "name": "stdout",
          "text": [
            "\n",
            "Loss: 0.375 | Epoch: 0/2 | 19/318\n"
          ]
        },
        {
          "output_type": "stream",
          "name": "stderr",
          "text": [
            "\rEpoch 1/2:   6%|▋         | 20/318 [00:31<07:35,  1.53s/it]"
          ]
        },
        {
          "output_type": "stream",
          "name": "stdout",
          "text": [
            "\n",
            "Loss: 0.069 | Epoch: 0/2 | 20/318\n"
          ]
        },
        {
          "output_type": "stream",
          "name": "stderr",
          "text": [
            "\rEpoch 1/2:   7%|▋         | 21/318 [00:32<07:33,  1.53s/it]"
          ]
        },
        {
          "output_type": "stream",
          "name": "stdout",
          "text": [
            "\n",
            "Loss: 6.898 | Epoch: 0/2 | 21/318\n"
          ]
        },
        {
          "output_type": "stream",
          "name": "stderr",
          "text": [
            "\rEpoch 1/2:   7%|▋         | 22/318 [00:34<07:32,  1.53s/it]"
          ]
        },
        {
          "output_type": "stream",
          "name": "stdout",
          "text": [
            "\n",
            "Loss: 4.595 | Epoch: 0/2 | 22/318\n"
          ]
        },
        {
          "output_type": "stream",
          "name": "stderr",
          "text": [
            "\rEpoch 1/2:   7%|▋         | 23/318 [00:35<07:36,  1.55s/it]"
          ]
        },
        {
          "output_type": "stream",
          "name": "stdout",
          "text": [
            "\n",
            "Loss: 5.216 | Epoch: 0/2 | 23/318\n"
          ]
        },
        {
          "output_type": "stream",
          "name": "stderr",
          "text": [
            "\rEpoch 1/2:   8%|▊         | 24/318 [00:37<07:36,  1.55s/it]"
          ]
        },
        {
          "output_type": "stream",
          "name": "stdout",
          "text": [
            "\n",
            "Loss: 2.884 | Epoch: 0/2 | 24/318\n"
          ]
        },
        {
          "output_type": "stream",
          "name": "stderr",
          "text": [
            "\rEpoch 1/2:   8%|▊         | 25/318 [00:38<07:36,  1.56s/it]"
          ]
        },
        {
          "output_type": "stream",
          "name": "stdout",
          "text": [
            "\n",
            "Loss: 0.424 | Epoch: 0/2 | 25/318\n"
          ]
        },
        {
          "output_type": "stream",
          "name": "stderr",
          "text": [
            "\rEpoch 1/2:   8%|▊         | 26/318 [00:40<07:36,  1.56s/it]"
          ]
        },
        {
          "output_type": "stream",
          "name": "stdout",
          "text": [
            "\n",
            "Loss: 2.775 | Epoch: 0/2 | 26/318\n"
          ]
        },
        {
          "output_type": "stream",
          "name": "stderr",
          "text": [
            "\rEpoch 1/2:   8%|▊         | 27/318 [00:41<07:35,  1.57s/it]"
          ]
        },
        {
          "output_type": "stream",
          "name": "stdout",
          "text": [
            "\n",
            "Loss: 2.957 | Epoch: 0/2 | 27/318\n"
          ]
        },
        {
          "output_type": "stream",
          "name": "stderr",
          "text": [
            "\rEpoch 1/2:   9%|▉         | 28/318 [00:43<07:29,  1.55s/it]"
          ]
        },
        {
          "output_type": "stream",
          "name": "stdout",
          "text": [
            "\n",
            "Loss: 1.633 | Epoch: 0/2 | 28/318\n"
          ]
        },
        {
          "output_type": "stream",
          "name": "stderr",
          "text": [
            "\rEpoch 1/2:   9%|▉         | 29/318 [00:45<07:27,  1.55s/it]"
          ]
        },
        {
          "output_type": "stream",
          "name": "stdout",
          "text": [
            "\n",
            "Loss: 2.126 | Epoch: 0/2 | 29/318\n"
          ]
        },
        {
          "output_type": "stream",
          "name": "stderr",
          "text": [
            "\rEpoch 1/2:   9%|▉         | 30/318 [00:46<07:25,  1.55s/it]"
          ]
        },
        {
          "output_type": "stream",
          "name": "stdout",
          "text": [
            "\n",
            "Loss: 0.32 | Epoch: 0/2 | 30/318\n"
          ]
        },
        {
          "output_type": "stream",
          "name": "stderr",
          "text": [
            "\rEpoch 1/2:  10%|▉         | 31/318 [00:48<07:20,  1.53s/it]"
          ]
        },
        {
          "output_type": "stream",
          "name": "stdout",
          "text": [
            "\n",
            "Loss: 1.348 | Epoch: 0/2 | 31/318\n"
          ]
        },
        {
          "output_type": "stream",
          "name": "stderr",
          "text": [
            "\rEpoch 1/2:  10%|█         | 32/318 [00:49<07:20,  1.54s/it]"
          ]
        },
        {
          "output_type": "stream",
          "name": "stdout",
          "text": [
            "\n",
            "Loss: 0.516 | Epoch: 0/2 | 32/318\n"
          ]
        },
        {
          "output_type": "stream",
          "name": "stderr",
          "text": [
            "\rEpoch 1/2:  10%|█         | 33/318 [00:51<07:04,  1.49s/it]"
          ]
        },
        {
          "output_type": "stream",
          "name": "stdout",
          "text": [
            "\n",
            "Loss: 0.283 | Epoch: 0/2 | 33/318\n"
          ]
        },
        {
          "output_type": "stream",
          "name": "stderr",
          "text": [
            "\rEpoch 1/2:  11%|█         | 34/318 [00:52<06:53,  1.46s/it]"
          ]
        },
        {
          "output_type": "stream",
          "name": "stdout",
          "text": [
            "\n",
            "Loss: 0.422 | Epoch: 0/2 | 34/318\n"
          ]
        },
        {
          "output_type": "stream",
          "name": "stderr",
          "text": [
            "\rEpoch 1/2:  11%|█         | 35/318 [00:53<06:59,  1.48s/it]"
          ]
        },
        {
          "output_type": "stream",
          "name": "stdout",
          "text": [
            "\n",
            "Loss: 0.314 | Epoch: 0/2 | 35/318\n"
          ]
        },
        {
          "output_type": "stream",
          "name": "stderr",
          "text": [
            "\rEpoch 1/2:  11%|█▏        | 36/318 [00:55<07:06,  1.51s/it]"
          ]
        },
        {
          "output_type": "stream",
          "name": "stdout",
          "text": [
            "\n",
            "Loss: 4.293 | Epoch: 0/2 | 36/318\n"
          ]
        },
        {
          "output_type": "stream",
          "name": "stderr",
          "text": [
            "\rEpoch 1/2:  12%|█▏        | 37/318 [00:57<07:05,  1.51s/it]"
          ]
        },
        {
          "output_type": "stream",
          "name": "stdout",
          "text": [
            "\n",
            "Loss: 2.14 | Epoch: 0/2 | 37/318\n"
          ]
        },
        {
          "output_type": "stream",
          "name": "stderr",
          "text": [
            "\rEpoch 1/2:  12%|█▏        | 38/318 [00:58<07:06,  1.52s/it]"
          ]
        },
        {
          "output_type": "stream",
          "name": "stdout",
          "text": [
            "\n",
            "Loss: 0.565 | Epoch: 0/2 | 38/318\n"
          ]
        },
        {
          "output_type": "stream",
          "name": "stderr",
          "text": [
            "\rEpoch 1/2:  12%|█▏        | 39/318 [01:00<07:05,  1.53s/it]"
          ]
        },
        {
          "output_type": "stream",
          "name": "stdout",
          "text": [
            "\n",
            "Loss: 1.196 | Epoch: 0/2 | 39/318\n"
          ]
        },
        {
          "output_type": "stream",
          "name": "stderr",
          "text": [
            "\rEpoch 1/2:  13%|█▎        | 40/318 [01:01<07:08,  1.54s/it]"
          ]
        },
        {
          "output_type": "stream",
          "name": "stdout",
          "text": [
            "\n",
            "Loss: 3.195 | Epoch: 0/2 | 40/318\n"
          ]
        },
        {
          "output_type": "stream",
          "name": "stderr",
          "text": [
            "\rEpoch 1/2:  13%|█▎        | 41/318 [01:03<06:52,  1.49s/it]"
          ]
        },
        {
          "output_type": "stream",
          "name": "stdout",
          "text": [
            "\n",
            "Loss: 0.407 | Epoch: 0/2 | 41/318\n"
          ]
        },
        {
          "output_type": "stream",
          "name": "stderr",
          "text": [
            "\rEpoch 1/2:  13%|█▎        | 42/318 [01:04<06:58,  1.52s/it]"
          ]
        },
        {
          "output_type": "stream",
          "name": "stdout",
          "text": [
            "\n",
            "Loss: 1.343 | Epoch: 0/2 | 42/318\n"
          ]
        },
        {
          "output_type": "stream",
          "name": "stderr",
          "text": [
            "\rEpoch 1/2:  14%|█▎        | 43/318 [01:06<07:01,  1.53s/it]"
          ]
        },
        {
          "output_type": "stream",
          "name": "stdout",
          "text": [
            "\n",
            "Loss: 4.373 | Epoch: 0/2 | 43/318\n"
          ]
        },
        {
          "output_type": "stream",
          "name": "stderr",
          "text": [
            "\rEpoch 1/2:  14%|█▍        | 44/318 [01:07<06:47,  1.49s/it]"
          ]
        },
        {
          "output_type": "stream",
          "name": "stdout",
          "text": [
            "\n",
            "Loss: 0.441 | Epoch: 0/2 | 44/318\n"
          ]
        },
        {
          "output_type": "stream",
          "name": "stderr",
          "text": [
            "\rEpoch 1/2:  14%|█▍        | 45/318 [01:09<06:50,  1.50s/it]"
          ]
        },
        {
          "output_type": "stream",
          "name": "stdout",
          "text": [
            "\n",
            "Loss: 2.593 | Epoch: 0/2 | 45/318\n"
          ]
        },
        {
          "output_type": "stream",
          "name": "stderr",
          "text": [
            "\rEpoch 1/2:  14%|█▍        | 46/318 [01:10<06:51,  1.51s/it]"
          ]
        },
        {
          "output_type": "stream",
          "name": "stdout",
          "text": [
            "\n",
            "Loss: 1.622 | Epoch: 0/2 | 46/318\n"
          ]
        },
        {
          "output_type": "stream",
          "name": "stderr",
          "text": [
            "\rEpoch 1/2:  15%|█▍        | 47/318 [01:12<06:51,  1.52s/it]"
          ]
        },
        {
          "output_type": "stream",
          "name": "stdout",
          "text": [
            "\n",
            "Loss: 0.604 | Epoch: 0/2 | 47/318\n"
          ]
        },
        {
          "output_type": "stream",
          "name": "stderr",
          "text": [
            "\rEpoch 1/2:  15%|█▌        | 48/318 [01:13<06:36,  1.47s/it]"
          ]
        },
        {
          "output_type": "stream",
          "name": "stdout",
          "text": [
            "\n",
            "Loss: 1.406 | Epoch: 0/2 | 48/318\n"
          ]
        },
        {
          "output_type": "stream",
          "name": "stderr",
          "text": [
            "\rEpoch 1/2:  15%|█▌        | 49/318 [01:15<06:43,  1.50s/it]"
          ]
        },
        {
          "output_type": "stream",
          "name": "stdout",
          "text": [
            "\n",
            "Loss: 1.149 | Epoch: 0/2 | 49/318\n"
          ]
        },
        {
          "output_type": "stream",
          "name": "stderr",
          "text": [
            "\rEpoch 1/2:  16%|█▌        | 50/318 [01:16<06:41,  1.50s/it]"
          ]
        },
        {
          "output_type": "stream",
          "name": "stdout",
          "text": [
            "\n",
            "Loss: 0.921 | Epoch: 0/2 | 50/318\n"
          ]
        },
        {
          "output_type": "stream",
          "name": "stderr",
          "text": [
            "\rEpoch 1/2:  16%|█▌        | 51/318 [01:18<06:30,  1.46s/it]"
          ]
        },
        {
          "output_type": "stream",
          "name": "stdout",
          "text": [
            "\n",
            "Loss: 1.7 | Epoch: 0/2 | 51/318\n"
          ]
        },
        {
          "output_type": "stream",
          "name": "stderr",
          "text": [
            "\rEpoch 1/2:  16%|█▋        | 52/318 [01:19<06:35,  1.49s/it]"
          ]
        },
        {
          "output_type": "stream",
          "name": "stdout",
          "text": [
            "\n",
            "Loss: 2.831 | Epoch: 0/2 | 52/318\n"
          ]
        },
        {
          "output_type": "stream",
          "name": "stderr",
          "text": [
            "\rEpoch 1/2:  17%|█▋        | 53/318 [01:21<06:40,  1.51s/it]"
          ]
        },
        {
          "output_type": "stream",
          "name": "stdout",
          "text": [
            "\n",
            "Loss: 2.658 | Epoch: 0/2 | 53/318\n"
          ]
        },
        {
          "output_type": "stream",
          "name": "stderr",
          "text": [
            "\rEpoch 1/2:  17%|█▋        | 54/318 [01:22<06:35,  1.50s/it]"
          ]
        },
        {
          "output_type": "stream",
          "name": "stdout",
          "text": [
            "\n",
            "Loss: 0.816 | Epoch: 0/2 | 54/318\n"
          ]
        },
        {
          "output_type": "stream",
          "name": "stderr",
          "text": [
            "\rEpoch 1/2:  17%|█▋        | 55/318 [01:24<06:37,  1.51s/it]"
          ]
        },
        {
          "output_type": "stream",
          "name": "stdout",
          "text": [
            "\n",
            "Loss: 0.862 | Epoch: 0/2 | 55/318\n"
          ]
        },
        {
          "output_type": "stream",
          "name": "stderr",
          "text": [
            "\rEpoch 1/2:  18%|█▊        | 56/318 [01:25<06:40,  1.53s/it]"
          ]
        },
        {
          "output_type": "stream",
          "name": "stdout",
          "text": [
            "\n",
            "Loss: 2.241 | Epoch: 0/2 | 56/318\n"
          ]
        },
        {
          "output_type": "stream",
          "name": "stderr",
          "text": [
            "\rEpoch 1/2:  18%|█▊        | 57/318 [01:27<06:42,  1.54s/it]"
          ]
        },
        {
          "output_type": "stream",
          "name": "stdout",
          "text": [
            "\n",
            "Loss: 0.213 | Epoch: 0/2 | 57/318\n"
          ]
        },
        {
          "output_type": "stream",
          "name": "stderr",
          "text": [
            "\rEpoch 1/2:  18%|█▊        | 58/318 [01:28<06:42,  1.55s/it]"
          ]
        },
        {
          "output_type": "stream",
          "name": "stdout",
          "text": [
            "\n",
            "Loss: 0.967 | Epoch: 0/2 | 58/318\n"
          ]
        },
        {
          "output_type": "stream",
          "name": "stderr",
          "text": [
            "\rEpoch 1/2:  19%|█▊        | 59/318 [01:30<06:41,  1.55s/it]"
          ]
        },
        {
          "output_type": "stream",
          "name": "stdout",
          "text": [
            "\n",
            "Loss: 3.218 | Epoch: 0/2 | 59/318\n"
          ]
        },
        {
          "output_type": "stream",
          "name": "stderr",
          "text": [
            "\rEpoch 1/2:  19%|█▉        | 60/318 [01:31<06:41,  1.56s/it]"
          ]
        },
        {
          "output_type": "stream",
          "name": "stdout",
          "text": [
            "\n",
            "Loss: 2.06 | Epoch: 0/2 | 60/318\n"
          ]
        },
        {
          "output_type": "stream",
          "name": "stderr",
          "text": [
            "\rEpoch 1/2:  19%|█▉        | 61/318 [01:33<06:39,  1.55s/it]"
          ]
        },
        {
          "output_type": "stream",
          "name": "stdout",
          "text": [
            "\n",
            "Loss: 0.194 | Epoch: 0/2 | 61/318\n"
          ]
        },
        {
          "output_type": "stream",
          "name": "stderr",
          "text": [
            "\rEpoch 1/2:  19%|█▉        | 62/318 [01:34<06:26,  1.51s/it]"
          ]
        },
        {
          "output_type": "stream",
          "name": "stdout",
          "text": [
            "\n",
            "Loss: 1.268 | Epoch: 0/2 | 62/318\n"
          ]
        },
        {
          "output_type": "stream",
          "name": "stderr",
          "text": [
            "\rEpoch 1/2:  20%|█▉        | 63/318 [01:36<06:30,  1.53s/it]"
          ]
        },
        {
          "output_type": "stream",
          "name": "stdout",
          "text": [
            "\n",
            "Loss: 2.811 | Epoch: 0/2 | 63/318\n"
          ]
        },
        {
          "output_type": "stream",
          "name": "stderr",
          "text": [
            "\rEpoch 1/2:  20%|██        | 64/318 [01:38<06:29,  1.54s/it]"
          ]
        },
        {
          "output_type": "stream",
          "name": "stdout",
          "text": [
            "\n",
            "Loss: 1.233 | Epoch: 0/2 | 64/318\n"
          ]
        },
        {
          "output_type": "stream",
          "name": "stderr",
          "text": [
            "\rEpoch 1/2:  20%|██        | 65/318 [01:39<06:19,  1.50s/it]"
          ]
        },
        {
          "output_type": "stream",
          "name": "stdout",
          "text": [
            "\n",
            "Loss: 4.566 | Epoch: 0/2 | 65/318\n"
          ]
        },
        {
          "output_type": "stream",
          "name": "stderr",
          "text": [
            "\rEpoch 1/2:  21%|██        | 66/318 [01:41<06:23,  1.52s/it]"
          ]
        },
        {
          "output_type": "stream",
          "name": "stdout",
          "text": [
            "\n",
            "Loss: 2.689 | Epoch: 0/2 | 66/318\n"
          ]
        },
        {
          "output_type": "stream",
          "name": "stderr",
          "text": [
            "\rEpoch 1/2:  21%|██        | 67/318 [01:42<06:24,  1.53s/it]"
          ]
        },
        {
          "output_type": "stream",
          "name": "stdout",
          "text": [
            "\n",
            "Loss: 0.192 | Epoch: 0/2 | 67/318\n"
          ]
        },
        {
          "output_type": "stream",
          "name": "stderr",
          "text": [
            "\rEpoch 1/2:  21%|██▏       | 68/318 [01:44<06:24,  1.54s/it]"
          ]
        },
        {
          "output_type": "stream",
          "name": "stdout",
          "text": [
            "\n",
            "Loss: 0.156 | Epoch: 0/2 | 68/318\n"
          ]
        },
        {
          "output_type": "stream",
          "name": "stderr",
          "text": [
            "\rEpoch 1/2:  22%|██▏       | 69/318 [01:45<06:22,  1.54s/it]"
          ]
        },
        {
          "output_type": "stream",
          "name": "stdout",
          "text": [
            "\n",
            "Loss: 1.388 | Epoch: 0/2 | 69/318\n"
          ]
        },
        {
          "output_type": "stream",
          "name": "stderr",
          "text": [
            "\rEpoch 1/2:  22%|██▏       | 70/318 [01:47<06:24,  1.55s/it]"
          ]
        },
        {
          "output_type": "stream",
          "name": "stdout",
          "text": [
            "\n",
            "Loss: 0.675 | Epoch: 0/2 | 70/318\n"
          ]
        },
        {
          "output_type": "stream",
          "name": "stderr",
          "text": [
            "\rEpoch 1/2:  22%|██▏       | 71/318 [01:48<06:21,  1.54s/it]"
          ]
        },
        {
          "output_type": "stream",
          "name": "stdout",
          "text": [
            "\n",
            "Loss: 0.606 | Epoch: 0/2 | 71/318\n"
          ]
        },
        {
          "output_type": "stream",
          "name": "stderr",
          "text": [
            "\rEpoch 1/2:  23%|██▎       | 72/318 [01:50<06:19,  1.54s/it]"
          ]
        },
        {
          "output_type": "stream",
          "name": "stdout",
          "text": [
            "\n",
            "Loss: 0.445 | Epoch: 0/2 | 72/318\n"
          ]
        },
        {
          "output_type": "stream",
          "name": "stderr",
          "text": [
            "\rEpoch 1/2:  23%|██▎       | 73/318 [01:51<06:20,  1.55s/it]"
          ]
        },
        {
          "output_type": "stream",
          "name": "stdout",
          "text": [
            "\n",
            "Loss: 2.108 | Epoch: 0/2 | 73/318\n"
          ]
        },
        {
          "output_type": "stream",
          "name": "stderr",
          "text": [
            "\rEpoch 1/2:  23%|██▎       | 74/318 [01:53<06:20,  1.56s/it]"
          ]
        },
        {
          "output_type": "stream",
          "name": "stdout",
          "text": [
            "\n",
            "Loss: 1.455 | Epoch: 0/2 | 74/318\n"
          ]
        },
        {
          "output_type": "stream",
          "name": "stderr",
          "text": [
            "\rEpoch 1/2:  24%|██▎       | 75/318 [01:55<06:17,  1.56s/it]"
          ]
        },
        {
          "output_type": "stream",
          "name": "stdout",
          "text": [
            "\n",
            "Loss: 1.453 | Epoch: 0/2 | 75/318\n"
          ]
        },
        {
          "output_type": "stream",
          "name": "stderr",
          "text": [
            "\rEpoch 1/2:  24%|██▍       | 76/318 [01:56<06:03,  1.50s/it]"
          ]
        },
        {
          "output_type": "stream",
          "name": "stdout",
          "text": [
            "\n",
            "Loss: 0.545 | Epoch: 0/2 | 76/318\n"
          ]
        },
        {
          "output_type": "stream",
          "name": "stderr",
          "text": [
            "\rEpoch 1/2:  24%|██▍       | 77/318 [01:57<06:04,  1.51s/it]"
          ]
        },
        {
          "output_type": "stream",
          "name": "stdout",
          "text": [
            "\n",
            "Loss: 0.635 | Epoch: 0/2 | 77/318\n"
          ]
        },
        {
          "output_type": "stream",
          "name": "stderr",
          "text": [
            "\rEpoch 1/2:  25%|██▍       | 78/318 [01:59<06:05,  1.52s/it]"
          ]
        },
        {
          "output_type": "stream",
          "name": "stdout",
          "text": [
            "\n",
            "Loss: 2.282 | Epoch: 0/2 | 78/318\n"
          ]
        },
        {
          "output_type": "stream",
          "name": "stderr",
          "text": [
            "\rEpoch 1/2:  25%|██▍       | 79/318 [02:01<06:05,  1.53s/it]"
          ]
        },
        {
          "output_type": "stream",
          "name": "stdout",
          "text": [
            "\n",
            "Loss: 0.505 | Epoch: 0/2 | 79/318\n"
          ]
        },
        {
          "output_type": "stream",
          "name": "stderr",
          "text": [
            "\rEpoch 1/2:  25%|██▌       | 80/318 [02:02<06:06,  1.54s/it]"
          ]
        },
        {
          "output_type": "stream",
          "name": "stdout",
          "text": [
            "\n",
            "Loss: 0.444 | Epoch: 0/2 | 80/318\n"
          ]
        },
        {
          "output_type": "stream",
          "name": "stderr",
          "text": [
            "\rEpoch 1/2:  25%|██▌       | 81/318 [02:03<05:52,  1.49s/it]"
          ]
        },
        {
          "output_type": "stream",
          "name": "stdout",
          "text": [
            "\n",
            "Loss: 2.423 | Epoch: 0/2 | 81/318\n"
          ]
        },
        {
          "output_type": "stream",
          "name": "stderr",
          "text": [
            "\rEpoch 1/2:  26%|██▌       | 82/318 [02:05<05:58,  1.52s/it]"
          ]
        },
        {
          "output_type": "stream",
          "name": "stdout",
          "text": [
            "\n",
            "Loss: 1.496 | Epoch: 0/2 | 82/318\n"
          ]
        },
        {
          "output_type": "stream",
          "name": "stderr",
          "text": [
            "\rEpoch 1/2:  26%|██▌       | 83/318 [02:07<06:00,  1.53s/it]"
          ]
        },
        {
          "output_type": "stream",
          "name": "stdout",
          "text": [
            "\n",
            "Loss: 1.759 | Epoch: 0/2 | 83/318\n"
          ]
        },
        {
          "output_type": "stream",
          "name": "stderr",
          "text": [
            "\rEpoch 1/2:  26%|██▋       | 84/318 [02:08<05:59,  1.54s/it]"
          ]
        },
        {
          "output_type": "stream",
          "name": "stdout",
          "text": [
            "\n",
            "Loss: 1.822 | Epoch: 0/2 | 84/318\n"
          ]
        },
        {
          "output_type": "stream",
          "name": "stderr",
          "text": [
            "\rEpoch 1/2:  27%|██▋       | 85/318 [02:10<06:01,  1.55s/it]"
          ]
        },
        {
          "output_type": "stream",
          "name": "stdout",
          "text": [
            "\n",
            "Loss: 0.568 | Epoch: 0/2 | 85/318\n"
          ]
        },
        {
          "output_type": "stream",
          "name": "stderr",
          "text": [
            "\rEpoch 1/2:  27%|██▋       | 86/318 [02:11<05:47,  1.50s/it]"
          ]
        },
        {
          "output_type": "stream",
          "name": "stdout",
          "text": [
            "\n",
            "Loss: 0.88 | Epoch: 0/2 | 86/318\n"
          ]
        },
        {
          "output_type": "stream",
          "name": "stderr",
          "text": [
            "\rEpoch 1/2:  27%|██▋       | 87/318 [02:13<05:50,  1.52s/it]"
          ]
        },
        {
          "output_type": "stream",
          "name": "stdout",
          "text": [
            "\n",
            "Loss: 1.234 | Epoch: 0/2 | 87/318\n"
          ]
        },
        {
          "output_type": "stream",
          "name": "stderr",
          "text": [
            "\rEpoch 1/2:  28%|██▊       | 88/318 [02:14<05:46,  1.51s/it]"
          ]
        },
        {
          "output_type": "stream",
          "name": "stdout",
          "text": [
            "\n",
            "Loss: 1.808 | Epoch: 0/2 | 88/318\n"
          ]
        },
        {
          "output_type": "stream",
          "name": "stderr",
          "text": [
            "\rEpoch 1/2:  28%|██▊       | 89/318 [02:16<05:50,  1.53s/it]"
          ]
        },
        {
          "output_type": "stream",
          "name": "stdout",
          "text": [
            "\n",
            "Loss: 3.754 | Epoch: 0/2 | 89/318\n"
          ]
        },
        {
          "output_type": "stream",
          "name": "stderr",
          "text": [
            "\rEpoch 1/2:  28%|██▊       | 90/318 [02:17<05:51,  1.54s/it]"
          ]
        },
        {
          "output_type": "stream",
          "name": "stdout",
          "text": [
            "\n",
            "Loss: 3.748 | Epoch: 0/2 | 90/318\n"
          ]
        },
        {
          "output_type": "stream",
          "name": "stderr",
          "text": [
            "\rEpoch 1/2:  29%|██▊       | 91/318 [02:19<05:50,  1.54s/it]"
          ]
        },
        {
          "output_type": "stream",
          "name": "stdout",
          "text": [
            "\n",
            "Loss: 2.523 | Epoch: 0/2 | 91/318\n"
          ]
        },
        {
          "output_type": "stream",
          "name": "stderr",
          "text": [
            "\rEpoch 1/2:  29%|██▉       | 92/318 [02:20<05:45,  1.53s/it]"
          ]
        },
        {
          "output_type": "stream",
          "name": "stdout",
          "text": [
            "\n",
            "Loss: 4.641 | Epoch: 0/2 | 92/318\n"
          ]
        },
        {
          "output_type": "stream",
          "name": "stderr",
          "text": [
            "\rEpoch 1/2:  29%|██▉       | 93/318 [02:22<05:47,  1.54s/it]"
          ]
        },
        {
          "output_type": "stream",
          "name": "stdout",
          "text": [
            "\n",
            "Loss: 0.235 | Epoch: 0/2 | 93/318\n"
          ]
        },
        {
          "output_type": "stream",
          "name": "stderr",
          "text": [
            "\rEpoch 1/2:  30%|██▉       | 94/318 [02:23<05:45,  1.54s/it]"
          ]
        },
        {
          "output_type": "stream",
          "name": "stdout",
          "text": [
            "\n",
            "Loss: 0.677 | Epoch: 0/2 | 94/318\n"
          ]
        },
        {
          "output_type": "stream",
          "name": "stderr",
          "text": [
            "\rEpoch 1/2:  30%|██▉       | 95/318 [02:25<05:45,  1.55s/it]"
          ]
        },
        {
          "output_type": "stream",
          "name": "stdout",
          "text": [
            "\n",
            "Loss: 0.501 | Epoch: 0/2 | 95/318\n"
          ]
        },
        {
          "output_type": "stream",
          "name": "stderr",
          "text": [
            "\rEpoch 1/2:  30%|███       | 96/318 [02:27<05:46,  1.56s/it]"
          ]
        },
        {
          "output_type": "stream",
          "name": "stdout",
          "text": [
            "\n",
            "Loss: 0.486 | Epoch: 0/2 | 96/318\n"
          ]
        },
        {
          "output_type": "stream",
          "name": "stderr",
          "text": [
            "\rEpoch 1/2:  31%|███       | 97/318 [02:28<05:42,  1.55s/it]"
          ]
        },
        {
          "output_type": "stream",
          "name": "stdout",
          "text": [
            "\n",
            "Loss: 2.758 | Epoch: 0/2 | 97/318\n"
          ]
        },
        {
          "output_type": "stream",
          "name": "stderr",
          "text": [
            "\rEpoch 1/2:  31%|███       | 98/318 [02:30<05:42,  1.56s/it]"
          ]
        },
        {
          "output_type": "stream",
          "name": "stdout",
          "text": [
            "\n",
            "Loss: 1.209 | Epoch: 0/2 | 98/318\n"
          ]
        },
        {
          "output_type": "stream",
          "name": "stderr",
          "text": [
            "\rEpoch 1/2:  31%|███       | 99/318 [02:31<05:37,  1.54s/it]"
          ]
        },
        {
          "output_type": "stream",
          "name": "stdout",
          "text": [
            "\n",
            "Loss: 0.196 | Epoch: 0/2 | 99/318\n"
          ]
        },
        {
          "output_type": "stream",
          "name": "stderr",
          "text": [
            "\rEpoch 1/2:  31%|███▏      | 100/318 [02:33<05:37,  1.55s/it]"
          ]
        },
        {
          "output_type": "stream",
          "name": "stdout",
          "text": [
            "\n",
            "Loss: 1.941 | Epoch: 0/2 | 100/318\n"
          ]
        },
        {
          "output_type": "stream",
          "name": "stderr",
          "text": [
            "\rEpoch 1/2:  32%|███▏      | 101/318 [02:34<05:37,  1.56s/it]"
          ]
        },
        {
          "output_type": "stream",
          "name": "stdout",
          "text": [
            "\n",
            "Loss: 2.558 | Epoch: 0/2 | 101/318\n"
          ]
        },
        {
          "output_type": "stream",
          "name": "stderr",
          "text": [
            "\rEpoch 1/2:  32%|███▏      | 102/318 [02:36<05:35,  1.55s/it]"
          ]
        },
        {
          "output_type": "stream",
          "name": "stdout",
          "text": [
            "\n",
            "Loss: 2.043 | Epoch: 0/2 | 102/318\n"
          ]
        },
        {
          "output_type": "stream",
          "name": "stderr",
          "text": [
            "\rEpoch 1/2:  32%|███▏      | 103/318 [02:37<05:35,  1.56s/it]"
          ]
        },
        {
          "output_type": "stream",
          "name": "stdout",
          "text": [
            "\n",
            "Loss: 3.61 | Epoch: 0/2 | 103/318\n"
          ]
        },
        {
          "output_type": "stream",
          "name": "stderr",
          "text": [
            "\rEpoch 1/2:  33%|███▎      | 104/318 [02:39<05:23,  1.51s/it]"
          ]
        },
        {
          "output_type": "stream",
          "name": "stdout",
          "text": [
            "\n",
            "Loss: 2.571 | Epoch: 0/2 | 104/318\n"
          ]
        },
        {
          "output_type": "stream",
          "name": "stderr",
          "text": [
            "\rEpoch 1/2:  33%|███▎      | 105/318 [02:40<05:23,  1.52s/it]"
          ]
        },
        {
          "output_type": "stream",
          "name": "stdout",
          "text": [
            "\n",
            "Loss: 0.817 | Epoch: 0/2 | 105/318\n"
          ]
        },
        {
          "output_type": "stream",
          "name": "stderr",
          "text": [
            "\rEpoch 1/2:  33%|███▎      | 106/318 [02:42<05:23,  1.53s/it]"
          ]
        },
        {
          "output_type": "stream",
          "name": "stdout",
          "text": [
            "\n",
            "Loss: 0.145 | Epoch: 0/2 | 106/318\n"
          ]
        },
        {
          "output_type": "stream",
          "name": "stderr",
          "text": [
            "\rEpoch 1/2:  34%|███▎      | 107/318 [02:44<05:23,  1.53s/it]"
          ]
        },
        {
          "output_type": "stream",
          "name": "stdout",
          "text": [
            "\n",
            "Loss: 0.202 | Epoch: 0/2 | 107/318\n"
          ]
        },
        {
          "output_type": "stream",
          "name": "stderr",
          "text": [
            "\rEpoch 1/2:  34%|███▍      | 108/318 [02:45<05:24,  1.54s/it]"
          ]
        },
        {
          "output_type": "stream",
          "name": "stdout",
          "text": [
            "\n",
            "Loss: 0.14 | Epoch: 0/2 | 108/318\n"
          ]
        },
        {
          "output_type": "stream",
          "name": "stderr",
          "text": [
            "\rEpoch 1/2:  34%|███▍      | 109/318 [02:46<05:12,  1.50s/it]"
          ]
        },
        {
          "output_type": "stream",
          "name": "stdout",
          "text": [
            "\n",
            "Loss: 2.831 | Epoch: 0/2 | 109/318\n"
          ]
        },
        {
          "output_type": "stream",
          "name": "stderr",
          "text": [
            "\rEpoch 1/2:  35%|███▍      | 110/318 [02:48<05:13,  1.51s/it]"
          ]
        },
        {
          "output_type": "stream",
          "name": "stdout",
          "text": [
            "\n",
            "Loss: 0.197 | Epoch: 0/2 | 110/318\n"
          ]
        },
        {
          "output_type": "stream",
          "name": "stderr",
          "text": [
            "\rEpoch 1/2:  35%|███▍      | 111/318 [02:49<05:03,  1.47s/it]"
          ]
        },
        {
          "output_type": "stream",
          "name": "stdout",
          "text": [
            "\n",
            "Loss: 0.675 | Epoch: 0/2 | 111/318\n"
          ]
        },
        {
          "output_type": "stream",
          "name": "stderr",
          "text": [
            "\rEpoch 1/2:  35%|███▌      | 112/318 [02:51<05:04,  1.48s/it]"
          ]
        },
        {
          "output_type": "stream",
          "name": "stdout",
          "text": [
            "\n",
            "Loss: 1.556 | Epoch: 0/2 | 112/318\n"
          ]
        },
        {
          "output_type": "stream",
          "name": "stderr",
          "text": [
            "\rEpoch 1/2:  36%|███▌      | 113/318 [02:52<04:57,  1.45s/it]"
          ]
        },
        {
          "output_type": "stream",
          "name": "stdout",
          "text": [
            "\n",
            "Loss: 2.474 | Epoch: 0/2 | 113/318\n"
          ]
        },
        {
          "output_type": "stream",
          "name": "stderr",
          "text": [
            "\rEpoch 1/2:  36%|███▌      | 114/318 [02:54<05:03,  1.49s/it]"
          ]
        },
        {
          "output_type": "stream",
          "name": "stdout",
          "text": [
            "\n",
            "Loss: 2.11 | Epoch: 0/2 | 114/318\n"
          ]
        },
        {
          "output_type": "stream",
          "name": "stderr",
          "text": [
            "\rEpoch 1/2:  36%|███▌      | 115/318 [02:55<05:06,  1.51s/it]"
          ]
        },
        {
          "output_type": "stream",
          "name": "stdout",
          "text": [
            "\n",
            "Loss: 2.385 | Epoch: 0/2 | 115/318\n"
          ]
        },
        {
          "output_type": "stream",
          "name": "stderr",
          "text": [
            "\rEpoch 1/2:  36%|███▋      | 116/318 [02:57<05:06,  1.52s/it]"
          ]
        },
        {
          "output_type": "stream",
          "name": "stdout",
          "text": [
            "\n",
            "Loss: 0.995 | Epoch: 0/2 | 116/318\n"
          ]
        },
        {
          "output_type": "stream",
          "name": "stderr",
          "text": [
            "\rEpoch 1/2:  37%|███▋      | 117/318 [02:58<05:06,  1.52s/it]"
          ]
        },
        {
          "output_type": "stream",
          "name": "stdout",
          "text": [
            "\n",
            "Loss: 1.339 | Epoch: 0/2 | 117/318\n"
          ]
        },
        {
          "output_type": "stream",
          "name": "stderr",
          "text": [
            "\rEpoch 1/2:  37%|███▋      | 118/318 [03:00<05:07,  1.54s/it]"
          ]
        },
        {
          "output_type": "stream",
          "name": "stdout",
          "text": [
            "\n",
            "Loss: 3.312 | Epoch: 0/2 | 118/318\n"
          ]
        },
        {
          "output_type": "stream",
          "name": "stderr",
          "text": [
            "\rEpoch 1/2:  37%|███▋      | 119/318 [03:01<04:55,  1.49s/it]"
          ]
        },
        {
          "output_type": "stream",
          "name": "stdout",
          "text": [
            "\n",
            "Loss: 0.524 | Epoch: 0/2 | 119/318\n"
          ]
        },
        {
          "output_type": "stream",
          "name": "stderr",
          "text": [
            "\rEpoch 1/2:  38%|███▊      | 120/318 [03:03<04:47,  1.45s/it]"
          ]
        },
        {
          "output_type": "stream",
          "name": "stdout",
          "text": [
            "\n",
            "Loss: 0.579 | Epoch: 0/2 | 120/318\n"
          ]
        },
        {
          "output_type": "stream",
          "name": "stderr",
          "text": [
            "\rEpoch 1/2:  38%|███▊      | 121/318 [03:04<04:51,  1.48s/it]"
          ]
        },
        {
          "output_type": "stream",
          "name": "stdout",
          "text": [
            "\n",
            "Loss: 1.861 | Epoch: 0/2 | 121/318\n"
          ]
        },
        {
          "output_type": "stream",
          "name": "stderr",
          "text": [
            "\rEpoch 1/2:  38%|███▊      | 122/318 [03:06<04:55,  1.51s/it]"
          ]
        },
        {
          "output_type": "stream",
          "name": "stdout",
          "text": [
            "\n",
            "Loss: 3.167 | Epoch: 0/2 | 122/318\n"
          ]
        },
        {
          "output_type": "stream",
          "name": "stderr",
          "text": [
            "\rEpoch 1/2:  39%|███▊      | 123/318 [03:07<04:53,  1.51s/it]"
          ]
        },
        {
          "output_type": "stream",
          "name": "stdout",
          "text": [
            "\n",
            "Loss: 0.278 | Epoch: 0/2 | 123/318\n"
          ]
        },
        {
          "output_type": "stream",
          "name": "stderr",
          "text": [
            "\rEpoch 1/2:  39%|███▉      | 124/318 [03:09<04:45,  1.47s/it]"
          ]
        },
        {
          "output_type": "stream",
          "name": "stdout",
          "text": [
            "\n",
            "Loss: 2.071 | Epoch: 0/2 | 124/318\n"
          ]
        },
        {
          "output_type": "stream",
          "name": "stderr",
          "text": [
            "\rEpoch 1/2:  39%|███▉      | 125/318 [03:10<04:38,  1.44s/it]"
          ]
        },
        {
          "output_type": "stream",
          "name": "stdout",
          "text": [
            "\n",
            "Loss: 3.041 | Epoch: 0/2 | 125/318\n"
          ]
        },
        {
          "output_type": "stream",
          "name": "stderr",
          "text": [
            "\rEpoch 1/2:  40%|███▉      | 126/318 [03:12<04:42,  1.47s/it]"
          ]
        },
        {
          "output_type": "stream",
          "name": "stdout",
          "text": [
            "\n",
            "Loss: 1.152 | Epoch: 0/2 | 126/318\n"
          ]
        },
        {
          "output_type": "stream",
          "name": "stderr",
          "text": [
            "\rEpoch 1/2:  40%|███▉      | 127/318 [03:13<04:35,  1.44s/it]"
          ]
        },
        {
          "output_type": "stream",
          "name": "stdout",
          "text": [
            "\n",
            "Loss: 1.225 | Epoch: 0/2 | 127/318\n"
          ]
        },
        {
          "output_type": "stream",
          "name": "stderr",
          "text": [
            "\rEpoch 1/2:  40%|████      | 128/318 [03:14<04:31,  1.43s/it]"
          ]
        },
        {
          "output_type": "stream",
          "name": "stdout",
          "text": [
            "\n",
            "Loss: 0.551 | Epoch: 0/2 | 128/318\n"
          ]
        },
        {
          "output_type": "stream",
          "name": "stderr",
          "text": [
            "\rEpoch 1/2:  41%|████      | 129/318 [03:16<04:38,  1.47s/it]"
          ]
        },
        {
          "output_type": "stream",
          "name": "stdout",
          "text": [
            "\n",
            "Loss: 1.549 | Epoch: 0/2 | 129/318\n"
          ]
        },
        {
          "output_type": "stream",
          "name": "stderr",
          "text": [
            "\rEpoch 1/2:  41%|████      | 130/318 [03:18<04:39,  1.49s/it]"
          ]
        },
        {
          "output_type": "stream",
          "name": "stdout",
          "text": [
            "\n",
            "Loss: 2.324 | Epoch: 0/2 | 130/318\n"
          ]
        },
        {
          "output_type": "stream",
          "name": "stderr",
          "text": [
            "\rEpoch 1/2:  41%|████      | 131/318 [03:19<04:40,  1.50s/it]"
          ]
        },
        {
          "output_type": "stream",
          "name": "stdout",
          "text": [
            "\n",
            "Loss: 2.872 | Epoch: 0/2 | 131/318\n"
          ]
        },
        {
          "output_type": "stream",
          "name": "stderr",
          "text": [
            "\rEpoch 1/2:  42%|████▏     | 132/318 [03:21<04:43,  1.52s/it]"
          ]
        },
        {
          "output_type": "stream",
          "name": "stdout",
          "text": [
            "\n",
            "Loss: 1.801 | Epoch: 0/2 | 132/318\n"
          ]
        },
        {
          "output_type": "stream",
          "name": "stderr",
          "text": [
            "\rEpoch 1/2:  42%|████▏     | 133/318 [03:22<04:44,  1.54s/it]"
          ]
        },
        {
          "output_type": "stream",
          "name": "stdout",
          "text": [
            "\n",
            "Loss: 0.446 | Epoch: 0/2 | 133/318\n"
          ]
        },
        {
          "output_type": "stream",
          "name": "stderr",
          "text": [
            "\rEpoch 1/2:  42%|████▏     | 134/318 [03:24<04:40,  1.53s/it]"
          ]
        },
        {
          "output_type": "stream",
          "name": "stdout",
          "text": [
            "\n",
            "Loss: 0.583 | Epoch: 0/2 | 134/318\n"
          ]
        },
        {
          "output_type": "stream",
          "name": "stderr",
          "text": [
            "\rEpoch 1/2:  42%|████▏     | 135/318 [03:25<04:41,  1.54s/it]"
          ]
        },
        {
          "output_type": "stream",
          "name": "stdout",
          "text": [
            "\n",
            "Loss: 2.823 | Epoch: 0/2 | 135/318\n"
          ]
        },
        {
          "output_type": "stream",
          "name": "stderr",
          "text": [
            "\rEpoch 1/2:  43%|████▎     | 136/318 [03:27<04:39,  1.54s/it]"
          ]
        },
        {
          "output_type": "stream",
          "name": "stdout",
          "text": [
            "\n",
            "Loss: 0.498 | Epoch: 0/2 | 136/318\n"
          ]
        },
        {
          "output_type": "stream",
          "name": "stderr",
          "text": [
            "\rEpoch 1/2:  43%|████▎     | 137/318 [03:28<04:38,  1.54s/it]"
          ]
        },
        {
          "output_type": "stream",
          "name": "stdout",
          "text": [
            "\n",
            "Loss: 0.627 | Epoch: 0/2 | 137/318\n"
          ]
        },
        {
          "output_type": "stream",
          "name": "stderr",
          "text": [
            "\rEpoch 1/2:  43%|████▎     | 138/318 [03:30<04:37,  1.54s/it]"
          ]
        },
        {
          "output_type": "stream",
          "name": "stdout",
          "text": [
            "\n",
            "Loss: 0.637 | Epoch: 0/2 | 138/318\n"
          ]
        },
        {
          "output_type": "stream",
          "name": "stderr",
          "text": [
            "\rEpoch 1/2:  44%|████▎     | 139/318 [03:32<04:37,  1.55s/it]"
          ]
        },
        {
          "output_type": "stream",
          "name": "stdout",
          "text": [
            "\n",
            "Loss: 1.614 | Epoch: 0/2 | 139/318\n"
          ]
        },
        {
          "output_type": "stream",
          "name": "stderr",
          "text": [
            "\rEpoch 1/2:  44%|████▍     | 140/318 [03:33<04:34,  1.54s/it]"
          ]
        },
        {
          "output_type": "stream",
          "name": "stdout",
          "text": [
            "\n",
            "Loss: 1.826 | Epoch: 0/2 | 140/318\n"
          ]
        },
        {
          "output_type": "stream",
          "name": "stderr",
          "text": [
            "\rEpoch 1/2:  44%|████▍     | 141/318 [03:35<04:35,  1.56s/it]"
          ]
        },
        {
          "output_type": "stream",
          "name": "stdout",
          "text": [
            "\n",
            "Loss: 1.628 | Epoch: 0/2 | 141/318\n"
          ]
        },
        {
          "output_type": "stream",
          "name": "stderr",
          "text": [
            "\rEpoch 1/2:  45%|████▍     | 142/318 [03:36<04:32,  1.55s/it]"
          ]
        },
        {
          "output_type": "stream",
          "name": "stdout",
          "text": [
            "\n",
            "Loss: 0.213 | Epoch: 0/2 | 142/318\n"
          ]
        },
        {
          "output_type": "stream",
          "name": "stderr",
          "text": [
            "\rEpoch 1/2:  45%|████▍     | 143/318 [03:38<04:22,  1.50s/it]"
          ]
        },
        {
          "output_type": "stream",
          "name": "stdout",
          "text": [
            "\n",
            "Loss: 1.456 | Epoch: 0/2 | 143/318\n"
          ]
        },
        {
          "output_type": "stream",
          "name": "stderr",
          "text": [
            "\rEpoch 1/2:  45%|████▌     | 144/318 [03:39<04:23,  1.51s/it]"
          ]
        },
        {
          "output_type": "stream",
          "name": "stdout",
          "text": [
            "\n",
            "Loss: 0.129 | Epoch: 0/2 | 144/318\n"
          ]
        },
        {
          "output_type": "stream",
          "name": "stderr",
          "text": [
            "\rEpoch 1/2:  46%|████▌     | 145/318 [03:41<04:23,  1.52s/it]"
          ]
        },
        {
          "output_type": "stream",
          "name": "stdout",
          "text": [
            "\n",
            "Loss: 0.224 | Epoch: 0/2 | 145/318\n"
          ]
        },
        {
          "output_type": "stream",
          "name": "stderr",
          "text": [
            "\rEpoch 1/2:  46%|████▌     | 146/318 [03:42<04:22,  1.53s/it]"
          ]
        },
        {
          "output_type": "stream",
          "name": "stdout",
          "text": [
            "\n",
            "Loss: 0.503 | Epoch: 0/2 | 146/318\n"
          ]
        },
        {
          "output_type": "stream",
          "name": "stderr",
          "text": [
            "\rEpoch 1/2:  46%|████▌     | 147/318 [03:43<04:05,  1.44s/it]"
          ]
        },
        {
          "output_type": "stream",
          "name": "stdout",
          "text": [
            "\n",
            "Loss: 0.16 | Epoch: 0/2 | 147/318\n"
          ]
        },
        {
          "output_type": "stream",
          "name": "stderr",
          "text": [
            "\rEpoch 1/2:  47%|████▋     | 148/318 [03:45<04:11,  1.48s/it]"
          ]
        },
        {
          "output_type": "stream",
          "name": "stdout",
          "text": [
            "\n",
            "Loss: 0.781 | Epoch: 0/2 | 148/318\n"
          ]
        },
        {
          "output_type": "stream",
          "name": "stderr",
          "text": [
            "\rEpoch 1/2:  47%|████▋     | 149/318 [03:47<04:13,  1.50s/it]"
          ]
        },
        {
          "output_type": "stream",
          "name": "stdout",
          "text": [
            "\n",
            "Loss: 0.398 | Epoch: 0/2 | 149/318\n"
          ]
        },
        {
          "output_type": "stream",
          "name": "stderr",
          "text": [
            "\rEpoch 1/2:  47%|████▋     | 150/318 [03:48<04:13,  1.51s/it]"
          ]
        },
        {
          "output_type": "stream",
          "name": "stdout",
          "text": [
            "\n",
            "Loss: 1.208 | Epoch: 0/2 | 150/318\n"
          ]
        },
        {
          "output_type": "stream",
          "name": "stderr",
          "text": [
            "\rEpoch 1/2:  47%|████▋     | 151/318 [03:50<04:14,  1.52s/it]"
          ]
        },
        {
          "output_type": "stream",
          "name": "stdout",
          "text": [
            "\n",
            "Loss: 0.823 | Epoch: 0/2 | 151/318\n"
          ]
        },
        {
          "output_type": "stream",
          "name": "stderr",
          "text": [
            "\rEpoch 1/2:  48%|████▊     | 152/318 [03:51<04:13,  1.53s/it]"
          ]
        },
        {
          "output_type": "stream",
          "name": "stdout",
          "text": [
            "\n",
            "Loss: 1.924 | Epoch: 0/2 | 152/318\n"
          ]
        },
        {
          "output_type": "stream",
          "name": "stderr",
          "text": [
            "\rEpoch 1/2:  48%|████▊     | 153/318 [03:53<04:12,  1.53s/it]"
          ]
        },
        {
          "output_type": "stream",
          "name": "stdout",
          "text": [
            "\n",
            "Loss: 2.959 | Epoch: 0/2 | 153/318\n"
          ]
        },
        {
          "output_type": "stream",
          "name": "stderr",
          "text": [
            "\rEpoch 1/2:  48%|████▊     | 154/318 [03:54<04:11,  1.53s/it]"
          ]
        },
        {
          "output_type": "stream",
          "name": "stdout",
          "text": [
            "\n",
            "Loss: 0.596 | Epoch: 0/2 | 154/318\n"
          ]
        },
        {
          "output_type": "stream",
          "name": "stderr",
          "text": [
            "\rEpoch 1/2:  49%|████▊     | 155/318 [03:56<04:13,  1.56s/it]"
          ]
        },
        {
          "output_type": "stream",
          "name": "stdout",
          "text": [
            "\n",
            "Loss: 2.101 | Epoch: 0/2 | 155/318\n"
          ]
        },
        {
          "output_type": "stream",
          "name": "stderr",
          "text": [
            "\rEpoch 1/2:  49%|████▉     | 156/318 [03:57<04:08,  1.54s/it]"
          ]
        },
        {
          "output_type": "stream",
          "name": "stdout",
          "text": [
            "\n",
            "Loss: 0.691 | Epoch: 0/2 | 156/318\n"
          ]
        },
        {
          "output_type": "stream",
          "name": "stderr",
          "text": [
            "\rEpoch 1/2:  49%|████▉     | 157/318 [03:59<04:07,  1.54s/it]"
          ]
        },
        {
          "output_type": "stream",
          "name": "stdout",
          "text": [
            "\n",
            "Loss: 0.773 | Epoch: 0/2 | 157/318\n"
          ]
        },
        {
          "output_type": "stream",
          "name": "stderr",
          "text": [
            "\rEpoch 1/2:  50%|████▉     | 158/318 [04:00<04:00,  1.50s/it]"
          ]
        },
        {
          "output_type": "stream",
          "name": "stdout",
          "text": [
            "\n",
            "Loss: 0.149 | Epoch: 0/2 | 158/318\n"
          ]
        },
        {
          "output_type": "stream",
          "name": "stderr",
          "text": [
            "\rEpoch 1/2:  50%|█████     | 159/318 [04:02<04:02,  1.52s/it]"
          ]
        },
        {
          "output_type": "stream",
          "name": "stdout",
          "text": [
            "\n",
            "Loss: 0.414 | Epoch: 0/2 | 159/318\n"
          ]
        },
        {
          "output_type": "stream",
          "name": "stderr",
          "text": [
            "\rEpoch 1/2:  50%|█████     | 160/318 [04:03<03:53,  1.48s/it]"
          ]
        },
        {
          "output_type": "stream",
          "name": "stdout",
          "text": [
            "\n",
            "Loss: 0.427 | Epoch: 0/2 | 160/318\n"
          ]
        },
        {
          "output_type": "stream",
          "name": "stderr",
          "text": [
            "\rEpoch 1/2:  51%|█████     | 161/318 [04:05<03:56,  1.51s/it]"
          ]
        },
        {
          "output_type": "stream",
          "name": "stdout",
          "text": [
            "\n",
            "Loss: 1.325 | Epoch: 0/2 | 161/318\n"
          ]
        },
        {
          "output_type": "stream",
          "name": "stderr",
          "text": [
            "\rEpoch 1/2:  51%|█████     | 162/318 [04:06<03:56,  1.52s/it]"
          ]
        },
        {
          "output_type": "stream",
          "name": "stdout",
          "text": [
            "\n",
            "Loss: 0.645 | Epoch: 0/2 | 162/318\n"
          ]
        },
        {
          "output_type": "stream",
          "name": "stderr",
          "text": [
            "\rEpoch 1/2:  51%|█████▏    | 163/318 [04:08<03:50,  1.48s/it]"
          ]
        },
        {
          "output_type": "stream",
          "name": "stdout",
          "text": [
            "\n",
            "Loss: 2.263 | Epoch: 0/2 | 163/318\n"
          ]
        },
        {
          "output_type": "stream",
          "name": "stderr",
          "text": [
            "\rEpoch 1/2:  52%|█████▏    | 164/318 [04:09<03:43,  1.45s/it]"
          ]
        },
        {
          "output_type": "stream",
          "name": "stdout",
          "text": [
            "\n",
            "Loss: 2.539 | Epoch: 0/2 | 164/318\n"
          ]
        },
        {
          "output_type": "stream",
          "name": "stderr",
          "text": [
            "\rEpoch 1/2:  52%|█████▏    | 165/318 [04:11<03:47,  1.49s/it]"
          ]
        },
        {
          "output_type": "stream",
          "name": "stdout",
          "text": [
            "\n",
            "Loss: 2.802 | Epoch: 0/2 | 165/318\n"
          ]
        },
        {
          "output_type": "stream",
          "name": "stderr",
          "text": [
            "\rEpoch 1/2:  52%|█████▏    | 166/318 [04:12<03:48,  1.50s/it]"
          ]
        },
        {
          "output_type": "stream",
          "name": "stdout",
          "text": [
            "\n",
            "Loss: 0.347 | Epoch: 0/2 | 166/318\n"
          ]
        },
        {
          "output_type": "stream",
          "name": "stderr",
          "text": [
            "\rEpoch 1/2:  53%|█████▎    | 167/318 [04:14<03:50,  1.53s/it]"
          ]
        },
        {
          "output_type": "stream",
          "name": "stdout",
          "text": [
            "\n",
            "Loss: 2.037 | Epoch: 0/2 | 167/318\n"
          ]
        },
        {
          "output_type": "stream",
          "name": "stderr",
          "text": [
            "\rEpoch 1/2:  53%|█████▎    | 168/318 [04:15<03:51,  1.54s/it]"
          ]
        },
        {
          "output_type": "stream",
          "name": "stdout",
          "text": [
            "\n",
            "Loss: 2.699 | Epoch: 0/2 | 168/318\n"
          ]
        },
        {
          "output_type": "stream",
          "name": "stderr",
          "text": [
            "\rEpoch 1/2:  53%|█████▎    | 169/318 [04:17<03:49,  1.54s/it]"
          ]
        },
        {
          "output_type": "stream",
          "name": "stdout",
          "text": [
            "\n",
            "Loss: 0.902 | Epoch: 0/2 | 169/318\n"
          ]
        },
        {
          "output_type": "stream",
          "name": "stderr",
          "text": [
            "\rEpoch 1/2:  53%|█████▎    | 170/318 [04:18<03:47,  1.54s/it]"
          ]
        },
        {
          "output_type": "stream",
          "name": "stdout",
          "text": [
            "\n",
            "Loss: 4.054 | Epoch: 0/2 | 170/318\n"
          ]
        },
        {
          "output_type": "stream",
          "name": "stderr",
          "text": [
            "\rEpoch 1/2:  54%|█████▍    | 171/318 [04:20<03:46,  1.54s/it]"
          ]
        },
        {
          "output_type": "stream",
          "name": "stdout",
          "text": [
            "\n",
            "Loss: 0.321 | Epoch: 0/2 | 171/318\n"
          ]
        },
        {
          "output_type": "stream",
          "name": "stderr",
          "text": [
            "\rEpoch 1/2:  54%|█████▍    | 172/318 [04:22<03:43,  1.53s/it]"
          ]
        },
        {
          "output_type": "stream",
          "name": "stdout",
          "text": [
            "\n",
            "Loss: 1.057 | Epoch: 0/2 | 172/318\n"
          ]
        },
        {
          "output_type": "stream",
          "name": "stderr",
          "text": [
            "\rEpoch 1/2:  54%|█████▍    | 173/318 [04:23<03:36,  1.49s/it]"
          ]
        },
        {
          "output_type": "stream",
          "name": "stdout",
          "text": [
            "\n",
            "Loss: 0.352 | Epoch: 0/2 | 173/318\n"
          ]
        },
        {
          "output_type": "stream",
          "name": "stderr",
          "text": [
            "\rEpoch 1/2:  55%|█████▍    | 174/318 [04:24<03:36,  1.51s/it]"
          ]
        },
        {
          "output_type": "stream",
          "name": "stdout",
          "text": [
            "\n",
            "Loss: 0.95 | Epoch: 0/2 | 174/318\n"
          ]
        },
        {
          "output_type": "stream",
          "name": "stderr",
          "text": [
            "\rEpoch 1/2:  55%|█████▌    | 175/318 [04:26<03:29,  1.47s/it]"
          ]
        },
        {
          "output_type": "stream",
          "name": "stdout",
          "text": [
            "\n",
            "Loss: 0.849 | Epoch: 0/2 | 175/318\n"
          ]
        },
        {
          "output_type": "stream",
          "name": "stderr",
          "text": [
            "\rEpoch 1/2:  55%|█████▌    | 176/318 [04:27<03:30,  1.48s/it]"
          ]
        },
        {
          "output_type": "stream",
          "name": "stdout",
          "text": [
            "\n",
            "Loss: 1.11 | Epoch: 0/2 | 176/318\n"
          ]
        },
        {
          "output_type": "stream",
          "name": "stderr",
          "text": [
            "\rEpoch 1/2:  56%|█████▌    | 177/318 [04:29<03:31,  1.50s/it]"
          ]
        },
        {
          "output_type": "stream",
          "name": "stdout",
          "text": [
            "\n",
            "Loss: 2.658 | Epoch: 0/2 | 177/318\n"
          ]
        },
        {
          "output_type": "stream",
          "name": "stderr",
          "text": [
            "\rEpoch 1/2:  56%|█████▌    | 178/318 [04:30<03:30,  1.50s/it]"
          ]
        },
        {
          "output_type": "stream",
          "name": "stdout",
          "text": [
            "\n",
            "Loss: 0.336 | Epoch: 0/2 | 178/318\n"
          ]
        },
        {
          "output_type": "stream",
          "name": "stderr",
          "text": [
            "\rEpoch 1/2:  56%|█████▋    | 179/318 [04:32<03:30,  1.52s/it]"
          ]
        },
        {
          "output_type": "stream",
          "name": "stdout",
          "text": [
            "\n",
            "Loss: 1.019 | Epoch: 0/2 | 179/318\n"
          ]
        },
        {
          "output_type": "stream",
          "name": "stderr",
          "text": [
            "\rEpoch 1/2:  57%|█████▋    | 180/318 [04:34<03:31,  1.53s/it]"
          ]
        },
        {
          "output_type": "stream",
          "name": "stdout",
          "text": [
            "\n",
            "Loss: 1.987 | Epoch: 0/2 | 180/318\n"
          ]
        },
        {
          "output_type": "stream",
          "name": "stderr",
          "text": [
            "\rEpoch 1/2:  57%|█████▋    | 181/318 [04:35<03:23,  1.49s/it]"
          ]
        },
        {
          "output_type": "stream",
          "name": "stdout",
          "text": [
            "\n",
            "Loss: 2.055 | Epoch: 0/2 | 181/318\n"
          ]
        },
        {
          "output_type": "stream",
          "name": "stderr",
          "text": [
            "\rEpoch 1/2:  57%|█████▋    | 182/318 [04:36<03:24,  1.50s/it]"
          ]
        },
        {
          "output_type": "stream",
          "name": "stdout",
          "text": [
            "\n",
            "Loss: 1.39 | Epoch: 0/2 | 182/318\n"
          ]
        },
        {
          "output_type": "stream",
          "name": "stderr",
          "text": [
            "\rEpoch 1/2:  58%|█████▊    | 183/318 [04:38<03:26,  1.53s/it]"
          ]
        },
        {
          "output_type": "stream",
          "name": "stdout",
          "text": [
            "\n",
            "Loss: 1.691 | Epoch: 0/2 | 183/318\n"
          ]
        },
        {
          "output_type": "stream",
          "name": "stderr",
          "text": [
            "\rEpoch 1/2:  58%|█████▊    | 184/318 [04:40<03:25,  1.53s/it]"
          ]
        },
        {
          "output_type": "stream",
          "name": "stdout",
          "text": [
            "\n",
            "Loss: 0.426 | Epoch: 0/2 | 184/318\n"
          ]
        },
        {
          "output_type": "stream",
          "name": "stderr",
          "text": [
            "\rEpoch 1/2:  58%|█████▊    | 185/318 [04:41<03:21,  1.52s/it]"
          ]
        },
        {
          "output_type": "stream",
          "name": "stdout",
          "text": [
            "\n",
            "Loss: 0.18 | Epoch: 0/2 | 185/318\n"
          ]
        },
        {
          "output_type": "stream",
          "name": "stderr",
          "text": [
            "\rEpoch 1/2:  58%|█████▊    | 186/318 [04:42<03:14,  1.47s/it]"
          ]
        },
        {
          "output_type": "stream",
          "name": "stdout",
          "text": [
            "\n",
            "Loss: 0.815 | Epoch: 0/2 | 186/318\n"
          ]
        },
        {
          "output_type": "stream",
          "name": "stderr",
          "text": [
            "\rEpoch 1/2:  59%|█████▉    | 187/318 [04:44<03:16,  1.50s/it]"
          ]
        },
        {
          "output_type": "stream",
          "name": "stdout",
          "text": [
            "\n",
            "Loss: 1.128 | Epoch: 0/2 | 187/318\n"
          ]
        },
        {
          "output_type": "stream",
          "name": "stderr",
          "text": [
            "\rEpoch 1/2:  59%|█████▉    | 188/318 [04:46<03:18,  1.53s/it]"
          ]
        },
        {
          "output_type": "stream",
          "name": "stdout",
          "text": [
            "\n",
            "Loss: 1.642 | Epoch: 0/2 | 188/318\n"
          ]
        },
        {
          "output_type": "stream",
          "name": "stderr",
          "text": [
            "\rEpoch 1/2:  59%|█████▉    | 189/318 [04:47<03:12,  1.49s/it]"
          ]
        },
        {
          "output_type": "stream",
          "name": "stdout",
          "text": [
            "\n",
            "Loss: 1.733 | Epoch: 0/2 | 189/318\n"
          ]
        },
        {
          "output_type": "stream",
          "name": "stderr",
          "text": [
            "\rEpoch 1/2:  60%|█████▉    | 190/318 [04:49<03:14,  1.52s/it]"
          ]
        },
        {
          "output_type": "stream",
          "name": "stdout",
          "text": [
            "\n",
            "Loss: 1.485 | Epoch: 0/2 | 190/318\n"
          ]
        },
        {
          "output_type": "stream",
          "name": "stderr",
          "text": [
            "\rEpoch 1/2:  60%|██████    | 191/318 [04:50<03:13,  1.53s/it]"
          ]
        },
        {
          "output_type": "stream",
          "name": "stdout",
          "text": [
            "\n",
            "Loss: 0.303 | Epoch: 0/2 | 191/318\n"
          ]
        },
        {
          "output_type": "stream",
          "name": "stderr",
          "text": [
            "\rEpoch 1/2:  60%|██████    | 192/318 [04:52<03:14,  1.54s/it]"
          ]
        },
        {
          "output_type": "stream",
          "name": "stdout",
          "text": [
            "\n",
            "Loss: 0.847 | Epoch: 0/2 | 192/318\n"
          ]
        },
        {
          "output_type": "stream",
          "name": "stderr",
          "text": [
            "\rEpoch 1/2:  61%|██████    | 193/318 [04:53<03:13,  1.55s/it]"
          ]
        },
        {
          "output_type": "stream",
          "name": "stdout",
          "text": [
            "\n",
            "Loss: 2.997 | Epoch: 0/2 | 193/318\n"
          ]
        },
        {
          "output_type": "stream",
          "name": "stderr",
          "text": [
            "\rEpoch 1/2:  61%|██████    | 194/318 [04:55<03:11,  1.55s/it]"
          ]
        },
        {
          "output_type": "stream",
          "name": "stdout",
          "text": [
            "\n",
            "Loss: 0.298 | Epoch: 0/2 | 194/318\n"
          ]
        },
        {
          "output_type": "stream",
          "name": "stderr",
          "text": [
            "\rEpoch 1/2:  61%|██████▏   | 195/318 [04:56<03:10,  1.55s/it]"
          ]
        },
        {
          "output_type": "stream",
          "name": "stdout",
          "text": [
            "\n",
            "Loss: 1.017 | Epoch: 0/2 | 195/318\n"
          ]
        },
        {
          "output_type": "stream",
          "name": "stderr",
          "text": [
            "\rEpoch 1/2:  62%|██████▏   | 196/318 [04:58<03:09,  1.55s/it]"
          ]
        },
        {
          "output_type": "stream",
          "name": "stdout",
          "text": [
            "\n",
            "Loss: 1.822 | Epoch: 0/2 | 196/318\n"
          ]
        },
        {
          "output_type": "stream",
          "name": "stderr",
          "text": [
            "\rEpoch 1/2:  62%|██████▏   | 197/318 [04:59<03:02,  1.51s/it]"
          ]
        },
        {
          "output_type": "stream",
          "name": "stdout",
          "text": [
            "\n",
            "Loss: 3.643 | Epoch: 0/2 | 197/318\n"
          ]
        },
        {
          "output_type": "stream",
          "name": "stderr",
          "text": [
            "\rEpoch 1/2:  62%|██████▏   | 198/318 [05:01<02:57,  1.48s/it]"
          ]
        },
        {
          "output_type": "stream",
          "name": "stdout",
          "text": [
            "\n",
            "Loss: 1.712 | Epoch: 0/2 | 198/318\n"
          ]
        },
        {
          "output_type": "stream",
          "name": "stderr",
          "text": [
            "\rEpoch 1/2:  63%|██████▎   | 199/318 [05:02<02:57,  1.50s/it]"
          ]
        },
        {
          "output_type": "stream",
          "name": "stdout",
          "text": [
            "\n",
            "Loss: 0.677 | Epoch: 0/2 | 199/318\n"
          ]
        },
        {
          "output_type": "stream",
          "name": "stderr",
          "text": [
            "\rEpoch 1/2:  63%|██████▎   | 200/318 [05:04<02:58,  1.52s/it]"
          ]
        },
        {
          "output_type": "stream",
          "name": "stdout",
          "text": [
            "\n",
            "Loss: 0.217 | Epoch: 0/2 | 200/318\n"
          ]
        },
        {
          "output_type": "stream",
          "name": "stderr",
          "text": [
            "\rEpoch 1/2:  63%|██████▎   | 201/318 [05:05<02:57,  1.51s/it]"
          ]
        },
        {
          "output_type": "stream",
          "name": "stdout",
          "text": [
            "\n",
            "Loss: 1.818 | Epoch: 0/2 | 201/318\n"
          ]
        },
        {
          "output_type": "stream",
          "name": "stderr",
          "text": [
            "\rEpoch 1/2:  64%|██████▎   | 202/318 [05:07<02:51,  1.48s/it]"
          ]
        },
        {
          "output_type": "stream",
          "name": "stdout",
          "text": [
            "\n",
            "Loss: 3.124 | Epoch: 0/2 | 202/318\n"
          ]
        },
        {
          "output_type": "stream",
          "name": "stderr",
          "text": [
            "\rEpoch 1/2:  64%|██████▍   | 203/318 [05:08<02:51,  1.49s/it]"
          ]
        },
        {
          "output_type": "stream",
          "name": "stdout",
          "text": [
            "\n",
            "Loss: 0.599 | Epoch: 0/2 | 203/318\n"
          ]
        },
        {
          "output_type": "stream",
          "name": "stderr",
          "text": [
            "\rEpoch 1/2:  64%|██████▍   | 204/318 [05:10<02:51,  1.50s/it]"
          ]
        },
        {
          "output_type": "stream",
          "name": "stdout",
          "text": [
            "\n",
            "Loss: 0.83 | Epoch: 0/2 | 204/318\n"
          ]
        },
        {
          "output_type": "stream",
          "name": "stderr",
          "text": [
            "\rEpoch 1/2:  64%|██████▍   | 205/318 [05:11<02:49,  1.50s/it]"
          ]
        },
        {
          "output_type": "stream",
          "name": "stdout",
          "text": [
            "\n",
            "Loss: 0.184 | Epoch: 0/2 | 205/318\n"
          ]
        },
        {
          "output_type": "stream",
          "name": "stderr",
          "text": [
            "\rEpoch 1/2:  65%|██████▍   | 206/318 [05:13<02:48,  1.51s/it]"
          ]
        },
        {
          "output_type": "stream",
          "name": "stdout",
          "text": [
            "\n",
            "Loss: 0.728 | Epoch: 0/2 | 206/318\n"
          ]
        },
        {
          "output_type": "stream",
          "name": "stderr",
          "text": [
            "\rEpoch 1/2:  65%|██████▌   | 207/318 [05:14<02:42,  1.47s/it]"
          ]
        },
        {
          "output_type": "stream",
          "name": "stdout",
          "text": [
            "\n",
            "Loss: 0.28 | Epoch: 0/2 | 207/318\n"
          ]
        },
        {
          "output_type": "stream",
          "name": "stderr",
          "text": [
            "\rEpoch 1/2:  65%|██████▌   | 208/318 [05:16<02:39,  1.45s/it]"
          ]
        },
        {
          "output_type": "stream",
          "name": "stdout",
          "text": [
            "\n",
            "Loss: 1.288 | Epoch: 0/2 | 208/318\n"
          ]
        },
        {
          "output_type": "stream",
          "name": "stderr",
          "text": [
            "\rEpoch 1/2:  66%|██████▌   | 209/318 [05:17<02:41,  1.49s/it]"
          ]
        },
        {
          "output_type": "stream",
          "name": "stdout",
          "text": [
            "\n",
            "Loss: 0.548 | Epoch: 0/2 | 209/318\n"
          ]
        },
        {
          "output_type": "stream",
          "name": "stderr",
          "text": [
            "\rEpoch 1/2:  66%|██████▌   | 210/318 [05:19<02:36,  1.45s/it]"
          ]
        },
        {
          "output_type": "stream",
          "name": "stdout",
          "text": [
            "\n",
            "Loss: 0.191 | Epoch: 0/2 | 210/318\n"
          ]
        },
        {
          "output_type": "stream",
          "name": "stderr",
          "text": [
            "\rEpoch 1/2:  66%|██████▋   | 211/318 [05:20<02:32,  1.43s/it]"
          ]
        },
        {
          "output_type": "stream",
          "name": "stdout",
          "text": [
            "\n",
            "Loss: 0.34 | Epoch: 0/2 | 211/318\n"
          ]
        },
        {
          "output_type": "stream",
          "name": "stderr",
          "text": [
            "\rEpoch 1/2:  67%|██████▋   | 212/318 [05:21<02:34,  1.46s/it]"
          ]
        },
        {
          "output_type": "stream",
          "name": "stdout",
          "text": [
            "\n",
            "Loss: 1.182 | Epoch: 0/2 | 212/318\n"
          ]
        },
        {
          "output_type": "stream",
          "name": "stderr",
          "text": [
            "\rEpoch 1/2:  67%|██████▋   | 213/318 [05:23<02:35,  1.49s/it]"
          ]
        },
        {
          "output_type": "stream",
          "name": "stdout",
          "text": [
            "\n",
            "Loss: 0.534 | Epoch: 0/2 | 213/318\n"
          ]
        },
        {
          "output_type": "stream",
          "name": "stderr",
          "text": [
            "\rEpoch 1/2:  67%|██████▋   | 214/318 [05:24<02:30,  1.45s/it]"
          ]
        },
        {
          "output_type": "stream",
          "name": "stdout",
          "text": [
            "\n",
            "Loss: 0.272 | Epoch: 0/2 | 214/318\n"
          ]
        },
        {
          "output_type": "stream",
          "name": "stderr",
          "text": [
            "\rEpoch 1/2:  68%|██████▊   | 215/318 [05:26<02:32,  1.48s/it]"
          ]
        },
        {
          "output_type": "stream",
          "name": "stdout",
          "text": [
            "\n",
            "Loss: 0.527 | Epoch: 0/2 | 215/318\n"
          ]
        },
        {
          "output_type": "stream",
          "name": "stderr",
          "text": [
            "\rEpoch 1/2:  68%|██████▊   | 216/318 [05:27<02:27,  1.45s/it]"
          ]
        },
        {
          "output_type": "stream",
          "name": "stdout",
          "text": [
            "\n",
            "Loss: 1.645 | Epoch: 0/2 | 216/318\n"
          ]
        },
        {
          "output_type": "stream",
          "name": "stderr",
          "text": [
            "\rEpoch 1/2:  68%|██████▊   | 217/318 [05:29<02:30,  1.49s/it]"
          ]
        },
        {
          "output_type": "stream",
          "name": "stdout",
          "text": [
            "\n",
            "Loss: 2.443 | Epoch: 0/2 | 217/318\n"
          ]
        },
        {
          "output_type": "stream",
          "name": "stderr",
          "text": [
            "\rEpoch 1/2:  69%|██████▊   | 218/318 [05:30<02:31,  1.52s/it]"
          ]
        },
        {
          "output_type": "stream",
          "name": "stdout",
          "text": [
            "\n",
            "Loss: 2.586 | Epoch: 0/2 | 218/318\n"
          ]
        },
        {
          "output_type": "stream",
          "name": "stderr",
          "text": [
            "\rEpoch 1/2:  69%|██████▉   | 219/318 [05:32<02:30,  1.52s/it]"
          ]
        },
        {
          "output_type": "stream",
          "name": "stdout",
          "text": [
            "\n",
            "Loss: 0.198 | Epoch: 0/2 | 219/318\n"
          ]
        },
        {
          "output_type": "stream",
          "name": "stderr",
          "text": [
            "\rEpoch 1/2:  69%|██████▉   | 220/318 [05:34<02:29,  1.53s/it]"
          ]
        },
        {
          "output_type": "stream",
          "name": "stdout",
          "text": [
            "\n",
            "Loss: 0.24 | Epoch: 0/2 | 220/318\n"
          ]
        },
        {
          "output_type": "stream",
          "name": "stderr",
          "text": [
            "\rEpoch 1/2:  69%|██████▉   | 221/318 [05:35<02:28,  1.53s/it]"
          ]
        },
        {
          "output_type": "stream",
          "name": "stdout",
          "text": [
            "\n",
            "Loss: 0.157 | Epoch: 0/2 | 221/318\n"
          ]
        },
        {
          "output_type": "stream",
          "name": "stderr",
          "text": [
            "\rEpoch 1/2:  70%|██████▉   | 222/318 [05:37<02:27,  1.53s/it]"
          ]
        },
        {
          "output_type": "stream",
          "name": "stdout",
          "text": [
            "\n",
            "Loss: 0.475 | Epoch: 0/2 | 222/318\n"
          ]
        },
        {
          "output_type": "stream",
          "name": "stderr",
          "text": [
            "\rEpoch 1/2:  70%|███████   | 223/318 [05:38<02:26,  1.55s/it]"
          ]
        },
        {
          "output_type": "stream",
          "name": "stdout",
          "text": [
            "\n",
            "Loss: 3.236 | Epoch: 0/2 | 223/318\n"
          ]
        },
        {
          "output_type": "stream",
          "name": "stderr",
          "text": [
            "\rEpoch 1/2:  70%|███████   | 224/318 [05:40<02:25,  1.55s/it]"
          ]
        },
        {
          "output_type": "stream",
          "name": "stdout",
          "text": [
            "\n",
            "Loss: 0.467 | Epoch: 0/2 | 224/318\n"
          ]
        },
        {
          "output_type": "stream",
          "name": "stderr",
          "text": [
            "\rEpoch 1/2:  71%|███████   | 225/318 [05:41<02:23,  1.55s/it]"
          ]
        },
        {
          "output_type": "stream",
          "name": "stdout",
          "text": [
            "\n",
            "Loss: 2.317 | Epoch: 0/2 | 225/318\n"
          ]
        },
        {
          "output_type": "stream",
          "name": "stderr",
          "text": [
            "\rEpoch 1/2:  71%|███████   | 226/318 [05:43<02:23,  1.56s/it]"
          ]
        },
        {
          "output_type": "stream",
          "name": "stdout",
          "text": [
            "\n",
            "Loss: 3.514 | Epoch: 0/2 | 226/318\n"
          ]
        },
        {
          "output_type": "stream",
          "name": "stderr",
          "text": [
            "\rEpoch 1/2:  71%|███████▏  | 227/318 [05:44<02:22,  1.56s/it]"
          ]
        },
        {
          "output_type": "stream",
          "name": "stdout",
          "text": [
            "\n",
            "Loss: 0.179 | Epoch: 0/2 | 227/318\n"
          ]
        },
        {
          "output_type": "stream",
          "name": "stderr",
          "text": [
            "\rEpoch 1/2:  72%|███████▏  | 228/318 [05:46<02:19,  1.55s/it]"
          ]
        },
        {
          "output_type": "stream",
          "name": "stdout",
          "text": [
            "\n",
            "Loss: 1.596 | Epoch: 0/2 | 228/318\n"
          ]
        },
        {
          "output_type": "stream",
          "name": "stderr",
          "text": [
            "\rEpoch 1/2:  72%|███████▏  | 229/318 [05:48<02:18,  1.56s/it]"
          ]
        },
        {
          "output_type": "stream",
          "name": "stdout",
          "text": [
            "\n",
            "Loss: 0.311 | Epoch: 0/2 | 229/318\n"
          ]
        },
        {
          "output_type": "stream",
          "name": "stderr",
          "text": [
            "\rEpoch 1/2:  72%|███████▏  | 230/318 [05:49<02:12,  1.50s/it]"
          ]
        },
        {
          "output_type": "stream",
          "name": "stdout",
          "text": [
            "\n",
            "Loss: 0.593 | Epoch: 0/2 | 230/318\n"
          ]
        },
        {
          "output_type": "stream",
          "name": "stderr",
          "text": [
            "\rEpoch 1/2:  73%|███████▎  | 231/318 [05:50<02:10,  1.50s/it]"
          ]
        },
        {
          "output_type": "stream",
          "name": "stdout",
          "text": [
            "\n",
            "Loss: 0.634 | Epoch: 0/2 | 231/318\n"
          ]
        },
        {
          "output_type": "stream",
          "name": "stderr",
          "text": [
            "\rEpoch 1/2:  73%|███████▎  | 232/318 [05:52<02:09,  1.51s/it]"
          ]
        },
        {
          "output_type": "stream",
          "name": "stdout",
          "text": [
            "\n",
            "Loss: 1.829 | Epoch: 0/2 | 232/318\n"
          ]
        },
        {
          "output_type": "stream",
          "name": "stderr",
          "text": [
            "\rEpoch 1/2:  73%|███████▎  | 233/318 [05:54<02:10,  1.54s/it]"
          ]
        },
        {
          "output_type": "stream",
          "name": "stdout",
          "text": [
            "\n",
            "Loss: 0.936 | Epoch: 0/2 | 233/318\n"
          ]
        },
        {
          "output_type": "stream",
          "name": "stderr",
          "text": [
            "\rEpoch 1/2:  74%|███████▎  | 234/318 [05:55<02:09,  1.54s/it]"
          ]
        },
        {
          "output_type": "stream",
          "name": "stdout",
          "text": [
            "\n",
            "Loss: 0.948 | Epoch: 0/2 | 234/318\n"
          ]
        },
        {
          "output_type": "stream",
          "name": "stderr",
          "text": [
            "\rEpoch 1/2:  74%|███████▍  | 235/318 [05:57<02:07,  1.54s/it]"
          ]
        },
        {
          "output_type": "stream",
          "name": "stdout",
          "text": [
            "\n",
            "Loss: 3.12 | Epoch: 0/2 | 235/318\n"
          ]
        },
        {
          "output_type": "stream",
          "name": "stderr",
          "text": [
            "\rEpoch 1/2:  74%|███████▍  | 236/318 [05:58<02:06,  1.54s/it]"
          ]
        },
        {
          "output_type": "stream",
          "name": "stdout",
          "text": [
            "\n",
            "Loss: 1.604 | Epoch: 0/2 | 236/318\n"
          ]
        },
        {
          "output_type": "stream",
          "name": "stderr",
          "text": [
            "\rEpoch 1/2:  75%|███████▍  | 237/318 [06:00<02:04,  1.54s/it]"
          ]
        },
        {
          "output_type": "stream",
          "name": "stdout",
          "text": [
            "\n",
            "Loss: 0.678 | Epoch: 0/2 | 237/318\n"
          ]
        },
        {
          "output_type": "stream",
          "name": "stderr",
          "text": [
            "\rEpoch 1/2:  75%|███████▍  | 238/318 [06:01<02:03,  1.54s/it]"
          ]
        },
        {
          "output_type": "stream",
          "name": "stdout",
          "text": [
            "\n",
            "Loss: 0.543 | Epoch: 0/2 | 238/318\n"
          ]
        },
        {
          "output_type": "stream",
          "name": "stderr",
          "text": [
            "\rEpoch 1/2:  75%|███████▌  | 239/318 [06:03<01:58,  1.50s/it]"
          ]
        },
        {
          "output_type": "stream",
          "name": "stdout",
          "text": [
            "\n",
            "Loss: 2.245 | Epoch: 0/2 | 239/318\n"
          ]
        },
        {
          "output_type": "stream",
          "name": "stderr",
          "text": [
            "\rEpoch 1/2:  75%|███████▌  | 240/318 [06:04<01:56,  1.50s/it]"
          ]
        },
        {
          "output_type": "stream",
          "name": "stdout",
          "text": [
            "\n",
            "Loss: 2.121 | Epoch: 0/2 | 240/318\n"
          ]
        },
        {
          "output_type": "stream",
          "name": "stderr",
          "text": [
            "\rEpoch 1/2:  76%|███████▌  | 241/318 [06:06<01:52,  1.46s/it]"
          ]
        },
        {
          "output_type": "stream",
          "name": "stdout",
          "text": [
            "\n",
            "Loss: 0.473 | Epoch: 0/2 | 241/318\n"
          ]
        },
        {
          "output_type": "stream",
          "name": "stderr",
          "text": [
            "\rEpoch 1/2:  76%|███████▌  | 242/318 [06:07<01:53,  1.49s/it]"
          ]
        },
        {
          "output_type": "stream",
          "name": "stdout",
          "text": [
            "\n",
            "Loss: 3.323 | Epoch: 0/2 | 242/318\n"
          ]
        },
        {
          "output_type": "stream",
          "name": "stderr",
          "text": [
            "\rEpoch 1/2:  76%|███████▋  | 243/318 [06:09<01:53,  1.52s/it]"
          ]
        },
        {
          "output_type": "stream",
          "name": "stdout",
          "text": [
            "\n",
            "Loss: 1.426 | Epoch: 0/2 | 243/318\n"
          ]
        },
        {
          "output_type": "stream",
          "name": "stderr",
          "text": [
            "\rEpoch 1/2:  77%|███████▋  | 244/318 [06:10<01:53,  1.53s/it]"
          ]
        },
        {
          "output_type": "stream",
          "name": "stdout",
          "text": [
            "\n",
            "Loss: 2.738 | Epoch: 0/2 | 244/318\n"
          ]
        },
        {
          "output_type": "stream",
          "name": "stderr",
          "text": [
            "\rEpoch 1/2:  77%|███████▋  | 245/318 [06:12<01:52,  1.54s/it]"
          ]
        },
        {
          "output_type": "stream",
          "name": "stdout",
          "text": [
            "\n",
            "Loss: 0.891 | Epoch: 0/2 | 245/318\n"
          ]
        },
        {
          "output_type": "stream",
          "name": "stderr",
          "text": [
            "\rEpoch 1/2:  77%|███████▋  | 246/318 [06:13<01:52,  1.56s/it]"
          ]
        },
        {
          "output_type": "stream",
          "name": "stdout",
          "text": [
            "\n",
            "Loss: 1.427 | Epoch: 0/2 | 246/318\n"
          ]
        },
        {
          "output_type": "stream",
          "name": "stderr",
          "text": [
            "\rEpoch 1/2:  78%|███████▊  | 247/318 [06:15<01:46,  1.49s/it]"
          ]
        },
        {
          "output_type": "stream",
          "name": "stdout",
          "text": [
            "\n",
            "Loss: 1.477 | Epoch: 0/2 | 247/318\n"
          ]
        },
        {
          "output_type": "stream",
          "name": "stderr",
          "text": [
            "\rEpoch 1/2:  78%|███████▊  | 248/318 [06:16<01:44,  1.49s/it]"
          ]
        },
        {
          "output_type": "stream",
          "name": "stdout",
          "text": [
            "\n",
            "Loss: 3.327 | Epoch: 0/2 | 248/318\n"
          ]
        },
        {
          "output_type": "stream",
          "name": "stderr",
          "text": [
            "\rEpoch 1/2:  78%|███████▊  | 249/318 [06:18<01:43,  1.50s/it]"
          ]
        },
        {
          "output_type": "stream",
          "name": "stdout",
          "text": [
            "\n",
            "Loss: 0.655 | Epoch: 0/2 | 249/318\n"
          ]
        },
        {
          "output_type": "stream",
          "name": "stderr",
          "text": [
            "\rEpoch 1/2:  79%|███████▊  | 250/318 [06:19<01:43,  1.52s/it]"
          ]
        },
        {
          "output_type": "stream",
          "name": "stdout",
          "text": [
            "\n",
            "Loss: 1.828 | Epoch: 0/2 | 250/318\n"
          ]
        },
        {
          "output_type": "stream",
          "name": "stderr",
          "text": [
            "\rEpoch 1/2:  79%|███████▉  | 251/318 [06:21<01:42,  1.53s/it]"
          ]
        },
        {
          "output_type": "stream",
          "name": "stdout",
          "text": [
            "\n",
            "Loss: 1.074 | Epoch: 0/2 | 251/318\n"
          ]
        },
        {
          "output_type": "stream",
          "name": "stderr",
          "text": [
            "\rEpoch 1/2:  79%|███████▉  | 252/318 [06:22<01:41,  1.54s/it]"
          ]
        },
        {
          "output_type": "stream",
          "name": "stdout",
          "text": [
            "\n",
            "Loss: 4.042 | Epoch: 0/2 | 252/318\n"
          ]
        },
        {
          "output_type": "stream",
          "name": "stderr",
          "text": [
            "\rEpoch 1/2:  80%|███████▉  | 253/318 [06:24<01:40,  1.55s/it]"
          ]
        },
        {
          "output_type": "stream",
          "name": "stdout",
          "text": [
            "\n",
            "Loss: 2.094 | Epoch: 0/2 | 253/318\n"
          ]
        },
        {
          "output_type": "stream",
          "name": "stderr",
          "text": [
            "\rEpoch 1/2:  80%|███████▉  | 254/318 [06:26<01:38,  1.54s/it]"
          ]
        },
        {
          "output_type": "stream",
          "name": "stdout",
          "text": [
            "\n",
            "Loss: 1.799 | Epoch: 0/2 | 254/318\n"
          ]
        },
        {
          "output_type": "stream",
          "name": "stderr",
          "text": [
            "\rEpoch 1/2:  80%|████████  | 255/318 [06:27<01:37,  1.54s/it]"
          ]
        },
        {
          "output_type": "stream",
          "name": "stdout",
          "text": [
            "\n",
            "Loss: 1.263 | Epoch: 0/2 | 255/318\n"
          ]
        },
        {
          "output_type": "stream",
          "name": "stderr",
          "text": [
            "\rEpoch 1/2:  81%|████████  | 256/318 [06:29<01:35,  1.54s/it]"
          ]
        },
        {
          "output_type": "stream",
          "name": "stdout",
          "text": [
            "\n",
            "Loss: 0.54 | Epoch: 0/2 | 256/318\n"
          ]
        },
        {
          "output_type": "stream",
          "name": "stderr",
          "text": [
            "\rEpoch 1/2:  81%|████████  | 257/318 [06:30<01:31,  1.50s/it]"
          ]
        },
        {
          "output_type": "stream",
          "name": "stdout",
          "text": [
            "\n",
            "Loss: 1.654 | Epoch: 0/2 | 257/318\n"
          ]
        },
        {
          "output_type": "stream",
          "name": "stderr",
          "text": [
            "\rEpoch 1/2:  81%|████████  | 258/318 [06:32<01:30,  1.51s/it]"
          ]
        },
        {
          "output_type": "stream",
          "name": "stdout",
          "text": [
            "\n",
            "Loss: 1.646 | Epoch: 0/2 | 258/318\n"
          ]
        },
        {
          "output_type": "stream",
          "name": "stderr",
          "text": [
            "\rEpoch 1/2:  81%|████████▏ | 259/318 [06:33<01:30,  1.53s/it]"
          ]
        },
        {
          "output_type": "stream",
          "name": "stdout",
          "text": [
            "\n",
            "Loss: 0.76 | Epoch: 0/2 | 259/318\n"
          ]
        },
        {
          "output_type": "stream",
          "name": "stderr",
          "text": [
            "\rEpoch 1/2:  82%|████████▏ | 260/318 [06:35<01:28,  1.53s/it]"
          ]
        },
        {
          "output_type": "stream",
          "name": "stdout",
          "text": [
            "\n",
            "Loss: 0.538 | Epoch: 0/2 | 260/318\n"
          ]
        },
        {
          "output_type": "stream",
          "name": "stderr",
          "text": [
            "\rEpoch 1/2:  82%|████████▏ | 261/318 [06:36<01:27,  1.53s/it]"
          ]
        },
        {
          "output_type": "stream",
          "name": "stdout",
          "text": [
            "\n",
            "Loss: 0.799 | Epoch: 0/2 | 261/318\n"
          ]
        },
        {
          "output_type": "stream",
          "name": "stderr",
          "text": [
            "\rEpoch 1/2:  82%|████████▏ | 262/318 [06:38<01:25,  1.53s/it]"
          ]
        },
        {
          "output_type": "stream",
          "name": "stdout",
          "text": [
            "\n",
            "Loss: 0.552 | Epoch: 0/2 | 262/318\n"
          ]
        },
        {
          "output_type": "stream",
          "name": "stderr",
          "text": [
            "\rEpoch 1/2:  83%|████████▎ | 263/318 [06:39<01:24,  1.53s/it]"
          ]
        },
        {
          "output_type": "stream",
          "name": "stdout",
          "text": [
            "\n",
            "Loss: 0.988 | Epoch: 0/2 | 263/318\n"
          ]
        },
        {
          "output_type": "stream",
          "name": "stderr",
          "text": [
            "\rEpoch 1/2:  83%|████████▎ | 264/318 [06:41<01:23,  1.54s/it]"
          ]
        },
        {
          "output_type": "stream",
          "name": "stdout",
          "text": [
            "\n",
            "Loss: 0.698 | Epoch: 0/2 | 264/318\n"
          ]
        },
        {
          "output_type": "stream",
          "name": "stderr",
          "text": [
            "\rEpoch 1/2:  83%|████████▎ | 265/318 [06:42<01:22,  1.55s/it]"
          ]
        },
        {
          "output_type": "stream",
          "name": "stdout",
          "text": [
            "\n",
            "Loss: 1.348 | Epoch: 0/2 | 265/318\n"
          ]
        },
        {
          "output_type": "stream",
          "name": "stderr",
          "text": [
            "\rEpoch 1/2:  84%|████████▎ | 266/318 [06:44<01:20,  1.54s/it]"
          ]
        },
        {
          "output_type": "stream",
          "name": "stdout",
          "text": [
            "\n",
            "Loss: 0.672 | Epoch: 0/2 | 266/318\n"
          ]
        },
        {
          "output_type": "stream",
          "name": "stderr",
          "text": [
            "\rEpoch 1/2:  84%|████████▍ | 267/318 [06:45<01:18,  1.53s/it]"
          ]
        },
        {
          "output_type": "stream",
          "name": "stdout",
          "text": [
            "\n",
            "Loss: 0.448 | Epoch: 0/2 | 267/318\n"
          ]
        },
        {
          "output_type": "stream",
          "name": "stderr",
          "text": [
            "\rEpoch 1/2:  84%|████████▍ | 268/318 [06:47<01:16,  1.52s/it]"
          ]
        },
        {
          "output_type": "stream",
          "name": "stdout",
          "text": [
            "\n",
            "Loss: 0.303 | Epoch: 0/2 | 268/318\n"
          ]
        },
        {
          "output_type": "stream",
          "name": "stderr",
          "text": [
            "\rEpoch 1/2:  85%|████████▍ | 269/318 [06:48<01:14,  1.52s/it]"
          ]
        },
        {
          "output_type": "stream",
          "name": "stdout",
          "text": [
            "\n",
            "Loss: 1.899 | Epoch: 0/2 | 269/318\n"
          ]
        },
        {
          "output_type": "stream",
          "name": "stderr",
          "text": [
            "\rEpoch 1/2:  85%|████████▍ | 270/318 [06:50<01:13,  1.52s/it]"
          ]
        },
        {
          "output_type": "stream",
          "name": "stdout",
          "text": [
            "\n",
            "Loss: 0.411 | Epoch: 0/2 | 270/318\n"
          ]
        },
        {
          "output_type": "stream",
          "name": "stderr",
          "text": [
            "\rEpoch 1/2:  85%|████████▌ | 271/318 [06:52<01:11,  1.53s/it]"
          ]
        },
        {
          "output_type": "stream",
          "name": "stdout",
          "text": [
            "\n",
            "Loss: 2.404 | Epoch: 0/2 | 271/318\n"
          ]
        },
        {
          "output_type": "stream",
          "name": "stderr",
          "text": [
            "\rEpoch 1/2:  86%|████████▌ | 272/318 [06:53<01:10,  1.54s/it]"
          ]
        },
        {
          "output_type": "stream",
          "name": "stdout",
          "text": [
            "\n",
            "Loss: 1.282 | Epoch: 0/2 | 272/318\n"
          ]
        },
        {
          "output_type": "stream",
          "name": "stderr",
          "text": [
            "\rEpoch 1/2:  86%|████████▌ | 273/318 [06:55<01:09,  1.53s/it]"
          ]
        },
        {
          "output_type": "stream",
          "name": "stdout",
          "text": [
            "\n",
            "Loss: 0.757 | Epoch: 0/2 | 273/318\n"
          ]
        },
        {
          "output_type": "stream",
          "name": "stderr",
          "text": [
            "\rEpoch 1/2:  86%|████████▌ | 274/318 [06:56<01:08,  1.55s/it]"
          ]
        },
        {
          "output_type": "stream",
          "name": "stdout",
          "text": [
            "\n",
            "Loss: 0.73 | Epoch: 0/2 | 274/318\n"
          ]
        },
        {
          "output_type": "stream",
          "name": "stderr",
          "text": [
            "\rEpoch 1/2:  86%|████████▋ | 275/318 [06:58<01:06,  1.56s/it]"
          ]
        },
        {
          "output_type": "stream",
          "name": "stdout",
          "text": [
            "\n",
            "Loss: 0.879 | Epoch: 0/2 | 275/318\n"
          ]
        },
        {
          "output_type": "stream",
          "name": "stderr",
          "text": [
            "\rEpoch 1/2:  87%|████████▋ | 276/318 [06:59<01:05,  1.56s/it]"
          ]
        },
        {
          "output_type": "stream",
          "name": "stdout",
          "text": [
            "\n",
            "Loss: 3.408 | Epoch: 0/2 | 276/318\n"
          ]
        },
        {
          "output_type": "stream",
          "name": "stderr",
          "text": [
            "\rEpoch 1/2:  87%|████████▋ | 277/318 [07:01<01:00,  1.48s/it]"
          ]
        },
        {
          "output_type": "stream",
          "name": "stdout",
          "text": [
            "\n",
            "Loss: 1.694 | Epoch: 0/2 | 277/318\n"
          ]
        },
        {
          "output_type": "stream",
          "name": "stderr",
          "text": [
            "\rEpoch 1/2:  87%|████████▋ | 278/318 [07:02<01:00,  1.50s/it]"
          ]
        },
        {
          "output_type": "stream",
          "name": "stdout",
          "text": [
            "\n",
            "Loss: 0.094 | Epoch: 0/2 | 278/318\n"
          ]
        },
        {
          "output_type": "stream",
          "name": "stderr",
          "text": [
            "\rEpoch 1/2:  88%|████████▊ | 279/318 [07:04<00:59,  1.52s/it]"
          ]
        },
        {
          "output_type": "stream",
          "name": "stdout",
          "text": [
            "\n",
            "Loss: 2.238 | Epoch: 0/2 | 279/318\n"
          ]
        },
        {
          "output_type": "stream",
          "name": "stderr",
          "text": [
            "\rEpoch 1/2:  88%|████████▊ | 280/318 [07:05<00:56,  1.49s/it]"
          ]
        },
        {
          "output_type": "stream",
          "name": "stdout",
          "text": [
            "\n",
            "Loss: 1.425 | Epoch: 0/2 | 280/318\n"
          ]
        },
        {
          "output_type": "stream",
          "name": "stderr",
          "text": [
            "\rEpoch 1/2:  88%|████████▊ | 281/318 [07:07<00:55,  1.49s/it]"
          ]
        },
        {
          "output_type": "stream",
          "name": "stdout",
          "text": [
            "\n",
            "Loss: 0.52 | Epoch: 0/2 | 281/318\n"
          ]
        },
        {
          "output_type": "stream",
          "name": "stderr",
          "text": [
            "\rEpoch 1/2:  89%|████████▊ | 282/318 [07:08<00:52,  1.46s/it]"
          ]
        },
        {
          "output_type": "stream",
          "name": "stdout",
          "text": [
            "\n",
            "Loss: 1.611 | Epoch: 0/2 | 282/318\n"
          ]
        },
        {
          "output_type": "stream",
          "name": "stderr",
          "text": [
            "\rEpoch 1/2:  89%|████████▉ | 283/318 [07:10<00:51,  1.47s/it]"
          ]
        },
        {
          "output_type": "stream",
          "name": "stdout",
          "text": [
            "\n",
            "Loss: 0.608 | Epoch: 0/2 | 283/318\n"
          ]
        },
        {
          "output_type": "stream",
          "name": "stderr",
          "text": [
            "\rEpoch 1/2:  89%|████████▉ | 284/318 [07:11<00:47,  1.39s/it]"
          ]
        },
        {
          "output_type": "stream",
          "name": "stdout",
          "text": [
            "\n",
            "Loss: 2.532 | Epoch: 0/2 | 284/318\n"
          ]
        },
        {
          "output_type": "stream",
          "name": "stderr",
          "text": [
            "\rEpoch 1/2:  90%|████████▉ | 285/318 [07:12<00:47,  1.43s/it]"
          ]
        },
        {
          "output_type": "stream",
          "name": "stdout",
          "text": [
            "\n",
            "Loss: 0.255 | Epoch: 0/2 | 285/318\n"
          ]
        },
        {
          "output_type": "stream",
          "name": "stderr",
          "text": [
            "\rEpoch 1/2:  90%|████████▉ | 286/318 [07:14<00:46,  1.46s/it]"
          ]
        },
        {
          "output_type": "stream",
          "name": "stdout",
          "text": [
            "\n",
            "Loss: 0.477 | Epoch: 0/2 | 286/318\n"
          ]
        },
        {
          "output_type": "stream",
          "name": "stderr",
          "text": [
            "\rEpoch 1/2:  90%|█████████ | 287/318 [07:15<00:46,  1.50s/it]"
          ]
        },
        {
          "output_type": "stream",
          "name": "stdout",
          "text": [
            "\n",
            "Loss: 0.473 | Epoch: 0/2 | 287/318\n"
          ]
        },
        {
          "output_type": "stream",
          "name": "stderr",
          "text": [
            "\rEpoch 1/2:  91%|█████████ | 288/318 [07:17<00:45,  1.51s/it]"
          ]
        },
        {
          "output_type": "stream",
          "name": "stdout",
          "text": [
            "\n",
            "Loss: 1.353 | Epoch: 0/2 | 288/318\n"
          ]
        },
        {
          "output_type": "stream",
          "name": "stderr",
          "text": [
            "\rEpoch 1/2:  91%|█████████ | 289/318 [07:18<00:44,  1.53s/it]"
          ]
        },
        {
          "output_type": "stream",
          "name": "stdout",
          "text": [
            "\n",
            "Loss: 1.939 | Epoch: 0/2 | 289/318\n"
          ]
        },
        {
          "output_type": "stream",
          "name": "stderr",
          "text": [
            "\rEpoch 1/2:  91%|█████████ | 290/318 [07:20<00:42,  1.52s/it]"
          ]
        },
        {
          "output_type": "stream",
          "name": "stdout",
          "text": [
            "\n",
            "Loss: 0.597 | Epoch: 0/2 | 290/318\n"
          ]
        },
        {
          "output_type": "stream",
          "name": "stderr",
          "text": [
            "\rEpoch 1/2:  92%|█████████▏| 291/318 [07:22<00:41,  1.54s/it]"
          ]
        },
        {
          "output_type": "stream",
          "name": "stdout",
          "text": [
            "\n",
            "Loss: 2.952 | Epoch: 0/2 | 291/318\n"
          ]
        },
        {
          "output_type": "stream",
          "name": "stderr",
          "text": [
            "\rEpoch 1/2:  92%|█████████▏| 292/318 [07:23<00:38,  1.49s/it]"
          ]
        },
        {
          "output_type": "stream",
          "name": "stdout",
          "text": [
            "\n",
            "Loss: 0.507 | Epoch: 0/2 | 292/318\n"
          ]
        },
        {
          "output_type": "stream",
          "name": "stderr",
          "text": [
            "\rEpoch 1/2:  92%|█████████▏| 293/318 [07:24<00:37,  1.50s/it]"
          ]
        },
        {
          "output_type": "stream",
          "name": "stdout",
          "text": [
            "\n",
            "Loss: 0.84 | Epoch: 0/2 | 293/318\n"
          ]
        },
        {
          "output_type": "stream",
          "name": "stderr",
          "text": [
            "\rEpoch 1/2:  92%|█████████▏| 294/318 [07:26<00:36,  1.52s/it]"
          ]
        },
        {
          "output_type": "stream",
          "name": "stdout",
          "text": [
            "\n",
            "Loss: 4.821 | Epoch: 0/2 | 294/318\n"
          ]
        },
        {
          "output_type": "stream",
          "name": "stderr",
          "text": [
            "\rEpoch 1/2:  93%|█████████▎| 295/318 [07:28<00:35,  1.53s/it]"
          ]
        },
        {
          "output_type": "stream",
          "name": "stdout",
          "text": [
            "\n",
            "Loss: 1.571 | Epoch: 0/2 | 295/318\n"
          ]
        },
        {
          "output_type": "stream",
          "name": "stderr",
          "text": [
            "\rEpoch 1/2:  93%|█████████▎| 296/318 [07:29<00:33,  1.53s/it]"
          ]
        },
        {
          "output_type": "stream",
          "name": "stdout",
          "text": [
            "\n",
            "Loss: 0.369 | Epoch: 0/2 | 296/318\n"
          ]
        },
        {
          "output_type": "stream",
          "name": "stderr",
          "text": [
            "\rEpoch 1/2:  93%|█████████▎| 297/318 [07:31<00:32,  1.53s/it]"
          ]
        },
        {
          "output_type": "stream",
          "name": "stdout",
          "text": [
            "\n",
            "Loss: 0.919 | Epoch: 0/2 | 297/318\n"
          ]
        },
        {
          "output_type": "stream",
          "name": "stderr",
          "text": [
            "\rEpoch 1/2:  94%|█████████▎| 298/318 [07:32<00:30,  1.53s/it]"
          ]
        },
        {
          "output_type": "stream",
          "name": "stdout",
          "text": [
            "\n",
            "Loss: 1.033 | Epoch: 0/2 | 298/318\n"
          ]
        },
        {
          "output_type": "stream",
          "name": "stderr",
          "text": [
            "\rEpoch 1/2:  94%|█████████▍| 299/318 [07:34<00:29,  1.53s/it]"
          ]
        },
        {
          "output_type": "stream",
          "name": "stdout",
          "text": [
            "\n",
            "Loss: 1.076 | Epoch: 0/2 | 299/318\n"
          ]
        },
        {
          "output_type": "stream",
          "name": "stderr",
          "text": [
            "\rEpoch 1/2:  94%|█████████▍| 300/318 [07:35<00:27,  1.53s/it]"
          ]
        },
        {
          "output_type": "stream",
          "name": "stdout",
          "text": [
            "\n",
            "Loss: 2.147 | Epoch: 0/2 | 300/318\n"
          ]
        },
        {
          "output_type": "stream",
          "name": "stderr",
          "text": [
            "\rEpoch 1/2:  95%|█████████▍| 301/318 [07:37<00:26,  1.54s/it]"
          ]
        },
        {
          "output_type": "stream",
          "name": "stdout",
          "text": [
            "\n",
            "Loss: 0.979 | Epoch: 0/2 | 301/318\n"
          ]
        },
        {
          "output_type": "stream",
          "name": "stderr",
          "text": [
            "\rEpoch 1/2:  95%|█████████▍| 302/318 [07:38<00:24,  1.55s/it]"
          ]
        },
        {
          "output_type": "stream",
          "name": "stdout",
          "text": [
            "\n",
            "Loss: 3.93 | Epoch: 0/2 | 302/318\n"
          ]
        },
        {
          "output_type": "stream",
          "name": "stderr",
          "text": [
            "\rEpoch 1/2:  95%|█████████▌| 303/318 [07:40<00:23,  1.54s/it]"
          ]
        },
        {
          "output_type": "stream",
          "name": "stdout",
          "text": [
            "\n",
            "Loss: 0.957 | Epoch: 0/2 | 303/318\n"
          ]
        },
        {
          "output_type": "stream",
          "name": "stderr",
          "text": [
            "\rEpoch 1/2:  96%|█████████▌| 304/318 [07:41<00:21,  1.54s/it]"
          ]
        },
        {
          "output_type": "stream",
          "name": "stdout",
          "text": [
            "\n",
            "Loss: 1.029 | Epoch: 0/2 | 304/318\n"
          ]
        },
        {
          "output_type": "stream",
          "name": "stderr",
          "text": [
            "\rEpoch 1/2:  96%|█████████▌| 305/318 [07:43<00:20,  1.54s/it]"
          ]
        },
        {
          "output_type": "stream",
          "name": "stdout",
          "text": [
            "\n",
            "Loss: 0.9 | Epoch: 0/2 | 305/318\n"
          ]
        },
        {
          "output_type": "stream",
          "name": "stderr",
          "text": [
            "\rEpoch 1/2:  96%|█████████▌| 306/318 [07:45<00:18,  1.54s/it]"
          ]
        },
        {
          "output_type": "stream",
          "name": "stdout",
          "text": [
            "\n",
            "Loss: 1.037 | Epoch: 0/2 | 306/318\n"
          ]
        },
        {
          "output_type": "stream",
          "name": "stderr",
          "text": [
            "\rEpoch 1/2:  97%|█████████▋| 307/318 [07:46<00:16,  1.54s/it]"
          ]
        },
        {
          "output_type": "stream",
          "name": "stdout",
          "text": [
            "\n",
            "Loss: 0.829 | Epoch: 0/2 | 307/318\n"
          ]
        },
        {
          "output_type": "stream",
          "name": "stderr",
          "text": [
            "\rEpoch 1/2:  97%|█████████▋| 308/318 [07:48<00:15,  1.55s/it]"
          ]
        },
        {
          "output_type": "stream",
          "name": "stdout",
          "text": [
            "\n",
            "Loss: 0.95 | Epoch: 0/2 | 308/318\n"
          ]
        },
        {
          "output_type": "stream",
          "name": "stderr",
          "text": [
            "\rEpoch 1/2:  97%|█████████▋| 309/318 [07:49<00:13,  1.55s/it]"
          ]
        },
        {
          "output_type": "stream",
          "name": "stdout",
          "text": [
            "\n",
            "Loss: 2.001 | Epoch: 0/2 | 309/318\n"
          ]
        },
        {
          "output_type": "stream",
          "name": "stderr",
          "text": [
            "\rEpoch 1/2:  97%|█████████▋| 310/318 [07:51<00:11,  1.50s/it]"
          ]
        },
        {
          "output_type": "stream",
          "name": "stdout",
          "text": [
            "\n",
            "Loss: 0.349 | Epoch: 0/2 | 310/318\n"
          ]
        },
        {
          "output_type": "stream",
          "name": "stderr",
          "text": [
            "\rEpoch 1/2:  98%|█████████▊| 311/318 [07:52<00:10,  1.50s/it]"
          ]
        },
        {
          "output_type": "stream",
          "name": "stdout",
          "text": [
            "\n",
            "Loss: 1.213 | Epoch: 0/2 | 311/318\n"
          ]
        },
        {
          "output_type": "stream",
          "name": "stderr",
          "text": [
            "\rEpoch 1/2:  98%|█████████▊| 312/318 [07:54<00:09,  1.51s/it]"
          ]
        },
        {
          "output_type": "stream",
          "name": "stdout",
          "text": [
            "\n",
            "Loss: 0.069 | Epoch: 0/2 | 312/318\n"
          ]
        },
        {
          "output_type": "stream",
          "name": "stderr",
          "text": [
            "\rEpoch 1/2:  98%|█████████▊| 313/318 [07:55<00:07,  1.52s/it]"
          ]
        },
        {
          "output_type": "stream",
          "name": "stdout",
          "text": [
            "\n",
            "Loss: 2.644 | Epoch: 0/2 | 313/318\n"
          ]
        },
        {
          "output_type": "stream",
          "name": "stderr",
          "text": [
            "\rEpoch 1/2:  99%|█████████▊| 314/318 [07:57<00:06,  1.52s/it]"
          ]
        },
        {
          "output_type": "stream",
          "name": "stdout",
          "text": [
            "\n",
            "Loss: 0.585 | Epoch: 0/2 | 314/318\n"
          ]
        },
        {
          "output_type": "stream",
          "name": "stderr",
          "text": [
            "\rEpoch 1/2:  99%|█████████▉| 315/318 [07:58<00:04,  1.54s/it]"
          ]
        },
        {
          "output_type": "stream",
          "name": "stdout",
          "text": [
            "\n",
            "Loss: 0.328 | Epoch: 0/2 | 315/318\n"
          ]
        },
        {
          "output_type": "stream",
          "name": "stderr",
          "text": [
            "\rEpoch 1/2:  99%|█████████▉| 316/318 [08:00<00:03,  1.55s/it]"
          ]
        },
        {
          "output_type": "stream",
          "name": "stdout",
          "text": [
            "\n",
            "Loss: 1.787 | Epoch: 0/2 | 316/318\n"
          ]
        },
        {
          "output_type": "stream",
          "name": "stderr",
          "text": [
            "\rEpoch 1/2: 100%|█████████▉| 317/318 [08:01<00:01,  1.52s/it]"
          ]
        },
        {
          "output_type": "stream",
          "name": "stdout",
          "text": [
            "\n",
            "Loss: 0.377 | Epoch: 0/2 | 317/318\n"
          ]
        },
        {
          "output_type": "stream",
          "name": "stderr",
          "text": [
            "Epoch 1/2: 100%|██████████| 318/318 [08:02<00:00,  1.52s/it]\n"
          ]
        },
        {
          "output_type": "stream",
          "name": "stdout",
          "text": [
            "\n",
            "Loss: 0.971 | Epoch: 0/2 | 318/318\n"
          ]
        },
        {
          "output_type": "stream",
          "name": "stderr",
          "text": [
            "Epoch 2/2:   0%|          | 1/318 [00:01<08:06,  1.53s/it]"
          ]
        },
        {
          "output_type": "stream",
          "name": "stdout",
          "text": [
            "\n",
            "Loss: 0.475 | Epoch: 1/2 | 319/318\n"
          ]
        },
        {
          "output_type": "stream",
          "name": "stderr",
          "text": [
            "\rEpoch 2/2:   1%|          | 2/318 [00:02<07:36,  1.44s/it]"
          ]
        },
        {
          "output_type": "stream",
          "name": "stdout",
          "text": [
            "\n",
            "Loss: 0.517 | Epoch: 1/2 | 320/318\n"
          ]
        },
        {
          "output_type": "stream",
          "name": "stderr",
          "text": [
            "\rEpoch 2/2:   1%|          | 3/318 [00:04<07:52,  1.50s/it]"
          ]
        },
        {
          "output_type": "stream",
          "name": "stdout",
          "text": [
            "\n",
            "Loss: 0.334 | Epoch: 1/2 | 321/318\n"
          ]
        },
        {
          "output_type": "stream",
          "name": "stderr",
          "text": [
            "\rEpoch 2/2:   1%|▏         | 4/318 [00:06<07:56,  1.52s/it]"
          ]
        },
        {
          "output_type": "stream",
          "name": "stdout",
          "text": [
            "\n",
            "Loss: 0.269 | Epoch: 1/2 | 322/318\n"
          ]
        },
        {
          "output_type": "stream",
          "name": "stderr",
          "text": [
            "\rEpoch 2/2:   2%|▏         | 5/318 [00:07<07:53,  1.51s/it]"
          ]
        },
        {
          "output_type": "stream",
          "name": "stdout",
          "text": [
            "\n",
            "Loss: 0.632 | Epoch: 1/2 | 323/318\n"
          ]
        },
        {
          "output_type": "stream",
          "name": "stderr",
          "text": [
            "\rEpoch 2/2:   2%|▏         | 6/318 [00:08<07:34,  1.46s/it]"
          ]
        },
        {
          "output_type": "stream",
          "name": "stdout",
          "text": [
            "\n",
            "Loss: 0.633 | Epoch: 1/2 | 324/318\n"
          ]
        },
        {
          "output_type": "stream",
          "name": "stderr",
          "text": [
            "\rEpoch 2/2:   2%|▏         | 7/318 [00:10<07:45,  1.50s/it]"
          ]
        },
        {
          "output_type": "stream",
          "name": "stdout",
          "text": [
            "\n",
            "Loss: 1.512 | Epoch: 1/2 | 325/318\n"
          ]
        },
        {
          "output_type": "stream",
          "name": "stderr",
          "text": [
            "\rEpoch 2/2:   3%|▎         | 8/318 [00:11<07:35,  1.47s/it]"
          ]
        },
        {
          "output_type": "stream",
          "name": "stdout",
          "text": [
            "\n",
            "Loss: 0.725 | Epoch: 1/2 | 326/318\n"
          ]
        },
        {
          "output_type": "stream",
          "name": "stderr",
          "text": [
            "\rEpoch 2/2:   3%|▎         | 9/318 [00:13<07:24,  1.44s/it]"
          ]
        },
        {
          "output_type": "stream",
          "name": "stdout",
          "text": [
            "\n",
            "Loss: 0.806 | Epoch: 1/2 | 327/318\n"
          ]
        },
        {
          "output_type": "stream",
          "name": "stderr",
          "text": [
            "\rEpoch 2/2:   3%|▎         | 10/318 [00:14<07:35,  1.48s/it]"
          ]
        },
        {
          "output_type": "stream",
          "name": "stdout",
          "text": [
            "\n",
            "Loss: 0.562 | Epoch: 1/2 | 328/318\n"
          ]
        },
        {
          "output_type": "stream",
          "name": "stderr",
          "text": [
            "\rEpoch 2/2:   3%|▎         | 11/318 [00:16<07:37,  1.49s/it]"
          ]
        },
        {
          "output_type": "stream",
          "name": "stdout",
          "text": [
            "\n",
            "Loss: 0.61 | Epoch: 1/2 | 329/318\n"
          ]
        },
        {
          "output_type": "stream",
          "name": "stderr",
          "text": [
            "\rEpoch 2/2:   4%|▍         | 12/318 [00:17<07:40,  1.51s/it]"
          ]
        },
        {
          "output_type": "stream",
          "name": "stdout",
          "text": [
            "\n",
            "Loss: 1.401 | Epoch: 1/2 | 330/318\n"
          ]
        },
        {
          "output_type": "stream",
          "name": "stderr",
          "text": [
            "\rEpoch 2/2:   4%|▍         | 13/318 [00:19<07:35,  1.49s/it]"
          ]
        },
        {
          "output_type": "stream",
          "name": "stdout",
          "text": [
            "\n",
            "Loss: 0.177 | Epoch: 1/2 | 331/318\n"
          ]
        },
        {
          "output_type": "stream",
          "name": "stderr",
          "text": [
            "\rEpoch 2/2:   4%|▍         | 14/318 [00:20<07:38,  1.51s/it]"
          ]
        },
        {
          "output_type": "stream",
          "name": "stdout",
          "text": [
            "\n",
            "Loss: 0.626 | Epoch: 1/2 | 332/318\n"
          ]
        },
        {
          "output_type": "stream",
          "name": "stderr",
          "text": [
            "\rEpoch 2/2:   5%|▍         | 15/318 [00:22<07:08,  1.41s/it]"
          ]
        },
        {
          "output_type": "stream",
          "name": "stdout",
          "text": [
            "\n",
            "Loss: 0.165 | Epoch: 1/2 | 333/318\n"
          ]
        },
        {
          "output_type": "stream",
          "name": "stderr",
          "text": [
            "\rEpoch 2/2:   5%|▌         | 16/318 [00:23<07:20,  1.46s/it]"
          ]
        },
        {
          "output_type": "stream",
          "name": "stdout",
          "text": [
            "\n",
            "Loss: 0.203 | Epoch: 1/2 | 334/318\n"
          ]
        },
        {
          "output_type": "stream",
          "name": "stderr",
          "text": [
            "\rEpoch 2/2:   5%|▌         | 17/318 [00:25<07:28,  1.49s/it]"
          ]
        },
        {
          "output_type": "stream",
          "name": "stdout",
          "text": [
            "\n",
            "Loss: 0.662 | Epoch: 1/2 | 335/318\n"
          ]
        },
        {
          "output_type": "stream",
          "name": "stderr",
          "text": [
            "\rEpoch 2/2:   6%|▌         | 18/318 [00:26<07:30,  1.50s/it]"
          ]
        },
        {
          "output_type": "stream",
          "name": "stdout",
          "text": [
            "\n",
            "Loss: 0.322 | Epoch: 1/2 | 336/318\n"
          ]
        },
        {
          "output_type": "stream",
          "name": "stderr",
          "text": [
            "\rEpoch 2/2:   6%|▌         | 19/318 [00:28<07:36,  1.53s/it]"
          ]
        },
        {
          "output_type": "stream",
          "name": "stdout",
          "text": [
            "\n",
            "Loss: 0.162 | Epoch: 1/2 | 337/318\n"
          ]
        },
        {
          "output_type": "stream",
          "name": "stderr",
          "text": [
            "\rEpoch 2/2:   6%|▋         | 20/318 [00:29<07:35,  1.53s/it]"
          ]
        },
        {
          "output_type": "stream",
          "name": "stdout",
          "text": [
            "\n",
            "Loss: 0.331 | Epoch: 1/2 | 338/318\n"
          ]
        },
        {
          "output_type": "stream",
          "name": "stderr",
          "text": [
            "\rEpoch 2/2:   7%|▋         | 21/318 [00:31<07:35,  1.53s/it]"
          ]
        },
        {
          "output_type": "stream",
          "name": "stdout",
          "text": [
            "\n",
            "Loss: 0.657 | Epoch: 1/2 | 339/318\n"
          ]
        },
        {
          "output_type": "stream",
          "name": "stderr",
          "text": [
            "\rEpoch 2/2:   7%|▋         | 22/318 [00:32<07:20,  1.49s/it]"
          ]
        },
        {
          "output_type": "stream",
          "name": "stdout",
          "text": [
            "\n",
            "Loss: 0.779 | Epoch: 1/2 | 340/318\n"
          ]
        },
        {
          "output_type": "stream",
          "name": "stderr",
          "text": [
            "\rEpoch 2/2:   7%|▋         | 23/318 [00:34<07:23,  1.50s/it]"
          ]
        },
        {
          "output_type": "stream",
          "name": "stdout",
          "text": [
            "\n",
            "Loss: 0.748 | Epoch: 1/2 | 341/318\n"
          ]
        },
        {
          "output_type": "stream",
          "name": "stderr",
          "text": [
            "\rEpoch 2/2:   8%|▊         | 24/318 [00:35<07:10,  1.46s/it]"
          ]
        },
        {
          "output_type": "stream",
          "name": "stdout",
          "text": [
            "\n",
            "Loss: 0.369 | Epoch: 1/2 | 342/318\n"
          ]
        },
        {
          "output_type": "stream",
          "name": "stderr",
          "text": [
            "\rEpoch 2/2:   8%|▊         | 25/318 [00:37<07:15,  1.49s/it]"
          ]
        },
        {
          "output_type": "stream",
          "name": "stdout",
          "text": [
            "\n",
            "Loss: 0.37 | Epoch: 1/2 | 343/318\n"
          ]
        },
        {
          "output_type": "stream",
          "name": "stderr",
          "text": [
            "\rEpoch 2/2:   8%|▊         | 26/318 [00:38<07:21,  1.51s/it]"
          ]
        },
        {
          "output_type": "stream",
          "name": "stdout",
          "text": [
            "\n",
            "Loss: 1.463 | Epoch: 1/2 | 344/318\n"
          ]
        },
        {
          "output_type": "stream",
          "name": "stderr",
          "text": [
            "\rEpoch 2/2:   8%|▊         | 27/318 [00:40<07:23,  1.52s/it]"
          ]
        },
        {
          "output_type": "stream",
          "name": "stdout",
          "text": [
            "\n",
            "Loss: 0.614 | Epoch: 1/2 | 345/318\n"
          ]
        },
        {
          "output_type": "stream",
          "name": "stderr",
          "text": [
            "\rEpoch 2/2:   9%|▉         | 28/318 [00:41<07:17,  1.51s/it]"
          ]
        },
        {
          "output_type": "stream",
          "name": "stdout",
          "text": [
            "\n",
            "Loss: 0.073 | Epoch: 1/2 | 346/318\n"
          ]
        },
        {
          "output_type": "stream",
          "name": "stderr",
          "text": [
            "\rEpoch 2/2:   9%|▉         | 29/318 [00:43<07:19,  1.52s/it]"
          ]
        },
        {
          "output_type": "stream",
          "name": "stdout",
          "text": [
            "\n",
            "Loss: 0.394 | Epoch: 1/2 | 347/318\n"
          ]
        },
        {
          "output_type": "stream",
          "name": "stderr",
          "text": [
            "\rEpoch 2/2:   9%|▉         | 30/318 [00:44<07:19,  1.53s/it]"
          ]
        },
        {
          "output_type": "stream",
          "name": "stdout",
          "text": [
            "\n",
            "Loss: 0.726 | Epoch: 1/2 | 348/318\n"
          ]
        },
        {
          "output_type": "stream",
          "name": "stderr",
          "text": [
            "\rEpoch 2/2:  10%|▉         | 31/318 [00:46<07:19,  1.53s/it]"
          ]
        },
        {
          "output_type": "stream",
          "name": "stdout",
          "text": [
            "\n",
            "Loss: 0.163 | Epoch: 1/2 | 349/318\n"
          ]
        },
        {
          "output_type": "stream",
          "name": "stderr",
          "text": [
            "\rEpoch 2/2:  10%|█         | 32/318 [00:47<07:04,  1.48s/it]"
          ]
        },
        {
          "output_type": "stream",
          "name": "stdout",
          "text": [
            "\n",
            "Loss: 0.81 | Epoch: 1/2 | 350/318\n"
          ]
        },
        {
          "output_type": "stream",
          "name": "stderr",
          "text": [
            "\rEpoch 2/2:  10%|█         | 33/318 [00:49<07:07,  1.50s/it]"
          ]
        },
        {
          "output_type": "stream",
          "name": "stdout",
          "text": [
            "\n",
            "Loss: 0.296 | Epoch: 1/2 | 351/318\n"
          ]
        },
        {
          "output_type": "stream",
          "name": "stderr",
          "text": [
            "\rEpoch 2/2:  11%|█         | 34/318 [00:50<07:08,  1.51s/it]"
          ]
        },
        {
          "output_type": "stream",
          "name": "stdout",
          "text": [
            "\n",
            "Loss: 0.413 | Epoch: 1/2 | 352/318\n"
          ]
        },
        {
          "output_type": "stream",
          "name": "stderr",
          "text": [
            "\rEpoch 2/2:  11%|█         | 35/318 [00:52<06:55,  1.47s/it]"
          ]
        },
        {
          "output_type": "stream",
          "name": "stdout",
          "text": [
            "\n",
            "Loss: 0.602 | Epoch: 1/2 | 353/318\n"
          ]
        },
        {
          "output_type": "stream",
          "name": "stderr",
          "text": [
            "\rEpoch 2/2:  11%|█▏        | 36/318 [00:53<07:00,  1.49s/it]"
          ]
        },
        {
          "output_type": "stream",
          "name": "stdout",
          "text": [
            "\n",
            "Loss: 0.497 | Epoch: 1/2 | 354/318\n"
          ]
        },
        {
          "output_type": "stream",
          "name": "stderr",
          "text": [
            "\rEpoch 2/2:  12%|█▏        | 37/318 [00:55<07:03,  1.51s/it]"
          ]
        },
        {
          "output_type": "stream",
          "name": "stdout",
          "text": [
            "\n",
            "Loss: 0.896 | Epoch: 1/2 | 355/318\n"
          ]
        },
        {
          "output_type": "stream",
          "name": "stderr",
          "text": [
            "\rEpoch 2/2:  12%|█▏        | 38/318 [00:56<07:04,  1.51s/it]"
          ]
        },
        {
          "output_type": "stream",
          "name": "stdout",
          "text": [
            "\n",
            "Loss: 0.231 | Epoch: 1/2 | 356/318\n"
          ]
        },
        {
          "output_type": "stream",
          "name": "stderr",
          "text": [
            "\rEpoch 2/2:  12%|█▏        | 39/318 [00:58<07:04,  1.52s/it]"
          ]
        },
        {
          "output_type": "stream",
          "name": "stdout",
          "text": [
            "\n",
            "Loss: 0.122 | Epoch: 1/2 | 357/318\n"
          ]
        },
        {
          "output_type": "stream",
          "name": "stderr",
          "text": [
            "\rEpoch 2/2:  13%|█▎        | 40/318 [00:59<07:07,  1.54s/it]"
          ]
        },
        {
          "output_type": "stream",
          "name": "stdout",
          "text": [
            "\n",
            "Loss: 0.206 | Epoch: 1/2 | 358/318\n"
          ]
        },
        {
          "output_type": "stream",
          "name": "stderr",
          "text": [
            "\rEpoch 2/2:  13%|█▎        | 41/318 [01:01<06:52,  1.49s/it]"
          ]
        },
        {
          "output_type": "stream",
          "name": "stdout",
          "text": [
            "\n",
            "Loss: 0.232 | Epoch: 1/2 | 359/318\n"
          ]
        },
        {
          "output_type": "stream",
          "name": "stderr",
          "text": [
            "\rEpoch 2/2:  13%|█▎        | 42/318 [01:02<06:55,  1.51s/it]"
          ]
        },
        {
          "output_type": "stream",
          "name": "stdout",
          "text": [
            "\n",
            "Loss: 1.247 | Epoch: 1/2 | 360/318\n"
          ]
        },
        {
          "output_type": "stream",
          "name": "stderr",
          "text": [
            "\rEpoch 2/2:  14%|█▎        | 43/318 [01:04<06:59,  1.53s/it]"
          ]
        },
        {
          "output_type": "stream",
          "name": "stdout",
          "text": [
            "\n",
            "Loss: 1.086 | Epoch: 1/2 | 361/318\n"
          ]
        },
        {
          "output_type": "stream",
          "name": "stderr",
          "text": [
            "\rEpoch 2/2:  14%|█▍        | 44/318 [01:06<07:02,  1.54s/it]"
          ]
        },
        {
          "output_type": "stream",
          "name": "stdout",
          "text": [
            "\n",
            "Loss: 0.554 | Epoch: 1/2 | 362/318\n"
          ]
        },
        {
          "output_type": "stream",
          "name": "stderr",
          "text": [
            "\rEpoch 2/2:  14%|█▍        | 45/318 [01:07<07:04,  1.55s/it]"
          ]
        },
        {
          "output_type": "stream",
          "name": "stdout",
          "text": [
            "\n",
            "Loss: 0.115 | Epoch: 1/2 | 363/318\n"
          ]
        },
        {
          "output_type": "stream",
          "name": "stderr",
          "text": [
            "\rEpoch 2/2:  14%|█▍        | 46/318 [01:09<07:08,  1.58s/it]"
          ]
        },
        {
          "output_type": "stream",
          "name": "stdout",
          "text": [
            "\n",
            "Loss: 2.038 | Epoch: 1/2 | 364/318\n"
          ]
        },
        {
          "output_type": "stream",
          "name": "stderr",
          "text": [
            "\rEpoch 2/2:  15%|█▍        | 47/318 [01:10<07:04,  1.57s/it]"
          ]
        },
        {
          "output_type": "stream",
          "name": "stdout",
          "text": [
            "\n",
            "Loss: 0.237 | Epoch: 1/2 | 365/318\n"
          ]
        },
        {
          "output_type": "stream",
          "name": "stderr",
          "text": [
            "\rEpoch 2/2:  15%|█▌        | 48/318 [01:12<07:00,  1.56s/it]"
          ]
        },
        {
          "output_type": "stream",
          "name": "stdout",
          "text": [
            "\n",
            "Loss: 1.244 | Epoch: 1/2 | 366/318\n"
          ]
        },
        {
          "output_type": "stream",
          "name": "stderr",
          "text": [
            "\rEpoch 2/2:  15%|█▌        | 49/318 [01:13<06:44,  1.50s/it]"
          ]
        },
        {
          "output_type": "stream",
          "name": "stdout",
          "text": [
            "\n",
            "Loss: 0.438 | Epoch: 1/2 | 367/318\n"
          ]
        },
        {
          "output_type": "stream",
          "name": "stderr",
          "text": [
            "\rEpoch 2/2:  16%|█▌        | 50/318 [01:15<06:49,  1.53s/it]"
          ]
        },
        {
          "output_type": "stream",
          "name": "stdout",
          "text": [
            "\n",
            "Loss: 1.393 | Epoch: 1/2 | 368/318\n"
          ]
        },
        {
          "output_type": "stream",
          "name": "stderr",
          "text": [
            "\rEpoch 2/2:  16%|█▌        | 51/318 [01:16<06:48,  1.53s/it]"
          ]
        },
        {
          "output_type": "stream",
          "name": "stdout",
          "text": [
            "\n",
            "Loss: 0.027 | Epoch: 1/2 | 369/318\n"
          ]
        },
        {
          "output_type": "stream",
          "name": "stderr",
          "text": [
            "\rEpoch 2/2:  16%|█▋        | 52/318 [01:18<06:34,  1.48s/it]"
          ]
        },
        {
          "output_type": "stream",
          "name": "stdout",
          "text": [
            "\n",
            "Loss: 0.075 | Epoch: 1/2 | 370/318\n"
          ]
        },
        {
          "output_type": "stream",
          "name": "stderr",
          "text": [
            "\rEpoch 2/2:  17%|█▋        | 53/318 [01:19<06:40,  1.51s/it]"
          ]
        },
        {
          "output_type": "stream",
          "name": "stdout",
          "text": [
            "\n",
            "Loss: 0.158 | Epoch: 1/2 | 371/318\n"
          ]
        },
        {
          "output_type": "stream",
          "name": "stderr",
          "text": [
            "\rEpoch 2/2:  17%|█▋        | 54/318 [01:21<06:43,  1.53s/it]"
          ]
        },
        {
          "output_type": "stream",
          "name": "stdout",
          "text": [
            "\n",
            "Loss: 1.193 | Epoch: 1/2 | 372/318\n"
          ]
        },
        {
          "output_type": "stream",
          "name": "stderr",
          "text": [
            "\rEpoch 2/2:  17%|█▋        | 55/318 [01:22<06:32,  1.49s/it]"
          ]
        },
        {
          "output_type": "stream",
          "name": "stdout",
          "text": [
            "\n",
            "Loss: 0.174 | Epoch: 1/2 | 373/318\n"
          ]
        },
        {
          "output_type": "stream",
          "name": "stderr",
          "text": [
            "\rEpoch 2/2:  18%|█▊        | 56/318 [01:24<06:35,  1.51s/it]"
          ]
        },
        {
          "output_type": "stream",
          "name": "stdout",
          "text": [
            "\n",
            "Loss: 0.482 | Epoch: 1/2 | 374/318\n"
          ]
        },
        {
          "output_type": "stream",
          "name": "stderr",
          "text": [
            "\rEpoch 2/2:  18%|█▊        | 57/318 [01:25<06:35,  1.52s/it]"
          ]
        },
        {
          "output_type": "stream",
          "name": "stdout",
          "text": [
            "\n",
            "Loss: 0.043 | Epoch: 1/2 | 375/318\n"
          ]
        },
        {
          "output_type": "stream",
          "name": "stderr",
          "text": [
            "\rEpoch 2/2:  18%|█▊        | 58/318 [01:27<06:21,  1.47s/it]"
          ]
        },
        {
          "output_type": "stream",
          "name": "stdout",
          "text": [
            "\n",
            "Loss: 0.975 | Epoch: 1/2 | 376/318\n"
          ]
        },
        {
          "output_type": "stream",
          "name": "stderr",
          "text": [
            "\rEpoch 2/2:  19%|█▊        | 59/318 [01:28<06:14,  1.45s/it]"
          ]
        },
        {
          "output_type": "stream",
          "name": "stdout",
          "text": [
            "\n",
            "Loss: 0.431 | Epoch: 1/2 | 377/318\n"
          ]
        },
        {
          "output_type": "stream",
          "name": "stderr",
          "text": [
            "\rEpoch 2/2:  19%|█▉        | 60/318 [01:30<06:23,  1.49s/it]"
          ]
        },
        {
          "output_type": "stream",
          "name": "stdout",
          "text": [
            "\n",
            "Loss: 0.762 | Epoch: 1/2 | 378/318\n"
          ]
        },
        {
          "output_type": "stream",
          "name": "stderr",
          "text": [
            "\rEpoch 2/2:  19%|█▉        | 61/318 [01:31<06:13,  1.45s/it]"
          ]
        },
        {
          "output_type": "stream",
          "name": "stdout",
          "text": [
            "\n",
            "Loss: 0.242 | Epoch: 1/2 | 379/318\n"
          ]
        },
        {
          "output_type": "stream",
          "name": "stderr",
          "text": [
            "\rEpoch 2/2:  19%|█▉        | 62/318 [01:33<06:18,  1.48s/it]"
          ]
        },
        {
          "output_type": "stream",
          "name": "stdout",
          "text": [
            "\n",
            "Loss: 0.681 | Epoch: 1/2 | 380/318\n"
          ]
        },
        {
          "output_type": "stream",
          "name": "stderr",
          "text": [
            "\rEpoch 2/2:  20%|█▉        | 63/318 [01:34<06:08,  1.45s/it]"
          ]
        },
        {
          "output_type": "stream",
          "name": "stdout",
          "text": [
            "\n",
            "Loss: 0.982 | Epoch: 1/2 | 381/318\n"
          ]
        },
        {
          "output_type": "stream",
          "name": "stderr",
          "text": [
            "\rEpoch 2/2:  20%|██        | 64/318 [01:36<06:16,  1.48s/it]"
          ]
        },
        {
          "output_type": "stream",
          "name": "stdout",
          "text": [
            "\n",
            "Loss: 0.971 | Epoch: 1/2 | 382/318\n"
          ]
        },
        {
          "output_type": "stream",
          "name": "stderr",
          "text": [
            "\rEpoch 2/2:  20%|██        | 65/318 [01:37<06:21,  1.51s/it]"
          ]
        },
        {
          "output_type": "stream",
          "name": "stdout",
          "text": [
            "\n",
            "Loss: 0.375 | Epoch: 1/2 | 383/318\n"
          ]
        },
        {
          "output_type": "stream",
          "name": "stderr",
          "text": [
            "\rEpoch 2/2:  21%|██        | 66/318 [01:39<06:24,  1.53s/it]"
          ]
        },
        {
          "output_type": "stream",
          "name": "stdout",
          "text": [
            "\n",
            "Loss: 0.088 | Epoch: 1/2 | 384/318\n"
          ]
        },
        {
          "output_type": "stream",
          "name": "stderr",
          "text": [
            "\rEpoch 2/2:  21%|██        | 67/318 [01:40<06:25,  1.54s/it]"
          ]
        },
        {
          "output_type": "stream",
          "name": "stdout",
          "text": [
            "\n",
            "Loss: 0.127 | Epoch: 1/2 | 385/318\n"
          ]
        },
        {
          "output_type": "stream",
          "name": "stderr",
          "text": [
            "\rEpoch 2/2:  21%|██▏       | 68/318 [01:42<06:25,  1.54s/it]"
          ]
        },
        {
          "output_type": "stream",
          "name": "stdout",
          "text": [
            "\n",
            "Loss: 0.852 | Epoch: 1/2 | 386/318\n"
          ]
        },
        {
          "output_type": "stream",
          "name": "stderr",
          "text": [
            "\rEpoch 2/2:  22%|██▏       | 69/318 [01:43<06:23,  1.54s/it]"
          ]
        },
        {
          "output_type": "stream",
          "name": "stdout",
          "text": [
            "\n",
            "Loss: 0.081 | Epoch: 1/2 | 387/318\n"
          ]
        },
        {
          "output_type": "stream",
          "name": "stderr",
          "text": [
            "\rEpoch 2/2:  22%|██▏       | 70/318 [01:45<06:24,  1.55s/it]"
          ]
        },
        {
          "output_type": "stream",
          "name": "stdout",
          "text": [
            "\n",
            "Loss: 0.459 | Epoch: 1/2 | 388/318\n"
          ]
        },
        {
          "output_type": "stream",
          "name": "stderr",
          "text": [
            "\rEpoch 2/2:  22%|██▏       | 71/318 [01:46<06:19,  1.54s/it]"
          ]
        },
        {
          "output_type": "stream",
          "name": "stdout",
          "text": [
            "\n",
            "Loss: 1.082 | Epoch: 1/2 | 389/318\n"
          ]
        },
        {
          "output_type": "stream",
          "name": "stderr",
          "text": [
            "\rEpoch 2/2:  23%|██▎       | 72/318 [01:48<06:21,  1.55s/it]"
          ]
        },
        {
          "output_type": "stream",
          "name": "stdout",
          "text": [
            "\n",
            "Loss: 0.101 | Epoch: 1/2 | 390/318\n"
          ]
        },
        {
          "output_type": "stream",
          "name": "stderr",
          "text": [
            "\rEpoch 2/2:  23%|██▎       | 73/318 [01:49<06:09,  1.51s/it]"
          ]
        },
        {
          "output_type": "stream",
          "name": "stdout",
          "text": [
            "\n",
            "Loss: 0.361 | Epoch: 1/2 | 391/318\n"
          ]
        },
        {
          "output_type": "stream",
          "name": "stderr",
          "text": [
            "\rEpoch 2/2:  23%|██▎       | 74/318 [01:51<06:09,  1.52s/it]"
          ]
        },
        {
          "output_type": "stream",
          "name": "stdout",
          "text": [
            "\n",
            "Loss: 0.057 | Epoch: 1/2 | 392/318\n"
          ]
        },
        {
          "output_type": "stream",
          "name": "stderr",
          "text": [
            "\rEpoch 2/2:  24%|██▎       | 75/318 [01:53<06:12,  1.53s/it]"
          ]
        },
        {
          "output_type": "stream",
          "name": "stdout",
          "text": [
            "\n",
            "Loss: 1.62 | Epoch: 1/2 | 393/318\n"
          ]
        },
        {
          "output_type": "stream",
          "name": "stderr",
          "text": [
            "\rEpoch 2/2:  24%|██▍       | 76/318 [01:54<06:14,  1.55s/it]"
          ]
        },
        {
          "output_type": "stream",
          "name": "stdout",
          "text": [
            "\n",
            "Loss: 1.6 | Epoch: 1/2 | 394/318\n"
          ]
        },
        {
          "output_type": "stream",
          "name": "stderr",
          "text": [
            "\rEpoch 2/2:  24%|██▍       | 77/318 [01:56<06:12,  1.55s/it]"
          ]
        },
        {
          "output_type": "stream",
          "name": "stdout",
          "text": [
            "\n",
            "Loss: 0.17 | Epoch: 1/2 | 395/318\n"
          ]
        },
        {
          "output_type": "stream",
          "name": "stderr",
          "text": [
            "\rEpoch 2/2:  25%|██▍       | 78/318 [01:57<06:07,  1.53s/it]"
          ]
        },
        {
          "output_type": "stream",
          "name": "stdout",
          "text": [
            "\n",
            "Loss: 0.13 | Epoch: 1/2 | 396/318\n"
          ]
        },
        {
          "output_type": "stream",
          "name": "stderr",
          "text": [
            "\rEpoch 2/2:  25%|██▍       | 79/318 [01:59<06:05,  1.53s/it]"
          ]
        },
        {
          "output_type": "stream",
          "name": "stdout",
          "text": [
            "\n",
            "Loss: 0.218 | Epoch: 1/2 | 397/318\n"
          ]
        },
        {
          "output_type": "stream",
          "name": "stderr",
          "text": [
            "\rEpoch 2/2:  25%|██▌       | 80/318 [02:00<06:07,  1.54s/it]"
          ]
        },
        {
          "output_type": "stream",
          "name": "stdout",
          "text": [
            "\n",
            "Loss: 0.831 | Epoch: 1/2 | 398/318\n"
          ]
        },
        {
          "output_type": "stream",
          "name": "stderr",
          "text": [
            "\rEpoch 2/2:  25%|██▌       | 81/318 [02:02<06:08,  1.55s/it]"
          ]
        },
        {
          "output_type": "stream",
          "name": "stdout",
          "text": [
            "\n",
            "Loss: 2.0 | Epoch: 1/2 | 399/318\n"
          ]
        },
        {
          "output_type": "stream",
          "name": "stderr",
          "text": [
            "\rEpoch 2/2:  26%|██▌       | 82/318 [02:03<06:03,  1.54s/it]"
          ]
        },
        {
          "output_type": "stream",
          "name": "stdout",
          "text": [
            "\n",
            "Loss: 0.576 | Epoch: 1/2 | 400/318\n"
          ]
        },
        {
          "output_type": "stream",
          "name": "stderr",
          "text": [
            "\rEpoch 2/2:  26%|██▌       | 83/318 [02:05<05:50,  1.49s/it]"
          ]
        },
        {
          "output_type": "stream",
          "name": "stdout",
          "text": [
            "\n",
            "Loss: 0.184 | Epoch: 1/2 | 401/318\n"
          ]
        },
        {
          "output_type": "stream",
          "name": "stderr",
          "text": [
            "\rEpoch 2/2:  26%|██▋       | 84/318 [02:06<05:54,  1.51s/it]"
          ]
        },
        {
          "output_type": "stream",
          "name": "stdout",
          "text": [
            "\n",
            "Loss: 0.5 | Epoch: 1/2 | 402/318\n"
          ]
        },
        {
          "output_type": "stream",
          "name": "stderr",
          "text": [
            "\rEpoch 2/2:  27%|██▋       | 85/318 [02:08<05:55,  1.53s/it]"
          ]
        },
        {
          "output_type": "stream",
          "name": "stdout",
          "text": [
            "\n",
            "Loss: 0.962 | Epoch: 1/2 | 403/318\n"
          ]
        },
        {
          "output_type": "stream",
          "name": "stderr",
          "text": [
            "\rEpoch 2/2:  27%|██▋       | 86/318 [02:09<05:55,  1.53s/it]"
          ]
        },
        {
          "output_type": "stream",
          "name": "stdout",
          "text": [
            "\n",
            "Loss: 0.852 | Epoch: 1/2 | 404/318\n"
          ]
        },
        {
          "output_type": "stream",
          "name": "stderr",
          "text": [
            "\rEpoch 2/2:  27%|██▋       | 87/318 [02:11<05:54,  1.53s/it]"
          ]
        },
        {
          "output_type": "stream",
          "name": "stdout",
          "text": [
            "\n",
            "Loss: 0.482 | Epoch: 1/2 | 405/318\n"
          ]
        },
        {
          "output_type": "stream",
          "name": "stderr",
          "text": [
            "\rEpoch 2/2:  28%|██▊       | 88/318 [02:12<05:44,  1.50s/it]"
          ]
        },
        {
          "output_type": "stream",
          "name": "stdout",
          "text": [
            "\n",
            "Loss: 0.172 | Epoch: 1/2 | 406/318\n"
          ]
        },
        {
          "output_type": "stream",
          "name": "stderr",
          "text": [
            "\rEpoch 2/2:  28%|██▊       | 89/318 [02:14<05:49,  1.53s/it]"
          ]
        },
        {
          "output_type": "stream",
          "name": "stdout",
          "text": [
            "\n",
            "Loss: 0.17 | Epoch: 1/2 | 407/318\n"
          ]
        },
        {
          "output_type": "stream",
          "name": "stderr",
          "text": [
            "\rEpoch 2/2:  28%|██▊       | 90/318 [02:15<05:49,  1.53s/it]"
          ]
        },
        {
          "output_type": "stream",
          "name": "stdout",
          "text": [
            "\n",
            "Loss: 0.075 | Epoch: 1/2 | 408/318\n"
          ]
        },
        {
          "output_type": "stream",
          "name": "stderr",
          "text": [
            "\rEpoch 2/2:  29%|██▊       | 91/318 [02:17<05:37,  1.49s/it]"
          ]
        },
        {
          "output_type": "stream",
          "name": "stdout",
          "text": [
            "\n",
            "Loss: 0.138 | Epoch: 1/2 | 409/318\n"
          ]
        },
        {
          "output_type": "stream",
          "name": "stderr",
          "text": [
            "\rEpoch 2/2:  29%|██▉       | 92/318 [02:18<05:41,  1.51s/it]"
          ]
        },
        {
          "output_type": "stream",
          "name": "stdout",
          "text": [
            "\n",
            "Loss: 0.281 | Epoch: 1/2 | 410/318\n"
          ]
        },
        {
          "output_type": "stream",
          "name": "stderr",
          "text": [
            "\rEpoch 2/2:  29%|██▉       | 93/318 [02:20<05:41,  1.52s/it]"
          ]
        },
        {
          "output_type": "stream",
          "name": "stdout",
          "text": [
            "\n",
            "Loss: 0.04 | Epoch: 1/2 | 411/318\n"
          ]
        },
        {
          "output_type": "stream",
          "name": "stderr",
          "text": [
            "\rEpoch 2/2:  30%|██▉       | 94/318 [02:21<05:43,  1.53s/it]"
          ]
        },
        {
          "output_type": "stream",
          "name": "stdout",
          "text": [
            "\n",
            "Loss: 0.423 | Epoch: 1/2 | 412/318\n"
          ]
        },
        {
          "output_type": "stream",
          "name": "stderr",
          "text": [
            "\rEpoch 2/2:  30%|██▉       | 95/318 [02:23<05:42,  1.53s/it]"
          ]
        },
        {
          "output_type": "stream",
          "name": "stdout",
          "text": [
            "\n",
            "Loss: 1.192 | Epoch: 1/2 | 413/318\n"
          ]
        },
        {
          "output_type": "stream",
          "name": "stderr",
          "text": [
            "\rEpoch 2/2:  30%|███       | 96/318 [02:24<05:29,  1.49s/it]"
          ]
        },
        {
          "output_type": "stream",
          "name": "stdout",
          "text": [
            "\n",
            "Loss: 1.172 | Epoch: 1/2 | 414/318\n"
          ]
        },
        {
          "output_type": "stream",
          "name": "stderr",
          "text": [
            "\rEpoch 2/2:  31%|███       | 97/318 [02:26<05:32,  1.50s/it]"
          ]
        },
        {
          "output_type": "stream",
          "name": "stdout",
          "text": [
            "\n",
            "Loss: 0.046 | Epoch: 1/2 | 415/318\n"
          ]
        },
        {
          "output_type": "stream",
          "name": "stderr",
          "text": [
            "\rEpoch 2/2:  31%|███       | 98/318 [02:27<05:32,  1.51s/it]"
          ]
        },
        {
          "output_type": "stream",
          "name": "stdout",
          "text": [
            "\n",
            "Loss: 0.455 | Epoch: 1/2 | 416/318\n"
          ]
        },
        {
          "output_type": "stream",
          "name": "stderr",
          "text": [
            "\rEpoch 2/2:  31%|███       | 99/318 [02:29<05:35,  1.53s/it]"
          ]
        },
        {
          "output_type": "stream",
          "name": "stdout",
          "text": [
            "\n",
            "Loss: 0.153 | Epoch: 1/2 | 417/318\n"
          ]
        },
        {
          "output_type": "stream",
          "name": "stderr",
          "text": [
            "\rEpoch 2/2:  31%|███▏      | 100/318 [02:31<05:33,  1.53s/it]"
          ]
        },
        {
          "output_type": "stream",
          "name": "stdout",
          "text": [
            "\n",
            "Loss: 0.316 | Epoch: 1/2 | 418/318\n"
          ]
        },
        {
          "output_type": "stream",
          "name": "stderr",
          "text": [
            "\rEpoch 2/2:  32%|███▏      | 101/318 [02:32<05:32,  1.53s/it]"
          ]
        },
        {
          "output_type": "stream",
          "name": "stdout",
          "text": [
            "\n",
            "Loss: 0.304 | Epoch: 1/2 | 419/318\n"
          ]
        },
        {
          "output_type": "stream",
          "name": "stderr",
          "text": [
            "\rEpoch 2/2:  32%|███▏      | 102/318 [02:33<05:20,  1.48s/it]"
          ]
        },
        {
          "output_type": "stream",
          "name": "stdout",
          "text": [
            "\n",
            "Loss: 0.079 | Epoch: 1/2 | 420/318\n"
          ]
        },
        {
          "output_type": "stream",
          "name": "stderr",
          "text": [
            "\rEpoch 2/2:  32%|███▏      | 103/318 [02:35<05:00,  1.40s/it]"
          ]
        },
        {
          "output_type": "stream",
          "name": "stdout",
          "text": [
            "\n",
            "Loss: 0.258 | Epoch: 1/2 | 421/318\n"
          ]
        },
        {
          "output_type": "stream",
          "name": "stderr",
          "text": [
            "\rEpoch 2/2:  33%|███▎      | 104/318 [02:36<04:59,  1.40s/it]"
          ]
        },
        {
          "output_type": "stream",
          "name": "stdout",
          "text": [
            "\n",
            "Loss: 1.084 | Epoch: 1/2 | 422/318\n"
          ]
        },
        {
          "output_type": "stream",
          "name": "stderr",
          "text": [
            "\rEpoch 2/2:  33%|███▎      | 105/318 [02:38<05:10,  1.46s/it]"
          ]
        },
        {
          "output_type": "stream",
          "name": "stdout",
          "text": [
            "\n",
            "Loss: 0.656 | Epoch: 1/2 | 423/318\n"
          ]
        },
        {
          "output_type": "stream",
          "name": "stderr",
          "text": [
            "\rEpoch 2/2:  33%|███▎      | 106/318 [02:39<05:03,  1.43s/it]"
          ]
        },
        {
          "output_type": "stream",
          "name": "stdout",
          "text": [
            "\n",
            "Loss: 0.541 | Epoch: 1/2 | 424/318\n"
          ]
        },
        {
          "output_type": "stream",
          "name": "stderr",
          "text": [
            "\rEpoch 2/2:  34%|███▎      | 107/318 [02:41<05:04,  1.44s/it]"
          ]
        },
        {
          "output_type": "stream",
          "name": "stdout",
          "text": [
            "\n",
            "Loss: 0.135 | Epoch: 1/2 | 425/318\n"
          ]
        },
        {
          "output_type": "stream",
          "name": "stderr",
          "text": [
            "\rEpoch 2/2:  34%|███▍      | 108/318 [02:42<05:10,  1.48s/it]"
          ]
        },
        {
          "output_type": "stream",
          "name": "stdout",
          "text": [
            "\n",
            "Loss: 1.138 | Epoch: 1/2 | 426/318\n"
          ]
        },
        {
          "output_type": "stream",
          "name": "stderr",
          "text": [
            "\rEpoch 2/2:  34%|███▍      | 109/318 [02:44<05:12,  1.49s/it]"
          ]
        },
        {
          "output_type": "stream",
          "name": "stdout",
          "text": [
            "\n",
            "Loss: 0.073 | Epoch: 1/2 | 427/318\n"
          ]
        },
        {
          "output_type": "stream",
          "name": "stderr",
          "text": [
            "\rEpoch 2/2:  35%|███▍      | 110/318 [02:45<05:13,  1.51s/it]"
          ]
        },
        {
          "output_type": "stream",
          "name": "stdout",
          "text": [
            "\n",
            "Loss: 0.368 | Epoch: 1/2 | 428/318\n"
          ]
        },
        {
          "output_type": "stream",
          "name": "stderr",
          "text": [
            "\rEpoch 2/2:  35%|███▍      | 111/318 [02:47<05:16,  1.53s/it]"
          ]
        },
        {
          "output_type": "stream",
          "name": "stdout",
          "text": [
            "\n",
            "Loss: 0.319 | Epoch: 1/2 | 429/318\n"
          ]
        },
        {
          "output_type": "stream",
          "name": "stderr",
          "text": [
            "\rEpoch 2/2:  35%|███▌      | 112/318 [02:48<05:15,  1.53s/it]"
          ]
        },
        {
          "output_type": "stream",
          "name": "stdout",
          "text": [
            "\n",
            "Loss: 0.684 | Epoch: 1/2 | 430/318\n"
          ]
        },
        {
          "output_type": "stream",
          "name": "stderr",
          "text": [
            "\rEpoch 2/2:  36%|███▌      | 113/318 [02:50<05:16,  1.55s/it]"
          ]
        },
        {
          "output_type": "stream",
          "name": "stdout",
          "text": [
            "\n",
            "Loss: 0.022 | Epoch: 1/2 | 431/318\n"
          ]
        },
        {
          "output_type": "stream",
          "name": "stderr",
          "text": [
            "\rEpoch 2/2:  36%|███▌      | 114/318 [02:51<05:13,  1.53s/it]"
          ]
        },
        {
          "output_type": "stream",
          "name": "stdout",
          "text": [
            "\n",
            "Loss: 0.167 | Epoch: 1/2 | 432/318\n"
          ]
        },
        {
          "output_type": "stream",
          "name": "stderr",
          "text": [
            "\rEpoch 2/2:  36%|███▌      | 115/318 [02:53<05:10,  1.53s/it]"
          ]
        },
        {
          "output_type": "stream",
          "name": "stdout",
          "text": [
            "\n",
            "Loss: 0.06 | Epoch: 1/2 | 433/318\n"
          ]
        },
        {
          "output_type": "stream",
          "name": "stderr",
          "text": [
            "\rEpoch 2/2:  36%|███▋      | 116/318 [02:54<05:11,  1.54s/it]"
          ]
        },
        {
          "output_type": "stream",
          "name": "stdout",
          "text": [
            "\n",
            "Loss: 0.028 | Epoch: 1/2 | 434/318\n"
          ]
        },
        {
          "output_type": "stream",
          "name": "stderr",
          "text": [
            "\rEpoch 2/2:  37%|███▋      | 117/318 [02:56<05:12,  1.55s/it]"
          ]
        },
        {
          "output_type": "stream",
          "name": "stdout",
          "text": [
            "\n",
            "Loss: 2.798 | Epoch: 1/2 | 435/318\n"
          ]
        },
        {
          "output_type": "stream",
          "name": "stderr",
          "text": [
            "\rEpoch 2/2:  37%|███▋      | 118/318 [02:58<05:10,  1.55s/it]"
          ]
        },
        {
          "output_type": "stream",
          "name": "stdout",
          "text": [
            "\n",
            "Loss: 0.292 | Epoch: 1/2 | 436/318\n"
          ]
        },
        {
          "output_type": "stream",
          "name": "stderr",
          "text": [
            "\rEpoch 2/2:  37%|███▋      | 119/318 [02:59<05:09,  1.55s/it]"
          ]
        },
        {
          "output_type": "stream",
          "name": "stdout",
          "text": [
            "\n",
            "Loss: 0.163 | Epoch: 1/2 | 437/318\n"
          ]
        },
        {
          "output_type": "stream",
          "name": "stderr",
          "text": [
            "\rEpoch 2/2:  38%|███▊      | 120/318 [03:01<05:07,  1.55s/it]"
          ]
        },
        {
          "output_type": "stream",
          "name": "stdout",
          "text": [
            "\n",
            "Loss: 0.06 | Epoch: 1/2 | 438/318\n"
          ]
        },
        {
          "output_type": "stream",
          "name": "stderr",
          "text": [
            "\rEpoch 2/2:  38%|███▊      | 121/318 [03:02<05:04,  1.55s/it]"
          ]
        },
        {
          "output_type": "stream",
          "name": "stdout",
          "text": [
            "\n",
            "Loss: 0.343 | Epoch: 1/2 | 439/318\n"
          ]
        },
        {
          "output_type": "stream",
          "name": "stderr",
          "text": [
            "\rEpoch 2/2:  38%|███▊      | 122/318 [03:04<05:03,  1.55s/it]"
          ]
        },
        {
          "output_type": "stream",
          "name": "stdout",
          "text": [
            "\n",
            "Loss: 1.427 | Epoch: 1/2 | 440/318\n"
          ]
        },
        {
          "output_type": "stream",
          "name": "stderr",
          "text": [
            "\rEpoch 2/2:  39%|███▊      | 123/318 [03:05<05:03,  1.56s/it]"
          ]
        },
        {
          "output_type": "stream",
          "name": "stdout",
          "text": [
            "\n",
            "Loss: 0.019 | Epoch: 1/2 | 441/318\n"
          ]
        },
        {
          "output_type": "stream",
          "name": "stderr",
          "text": [
            "\rEpoch 2/2:  39%|███▉      | 124/318 [03:07<05:00,  1.55s/it]"
          ]
        },
        {
          "output_type": "stream",
          "name": "stdout",
          "text": [
            "\n",
            "Loss: 0.874 | Epoch: 1/2 | 442/318\n"
          ]
        },
        {
          "output_type": "stream",
          "name": "stderr",
          "text": [
            "\rEpoch 2/2:  39%|███▉      | 125/318 [03:08<04:58,  1.55s/it]"
          ]
        },
        {
          "output_type": "stream",
          "name": "stdout",
          "text": [
            "\n",
            "Loss: 1.385 | Epoch: 1/2 | 443/318\n"
          ]
        },
        {
          "output_type": "stream",
          "name": "stderr",
          "text": [
            "\rEpoch 2/2:  40%|███▉      | 126/318 [03:10<04:56,  1.54s/it]"
          ]
        },
        {
          "output_type": "stream",
          "name": "stdout",
          "text": [
            "\n",
            "Loss: 0.187 | Epoch: 1/2 | 444/318\n"
          ]
        },
        {
          "output_type": "stream",
          "name": "stderr",
          "text": [
            "\rEpoch 2/2:  40%|███▉      | 127/318 [03:12<04:59,  1.57s/it]"
          ]
        },
        {
          "output_type": "stream",
          "name": "stdout",
          "text": [
            "\n",
            "Loss: 0.023 | Epoch: 1/2 | 445/318\n"
          ]
        },
        {
          "output_type": "stream",
          "name": "stderr",
          "text": [
            "\rEpoch 2/2:  40%|████      | 128/318 [03:13<04:55,  1.56s/it]"
          ]
        },
        {
          "output_type": "stream",
          "name": "stdout",
          "text": [
            "\n",
            "Loss: 0.346 | Epoch: 1/2 | 446/318\n"
          ]
        },
        {
          "output_type": "stream",
          "name": "stderr",
          "text": [
            "\rEpoch 2/2:  41%|████      | 129/318 [03:15<04:53,  1.55s/it]"
          ]
        },
        {
          "output_type": "stream",
          "name": "stdout",
          "text": [
            "\n",
            "Loss: 0.487 | Epoch: 1/2 | 447/318\n"
          ]
        },
        {
          "output_type": "stream",
          "name": "stderr",
          "text": [
            "\rEpoch 2/2:  41%|████      | 130/318 [03:16<04:53,  1.56s/it]"
          ]
        },
        {
          "output_type": "stream",
          "name": "stdout",
          "text": [
            "\n",
            "Loss: 0.548 | Epoch: 1/2 | 448/318\n"
          ]
        },
        {
          "output_type": "stream",
          "name": "stderr",
          "text": [
            "\rEpoch 2/2:  41%|████      | 131/318 [03:18<04:52,  1.56s/it]"
          ]
        },
        {
          "output_type": "stream",
          "name": "stdout",
          "text": [
            "\n",
            "Loss: 0.023 | Epoch: 1/2 | 449/318\n"
          ]
        },
        {
          "output_type": "stream",
          "name": "stderr",
          "text": [
            "\rEpoch 2/2:  42%|████▏     | 132/318 [03:19<04:48,  1.55s/it]"
          ]
        },
        {
          "output_type": "stream",
          "name": "stdout",
          "text": [
            "\n",
            "Loss: 0.471 | Epoch: 1/2 | 450/318\n"
          ]
        },
        {
          "output_type": "stream",
          "name": "stderr",
          "text": [
            "\rEpoch 2/2:  42%|████▏     | 133/318 [03:21<04:46,  1.55s/it]"
          ]
        },
        {
          "output_type": "stream",
          "name": "stdout",
          "text": [
            "\n",
            "Loss: 0.064 | Epoch: 1/2 | 451/318\n"
          ]
        },
        {
          "output_type": "stream",
          "name": "stderr",
          "text": [
            "\rEpoch 2/2:  42%|████▏     | 134/318 [03:22<04:46,  1.56s/it]"
          ]
        },
        {
          "output_type": "stream",
          "name": "stdout",
          "text": [
            "\n",
            "Loss: 0.369 | Epoch: 1/2 | 452/318\n"
          ]
        },
        {
          "output_type": "stream",
          "name": "stderr",
          "text": [
            "\rEpoch 2/2:  42%|████▏     | 135/318 [03:24<04:36,  1.51s/it]"
          ]
        },
        {
          "output_type": "stream",
          "name": "stdout",
          "text": [
            "\n",
            "Loss: 0.502 | Epoch: 1/2 | 453/318\n"
          ]
        },
        {
          "output_type": "stream",
          "name": "stderr",
          "text": [
            "\rEpoch 2/2:  43%|████▎     | 136/318 [03:25<04:36,  1.52s/it]"
          ]
        },
        {
          "output_type": "stream",
          "name": "stdout",
          "text": [
            "\n",
            "Loss: 0.231 | Epoch: 1/2 | 454/318\n"
          ]
        },
        {
          "output_type": "stream",
          "name": "stderr",
          "text": [
            "\rEpoch 2/2:  43%|████▎     | 137/318 [03:27<04:34,  1.52s/it]"
          ]
        },
        {
          "output_type": "stream",
          "name": "stdout",
          "text": [
            "\n",
            "Loss: 0.349 | Epoch: 1/2 | 455/318\n"
          ]
        },
        {
          "output_type": "stream",
          "name": "stderr",
          "text": [
            "\rEpoch 2/2:  43%|████▎     | 138/318 [03:28<04:33,  1.52s/it]"
          ]
        },
        {
          "output_type": "stream",
          "name": "stdout",
          "text": [
            "\n",
            "Loss: 0.028 | Epoch: 1/2 | 456/318\n"
          ]
        },
        {
          "output_type": "stream",
          "name": "stderr",
          "text": [
            "\rEpoch 2/2:  44%|████▎     | 139/318 [03:30<04:33,  1.53s/it]"
          ]
        },
        {
          "output_type": "stream",
          "name": "stdout",
          "text": [
            "\n",
            "Loss: 0.718 | Epoch: 1/2 | 457/318\n"
          ]
        },
        {
          "output_type": "stream",
          "name": "stderr",
          "text": [
            "\rEpoch 2/2:  44%|████▍     | 140/318 [03:32<04:34,  1.54s/it]"
          ]
        },
        {
          "output_type": "stream",
          "name": "stdout",
          "text": [
            "\n",
            "Loss: 0.088 | Epoch: 1/2 | 458/318\n"
          ]
        },
        {
          "output_type": "stream",
          "name": "stderr",
          "text": [
            "\rEpoch 2/2:  44%|████▍     | 141/318 [03:33<04:32,  1.54s/it]"
          ]
        },
        {
          "output_type": "stream",
          "name": "stdout",
          "text": [
            "\n",
            "Loss: 0.828 | Epoch: 1/2 | 459/318\n"
          ]
        },
        {
          "output_type": "stream",
          "name": "stderr",
          "text": [
            "\rEpoch 2/2:  45%|████▍     | 142/318 [03:35<04:33,  1.56s/it]"
          ]
        },
        {
          "output_type": "stream",
          "name": "stdout",
          "text": [
            "\n",
            "Loss: 0.477 | Epoch: 1/2 | 460/318\n"
          ]
        },
        {
          "output_type": "stream",
          "name": "stderr",
          "text": [
            "\rEpoch 2/2:  45%|████▍     | 143/318 [03:36<04:31,  1.55s/it]"
          ]
        },
        {
          "output_type": "stream",
          "name": "stdout",
          "text": [
            "\n",
            "Loss: 0.952 | Epoch: 1/2 | 461/318\n"
          ]
        },
        {
          "output_type": "stream",
          "name": "stderr",
          "text": [
            "\rEpoch 2/2:  45%|████▌     | 144/318 [03:38<04:30,  1.56s/it]"
          ]
        },
        {
          "output_type": "stream",
          "name": "stdout",
          "text": [
            "\n",
            "Loss: 0.251 | Epoch: 1/2 | 462/318\n"
          ]
        },
        {
          "output_type": "stream",
          "name": "stderr",
          "text": [
            "\rEpoch 2/2:  46%|████▌     | 145/318 [03:39<04:30,  1.56s/it]"
          ]
        },
        {
          "output_type": "stream",
          "name": "stdout",
          "text": [
            "\n",
            "Loss: 1.076 | Epoch: 1/2 | 463/318\n"
          ]
        },
        {
          "output_type": "stream",
          "name": "stderr",
          "text": [
            "\rEpoch 2/2:  46%|████▌     | 146/318 [03:41<04:28,  1.56s/it]"
          ]
        },
        {
          "output_type": "stream",
          "name": "stdout",
          "text": [
            "\n",
            "Loss: 0.785 | Epoch: 1/2 | 464/318\n"
          ]
        },
        {
          "output_type": "stream",
          "name": "stderr",
          "text": [
            "\rEpoch 2/2:  46%|████▌     | 147/318 [03:42<04:27,  1.57s/it]"
          ]
        },
        {
          "output_type": "stream",
          "name": "stdout",
          "text": [
            "\n",
            "Loss: 0.747 | Epoch: 1/2 | 465/318\n"
          ]
        },
        {
          "output_type": "stream",
          "name": "stderr",
          "text": [
            "\rEpoch 2/2:  47%|████▋     | 148/318 [03:44<04:27,  1.57s/it]"
          ]
        },
        {
          "output_type": "stream",
          "name": "stdout",
          "text": [
            "\n",
            "Loss: 0.065 | Epoch: 1/2 | 466/318\n"
          ]
        },
        {
          "output_type": "stream",
          "name": "stderr",
          "text": [
            "\rEpoch 2/2:  47%|████▋     | 149/318 [03:46<04:24,  1.56s/it]"
          ]
        },
        {
          "output_type": "stream",
          "name": "stdout",
          "text": [
            "\n",
            "Loss: 0.483 | Epoch: 1/2 | 467/318\n"
          ]
        },
        {
          "output_type": "stream",
          "name": "stderr",
          "text": [
            "\rEpoch 2/2:  47%|████▋     | 150/318 [03:47<04:21,  1.55s/it]"
          ]
        },
        {
          "output_type": "stream",
          "name": "stdout",
          "text": [
            "\n",
            "Loss: 0.173 | Epoch: 1/2 | 468/318\n"
          ]
        },
        {
          "output_type": "stream",
          "name": "stderr",
          "text": [
            "\rEpoch 2/2:  47%|████▋     | 151/318 [03:49<04:20,  1.56s/it]"
          ]
        },
        {
          "output_type": "stream",
          "name": "stdout",
          "text": [
            "\n",
            "Loss: 0.839 | Epoch: 1/2 | 469/318\n"
          ]
        },
        {
          "output_type": "stream",
          "name": "stderr",
          "text": [
            "\rEpoch 2/2:  48%|████▊     | 152/318 [03:50<04:18,  1.56s/it]"
          ]
        },
        {
          "output_type": "stream",
          "name": "stdout",
          "text": [
            "\n",
            "Loss: 1.034 | Epoch: 1/2 | 470/318\n"
          ]
        },
        {
          "output_type": "stream",
          "name": "stderr",
          "text": [
            "\rEpoch 2/2:  48%|████▊     | 153/318 [03:52<04:16,  1.55s/it]"
          ]
        },
        {
          "output_type": "stream",
          "name": "stdout",
          "text": [
            "\n",
            "Loss: 0.099 | Epoch: 1/2 | 471/318\n"
          ]
        },
        {
          "output_type": "stream",
          "name": "stderr",
          "text": [
            "\rEpoch 2/2:  48%|████▊     | 154/318 [03:53<04:15,  1.55s/it]"
          ]
        },
        {
          "output_type": "stream",
          "name": "stdout",
          "text": [
            "\n",
            "Loss: 0.498 | Epoch: 1/2 | 472/318\n"
          ]
        },
        {
          "output_type": "stream",
          "name": "stderr",
          "text": [
            "\rEpoch 2/2:  49%|████▊     | 155/318 [03:55<04:14,  1.56s/it]"
          ]
        },
        {
          "output_type": "stream",
          "name": "stdout",
          "text": [
            "\n",
            "Loss: 0.432 | Epoch: 1/2 | 473/318\n"
          ]
        },
        {
          "output_type": "stream",
          "name": "stderr",
          "text": [
            "\rEpoch 2/2:  49%|████▉     | 156/318 [03:57<04:13,  1.56s/it]"
          ]
        },
        {
          "output_type": "stream",
          "name": "stdout",
          "text": [
            "\n",
            "Loss: 0.921 | Epoch: 1/2 | 474/318\n"
          ]
        },
        {
          "output_type": "stream",
          "name": "stderr",
          "text": [
            "\rEpoch 2/2:  49%|████▉     | 157/318 [03:58<04:10,  1.55s/it]"
          ]
        },
        {
          "output_type": "stream",
          "name": "stdout",
          "text": [
            "\n",
            "Loss: 0.079 | Epoch: 1/2 | 475/318\n"
          ]
        },
        {
          "output_type": "stream",
          "name": "stderr",
          "text": [
            "\rEpoch 2/2:  50%|████▉     | 158/318 [04:00<04:07,  1.55s/it]"
          ]
        },
        {
          "output_type": "stream",
          "name": "stdout",
          "text": [
            "\n",
            "Loss: 1.257 | Epoch: 1/2 | 476/318\n"
          ]
        },
        {
          "output_type": "stream",
          "name": "stderr",
          "text": [
            "\rEpoch 2/2:  50%|█████     | 159/318 [04:01<04:06,  1.55s/it]"
          ]
        },
        {
          "output_type": "stream",
          "name": "stdout",
          "text": [
            "\n",
            "Loss: 0.934 | Epoch: 1/2 | 477/318\n"
          ]
        },
        {
          "output_type": "stream",
          "name": "stderr",
          "text": [
            "\rEpoch 2/2:  50%|█████     | 160/318 [04:03<04:04,  1.54s/it]"
          ]
        },
        {
          "output_type": "stream",
          "name": "stdout",
          "text": [
            "\n",
            "Loss: 0.174 | Epoch: 1/2 | 478/318\n"
          ]
        },
        {
          "output_type": "stream",
          "name": "stderr",
          "text": [
            "\rEpoch 2/2:  51%|█████     | 161/318 [04:04<04:03,  1.55s/it]"
          ]
        },
        {
          "output_type": "stream",
          "name": "stdout",
          "text": [
            "\n",
            "Loss: 1.174 | Epoch: 1/2 | 479/318\n"
          ]
        },
        {
          "output_type": "stream",
          "name": "stderr",
          "text": [
            "\rEpoch 2/2:  51%|█████     | 162/318 [04:06<04:03,  1.56s/it]"
          ]
        },
        {
          "output_type": "stream",
          "name": "stdout",
          "text": [
            "\n",
            "Loss: 0.11 | Epoch: 1/2 | 480/318\n"
          ]
        },
        {
          "output_type": "stream",
          "name": "stderr",
          "text": [
            "\rEpoch 2/2:  51%|█████▏    | 163/318 [04:07<04:00,  1.55s/it]"
          ]
        },
        {
          "output_type": "stream",
          "name": "stdout",
          "text": [
            "\n",
            "Loss: 0.456 | Epoch: 1/2 | 481/318\n"
          ]
        },
        {
          "output_type": "stream",
          "name": "stderr",
          "text": [
            "\rEpoch 2/2:  52%|█████▏    | 164/318 [04:09<04:00,  1.56s/it]"
          ]
        },
        {
          "output_type": "stream",
          "name": "stdout",
          "text": [
            "\n",
            "Loss: 1.286 | Epoch: 1/2 | 482/318\n"
          ]
        },
        {
          "output_type": "stream",
          "name": "stderr",
          "text": [
            "\rEpoch 2/2:  52%|█████▏    | 165/318 [04:10<03:50,  1.50s/it]"
          ]
        },
        {
          "output_type": "stream",
          "name": "stdout",
          "text": [
            "\n",
            "Loss: 0.897 | Epoch: 1/2 | 483/318\n"
          ]
        },
        {
          "output_type": "stream",
          "name": "stderr",
          "text": [
            "\rEpoch 2/2:  52%|█████▏    | 166/318 [04:12<03:42,  1.47s/it]"
          ]
        },
        {
          "output_type": "stream",
          "name": "stdout",
          "text": [
            "\n",
            "Loss: 0.61 | Epoch: 1/2 | 484/318\n"
          ]
        },
        {
          "output_type": "stream",
          "name": "stderr",
          "text": [
            "\rEpoch 2/2:  53%|█████▎    | 167/318 [04:13<03:44,  1.49s/it]"
          ]
        },
        {
          "output_type": "stream",
          "name": "stdout",
          "text": [
            "\n",
            "Loss: 0.794 | Epoch: 1/2 | 485/318\n"
          ]
        },
        {
          "output_type": "stream",
          "name": "stderr",
          "text": [
            "\rEpoch 2/2:  53%|█████▎    | 168/318 [04:15<03:47,  1.52s/it]"
          ]
        },
        {
          "output_type": "stream",
          "name": "stdout",
          "text": [
            "\n",
            "Loss: 0.221 | Epoch: 1/2 | 486/318\n"
          ]
        },
        {
          "output_type": "stream",
          "name": "stderr",
          "text": [
            "\rEpoch 2/2:  53%|█████▎    | 169/318 [04:16<03:48,  1.53s/it]"
          ]
        },
        {
          "output_type": "stream",
          "name": "stdout",
          "text": [
            "\n",
            "Loss: 0.523 | Epoch: 1/2 | 487/318\n"
          ]
        },
        {
          "output_type": "stream",
          "name": "stderr",
          "text": [
            "\rEpoch 2/2:  53%|█████▎    | 170/318 [04:18<03:39,  1.49s/it]"
          ]
        },
        {
          "output_type": "stream",
          "name": "stdout",
          "text": [
            "\n",
            "Loss: 0.191 | Epoch: 1/2 | 488/318\n"
          ]
        },
        {
          "output_type": "stream",
          "name": "stderr",
          "text": [
            "\rEpoch 2/2:  54%|█████▍    | 171/318 [04:19<03:40,  1.50s/it]"
          ]
        },
        {
          "output_type": "stream",
          "name": "stdout",
          "text": [
            "\n",
            "Loss: 0.285 | Epoch: 1/2 | 489/318\n"
          ]
        },
        {
          "output_type": "stream",
          "name": "stderr",
          "text": [
            "\rEpoch 2/2:  54%|█████▍    | 172/318 [04:21<03:41,  1.51s/it]"
          ]
        },
        {
          "output_type": "stream",
          "name": "stdout",
          "text": [
            "\n",
            "Loss: 0.628 | Epoch: 1/2 | 490/318\n"
          ]
        },
        {
          "output_type": "stream",
          "name": "stderr",
          "text": [
            "\rEpoch 2/2:  54%|█████▍    | 173/318 [04:22<03:33,  1.47s/it]"
          ]
        },
        {
          "output_type": "stream",
          "name": "stdout",
          "text": [
            "\n",
            "Loss: 0.813 | Epoch: 1/2 | 491/318\n"
          ]
        },
        {
          "output_type": "stream",
          "name": "stderr",
          "text": [
            "\rEpoch 2/2:  55%|█████▍    | 174/318 [04:24<03:27,  1.44s/it]"
          ]
        },
        {
          "output_type": "stream",
          "name": "stdout",
          "text": [
            "\n",
            "Loss: 0.422 | Epoch: 1/2 | 492/318\n"
          ]
        },
        {
          "output_type": "stream",
          "name": "stderr",
          "text": [
            "\rEpoch 2/2:  55%|█████▌    | 175/318 [04:25<03:28,  1.46s/it]"
          ]
        },
        {
          "output_type": "stream",
          "name": "stdout",
          "text": [
            "\n",
            "Loss: 0.355 | Epoch: 1/2 | 493/318\n"
          ]
        },
        {
          "output_type": "stream",
          "name": "stderr",
          "text": [
            "\rEpoch 2/2:  55%|█████▌    | 176/318 [04:27<03:30,  1.48s/it]"
          ]
        },
        {
          "output_type": "stream",
          "name": "stdout",
          "text": [
            "\n",
            "Loss: 0.755 | Epoch: 1/2 | 494/318\n"
          ]
        },
        {
          "output_type": "stream",
          "name": "stderr",
          "text": [
            "\rEpoch 2/2:  56%|█████▌    | 177/318 [04:28<03:25,  1.45s/it]"
          ]
        },
        {
          "output_type": "stream",
          "name": "stdout",
          "text": [
            "\n",
            "Loss: 0.197 | Epoch: 1/2 | 495/318\n"
          ]
        },
        {
          "output_type": "stream",
          "name": "stderr",
          "text": [
            "\rEpoch 2/2:  56%|█████▌    | 178/318 [04:29<03:20,  1.43s/it]"
          ]
        },
        {
          "output_type": "stream",
          "name": "stdout",
          "text": [
            "\n",
            "Loss: 0.32 | Epoch: 1/2 | 496/318\n"
          ]
        },
        {
          "output_type": "stream",
          "name": "stderr",
          "text": [
            "\rEpoch 2/2:  56%|█████▋    | 179/318 [04:31<03:23,  1.47s/it]"
          ]
        },
        {
          "output_type": "stream",
          "name": "stdout",
          "text": [
            "\n",
            "Loss: 0.086 | Epoch: 1/2 | 497/318\n"
          ]
        },
        {
          "output_type": "stream",
          "name": "stderr",
          "text": [
            "\rEpoch 2/2:  57%|█████▋    | 180/318 [04:32<03:25,  1.49s/it]"
          ]
        },
        {
          "output_type": "stream",
          "name": "stdout",
          "text": [
            "\n",
            "Loss: 0.021 | Epoch: 1/2 | 498/318\n"
          ]
        },
        {
          "output_type": "stream",
          "name": "stderr",
          "text": [
            "\rEpoch 2/2:  57%|█████▋    | 181/318 [04:34<03:27,  1.51s/it]"
          ]
        },
        {
          "output_type": "stream",
          "name": "stdout",
          "text": [
            "\n",
            "Loss: 1.187 | Epoch: 1/2 | 499/318\n"
          ]
        },
        {
          "output_type": "stream",
          "name": "stderr",
          "text": [
            "\rEpoch 2/2:  57%|█████▋    | 182/318 [04:36<03:24,  1.50s/it]"
          ]
        },
        {
          "output_type": "stream",
          "name": "stdout",
          "text": [
            "\n",
            "Loss: 0.96 | Epoch: 1/2 | 500/318\n"
          ]
        },
        {
          "output_type": "stream",
          "name": "stderr",
          "text": [
            "\rEpoch 2/2:  58%|█████▊    | 183/318 [04:37<03:24,  1.51s/it]"
          ]
        },
        {
          "output_type": "stream",
          "name": "stdout",
          "text": [
            "\n",
            "Loss: 0.944 | Epoch: 1/2 | 501/318\n"
          ]
        },
        {
          "output_type": "stream",
          "name": "stderr",
          "text": [
            "\rEpoch 2/2:  58%|█████▊    | 184/318 [04:39<03:23,  1.52s/it]"
          ]
        },
        {
          "output_type": "stream",
          "name": "stdout",
          "text": [
            "\n",
            "Loss: 0.444 | Epoch: 1/2 | 502/318\n"
          ]
        },
        {
          "output_type": "stream",
          "name": "stderr",
          "text": [
            "\rEpoch 2/2:  58%|█████▊    | 185/318 [04:40<03:17,  1.48s/it]"
          ]
        },
        {
          "output_type": "stream",
          "name": "stdout",
          "text": [
            "\n",
            "Loss: 0.046 | Epoch: 1/2 | 503/318\n"
          ]
        },
        {
          "output_type": "stream",
          "name": "stderr",
          "text": [
            "\rEpoch 2/2:  58%|█████▊    | 186/318 [04:41<03:16,  1.49s/it]"
          ]
        },
        {
          "output_type": "stream",
          "name": "stdout",
          "text": [
            "\n",
            "Loss: 0.053 | Epoch: 1/2 | 504/318\n"
          ]
        },
        {
          "output_type": "stream",
          "name": "stderr",
          "text": [
            "\rEpoch 2/2:  59%|█████▉    | 187/318 [04:43<03:16,  1.50s/it]"
          ]
        },
        {
          "output_type": "stream",
          "name": "stdout",
          "text": [
            "\n",
            "Loss: 0.103 | Epoch: 1/2 | 505/318\n"
          ]
        },
        {
          "output_type": "stream",
          "name": "stderr",
          "text": [
            "\rEpoch 2/2:  59%|█████▉    | 188/318 [04:44<03:11,  1.47s/it]"
          ]
        },
        {
          "output_type": "stream",
          "name": "stdout",
          "text": [
            "\n",
            "Loss: 0.339 | Epoch: 1/2 | 506/318\n"
          ]
        },
        {
          "output_type": "stream",
          "name": "stderr",
          "text": [
            "\rEpoch 2/2:  59%|█████▉    | 189/318 [04:46<03:13,  1.50s/it]"
          ]
        },
        {
          "output_type": "stream",
          "name": "stdout",
          "text": [
            "\n",
            "Loss: 0.632 | Epoch: 1/2 | 507/318\n"
          ]
        },
        {
          "output_type": "stream",
          "name": "stderr",
          "text": [
            "\rEpoch 2/2:  60%|█████▉    | 190/318 [04:48<03:15,  1.53s/it]"
          ]
        },
        {
          "output_type": "stream",
          "name": "stdout",
          "text": [
            "\n",
            "Loss: 0.208 | Epoch: 1/2 | 508/318\n"
          ]
        },
        {
          "output_type": "stream",
          "name": "stderr",
          "text": [
            "\rEpoch 2/2:  60%|██████    | 191/318 [04:49<03:14,  1.53s/it]"
          ]
        },
        {
          "output_type": "stream",
          "name": "stdout",
          "text": [
            "\n",
            "Loss: 0.702 | Epoch: 1/2 | 509/318\n"
          ]
        },
        {
          "output_type": "stream",
          "name": "stderr",
          "text": [
            "\rEpoch 2/2:  60%|██████    | 192/318 [04:51<03:13,  1.53s/it]"
          ]
        },
        {
          "output_type": "stream",
          "name": "stdout",
          "text": [
            "\n",
            "Loss: 0.884 | Epoch: 1/2 | 510/318\n"
          ]
        },
        {
          "output_type": "stream",
          "name": "stderr",
          "text": [
            "\rEpoch 2/2:  61%|██████    | 193/318 [04:52<03:10,  1.53s/it]"
          ]
        },
        {
          "output_type": "stream",
          "name": "stdout",
          "text": [
            "\n",
            "Loss: 0.381 | Epoch: 1/2 | 511/318\n"
          ]
        },
        {
          "output_type": "stream",
          "name": "stderr",
          "text": [
            "\rEpoch 2/2:  61%|██████    | 194/318 [04:54<03:09,  1.53s/it]"
          ]
        },
        {
          "output_type": "stream",
          "name": "stdout",
          "text": [
            "\n",
            "Loss: 0.477 | Epoch: 1/2 | 512/318\n"
          ]
        },
        {
          "output_type": "stream",
          "name": "stderr",
          "text": [
            "\rEpoch 2/2:  61%|██████▏   | 195/318 [04:55<03:08,  1.53s/it]"
          ]
        },
        {
          "output_type": "stream",
          "name": "stdout",
          "text": [
            "\n",
            "Loss: 0.354 | Epoch: 1/2 | 513/318\n"
          ]
        },
        {
          "output_type": "stream",
          "name": "stderr",
          "text": [
            "\rEpoch 2/2:  62%|██████▏   | 196/318 [04:57<03:05,  1.52s/it]"
          ]
        },
        {
          "output_type": "stream",
          "name": "stdout",
          "text": [
            "\n",
            "Loss: 0.92 | Epoch: 1/2 | 514/318\n"
          ]
        },
        {
          "output_type": "stream",
          "name": "stderr",
          "text": [
            "\rEpoch 2/2:  62%|██████▏   | 197/318 [04:58<03:03,  1.52s/it]"
          ]
        },
        {
          "output_type": "stream",
          "name": "stdout",
          "text": [
            "\n",
            "Loss: 0.287 | Epoch: 1/2 | 515/318\n"
          ]
        },
        {
          "output_type": "stream",
          "name": "stderr",
          "text": [
            "\rEpoch 2/2:  62%|██████▏   | 198/318 [05:00<03:02,  1.52s/it]"
          ]
        },
        {
          "output_type": "stream",
          "name": "stdout",
          "text": [
            "\n",
            "Loss: 0.389 | Epoch: 1/2 | 516/318\n"
          ]
        },
        {
          "output_type": "stream",
          "name": "stderr",
          "text": [
            "\rEpoch 2/2:  63%|██████▎   | 199/318 [05:01<03:01,  1.53s/it]"
          ]
        },
        {
          "output_type": "stream",
          "name": "stdout",
          "text": [
            "\n",
            "Loss: 0.263 | Epoch: 1/2 | 517/318\n"
          ]
        },
        {
          "output_type": "stream",
          "name": "stderr",
          "text": [
            "\rEpoch 2/2:  63%|██████▎   | 200/318 [05:03<03:00,  1.53s/it]"
          ]
        },
        {
          "output_type": "stream",
          "name": "stdout",
          "text": [
            "\n",
            "Loss: 0.31 | Epoch: 1/2 | 518/318\n"
          ]
        },
        {
          "output_type": "stream",
          "name": "stderr",
          "text": [
            "\rEpoch 2/2:  63%|██████▎   | 201/318 [05:04<03:00,  1.54s/it]"
          ]
        },
        {
          "output_type": "stream",
          "name": "stdout",
          "text": [
            "\n",
            "Loss: 0.118 | Epoch: 1/2 | 519/318\n"
          ]
        },
        {
          "output_type": "stream",
          "name": "stderr",
          "text": [
            "\rEpoch 2/2:  64%|██████▎   | 202/318 [05:06<02:59,  1.55s/it]"
          ]
        },
        {
          "output_type": "stream",
          "name": "stdout",
          "text": [
            "\n",
            "Loss: 0.409 | Epoch: 1/2 | 520/318\n"
          ]
        },
        {
          "output_type": "stream",
          "name": "stderr",
          "text": [
            "\rEpoch 2/2:  64%|██████▍   | 203/318 [05:08<02:57,  1.54s/it]"
          ]
        },
        {
          "output_type": "stream",
          "name": "stdout",
          "text": [
            "\n",
            "Loss: 0.415 | Epoch: 1/2 | 521/318\n"
          ]
        },
        {
          "output_type": "stream",
          "name": "stderr",
          "text": [
            "\rEpoch 2/2:  64%|██████▍   | 204/318 [05:09<02:55,  1.54s/it]"
          ]
        },
        {
          "output_type": "stream",
          "name": "stdout",
          "text": [
            "\n",
            "Loss: 0.11 | Epoch: 1/2 | 522/318\n"
          ]
        },
        {
          "output_type": "stream",
          "name": "stderr",
          "text": [
            "\rEpoch 2/2:  64%|██████▍   | 205/318 [05:11<02:55,  1.55s/it]"
          ]
        },
        {
          "output_type": "stream",
          "name": "stdout",
          "text": [
            "\n",
            "Loss: 0.901 | Epoch: 1/2 | 523/318\n"
          ]
        },
        {
          "output_type": "stream",
          "name": "stderr",
          "text": [
            "\rEpoch 2/2:  65%|██████▍   | 206/318 [05:12<02:53,  1.55s/it]"
          ]
        },
        {
          "output_type": "stream",
          "name": "stdout",
          "text": [
            "\n",
            "Loss: 1.268 | Epoch: 1/2 | 524/318\n"
          ]
        },
        {
          "output_type": "stream",
          "name": "stderr",
          "text": [
            "\rEpoch 2/2:  65%|██████▌   | 207/318 [05:14<02:51,  1.54s/it]"
          ]
        },
        {
          "output_type": "stream",
          "name": "stdout",
          "text": [
            "\n",
            "Loss: 0.277 | Epoch: 1/2 | 525/318\n"
          ]
        },
        {
          "output_type": "stream",
          "name": "stderr",
          "text": [
            "\rEpoch 2/2:  65%|██████▌   | 208/318 [05:15<02:49,  1.54s/it]"
          ]
        },
        {
          "output_type": "stream",
          "name": "stdout",
          "text": [
            "\n",
            "Loss: 0.275 | Epoch: 1/2 | 526/318\n"
          ]
        },
        {
          "output_type": "stream",
          "name": "stderr",
          "text": [
            "\rEpoch 2/2:  66%|██████▌   | 209/318 [05:17<02:48,  1.54s/it]"
          ]
        },
        {
          "output_type": "stream",
          "name": "stdout",
          "text": [
            "\n",
            "Loss: 0.853 | Epoch: 1/2 | 527/318\n"
          ]
        },
        {
          "output_type": "stream",
          "name": "stderr",
          "text": [
            "\rEpoch 2/2:  66%|██████▌   | 210/318 [05:18<02:46,  1.54s/it]"
          ]
        },
        {
          "output_type": "stream",
          "name": "stdout",
          "text": [
            "\n",
            "Loss: 0.457 | Epoch: 1/2 | 528/318\n"
          ]
        },
        {
          "output_type": "stream",
          "name": "stderr",
          "text": [
            "\rEpoch 2/2:  66%|██████▋   | 211/318 [05:20<02:45,  1.55s/it]"
          ]
        },
        {
          "output_type": "stream",
          "name": "stdout",
          "text": [
            "\n",
            "Loss: 0.62 | Epoch: 1/2 | 529/318\n"
          ]
        },
        {
          "output_type": "stream",
          "name": "stderr",
          "text": [
            "\rEpoch 2/2:  67%|██████▋   | 212/318 [05:21<02:44,  1.55s/it]"
          ]
        },
        {
          "output_type": "stream",
          "name": "stdout",
          "text": [
            "\n",
            "Loss: 0.41 | Epoch: 1/2 | 530/318\n"
          ]
        },
        {
          "output_type": "stream",
          "name": "stderr",
          "text": [
            "\rEpoch 2/2:  67%|██████▋   | 213/318 [05:23<02:42,  1.55s/it]"
          ]
        },
        {
          "output_type": "stream",
          "name": "stdout",
          "text": [
            "\n",
            "Loss: 0.426 | Epoch: 1/2 | 531/318\n"
          ]
        },
        {
          "output_type": "stream",
          "name": "stderr",
          "text": [
            "\rEpoch 2/2:  67%|██████▋   | 214/318 [05:25<02:42,  1.56s/it]"
          ]
        },
        {
          "output_type": "stream",
          "name": "stdout",
          "text": [
            "\n",
            "Loss: 0.178 | Epoch: 1/2 | 532/318\n"
          ]
        },
        {
          "output_type": "stream",
          "name": "stderr",
          "text": [
            "\rEpoch 2/2:  68%|██████▊   | 215/318 [05:26<02:39,  1.55s/it]"
          ]
        },
        {
          "output_type": "stream",
          "name": "stdout",
          "text": [
            "\n",
            "Loss: 0.185 | Epoch: 1/2 | 533/318\n"
          ]
        },
        {
          "output_type": "stream",
          "name": "stderr",
          "text": [
            "\rEpoch 2/2:  68%|██████▊   | 216/318 [05:28<02:38,  1.56s/it]"
          ]
        },
        {
          "output_type": "stream",
          "name": "stdout",
          "text": [
            "\n",
            "Loss: 0.163 | Epoch: 1/2 | 534/318\n"
          ]
        },
        {
          "output_type": "stream",
          "name": "stderr",
          "text": [
            "\rEpoch 2/2:  68%|██████▊   | 217/318 [05:29<02:37,  1.56s/it]"
          ]
        },
        {
          "output_type": "stream",
          "name": "stdout",
          "text": [
            "\n",
            "Loss: 0.332 | Epoch: 1/2 | 535/318\n"
          ]
        },
        {
          "output_type": "stream",
          "name": "stderr",
          "text": [
            "\rEpoch 2/2:  69%|██████▊   | 218/318 [05:31<02:30,  1.51s/it]"
          ]
        },
        {
          "output_type": "stream",
          "name": "stdout",
          "text": [
            "\n",
            "Loss: 1.559 | Epoch: 1/2 | 536/318\n"
          ]
        },
        {
          "output_type": "stream",
          "name": "stderr",
          "text": [
            "\rEpoch 2/2:  69%|██████▉   | 219/318 [05:32<02:31,  1.53s/it]"
          ]
        },
        {
          "output_type": "stream",
          "name": "stdout",
          "text": [
            "\n",
            "Loss: 0.627 | Epoch: 1/2 | 537/318\n"
          ]
        },
        {
          "output_type": "stream",
          "name": "stderr",
          "text": [
            "\rEpoch 2/2:  69%|██████▉   | 220/318 [05:34<02:25,  1.48s/it]"
          ]
        },
        {
          "output_type": "stream",
          "name": "stdout",
          "text": [
            "\n",
            "Loss: 0.088 | Epoch: 1/2 | 538/318\n"
          ]
        },
        {
          "output_type": "stream",
          "name": "stderr",
          "text": [
            "\rEpoch 2/2:  69%|██████▉   | 221/318 [05:35<02:24,  1.49s/it]"
          ]
        },
        {
          "output_type": "stream",
          "name": "stdout",
          "text": [
            "\n",
            "Loss: 0.584 | Epoch: 1/2 | 539/318\n"
          ]
        },
        {
          "output_type": "stream",
          "name": "stderr",
          "text": [
            "\rEpoch 2/2:  70%|██████▉   | 222/318 [05:37<02:24,  1.51s/it]"
          ]
        },
        {
          "output_type": "stream",
          "name": "stdout",
          "text": [
            "\n",
            "Loss: 1.343 | Epoch: 1/2 | 540/318\n"
          ]
        },
        {
          "output_type": "stream",
          "name": "stderr",
          "text": [
            "\rEpoch 2/2:  70%|███████   | 223/318 [05:38<02:23,  1.51s/it]"
          ]
        },
        {
          "output_type": "stream",
          "name": "stdout",
          "text": [
            "\n",
            "Loss: 0.05 | Epoch: 1/2 | 541/318\n"
          ]
        },
        {
          "output_type": "stream",
          "name": "stderr",
          "text": [
            "\rEpoch 2/2:  70%|███████   | 224/318 [05:40<02:23,  1.53s/it]"
          ]
        },
        {
          "output_type": "stream",
          "name": "stdout",
          "text": [
            "\n",
            "Loss: 0.682 | Epoch: 1/2 | 542/318\n"
          ]
        },
        {
          "output_type": "stream",
          "name": "stderr",
          "text": [
            "\rEpoch 2/2:  71%|███████   | 225/318 [05:41<02:22,  1.53s/it]"
          ]
        },
        {
          "output_type": "stream",
          "name": "stdout",
          "text": [
            "\n",
            "Loss: 0.277 | Epoch: 1/2 | 543/318\n"
          ]
        },
        {
          "output_type": "stream",
          "name": "stderr",
          "text": [
            "\rEpoch 2/2:  71%|███████   | 226/318 [05:43<02:21,  1.53s/it]"
          ]
        },
        {
          "output_type": "stream",
          "name": "stdout",
          "text": [
            "\n",
            "Loss: 0.063 | Epoch: 1/2 | 544/318\n"
          ]
        },
        {
          "output_type": "stream",
          "name": "stderr",
          "text": [
            "\rEpoch 2/2:  71%|███████▏  | 227/318 [05:44<02:19,  1.54s/it]"
          ]
        },
        {
          "output_type": "stream",
          "name": "stdout",
          "text": [
            "\n",
            "Loss: 0.17 | Epoch: 1/2 | 545/318\n"
          ]
        },
        {
          "output_type": "stream",
          "name": "stderr",
          "text": [
            "\rEpoch 2/2:  72%|███████▏  | 228/318 [05:46<02:18,  1.53s/it]"
          ]
        },
        {
          "output_type": "stream",
          "name": "stdout",
          "text": [
            "\n",
            "Loss: 0.385 | Epoch: 1/2 | 546/318\n"
          ]
        },
        {
          "output_type": "stream",
          "name": "stderr",
          "text": [
            "\rEpoch 2/2:  72%|███████▏  | 229/318 [05:47<02:17,  1.54s/it]"
          ]
        },
        {
          "output_type": "stream",
          "name": "stdout",
          "text": [
            "\n",
            "Loss: 2.234 | Epoch: 1/2 | 547/318\n"
          ]
        },
        {
          "output_type": "stream",
          "name": "stderr",
          "text": [
            "\rEpoch 2/2:  72%|███████▏  | 230/318 [05:49<02:15,  1.54s/it]"
          ]
        },
        {
          "output_type": "stream",
          "name": "stdout",
          "text": [
            "\n",
            "Loss: 0.599 | Epoch: 1/2 | 548/318\n"
          ]
        },
        {
          "output_type": "stream",
          "name": "stderr",
          "text": [
            "\rEpoch 2/2:  73%|███████▎  | 231/318 [05:50<02:10,  1.49s/it]"
          ]
        },
        {
          "output_type": "stream",
          "name": "stdout",
          "text": [
            "\n",
            "Loss: 0.03 | Epoch: 1/2 | 549/318\n"
          ]
        },
        {
          "output_type": "stream",
          "name": "stderr",
          "text": [
            "\rEpoch 2/2:  73%|███████▎  | 232/318 [05:52<02:09,  1.51s/it]"
          ]
        },
        {
          "output_type": "stream",
          "name": "stdout",
          "text": [
            "\n",
            "Loss: 0.207 | Epoch: 1/2 | 550/318\n"
          ]
        },
        {
          "output_type": "stream",
          "name": "stderr",
          "text": [
            "\rEpoch 2/2:  73%|███████▎  | 233/318 [05:53<02:07,  1.50s/it]"
          ]
        },
        {
          "output_type": "stream",
          "name": "stdout",
          "text": [
            "\n",
            "Loss: 0.151 | Epoch: 1/2 | 551/318\n"
          ]
        },
        {
          "output_type": "stream",
          "name": "stderr",
          "text": [
            "\rEpoch 2/2:  74%|███████▎  | 234/318 [05:55<02:07,  1.51s/it]"
          ]
        },
        {
          "output_type": "stream",
          "name": "stdout",
          "text": [
            "\n",
            "Loss: 0.434 | Epoch: 1/2 | 552/318\n"
          ]
        },
        {
          "output_type": "stream",
          "name": "stderr",
          "text": [
            "\rEpoch 2/2:  74%|███████▍  | 235/318 [05:56<02:06,  1.52s/it]"
          ]
        },
        {
          "output_type": "stream",
          "name": "stdout",
          "text": [
            "\n",
            "Loss: 0.85 | Epoch: 1/2 | 553/318\n"
          ]
        },
        {
          "output_type": "stream",
          "name": "stderr",
          "text": [
            "\rEpoch 2/2:  74%|███████▍  | 236/318 [05:58<02:05,  1.54s/it]"
          ]
        },
        {
          "output_type": "stream",
          "name": "stdout",
          "text": [
            "\n",
            "Loss: 0.046 | Epoch: 1/2 | 554/318\n"
          ]
        },
        {
          "output_type": "stream",
          "name": "stderr",
          "text": [
            "\rEpoch 2/2:  75%|███████▍  | 237/318 [06:00<02:04,  1.54s/it]"
          ]
        },
        {
          "output_type": "stream",
          "name": "stdout",
          "text": [
            "\n",
            "Loss: 0.912 | Epoch: 1/2 | 555/318\n"
          ]
        },
        {
          "output_type": "stream",
          "name": "stderr",
          "text": [
            "\rEpoch 2/2:  75%|███████▍  | 238/318 [06:01<02:03,  1.54s/it]"
          ]
        },
        {
          "output_type": "stream",
          "name": "stdout",
          "text": [
            "\n",
            "Loss: 1.823 | Epoch: 1/2 | 556/318\n"
          ]
        },
        {
          "output_type": "stream",
          "name": "stderr",
          "text": [
            "\rEpoch 2/2:  75%|███████▌  | 239/318 [06:03<01:58,  1.49s/it]"
          ]
        },
        {
          "output_type": "stream",
          "name": "stdout",
          "text": [
            "\n",
            "Loss: 0.791 | Epoch: 1/2 | 557/318\n"
          ]
        },
        {
          "output_type": "stream",
          "name": "stderr",
          "text": [
            "\rEpoch 2/2:  75%|███████▌  | 240/318 [06:04<01:58,  1.52s/it]"
          ]
        },
        {
          "output_type": "stream",
          "name": "stdout",
          "text": [
            "\n",
            "Loss: 1.221 | Epoch: 1/2 | 558/318\n"
          ]
        },
        {
          "output_type": "stream",
          "name": "stderr",
          "text": [
            "\rEpoch 2/2:  76%|███████▌  | 241/318 [06:06<01:58,  1.54s/it]"
          ]
        },
        {
          "output_type": "stream",
          "name": "stdout",
          "text": [
            "\n",
            "Loss: 0.877 | Epoch: 1/2 | 559/318\n"
          ]
        },
        {
          "output_type": "stream",
          "name": "stderr",
          "text": [
            "\rEpoch 2/2:  76%|███████▌  | 242/318 [06:07<01:57,  1.55s/it]"
          ]
        },
        {
          "output_type": "stream",
          "name": "stdout",
          "text": [
            "\n",
            "Loss: 0.655 | Epoch: 1/2 | 560/318\n"
          ]
        },
        {
          "output_type": "stream",
          "name": "stderr",
          "text": [
            "\rEpoch 2/2:  76%|███████▋  | 243/318 [06:09<01:56,  1.56s/it]"
          ]
        },
        {
          "output_type": "stream",
          "name": "stdout",
          "text": [
            "\n",
            "Loss: 0.029 | Epoch: 1/2 | 561/318\n"
          ]
        },
        {
          "output_type": "stream",
          "name": "stderr",
          "text": [
            "\rEpoch 2/2:  77%|███████▋  | 244/318 [06:10<01:55,  1.56s/it]"
          ]
        },
        {
          "output_type": "stream",
          "name": "stdout",
          "text": [
            "\n",
            "Loss: 0.665 | Epoch: 1/2 | 562/318\n"
          ]
        },
        {
          "output_type": "stream",
          "name": "stderr",
          "text": [
            "\rEpoch 2/2:  77%|███████▋  | 245/318 [06:12<01:52,  1.55s/it]"
          ]
        },
        {
          "output_type": "stream",
          "name": "stdout",
          "text": [
            "\n",
            "Loss: 0.135 | Epoch: 1/2 | 563/318\n"
          ]
        },
        {
          "output_type": "stream",
          "name": "stderr",
          "text": [
            "\rEpoch 2/2:  77%|███████▋  | 246/318 [06:13<01:50,  1.54s/it]"
          ]
        },
        {
          "output_type": "stream",
          "name": "stdout",
          "text": [
            "\n",
            "Loss: 0.094 | Epoch: 1/2 | 564/318\n"
          ]
        },
        {
          "output_type": "stream",
          "name": "stderr",
          "text": [
            "\rEpoch 2/2:  78%|███████▊  | 247/318 [06:15<01:50,  1.56s/it]"
          ]
        },
        {
          "output_type": "stream",
          "name": "stdout",
          "text": [
            "\n",
            "Loss: 0.715 | Epoch: 1/2 | 565/318\n"
          ]
        },
        {
          "output_type": "stream",
          "name": "stderr",
          "text": [
            "\rEpoch 2/2:  78%|███████▊  | 248/318 [06:17<01:48,  1.55s/it]"
          ]
        },
        {
          "output_type": "stream",
          "name": "stdout",
          "text": [
            "\n",
            "Loss: 0.176 | Epoch: 1/2 | 566/318\n"
          ]
        },
        {
          "output_type": "stream",
          "name": "stderr",
          "text": [
            "\rEpoch 2/2:  78%|███████▊  | 249/318 [06:18<01:47,  1.56s/it]"
          ]
        },
        {
          "output_type": "stream",
          "name": "stdout",
          "text": [
            "\n",
            "Loss: 0.691 | Epoch: 1/2 | 567/318\n"
          ]
        },
        {
          "output_type": "stream",
          "name": "stderr",
          "text": [
            "\rEpoch 2/2:  79%|███████▊  | 250/318 [06:20<01:44,  1.54s/it]"
          ]
        },
        {
          "output_type": "stream",
          "name": "stdout",
          "text": [
            "\n",
            "Loss: 0.168 | Epoch: 1/2 | 568/318\n"
          ]
        },
        {
          "output_type": "stream",
          "name": "stderr",
          "text": [
            "\rEpoch 2/2:  79%|███████▉  | 251/318 [06:21<01:43,  1.54s/it]"
          ]
        },
        {
          "output_type": "stream",
          "name": "stdout",
          "text": [
            "\n",
            "Loss: 0.204 | Epoch: 1/2 | 569/318\n"
          ]
        },
        {
          "output_type": "stream",
          "name": "stderr",
          "text": [
            "\rEpoch 2/2:  79%|███████▉  | 252/318 [06:23<01:41,  1.54s/it]"
          ]
        },
        {
          "output_type": "stream",
          "name": "stdout",
          "text": [
            "\n",
            "Loss: 0.719 | Epoch: 1/2 | 570/318\n"
          ]
        },
        {
          "output_type": "stream",
          "name": "stderr",
          "text": [
            "\rEpoch 2/2:  80%|███████▉  | 253/318 [06:24<01:39,  1.54s/it]"
          ]
        },
        {
          "output_type": "stream",
          "name": "stdout",
          "text": [
            "\n",
            "Loss: 0.7 | Epoch: 1/2 | 571/318\n"
          ]
        },
        {
          "output_type": "stream",
          "name": "stderr",
          "text": [
            "\rEpoch 2/2:  80%|███████▉  | 254/318 [06:26<01:39,  1.56s/it]"
          ]
        },
        {
          "output_type": "stream",
          "name": "stdout",
          "text": [
            "\n",
            "Loss: 0.719 | Epoch: 1/2 | 572/318\n"
          ]
        },
        {
          "output_type": "stream",
          "name": "stderr",
          "text": [
            "\rEpoch 2/2:  80%|████████  | 255/318 [06:27<01:37,  1.55s/it]"
          ]
        },
        {
          "output_type": "stream",
          "name": "stdout",
          "text": [
            "\n",
            "Loss: 0.491 | Epoch: 1/2 | 573/318\n"
          ]
        },
        {
          "output_type": "stream",
          "name": "stderr",
          "text": [
            "\rEpoch 2/2:  81%|████████  | 256/318 [06:29<01:35,  1.55s/it]"
          ]
        },
        {
          "output_type": "stream",
          "name": "stdout",
          "text": [
            "\n",
            "Loss: 0.534 | Epoch: 1/2 | 574/318\n"
          ]
        },
        {
          "output_type": "stream",
          "name": "stderr",
          "text": [
            "\rEpoch 2/2:  81%|████████  | 257/318 [06:30<01:31,  1.51s/it]"
          ]
        },
        {
          "output_type": "stream",
          "name": "stdout",
          "text": [
            "\n",
            "Loss: 0.949 | Epoch: 1/2 | 575/318\n"
          ]
        },
        {
          "output_type": "stream",
          "name": "stderr",
          "text": [
            "\rEpoch 2/2:  81%|████████  | 258/318 [06:32<01:30,  1.51s/it]"
          ]
        },
        {
          "output_type": "stream",
          "name": "stdout",
          "text": [
            "\n",
            "Loss: 0.269 | Epoch: 1/2 | 576/318\n"
          ]
        },
        {
          "output_type": "stream",
          "name": "stderr",
          "text": [
            "\rEpoch 2/2:  81%|████████▏ | 259/318 [06:33<01:26,  1.47s/it]"
          ]
        },
        {
          "output_type": "stream",
          "name": "stdout",
          "text": [
            "\n",
            "Loss: 0.569 | Epoch: 1/2 | 577/318\n"
          ]
        },
        {
          "output_type": "stream",
          "name": "stderr",
          "text": [
            "\rEpoch 2/2:  82%|████████▏ | 260/318 [06:35<01:27,  1.50s/it]"
          ]
        },
        {
          "output_type": "stream",
          "name": "stdout",
          "text": [
            "\n",
            "Loss: 0.644 | Epoch: 1/2 | 578/318\n"
          ]
        },
        {
          "output_type": "stream",
          "name": "stderr",
          "text": [
            "\rEpoch 2/2:  82%|████████▏ | 261/318 [06:36<01:26,  1.51s/it]"
          ]
        },
        {
          "output_type": "stream",
          "name": "stdout",
          "text": [
            "\n",
            "Loss: 0.061 | Epoch: 1/2 | 579/318\n"
          ]
        },
        {
          "output_type": "stream",
          "name": "stderr",
          "text": [
            "\rEpoch 2/2:  82%|████████▏ | 262/318 [06:38<01:25,  1.52s/it]"
          ]
        },
        {
          "output_type": "stream",
          "name": "stdout",
          "text": [
            "\n",
            "Loss: 0.395 | Epoch: 1/2 | 580/318\n"
          ]
        },
        {
          "output_type": "stream",
          "name": "stderr",
          "text": [
            "\rEpoch 2/2:  83%|████████▎ | 263/318 [06:39<01:24,  1.53s/it]"
          ]
        },
        {
          "output_type": "stream",
          "name": "stdout",
          "text": [
            "\n",
            "Loss: 0.108 | Epoch: 1/2 | 581/318\n"
          ]
        },
        {
          "output_type": "stream",
          "name": "stderr",
          "text": [
            "\rEpoch 2/2:  83%|████████▎ | 264/318 [06:41<01:22,  1.53s/it]"
          ]
        },
        {
          "output_type": "stream",
          "name": "stdout",
          "text": [
            "\n",
            "Loss: 0.411 | Epoch: 1/2 | 582/318\n"
          ]
        },
        {
          "output_type": "stream",
          "name": "stderr",
          "text": [
            "\rEpoch 2/2:  83%|████████▎ | 265/318 [06:43<01:21,  1.55s/it]"
          ]
        },
        {
          "output_type": "stream",
          "name": "stdout",
          "text": [
            "\n",
            "Loss: 0.143 | Epoch: 1/2 | 583/318\n"
          ]
        },
        {
          "output_type": "stream",
          "name": "stderr",
          "text": [
            "\rEpoch 2/2:  84%|████████▎ | 266/318 [06:44<01:20,  1.54s/it]"
          ]
        },
        {
          "output_type": "stream",
          "name": "stdout",
          "text": [
            "\n",
            "Loss: 0.503 | Epoch: 1/2 | 584/318\n"
          ]
        },
        {
          "output_type": "stream",
          "name": "stderr",
          "text": [
            "\rEpoch 2/2:  84%|████████▍ | 267/318 [06:46<01:18,  1.54s/it]"
          ]
        },
        {
          "output_type": "stream",
          "name": "stdout",
          "text": [
            "\n",
            "Loss: 0.058 | Epoch: 1/2 | 585/318\n"
          ]
        },
        {
          "output_type": "stream",
          "name": "stderr",
          "text": [
            "\rEpoch 2/2:  84%|████████▍ | 268/318 [06:47<01:17,  1.55s/it]"
          ]
        },
        {
          "output_type": "stream",
          "name": "stdout",
          "text": [
            "\n",
            "Loss: 0.952 | Epoch: 1/2 | 586/318\n"
          ]
        },
        {
          "output_type": "stream",
          "name": "stderr",
          "text": [
            "\rEpoch 2/2:  85%|████████▍ | 269/318 [06:49<01:15,  1.54s/it]"
          ]
        },
        {
          "output_type": "stream",
          "name": "stdout",
          "text": [
            "\n",
            "Loss: 0.807 | Epoch: 1/2 | 587/318\n"
          ]
        },
        {
          "output_type": "stream",
          "name": "stderr",
          "text": [
            "\rEpoch 2/2:  85%|████████▍ | 270/318 [06:50<01:14,  1.55s/it]"
          ]
        },
        {
          "output_type": "stream",
          "name": "stdout",
          "text": [
            "\n",
            "Loss: 0.452 | Epoch: 1/2 | 588/318\n"
          ]
        },
        {
          "output_type": "stream",
          "name": "stderr",
          "text": [
            "\rEpoch 2/2:  85%|████████▌ | 271/318 [06:52<01:10,  1.51s/it]"
          ]
        },
        {
          "output_type": "stream",
          "name": "stdout",
          "text": [
            "\n",
            "Loss: 0.545 | Epoch: 1/2 | 589/318\n"
          ]
        },
        {
          "output_type": "stream",
          "name": "stderr",
          "text": [
            "\rEpoch 2/2:  86%|████████▌ | 272/318 [06:53<01:10,  1.53s/it]"
          ]
        },
        {
          "output_type": "stream",
          "name": "stdout",
          "text": [
            "\n",
            "Loss: 0.118 | Epoch: 1/2 | 590/318\n"
          ]
        },
        {
          "output_type": "stream",
          "name": "stderr",
          "text": [
            "\rEpoch 2/2:  86%|████████▌ | 273/318 [06:55<01:08,  1.53s/it]"
          ]
        },
        {
          "output_type": "stream",
          "name": "stdout",
          "text": [
            "\n",
            "Loss: 0.752 | Epoch: 1/2 | 591/318\n"
          ]
        },
        {
          "output_type": "stream",
          "name": "stderr",
          "text": [
            "\rEpoch 2/2:  86%|████████▌ | 274/318 [06:56<01:07,  1.54s/it]"
          ]
        },
        {
          "output_type": "stream",
          "name": "stdout",
          "text": [
            "\n",
            "Loss: 0.046 | Epoch: 1/2 | 592/318\n"
          ]
        },
        {
          "output_type": "stream",
          "name": "stderr",
          "text": [
            "\rEpoch 2/2:  86%|████████▋ | 275/318 [06:58<01:06,  1.55s/it]"
          ]
        },
        {
          "output_type": "stream",
          "name": "stdout",
          "text": [
            "\n",
            "Loss: 0.087 | Epoch: 1/2 | 593/318\n"
          ]
        },
        {
          "output_type": "stream",
          "name": "stderr",
          "text": [
            "\rEpoch 2/2:  87%|████████▋ | 276/318 [06:59<01:04,  1.53s/it]"
          ]
        },
        {
          "output_type": "stream",
          "name": "stdout",
          "text": [
            "\n",
            "Loss: 0.195 | Epoch: 1/2 | 594/318\n"
          ]
        },
        {
          "output_type": "stream",
          "name": "stderr",
          "text": [
            "\rEpoch 2/2:  87%|████████▋ | 277/318 [07:01<01:02,  1.52s/it]"
          ]
        },
        {
          "output_type": "stream",
          "name": "stdout",
          "text": [
            "\n",
            "Loss: 0.555 | Epoch: 1/2 | 595/318\n"
          ]
        },
        {
          "output_type": "stream",
          "name": "stderr",
          "text": [
            "\rEpoch 2/2:  87%|████████▋ | 278/318 [07:03<01:01,  1.53s/it]"
          ]
        },
        {
          "output_type": "stream",
          "name": "stdout",
          "text": [
            "\n",
            "Loss: 0.13 | Epoch: 1/2 | 596/318\n"
          ]
        },
        {
          "output_type": "stream",
          "name": "stderr",
          "text": [
            "\rEpoch 2/2:  88%|████████▊ | 279/318 [07:04<01:00,  1.54s/it]"
          ]
        },
        {
          "output_type": "stream",
          "name": "stdout",
          "text": [
            "\n",
            "Loss: 0.642 | Epoch: 1/2 | 597/318\n"
          ]
        },
        {
          "output_type": "stream",
          "name": "stderr",
          "text": [
            "\rEpoch 2/2:  88%|████████▊ | 280/318 [07:06<00:58,  1.55s/it]"
          ]
        },
        {
          "output_type": "stream",
          "name": "stdout",
          "text": [
            "\n",
            "Loss: 0.02 | Epoch: 1/2 | 598/318\n"
          ]
        },
        {
          "output_type": "stream",
          "name": "stderr",
          "text": [
            "\rEpoch 2/2:  88%|████████▊ | 281/318 [07:07<00:55,  1.50s/it]"
          ]
        },
        {
          "output_type": "stream",
          "name": "stdout",
          "text": [
            "\n",
            "Loss: 0.147 | Epoch: 1/2 | 599/318\n"
          ]
        },
        {
          "output_type": "stream",
          "name": "stderr",
          "text": [
            "\rEpoch 2/2:  89%|████████▊ | 282/318 [07:09<00:54,  1.51s/it]"
          ]
        },
        {
          "output_type": "stream",
          "name": "stdout",
          "text": [
            "\n",
            "Loss: 0.142 | Epoch: 1/2 | 600/318\n"
          ]
        },
        {
          "output_type": "stream",
          "name": "stderr",
          "text": [
            "\rEpoch 2/2:  89%|████████▉ | 283/318 [07:10<00:53,  1.52s/it]"
          ]
        },
        {
          "output_type": "stream",
          "name": "stdout",
          "text": [
            "\n",
            "Loss: 0.261 | Epoch: 1/2 | 601/318\n"
          ]
        },
        {
          "output_type": "stream",
          "name": "stderr",
          "text": [
            "\rEpoch 2/2:  89%|████████▉ | 284/318 [07:12<00:52,  1.53s/it]"
          ]
        },
        {
          "output_type": "stream",
          "name": "stdout",
          "text": [
            "\n",
            "Loss: 0.239 | Epoch: 1/2 | 602/318\n"
          ]
        },
        {
          "output_type": "stream",
          "name": "stderr",
          "text": [
            "\rEpoch 2/2:  90%|████████▉ | 285/318 [07:13<00:50,  1.54s/it]"
          ]
        },
        {
          "output_type": "stream",
          "name": "stdout",
          "text": [
            "\n",
            "Loss: 0.1 | Epoch: 1/2 | 603/318\n"
          ]
        },
        {
          "output_type": "stream",
          "name": "stderr",
          "text": [
            "\rEpoch 2/2:  90%|████████▉ | 286/318 [07:15<00:48,  1.50s/it]"
          ]
        },
        {
          "output_type": "stream",
          "name": "stdout",
          "text": [
            "\n",
            "Loss: 0.571 | Epoch: 1/2 | 604/318\n"
          ]
        },
        {
          "output_type": "stream",
          "name": "stderr",
          "text": [
            "\rEpoch 2/2:  90%|█████████ | 287/318 [07:16<00:46,  1.52s/it]"
          ]
        },
        {
          "output_type": "stream",
          "name": "stdout",
          "text": [
            "\n",
            "Loss: 0.175 | Epoch: 1/2 | 605/318\n"
          ]
        },
        {
          "output_type": "stream",
          "name": "stderr",
          "text": [
            "\rEpoch 2/2:  91%|█████████ | 288/318 [07:18<00:46,  1.54s/it]"
          ]
        },
        {
          "output_type": "stream",
          "name": "stdout",
          "text": [
            "\n",
            "Loss: 0.208 | Epoch: 1/2 | 606/318\n"
          ]
        },
        {
          "output_type": "stream",
          "name": "stderr",
          "text": [
            "\rEpoch 2/2:  91%|█████████ | 289/318 [07:19<00:43,  1.49s/it]"
          ]
        },
        {
          "output_type": "stream",
          "name": "stdout",
          "text": [
            "\n",
            "Loss: 0.473 | Epoch: 1/2 | 607/318\n"
          ]
        },
        {
          "output_type": "stream",
          "name": "stderr",
          "text": [
            "\rEpoch 2/2:  91%|█████████ | 290/318 [07:21<00:42,  1.51s/it]"
          ]
        },
        {
          "output_type": "stream",
          "name": "stdout",
          "text": [
            "\n",
            "Loss: 0.619 | Epoch: 1/2 | 608/318\n"
          ]
        },
        {
          "output_type": "stream",
          "name": "stderr",
          "text": [
            "\rEpoch 2/2:  92%|█████████▏| 291/318 [07:22<00:40,  1.51s/it]"
          ]
        },
        {
          "output_type": "stream",
          "name": "stdout",
          "text": [
            "\n",
            "Loss: 1.642 | Epoch: 1/2 | 609/318\n"
          ]
        },
        {
          "output_type": "stream",
          "name": "stderr",
          "text": [
            "\rEpoch 2/2:  92%|█████████▏| 292/318 [07:24<00:38,  1.48s/it]"
          ]
        },
        {
          "output_type": "stream",
          "name": "stdout",
          "text": [
            "\n",
            "Loss: 0.243 | Epoch: 1/2 | 610/318\n"
          ]
        },
        {
          "output_type": "stream",
          "name": "stderr",
          "text": [
            "\rEpoch 2/2:  92%|█████████▏| 293/318 [07:25<00:37,  1.51s/it]"
          ]
        },
        {
          "output_type": "stream",
          "name": "stdout",
          "text": [
            "\n",
            "Loss: 0.589 | Epoch: 1/2 | 611/318\n"
          ]
        },
        {
          "output_type": "stream",
          "name": "stderr",
          "text": [
            "\rEpoch 2/2:  92%|█████████▏| 294/318 [07:27<00:36,  1.52s/it]"
          ]
        },
        {
          "output_type": "stream",
          "name": "stdout",
          "text": [
            "\n",
            "Loss: 0.319 | Epoch: 1/2 | 612/318\n"
          ]
        },
        {
          "output_type": "stream",
          "name": "stderr",
          "text": [
            "\rEpoch 2/2:  93%|█████████▎| 295/318 [07:28<00:35,  1.53s/it]"
          ]
        },
        {
          "output_type": "stream",
          "name": "stdout",
          "text": [
            "\n",
            "Loss: 0.231 | Epoch: 1/2 | 613/318\n"
          ]
        },
        {
          "output_type": "stream",
          "name": "stderr",
          "text": [
            "\rEpoch 2/2:  93%|█████████▎| 296/318 [07:30<00:32,  1.49s/it]"
          ]
        },
        {
          "output_type": "stream",
          "name": "stdout",
          "text": [
            "\n",
            "Loss: 0.666 | Epoch: 1/2 | 614/318\n"
          ]
        },
        {
          "output_type": "stream",
          "name": "stderr",
          "text": [
            "\rEpoch 2/2:  93%|█████████▎| 297/318 [07:31<00:30,  1.47s/it]"
          ]
        },
        {
          "output_type": "stream",
          "name": "stdout",
          "text": [
            "\n",
            "Loss: 0.505 | Epoch: 1/2 | 615/318\n"
          ]
        },
        {
          "output_type": "stream",
          "name": "stderr",
          "text": [
            "\rEpoch 2/2:  94%|█████████▎| 298/318 [07:33<00:29,  1.49s/it]"
          ]
        },
        {
          "output_type": "stream",
          "name": "stdout",
          "text": [
            "\n",
            "Loss: 0.16 | Epoch: 1/2 | 616/318\n"
          ]
        },
        {
          "output_type": "stream",
          "name": "stderr",
          "text": [
            "\rEpoch 2/2:  94%|█████████▍| 299/318 [07:34<00:28,  1.50s/it]"
          ]
        },
        {
          "output_type": "stream",
          "name": "stdout",
          "text": [
            "\n",
            "Loss: 0.669 | Epoch: 1/2 | 617/318\n"
          ]
        },
        {
          "output_type": "stream",
          "name": "stderr",
          "text": [
            "\rEpoch 2/2:  94%|█████████▍| 300/318 [07:36<00:27,  1.52s/it]"
          ]
        },
        {
          "output_type": "stream",
          "name": "stdout",
          "text": [
            "\n",
            "Loss: 0.522 | Epoch: 1/2 | 618/318\n"
          ]
        },
        {
          "output_type": "stream",
          "name": "stderr",
          "text": [
            "\rEpoch 2/2:  95%|█████████▍| 301/318 [07:37<00:25,  1.47s/it]"
          ]
        },
        {
          "output_type": "stream",
          "name": "stdout",
          "text": [
            "\n",
            "Loss: 0.128 | Epoch: 1/2 | 619/318\n"
          ]
        },
        {
          "output_type": "stream",
          "name": "stderr",
          "text": [
            "\rEpoch 2/2:  95%|█████████▍| 302/318 [07:39<00:24,  1.50s/it]"
          ]
        },
        {
          "output_type": "stream",
          "name": "stdout",
          "text": [
            "\n",
            "Loss: 0.111 | Epoch: 1/2 | 620/318\n"
          ]
        },
        {
          "output_type": "stream",
          "name": "stderr",
          "text": [
            "\rEpoch 2/2:  95%|█████████▌| 303/318 [07:40<00:22,  1.47s/it]"
          ]
        },
        {
          "output_type": "stream",
          "name": "stdout",
          "text": [
            "\n",
            "Loss: 0.411 | Epoch: 1/2 | 621/318\n"
          ]
        },
        {
          "output_type": "stream",
          "name": "stderr",
          "text": [
            "\rEpoch 2/2:  96%|█████████▌| 304/318 [07:42<00:20,  1.50s/it]"
          ]
        },
        {
          "output_type": "stream",
          "name": "stdout",
          "text": [
            "\n",
            "Loss: 0.277 | Epoch: 1/2 | 622/318\n"
          ]
        },
        {
          "output_type": "stream",
          "name": "stderr",
          "text": [
            "\rEpoch 2/2:  96%|█████████▌| 305/318 [07:43<00:19,  1.52s/it]"
          ]
        },
        {
          "output_type": "stream",
          "name": "stdout",
          "text": [
            "\n",
            "Loss: 0.143 | Epoch: 1/2 | 623/318\n"
          ]
        },
        {
          "output_type": "stream",
          "name": "stderr",
          "text": [
            "\rEpoch 2/2:  96%|█████████▌| 306/318 [07:45<00:18,  1.51s/it]"
          ]
        },
        {
          "output_type": "stream",
          "name": "stdout",
          "text": [
            "\n",
            "Loss: 0.268 | Epoch: 1/2 | 624/318\n"
          ]
        },
        {
          "output_type": "stream",
          "name": "stderr",
          "text": [
            "\rEpoch 2/2:  97%|█████████▋| 307/318 [07:46<00:16,  1.52s/it]"
          ]
        },
        {
          "output_type": "stream",
          "name": "stdout",
          "text": [
            "\n",
            "Loss: 0.158 | Epoch: 1/2 | 625/318\n"
          ]
        },
        {
          "output_type": "stream",
          "name": "stderr",
          "text": [
            "\rEpoch 2/2:  97%|█████████▋| 308/318 [07:48<00:15,  1.53s/it]"
          ]
        },
        {
          "output_type": "stream",
          "name": "stdout",
          "text": [
            "\n",
            "Loss: 1.057 | Epoch: 1/2 | 626/318\n"
          ]
        },
        {
          "output_type": "stream",
          "name": "stderr",
          "text": [
            "\rEpoch 2/2:  97%|█████████▋| 309/318 [07:49<00:13,  1.54s/it]"
          ]
        },
        {
          "output_type": "stream",
          "name": "stdout",
          "text": [
            "\n",
            "Loss: 0.386 | Epoch: 1/2 | 627/318\n"
          ]
        },
        {
          "output_type": "stream",
          "name": "stderr",
          "text": [
            "\rEpoch 2/2:  97%|█████████▋| 310/318 [07:51<00:12,  1.55s/it]"
          ]
        },
        {
          "output_type": "stream",
          "name": "stdout",
          "text": [
            "\n",
            "Loss: 1.641 | Epoch: 1/2 | 628/318\n"
          ]
        },
        {
          "output_type": "stream",
          "name": "stderr",
          "text": [
            "\rEpoch 2/2:  98%|█████████▊| 311/318 [07:52<00:10,  1.55s/it]"
          ]
        },
        {
          "output_type": "stream",
          "name": "stdout",
          "text": [
            "\n",
            "Loss: 0.164 | Epoch: 1/2 | 629/318\n"
          ]
        },
        {
          "output_type": "stream",
          "name": "stderr",
          "text": [
            "\rEpoch 2/2:  98%|█████████▊| 312/318 [07:54<00:09,  1.55s/it]"
          ]
        },
        {
          "output_type": "stream",
          "name": "stdout",
          "text": [
            "\n",
            "Loss: 0.25 | Epoch: 1/2 | 630/318\n"
          ]
        },
        {
          "output_type": "stream",
          "name": "stderr",
          "text": [
            "\rEpoch 2/2:  98%|█████████▊| 313/318 [07:55<00:07,  1.50s/it]"
          ]
        },
        {
          "output_type": "stream",
          "name": "stdout",
          "text": [
            "\n",
            "Loss: 0.119 | Epoch: 1/2 | 631/318\n"
          ]
        },
        {
          "output_type": "stream",
          "name": "stderr",
          "text": [
            "\rEpoch 2/2:  99%|█████████▊| 314/318 [07:57<00:06,  1.51s/it]"
          ]
        },
        {
          "output_type": "stream",
          "name": "stdout",
          "text": [
            "\n",
            "Loss: 0.167 | Epoch: 1/2 | 632/318\n"
          ]
        },
        {
          "output_type": "stream",
          "name": "stderr",
          "text": [
            "\rEpoch 2/2:  99%|█████████▉| 315/318 [07:58<00:04,  1.48s/it]"
          ]
        },
        {
          "output_type": "stream",
          "name": "stdout",
          "text": [
            "\n",
            "Loss: 1.167 | Epoch: 1/2 | 633/318\n"
          ]
        },
        {
          "output_type": "stream",
          "name": "stderr",
          "text": [
            "\rEpoch 2/2:  99%|█████████▉| 316/318 [08:00<00:03,  1.50s/it]"
          ]
        },
        {
          "output_type": "stream",
          "name": "stdout",
          "text": [
            "\n",
            "Loss: 0.791 | Epoch: 1/2 | 634/318\n"
          ]
        },
        {
          "output_type": "stream",
          "name": "stderr",
          "text": [
            "\rEpoch 2/2: 100%|█████████▉| 317/318 [08:01<00:01,  1.52s/it]"
          ]
        },
        {
          "output_type": "stream",
          "name": "stdout",
          "text": [
            "\n",
            "Loss: 0.208 | Epoch: 1/2 | 635/318\n"
          ]
        },
        {
          "output_type": "stream",
          "name": "stderr",
          "text": [
            "Epoch 2/2: 100%|██████████| 318/318 [08:02<00:00,  1.52s/it]"
          ]
        },
        {
          "output_type": "stream",
          "name": "stdout",
          "text": [
            "\n",
            "Loss: 1.043 | Epoch: 1/2 | 636/318\n"
          ]
        },
        {
          "output_type": "stream",
          "name": "stderr",
          "text": [
            "\n"
          ]
        }
      ]
    },
    {
      "cell_type": "code",
      "source": [
        "#Save the safetensors file if you wish\n",
        "SAVE_PATH = r\"\"\n",
        "model.save_pretrained(SAVE_PATH)"
      ],
      "metadata": {
        "id": "WEfAmdv3PA3Y"
      },
      "execution_count": null,
      "outputs": []
    },
    {
      "cell_type": "code",
      "source": [
        "#Perform Experiment 3: VLM Fine Tuned and Independent MVQA Without Reports\n",
        "\n",
        "model.eval()\n",
        "\n",
        "ft_results_without_reports = {}\n",
        "\n",
        "for i, entry in enumerate(eval_dataset):\n",
        "  print(f\"Question: {entry['questions']}\")\n",
        "  print(f\"Ground Truth: {entry['answers']}\")\n",
        "  vlm_output = model.answer_question(model.encode_image(entry['images']), entry['questions'], tokenizer=tokenizer)\n",
        "  print(f\"Moondream: {vlm_output}\")\n",
        "  ft_results_without_reports[i] = [entry[\"questions\"], entry[\"answers\"], vlm_output]"
      ],
      "metadata": {
        "colab": {
          "base_uri": "https://localhost:8080/"
        },
        "id": "5wqEh_qCoAmb",
        "outputId": "2c1b357f-dde4-4994-e147-ff888161f15a"
      },
      "execution_count": null,
      "outputs": [
        {
          "output_type": "stream",
          "name": "stdout",
          "text": [
            "Question: Where are the most infiltrates located?\n",
            "Ground Truth: Left lung\n",
            "Moondream: Right lung\n",
            "Question: Which lung has more extensive infiltration?\n",
            "Ground Truth: Left\n",
            "Moondream: Right\n",
            "Question: Are the borders of the heart clearly visualized?\n",
            "Ground Truth: yes\n",
            "Moondream: No\n",
            "Question: Is this image a CT scan?\n",
            "Ground Truth: no\n",
            "Moondream: no\n",
            "Question: Which cardiac border is more prominently visualized?\n",
            "Ground Truth: Left\n",
            "Moondream: Left\n",
            "Question: Which side of the cardiac border is more prominent?\n",
            "Ground Truth: Left\n",
            "Moondream: Left\n",
            "Question: Where is the cardiac border more obscured?\n",
            "Ground Truth: Right\n",
            "Moondream: Right side\n",
            "Question: On which side is the cardiac border more obscured?\n",
            "Ground Truth: Right\n",
            "Moondream: Right\n",
            "Question: What rib is the lesion located inferior to?\n",
            "Ground Truth: 7th rib\n",
            "Moondream: Bilateral\n",
            "Question: At which rib is the lesion located?\n",
            "Ground Truth: 7th rib\n",
            "Moondream: 3rd rib\n",
            "Question: What is the most important abnormality found in this image?\n",
            "Ground Truth: Width of aorta\n",
            "Moondream: Right paratracheal mass lesion\n",
            "Question: Where is the aneurysm located?\n",
            "Ground Truth: In the thorasic aorta\n",
            "Moondream: Right side\n",
            "Question: Which lung lobe is the lesion present in?\n",
            "Ground Truth: Right lower lobe\n",
            "Moondream: Upper left\n",
            "Question: Where is the lesion?\n",
            "Ground Truth: Right lower lobe\n",
            "Moondream: Right upper lobe\n",
            "Question: Is this image of the thorax?\n",
            "Ground Truth: yes\n",
            "Moondream: yes\n",
            "Question: Is there free air under the left diaphragm?\n",
            "Ground Truth: No\n",
            "Moondream: No\n",
            "Question: Is the air under the left hemidiaphragm pathologic?\n",
            "Ground Truth: No\n",
            "Moondream: No\n",
            "Question: Is there free air in the supraclavicular fossae?\n",
            "Ground Truth: Yes\n",
            "Moondream: No\n",
            "Question: Where is free air trapped subcutaneously in this image?\n",
            "Ground Truth: Above the clavicles bilaterally\n",
            "Moondream: Right shoulder\n",
            "Question: Is there evidence of large calcified lesions in the lung fields?\n",
            "Ground Truth: No\n",
            "Moondream: No\n",
            "Question: Are calcified lesions present in the lung fields?\n",
            "Ground Truth: No\n",
            "Moondream: No\n",
            "Question: Is this an AP image?\n",
            "Ground Truth: no\n",
            "Moondream: no\n",
            "Question: Is the free air under the left hemidiaphragm pathologic?\n",
            "Ground Truth: No\n",
            "Moondream: No\n",
            "Question: Is there evidence of subdiaphragmatic free air on the left?\n",
            "Ground Truth: No\n",
            "Moondream: No\n",
            "Question: How wide is the heart compared to the thorax?\n",
            "Ground Truth: It is less than half the width of the thorax\n",
            "Moondream: 1/4\n",
            "Question: Is the heart wider than more than half the width of the thorax?\n",
            "Ground Truth: No\n",
            "Moondream: Yes\n",
            "Question: Is the diaphragm obscured?\n",
            "Ground Truth: No\n",
            "Moondream: No\n",
            "Question: Is the diaphragm clearly visualized on both sides of the thorax?\n",
            "Ground Truth: Yes\n",
            "Moondream: No\n",
            "Question: What are the two major organs present in this image?\n",
            "Ground Truth: Heart \tlungs\n",
            "Moondream: Lungs\n",
            "Question: Which lung is clearer?\n",
            "Ground Truth: Left\n",
            "Moondream: Left\n",
            "Question: Which side is more clearly visualized?\n",
            "Ground Truth: Left\n",
            "Moondream: Left\n",
            "Question: Is there more that one lesion present?\n",
            "Ground Truth: No\n",
            "Moondream: No\n",
            "Question: How many lesions are present in the image?\n",
            "Ground Truth: One\n",
            "Moondream: 0\n",
            "Question: Do bones appear lighter on this image's modality?\n",
            "Ground Truth: yes\n",
            "Moondream: yes\n",
            "Question: Which lobe of the lung is the lesion located in?\n",
            "Ground Truth: Right upper lobe\n",
            "Moondream: Upper right lobe\n",
            "Question: Where is the lung lesion located?\n",
            "Ground Truth: Right lung\n",
            "Moondream: Right upper lobe\n",
            "Question: Which side of the image is the aortic arch visualized?\n",
            "Ground Truth: Right side\n",
            "Moondream: Right side\n",
            "Question: Where is the aortic arch?\n",
            "Ground Truth: Right side\n",
            "Moondream: Right side\n",
            "Question: Where in the image are the calcifications located?\n",
            "Ground Truth: High on the image\n",
            "Moondream: Paratracheal area\n",
            "Question: Are the calcifications superior or inferior to the diaphragm?\n",
            "Ground Truth: Superior\n",
            "Moondream: Superior\n",
            "Question: What lesions are present in the lungs?\n",
            "Ground Truth: None\n",
            "Moondream: nodules\n",
            "Question: Are nodular calcifications present in the lungs?\n",
            "Ground Truth: No\n",
            "Moondream: No\n",
            "Question: Is the diaphragm clearly visualized on both sides?\n",
            "Ground Truth: Yes\n",
            "Moondream: No\n",
            "Question: Is the diaphragm obscured?\n",
            "Ground Truth: No\n",
            "Moondream: No\n",
            "Question: How wide is the cardiac shadow?\n",
            "Ground Truth: Less than half the thorax\n",
            "Moondream: 3.4 cm\n",
            "Question: Does the width of the heart exceed more than half of the thorax?\n",
            "Ground Truth: No\n",
            "Moondream: No\n",
            "Question: Is a pneumothorax present in this image?\n",
            "Ground Truth: No\n",
            "Moondream: No\n",
            "Question: Do the lung markings extend to the periphery?\n",
            "Ground Truth: Yes\n",
            "Moondream: No\n",
            "Question: Is there a pneumothorax present?\n",
            "Ground Truth: No\n",
            "Moondream: No\n",
            "Question: Are lung markings present in the entire thoracic cavity?\n",
            "Ground Truth: Yes\n",
            "Moondream: No\n",
            "Question: What level is the abnormality located at?\n",
            "Ground Truth: T5\n",
            "Moondream: PA\n",
            "Question: Which ribs are located near the abnormality seen in this image?\n",
            "Ground Truth: 4th and 5th\n",
            "Moondream: 3rd rib\n",
            "Question: How was this x-ray taken?\n",
            "Ground Truth: PA\n",
            "Moondream: PA\n",
            "Question: Does the heart appear enlarged?\n",
            "Ground Truth: Yes\n",
            "Moondream: Yes\n",
            "Question: Is the heart abnormal?\n",
            "Ground Truth: Yes\n",
            "Moondream: No\n",
            "Question: What kind of image is this?\n",
            "Ground Truth: x-ray\n",
            "Moondream: X-ray\n",
            "Question: Where does the catheter tip extend into?\n",
            "Ground Truth: Right superior cavoatrial junction\n",
            "Moondream: Right upper lobe\n",
            "Question: Where is the catheter tip located?\n",
            "Ground Truth: Right superior cavoatrial junction\n",
            "Moondream: Right upper lobe\n",
            "Question: Is the right hemidiaphragm normal?\n",
            "Ground Truth: No\n",
            "Moondream: Yes\n",
            "Question: Is this a normal x ray?\n",
            "Ground Truth: No\n",
            "Moondream: No\n",
            "Question: Which lung is abnormal?\n",
            "Ground Truth: Right lung\n",
            "Moondream: Right\n",
            "Question: Where is the diffuse pleural thickening?\n",
            "Ground Truth: Right lung\n",
            "Moondream: Right side\n",
            "Question: Which sign do you see in the aortopulmonary window in this image?\n",
            "Ground Truth: middle mogul\n",
            "Moondream: Sternal wires\n",
            "Question: What characteristic finding do you see in the aortopulmonary window?\n",
            "Ground Truth: middle mogul\n",
            "Moondream: Blunting of the aortic arch\n",
            "Question: How would you describe the aortopulmonary window?\n",
            "Ground Truth: middle mogul\n",
            "Moondream: Partial silhouetting\n",
            "Question: Is the image study normal?\n",
            "Ground Truth: No\n",
            "Moondream: No\n",
            "Question: Are the lungs normal?\n",
            "Ground Truth: No\n",
            "Moondream: No\n",
            "Question: Why are the breasts asymmetrical?\n",
            "Ground Truth: Prior surgery\n",
            "Moondream: Genetics\n",
            "Question: What can cause asymmetrical breasts?\n",
            "Ground Truth: Prior surgery\n",
            "Moondream: Hormones\n",
            "Question: What is seen in the lung apices?\n",
            "Ground Truth: Nodular opacities\n",
            "Moondream: nodules\n",
            "Question: What abnormalities are in the lung apices?\n",
            "Ground Truth: Nodular opacities\n",
            "Moondream: nodules\n",
            "Question: Is the chest x-ray normal?\n",
            "Ground Truth: No\n",
            "Moondream: No\n",
            "Question: Are the lungs normal?\n",
            "Ground Truth: No\n",
            "Moondream: No\n",
            "Question: What is finding in the right lung?\n",
            "Ground Truth: Volume loss\n",
            "Moondream: nodules\n",
            "Question: What is happening in the right lung?\n",
            "Ground Truth: Volume loss\n",
            "Moondream: nodules\n",
            "Question: Is the hila normal or enlarged?\n",
            "Ground Truth: Enlarged\n",
            "Moondream: Normal\n",
            "Question: What is abnormal about the hila?\n",
            "Ground Truth: Enlarged\n",
            "Moondream: double arch\n",
            "Question: Which plane is this image taken?\n",
            "Ground Truth: PA\n",
            "Moondream: PA\n",
            "Question: Is this a study of the chest?\n",
            "Ground Truth: yes\n",
            "Moondream: yes\n",
            "Question: Which organ system is imaged?\n",
            "Ground Truth: Chest\n",
            "Moondream: chest\n",
            "Question: Is this a lateral film?\n",
            "Ground Truth: no\n",
            "Moondream: yes\n",
            "Question: What organ is primarily evaluated in this image?\n",
            "Ground Truth: Lungs\n",
            "Moondream: Lung\n",
            "Question: where is the abnormality?\n",
            "Ground Truth: Right upper lobe\n",
            "Moondream: right lung\n",
            "Question: where is the cavitary lesion?\n",
            "Ground Truth: Right upper lobe\n",
            "Moondream: Right upper lobe\n",
            "Question: What kind of image is this?\n",
            "Ground Truth: Chest x-ray\n",
            "Moondream: X-ray\n",
            "Question: Is this a chest x-ray?\n",
            "Ground Truth: yes\n",
            "Moondream: yes\n",
            "Question: Is the left hemidiaphragm normal?\n",
            "Ground Truth: Yes\n",
            "Moondream: Yes\n",
            "Question: Is the left hemidiaphragm normal?\n",
            "Ground Truth: Yes\n",
            "Moondream: Yes\n",
            "Question: Are the lower lung fields normal?\n",
            "Ground Truth: yes\n",
            "Moondream: No\n",
            "Question: Any abnormal findings in the lower lung fields?\n",
            "Ground Truth: no\n",
            "Moondream: No\n",
            "Question: Is this in the posterior anterior plane?\n",
            "Ground Truth: yes\n",
            "Moondream: Posterior\n",
            "Question: What is the abnormality by the right hemidiaphragm?\n",
            "Ground Truth: Free air\n",
            "Moondream: Sigmoid Flexture of the Colon\n",
            "Question: What is under the right hemidiaphragm?\n",
            "Ground Truth: Free air\n",
            "Moondream: The liver\n",
            "Question: What abnormalities are seen within the lungs?\n",
            "Ground Truth: Pulmonary nodules\n",
            "Moondream: nodules\n",
            "Question: Describe the lung abnormalities?\n",
            "Ground Truth: Pulmonary nodules\n",
            "Moondream: nodules\n",
            "Question: are the heart and lungs displayed well in this film\n",
            "Ground Truth: yes\n",
            "Moondream: yes\n",
            "Question: is the lung parenchyma well visualized?\n",
            "Ground Truth: yes\n",
            "Moondream: yes\n",
            "Question: Is there no evidence of blunting of the costophrenic angles?\n",
            "Ground Truth: yes\n",
            "Moondream: Yes\n",
            "Question: Are the costophrenic angles sharp?\n",
            "Ground Truth: yes\n",
            "Moondream: No\n",
            "Question: Is the left lung field more white?\n",
            "Ground Truth: yes\n",
            "Moondream: Yes\n",
            "Question: Is the left lung field more radioopaque than the right side?\n",
            "Ground Truth: yes\n",
            "Moondream: Yes\n",
            "Question: Is there a mediastinal shift?\n",
            "Ground Truth: No\n",
            "Moondream: No\n",
            "Question: Has the midline of the mediastinum shifted?\n",
            "Ground Truth: No\n",
            "Moondream: No\n",
            "Question: Is the outline of visceral pleura visible in the upper left lung field?\n",
            "Ground Truth: Yes\n",
            "Moondream: Yes\n",
            "Question: Is there a left apical pneumothorax?\n",
            "Ground Truth: Yes\n",
            "Moondream: No\n",
            "Question: Is there blunting of the left costophrenic angle?\n",
            "Ground Truth: yes\n",
            "Moondream: Yes\n",
            "Question: is it difficult to delineate the left costophrenic angle?\n",
            "Ground Truth: yes\n",
            "Moondream: yes\n",
            "Question: Is the cardiac silhouette less than half the lateral diameter of the chest wall?\n",
            "Ground Truth: Yes\n",
            "Moondream: Yes\n",
            "Question: Is the cardiac contour normal?\n",
            "Ground Truth: Yes\n",
            "Moondream: Yes\n",
            "Question: Is there enlargement of the pulmonary vasculature?\n",
            "Ground Truth: no\n",
            "Moondream: Yes\n",
            "Question: is there evidence of pulmonary edema?\n",
            "Ground Truth: no\n",
            "Moondream: no\n",
            "Question: Are any of the patient's ribs fractured?\n",
            "Ground Truth: No\n",
            "Moondream: No\n",
            "Question: Are there any fractures in any of the ribs?\n",
            "Ground Truth: No\n",
            "Moondream: No\n",
            "Question: is the cardiac silhouette small/stretched\n",
            "Ground Truth: Yes\n",
            "Moondream: yes\n",
            "Question: Is there narrowing of the cardiac contour?\n",
            "Ground Truth: Yes\n",
            "Moondream: Yes\n",
            "Question: Is a pneumothorax present near the right lung field?\n",
            "Ground Truth: Yes\n",
            "Moondream: No\n",
            "Question: Is there evidence of a right apical pneumothorax on this chest x-ray?\n",
            "Ground Truth: Yes\n",
            "Moondream: No\n",
            "Question: Is the cardiac silhouette within normal size limits?\n",
            "Ground Truth: Yes\n",
            "Moondream: No\n",
            "Question: Is the cardiac silhouette less than half the diameter of the diaphragm?\n",
            "Ground Truth: Yes\n",
            "Moondream: Yes\n",
            "Question: is there evidence of intraparenchymal lung nodules?\n",
            "Ground Truth: No\n",
            "Moondream: no\n",
            "Question: Are lung opacities noted?\n",
            "Ground Truth: No\n",
            "Moondream: yes\n",
            "Question: was this chest x ray taken in PA format?\n",
            "Ground Truth: yes\n",
            "Moondream: yes\n",
            "Question: Is the descending aortic silhouette of normal size?\n",
            "Ground Truth: Yes\n",
            "Moondream: No\n",
            "Question: Is the descending aortic silhouette of normal size?\n",
            "Ground Truth: Yes\n",
            "Moondream: No\n",
            "Question: Is there tortuosity of the descending aorta?\n",
            "Ground Truth: Yes\n",
            "Moondream: No\n",
            "Question: Is the descending aortic silhouette of normal contour and size?\n",
            "Ground Truth: Yes\n",
            "Moondream: No\n",
            "Question: Is the descending aortic silhouette of normal contour?\n",
            "Ground Truth: Yes\n",
            "Moondream: No\n",
            "Question: Are the soft tissue densities in the left hilum equivalent in size to the soft tissue densities in the right hilum?\n",
            "Ground Truth: no\n",
            "Moondream: No\n",
            "Question: Are the hilar soft tissue densities symmetric?\n",
            "Ground Truth: no\n",
            "Moondream: No\n",
            "Question: was this taken in PA position?\n",
            "Ground Truth: yes\n",
            "Moondream: yes\n",
            "Question: Are there at least 8 ribs visible for good inspiratory effort?\n",
            "Ground Truth: Yes\n",
            "Moondream: yes\n",
            "Question: Are there >8 ribs shown in this image?\n",
            "Ground Truth: Yes\n",
            "Moondream: No\n",
            "Question: was this taken with good x ray penetration\n",
            "Ground Truth: yes\n",
            "Moondream: yes\n",
            "Question: was the patient positioned appropriately \twithout tilting?\n",
            "Ground Truth: yes\n",
            "Moondream: yes\n",
            "Question: Is there evidence of any abnormalities of the lung parenchyma?\n",
            "Ground Truth: No\n",
            "Moondream: No\n",
            "Question: Is there any intraparenchymal abnormalities in the lung fields?\n",
            "Ground Truth: No\n",
            "Moondream: No\n",
            "Question: Is there evidence of any fractures of the ribs?\n",
            "Ground Truth: No\n",
            "Moondream: No\n",
            "Question: Is there a rib fracture?\n",
            "Ground Truth: No\n",
            "Moondream: No\n",
            "Question: does this represent adequate inspiratory effort?\n",
            "Ground Truth: Yes\n",
            "Moondream: no\n",
            "Question: Are >12 ribs present in the image?\n",
            "Ground Truth: Yes\n",
            "Moondream: No\n",
            "Question: Is this an anterior-posterior image\n",
            "Ground Truth: no\n",
            "Moondream: no\n",
            "Question: What type of image is this?\n",
            "Ground Truth: Chest X-ray\n",
            "Moondream: X-ray\n",
            "Question: Is there air under the diaphragm?\n",
            "Ground Truth: No\n",
            "Moondream: No\n",
            "Question: Is there cardiomyopathy?\n",
            "Ground Truth: yes\n",
            "Moondream: No\n",
            "Question: Is this an anterior posterior image?\n",
            "Ground Truth: no\n",
            "Moondream: Posterior\n",
            "Question: How is the patient oriented?\n",
            "Ground Truth: Posterior-Anterior\n",
            "Moondream: PA\n",
            "Question: Is there a fracture?\n",
            "Ground Truth: no\n",
            "Moondream: No\n",
            "Question: Is there a pneumothorax?\n",
            "Ground Truth: no\n",
            "Moondream: No\n",
            "Question: Is there airspace consolidation on the left side?\n",
            "Ground Truth: Yes\n",
            "Moondream: No\n",
            "Question: Which organ system is abnormal in this image?\n",
            "Ground Truth: Cardiovascular\n",
            "Moondream: Cardiac\n",
            "Question: Is there evidence of an aortic aneurysm?\n",
            "Ground Truth: yes\n",
            "Moondream: No\n",
            "Question: Is there blunting of the costovertebral angles?\n",
            "Ground Truth: No\n",
            "Moondream: No\n",
            "Question: Is there evidence of an aortic aneurysm?\n",
            "Ground Truth: No\n",
            "Moondream: No\n",
            "Question: Is the trachea midline?\n",
            "Ground Truth: yes\n",
            "Moondream: Yes\n",
            "Question: What is not pictured in this image?\n",
            "Ground Truth: The extremities\n",
            "Moondream: Diaphragm\n",
            "Question: Is this a MRI of the chest?\n",
            "Ground Truth: no\n",
            "Moondream: no\n",
            "Question: What type of imaging does this not represent?\n",
            "Ground Truth: ultrasound\n",
            "Moondream: Xray\n",
            "Question: Is there evidence of a pneumothorax\n",
            "Ground Truth: No\n",
            "Moondream: No\n",
            "Question: Are the lungs normal appearing?\n",
            "Ground Truth: No\n",
            "Moondream: No\n"
          ]
        }
      ]
    },
    {
      "cell_type": "code",
      "source": [
        "#Perform analysis of Experiment 3\n",
        "#Calculate SBERT Similarity Score, METEOR Score, and F1 Score\n",
        "\n",
        "sbert_model = SentenceTransformer('sentence-transformers/all-MiniLM-L6-v2')\n",
        "total_sim_score = 0\n",
        "\n",
        "binary_answer_ground_truth = []\n",
        "binary_answer_vlm = []\n",
        "binary_answers = [\"yes\", \"no\"]\n",
        "\n",
        "total_meteor_score = 0\n",
        "\n",
        "for entry in ft_results_without_reports.keys():\n",
        "  ground_truth = ft_results_without_reports[entry][1]\n",
        "  vlm_prediction = ft_results_without_reports[entry][2]\n",
        "\n",
        "  #Check if question has binary answer (ie a close ended question) and if so, keep track of ground truth and VLM answers\n",
        "  if ground_truth.lower() in binary_answers and vlm_prediction.lower() in binary_answers:\n",
        "    binary_answer_ground_truth.append(ground_truth.lower())\n",
        "    binary_answer_vlm.append(vlm_prediction.lower())\n",
        "\n",
        "  #If answer is incorrect, count similarity as zero manually becasue Sentence Bert does not always think yes is orthogonal to no\n",
        "  if ground_truth.lower() == \"yes\" and vlm_prediction.lower() == \"no\" or ground_truth.lower() == \"no\" and vlm_prediction.lower() == \"yes\":\n",
        "    sim_score = 0\n",
        "\n",
        "  else:\n",
        "    #SBERT Score\n",
        "    ground_truth_embedding = sbert_model.encode(ground_truth)\n",
        "    vlm_prediction_embedding = sbert_model.encode(vlm_prediction)\n",
        "    sim_score = sbert_model.similarity(ground_truth_embedding, vlm_prediction_embedding).item() #returns Tensor so call .item()\n",
        "\n",
        "    #METEOR Score\n",
        "    meteor_score_with = meteor_score([nltk.word_tokenize(ground_truth.lower())], nltk.word_tokenize(vlm_prediction.lower()))\n",
        "    total_meteor_score += meteor_score_with\n",
        "\n",
        "  total_sim_score += sim_score\n",
        "\n",
        "#Display Final Results for Experiment 3\n",
        "avg_sim_score_with = round(total_sim_score / len(ft_results_without_reports), 2)\n",
        "print(f\"Average Similarity Score With FT without Reports: {avg_sim_score_with}\")\n",
        "\n",
        "avg_meteor_score_with = round(total_meteor_score / len(ft_results_without_reports), 2)\n",
        "print(f\"Average METEOR Score With FT without Reports: {avg_meteor_score_with}\")\n",
        "\n",
        "binary_f1_score = round(f1_score(binary_answer_ground_truth, binary_answer_vlm, average=\"binary\", pos_label=\"yes\"), 2)\n",
        "print(f\"Binary F1 Score: {binary_f1_score}\")"
      ],
      "metadata": {
        "colab": {
          "base_uri": "https://localhost:8080/"
        },
        "id": "FMj3kWJxA__t",
        "outputId": "c71ca32d-1152-4e94-f121-ccef7d9b3b46"
      },
      "execution_count": null,
      "outputs": [
        {
          "output_type": "stream",
          "name": "stderr",
          "text": [
            "/usr/local/lib/python3.10/dist-packages/transformers/tokenization_utils_base.py:1601: FutureWarning: `clean_up_tokenization_spaces` was not set. It will be set to `True` by default. This behavior will be depracted in transformers v4.45, and will be then set to `False` by default. For more details check this issue: https://github.com/huggingface/transformers/issues/31884\n",
            "  warnings.warn(\n"
          ]
        },
        {
          "output_type": "stream",
          "name": "stdout",
          "text": [
            "Average Similarity Score With FT without Reports: 0.64\n",
            "Average METEOR Score With FT without Reports: 0.29\n",
            "Binary F1 Score: 0.64\n"
          ]
        }
      ]
    },
    {
      "cell_type": "code",
      "source": [
        "#Perform Experiment 4: VLM Fine Tuned and Knowledge-Enhanced MVQA With Reports\n",
        "\n",
        "model.eval()\n",
        "\n",
        "ft_results_with_reports = {}\n",
        "\n",
        "for i, entry in enumerate(eval_dataset):\n",
        "  question = entry[\"questions\"]\n",
        "\n",
        "  #Get report for current image\n",
        "  image_path = entry[\"image_names\"]\n",
        "  for image_data in image_data_with_report:\n",
        "    if image_data[0] == image_path:\n",
        "      report = image_data[3]\n",
        "      break\n",
        "\n",
        "  text_prompt = f\"{question}\\nMedical Report as reference: {report}\"\n",
        "  vlm_output = model.answer_question(model.encode_image(entry['images']), text_prompt, tokenizer=tokenizer)\n",
        "\n",
        "  ft_results_with_reports[i] = [entry[\"questions\"], entry[\"answers\"], vlm_output]\n",
        "\n",
        "  print(f\"Question: {text_prompt}\")\n",
        "  print(f\"Ground Truth: {entry['answers']}\")\n",
        "  print(f\"Moondream: {vlm_output}\\n\")"
      ],
      "metadata": {
        "colab": {
          "base_uri": "https://localhost:8080/"
        },
        "id": "S9ln6Q_swzhZ",
        "outputId": "ebc67bb7-6464-4c34-da69-eacc92ff7fe0"
      },
      "execution_count": null,
      "outputs": [
        {
          "output_type": "stream",
          "name": "stdout",
          "text": [
            "Question: Where are the most infiltrates located?\n",
            "Medical Report as reference: the heart is normal in size. the mediastinum is unremarkable. there is no pleural effusion or pneumothorax. there is mild degenerative changes of the spine.\n",
            "Ground Truth: Left lung\n",
            "Moondream: Right side\n",
            "\n",
            "Question: Which lung has more extensive infiltration?\n",
            "Medical Report as reference: the heart is normal in size. the mediastinum is unremarkable. there is no pleural effusion or pneumothorax. there is mild degenerative changes of the spine.\n",
            "Ground Truth: Left\n",
            "Moondream: Right lung\n",
            "\n",
            "Question: Are the borders of the heart clearly visualized?\n",
            "Medical Report as reference: heart size within normal limits stable mediastinal and hilar contours. no focal alveolar consolidation no definite pleural effusion seen. no typical findings of pulmonary edema. no typical findings of pulmonary edema.\n",
            "Ground Truth: yes\n",
            "Moondream: yes\n",
            "\n",
            "Question: Is this image a CT scan?\n",
            "Medical Report as reference: the lungs are clear. there is no pleural effusion or pneumothorax. the heart and mediastinum are normal. the skeletal structures are normal. the skeletal structures and soft tissues are normal.\n",
            "Ground Truth: no\n",
            "Moondream: no\n",
            "\n",
            "Question: Which cardiac border is more prominently visualized?\n",
            "Medical Report as reference: the lungs are clear. there is no pleural effusion or pneumothorax. the heart and mediastinum are normal. the skeletal structures are normal. the skeletal structures and soft tissues are normal.\n",
            "Ground Truth: Left\n",
            "Moondream: Left\n",
            "\n",
            "Question: Which side of the cardiac border is more prominent?\n",
            "Medical Report as reference: the lungs are clear. there is no pleural effusion or pneumothorax. the heart and mediastinum are normal. the skeletal structures are normal. the skeletal structures and soft tissues are normal.\n",
            "Ground Truth: Left\n",
            "Moondream: Left side\n",
            "\n",
            "Question: Where is the cardiac border more obscured?\n",
            "Medical Report as reference: the lungs are clear. there is no pleural effusion or pneumothorax. the heart and mediastinum are normal. the skeletal structures are normal. there is mild degenerative changes of the spine.\n",
            "Ground Truth: Right\n",
            "Moondream: right side\n",
            "\n",
            "Question: On which side is the cardiac border more obscured?\n",
            "Medical Report as reference: the lungs are clear. there is no pleural effusion or pneumothorax. the heart and mediastinum are normal. the skeletal structures are normal. there is mild degenerative changes of the spine.\n",
            "Ground Truth: Right\n",
            "Moondream: Left\n",
            "\n",
            "Question: What rib is the lesion located inferior to?\n",
            "Medical Report as reference: the lungs are clear. there is no pleural effusion or pneumothorax. the heart and mediastinum are normal. the skeletal structures are normal. the skeletal structures and soft tissues are normal.\n",
            "Ground Truth: 7th rib\n",
            "Moondream: 3rd rib\n",
            "\n",
            "Question: At which rib is the lesion located?\n",
            "Medical Report as reference: the lungs are clear. there is no pleural effusion or pneumothorax. the heart and mediastinum are normal. the skeletal structures are normal. the skeletal structures and soft tissues are normal.\n",
            "Ground Truth: 7th rib\n",
            "Moondream: 3rd rib\n",
            "\n",
            "Question: What is the most important abnormality found in this image?\n",
            "Medical Report as reference: the lungs are clear. there is no pleural effusion or pneumothorax. the heart and mediastinum are normal. the skeletal structures are normal. there is mild degenerative changes of the spine.\n",
            "Ground Truth: Width of aorta\n",
            "Moondream: no\n",
            "\n",
            "Question: Where is the aneurysm located?\n",
            "Medical Report as reference: the lungs are clear. there is no pleural effusion or pneumothorax. the heart and mediastinum are normal. the skeletal structures are normal. there is mild degenerative changes of the spine.\n",
            "Ground Truth: In the thorasic aorta\n",
            "Moondream: right lower lateral lung field\n",
            "\n",
            "Question: Which lung lobe is the lesion present in?\n",
            "Medical Report as reference: the lungs are clear. there is no pleural effusion or pneumothorax. the heart and mediastinum are normal. the skeletal structures are normal. degenerative changes of the spine.\n",
            "Ground Truth: Right lower lobe\n",
            "Moondream: Bilateral lungs\n",
            "\n",
            "Question: Where is the lesion?\n",
            "Medical Report as reference: the lungs are clear. there is no pleural effusion or pneumothorax. the heart and mediastinum are normal. the skeletal structures are normal. degenerative changes of the spine.\n",
            "Ground Truth: Right lower lobe\n",
            "Moondream: right lower lateral lung field\n",
            "\n",
            "Question: Is this image of the thorax?\n",
            "Medical Report as reference: the lungs are clear. there is no pleural effusion or pneumothorax. the heart and mediastinum are normal. the skeletal structures are normal. the skeletal structures and soft tissues are normal.\n",
            "Ground Truth: yes\n",
            "Moondream: yes\n",
            "\n",
            "Question: Is there free air under the left diaphragm?\n",
            "Medical Report as reference: the cardiomediastinal silhouette and pulmonary vasculature are within normal limits. there is no pneumothorax or pleural effusion. there is no focal air space opacity to suggest a pneumonia.\n",
            "Ground Truth: No\n",
            "Moondream: No\n",
            "\n",
            "Question: Is the air under the left hemidiaphragm pathologic?\n",
            "Medical Report as reference: the cardiomediastinal silhouette and pulmonary vasculature are within normal limits. there is no pneumothorax or pleural effusion. there is no focal air space opacity to suggest a pneumonia.\n",
            "Ground Truth: No\n",
            "Moondream: No\n",
            "\n",
            "Question: Is there free air in the supraclavicular fossae?\n",
            "Medical Report as reference: heart size and pulmonary vascularity appear within normal limits. the lungs are free of focal airspace disease. no pleural effusion or pneumothorax is seen. degenerative changes are present in the spine.\n",
            "Ground Truth: Yes\n",
            "Moondream: No\n",
            "\n",
            "Question: Where is free air trapped subcutaneously in this image?\n",
            "Medical Report as reference: heart size and pulmonary vascularity appear within normal limits. the lungs are free of focal airspace disease. no pleural effusion or pneumothorax is seen. degenerative changes are present in the spine.\n",
            "Ground Truth: Above the clavicles bilaterally\n",
            "Moondream: right lower lateral lung field\n",
            "\n",
            "Question: Is there evidence of large calcified lesions in the lung fields?\n",
            "Medical Report as reference: heart size and pulmonary vascularity appear within normal limits. the lungs are free of focal airspace disease. no pleural effusion or pneumothorax is seen. degenerative changes are present in the spine.\n",
            "Ground Truth: No\n",
            "Moondream: No\n",
            "\n",
            "Question: Are calcified lesions present in the lung fields?\n",
            "Medical Report as reference: heart size and pulmonary vascularity appear within normal limits. the lungs are free of focal airspace disease. no pleural effusion or pneumothorax is seen. degenerative changes are present in the spine.\n",
            "Ground Truth: No\n",
            "Moondream: yes\n",
            "\n",
            "Question: Is this an AP image?\n",
            "Medical Report as reference: heart size within normal limits stable mediastinal and hilar contours. no focal alveolar consolidation no definite pleural effusion seen. no typical findings of pulmonary edema. no pneumothorax.\n",
            "Ground Truth: no\n",
            "Moondream: yes\n",
            "\n",
            "Question: Is the free air under the left hemidiaphragm pathologic?\n",
            "Medical Report as reference: the lungs are clear. there is no pleural effusion or pneumothorax. the heart and mediastinum are normal. the skeletal structures are normal. there is mild degenerative changes of the spine.\n",
            "Ground Truth: No\n",
            "Moondream: No\n",
            "\n",
            "Question: Is there evidence of subdiaphragmatic free air on the left?\n",
            "Medical Report as reference: the lungs are clear. there is no pleural effusion or pneumothorax. the heart and mediastinum are normal. the skeletal structures are normal. there is mild degenerative changes of the spine.\n",
            "Ground Truth: No\n",
            "Moondream: No\n",
            "\n",
            "Question: How wide is the heart compared to the thorax?\n",
            "Medical Report as reference: the lungs are clear. there is no pleural effusion or pneumothorax. the heart and mediastinum are normal. the skeletal structures are normal. the skeletal structures and soft tissues are normal.\n",
            "Ground Truth: It is less than half the width of the thorax\n",
            "Moondream: 1.5 x 1.8 cm\n",
            "\n",
            "Question: Is the heart wider than more than half the width of the thorax?\n",
            "Medical Report as reference: the lungs are clear. there is no pleural effusion or pneumothorax. the heart and mediastinum are normal. the skeletal structures are normal. the skeletal structures and soft tissues are normal.\n",
            "Ground Truth: No\n",
            "Moondream: yes\n",
            "\n",
            "Question: Is the diaphragm obscured?\n",
            "Medical Report as reference: the lungs are clear. there is no pleural effusion or pneumothorax. the heart and mediastinum are normal. the skeletal structures are normal. degenerative changes of the spine.\n",
            "Ground Truth: No\n",
            "Moondream: No\n",
            "\n",
            "Question: Is the diaphragm clearly visualized on both sides of the thorax?\n",
            "Medical Report as reference: the lungs are clear. there is no pleural effusion or pneumothorax. the heart and mediastinum are normal. the skeletal structures are normal. degenerative changes of the spine.\n",
            "Ground Truth: Yes\n",
            "Moondream: yes\n",
            "\n",
            "Question: What are the two major organs present in this image?\n",
            "Medical Report as reference: heart size within normal limits stable mediastinal and hilar contours. no focal alveolar consolidation no definite pleural effusion seen. no typical findings of pulmonary edema. no pneumothorax.\n",
            "Ground Truth: Heart \tlungs\n",
            "Moondream: heart\n",
            "\n",
            "Question: Which lung is clearer?\n",
            "Medical Report as reference: heart size within normal limits stable mediastinal and hilar contours. no focal alveolar consolidation no definite pleural effusion seen. no typical findings of pulmonary edema. no pneumothorax.\n",
            "Ground Truth: Left\n",
            "Moondream: Right lung\n",
            "\n",
            "Question: Which side is more clearly visualized?\n",
            "Medical Report as reference: heart size within normal limits stable mediastinal and hilar contours. no focal alveolar consolidation no definite pleural effusion seen. no typical findings of pulmonary edema. no pneumothorax.\n",
            "Ground Truth: Left\n",
            "Moondream: Right side\n",
            "\n",
            "Question: Is there more that one lesion present?\n",
            "Medical Report as reference: the lungs are clear. there is no pleural effusion or pneumothorax. the heart and mediastinum are normal. the skeletal structures are normal. degenerative changes of the spine.\n",
            "Ground Truth: No\n",
            "Moondream: No\n",
            "\n",
            "Question: How many lesions are present in the image?\n",
            "Medical Report as reference: the lungs are clear. there is no pleural effusion or pneumothorax. the heart and mediastinum are normal. the skeletal structures are normal. degenerative changes of the spine.\n",
            "Ground Truth: One\n",
            "Moondream: no\n",
            "\n",
            "Question: Do bones appear lighter on this image's modality?\n",
            "Medical Report as reference: heart size within normal limits stable mediastinal and hilar contours. no focal alveolar consolidation no definite pleural effusion seen. no typical findings of pulmonary edema. no typical findings of pulmonary edema.\n",
            "Ground Truth: yes\n",
            "Moondream: yes\n",
            "\n",
            "Question: Which lobe of the lung is the lesion located in?\n",
            "Medical Report as reference: the lungs are clear. there is no pleural effusion or pneumothorax. the heart and mediastinum are normal. the skeletal structures are normal. the skeletal structures and soft tissues are normal.\n",
            "Ground Truth: Right upper lobe\n",
            "Moondream: Bilateral lungs\n",
            "\n",
            "Question: Where is the lung lesion located?\n",
            "Medical Report as reference: the lungs are clear. there is no pleural effusion or pneumothorax. the heart and mediastinum are normal. the skeletal structures are normal. the skeletal structures and soft tissues are normal.\n",
            "Ground Truth: Right lung\n",
            "Moondream: Right lung\n",
            "\n",
            "Question: Which side of the image is the aortic arch visualized?\n",
            "Medical Report as reference: the heart is normal in size. the mediastinum is unremarkable. the lungs are clear. there is no pleural effusion or pneumothorax. the xxxx are intact.\n",
            "Ground Truth: Right side\n",
            "Moondream: right side\n",
            "\n",
            "Question: Where is the aortic arch?\n",
            "Medical Report as reference: the heart is normal in size. the mediastinum is unremarkable. the lungs are clear. there is no pleural effusion or pneumothorax. the xxxx are intact.\n",
            "Ground Truth: Right side\n",
            "Moondream: right side\n",
            "\n",
            "Question: Where in the image are the calcifications located?\n",
            "Medical Report as reference: heart size within normal limits stable mediastinal and hilar contours. no focal alveolar consolidation no definite pleural effusion seen. no typical findings of pulmonary edema. no pneumothorax.\n",
            "Ground Truth: High on the image\n",
            "Moondream: Right side\n",
            "\n",
            "Question: Are the calcifications superior or inferior to the diaphragm?\n",
            "Medical Report as reference: heart size within normal limits stable mediastinal and hilar contours. no focal alveolar consolidation no definite pleural effusion seen. no typical findings of pulmonary edema. no pneumothorax.\n",
            "Ground Truth: Superior\n",
            "Moondream: Superior\n",
            "\n",
            "Question: What lesions are present in the lungs?\n",
            "Medical Report as reference: heart size within normal limits stable mediastinal and hilar contours. no focal alveolar consolidation no definite pleural effusion seen. no typical findings of pulmonary edema. no typical findings of pulmonary edema.\n",
            "Ground Truth: None\n",
            "Moondream: nodules\n",
            "\n",
            "Question: Are nodular calcifications present in the lungs?\n",
            "Medical Report as reference: heart size within normal limits stable mediastinal and hilar contours. no focal alveolar consolidation no definite pleural effusion seen. no typical findings of pulmonary edema. no typical findings of pulmonary edema.\n",
            "Ground Truth: No\n",
            "Moondream: No\n",
            "\n",
            "Question: Is the diaphragm clearly visualized on both sides?\n",
            "Medical Report as reference: the heart size and pulmonary vascularity appear within normal limits. the lungs are free of focal airspace disease. no pleural effusion or pneumothorax is seen. degenerative changes are present in the spine.\n",
            "Ground Truth: Yes\n",
            "Moondream: yes\n",
            "\n",
            "Question: Is the diaphragm obscured?\n",
            "Medical Report as reference: the heart size and pulmonary vascularity appear within normal limits. the lungs are free of focal airspace disease. no pleural effusion or pneumothorax is seen. degenerative changes are present in the spine.\n",
            "Ground Truth: No\n",
            "Moondream: yes\n",
            "\n",
            "Question: How wide is the cardiac shadow?\n",
            "Medical Report as reference: the lungs are clear. there is no pleural effusion or pneumothorax. the heart and mediastinum are normal. the skeletal structures are normal. there is mild degenerative changes of the spine.\n",
            "Ground Truth: Less than half the thorax\n",
            "Moondream: 3.4 cm\n",
            "\n",
            "Question: Does the width of the heart exceed more than half of the thorax?\n",
            "Medical Report as reference: the lungs are clear. there is no pleural effusion or pneumothorax. the heart and mediastinum are normal. the skeletal structures are normal. there is mild degenerative changes of the spine.\n",
            "Ground Truth: No\n",
            "Moondream: yes\n",
            "\n",
            "Question: Is a pneumothorax present in this image?\n",
            "Medical Report as reference: the lungs are clear. there is no pleural effusion or pneumothorax. the heart and mediastinum are normal. the skeletal structures are normal. degenerative changes of the spine.\n",
            "Ground Truth: No\n",
            "Moondream: No\n",
            "\n",
            "Question: Do the lung markings extend to the periphery?\n",
            "Medical Report as reference: the lungs are clear. there is no pleural effusion or pneumothorax. the heart and mediastinum are normal. the skeletal structures are normal. degenerative changes of the spine.\n",
            "Ground Truth: Yes\n",
            "Moondream: yes\n",
            "\n",
            "Question: Is there a pneumothorax present?\n",
            "Medical Report as reference: the lungs are clear. there is no pleural effusion or pneumothorax. the heart and mediastinum are normal. the skeletal structures are normal. degenerative changes of the spine.\n",
            "Ground Truth: No\n",
            "Moondream: No\n",
            "\n",
            "Question: Are lung markings present in the entire thoracic cavity?\n",
            "Medical Report as reference: the lungs are clear. there is no pleural effusion or pneumothorax. the heart and mediastinum are normal. the skeletal structures are normal. degenerative changes of the spine.\n",
            "Ground Truth: Yes\n",
            "Moondream: yes\n",
            "\n",
            "Question: What level is the abnormality located at?\n",
            "Medical Report as reference: the lungs are clear. there is no pleural effusion or pneumothorax. the heart and mediastinum are normal. the skeletal structures are normal. there is mild degenerative changes of the spine.\n",
            "Ground Truth: T5\n",
            "Moondream: Bilateral lungs\n",
            "\n",
            "Question: Which ribs are located near the abnormality seen in this image?\n",
            "Medical Report as reference: the lungs are clear. there is no pleural effusion or pneumothorax. the heart and mediastinum are normal. the skeletal structures are normal. there is mild degenerative changes of the spine.\n",
            "Ground Truth: 4th and 5th\n",
            "Moondream: 3rd rib\n",
            "\n",
            "Question: How was this x-ray taken?\n",
            "Medical Report as reference: the lungs are clear. there is no pleural effusion or pneumothorax. the heart and mediastinum are normal. the skeletal structures are normal. the skeletal structures and soft tissues are normal.\n",
            "Ground Truth: PA\n",
            "Moondream: PA\n",
            "\n",
            "Question: Does the heart appear enlarged?\n",
            "Medical Report as reference: heart size within normal limits stable mediastinal and hilar contours. no focal alveolar consolidation no definite pleural effusion seen. no typical findings of pulmonary edema. no pneumothorax.\n",
            "Ground Truth: Yes\n",
            "Moondream: yes\n",
            "\n",
            "Question: Is the heart abnormal?\n",
            "Medical Report as reference: heart size within normal limits stable mediastinal and hilar contours. no focal alveolar consolidation no definite pleural effusion seen. no typical findings of pulmonary edema. no pneumothorax.\n",
            "Ground Truth: Yes\n",
            "Moondream: No\n",
            "\n",
            "Question: What kind of image is this?\n",
            "Medical Report as reference: the heart is normal in size. the mediastinum is unremarkable. the lungs are clear. there is no pleural effusion or pneumothorax. the xxxx are intact.\n",
            "Ground Truth: x-ray\n",
            "Moondream: PA\n",
            "\n",
            "Question: Where does the catheter tip extend into?\n",
            "Medical Report as reference: the heart is normal in size. the mediastinum is unremarkable. the lungs are clear. there is no pleural effusion or pneumothorax. the xxxx are intact.\n",
            "Ground Truth: Right superior cavoatrial junction\n",
            "Moondream: right lower lateral lung field\n",
            "\n",
            "Question: Where is the catheter tip located?\n",
            "Medical Report as reference: the heart is normal in size. the mediastinum is unremarkable. the lungs are clear. there is no pleural effusion or pneumothorax. the xxxx are intact.\n",
            "Ground Truth: Right superior cavoatrial junction\n",
            "Moondream: right side\n",
            "\n",
            "Question: Is the right hemidiaphragm normal?\n",
            "Medical Report as reference: the heart is normal in size. the mediastinum is unremarkable. the lungs are clear. there is no pleural effusion or pneumothorax. the xxxx are intact.\n",
            "Ground Truth: No\n",
            "Moondream: yes\n",
            "\n",
            "Question: Is this a normal x ray?\n",
            "Medical Report as reference: the heart is normal in size. the mediastinum is unremarkable. the lungs are clear. there is no pleural effusion or pneumothorax. the xxxx are intact.\n",
            "Ground Truth: No\n",
            "Moondream: No\n",
            "\n",
            "Question: Which lung is abnormal?\n",
            "Medical Report as reference: the heart is normal in size. the mediastinum is unremarkable. there is no pleural effusion or pneumothorax. there is mild degenerative changes of the spine.\n",
            "Ground Truth: Right lung\n",
            "Moondream: right lung\n",
            "\n",
            "Question: Where is the diffuse pleural thickening?\n",
            "Medical Report as reference: the heart is normal in size. the mediastinum is unremarkable. there is no pleural effusion or pneumothorax. there is mild degenerative changes of the spine.\n",
            "Ground Truth: Right lung\n",
            "Moondream: right side\n",
            "\n",
            "Question: Which sign do you see in the aortopulmonary window in this image?\n",
            "Medical Report as reference: heart size within normal limits stable mediastinal and hilar contours. no focal alveolar consolidation no definite pleural effusion seen. no typical findings of pulmonary edema. no pneumothorax.\n",
            "Ground Truth: middle mogul\n",
            "Moondream: No\n",
            "\n",
            "Question: What characteristic finding do you see in the aortopulmonary window?\n",
            "Medical Report as reference: heart size within normal limits stable mediastinal and hilar contours. no focal alveolar consolidation no definite pleural effusion seen. no typical findings of pulmonary edema. no pneumothorax.\n",
            "Ground Truth: middle mogul\n",
            "Moondream: no\n",
            "\n",
            "Question: How would you describe the aortopulmonary window?\n",
            "Medical Report as reference: heart size within normal limits stable mediastinal and hilar contours. no focal alveolar consolidation no definite pleural effusion seen. no typical findings of pulmonary edema. no pneumothorax.\n",
            "Ground Truth: middle mogul\n",
            "Moondream: Partial silhouetting\n",
            "\n",
            "Question: Is the image study normal?\n",
            "Medical Report as reference: the heart is normal in size. the mediastinum is unremarkable. there is no pleural effusion or pneumothorax. there is mild degenerative changes of the spine.\n",
            "Ground Truth: No\n",
            "Moondream: No\n",
            "\n",
            "Question: Are the lungs normal?\n",
            "Medical Report as reference: the heart is normal in size. the mediastinum is unremarkable. there is no pleural effusion or pneumothorax. there is mild degenerative changes of the spine.\n",
            "Ground Truth: No\n",
            "Moondream: No\n",
            "\n",
            "Question: Why are the breasts asymmetrical?\n",
            "Medical Report as reference: the heart is normal in size. the mediastinum is unremarkable. the lungs are clear. there is no pleural effusion or pneumothorax. the xxxx are intact.\n",
            "Ground Truth: Prior surgery\n",
            "Moondream: no mass\n",
            "\n",
            "Question: What can cause asymmetrical breasts?\n",
            "Medical Report as reference: the heart is normal in size. the mediastinum is unremarkable. the lungs are clear. there is no pleural effusion or pneumothorax. the xxxx are intact.\n",
            "Ground Truth: Prior surgery\n",
            "Moondream: mass\n",
            "\n",
            "Question: What is seen in the lung apices?\n",
            "Medical Report as reference: the heart is normal in size. the mediastinum is unremarkable. the lungs are clear. there is no pleural effusion or pneumothorax. the xxxx are intact.\n",
            "Ground Truth: Nodular opacities\n",
            "Moondream: nodules\n",
            "\n",
            "Question: What abnormalities are in the lung apices?\n",
            "Medical Report as reference: the heart is normal in size. the mediastinum is unremarkable. the lungs are clear. there is no pleural effusion or pneumothorax. the xxxx are intact.\n",
            "Ground Truth: Nodular opacities\n",
            "Moondream: nodules\n",
            "\n",
            "Question: Is the chest x-ray normal?\n",
            "Medical Report as reference: the heart size and pulmonary vascularity appear within normal limits. the lungs are free of focal airspace disease. no pleural effusion or pneumothorax is seen. degenerative changes are present in the spine.\n",
            "Ground Truth: No\n",
            "Moondream: yes\n",
            "\n",
            "Question: Are the lungs normal?\n",
            "Medical Report as reference: the heart size and pulmonary vascularity appear within normal limits. the lungs are free of focal airspace disease. no pleural effusion or pneumothorax is seen. degenerative changes are present in the spine.\n",
            "Ground Truth: No\n",
            "Moondream: No\n",
            "\n",
            "Question: What is finding in the right lung?\n",
            "Medical Report as reference: the heart is normal in size. the mediastinum is unremarkable. there is no pleural effusion or pneumothorax. there is mild degenerative changes of the spine.\n",
            "Ground Truth: Volume loss\n",
            "Moondream: nodules\n",
            "\n",
            "Question: What is happening in the right lung?\n",
            "Medical Report as reference: the heart is normal in size. the mediastinum is unremarkable. there is no pleural effusion or pneumothorax. there is mild degenerative changes of the spine.\n",
            "Ground Truth: Volume loss\n",
            "Moondream: nodules\n",
            "\n",
            "Question: Is the hila normal or enlarged?\n",
            "Medical Report as reference: heart size within normal limits stable mediastinal and hilar contours. no focal alveolar consolidation no definite pleural effusion seen. no typical findings of pulmonary edema. no pneumothorax.\n",
            "Ground Truth: Enlarged\n",
            "Moondream: Normal\n",
            "\n",
            "Question: What is abnormal about the hila?\n",
            "Medical Report as reference: heart size within normal limits stable mediastinal and hilar contours. no focal alveolar consolidation no definite pleural effusion seen. no typical findings of pulmonary edema. no pneumothorax.\n",
            "Ground Truth: Enlarged\n",
            "Moondream: yes\n",
            "\n",
            "Question: Which plane is this image taken?\n",
            "Medical Report as reference: the heart is normal in size. the mediastinum is unremarkable. there is no pleural effusion or pneumothorax. there is mild degenerative changes of the spine.\n",
            "Ground Truth: PA\n",
            "Moondream: coronal\n",
            "\n",
            "Question: Is this a study of the chest?\n",
            "Medical Report as reference: the heart is normal in size. the mediastinum is unremarkable. there is no pleural effusion or pneumothorax. there is mild degenerative changes of the spine.\n",
            "Ground Truth: yes\n",
            "Moondream: yes\n",
            "\n",
            "Question: Which organ system is imaged?\n",
            "Medical Report as reference: the heart is normal in size. the mediastinum is unremarkable. the lungs are clear. there is no pleural effusion or pneumothorax. the xxxx are intact.\n",
            "Ground Truth: Chest\n",
            "Moondream: Cardiac\n",
            "\n",
            "Question: Is this a lateral film?\n",
            "Medical Report as reference: the heart size and pulmonary vascularity appear within normal limits. the lungs are free of focal airspace disease. no pleural effusion or pneumothorax is seen. degenerative changes are present in the spine.\n",
            "Ground Truth: no\n",
            "Moondream: yes\n",
            "\n",
            "Question: What organ is primarily evaluated in this image?\n",
            "Medical Report as reference: the heart size and pulmonary vascularity appear within normal limits. the lungs are free of focal airspace disease. no pleural effusion or pneumothorax is seen. degenerative changes are present in the spine.\n",
            "Ground Truth: Lungs\n",
            "Moondream: cardiomegaly\n",
            "\n",
            "Question: where is the abnormality?\n",
            "Medical Report as reference: the heart is normal in size. the mediastinum is unremarkable. the lungs are clear. there is no pleural effusion or pneumothorax. the xxxx are intact.\n",
            "Ground Truth: Right upper lobe\n",
            "Moondream: right side\n",
            "\n",
            "Question: where is the cavitary lesion?\n",
            "Medical Report as reference: the heart is normal in size. the mediastinum is unremarkable. the lungs are clear. there is no pleural effusion or pneumothorax. the xxxx are intact.\n",
            "Ground Truth: Right upper lobe\n",
            "Moondream: right upper lobe\n",
            "\n",
            "Question: What kind of image is this?\n",
            "Medical Report as reference: the heart size and pulmonary vascularity appear within normal limits. the lungs are free of focal airspace disease. no pleural effusion or pneumothorax is seen. degenerative changes are present in the spine.\n",
            "Ground Truth: Chest x-ray\n",
            "Moondream: x-ray\n",
            "\n",
            "Question: Is this a chest x-ray?\n",
            "Medical Report as reference: the heart is normal in size. the mediastinum is unremarkable. there is no pleural effusion or pneumothorax. there is mild degenerative changes of the spine.\n",
            "Ground Truth: yes\n",
            "Moondream: yes\n",
            "\n",
            "Question: Is the left hemidiaphragm normal?\n",
            "Medical Report as reference: the heart is normal in size. the mediastinum is unremarkable. the lungs are clear. there is no pleural effusion or pneumothorax. the xxxx are intact.\n",
            "Ground Truth: Yes\n",
            "Moondream: yes\n",
            "\n",
            "Question: Is the left hemidiaphragm normal?\n",
            "Medical Report as reference: the heart is normal in size. the mediastinum is unremarkable. the lungs are clear. there is no pleural effusion or pneumothorax. the xxxx are intact.\n",
            "Ground Truth: Yes\n",
            "Moondream: yes\n",
            "\n",
            "Question: Are the lower lung fields normal?\n",
            "Medical Report as reference: the heart is normal in size. the mediastinum is unremarkable. the lungs are clear. there is no pleural effusion or pneumothorax. the xxxx are intact.\n",
            "Ground Truth: yes\n",
            "Moondream: yes\n",
            "\n",
            "Question: Any abnormal findings in the lower lung fields?\n",
            "Medical Report as reference: the heart is normal in size. the mediastinum is unremarkable. the lungs are clear. there is no pleural effusion or pneumothorax. the xxxx are intact.\n",
            "Ground Truth: no\n",
            "Moondream: No\n",
            "\n",
            "Question: Is this in the posterior anterior plane?\n",
            "Medical Report as reference: the heart is normal in size. the mediastinum is unremarkable. the lungs are clear. there is no pleural effusion or pneumothorax. the xxxx are intact.\n",
            "Ground Truth: yes\n",
            "Moondream: yes\n",
            "\n",
            "Question: What is the abnormality by the right hemidiaphragm?\n",
            "Medical Report as reference: the heart is normal in size. the mediastinum is unremarkable. the lungs are clear. there is no pleural effusion or pneumothorax. the xxxx are intact.\n",
            "Ground Truth: Free air\n",
            "Moondream: mass in the right hemidiaphragm\n",
            "\n",
            "Question: What is under the right hemidiaphragm?\n",
            "Medical Report as reference: the heart is normal in size. the mediastinum is unremarkable. the lungs are clear. there is no pleural effusion or pneumothorax. the xxxx are intact.\n",
            "Ground Truth: Free air\n",
            "Moondream: the liver is enlarged with retrocardiac shadowing\n",
            "\n",
            "Question: What abnormalities are seen within the lungs?\n",
            "Medical Report as reference: the heart is normal in size. the mediastinum is unremarkable. the lungs are clear. there is no pleural effusion or pneumothorax. the xxxx are intact.\n",
            "Ground Truth: Pulmonary nodules\n",
            "Moondream: nodules\n",
            "\n",
            "Question: Describe the lung abnormalities?\n",
            "Medical Report as reference: the heart is normal in size. the mediastinum is unremarkable. the lungs are clear. there is no pleural effusion or pneumothorax. the xxxx are intact.\n",
            "Ground Truth: Pulmonary nodules\n",
            "Moondream: nodules\n",
            "\n",
            "Question: are the heart and lungs displayed well in this film\n",
            "Medical Report as reference: the heart size and pulmonary vascularity appear within normal limits. the lungs are free of focal airspace disease. no pleural effusion or pneumothorax is seen. degenerative changes are present in the spine.\n",
            "Ground Truth: yes\n",
            "Moondream: yes\n",
            "\n",
            "Question: is the lung parenchyma well visualized?\n",
            "Medical Report as reference: the lungs are clear. there is no pleural effusion or pneumothorax. the heart and mediastinum are normal. the skeletal structures are normal. the skeletal structures and soft tissues are normal.\n",
            "Ground Truth: yes\n",
            "Moondream: yes\n",
            "\n",
            "Question: Is there no evidence of blunting of the costophrenic angles?\n",
            "Medical Report as reference: the heart is normal in size. the mediastinum is unremarkable. the lungs are clear. there is no pleural effusion or pneumothorax. the xxxx are intact.\n",
            "Ground Truth: yes\n",
            "Moondream: yes\n",
            "\n",
            "Question: Are the costophrenic angles sharp?\n",
            "Medical Report as reference: the heart is normal in size. the mediastinum is unremarkable. the lungs are clear. there is no pleural effusion or pneumothorax. the xxxx are intact.\n",
            "Ground Truth: yes\n",
            "Moondream: yes\n",
            "\n",
            "Question: Is the left lung field more white?\n",
            "Medical Report as reference: the heart size and pulmonary vascularity appear within normal limits. the lungs are free of focal airspace disease. no pleural effusion or pneumothorax is seen. degenerative changes are present in the spine.\n",
            "Ground Truth: yes\n",
            "Moondream: yes\n",
            "\n",
            "Question: Is the left lung field more radioopaque than the right side?\n",
            "Medical Report as reference: the heart size and pulmonary vascularity appear within normal limits. the lungs are free of focal airspace disease. no pleural effusion or pneumothorax is seen. degenerative changes are present in the spine.\n",
            "Ground Truth: yes\n",
            "Moondream: yes\n",
            "\n",
            "Question: Is there a mediastinal shift?\n",
            "Medical Report as reference: the heart is normal in size. the mediastinum is unremarkable. the lungs are clear. there is no pleural effusion or pneumothorax. the skeletal structures are normal.\n",
            "Ground Truth: No\n",
            "Moondream: No\n",
            "\n",
            "Question: Has the midline of the mediastinum shifted?\n",
            "Medical Report as reference: the heart is normal in size. the mediastinum is unremarkable. the lungs are clear. there is no pleural effusion or pneumothorax. the skeletal structures are normal.\n",
            "Ground Truth: No\n",
            "Moondream: No\n",
            "\n",
            "Question: Is the outline of visceral pleura visible in the upper left lung field?\n",
            "Medical Report as reference: the heart is normal in size. the mediastinum is unremarkable. the lungs are clear. there is no pleural effusion or pneumothorax. the skeletal structures are normal.\n",
            "Ground Truth: Yes\n",
            "Moondream: yes\n",
            "\n",
            "Question: Is there a left apical pneumothorax?\n",
            "Medical Report as reference: the heart is normal in size. the mediastinum is unremarkable. the lungs are clear. there is no pleural effusion or pneumothorax. the skeletal structures are normal.\n",
            "Ground Truth: Yes\n",
            "Moondream: No\n",
            "\n",
            "Question: Is there blunting of the left costophrenic angle?\n",
            "Medical Report as reference: the heart size and pulmonary vascularity appear within normal limits. the lungs are free of focal airspace disease. no pleural effusion or pneumothorax is seen. degenerative changes are present in the spine.\n",
            "Ground Truth: yes\n",
            "Moondream: yes\n",
            "\n",
            "Question: is it difficult to delineate the left costophrenic angle?\n",
            "Medical Report as reference: the heart size and pulmonary vascularity appear within normal limits. the lungs are free of focal airspace disease. no pleural effusion or pneumothorax is seen. degenerative changes are present in the spine.\n",
            "Ground Truth: yes\n",
            "Moondream: yes\n",
            "\n",
            "Question: Is the cardiac silhouette less than half the lateral diameter of the chest wall?\n",
            "Medical Report as reference: the lungs are clear. there is no pleural effusion or pneumothorax. the heart and mediastinum are normal. the skeletal structures are normal. the skeletal structures and soft tissues are normal.\n",
            "Ground Truth: Yes\n",
            "Moondream: yes\n",
            "\n",
            "Question: Is the cardiac contour normal?\n",
            "Medical Report as reference: the lungs are clear. there is no pleural effusion or pneumothorax. the heart and mediastinum are normal. the skeletal structures are normal. the skeletal structures and soft tissues are normal.\n",
            "Ground Truth: Yes\n",
            "Moondream: yes\n",
            "\n",
            "Question: Is there enlargement of the pulmonary vasculature?\n",
            "Medical Report as reference: the heart size and pulmonary vascularity appear within normal limits. the lungs are free of focal airspace disease. no pleural effusion or pneumothorax is seen. degenerative changes are present in the spine.\n",
            "Ground Truth: no\n",
            "Moondream: yes\n",
            "\n",
            "Question: is there evidence of pulmonary edema?\n",
            "Medical Report as reference: the heart size and pulmonary vascularity appear within normal limits. the lungs are free of focal airspace disease. no pleural effusion or pneumothorax is seen. degenerative changes are present in the spine.\n",
            "Ground Truth: no\n",
            "Moondream: yes\n",
            "\n",
            "Question: Are any of the patient's ribs fractured?\n",
            "Medical Report as reference: the heart is normal in size. the mediastinum is unremarkable. the lungs are clear. there is no pleural effusion or pneumothorax. the xxxx are intact.\n",
            "Ground Truth: No\n",
            "Moondream: No\n",
            "\n",
            "Question: Are there any fractures in any of the ribs?\n",
            "Medical Report as reference: the heart is normal in size. the mediastinum is unremarkable. the lungs are clear. there is no pleural effusion or pneumothorax. the xxxx are intact.\n",
            "Ground Truth: No\n",
            "Moondream: No\n",
            "\n",
            "Question: is the cardiac silhouette small/stretched\n",
            "Medical Report as reference: the lungs are clear. there is no pleural effusion or pneumothorax. the heart and mediastinum are normal. the skeletal structures are normal. the skeletal structures and soft tissues are normal.\n",
            "Ground Truth: Yes\n",
            "Moondream: yes\n",
            "\n",
            "Question: Is there narrowing of the cardiac contour?\n",
            "Medical Report as reference: the lungs are clear. there is no pleural effusion or pneumothorax. the heart and mediastinum are normal. the skeletal structures are normal. the skeletal structures and soft tissues are normal.\n",
            "Ground Truth: Yes\n",
            "Moondream: yes\n",
            "\n",
            "Question: Is a pneumothorax present near the right lung field?\n",
            "Medical Report as reference: the lungs are clear. there is no pleural effusion or pneumothorax. the heart and mediastinum are normal. the skeletal structures are normal. the skeletal structures and soft tissues are normal.\n",
            "Ground Truth: Yes\n",
            "Moondream: No\n",
            "\n",
            "Question: Is there evidence of a right apical pneumothorax on this chest x-ray?\n",
            "Medical Report as reference: the lungs are clear. there is no pleural effusion or pneumothorax. the heart and mediastinum are normal. the skeletal structures are normal. the skeletal structures and soft tissues are normal.\n",
            "Ground Truth: Yes\n",
            "Moondream: No\n",
            "\n",
            "Question: Is the cardiac silhouette within normal size limits?\n",
            "Medical Report as reference: the lungs are clear. there is no pleural effusion or pneumothorax. the heart and mediastinal contours are within normal limits. there is no focal air space opacity to suggest a pneumonia.\n",
            "Ground Truth: Yes\n",
            "Moondream: yes\n",
            "\n",
            "Question: Is the cardiac silhouette less than half the diameter of the diaphragm?\n",
            "Medical Report as reference: the lungs are clear. there is no pleural effusion or pneumothorax. the heart and mediastinal contours are within normal limits. there is no focal air space opacity to suggest a pneumonia.\n",
            "Ground Truth: Yes\n",
            "Moondream: yes\n",
            "\n",
            "Question: is there evidence of intraparenchymal lung nodules?\n",
            "Medical Report as reference: the lungs are clear. there is no pleural effusion or pneumothorax. the heart and mediastinum are normal. the skeletal structures are normal. the skeletal structures and soft tissues are normal.\n",
            "Ground Truth: No\n",
            "Moondream: yes\n",
            "\n",
            "Question: Are lung opacities noted?\n",
            "Medical Report as reference: the lungs are clear. there is no pleural effusion or pneumothorax. the heart and mediastinum are normal. the skeletal structures are normal. the skeletal structures and soft tissues are normal.\n",
            "Ground Truth: No\n",
            "Moondream: yes\n",
            "\n",
            "Question: was this chest x ray taken in PA format?\n",
            "Medical Report as reference: the heart size and pulmonary vascularity appear within normal limits. the lungs are free of focal airspace disease. no pleural effusion or pneumothorax is seen. degenerative changes are present in the spine.\n",
            "Ground Truth: yes\n",
            "Moondream: yes\n",
            "\n",
            "Question: Is the descending aortic silhouette of normal size?\n",
            "Medical Report as reference: the lungs are clear. there is no pleural effusion or pneumothorax. the heart and mediastinal contours are within normal limits. there is no focal air space opacity to suggest a pneumonia.\n",
            "Ground Truth: Yes\n",
            "Moondream: yes\n",
            "\n",
            "Question: Is the descending aortic silhouette of normal size?\n",
            "Medical Report as reference: the lungs are clear. there is no pleural effusion or pneumothorax. the heart and mediastinal contours are within normal limits. there is no focal air space opacity to suggest a pneumonia.\n",
            "Ground Truth: Yes\n",
            "Moondream: yes\n",
            "\n",
            "Question: Is there tortuosity of the descending aorta?\n",
            "Medical Report as reference: the lungs are clear. there is no pleural effusion or pneumothorax. the heart and mediastinal contours are within normal limits. there is no focal air space opacity to suggest a pneumonia.\n",
            "Ground Truth: Yes\n",
            "Moondream: No\n",
            "\n",
            "Question: Is the descending aortic silhouette of normal contour and size?\n",
            "Medical Report as reference: the lungs are clear. there is no pleural effusion or pneumothorax. the heart and mediastinal contours are within normal limits. there is no focal air space opacity to suggest a pneumonia.\n",
            "Ground Truth: Yes\n",
            "Moondream: yes\n",
            "\n",
            "Question: Is the descending aortic silhouette of normal contour?\n",
            "Medical Report as reference: the lungs are clear. there is no pleural effusion or pneumothorax. the heart and mediastinal contours are within normal limits. there is no focal air space opacity to suggest a pneumonia.\n",
            "Ground Truth: Yes\n",
            "Moondream: yes\n",
            "\n",
            "Question: Are the soft tissue densities in the left hilum equivalent in size to the soft tissue densities in the right hilum?\n",
            "Medical Report as reference: the heart is normal in size. the mediastinum is unremarkable. the lungs are clear. there is no pleural effusion or pneumothorax. the xxxx are intact.\n",
            "Ground Truth: no\n",
            "Moondream: yes\n",
            "\n",
            "Question: Are the hilar soft tissue densities symmetric?\n",
            "Medical Report as reference: the heart is normal in size. the mediastinum is unremarkable. the lungs are clear. there is no pleural effusion or pneumothorax. the xxxx are intact.\n",
            "Ground Truth: no\n",
            "Moondream: yes\n",
            "\n",
            "Question: was this taken in PA position?\n",
            "Medical Report as reference: the lungs are clear. there is no pleural effusion or pneumothorax. the heart and mediastinum are normal. the skeletal structures are normal. the skeletal structures and soft tissues are normal.\n",
            "Ground Truth: yes\n",
            "Moondream: yes\n",
            "\n",
            "Question: Are there at least 8 ribs visible for good inspiratory effort?\n",
            "Medical Report as reference: the heart is normal in size. the mediastinum is unremarkable. there is no pleural effusion or pneumothorax. there is mild degenerative changes of the spine.\n",
            "Ground Truth: Yes\n",
            "Moondream: yes\n",
            "\n",
            "Question: Are there >8 ribs shown in this image?\n",
            "Medical Report as reference: the heart is normal in size. the mediastinum is unremarkable. there is no pleural effusion or pneumothorax. there is mild degenerative changes of the spine.\n",
            "Ground Truth: Yes\n",
            "Moondream: yes\n",
            "\n",
            "Question: was this taken with good x ray penetration\n",
            "Medical Report as reference: the lungs are clear. there is no pleural effusion or pneumothorax. the heart and mediastinum are normal. the skeletal structures are normal. the skeletal structures and soft tissues are normal.\n",
            "Ground Truth: yes\n",
            "Moondream: yes\n",
            "\n",
            "Question: was the patient positioned appropriately \twithout tilting?\n",
            "Medical Report as reference: the heart size and pulmonary vascularity appear within normal limits. the lungs are free of focal airspace disease. no pleural effusion or pneumothorax is seen. degenerative changes are present in the spine.\n",
            "Ground Truth: yes\n",
            "Moondream: yes\n",
            "\n",
            "Question: Is there evidence of any abnormalities of the lung parenchyma?\n",
            "Medical Report as reference: the heart is normal in size. the mediastinum is unremarkable. there is no pleural effusion or pneumothorax. there is mild degenerative changes of the spine.\n",
            "Ground Truth: No\n",
            "Moondream: yes\n",
            "\n",
            "Question: Is there any intraparenchymal abnormalities in the lung fields?\n",
            "Medical Report as reference: the heart is normal in size. the mediastinum is unremarkable. there is no pleural effusion or pneumothorax. there is mild degenerative changes of the spine.\n",
            "Ground Truth: No\n",
            "Moondream: yes\n",
            "\n",
            "Question: Is there evidence of any fractures of the ribs?\n",
            "Medical Report as reference: the heart is normal in size. the mediastinum is unremarkable. there is no pleural effusion or pneumothorax. there is mild degenerative changes of the spine.\n",
            "Ground Truth: No\n",
            "Moondream: No\n",
            "\n",
            "Question: Is there a rib fracture?\n",
            "Medical Report as reference: the heart is normal in size. the mediastinum is unremarkable. there is no pleural effusion or pneumothorax. there is mild degenerative changes of the spine.\n",
            "Ground Truth: No\n",
            "Moondream: No\n",
            "\n",
            "Question: does this represent adequate inspiratory effort?\n",
            "Medical Report as reference: the lungs are clear. there is no pleural effusion or pneumothorax. the heart and mediastinum are normal. the skeletal structures are normal. the skeletal structures and soft tissues are normal.\n",
            "Ground Truth: Yes\n",
            "Moondream: yes\n",
            "\n",
            "Question: Are >12 ribs present in the image?\n",
            "Medical Report as reference: the lungs are clear. there is no pleural effusion or pneumothorax. the heart and mediastinum are normal. the skeletal structures are normal. the skeletal structures and soft tissues are normal.\n",
            "Ground Truth: Yes\n",
            "Moondream: yes\n",
            "\n",
            "Question: Is this an anterior-posterior image\n",
            "Medical Report as reference: the lungs are clear. there is no pleural effusion or pneumothorax. the heart and mediastinal contours are normal. there is no focal air space opacity to suggest a pneumonia.\n",
            "Ground Truth: no\n",
            "Moondream: yes\n",
            "\n",
            "Question: What type of image is this?\n",
            "Medical Report as reference: the lungs are clear. there is no pleural effusion or pneumothorax. the heart and mediastinal contours are normal. there is no focal air space opacity to suggest a pneumonia.\n",
            "Ground Truth: Chest X-ray\n",
            "Moondream: cardiomegaly\n",
            "\n",
            "Question: Is there air under the diaphragm?\n",
            "Medical Report as reference: the heart is normal in size. the mediastinum is unremarkable. the lungs are clear. there is no pleural effusion or pneumothorax. the xxxx are intact.\n",
            "Ground Truth: No\n",
            "Moondream: No\n",
            "\n",
            "Question: Is there cardiomyopathy?\n",
            "Medical Report as reference: the lungs are clear. there is no pleural effusion or pneumothorax. the heart and mediastinal contours are normal. there is no focal air space opacity to suggest a pneumonia.\n",
            "Ground Truth: yes\n",
            "Moondream: No\n",
            "\n",
            "Question: Is this an anterior posterior image?\n",
            "Medical Report as reference: the heart is normal in size. the mediastinum is unremarkable. the lungs are clear. there is no pleural effusion or pneumothorax. the xxxx are intact.\n",
            "Ground Truth: no\n",
            "Moondream: yes\n",
            "\n",
            "Question: How is the patient oriented?\n",
            "Medical Report as reference: the heart is normal in size. the mediastinum is unremarkable. the lungs are clear. there is no pleural effusion or pneumothorax. the xxxx are intact.\n",
            "Ground Truth: Posterior-Anterior\n",
            "Moondream: PA\n",
            "\n",
            "Question: Is there a fracture?\n",
            "Medical Report as reference: the heart is normal in size. the mediastinum is unremarkable. the lungs are clear. there is no pleural effusion or pneumothorax. the xxxx are intact.\n",
            "Ground Truth: no\n",
            "Moondream: No\n",
            "\n",
            "Question: Is there a pneumothorax?\n",
            "Medical Report as reference: the lungs are clear. there is no pleural effusion or pneumothorax. the heart and mediastinal contours are normal. there is no focal air space opacity to suggest a pneumonia.\n",
            "Ground Truth: no\n",
            "Moondream: No\n",
            "\n",
            "Question: Is there airspace consolidation on the left side?\n",
            "Medical Report as reference: the heart is normal in size. the mediastinum is unremarkable. the lungs are clear. there is no pleural effusion or pneumothorax. the xxxx are intact.\n",
            "Ground Truth: Yes\n",
            "Moondream: yes\n",
            "\n",
            "Question: Which organ system is abnormal in this image?\n",
            "Medical Report as reference: the lungs are clear. there is no pleural effusion or pneumothorax. the heart and mediastinal contours are normal. there is no focal air space opacity to suggest a pneumonia.\n",
            "Ground Truth: Cardiovascular\n",
            "Moondream: cardiopulmonary\n",
            "\n",
            "Question: Is there evidence of an aortic aneurysm?\n",
            "Medical Report as reference: the lungs are clear. there is no pleural effusion or pneumothorax. the heart and mediastinal contours are normal. there is no focal air space opacity to suggest a pneumonia.\n",
            "Ground Truth: yes\n",
            "Moondream: No\n",
            "\n",
            "Question: Is there blunting of the costovertebral angles?\n",
            "Medical Report as reference: the heart is normal in size. the mediastinum is unremarkable. the lungs are clear. there is no pleural effusion or pneumothorax. the xxxx are intact.\n",
            "Ground Truth: No\n",
            "Moondream: yes\n",
            "\n",
            "Question: Is there evidence of an aortic aneurysm?\n",
            "Medical Report as reference: the heart is normal in size. the mediastinum is unremarkable. the lungs are clear. there is no pleural effusion or pneumothorax. the xxxx are intact.\n",
            "Ground Truth: No\n",
            "Moondream: No\n",
            "\n",
            "Question: Is the trachea midline?\n",
            "Medical Report as reference: the heart is normal in size. the mediastinum is unremarkable. the lungs are clear. there is no pleural effusion or pneumothorax. the xxxx are intact.\n",
            "Ground Truth: yes\n",
            "Moondream: yes\n",
            "\n",
            "Question: What is not pictured in this image?\n",
            "Medical Report as reference: the heart is normal in size. the mediastinum is unremarkable. the lungs are clear. there is no pleural effusion or pneumothorax. the xxxx are intact.\n",
            "Ground Truth: The extremities\n",
            "Moondream: yes\n",
            "\n",
            "Question: Is this a MRI of the chest?\n",
            "Medical Report as reference: the heart is normal in size. the mediastinum is unremarkable. the lungs are clear. there is no pleural effusion or pneumothorax. the xxxx are intact.\n",
            "Ground Truth: no\n",
            "Moondream: yes\n",
            "\n",
            "Question: What type of imaging does this not represent?\n",
            "Medical Report as reference: the heart is normal in size. the mediastinum is unremarkable. the lungs are clear. there is no pleural effusion or pneumothorax. the xxxx are intact.\n",
            "Ground Truth: ultrasound\n",
            "Moondream: plain film\n",
            "\n",
            "Question: Is there evidence of a pneumothorax\n",
            "Medical Report as reference: the heart is normal in size. the mediastinum is unremarkable. the lungs are clear. there is no pleural effusion or pneumothorax. the xxxx are intact.\n",
            "Ground Truth: No\n",
            "Moondream: No\n",
            "\n",
            "Question: Are the lungs normal appearing?\n",
            "Medical Report as reference: the heart is normal in size. the mediastinum is unremarkable. the lungs are clear. there is no pleural effusion or pneumothorax. the xxxx are intact.\n",
            "Ground Truth: No\n",
            "Moondream: yes\n",
            "\n"
          ]
        }
      ]
    },
    {
      "cell_type": "code",
      "source": [
        "#Perform analysis of Experiment 4\n",
        "#Calculate SBERT Similarity Score, METEOR Score, and F1 Score\n",
        "\n",
        "sbert_model = SentenceTransformer('sentence-transformers/all-MiniLM-L6-v2')\n",
        "total_sim_score = 0\n",
        "\n",
        "binary_answer_ground_truth = []\n",
        "binary_answer_vlm = []\n",
        "binary_answers = [\"yes\", \"no\"]\n",
        "\n",
        "total_meteor_score = 0\n",
        "\n",
        "for entry in ft_results_with_reports.keys():\n",
        "  ground_truth = ft_results_with_reports[entry][1]\n",
        "  vlm_prediction = ft_results_with_reports[entry][2]\n",
        "\n",
        "  #Check if question has binary answer (ie a close ended question) and if so, keep track of ground truth and VLM answers\n",
        "  if ground_truth.lower() in binary_answers and vlm_prediction.lower() in binary_answers:\n",
        "    binary_answer_ground_truth.append(ground_truth.lower())\n",
        "    binary_answer_vlm.append(vlm_prediction.lower())\n",
        "\n",
        "  #If answer is incorrect, count similarity as zero manually becasue Sentence Bert does not always think yes is orthogonal to no\n",
        "  if ground_truth.lower() == \"yes\" and vlm_prediction.lower() == \"no\" or ground_truth.lower() == \"no\" and vlm_prediction.lower() == \"yes\":\n",
        "    sim_score = 0\n",
        "\n",
        "  else:\n",
        "    #SBERT Score\n",
        "    ground_truth_embedding = sbert_model.encode(ground_truth)\n",
        "    vlm_prediction_embedding = sbert_model.encode(vlm_prediction)\n",
        "    sim_score = sbert_model.similarity(ground_truth_embedding, vlm_prediction_embedding).item() #returns Tensor so call .item()\n",
        "\n",
        "    #METEOR Score\n",
        "    meteor_score_with = meteor_score([nltk.word_tokenize(ground_truth.lower())], nltk.word_tokenize(vlm_prediction.lower()))\n",
        "    total_meteor_score += meteor_score_with\n",
        "\n",
        "  total_sim_score += sim_score\n",
        "\n",
        "#Display Final Results for Experiment 4\n",
        "avg_sim_score_with = round(total_sim_score / len(ft_results_without_reports), 2)\n",
        "print(f\"Average Similarity Score With FT with Reports: {avg_sim_score_with}\")\n",
        "\n",
        "avg_meteor_score_with = round(total_meteor_score / len(ft_results_without_reports), 2)\n",
        "print(f\"Average METEOR Score With FT with Reports: {avg_meteor_score_with}\")\n",
        "\n",
        "binary_f1_score = round(f1_score(binary_answer_ground_truth, binary_answer_vlm, average=\"binary\", pos_label=\"yes\"), 2)\n",
        "print(f\"Binary F1 Score: {binary_f1_score}\")"
      ],
      "metadata": {
        "colab": {
          "base_uri": "https://localhost:8080/"
        },
        "id": "vOkgFWlyJTWs",
        "outputId": "4aa00ef4-44bd-48bf-881d-b5526cdc3312"
      },
      "execution_count": null,
      "outputs": [
        {
          "output_type": "stream",
          "name": "stderr",
          "text": [
            "/usr/local/lib/python3.10/dist-packages/transformers/tokenization_utils_base.py:1601: FutureWarning: `clean_up_tokenization_spaces` was not set. It will be set to `True` by default. This behavior will be depracted in transformers v4.45, and will be then set to `False` by default. For more details check this issue: https://github.com/huggingface/transformers/issues/31884\n",
            "  warnings.warn(\n"
          ]
        },
        {
          "output_type": "stream",
          "name": "stdout",
          "text": [
            "Average Similarity Score With FT with Reports: 0.61\n",
            "Average METEOR Score With FT with Reports: 0.28\n",
            "Binary F1 Score: 0.75\n"
          ]
        }
      ]
    },
    {
      "cell_type": "code",
      "source": [
        "torch.cuda.empty_cache()"
      ],
      "metadata": {
        "id": "mKtZX-XJwxkV"
      },
      "execution_count": null,
      "outputs": []
    },
    {
      "cell_type": "code",
      "source": [
        "!pip freeze > Stage2B_MVQA_VLM.txt"
      ],
      "metadata": {
        "id": "mMqoa70erCxR"
      },
      "execution_count": 1,
      "outputs": []
    }
  ]
}